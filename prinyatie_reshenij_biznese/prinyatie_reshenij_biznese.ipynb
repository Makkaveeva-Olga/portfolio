{
 "cells": [
  {
   "cell_type": "markdown",
   "metadata": {},
   "source": [
    "# Принятие решений в бизнесе "
   ]
  },
  {
   "cell_type": "markdown",
   "metadata": {},
   "source": [
    "<div  style=\"border-radius: 10px; box-shadow: 2px 2px 2px; border: 1px solid; padding: 10px \">\n",
    "    \n",
    "**Описание проекта:**\n",
    "\n",
    "Вы — аналитик крупного интернет-магазина. Вместе с отделом маркетинга вы подготовили список гипотез для увеличения выручки.\n",
    "Приоритизируйте гипотезы, запустите A/B-тест и проанализируйте результаты. \n",
    "</div>"
   ]
  },
  {
   "cell_type": "markdown",
   "metadata": {},
   "source": [
    "<div  style=\"border-radius: 10px; box-shadow: 2px 2px 2px; border: 1px solid; padding: 10px \">\n",
    "    \n",
    "**Описание данных:**\n",
    "\n",
    "Файл /datasets/hypothesis.csv. \n",
    "* Hypothesis — краткое описание гипотезы;\n",
    "* Reach — охват пользователей по 10-балльной шкале;\n",
    "* Impact — влияние на пользователей по 10-балльной шкале;\n",
    "* Confidence — уверенность в гипотезе по 10-балльной шкале;\n",
    "* Efforts — затраты ресурсов на проверку гипотезы по 10-балльной шкале. Чем больше значение Efforts, тем дороже проверка гипотезы.\n",
    "\n",
    "Файл /datasets/orders.csv. \n",
    "* transactionId — идентификатор заказа;\n",
    "* visitorId — идентификатор пользователя, совершившего заказ;\n",
    "* date — дата, когда был совершён заказ;\n",
    "* revenue — выручка заказа;\n",
    "*group — группа A/B-теста, в которую попал заказ.\n",
    "\n",
    "Файл /datasets/visitors.csv. \n",
    "* date — дата;\n",
    "* group — группа A/B-теста;\n",
    "* visitors — количество пользователей в указанную дату в указанной группе A/B-теста\n",
    "</div>"
   ]
  },
  {
   "cell_type": "markdown",
   "metadata": {},
   "source": [
    "<div  style=\"border-radius: 10px; box-shadow: 2px 2px 2px; border: 1px solid; padding: 10px \">\n",
    "    \n",
    "**План работы**\n",
    "    \n",
    "1. Загрузка данных и изучение данных  \n",
    "2. Приоритизация гипотез  \n",
    "3. Анализ A/B-теста  \n",
    "    3.1. Построем график кумулятивной выручки по группам  \n",
    "    3.2. Построем график кумулятивного среднего чека по группам.  \n",
    "    3.3. Построем график относительного изменения кумулятивного среднего чека группы B к группе A  \n",
    "    3.4. Построем график кумулятивного среднего количества заказов на посетителя по группам  \n",
    "    3.5. Построем график относительного изменения кумулятивного среднего количества заказов на посетителя группы B к группе A  \n",
    "    3.6. Построем точечный график количества заказов по пользователям\n",
    "    3.7. Посчитаем 95-й и 99-й перцентили количества заказов на пользователя  \n",
    "    3.8. Построем точечный график стоимостей заказов.  \n",
    "    3.9. Посчитаем 95-й и 99-й перцентили стоимости заказов. Выберите границу для определения аномальных заказов  \n",
    "    3.10. Посчитаем статистическую значимость различий в среднем количестве заказов на посетителя между группами между группами по «сырым» данным  \n",
    "    3.11.  Посчитаем статистическую значимость различий в среднем чеке заказа между группами по «сырым» данным  \n",
    "    3.12. Посчитаем статистическую значимость различий в среднем количестве заказов на посетителя между группами между группами по «очищенным» данным  \n",
    "    3.13. Посчитаем статистическую значимость различий в среднем чеке заказа между группами по «очищенным» данным\n",
    "4. Общтй вывод\n",
    "</div>\n",
    "\n"
   ]
  },
  {
   "cell_type": "markdown",
   "metadata": {},
   "source": [
    "## 1. Загрузка данных и изучение данных"
   ]
  },
  {
   "cell_type": "code",
   "execution_count": 69,
   "metadata": {},
   "outputs": [],
   "source": [
    "import pandas as pd\n",
    "import datetime as dt\n",
    "import numpy as np\n",
    "import matplotlib.pyplot as plt\n",
    "from pandas.plotting import register_matplotlib_converters\n",
    "import warnings\n",
    "import scipy.stats as stats\n",
    "# конвертеры, которые позволяют использовать типы pandas в matplotlib  \n",
    "register_matplotlib_converters()"
   ]
  },
  {
   "cell_type": "code",
   "execution_count": 70,
   "metadata": {
    "scrolled": false
   },
   "outputs": [
    {
     "data": {
      "text/html": [
       "<div>\n",
       "<style scoped>\n",
       "    .dataframe tbody tr th:only-of-type {\n",
       "        vertical-align: middle;\n",
       "    }\n",
       "\n",
       "    .dataframe tbody tr th {\n",
       "        vertical-align: top;\n",
       "    }\n",
       "\n",
       "    .dataframe thead th {\n",
       "        text-align: right;\n",
       "    }\n",
       "</style>\n",
       "<table border=\"1\" class=\"dataframe\">\n",
       "  <thead>\n",
       "    <tr style=\"text-align: right;\">\n",
       "      <th></th>\n",
       "      <th>Hypothesis</th>\n",
       "      <th>Reach</th>\n",
       "      <th>Impact</th>\n",
       "      <th>Confidence</th>\n",
       "      <th>Efforts</th>\n",
       "    </tr>\n",
       "  </thead>\n",
       "  <tbody>\n",
       "    <tr>\n",
       "      <th>0</th>\n",
       "      <td>Добавить два новых канала привлечения трафика, что позволит привлекать на 30% больше пользователей</td>\n",
       "      <td>3</td>\n",
       "      <td>10</td>\n",
       "      <td>8</td>\n",
       "      <td>6</td>\n",
       "    </tr>\n",
       "    <tr>\n",
       "      <th>1</th>\n",
       "      <td>Запустить собственную службу доставки, что сократит срок доставки заказов</td>\n",
       "      <td>2</td>\n",
       "      <td>5</td>\n",
       "      <td>4</td>\n",
       "      <td>10</td>\n",
       "    </tr>\n",
       "    <tr>\n",
       "      <th>2</th>\n",
       "      <td>Добавить блоки рекомендаций товаров на сайт интернет магазина, чтобы повысить конверсию и средний чек заказа</td>\n",
       "      <td>8</td>\n",
       "      <td>3</td>\n",
       "      <td>7</td>\n",
       "      <td>3</td>\n",
       "    </tr>\n",
       "    <tr>\n",
       "      <th>3</th>\n",
       "      <td>Изменить структура категорий, что увеличит конверсию, т.к. пользователи быстрее найдут нужный товар</td>\n",
       "      <td>8</td>\n",
       "      <td>3</td>\n",
       "      <td>3</td>\n",
       "      <td>8</td>\n",
       "    </tr>\n",
       "    <tr>\n",
       "      <th>4</th>\n",
       "      <td>Изменить цвет фона главной страницы, чтобы увеличить вовлеченность пользователей</td>\n",
       "      <td>3</td>\n",
       "      <td>1</td>\n",
       "      <td>1</td>\n",
       "      <td>1</td>\n",
       "    </tr>\n",
       "  </tbody>\n",
       "</table>\n",
       "</div>"
      ],
      "text/plain": [
       "                                                                                                     Hypothesis  \\\n",
       "0            Добавить два новых канала привлечения трафика, что позволит привлекать на 30% больше пользователей   \n",
       "1                                     Запустить собственную службу доставки, что сократит срок доставки заказов   \n",
       "2  Добавить блоки рекомендаций товаров на сайт интернет магазина, чтобы повысить конверсию и средний чек заказа   \n",
       "3           Изменить структура категорий, что увеличит конверсию, т.к. пользователи быстрее найдут нужный товар   \n",
       "4                              Изменить цвет фона главной страницы, чтобы увеличить вовлеченность пользователей   \n",
       "\n",
       "   Reach  Impact  Confidence  Efforts  \n",
       "0      3      10           8        6  \n",
       "1      2       5           4       10  \n",
       "2      8       3           7        3  \n",
       "3      8       3           3        8  \n",
       "4      3       1           1        1  "
      ]
     },
     "metadata": {},
     "output_type": "display_data"
    },
    {
     "data": {
      "text/plain": [
       "(9, 5)"
      ]
     },
     "metadata": {},
     "output_type": "display_data"
    }
   ],
   "source": [
    "# cчитаем CSV-файлы с данными\n",
    "\n",
    "try:\n",
    "    hypothesis = pd.read_csv('https://code.s3.yandex.net/datasets/hypothesis.csv')\n",
    "except:\n",
    "    hypothesis = pd.read_csv('/datasets/hypothesis.csv')\n",
    "\n",
    "display(hypothesis.head(5))\n",
    "display(hypothesis.shape)"
   ]
  },
  {
   "cell_type": "code",
   "execution_count": 71,
   "metadata": {},
   "outputs": [
    {
     "data": {
      "text/html": [
       "<div>\n",
       "<style scoped>\n",
       "    .dataframe tbody tr th:only-of-type {\n",
       "        vertical-align: middle;\n",
       "    }\n",
       "\n",
       "    .dataframe tbody tr th {\n",
       "        vertical-align: top;\n",
       "    }\n",
       "\n",
       "    .dataframe thead th {\n",
       "        text-align: right;\n",
       "    }\n",
       "</style>\n",
       "<table border=\"1\" class=\"dataframe\">\n",
       "  <thead>\n",
       "    <tr style=\"text-align: right;\">\n",
       "      <th></th>\n",
       "      <th>transactionId</th>\n",
       "      <th>visitorId</th>\n",
       "      <th>date</th>\n",
       "      <th>revenue</th>\n",
       "      <th>group</th>\n",
       "    </tr>\n",
       "  </thead>\n",
       "  <tbody>\n",
       "    <tr>\n",
       "      <th>0</th>\n",
       "      <td>3667963787</td>\n",
       "      <td>3312258926</td>\n",
       "      <td>2019-08-15</td>\n",
       "      <td>1650</td>\n",
       "      <td>B</td>\n",
       "    </tr>\n",
       "    <tr>\n",
       "      <th>1</th>\n",
       "      <td>2804400009</td>\n",
       "      <td>3642806036</td>\n",
       "      <td>2019-08-15</td>\n",
       "      <td>730</td>\n",
       "      <td>B</td>\n",
       "    </tr>\n",
       "    <tr>\n",
       "      <th>2</th>\n",
       "      <td>2961555356</td>\n",
       "      <td>4069496402</td>\n",
       "      <td>2019-08-15</td>\n",
       "      <td>400</td>\n",
       "      <td>A</td>\n",
       "    </tr>\n",
       "    <tr>\n",
       "      <th>3</th>\n",
       "      <td>3797467345</td>\n",
       "      <td>1196621759</td>\n",
       "      <td>2019-08-15</td>\n",
       "      <td>9759</td>\n",
       "      <td>B</td>\n",
       "    </tr>\n",
       "    <tr>\n",
       "      <th>4</th>\n",
       "      <td>2282983706</td>\n",
       "      <td>2322279887</td>\n",
       "      <td>2019-08-15</td>\n",
       "      <td>2308</td>\n",
       "      <td>B</td>\n",
       "    </tr>\n",
       "  </tbody>\n",
       "</table>\n",
       "</div>"
      ],
      "text/plain": [
       "   transactionId   visitorId       date  revenue group\n",
       "0     3667963787  3312258926 2019-08-15     1650     B\n",
       "1     2804400009  3642806036 2019-08-15      730     B\n",
       "2     2961555356  4069496402 2019-08-15      400     A\n",
       "3     3797467345  1196621759 2019-08-15     9759     B\n",
       "4     2282983706  2322279887 2019-08-15     2308     B"
      ]
     },
     "metadata": {},
     "output_type": "display_data"
    },
    {
     "data": {
      "text/plain": [
       "(1197, 5)"
      ]
     },
     "metadata": {},
     "output_type": "display_data"
    }
   ],
   "source": [
    "# cчитаем CSV-файлы с данными\n",
    "\n",
    "try:\n",
    "    orders = pd.read_csv('https://code.s3.yandex.net/datasets/orders.csv')\n",
    "except:\n",
    "    orders = pd.read_csv('/datasets/orders.csv')\n",
    "\n",
    "orders['date'] = orders['date'].map(lambda x: dt.datetime.strptime(x, '%Y-%m-%d'))\n",
    "\n",
    "display(orders.head(5))\n",
    "display(orders.shape)\n"
   ]
  },
  {
   "cell_type": "code",
   "execution_count": 72,
   "metadata": {},
   "outputs": [
    {
     "data": {
      "text/html": [
       "<div>\n",
       "<style scoped>\n",
       "    .dataframe tbody tr th:only-of-type {\n",
       "        vertical-align: middle;\n",
       "    }\n",
       "\n",
       "    .dataframe tbody tr th {\n",
       "        vertical-align: top;\n",
       "    }\n",
       "\n",
       "    .dataframe thead th {\n",
       "        text-align: right;\n",
       "    }\n",
       "</style>\n",
       "<table border=\"1\" class=\"dataframe\">\n",
       "  <thead>\n",
       "    <tr style=\"text-align: right;\">\n",
       "      <th></th>\n",
       "      <th>date</th>\n",
       "      <th>group</th>\n",
       "      <th>visitors</th>\n",
       "    </tr>\n",
       "  </thead>\n",
       "  <tbody>\n",
       "    <tr>\n",
       "      <th>0</th>\n",
       "      <td>2019-08-01</td>\n",
       "      <td>A</td>\n",
       "      <td>719</td>\n",
       "    </tr>\n",
       "    <tr>\n",
       "      <th>1</th>\n",
       "      <td>2019-08-02</td>\n",
       "      <td>A</td>\n",
       "      <td>619</td>\n",
       "    </tr>\n",
       "    <tr>\n",
       "      <th>2</th>\n",
       "      <td>2019-08-03</td>\n",
       "      <td>A</td>\n",
       "      <td>507</td>\n",
       "    </tr>\n",
       "    <tr>\n",
       "      <th>3</th>\n",
       "      <td>2019-08-04</td>\n",
       "      <td>A</td>\n",
       "      <td>717</td>\n",
       "    </tr>\n",
       "    <tr>\n",
       "      <th>4</th>\n",
       "      <td>2019-08-05</td>\n",
       "      <td>A</td>\n",
       "      <td>756</td>\n",
       "    </tr>\n",
       "  </tbody>\n",
       "</table>\n",
       "</div>"
      ],
      "text/plain": [
       "        date group  visitors\n",
       "0 2019-08-01     A       719\n",
       "1 2019-08-02     A       619\n",
       "2 2019-08-03     A       507\n",
       "3 2019-08-04     A       717\n",
       "4 2019-08-05     A       756"
      ]
     },
     "metadata": {},
     "output_type": "display_data"
    },
    {
     "data": {
      "text/plain": [
       "(62, 3)"
      ]
     },
     "metadata": {},
     "output_type": "display_data"
    }
   ],
   "source": [
    "# cчитаем CSV-файлы с данными\n",
    "\n",
    "try:\n",
    "    visitors = pd.read_csv('https://code.s3.yandex.net/datasets/visitors.csv')\n",
    "except:\n",
    "    visitors = pd.read_csv('/datasets/visitors.csv')\n",
    "\n",
    "visitors['date'] = visitors['date'].map(lambda x: dt.datetime.strptime(x, '%Y-%m-%d'))\n",
    "\n",
    "display(visitors.head(5))\n",
    "display(visitors.shape)"
   ]
  },
  {
   "cell_type": "code",
   "execution_count": 73,
   "metadata": {},
   "outputs": [
    {
     "name": "stdout",
     "output_type": "stream",
     "text": [
      "<class 'pandas.core.frame.DataFrame'>\n",
      "RangeIndex: 9 entries, 0 to 8\n",
      "Data columns (total 5 columns):\n",
      " #   Column      Non-Null Count  Dtype \n",
      "---  ------      --------------  ----- \n",
      " 0   Hypothesis  9 non-null      object\n",
      " 1   Reach       9 non-null      int64 \n",
      " 2   Impact      9 non-null      int64 \n",
      " 3   Confidence  9 non-null      int64 \n",
      " 4   Efforts     9 non-null      int64 \n",
      "dtypes: int64(4), object(1)\n",
      "memory usage: 492.0+ bytes\n"
     ]
    },
    {
     "data": {
      "text/plain": [
       "0"
      ]
     },
     "metadata": {},
     "output_type": "display_data"
    },
    {
     "data": {
      "text/plain": [
       "Hypothesis    0\n",
       "Reach         0\n",
       "Impact        0\n",
       "Confidence    0\n",
       "Efforts       0\n",
       "dtype: int64"
      ]
     },
     "metadata": {},
     "output_type": "display_data"
    }
   ],
   "source": [
    "hypothesis.info() # выведем общую информацию \n",
    "display(hypothesis.duplicated().sum(), hypothesis.isna().sum()) # проверим пропуски данных и дубликаты данных "
   ]
  },
  {
   "cell_type": "code",
   "execution_count": 74,
   "metadata": {},
   "outputs": [
    {
     "name": "stdout",
     "output_type": "stream",
     "text": [
      "<class 'pandas.core.frame.DataFrame'>\n",
      "RangeIndex: 62 entries, 0 to 61\n",
      "Data columns (total 3 columns):\n",
      " #   Column    Non-Null Count  Dtype         \n",
      "---  ------    --------------  -----         \n",
      " 0   date      62 non-null     datetime64[ns]\n",
      " 1   group     62 non-null     object        \n",
      " 2   visitors  62 non-null     int64         \n",
      "dtypes: datetime64[ns](1), int64(1), object(1)\n",
      "memory usage: 1.6+ KB\n"
     ]
    },
    {
     "data": {
      "text/plain": [
       "0"
      ]
     },
     "metadata": {},
     "output_type": "display_data"
    },
    {
     "data": {
      "text/plain": [
       "date        0\n",
       "group       0\n",
       "visitors    0\n",
       "dtype: int64"
      ]
     },
     "metadata": {},
     "output_type": "display_data"
    }
   ],
   "source": [
    "visitors.info() # выведем общую информацию \n",
    "display(visitors.duplicated().sum(), visitors.isna().sum()) # проверим пропуски данных и дубликаты данных "
   ]
  },
  {
   "cell_type": "code",
   "execution_count": 75,
   "metadata": {},
   "outputs": [
    {
     "name": "stdout",
     "output_type": "stream",
     "text": [
      "<class 'pandas.core.frame.DataFrame'>\n",
      "RangeIndex: 1197 entries, 0 to 1196\n",
      "Data columns (total 5 columns):\n",
      " #   Column         Non-Null Count  Dtype         \n",
      "---  ------         --------------  -----         \n",
      " 0   transactionId  1197 non-null   int64         \n",
      " 1   visitorId      1197 non-null   int64         \n",
      " 2   date           1197 non-null   datetime64[ns]\n",
      " 3   revenue        1197 non-null   int64         \n",
      " 4   group          1197 non-null   object        \n",
      "dtypes: datetime64[ns](1), int64(3), object(1)\n",
      "memory usage: 46.9+ KB\n"
     ]
    },
    {
     "data": {
      "text/plain": [
       "0"
      ]
     },
     "metadata": {},
     "output_type": "display_data"
    },
    {
     "data": {
      "text/plain": [
       "transactionId    0\n",
       "visitorId        0\n",
       "date             0\n",
       "revenue          0\n",
       "group            0\n",
       "dtype: int64"
      ]
     },
     "metadata": {},
     "output_type": "display_data"
    }
   ],
   "source": [
    "orders.info() # выведем общую информацию \n",
    "display(orders.duplicated().sum(), orders.isna().sum()) # проверим пропуски данных и дубликаты данных "
   ]
  },
  {
   "cell_type": "code",
   "execution_count": 76,
   "metadata": {},
   "outputs": [
    {
     "data": {
      "text/html": [
       "<div>\n",
       "<style scoped>\n",
       "    .dataframe tbody tr th:only-of-type {\n",
       "        vertical-align: middle;\n",
       "    }\n",
       "\n",
       "    .dataframe tbody tr th {\n",
       "        vertical-align: top;\n",
       "    }\n",
       "\n",
       "    .dataframe thead th {\n",
       "        text-align: right;\n",
       "    }\n",
       "</style>\n",
       "<table border=\"1\" class=\"dataframe\">\n",
       "  <thead>\n",
       "    <tr style=\"text-align: right;\">\n",
       "      <th></th>\n",
       "      <th>visitorId</th>\n",
       "      <th>group</th>\n",
       "    </tr>\n",
       "  </thead>\n",
       "  <tbody>\n",
       "    <tr>\n",
       "      <th>0</th>\n",
       "      <td>3312258926</td>\n",
       "      <td>B</td>\n",
       "    </tr>\n",
       "    <tr>\n",
       "      <th>1</th>\n",
       "      <td>3642806036</td>\n",
       "      <td>B</td>\n",
       "    </tr>\n",
       "    <tr>\n",
       "      <th>2</th>\n",
       "      <td>4069496402</td>\n",
       "      <td>A</td>\n",
       "    </tr>\n",
       "    <tr>\n",
       "      <th>3</th>\n",
       "      <td>1196621759</td>\n",
       "      <td>B</td>\n",
       "    </tr>\n",
       "    <tr>\n",
       "      <th>4</th>\n",
       "      <td>2322279887</td>\n",
       "      <td>B</td>\n",
       "    </tr>\n",
       "  </tbody>\n",
       "</table>\n",
       "</div>"
      ],
      "text/plain": [
       "    visitorId group\n",
       "0  3312258926     B\n",
       "1  3642806036     B\n",
       "2  4069496402     A\n",
       "3  1196621759     B\n",
       "4  2322279887     B"
      ]
     },
     "metadata": {},
     "output_type": "display_data"
    },
    {
     "data": {
      "text/plain": [
       "1031"
      ]
     },
     "metadata": {},
     "output_type": "display_data"
    },
    {
     "data": {
      "text/plain": [
       "108"
      ]
     },
     "metadata": {},
     "output_type": "display_data"
    }
   ],
   "source": [
    "#попробуем для начала узнать существует ли в данных такая ситуация\n",
    "#создадим новый  DataFrames   только с пользователями и группой\n",
    "data=orders[['visitorId', 'group']] \n",
    "display(data.head(5))\n",
    "#пойдем по обратной логике\n",
    "#узнаем количество дубликатов Это значит что пользователь с одним ID делал несколько заказов\n",
    "display(data['visitorId'].nunique())\n",
    "display(data.duplicated().sum())\n",
    "# Мы узнали, что уникальных пользователей 1031\n",
    "# И мы имеем 108 пар совпадений ID и группы пользователя"
   ]
  },
  {
   "cell_type": "code",
   "execution_count": 77,
   "metadata": {},
   "outputs": [
    {
     "data": {
      "text/plain": [
       "1031"
      ]
     },
     "metadata": {},
     "output_type": "display_data"
    }
   ],
   "source": [
    "# Удалим совпадений пар ID и группы пользователя, то есть полные дубликаты.\n",
    "data=data.drop_duplicates ()\n",
    "# проверим теперь количество уникальных ID пользователей\n",
    "display(data['visitorId'].nunique())"
   ]
  },
  {
   "cell_type": "markdown",
   "metadata": {},
   "source": [
    "Количество уникальных пользователей осталось таким же. Следовательно пользователи с уникальным  ID попадают только в одну группу."
   ]
  },
  {
   "cell_type": "markdown",
   "metadata": {},
   "source": [
    "## 2. Приоритизация гипотез"
   ]
  },
  {
   "cell_type": "code",
   "execution_count": 78,
   "metadata": {},
   "outputs": [
    {
     "data": {
      "text/html": [
       "<div>\n",
       "<style scoped>\n",
       "    .dataframe tbody tr th:only-of-type {\n",
       "        vertical-align: middle;\n",
       "    }\n",
       "\n",
       "    .dataframe tbody tr th {\n",
       "        vertical-align: top;\n",
       "    }\n",
       "\n",
       "    .dataframe thead th {\n",
       "        text-align: right;\n",
       "    }\n",
       "</style>\n",
       "<table border=\"1\" class=\"dataframe\">\n",
       "  <thead>\n",
       "    <tr style=\"text-align: right;\">\n",
       "      <th></th>\n",
       "      <th>Hypothesis</th>\n",
       "      <th>ICE</th>\n",
       "    </tr>\n",
       "  </thead>\n",
       "  <tbody>\n",
       "    <tr>\n",
       "      <th>8</th>\n",
       "      <td>Запустить акцию, дающую скидку на товар в день рождения</td>\n",
       "      <td>16.20</td>\n",
       "    </tr>\n",
       "    <tr>\n",
       "      <th>0</th>\n",
       "      <td>Добавить два новых канала привлечения трафика, что позволит привлекать на 30% больше пользователей</td>\n",
       "      <td>13.33</td>\n",
       "    </tr>\n",
       "    <tr>\n",
       "      <th>7</th>\n",
       "      <td>Добавить форму подписки на все основные страницы, чтобы собрать базу клиентов для email-рассылок</td>\n",
       "      <td>11.20</td>\n",
       "    </tr>\n",
       "    <tr>\n",
       "      <th>6</th>\n",
       "      <td>Показать на главной странице баннеры с актуальными акциями и распродажами, чтобы увеличить конверсию</td>\n",
       "      <td>8.00</td>\n",
       "    </tr>\n",
       "    <tr>\n",
       "      <th>2</th>\n",
       "      <td>Добавить блоки рекомендаций товаров на сайт интернет магазина, чтобы повысить конверсию и средний чек заказа</td>\n",
       "      <td>7.00</td>\n",
       "    </tr>\n",
       "    <tr>\n",
       "      <th>1</th>\n",
       "      <td>Запустить собственную службу доставки, что сократит срок доставки заказов</td>\n",
       "      <td>2.00</td>\n",
       "    </tr>\n",
       "    <tr>\n",
       "      <th>5</th>\n",
       "      <td>Добавить страницу отзывов клиентов о магазине, что позволит увеличить количество заказов</td>\n",
       "      <td>1.33</td>\n",
       "    </tr>\n",
       "    <tr>\n",
       "      <th>3</th>\n",
       "      <td>Изменить структура категорий, что увеличит конверсию, т.к. пользователи быстрее найдут нужный товар</td>\n",
       "      <td>1.12</td>\n",
       "    </tr>\n",
       "    <tr>\n",
       "      <th>4</th>\n",
       "      <td>Изменить цвет фона главной страницы, чтобы увеличить вовлеченность пользователей</td>\n",
       "      <td>1.00</td>\n",
       "    </tr>\n",
       "  </tbody>\n",
       "</table>\n",
       "</div>"
      ],
      "text/plain": [
       "                                                                                                     Hypothesis  \\\n",
       "8                                                       Запустить акцию, дающую скидку на товар в день рождения   \n",
       "0            Добавить два новых канала привлечения трафика, что позволит привлекать на 30% больше пользователей   \n",
       "7              Добавить форму подписки на все основные страницы, чтобы собрать базу клиентов для email-рассылок   \n",
       "6          Показать на главной странице баннеры с актуальными акциями и распродажами, чтобы увеличить конверсию   \n",
       "2  Добавить блоки рекомендаций товаров на сайт интернет магазина, чтобы повысить конверсию и средний чек заказа   \n",
       "1                                     Запустить собственную службу доставки, что сократит срок доставки заказов   \n",
       "5                      Добавить страницу отзывов клиентов о магазине, что позволит увеличить количество заказов   \n",
       "3           Изменить структура категорий, что увеличит конверсию, т.к. пользователи быстрее найдут нужный товар   \n",
       "4                              Изменить цвет фона главной страницы, чтобы увеличить вовлеченность пользователей   \n",
       "\n",
       "     ICE  \n",
       "8  16.20  \n",
       "0  13.33  \n",
       "7  11.20  \n",
       "6   8.00  \n",
       "2   7.00  \n",
       "1   2.00  \n",
       "5   1.33  \n",
       "3   1.12  \n",
       "4   1.00  "
      ]
     },
     "metadata": {},
     "output_type": "display_data"
    }
   ],
   "source": [
    "# Применяю фреймворк ICE для приоритизации гипотез. \n",
    "hypothesis['ICE']=round(hypothesis['Confidence']*hypothesis['Impact']/hypothesis['Efforts'], 2)\n",
    "pd.set_option('display.max_colwidth', 200)\n",
    "display(hypothesis[['Hypothesis', 'ICE']].sort_values(by='ICE', ascending=False))\n"
   ]
  },
  {
   "cell_type": "markdown",
   "metadata": {},
   "source": [
    "Наиболее перспективные гипотезы: 8,0,7,6,2. Гипотеза 8 обладает наибольшей силой. Ее параметр ICE равен 16."
   ]
  },
  {
   "cell_type": "code",
   "execution_count": 79,
   "metadata": {},
   "outputs": [
    {
     "data": {
      "text/html": [
       "<div>\n",
       "<style scoped>\n",
       "    .dataframe tbody tr th:only-of-type {\n",
       "        vertical-align: middle;\n",
       "    }\n",
       "\n",
       "    .dataframe tbody tr th {\n",
       "        vertical-align: top;\n",
       "    }\n",
       "\n",
       "    .dataframe thead th {\n",
       "        text-align: right;\n",
       "    }\n",
       "</style>\n",
       "<table border=\"1\" class=\"dataframe\">\n",
       "  <thead>\n",
       "    <tr style=\"text-align: right;\">\n",
       "      <th></th>\n",
       "      <th>Hypothesis</th>\n",
       "      <th>RICE</th>\n",
       "    </tr>\n",
       "  </thead>\n",
       "  <tbody>\n",
       "    <tr>\n",
       "      <th>7</th>\n",
       "      <td>Добавить форму подписки на все основные страницы, чтобы собрать базу клиентов для email-рассылок</td>\n",
       "      <td>112.0</td>\n",
       "    </tr>\n",
       "    <tr>\n",
       "      <th>2</th>\n",
       "      <td>Добавить блоки рекомендаций товаров на сайт интернет магазина, чтобы повысить конверсию и средний чек заказа</td>\n",
       "      <td>56.0</td>\n",
       "    </tr>\n",
       "    <tr>\n",
       "      <th>0</th>\n",
       "      <td>Добавить два новых канала привлечения трафика, что позволит привлекать на 30% больше пользователей</td>\n",
       "      <td>40.0</td>\n",
       "    </tr>\n",
       "    <tr>\n",
       "      <th>6</th>\n",
       "      <td>Показать на главной странице баннеры с актуальными акциями и распродажами, чтобы увеличить конверсию</td>\n",
       "      <td>40.0</td>\n",
       "    </tr>\n",
       "    <tr>\n",
       "      <th>8</th>\n",
       "      <td>Запустить акцию, дающую скидку на товар в день рождения</td>\n",
       "      <td>16.2</td>\n",
       "    </tr>\n",
       "    <tr>\n",
       "      <th>3</th>\n",
       "      <td>Изменить структура категорий, что увеличит конверсию, т.к. пользователи быстрее найдут нужный товар</td>\n",
       "      <td>9.0</td>\n",
       "    </tr>\n",
       "    <tr>\n",
       "      <th>1</th>\n",
       "      <td>Запустить собственную службу доставки, что сократит срок доставки заказов</td>\n",
       "      <td>4.0</td>\n",
       "    </tr>\n",
       "    <tr>\n",
       "      <th>5</th>\n",
       "      <td>Добавить страницу отзывов клиентов о магазине, что позволит увеличить количество заказов</td>\n",
       "      <td>4.0</td>\n",
       "    </tr>\n",
       "    <tr>\n",
       "      <th>4</th>\n",
       "      <td>Изменить цвет фона главной страницы, чтобы увеличить вовлеченность пользователей</td>\n",
       "      <td>3.0</td>\n",
       "    </tr>\n",
       "  </tbody>\n",
       "</table>\n",
       "</div>"
      ],
      "text/plain": [
       "                                                                                                     Hypothesis  \\\n",
       "7              Добавить форму подписки на все основные страницы, чтобы собрать базу клиентов для email-рассылок   \n",
       "2  Добавить блоки рекомендаций товаров на сайт интернет магазина, чтобы повысить конверсию и средний чек заказа   \n",
       "0            Добавить два новых канала привлечения трафика, что позволит привлекать на 30% больше пользователей   \n",
       "6          Показать на главной странице баннеры с актуальными акциями и распродажами, чтобы увеличить конверсию   \n",
       "8                                                       Запустить акцию, дающую скидку на товар в день рождения   \n",
       "3           Изменить структура категорий, что увеличит конверсию, т.к. пользователи быстрее найдут нужный товар   \n",
       "1                                     Запустить собственную службу доставки, что сократит срок доставки заказов   \n",
       "5                      Добавить страницу отзывов клиентов о магазине, что позволит увеличить количество заказов   \n",
       "4                              Изменить цвет фона главной страницы, чтобы увеличить вовлеченность пользователей   \n",
       "\n",
       "    RICE  \n",
       "7  112.0  \n",
       "2   56.0  \n",
       "0   40.0  \n",
       "6   40.0  \n",
       "8   16.2  \n",
       "3    9.0  \n",
       "1    4.0  \n",
       "5    4.0  \n",
       "4    3.0  "
      ]
     },
     "metadata": {},
     "output_type": "display_data"
    }
   ],
   "source": [
    "# Применяю фреймворк RICE для приоритизации гипотез. \n",
    "hypothesis['RICE']=(hypothesis['Confidence']*hypothesis['Impact']*hypothesis['Reach'])/hypothesis['Efforts']\n",
    "pd.set_option('display.max_colwidth', 200)\n",
    "display(hypothesis[['Hypothesis', 'RICE']].sort_values(by='RICE', ascending=False))\n"
   ]
  },
  {
   "cell_type": "markdown",
   "metadata": {},
   "source": [
    "Наиболее перспективные гипотезы: 7,2,0,6,8. Теперь на первом месте гипотеза 7. Ее параметр RICE равен 112, в то время как у других гипотез значительно меньше. Это связано с тем, что RICE включает в себя охват пользователей.\n",
    "\n",
    "RICE предназначен для оценки того, на какое количество людей каждая гипотеза повлияет в течение определенного периода времени, и сколько пользователей увидят изменения.\n",
    "ICE отражает влияние гипотезы  на пользователей. "
   ]
  },
  {
   "cell_type": "markdown",
   "metadata": {},
   "source": [
    "## 3. Анализ A/B-теста"
   ]
  },
  {
   "cell_type": "markdown",
   "metadata": {},
   "source": [
    "### 3.1. Построем график кумулятивной выручки по группам. "
   ]
  },
  {
   "cell_type": "code",
   "execution_count": 80,
   "metadata": {},
   "outputs": [],
   "source": [
    "# создаем массив уникальных пар значений дат и групп теста\n",
    "datesGroups = orders[['date','group']].drop_duplicates() "
   ]
  },
  {
   "cell_type": "code",
   "execution_count": 81,
   "metadata": {},
   "outputs": [],
   "source": [
    "# соберём агрегированные кумулятивные данные по дням о заказах в несколько действий. \n",
    "ordersAggregated = datesGroups.apply(lambda x: orders[np.logical_and(orders['date'] <= x['date'], orders['group'] == x['group'])]\\\n",
    ".agg({'date' : 'max', 'group' : 'max', 'transactionId' : 'nunique', 'visitorId' : 'nunique', 'revenue' : 'sum'}), axis=1).sort_values(by=['date','group'])"
   ]
  },
  {
   "cell_type": "code",
   "execution_count": 82,
   "metadata": {},
   "outputs": [],
   "source": [
    "# соберём  агрегированные кумулятивные данные по дням о посетителях интернет-магазина: \n",
    "visitorsAggregated = datesGroups.apply(lambda x: visitors[np.logical_and(visitors['date'] <= x['date'], visitors['group'] == x['group'])].agg({'date' : 'max', 'group' : 'max', 'visitors' : 'sum'}), axis=1).sort_values(by=['date','group'])"
   ]
  },
  {
   "cell_type": "code",
   "execution_count": 83,
   "metadata": {},
   "outputs": [
    {
     "name": "stdout",
     "output_type": "stream",
     "text": [
      "        date group  orders  buyers  revenue  visitors\n",
      "0 2019-08-01     A      24      20   148579       719\n",
      "1 2019-08-01     B      21      20   101217       713\n",
      "2 2019-08-02     A      44      38   242401      1338\n",
      "3 2019-08-02     B      45      43   266748      1294\n",
      "4 2019-08-03     A      68      62   354874      1845\n"
     ]
    }
   ],
   "source": [
    "# объединяем кумулятивные данные в одной таблице и присваиваем ее столбцам понятные названия\n",
    "cumulativeData = ordersAggregated.merge(visitorsAggregated, left_on=['date', 'group'], right_on=['date', 'group'])\n",
    "cumulativeData.columns = ['date', 'group', 'orders', 'buyers', 'revenue', 'visitors']\n",
    "\n",
    "print(cumulativeData.head(5)) \n"
   ]
  },
  {
   "cell_type": "code",
   "execution_count": 84,
   "metadata": {},
   "outputs": [
    {
     "name": "stdout",
     "output_type": "stream",
     "text": [
      "2019-08-31 00:00:00\n",
      "2019-08-01 00:00:00\n",
      "2019-08-31 00:00:00\n",
      "2019-08-01 00:00:00\n"
     ]
    }
   ],
   "source": [
    "#произведем проверку максимальной и минимальной даты в таблице заказов\n",
    "print(max(orders['date']))\n",
    "print(min(orders['date']))\n",
    "#произведем проверку максимальной и минимальной даты cumulativeData\n",
    "print(max(cumulativeData['date']))\n",
    "print(min(cumulativeData['date']))"
   ]
  },
  {
   "cell_type": "code",
   "execution_count": 85,
   "metadata": {},
   "outputs": [
    {
     "data": {
      "image/png": "[encoded data removed]",
      "text/plain": [
       "<Figure size 1100x400 with 1 Axes>"
      ]
     },
     "metadata": {},
     "output_type": "display_data"
    }
   ],
   "source": [
    "# датафрейм с кумулятивным количеством заказов и кумулятивной выручкой по дням в группе А\n",
    "cumulativeRevenueA = cumulativeData[cumulativeData['group']=='A'][['date','revenue', 'orders']]\n",
    "\n",
    "# датафрейм с кумулятивным количеством заказов и кумулятивной выручкой по дням в группе B\n",
    "cumulativeRevenueB = cumulativeData[cumulativeData['group']=='B'][['date','revenue', 'orders']]\n",
    "\n",
    "plt.figure(figsize=(11,4))\n",
    "# Строим график кумулятивной  выручки группы А\n",
    "plt.plot(cumulativeRevenueA['date'], cumulativeRevenueA['revenue'], label='A')\n",
    "\n",
    "# Строим график кумулятивной выручки группы B\n",
    "plt.plot(cumulativeRevenueB['date'], cumulativeRevenueB['revenue'], label='B')\n",
    "plt.ylabel('Выручка')\n",
    "plt.xlabel('Дата')\n",
    "plt.title('График кумулятивной выручки по группа')\n",
    "plt.legend() \n",
    "plt.show()\n"
   ]
  },
  {
   "cell_type": "markdown",
   "metadata": {},
   "source": [
    "### 3.1. Вывод\n",
    "Выручка увеличивается в течение всего теста. Обратим внимание на то, что группа В лидирует по выручке. Однако графики выручки группы В в середине теста резко растет. Это может сигнализировать о всплесках числа заказов, либо о появлении очень дорогих заказов в выборке. Далее проверим влияние аномально больших заказов. Возможно лидирование группы В изменится в их отсутствии."
   ]
  },
  {
   "cell_type": "markdown",
   "metadata": {},
   "source": [
    "### 3.2. Построем график кумулятивного среднего чека по группам. "
   ]
  },
  {
   "cell_type": "code",
   "execution_count": 86,
   "metadata": {},
   "outputs": [
    {
     "data": {
      "image/png": "[encoded data removed]",
      "text/plain": [
       "<Figure size 1100x400 with 1 Axes>"
      ]
     },
     "metadata": {},
     "output_type": "display_data"
    }
   ],
   "source": [
    "plt.figure(figsize=(11,4))\n",
    "plt.plot(cumulativeRevenueA['date'], cumulativeRevenueA['revenue']/cumulativeRevenueA['orders'], label='A')\n",
    "plt.plot(cumulativeRevenueB['date'], cumulativeRevenueB['revenue']/cumulativeRevenueB['orders'], label='B')\n",
    "plt.ylabel('Сумма среднего чека')\n",
    "plt.xlabel('Дата')\n",
    "plt.title('График кумулятивного среднего чека по группам')\n",
    "plt.legend() \n",
    "plt.show()"
   ]
  },
  {
   "cell_type": "markdown",
   "metadata": {},
   "source": [
    "### 3.2.  Вывод\n",
    "Кумулятивное значение среднего чека сильно колеблется в первых двух третях теста. Затем средний чек становится равномернее. Можем увидеть тенденцию к падению среднего чека для группы В. Можем заметить небольшой рост для группы А, но мы не можем сказать тенденция ли это на данном этапе. Следовательно рано принимать решение по данной метрике. Необходимо провести анализ вбросов. Возможно, в группу B в первой половине теста попали крупные заказы (резкий всплеск на графике). Тогда группе В нужно больше данных, чтобы прийти к реальному среднему чеку и установиться на его уровне."
   ]
  },
  {
   "cell_type": "markdown",
   "metadata": {},
   "source": [
    "### 3.3. Построем график относительного изменения кумулятивного среднего чека группы B к группе A. "
   ]
  },
  {
   "cell_type": "code",
   "execution_count": 87,
   "metadata": {
    "scrolled": true
   },
   "outputs": [
    {
     "data": {
      "image/png": "[encoded data removed]",
      "text/plain": [
       "<Figure size 1100x400 with 1 Axes>"
      ]
     },
     "metadata": {},
     "output_type": "display_data"
    }
   ],
   "source": [
    "# собираем данные в одном датафрейме\n",
    "mergedCumulativeRevenue = cumulativeRevenueA.merge(cumulativeRevenueB, left_on='date', right_on='date', how='left', suffixes=['A', 'B'])\n",
    "\n",
    "plt.figure(figsize=(11,4))\n",
    "# cтроим отношение средних чеков\n",
    "plt.plot(mergedCumulativeRevenue['date'], (mergedCumulativeRevenue['revenueB']/mergedCumulativeRevenue['ordersB'])/(mergedCumulativeRevenue['revenueA']/mergedCumulativeRevenue['ordersA'])-1)\n",
    "\n",
    "# добавляем ось X\n",
    "plt.axhline(y=0, color='black', linestyle='--') \n",
    "plt.xlabel('Дата')\n",
    "plt.ylabel('Средней чек')\n",
    "plt.title('График относительного изменения кумулятивного среднего чека группы B к группе A')\n",
    "plt.show()"
   ]
  },
  {
   "cell_type": "markdown",
   "metadata": {},
   "source": [
    "### 3.3. Вывод\n",
    "Наблюдаем несколько \"скачков\" графика. Из которых несколько является очень резким. Попробуем отыскать в эти даты \"аномальные\" заказы."
   ]
  },
  {
   "cell_type": "markdown",
   "metadata": {},
   "source": [
    "### 3.4.  Построем график кумулятивного среднего количества заказов на посетителя по группам."
   ]
  },
  {
   "cell_type": "code",
   "execution_count": 88,
   "metadata": {},
   "outputs": [
    {
     "data": {
      "image/png": "[encoded data removed]",
      "text/plain": [
       "<Figure size 1100x400 with 1 Axes>"
      ]
     },
     "metadata": {},
     "output_type": "display_data"
    }
   ],
   "source": [
    "# считаем кумулятивную конверсию\n",
    "cumulativeData['conversion'] = cumulativeData['orders']/cumulativeData['visitors']\n",
    "\n",
    "# отделяем данные по группе A\n",
    "cumulativeDataA = cumulativeData[cumulativeData['group']=='A']\n",
    "\n",
    "# отделяем данные по группе B\n",
    "cumulativeDataB = cumulativeData[cumulativeData['group']=='B']\n",
    "\n",
    "# строим графики\n",
    "plt.figure(figsize=(11,4))\n",
    "plt.plot(cumulativeDataA['date'], cumulativeDataA['conversion'], label='A')\n",
    "plt.plot(cumulativeDataB['date'], cumulativeDataB['conversion'], label='B')\n",
    "plt.legend()\n",
    "plt.axis([dt.datetime(2019, 8, 1), dt.datetime(2019, 8, 30), 0, 0.05])\n",
    "plt.ylabel('Количество заказов')\n",
    "plt.xlabel('Дата')\n",
    "plt.title('График кумулятивного среднего количества заказов на посетителя по группам')\n",
    "plt.legend() \n",
    "plt.show()"
   ]
  },
  {
   "cell_type": "markdown",
   "metadata": {},
   "source": [
    "### 3.4. Вывод\n",
    "В начале исследования группа А имела, большее среднее количество заказов на посетителя и скачки роста, но с течением времени группа Б обогнала группу А резким рывком и установилась на более высоком уровне. Так же отметим, что обе группы колебались около одного значения, Обе группы зафиксировалась на каком-то среднем значении и их графики стали практически параллельны. Из данных графиков нам понятно, что делать выводы рано. В будущих шагах следует проанализировать аномалии, возможно, они изменят картину. "
   ]
  },
  {
   "cell_type": "markdown",
   "metadata": {},
   "source": [
    "### 3.5. Построем график относительного изменения кумулятивного среднего количества заказов на посетителя группы B к группе A. "
   ]
  },
  {
   "cell_type": "code",
   "execution_count": 89,
   "metadata": {},
   "outputs": [
    {
     "data": {
      "image/png": "[encoded data removed]",
      "text/plain": [
       "<Figure size 1100x400 with 1 Axes>"
      ]
     },
     "metadata": {},
     "output_type": "display_data"
    }
   ],
   "source": [
    "mergedCumulativeConversions = cumulativeDataA[['date','conversion']].merge(cumulativeDataB[['date','conversion']], left_on='date', right_on='date', how='left', suffixes=['A', 'B'])\n",
    "plt.figure(figsize=(11,4))\n",
    "plt.plot(mergedCumulativeConversions['date'], mergedCumulativeConversions['conversionB']/mergedCumulativeConversions['conversionA']-1, label=\"Относительный прирост конверсии группы B относительно группы A\")\n",
    "plt.title('График относительного изменения кумулятивного среднего количества заказов на посетителя группы B к группе A.')\n",
    "plt.axhline(y=0, color='black', linestyle='--')\n",
    "plt.axhline(y=0.15, color='grey', linestyle='--')\n",
    "plt.ylabel('Среднее количество заказов')\n",
    "plt.axis([\"2019-08-01\", '2019-08-30', -0.2, 0.3])\n",
    "plt.xlabel('Дата')\n",
    "plt.show()\n"
   ]
  },
  {
   "cell_type": "markdown",
   "metadata": {},
   "source": [
    "### 3.5. Вывод\n",
    "В начале наблюдения видим, скачки  среднего количество заказов на посетителя группы В относительно группы А, но уже в первую неделю исследования группа В стала лидировать. Прирост составил не менее 10%. График имеет скачки  среднего количества заказов на посетителя. Отношение среднего количество заказов на посетителя ещё не установилось. Делать выводы по тесту рано. Перейдем к анализу \"аномалий\" и посмотрим, что это даст для исследования. "
   ]
  },
  {
   "cell_type": "markdown",
   "metadata": {},
   "source": [
    "### 3.6. Построем точечный график количества заказов по пользователям. "
   ]
  },
  {
   "cell_type": "code",
   "execution_count": 90,
   "metadata": {},
   "outputs": [
    {
     "name": "stdout",
     "output_type": "stream",
     "text": [
      "       visitorId  orders\n",
      "1023  4256040402      11\n",
      "591   2458001652      11\n",
      "569   2378935119       9\n",
      "487   2038680547       8\n",
      "44     199603092       5\n",
      "744   3062433592       5\n",
      "55     237748145       5\n",
      "917   3803269165       5\n",
      "299   1230306981       5\n",
      "897   3717692402       5\n"
     ]
    }
   ],
   "source": [
    "ordersByUsers = (orders.groupby('visitorId', as_index=False).agg({'transactionId': 'nunique'}))\n",
    "\n",
    "ordersByUsers.columns = ['visitorId', 'orders']\n",
    "\n",
    "print(ordersByUsers.sort_values(by='orders', ascending=False).head(10))"
   ]
  },
  {
   "cell_type": "code",
   "execution_count": 91,
   "metadata": {},
   "outputs": [
    {
     "data": {
      "image/png": "[encoded data removed]",
      "text/plain": [
       "<Figure size 1100x400 with 1 Axes>"
      ]
     },
     "metadata": {},
     "output_type": "display_data"
    }
   ],
   "source": [
    "x_values = pd.Series(range(0,len(ordersByUsers)))\n",
    "\n",
    "\n",
    "plt.figure(figsize=(11,4))\n",
    "plt.scatter(x_values, ordersByUsers['orders']) \n",
    "plt.ylabel('Количество заказов')\n",
    "plt.xlabel('Пользователи')\n",
    "plt.title('Точечная диаграмма числа заказов на одного пользователя')\n",
    "\n",
    "plt.show()"
   ]
  },
  {
   "cell_type": "markdown",
   "metadata": {},
   "source": [
    "### 3.6. Вывод\n",
    "Видим много пользователей с 2-4 заказами. Сколько их сложно оценить по графику, но мы можем сказать, что доля покупателей с двумя заказами достаточно велика. Можно ли считать аномалиями 4 заказа и более? Необходимо исследовать дальше."
   ]
  },
  {
   "cell_type": "markdown",
   "metadata": {},
   "source": [
    "### 3.7. Посчитаем 95-й и 99-й перцентили количества заказов на пользователя. "
   ]
  },
  {
   "cell_type": "code",
   "execution_count": 92,
   "metadata": {},
   "outputs": [
    {
     "data": {
      "text/plain": [
       "array([1., 2., 4.])"
      ]
     },
     "execution_count": 92,
     "metadata": {},
     "output_type": "execute_result"
    }
   ],
   "source": [
    "percentile1=np.percentile(ordersByUsers['orders'], [90, 95, 99])\n",
    "percentile1"
   ]
  },
  {
   "cell_type": "markdown",
   "metadata": {},
   "source": [
    "### 3.7. Вывод\n",
    "Мы видим, что вывод перцентилей количества заказов на пользователя показал, что мы ошибались, делая вывод по точечному графику количества заказов. И наши клиенты делают только один заказ. Нормально ли это? К сожалению, исходя из вводных данных, мы не можем сказать какими товарами мы торгуем. показывает ли это проблемы в нашем бизнесе? Не более 5% пользователей оформляли больше, чем 2 (т. е. 5%) заказов. Разумно выбрать 2 заказа на одного пользователя за верхнюю границу числа заказов, и отсеять аномальных пользователей по ней."
   ]
  },
  {
   "cell_type": "markdown",
   "metadata": {},
   "source": [
    "### 3.8. Построем точечный график стоимостей заказов. "
   ]
  },
  {
   "cell_type": "code",
   "execution_count": 93,
   "metadata": {
    "scrolled": true
   },
   "outputs": [
    {
     "data": {
      "image/png": "[encoded data removed]",
      "text/plain": [
       "<Figure size 1100x400 with 1 Axes>"
      ]
     },
     "metadata": {},
     "output_type": "display_data"
    }
   ],
   "source": [
    "x_values = pd.Series(range(0,len(orders['revenue'])))\n",
    "plt.figure(figsize=(11,4))\n",
    "plt.scatter(x_values,orders['revenue']) \n",
    "plt.ylabel('Сумма чека')\n",
    "plt.xlabel('Пользователи')\n",
    "plt.title('Точечная диаграмма сумм заказов на одного пользователя')\n",
    "\n",
    "plt.show()"
   ]
  },
  {
   "cell_type": "code",
   "execution_count": 94,
   "metadata": {},
   "outputs": [
    {
     "data": {
      "image/png": "[encoded data removed]",
      "text/plain": [
       "<Figure size 1100x400 with 1 Axes>"
      ]
     },
     "metadata": {},
     "output_type": "display_data"
    }
   ],
   "source": [
    "x_values = pd.Series(range(0,len(orders['revenue'])))\n",
    "plt.figure(figsize=(11,4))\n",
    "plt.scatter(x_values,orders['revenue']) \n",
    "plt.axis([0, 1200, 0, 150000])\n",
    "plt.ylabel('Сумма чека')\n",
    "plt.xlabel('Потльзователи')\n",
    "plt.title('Точечная диаграмма сумм заказов на одного пользователя')\n",
    "\n",
    "plt.show()"
   ]
  },
  {
   "cell_type": "markdown",
   "metadata": {},
   "source": [
    "### 3.8. Вывод\n",
    "Сразу видим явные выбросы на графике. Свыше 1 200 000 руб.  на 200 000 руб. Медианный чек около 3 000 руб.\n",
    "Средний чек около 8 000. На средний чек явно оказывают свое влияние выбросы данных.  "
   ]
  },
  {
   "cell_type": "markdown",
   "metadata": {},
   "source": [
    "### 3.9. Посчитаем 95-й и 99-й перцентили стоимости заказов. Выберите границу для определения аномальных заказов."
   ]
  },
  {
   "cell_type": "code",
   "execution_count": 95,
   "metadata": {},
   "outputs": [
    {
     "data": {
      "text/plain": [
       "array([18168. , 28000. , 58233.2])"
      ]
     },
     "execution_count": 95,
     "metadata": {},
     "output_type": "execute_result"
    }
   ],
   "source": [
    "percentile2=np.percentile(orders['revenue'], [90, 95, 99])\n",
    "percentile2"
   ]
  },
  {
   "cell_type": "markdown",
   "metadata": {},
   "source": [
    "### 3.9. Вывод\n",
    "Не более 5% заказов дороже 28000 рублей и не более 1% дороже 58000 рублей. Для дальнейшего проведения исследования не будем брать в расчет заказы стоимость которых более 28000 рублей. "
   ]
  },
  {
   "cell_type": "markdown",
   "metadata": {},
   "source": [
    "### 3.10. Посчитаем статистическую значимость различий в среднем количестве заказов на посетителя между группами между группами по «сырым» данным."
   ]
  },
  {
   "cell_type": "code",
   "execution_count": 96,
   "metadata": {},
   "outputs": [
    {
     "name": "stdout",
     "output_type": "stream",
     "text": [
      "        date  ordersPerDateA  revenuePerDateA  ordersPerDateB  \\\n",
      "0 2019-08-01              24           148579              21   \n",
      "1 2019-08-02              20            93822              24   \n",
      "2 2019-08-03              24           112473              16   \n",
      "3 2019-08-04              16            70825              17   \n",
      "4 2019-08-05              25           124218              23   \n",
      "\n",
      "   revenuePerDateB  ordersCummulativeA  revenueCummulativeA  \\\n",
      "0           101217                  24               148579   \n",
      "1           165531                  44               242401   \n",
      "2           114248                  68               354874   \n",
      "3           108571                  84               425699   \n",
      "4            92428                 109               549917   \n",
      "\n",
      "   ordersCummulativeB  revenueCummulativeB  visitorsPerDateA  \\\n",
      "0                  21               101217               719   \n",
      "1                  45               266748               619   \n",
      "2                  61               380996               507   \n",
      "3                  78               489567               717   \n",
      "4                 101               581995               756   \n",
      "\n",
      "   visitorsPerDateB  visitorsCummulativeA  visitorsCummulativeB  \n",
      "0               713                   719                   713  \n",
      "1               581                  1338                  1294  \n",
      "2               509                  1845                  1803  \n",
      "3               770                  2562                  2573  \n",
      "4               707                  3318                  3280  \n"
     ]
    }
   ],
   "source": [
    "visitorsADaily = visitors[visitors['group'] == 'A'][['date', 'visitors']]\n",
    "visitorsADaily.columns = ['date', 'visitorsPerDateA']\n",
    "\n",
    "visitorsACummulative = visitorsADaily.apply(\n",
    "    lambda x: visitorsADaily[visitorsADaily['date'] <= x['date']].agg(\n",
    "        {'date': 'max', 'visitorsPerDateA': 'sum'}\n",
    "    ),\n",
    "    axis=1,\n",
    ")\n",
    "visitorsACummulative.columns = ['date', 'visitorsCummulativeA']\n",
    "\n",
    "visitorsBDaily = visitors[visitors['group'] == 'B'][['date', 'visitors']]\n",
    "visitorsBDaily.columns = ['date', 'visitorsPerDateB']\n",
    "\n",
    "visitorsBCummulative = visitorsBDaily.apply(\n",
    "    lambda x: visitorsBDaily[visitorsBDaily['date'] <= x['date']].agg(\n",
    "        {'date': 'max', 'visitorsPerDateB': 'sum'}\n",
    "    ),\n",
    "    axis=1,\n",
    ")\n",
    "visitorsBCummulative.columns = ['date', 'visitorsCummulativeB']\n",
    "\n",
    "ordersADaily = (\n",
    "    orders[orders['group'] == 'A'][['date', 'transactionId', 'visitorId', 'revenue']]\n",
    "    .groupby('date', as_index=False)\n",
    "    .agg({'transactionId': pd.Series.nunique, 'revenue': 'sum'})\n",
    ")\n",
    "ordersADaily.columns = ['date', 'ordersPerDateA', 'revenuePerDateA']\n",
    "\n",
    "ordersACummulative = ordersADaily.apply(\n",
    "    lambda x: ordersADaily[ordersADaily['date'] <= x['date']].agg(\n",
    "        {'date': 'max', 'ordersPerDateA': 'sum', 'revenuePerDateA': 'sum'}\n",
    "    ),\n",
    "    axis=1,\n",
    ").sort_values(by=['date'])\n",
    "ordersACummulative.columns = [\n",
    "    'date',\n",
    "    'ordersCummulativeA',\n",
    "    'revenueCummulativeA',\n",
    "]\n",
    "\n",
    "ordersBDaily = (\n",
    "    orders[orders['group'] == 'B'][['date', 'transactionId', 'visitorId', 'revenue']]\n",
    "    .groupby('date', as_index=False)\n",
    "    .agg({'transactionId': pd.Series.nunique, 'revenue': 'sum'})\n",
    ")\n",
    "ordersBDaily.columns = ['date', 'ordersPerDateB', 'revenuePerDateB']\n",
    "\n",
    "ordersBCummulative = ordersBDaily.apply(\n",
    "    lambda x: ordersBDaily[ordersBDaily['date'] <= x['date']].agg(\n",
    "        {'date': 'max', 'ordersPerDateB': 'sum', 'revenuePerDateB': 'sum'}\n",
    "    ),\n",
    "    axis=1,\n",
    ").sort_values(by=['date'])\n",
    "ordersBCummulative.columns = [\n",
    "    'date',\n",
    "    'ordersCummulativeB',\n",
    "    'revenueCummulativeB',\n",
    "]\n",
    "\n",
    "data = (\n",
    "    ordersADaily.merge(\n",
    "        ordersBDaily, left_on='date', right_on='date', how='left'\n",
    "    )\n",
    "    .merge(ordersACummulative, left_on='date', right_on='date', how='left')\n",
    "    .merge(ordersBCummulative, left_on='date', right_on='date', how='left')\n",
    "    .merge(visitorsADaily, left_on='date', right_on='date', how='left')\n",
    "    .merge(visitorsBDaily, left_on='date', right_on='date', how='left')\n",
    "    .merge(visitorsACummulative, left_on='date', right_on='date', how='left')\n",
    "    .merge(visitorsBCummulative, left_on='date', right_on='date', how='left')\n",
    ")\n",
    "\n",
    "print(data.head(5))"
   ]
  },
  {
   "cell_type": "markdown",
   "metadata": {},
   "source": [
    "H_0: Статистически значимых различий в среднем числе заказов между группами А и В по \"сырым\" данным нет.\n",
    "\n",
    "H_1: Существуют статистически значимые различия в среднем числе заказов между группами А и В по \"сырым\" данным.\n",
    "\n",
    "alpha = 0.05\n",
    "\n",
    "Для сравнения гипотез применим тест Манна-Уитни."
   ]
  },
  {
   "cell_type": "code",
   "execution_count": 97,
   "metadata": {},
   "outputs": [
    {
     "name": "stdout",
     "output_type": "stream",
     "text": [
      "P-value: 0.017\n",
      "Прирост в среднем количестве заказов  0.138\n"
     ]
    }
   ],
   "source": [
    "ordersByUsersA = (\n",
    "    orders[orders['group'] == 'A']\n",
    "    .groupby('visitorId', as_index=False)\n",
    "    .agg({'transactionId': pd.Series.nunique})\n",
    ")\n",
    "\n",
    "\n",
    "ordersByUsersB = (\n",
    "    orders[orders['group'] == 'B']\n",
    "    .groupby('visitorId', as_index=False)\n",
    "    .agg({'transactionId': pd.Series.nunique})\n",
    ")\n",
    "ordersByUsersA.columns = ['visitorId', 'orders']\n",
    "\n",
    "ordersByUsersB.columns = ['visitorId', 'orders']\n",
    "\n",
    "\n",
    "sampleA = pd.concat([ordersByUsersA['orders'],pd.Series(0, index=np.arange(data['visitorsPerDateA'].sum() - len(ordersByUsersA['orders'])), name='orders')],axis=0)\n",
    "\n",
    "sampleB = pd.concat([ordersByUsersB['orders'],pd.Series(0, index=np.arange(data['visitorsPerDateB'].sum() - len(ordersByUsersB['orders'])), name='orders')],axis=0)\n",
    "\n",
    "\n",
    "\n",
    "print(\"P-value:\", \"{0:.3f}\".format(stats.mannwhitneyu(sampleA, sampleB)[1]))\n",
    "\n",
    "print(\"Прирост в среднем количестве заказов \", \"{0:.3f}\".format(sampleB.mean() / sampleA.mean() - 1))\n"
   ]
  },
  {
   "cell_type": "markdown",
   "metadata": {},
   "source": [
    "### 3.10. Вывод\n",
    "Первое число — p-value = 0.017 значительно меньше 0.05. Значит, нулевую гипотезу о том, что статистически значимых различий в среднем числе заказов между группами нет - отвергаем. \n",
    "Анализируем «сырые данные» и понимаем, что в среднем количестве заказов между группами есть статистически значимые различия. Относительный прирост среднего группы B к группе A равен 13.7%.\n"
   ]
  },
  {
   "cell_type": "markdown",
   "metadata": {},
   "source": [
    "### 3.11. Посчитаем статистическую значимость различий в среднем чеке заказа между группами по «сырым» данным. "
   ]
  },
  {
   "cell_type": "markdown",
   "metadata": {},
   "source": [
    "H_0: Статистически значимых различий в размере среднего чека заказа между группами А и В по \"сырым\" данным нет.\n",
    "\n",
    "H_1: Существуют статистически значимые различия в размере среднего чека заказа между группами А и В по \"сырым\" данным.\n",
    "\n",
    "alpha = 0.05\n",
    "\n",
    "Для сравнения гипотез применим тест Манна-Уитни."
   ]
  },
  {
   "cell_type": "code",
   "execution_count": 98,
   "metadata": {},
   "outputs": [
    {
     "name": "stdout",
     "output_type": "stream",
     "text": [
      "P-value: 0.729\n",
      "Прирост в среднем чеке заказов 0.259\n"
     ]
    }
   ],
   "source": [
    "print(\"P-value:\" , '{0:.3f}'.format(stats.mannwhitneyu(orders[orders['group']=='A']['revenue'], orders[orders['group']=='B']['revenue'])[1]))\n",
    "print(\"Прирост в среднем чеке заказов\" ,'{0:.3f}'.format(orders[orders['group']=='B']['revenue'].mean()/orders[orders['group']=='A']['revenue'].mean()-1)) "
   ]
  },
  {
   "cell_type": "markdown",
   "metadata": {},
   "source": [
    "### 3.11. Вывод \n",
    "P-value значительно больше 0.05. Не отвергаем нулевую гипотезу В среднем чеке между группами различий нет по неочищенным данным."
   ]
  },
  {
   "cell_type": "markdown",
   "metadata": {},
   "source": [
    "### 3.12. Посчитаем статистическую значимость различий в среднем количестве заказов на посетителя между группами между группами по «очищенным» данным. "
   ]
  },
  {
   "cell_type": "markdown",
   "metadata": {},
   "source": [
    "H_0: Статистически значимых различий в среднем числе заказов между группами А и В по \"очищенным\" данным нет.\n",
    "\n",
    "H_1: Существуют статистически значимые различия в среднем числе заказов между группами А и В по \"очищенным\" данным.\n",
    "\n",
    "alpha = 0.05\n",
    "\n",
    "Для сравнения гипотез применим тест Манна-Уитни."
   ]
  },
  {
   "cell_type": "code",
   "execution_count": 99,
   "metadata": {},
   "outputs": [
    {
     "name": "stdout",
     "output_type": "stream",
     "text": [
      "1099    148427295\n",
      "18      199603092\n",
      "928     204675465\n",
      "23      237748145\n",
      "37      249864742\n",
      "Name: visitorId, dtype: int64\n",
      "Анамальных пользоваталей 74\n"
     ]
    }
   ],
   "source": [
    "usersWithManyOrders = pd.concat(\n",
    "    [\n",
    "        ordersByUsersA[ordersByUsersA['orders'] > np.percentile(ordersByUsers['orders'], 95)]['visitorId'],\n",
    "        ordersByUsersB[ordersByUsersB['orders'] > np.percentile(ordersByUsers['orders'], 95)]['visitorId'],\n",
    "    ],\n",
    "    axis=0,\n",
    ")\n",
    "usersWithExpensiveOrders = orders[orders['revenue'] > np.percentile(orders['revenue'],  95)]['visitorId']\n",
    "abnormalUsers = (\n",
    "    pd.concat([usersWithManyOrders, usersWithExpensiveOrders], axis=0)\n",
    "    .drop_duplicates()\n",
    "    .sort_values()\n",
    ")\n",
    "print(abnormalUsers.head(5))\n",
    "print('Анамальных пользоваталей', abnormalUsers.shape[0]) "
   ]
  },
  {
   "cell_type": "code",
   "execution_count": 100,
   "metadata": {},
   "outputs": [],
   "source": [
    "sampleAFiltered = pd.concat(\n",
    "    [\n",
    "        ordersByUsersA[\n",
    "            np.logical_not(ordersByUsersA['visitorId'].isin(abnormalUsers))\n",
    "        ]['orders'],\n",
    "        pd.Series(\n",
    "            0,\n",
    "            index=np.arange(\n",
    "                data['visitorsPerDateA'].sum() - len(ordersByUsersA['orders'])\n",
    "            ),\n",
    "            name='orders',\n",
    "        ),\n",
    "    ],\n",
    "    axis=0,\n",
    ")\n",
    "\n",
    "sampleBFiltered = pd.concat(\n",
    "    [\n",
    "        ordersByUsersB[\n",
    "            np.logical_not(ordersByUsersB['visitorId'].isin(abnormalUsers))\n",
    "        ]['orders'],\n",
    "        pd.Series(\n",
    "            0,\n",
    "            index=np.arange(\n",
    "                data['visitorsPerDateB'].sum() - len(ordersByUsersB['orders'])\n",
    "            ),\n",
    "            name='orders',\n",
    "        ),\n",
    "    ],\n",
    "    axis=0,\n",
    ") "
   ]
  },
  {
   "cell_type": "code",
   "execution_count": 101,
   "metadata": {},
   "outputs": [
    {
     "name": "stdout",
     "output_type": "stream",
     "text": [
      "P-value: 0.013\n",
      "Прирост в среднем количестве заказов  0.173\n"
     ]
    }
   ],
   "source": [
    "print(\"P-value:\", '{0:.3f}'.format(stats.mannwhitneyu(sampleAFiltered, sampleBFiltered)[1]))\n",
    "print(\"Прирост в среднем количестве заказов \", '{0:.3f}'.format(sampleBFiltered.mean()/sampleAFiltered.mean()-1)) "
   ]
  },
  {
   "cell_type": "markdown",
   "metadata": {},
   "source": [
    "### 3.12. Вывод\n",
    "Результаты по среднему количеству заказов практически не изменились. \n",
    "Как и в случае с сырыми данными, статистическая значимость достигнута. Относительный прирост среднего группы B к конверсии группы A  учеличился еще на 3,5% и составил 17,3 %.\n",
    "Значит, нулевую гипотезу о том, что статистически значимых различий в среднем числе заказов между группами нет - отвергаем. \n"
   ]
  },
  {
   "cell_type": "markdown",
   "metadata": {},
   "source": [
    "### 3.13. Посчитаем статистическую значимость различий в среднем чеке заказа между группами по «очищенным» данным. "
   ]
  },
  {
   "cell_type": "markdown",
   "metadata": {},
   "source": [
    "H_0: Статистически значимых различий в размере среднего чека заказа между группами А и В по \"очищенным\" данным нет.\n",
    "\n",
    "H_1: Существуют статистически значимые различия в размере среднего чека заказа между группами А и В по \"очищенным\" данным.\n",
    "\n",
    "alpha = 0.05\n",
    "\n",
    "Для сравнения гипотез применим тест Манна-Уитни."
   ]
  },
  {
   "cell_type": "code",
   "execution_count": 102,
   "metadata": {},
   "outputs": [
    {
     "name": "stdout",
     "output_type": "stream",
     "text": [
      "P-value: 0.738\n",
      "Прирост в среднем чеке заказов -0.020\n"
     ]
    }
   ],
   "source": [
    "print(\"P-value:\",\n",
    "    '{0:.3f}'.format(\n",
    "        stats.mannwhitneyu(\n",
    "            orders[\n",
    "                np.logical_and(\n",
    "                    orders['group'] == 'A',\n",
    "                    np.logical_not(orders['visitorId'].isin(abnormalUsers)),\n",
    "                )\n",
    "            ]['revenue'],\n",
    "            orders[\n",
    "                np.logical_and(\n",
    "                    orders['group'] == 'B',\n",
    "                    np.logical_not(orders['visitorId'].isin(abnormalUsers)),\n",
    "                )\n",
    "            ]['revenue'],\n",
    "        )[1]\n",
    "    )\n",
    ")\n",
    "\n",
    "print(\"Прирост в среднем чеке заказов\" ,\n",
    "    \"{0:.3f}\".format(\n",
    "        orders[\n",
    "            np.logical_and(\n",
    "                orders['group'] == 'B',\n",
    "                np.logical_not(orders['visitorId'].isin(abnormalUsers)),\n",
    "            )\n",
    "        ]['revenue'].mean()\n",
    "        / orders[\n",
    "            np.logical_and(\n",
    "                orders['group'] == 'A',\n",
    "                np.logical_not(orders['visitorId'].isin(abnormalUsers)),\n",
    "            )\n",
    "        ]['revenue'].mean()\n",
    "         - 1\n",
    "    )\n",
    ") \n"
   ]
  },
  {
   "cell_type": "markdown",
   "metadata": {},
   "source": [
    "### 3.13. Вывод\n",
    "P-value увеличился. Тенденция осталась такая же. Не отвергаем нулевую гипотезу. В среднем чеке между группами различий нет.\n",
    "Но при очистки данных мы увидели, что теперь средний чек группы В стал меньше среднего чека группы А на 2%. Такая разница в средних чеках не может быть признана значительной.\n",
    "Анамалии сильно влияют на результаты A/B-теста!"
   ]
  },
  {
   "cell_type": "markdown",
   "metadata": {},
   "source": [
    "## 4. Общий вывод\n",
    "\n",
    "Примем решение по результатам теста. Варианты решений:\n",
    "1. Остановить тест, зафиксировать победу одной из групп.\n",
    "2. Остановить тест, зафиксировать отсутствие различий между группами.\n",
    "3. Продолжить тест.\n",
    "\n",
    "Выборка данных достаточного размера и исключение проблемы подглядывания позволили провести тестирование сравнения групп без искажений. В результате анализа кумулятивных метрик по выручке, среднему чеку и конверсии, группа B почти всегда была лидером. Однако, возникли сомнения из-за резких колебаний среднего чека в группе B, но после очистки данных разница средних чеков стала незначительной. Несмотря на это, нет оснований сомневаться в проведении теста и его результате. Показатель конверсии в группе B как до, так и после очистки данных превышает показатель в группе A - соответственно, на 13.8% и 17.3%. Эта разница является статистически значимой, поэтому мы можем заключить, что группа B является победителем и остановить A/B тест. Кроме того, следует обратить внимание на то, почему наши пользователи делают мало заказов и как это можно изменить, но это будет вопросом для дальнейшего исследования."
   ]
  }
 ],
 "metadata": {
  "ExecuteTimeLog": [
   {
    "duration": 45,
    "start_time": "2023-09-07T07:50:27.882Z"
   },
   {
    "duration": 1402,
    "start_time": "2023-09-07T07:51:13.157Z"
   },
   {
    "duration": 3,
    "start_time": "2023-09-07T07:51:17.275Z"
   },
   {
    "duration": 150,
    "start_time": "2023-09-07T07:51:17.280Z"
   },
   {
    "duration": 68,
    "start_time": "2023-09-07T07:56:55.252Z"
   },
   {
    "duration": 2,
    "start_time": "2023-09-07T07:56:58.937Z"
   },
   {
    "duration": 83,
    "start_time": "2023-09-07T07:56:58.941Z"
   },
   {
    "duration": 13,
    "start_time": "2023-09-07T07:56:59.026Z"
   },
   {
    "duration": 4,
    "start_time": "2023-09-07T07:57:11.002Z"
   },
   {
    "duration": 83,
    "start_time": "2023-09-07T07:57:11.007Z"
   },
   {
    "duration": 14,
    "start_time": "2023-09-07T07:57:11.091Z"
   },
   {
    "duration": 9,
    "start_time": "2023-09-07T07:57:27.224Z"
   },
   {
    "duration": 10,
    "start_time": "2023-09-07T07:57:50.072Z"
   },
   {
    "duration": 76,
    "start_time": "2023-09-07T08:00:58.232Z"
   },
   {
    "duration": 9,
    "start_time": "2023-09-07T08:03:47.034Z"
   },
   {
    "duration": 9,
    "start_time": "2023-09-07T08:04:01.853Z"
   },
   {
    "duration": 8,
    "start_time": "2023-09-07T08:04:23.143Z"
   },
   {
    "duration": 4,
    "start_time": "2023-09-07T08:24:04.679Z"
   },
   {
    "duration": 119,
    "start_time": "2023-09-07T08:24:04.685Z"
   },
   {
    "duration": 0,
    "start_time": "2023-09-07T08:24:04.805Z"
   },
   {
    "duration": 0,
    "start_time": "2023-09-07T08:24:04.807Z"
   },
   {
    "duration": 3,
    "start_time": "2023-09-07T08:24:10.708Z"
   },
   {
    "duration": 96,
    "start_time": "2023-09-07T08:24:10.712Z"
   },
   {
    "duration": 0,
    "start_time": "2023-09-07T08:24:10.810Z"
   },
   {
    "duration": 0,
    "start_time": "2023-09-07T08:24:10.810Z"
   },
   {
    "duration": 3,
    "start_time": "2023-09-07T08:24:27.195Z"
   },
   {
    "duration": 135,
    "start_time": "2023-09-07T08:24:27.200Z"
   },
   {
    "duration": 9,
    "start_time": "2023-09-07T08:24:27.336Z"
   },
   {
    "duration": 14,
    "start_time": "2023-09-07T08:24:27.346Z"
   },
   {
    "duration": 9,
    "start_time": "2023-09-07T08:31:59.791Z"
   },
   {
    "duration": 88,
    "start_time": "2023-09-07T08:31:59.802Z"
   },
   {
    "duration": 11,
    "start_time": "2023-09-07T08:31:59.891Z"
   },
   {
    "duration": 20,
    "start_time": "2023-09-07T08:31:59.903Z"
   },
   {
    "duration": 397,
    "start_time": "2023-09-07T08:36:37.002Z"
   },
   {
    "duration": 3,
    "start_time": "2023-09-07T08:36:40.340Z"
   },
   {
    "duration": 91,
    "start_time": "2023-09-07T08:36:40.345Z"
   },
   {
    "duration": 8,
    "start_time": "2023-09-07T08:36:40.438Z"
   },
   {
    "duration": 9,
    "start_time": "2023-09-07T08:36:40.447Z"
   },
   {
    "duration": 756,
    "start_time": "2023-09-07T08:36:40.458Z"
   },
   {
    "duration": 3,
    "start_time": "2023-09-07T08:38:41.210Z"
   },
   {
    "duration": 108,
    "start_time": "2023-09-07T08:38:41.215Z"
   },
   {
    "duration": 9,
    "start_time": "2023-09-07T08:38:41.325Z"
   },
   {
    "duration": 10,
    "start_time": "2023-09-07T08:38:41.336Z"
   },
   {
    "duration": 25,
    "start_time": "2023-09-07T08:38:41.349Z"
   },
   {
    "duration": 3,
    "start_time": "2023-09-07T08:39:42.520Z"
   },
   {
    "duration": 111,
    "start_time": "2023-09-07T08:39:42.525Z"
   },
   {
    "duration": 9,
    "start_time": "2023-09-07T08:39:42.637Z"
   },
   {
    "duration": 8,
    "start_time": "2023-09-07T08:39:42.648Z"
   },
   {
    "duration": 405,
    "start_time": "2023-09-07T08:39:42.658Z"
   },
   {
    "duration": 3,
    "start_time": "2023-09-07T08:57:04.069Z"
   },
   {
    "duration": 107,
    "start_time": "2023-09-07T08:57:04.075Z"
   },
   {
    "duration": 11,
    "start_time": "2023-09-07T08:57:04.183Z"
   },
   {
    "duration": 22,
    "start_time": "2023-09-07T08:57:04.195Z"
   },
   {
    "duration": 15,
    "start_time": "2023-09-07T08:57:04.219Z"
   },
   {
    "duration": 171,
    "start_time": "2023-09-07T08:57:04.237Z"
   },
   {
    "duration": 138,
    "start_time": "2023-09-07T08:57:04.409Z"
   },
   {
    "duration": 13,
    "start_time": "2023-09-07T08:57:04.549Z"
   },
   {
    "duration": 4,
    "start_time": "2023-09-07T08:59:37.612Z"
   },
   {
    "duration": 105,
    "start_time": "2023-09-07T08:59:37.618Z"
   },
   {
    "duration": 10,
    "start_time": "2023-09-07T08:59:37.725Z"
   },
   {
    "duration": 39,
    "start_time": "2023-09-07T08:59:37.736Z"
   },
   {
    "duration": 45,
    "start_time": "2023-09-07T08:59:37.778Z"
   },
   {
    "duration": 153,
    "start_time": "2023-09-07T08:59:37.825Z"
   },
   {
    "duration": 118,
    "start_time": "2023-09-07T08:59:37.979Z"
   },
   {
    "duration": 10,
    "start_time": "2023-09-07T08:59:38.099Z"
   },
   {
    "duration": 329,
    "start_time": "2023-09-07T08:59:38.111Z"
   },
   {
    "duration": 235,
    "start_time": "2023-09-07T09:09:14.454Z"
   },
   {
    "duration": 335,
    "start_time": "2023-09-07T09:17:53.404Z"
   },
   {
    "duration": 59,
    "start_time": "2023-09-08T03:35:50.663Z"
   },
   {
    "duration": 925,
    "start_time": "2023-09-08T03:36:01.926Z"
   },
   {
    "duration": 228,
    "start_time": "2023-09-08T03:36:02.854Z"
   },
   {
    "duration": 12,
    "start_time": "2023-09-08T03:36:03.084Z"
   },
   {
    "duration": 18,
    "start_time": "2023-09-08T03:36:03.097Z"
   },
   {
    "duration": 33,
    "start_time": "2023-09-08T03:36:03.119Z"
   },
   {
    "duration": 185,
    "start_time": "2023-09-08T03:36:03.154Z"
   },
   {
    "duration": 131,
    "start_time": "2023-09-08T03:36:03.341Z"
   },
   {
    "duration": 9,
    "start_time": "2023-09-08T03:36:03.474Z"
   },
   {
    "duration": 301,
    "start_time": "2023-09-08T03:36:03.485Z"
   },
   {
    "duration": 195,
    "start_time": "2023-09-08T03:36:03.788Z"
   },
   {
    "duration": 369,
    "start_time": "2023-09-08T03:36:03.985Z"
   },
   {
    "duration": 249,
    "start_time": "2023-09-08T03:36:04.355Z"
   },
   {
    "duration": 179,
    "start_time": "2023-09-08T03:36:46.879Z"
   },
   {
    "duration": 213,
    "start_time": "2023-09-08T03:37:18.463Z"
   },
   {
    "duration": 185,
    "start_time": "2023-09-08T03:44:13.090Z"
   },
   {
    "duration": 167,
    "start_time": "2023-09-08T03:44:23.310Z"
   },
   {
    "duration": 3,
    "start_time": "2023-09-08T03:51:27.698Z"
   },
   {
    "duration": 118,
    "start_time": "2023-09-08T03:51:27.704Z"
   },
   {
    "duration": 11,
    "start_time": "2023-09-08T03:51:27.824Z"
   },
   {
    "duration": 22,
    "start_time": "2023-09-08T03:51:27.836Z"
   },
   {
    "duration": 20,
    "start_time": "2023-09-08T03:51:27.860Z"
   },
   {
    "duration": 188,
    "start_time": "2023-09-08T03:51:27.882Z"
   },
   {
    "duration": 145,
    "start_time": "2023-09-08T03:51:28.072Z"
   },
   {
    "duration": 12,
    "start_time": "2023-09-08T03:51:28.219Z"
   },
   {
    "duration": 203,
    "start_time": "2023-09-08T03:51:28.233Z"
   },
   {
    "duration": 219,
    "start_time": "2023-09-08T03:51:28.439Z"
   },
   {
    "duration": 301,
    "start_time": "2023-09-08T03:51:28.659Z"
   },
   {
    "duration": 198,
    "start_time": "2023-09-08T03:51:28.962Z"
   },
   {
    "duration": 295,
    "start_time": "2023-09-08T03:51:29.161Z"
   },
   {
    "duration": 313,
    "start_time": "2023-09-08T03:51:50.970Z"
   },
   {
    "duration": 370,
    "start_time": "2023-09-08T03:52:02.522Z"
   },
   {
    "duration": 306,
    "start_time": "2023-09-08T03:52:19.163Z"
   },
   {
    "duration": 370,
    "start_time": "2023-09-08T03:52:32.495Z"
   },
   {
    "duration": 294,
    "start_time": "2023-09-08T03:52:40.151Z"
   },
   {
    "duration": 275,
    "start_time": "2023-09-08T03:52:53.842Z"
   },
   {
    "duration": 270,
    "start_time": "2023-09-08T03:53:19.554Z"
   },
   {
    "duration": 302,
    "start_time": "2023-09-08T03:55:12.221Z"
   },
   {
    "duration": 280,
    "start_time": "2023-09-08T03:57:13.218Z"
   },
   {
    "duration": 251,
    "start_time": "2023-09-08T03:59:07.968Z"
   },
   {
    "duration": 313,
    "start_time": "2023-09-08T03:59:30.255Z"
   },
   {
    "duration": 313,
    "start_time": "2023-09-08T04:00:21.156Z"
   },
   {
    "duration": 303,
    "start_time": "2023-09-08T04:00:27.130Z"
   },
   {
    "duration": 392,
    "start_time": "2023-09-08T04:00:38.924Z"
   },
   {
    "duration": 12,
    "start_time": "2023-09-08T04:10:58.829Z"
   },
   {
    "duration": 165,
    "start_time": "2023-09-08T04:11:53.398Z"
   },
   {
    "duration": 8,
    "start_time": "2023-09-08T04:12:53.574Z"
   },
   {
    "duration": 4,
    "start_time": "2023-09-08T04:13:00.054Z"
   },
   {
    "duration": 167,
    "start_time": "2023-09-08T04:13:00.060Z"
   },
   {
    "duration": 11,
    "start_time": "2023-09-08T04:13:00.229Z"
   },
   {
    "duration": 16,
    "start_time": "2023-09-08T04:13:00.243Z"
   },
   {
    "duration": 36,
    "start_time": "2023-09-08T04:13:00.261Z"
   },
   {
    "duration": 212,
    "start_time": "2023-09-08T04:13:00.299Z"
   },
   {
    "duration": 155,
    "start_time": "2023-09-08T04:13:00.516Z"
   },
   {
    "duration": 40,
    "start_time": "2023-09-08T04:13:00.673Z"
   },
   {
    "duration": 454,
    "start_time": "2023-09-08T04:13:00.715Z"
   },
   {
    "duration": 217,
    "start_time": "2023-09-08T04:13:01.172Z"
   },
   {
    "duration": 323,
    "start_time": "2023-09-08T04:13:01.391Z"
   },
   {
    "duration": 202,
    "start_time": "2023-09-08T04:13:01.716Z"
   },
   {
    "duration": 319,
    "start_time": "2023-09-08T04:13:01.926Z"
   },
   {
    "duration": 10,
    "start_time": "2023-09-08T04:13:02.247Z"
   },
   {
    "duration": 105,
    "start_time": "2023-09-08T04:15:13.347Z"
   },
   {
    "duration": 156,
    "start_time": "2023-09-08T04:15:21.754Z"
   },
   {
    "duration": 14,
    "start_time": "2023-09-08T04:15:36.534Z"
   },
   {
    "duration": 129,
    "start_time": "2023-09-08T04:16:37.156Z"
   },
   {
    "duration": 4,
    "start_time": "2023-09-08T04:17:19.127Z"
   },
   {
    "duration": 129,
    "start_time": "2023-09-08T04:17:19.133Z"
   },
   {
    "duration": 14,
    "start_time": "2023-09-08T04:17:19.265Z"
   },
   {
    "duration": 19,
    "start_time": "2023-09-08T04:17:19.281Z"
   },
   {
    "duration": 38,
    "start_time": "2023-09-08T04:17:19.302Z"
   },
   {
    "duration": 190,
    "start_time": "2023-09-08T04:17:19.342Z"
   },
   {
    "duration": 142,
    "start_time": "2023-09-08T04:17:19.535Z"
   },
   {
    "duration": 10,
    "start_time": "2023-09-08T04:17:19.679Z"
   },
   {
    "duration": 241,
    "start_time": "2023-09-08T04:17:19.691Z"
   },
   {
    "duration": 213,
    "start_time": "2023-09-08T04:17:19.935Z"
   },
   {
    "duration": 289,
    "start_time": "2023-09-08T04:17:20.150Z"
   },
   {
    "duration": 296,
    "start_time": "2023-09-08T04:17:20.441Z"
   },
   {
    "duration": 299,
    "start_time": "2023-09-08T04:17:20.739Z"
   },
   {
    "duration": 9,
    "start_time": "2023-09-08T04:17:21.041Z"
   },
   {
    "duration": 207,
    "start_time": "2023-09-08T04:17:21.052Z"
   },
   {
    "duration": 132,
    "start_time": "2023-09-08T04:19:37.814Z"
   },
   {
    "duration": 118,
    "start_time": "2023-09-08T04:23:11.359Z"
   },
   {
    "duration": 7,
    "start_time": "2023-09-08T04:23:29.833Z"
   },
   {
    "duration": 4,
    "start_time": "2023-09-08T04:33:36.341Z"
   },
   {
    "duration": 151,
    "start_time": "2023-09-08T04:33:36.347Z"
   },
   {
    "duration": 15,
    "start_time": "2023-09-08T04:33:36.499Z"
   },
   {
    "duration": 30,
    "start_time": "2023-09-08T04:33:36.515Z"
   },
   {
    "duration": 21,
    "start_time": "2023-09-08T04:33:36.547Z"
   },
   {
    "duration": 195,
    "start_time": "2023-09-08T04:33:36.569Z"
   },
   {
    "duration": 159,
    "start_time": "2023-09-08T04:33:36.766Z"
   },
   {
    "duration": 14,
    "start_time": "2023-09-08T04:33:36.930Z"
   },
   {
    "duration": 215,
    "start_time": "2023-09-08T04:33:36.946Z"
   },
   {
    "duration": 224,
    "start_time": "2023-09-08T04:33:37.163Z"
   },
   {
    "duration": 369,
    "start_time": "2023-09-08T04:33:37.389Z"
   },
   {
    "duration": 205,
    "start_time": "2023-09-08T04:33:37.761Z"
   },
   {
    "duration": 386,
    "start_time": "2023-09-08T04:33:37.969Z"
   },
   {
    "duration": 13,
    "start_time": "2023-09-08T04:33:38.358Z"
   },
   {
    "duration": 177,
    "start_time": "2023-09-08T04:33:38.373Z"
   },
   {
    "duration": 6,
    "start_time": "2023-09-08T04:33:38.553Z"
   },
   {
    "duration": 9,
    "start_time": "2023-09-08T04:36:07.130Z"
   },
   {
    "duration": 4,
    "start_time": "2023-09-08T04:36:10.281Z"
   },
   {
    "duration": 170,
    "start_time": "2023-09-08T04:36:10.287Z"
   },
   {
    "duration": 11,
    "start_time": "2023-09-08T04:36:10.459Z"
   },
   {
    "duration": 59,
    "start_time": "2023-09-08T04:36:10.473Z"
   },
   {
    "duration": 32,
    "start_time": "2023-09-08T04:36:10.535Z"
   },
   {
    "duration": 228,
    "start_time": "2023-09-08T04:36:10.569Z"
   },
   {
    "duration": 146,
    "start_time": "2023-09-08T04:36:10.799Z"
   },
   {
    "duration": 12,
    "start_time": "2023-09-08T04:36:10.947Z"
   },
   {
    "duration": 237,
    "start_time": "2023-09-08T04:36:10.961Z"
   },
   {
    "duration": 229,
    "start_time": "2023-09-08T04:36:11.200Z"
   },
   {
    "duration": 376,
    "start_time": "2023-09-08T04:36:11.433Z"
   },
   {
    "duration": 217,
    "start_time": "2023-09-08T04:36:11.816Z"
   },
   {
    "duration": 291,
    "start_time": "2023-09-08T04:36:12.036Z"
   },
   {
    "duration": 12,
    "start_time": "2023-09-08T04:36:12.329Z"
   },
   {
    "duration": 144,
    "start_time": "2023-09-08T04:36:12.342Z"
   },
   {
    "duration": 19,
    "start_time": "2023-09-08T04:36:12.488Z"
   },
   {
    "duration": 11,
    "start_time": "2023-09-08T04:36:12.515Z"
   },
   {
    "duration": 147,
    "start_time": "2023-09-08T04:36:41.920Z"
   },
   {
    "duration": 7,
    "start_time": "2023-09-08T04:37:07.676Z"
   },
   {
    "duration": 151,
    "start_time": "2023-09-08T04:37:19.624Z"
   },
   {
    "duration": 16,
    "start_time": "2023-09-08T04:43:39.994Z"
   },
   {
    "duration": 155,
    "start_time": "2023-09-08T04:43:56.898Z"
   },
   {
    "duration": 6,
    "start_time": "2023-09-08T04:44:04.022Z"
   },
   {
    "duration": 15,
    "start_time": "2023-09-08T04:44:21.721Z"
   },
   {
    "duration": 10,
    "start_time": "2023-09-08T04:44:40.232Z"
   },
   {
    "duration": 7,
    "start_time": "2023-09-08T04:45:40.275Z"
   },
   {
    "duration": 194,
    "start_time": "2023-09-08T04:46:09.130Z"
   },
   {
    "duration": 4,
    "start_time": "2023-09-08T04:46:11.952Z"
   },
   {
    "duration": 5,
    "start_time": "2023-09-08T04:46:44.544Z"
   },
   {
    "duration": 5,
    "start_time": "2023-09-08T04:50:47.732Z"
   },
   {
    "duration": 6,
    "start_time": "2023-09-08T04:53:08.664Z"
   },
   {
    "duration": 6,
    "start_time": "2023-09-08T04:58:15.344Z"
   },
   {
    "duration": 10,
    "start_time": "2023-09-08T05:02:15.373Z"
   },
   {
    "duration": 7,
    "start_time": "2023-09-08T05:08:37.262Z"
   },
   {
    "duration": 5,
    "start_time": "2023-09-08T05:08:39.287Z"
   },
   {
    "duration": 164,
    "start_time": "2023-09-08T05:08:39.294Z"
   },
   {
    "duration": 16,
    "start_time": "2023-09-08T05:08:39.461Z"
   },
   {
    "duration": 56,
    "start_time": "2023-09-08T05:08:39.480Z"
   },
   {
    "duration": 21,
    "start_time": "2023-09-08T05:08:39.539Z"
   },
   {
    "duration": 348,
    "start_time": "2023-09-08T05:08:39.561Z"
   },
   {
    "duration": 152,
    "start_time": "2023-09-08T05:08:39.914Z"
   },
   {
    "duration": 11,
    "start_time": "2023-09-08T05:08:40.068Z"
   },
   {
    "duration": 265,
    "start_time": "2023-09-08T05:08:40.081Z"
   },
   {
    "duration": 224,
    "start_time": "2023-09-08T05:08:40.349Z"
   },
   {
    "duration": 351,
    "start_time": "2023-09-08T05:08:40.576Z"
   },
   {
    "duration": 221,
    "start_time": "2023-09-08T05:08:40.929Z"
   },
   {
    "duration": 292,
    "start_time": "2023-09-08T05:08:41.152Z"
   },
   {
    "duration": 10,
    "start_time": "2023-09-08T05:08:41.446Z"
   },
   {
    "duration": 179,
    "start_time": "2023-09-08T05:08:41.457Z"
   },
   {
    "duration": 10,
    "start_time": "2023-09-08T05:08:41.638Z"
   },
   {
    "duration": 274,
    "start_time": "2023-09-08T05:08:41.650Z"
   },
   {
    "duration": 0,
    "start_time": "2023-09-08T05:08:41.930Z"
   },
   {
    "duration": 0,
    "start_time": "2023-09-08T05:08:41.931Z"
   },
   {
    "duration": 0,
    "start_time": "2023-09-08T05:08:41.931Z"
   },
   {
    "duration": 0,
    "start_time": "2023-09-08T05:08:41.932Z"
   },
   {
    "duration": 4,
    "start_time": "2023-09-08T05:08:45.184Z"
   },
   {
    "duration": 206,
    "start_time": "2023-09-08T05:08:45.191Z"
   },
   {
    "duration": 33,
    "start_time": "2023-09-08T05:08:45.399Z"
   },
   {
    "duration": 75,
    "start_time": "2023-09-08T05:08:45.437Z"
   },
   {
    "duration": 22,
    "start_time": "2023-09-08T05:08:45.519Z"
   },
   {
    "duration": 205,
    "start_time": "2023-09-08T05:08:45.542Z"
   },
   {
    "duration": 143,
    "start_time": "2023-09-08T05:08:45.749Z"
   },
   {
    "duration": 23,
    "start_time": "2023-09-08T05:08:45.894Z"
   },
   {
    "duration": 239,
    "start_time": "2023-09-08T05:08:45.925Z"
   },
   {
    "duration": 354,
    "start_time": "2023-09-08T05:08:46.167Z"
   },
   {
    "duration": 328,
    "start_time": "2023-09-08T05:08:46.522Z"
   },
   {
    "duration": 210,
    "start_time": "2023-09-08T05:08:46.853Z"
   },
   {
    "duration": 384,
    "start_time": "2023-09-08T05:08:47.065Z"
   },
   {
    "duration": 11,
    "start_time": "2023-09-08T05:08:47.452Z"
   },
   {
    "duration": 150,
    "start_time": "2023-09-08T05:08:47.465Z"
   },
   {
    "duration": 5,
    "start_time": "2023-09-08T05:08:47.617Z"
   },
   {
    "duration": 172,
    "start_time": "2023-09-08T05:08:47.624Z"
   },
   {
    "duration": 0,
    "start_time": "2023-09-08T05:08:47.801Z"
   },
   {
    "duration": 0,
    "start_time": "2023-09-08T05:08:47.801Z"
   },
   {
    "duration": 0,
    "start_time": "2023-09-08T05:08:47.802Z"
   },
   {
    "duration": 4,
    "start_time": "2023-09-08T05:09:18.293Z"
   },
   {
    "duration": 143,
    "start_time": "2023-09-08T05:09:18.299Z"
   },
   {
    "duration": 15,
    "start_time": "2023-09-08T05:09:18.444Z"
   },
   {
    "duration": 19,
    "start_time": "2023-09-08T05:09:18.460Z"
   },
   {
    "duration": 7,
    "start_time": "2023-09-08T05:09:18.482Z"
   },
   {
    "duration": 233,
    "start_time": "2023-09-08T05:09:18.491Z"
   },
   {
    "duration": 136,
    "start_time": "2023-09-08T05:09:18.734Z"
   },
   {
    "duration": 10,
    "start_time": "2023-09-08T05:09:18.872Z"
   },
   {
    "duration": 228,
    "start_time": "2023-09-08T05:09:18.884Z"
   },
   {
    "duration": 218,
    "start_time": "2023-09-08T05:09:19.122Z"
   },
   {
    "duration": 303,
    "start_time": "2023-09-08T05:09:19.342Z"
   },
   {
    "duration": 215,
    "start_time": "2023-09-08T05:09:19.647Z"
   },
   {
    "duration": 341,
    "start_time": "2023-09-08T05:09:19.864Z"
   },
   {
    "duration": 25,
    "start_time": "2023-09-08T05:09:20.208Z"
   },
   {
    "duration": 193,
    "start_time": "2023-09-08T05:09:20.236Z"
   },
   {
    "duration": 5,
    "start_time": "2023-09-08T05:09:20.436Z"
   },
   {
    "duration": 205,
    "start_time": "2023-09-08T05:09:20.443Z"
   },
   {
    "duration": 0,
    "start_time": "2023-09-08T05:09:20.650Z"
   },
   {
    "duration": 0,
    "start_time": "2023-09-08T05:09:20.651Z"
   },
   {
    "duration": 0,
    "start_time": "2023-09-08T05:09:20.652Z"
   },
   {
    "duration": 7,
    "start_time": "2023-09-08T05:10:02.033Z"
   },
   {
    "duration": 4,
    "start_time": "2023-09-08T05:20:56.778Z"
   },
   {
    "duration": 132,
    "start_time": "2023-09-08T05:20:56.997Z"
   },
   {
    "duration": 14,
    "start_time": "2023-09-08T05:20:57.131Z"
   },
   {
    "duration": 13,
    "start_time": "2023-09-08T05:20:57.223Z"
   },
   {
    "duration": 9,
    "start_time": "2023-09-08T05:20:57.240Z"
   },
   {
    "duration": 218,
    "start_time": "2023-09-08T05:20:57.250Z"
   },
   {
    "duration": 151,
    "start_time": "2023-09-08T05:20:57.470Z"
   },
   {
    "duration": 16,
    "start_time": "2023-09-08T05:20:57.624Z"
   },
   {
    "duration": 225,
    "start_time": "2023-09-08T05:20:57.642Z"
   },
   {
    "duration": 724,
    "start_time": "2023-09-08T05:20:57.869Z"
   },
   {
    "duration": 338,
    "start_time": "2023-09-08T05:20:58.594Z"
   },
   {
    "duration": 326,
    "start_time": "2023-09-08T05:20:58.934Z"
   },
   {
    "duration": 369,
    "start_time": "2023-09-08T05:20:59.261Z"
   },
   {
    "duration": 10,
    "start_time": "2023-09-08T05:20:59.632Z"
   },
   {
    "duration": 162,
    "start_time": "2023-09-08T05:20:59.643Z"
   },
   {
    "duration": 22,
    "start_time": "2023-09-08T05:20:59.806Z"
   },
   {
    "duration": 204,
    "start_time": "2023-09-08T05:20:59.832Z"
   },
   {
    "duration": 0,
    "start_time": "2023-09-08T05:21:00.037Z"
   },
   {
    "duration": 0,
    "start_time": "2023-09-08T05:21:00.039Z"
   },
   {
    "duration": 0,
    "start_time": "2023-09-08T05:21:00.040Z"
   },
   {
    "duration": 0,
    "start_time": "2023-09-08T05:21:00.041Z"
   },
   {
    "duration": 8,
    "start_time": "2023-09-08T05:21:17.204Z"
   },
   {
    "duration": 145,
    "start_time": "2023-09-08T05:21:17.215Z"
   },
   {
    "duration": 15,
    "start_time": "2023-09-08T05:21:17.363Z"
   },
   {
    "duration": 11,
    "start_time": "2023-09-08T05:21:17.381Z"
   },
   {
    "duration": 35,
    "start_time": "2023-09-08T05:21:17.394Z"
   },
   {
    "duration": 220,
    "start_time": "2023-09-08T05:21:17.431Z"
   },
   {
    "duration": 138,
    "start_time": "2023-09-08T05:21:17.654Z"
   },
   {
    "duration": 35,
    "start_time": "2023-09-08T05:21:17.794Z"
   },
   {
    "duration": 215,
    "start_time": "2023-09-08T05:21:17.832Z"
   },
   {
    "duration": 230,
    "start_time": "2023-09-08T05:21:18.049Z"
   },
   {
    "duration": 355,
    "start_time": "2023-09-08T05:21:18.281Z"
   },
   {
    "duration": 215,
    "start_time": "2023-09-08T05:21:18.640Z"
   },
   {
    "duration": 336,
    "start_time": "2023-09-08T05:21:18.857Z"
   },
   {
    "duration": 27,
    "start_time": "2023-09-08T05:21:19.195Z"
   },
   {
    "duration": 135,
    "start_time": "2023-09-08T05:21:19.228Z"
   },
   {
    "duration": 6,
    "start_time": "2023-09-08T05:21:19.365Z"
   },
   {
    "duration": 181,
    "start_time": "2023-09-08T05:21:19.373Z"
   },
   {
    "duration": 0,
    "start_time": "2023-09-08T05:21:19.556Z"
   },
   {
    "duration": 0,
    "start_time": "2023-09-08T05:21:19.558Z"
   },
   {
    "duration": 0,
    "start_time": "2023-09-08T05:21:19.559Z"
   },
   {
    "duration": 7,
    "start_time": "2023-09-08T05:21:44.530Z"
   },
   {
    "duration": 150,
    "start_time": "2023-09-08T05:21:44.540Z"
   },
   {
    "duration": 24,
    "start_time": "2023-09-08T05:21:44.692Z"
   },
   {
    "duration": 16,
    "start_time": "2023-09-08T05:21:44.726Z"
   },
   {
    "duration": 24,
    "start_time": "2023-09-08T05:21:44.745Z"
   },
   {
    "duration": 216,
    "start_time": "2023-09-08T05:21:44.772Z"
   },
   {
    "duration": 144,
    "start_time": "2023-09-08T05:21:44.990Z"
   },
   {
    "duration": 22,
    "start_time": "2023-09-08T05:21:45.136Z"
   },
   {
    "duration": 267,
    "start_time": "2023-09-08T05:21:45.161Z"
   },
   {
    "duration": 215,
    "start_time": "2023-09-08T05:21:45.429Z"
   },
   {
    "duration": 286,
    "start_time": "2023-09-08T05:21:45.646Z"
   },
   {
    "duration": 213,
    "start_time": "2023-09-08T05:21:45.935Z"
   },
   {
    "duration": 325,
    "start_time": "2023-09-08T05:21:46.150Z"
   },
   {
    "duration": 9,
    "start_time": "2023-09-08T05:21:46.477Z"
   },
   {
    "duration": 164,
    "start_time": "2023-09-08T05:21:46.488Z"
   },
   {
    "duration": 5,
    "start_time": "2023-09-08T05:21:46.654Z"
   },
   {
    "duration": 787,
    "start_time": "2023-09-08T05:21:46.660Z"
   },
   {
    "duration": 0,
    "start_time": "2023-09-08T05:21:47.449Z"
   },
   {
    "duration": 0,
    "start_time": "2023-09-08T05:21:47.451Z"
   },
   {
    "duration": 0,
    "start_time": "2023-09-08T05:21:47.452Z"
   },
   {
    "duration": 5,
    "start_time": "2023-09-08T05:22:02.278Z"
   },
   {
    "duration": 301,
    "start_time": "2023-09-08T05:22:02.286Z"
   },
   {
    "duration": 43,
    "start_time": "2023-09-08T05:22:02.590Z"
   },
   {
    "duration": 25,
    "start_time": "2023-09-08T05:22:02.638Z"
   },
   {
    "duration": 59,
    "start_time": "2023-09-08T05:22:02.665Z"
   },
   {
    "duration": 390,
    "start_time": "2023-09-08T05:22:02.726Z"
   },
   {
    "duration": 159,
    "start_time": "2023-09-08T05:22:03.120Z"
   },
   {
    "duration": 12,
    "start_time": "2023-09-08T05:22:03.281Z"
   },
   {
    "duration": 356,
    "start_time": "2023-09-08T05:22:03.295Z"
   },
   {
    "duration": 384,
    "start_time": "2023-09-08T05:22:03.655Z"
   },
   {
    "duration": 343,
    "start_time": "2023-09-08T05:22:04.041Z"
   },
   {
    "duration": 252,
    "start_time": "2023-09-08T05:22:04.386Z"
   },
   {
    "duration": 333,
    "start_time": "2023-09-08T05:22:04.641Z"
   },
   {
    "duration": 12,
    "start_time": "2023-09-08T05:22:04.977Z"
   },
   {
    "duration": 157,
    "start_time": "2023-09-08T05:22:04.991Z"
   },
   {
    "duration": 6,
    "start_time": "2023-09-08T05:22:05.150Z"
   },
   {
    "duration": 193,
    "start_time": "2023-09-08T05:22:05.158Z"
   },
   {
    "duration": 0,
    "start_time": "2023-09-08T05:22:05.353Z"
   },
   {
    "duration": 0,
    "start_time": "2023-09-08T05:22:05.355Z"
   },
   {
    "duration": 5,
    "start_time": "2023-09-08T05:22:24.246Z"
   },
   {
    "duration": 213,
    "start_time": "2023-09-08T05:22:24.254Z"
   },
   {
    "duration": 11,
    "start_time": "2023-09-08T05:22:24.469Z"
   },
   {
    "duration": 28,
    "start_time": "2023-09-08T05:22:24.481Z"
   },
   {
    "duration": 33,
    "start_time": "2023-09-08T05:22:24.512Z"
   },
   {
    "duration": 247,
    "start_time": "2023-09-08T05:22:24.548Z"
   },
   {
    "duration": 163,
    "start_time": "2023-09-08T05:22:24.798Z"
   },
   {
    "duration": 12,
    "start_time": "2023-09-08T05:22:24.962Z"
   },
   {
    "duration": 234,
    "start_time": "2023-09-08T05:22:24.976Z"
   },
   {
    "duration": 215,
    "start_time": "2023-09-08T05:22:25.211Z"
   },
   {
    "duration": 291,
    "start_time": "2023-09-08T05:22:25.431Z"
   },
   {
    "duration": 200,
    "start_time": "2023-09-08T05:22:25.731Z"
   },
   {
    "duration": 302,
    "start_time": "2023-09-08T05:22:25.933Z"
   },
   {
    "duration": 9,
    "start_time": "2023-09-08T05:22:26.237Z"
   },
   {
    "duration": 151,
    "start_time": "2023-09-08T05:22:26.248Z"
   },
   {
    "duration": 18,
    "start_time": "2023-09-08T05:22:26.405Z"
   },
   {
    "duration": 155,
    "start_time": "2023-09-08T05:22:26.430Z"
   },
   {
    "duration": 0,
    "start_time": "2023-09-08T05:22:26.587Z"
   },
   {
    "duration": 0,
    "start_time": "2023-09-08T05:22:26.589Z"
   },
   {
    "duration": 6,
    "start_time": "2023-09-08T05:22:45.221Z"
   },
   {
    "duration": 20,
    "start_time": "2023-09-08T05:22:52.419Z"
   },
   {
    "duration": 163,
    "start_time": "2023-09-08T05:24:22.833Z"
   },
   {
    "duration": 4,
    "start_time": "2023-09-08T05:27:46.855Z"
   },
   {
    "duration": 181,
    "start_time": "2023-09-08T05:27:46.862Z"
   },
   {
    "duration": 11,
    "start_time": "2023-09-08T05:27:47.045Z"
   },
   {
    "duration": 17,
    "start_time": "2023-09-08T05:27:47.059Z"
   },
   {
    "duration": 47,
    "start_time": "2023-09-08T05:27:47.078Z"
   },
   {
    "duration": 326,
    "start_time": "2023-09-08T05:27:47.129Z"
   },
   {
    "duration": 162,
    "start_time": "2023-09-08T05:27:47.458Z"
   },
   {
    "duration": 15,
    "start_time": "2023-09-08T05:27:47.625Z"
   },
   {
    "duration": 232,
    "start_time": "2023-09-08T05:27:47.643Z"
   },
   {
    "duration": 245,
    "start_time": "2023-09-08T05:27:47.877Z"
   },
   {
    "duration": 277,
    "start_time": "2023-09-08T05:27:48.127Z"
   },
   {
    "duration": 220,
    "start_time": "2023-09-08T05:27:48.412Z"
   },
   {
    "duration": 325,
    "start_time": "2023-09-08T05:27:48.636Z"
   },
   {
    "duration": 10,
    "start_time": "2023-09-08T05:27:48.963Z"
   },
   {
    "duration": 149,
    "start_time": "2023-09-08T05:27:48.975Z"
   },
   {
    "duration": 7,
    "start_time": "2023-09-08T05:27:49.126Z"
   },
   {
    "duration": 179,
    "start_time": "2023-09-08T05:27:49.135Z"
   },
   {
    "duration": 0,
    "start_time": "2023-09-08T05:27:49.316Z"
   },
   {
    "duration": 0,
    "start_time": "2023-09-08T05:27:49.317Z"
   },
   {
    "duration": 0,
    "start_time": "2023-09-08T05:27:49.318Z"
   },
   {
    "duration": 83,
    "start_time": "2023-09-08T05:28:49.592Z"
   },
   {
    "duration": 1058,
    "start_time": "2023-09-08T05:29:04.041Z"
   },
   {
    "duration": 216,
    "start_time": "2023-09-08T05:29:05.102Z"
   },
   {
    "duration": 19,
    "start_time": "2023-09-08T05:29:05.320Z"
   },
   {
    "duration": 23,
    "start_time": "2023-09-08T05:29:05.345Z"
   },
   {
    "duration": 10,
    "start_time": "2023-09-08T05:29:05.377Z"
   },
   {
    "duration": 320,
    "start_time": "2023-09-08T05:29:05.393Z"
   },
   {
    "duration": 177,
    "start_time": "2023-09-08T05:29:05.715Z"
   },
   {
    "duration": 23,
    "start_time": "2023-09-08T05:29:05.895Z"
   },
   {
    "duration": 404,
    "start_time": "2023-09-08T05:29:05.920Z"
   },
   {
    "duration": 300,
    "start_time": "2023-09-08T05:29:06.327Z"
   },
   {
    "duration": 386,
    "start_time": "2023-09-08T05:29:06.629Z"
   },
   {
    "duration": 345,
    "start_time": "2023-09-08T05:29:07.026Z"
   },
   {
    "duration": 309,
    "start_time": "2023-09-08T05:29:07.377Z"
   },
   {
    "duration": 34,
    "start_time": "2023-09-08T05:29:07.689Z"
   },
   {
    "duration": 211,
    "start_time": "2023-09-08T05:29:07.729Z"
   },
   {
    "duration": 12,
    "start_time": "2023-09-08T05:29:07.948Z"
   },
   {
    "duration": 298,
    "start_time": "2023-09-08T05:29:07.963Z"
   },
   {
    "duration": 0,
    "start_time": "2023-09-08T05:29:08.263Z"
   },
   {
    "duration": 0,
    "start_time": "2023-09-08T05:29:08.265Z"
   },
   {
    "duration": 0,
    "start_time": "2023-09-08T05:29:08.266Z"
   },
   {
    "duration": 922,
    "start_time": "2023-09-08T05:29:58.874Z"
   },
   {
    "duration": 178,
    "start_time": "2023-09-08T05:29:59.798Z"
   },
   {
    "duration": 18,
    "start_time": "2023-09-08T05:29:59.978Z"
   },
   {
    "duration": 11,
    "start_time": "2023-09-08T05:30:00.000Z"
   },
   {
    "duration": 63,
    "start_time": "2023-09-08T05:30:00.013Z"
   },
   {
    "duration": 312,
    "start_time": "2023-09-08T05:30:00.079Z"
   },
   {
    "duration": 224,
    "start_time": "2023-09-08T05:30:00.393Z"
   },
   {
    "duration": 17,
    "start_time": "2023-09-08T05:30:00.620Z"
   },
   {
    "duration": 543,
    "start_time": "2023-09-08T05:30:00.640Z"
   },
   {
    "duration": 326,
    "start_time": "2023-09-08T05:30:01.190Z"
   },
   {
    "duration": 435,
    "start_time": "2023-09-08T05:30:01.524Z"
   },
   {
    "duration": 515,
    "start_time": "2023-09-08T05:30:01.967Z"
   },
   {
    "duration": 658,
    "start_time": "2023-09-08T05:30:02.487Z"
   },
   {
    "duration": 23,
    "start_time": "2023-09-08T05:30:03.152Z"
   },
   {
    "duration": 196,
    "start_time": "2023-09-08T05:30:03.177Z"
   },
   {
    "duration": 7,
    "start_time": "2023-09-08T05:30:03.376Z"
   },
   {
    "duration": 385,
    "start_time": "2023-09-08T05:30:03.384Z"
   },
   {
    "duration": 0,
    "start_time": "2023-09-08T05:30:03.771Z"
   },
   {
    "duration": 0,
    "start_time": "2023-09-08T05:30:03.772Z"
   },
   {
    "duration": 0,
    "start_time": "2023-09-08T05:30:03.774Z"
   },
   {
    "duration": 7,
    "start_time": "2023-09-08T05:30:21.833Z"
   },
   {
    "duration": 209,
    "start_time": "2023-09-08T05:30:31.982Z"
   },
   {
    "duration": 11,
    "start_time": "2023-09-08T05:31:39.822Z"
   },
   {
    "duration": 155,
    "start_time": "2023-09-08T05:31:39.834Z"
   },
   {
    "duration": 44,
    "start_time": "2023-09-08T05:31:39.991Z"
   },
   {
    "duration": 40,
    "start_time": "2023-09-08T05:31:40.041Z"
   },
   {
    "duration": 60,
    "start_time": "2023-09-08T05:31:40.083Z"
   },
   {
    "duration": 318,
    "start_time": "2023-09-08T05:31:40.150Z"
   },
   {
    "duration": 153,
    "start_time": "2023-09-08T05:31:40.470Z"
   },
   {
    "duration": 15,
    "start_time": "2023-09-08T05:31:40.625Z"
   },
   {
    "duration": 298,
    "start_time": "2023-09-08T05:31:40.642Z"
   },
   {
    "duration": 235,
    "start_time": "2023-09-08T05:31:40.945Z"
   },
   {
    "duration": 365,
    "start_time": "2023-09-08T05:31:41.183Z"
   },
   {
    "duration": 229,
    "start_time": "2023-09-08T05:31:41.550Z"
   },
   {
    "duration": 362,
    "start_time": "2023-09-08T05:31:41.780Z"
   },
   {
    "duration": 20,
    "start_time": "2023-09-08T05:31:42.145Z"
   },
   {
    "duration": 150,
    "start_time": "2023-09-08T05:31:42.169Z"
   },
   {
    "duration": 5,
    "start_time": "2023-09-08T05:31:42.321Z"
   },
   {
    "duration": 259,
    "start_time": "2023-09-08T05:31:42.328Z"
   },
   {
    "duration": 2,
    "start_time": "2023-09-08T05:31:42.592Z"
   },
   {
    "duration": 143,
    "start_time": "2023-09-08T05:31:42.596Z"
   },
   {
    "duration": 0,
    "start_time": "2023-09-08T05:31:42.741Z"
   },
   {
    "duration": 5,
    "start_time": "2023-09-08T05:31:51.856Z"
   },
   {
    "duration": 168,
    "start_time": "2023-09-08T05:31:51.864Z"
   },
   {
    "duration": 21,
    "start_time": "2023-09-08T05:31:52.038Z"
   },
   {
    "duration": 25,
    "start_time": "2023-09-08T05:31:52.063Z"
   },
   {
    "duration": 54,
    "start_time": "2023-09-08T05:31:52.091Z"
   },
   {
    "duration": 263,
    "start_time": "2023-09-08T05:31:52.150Z"
   },
   {
    "duration": 187,
    "start_time": "2023-09-08T05:31:52.415Z"
   },
   {
    "duration": 18,
    "start_time": "2023-09-08T05:31:52.606Z"
   },
   {
    "duration": 260,
    "start_time": "2023-09-08T05:31:52.626Z"
   },
   {
    "duration": 254,
    "start_time": "2023-09-08T05:31:52.888Z"
   },
   {
    "duration": 333,
    "start_time": "2023-09-08T05:31:53.147Z"
   },
   {
    "duration": 257,
    "start_time": "2023-09-08T05:31:53.483Z"
   },
   {
    "duration": 341,
    "start_time": "2023-09-08T05:31:53.742Z"
   },
   {
    "duration": 26,
    "start_time": "2023-09-08T05:31:54.086Z"
   },
   {
    "duration": 180,
    "start_time": "2023-09-08T05:31:54.115Z"
   },
   {
    "duration": 12,
    "start_time": "2023-09-08T05:31:54.297Z"
   },
   {
    "duration": 247,
    "start_time": "2023-09-08T05:31:54.311Z"
   },
   {
    "duration": 8,
    "start_time": "2023-09-08T05:31:54.560Z"
   },
   {
    "duration": 194,
    "start_time": "2023-09-08T05:31:54.570Z"
   },
   {
    "duration": 0,
    "start_time": "2023-09-08T05:31:54.769Z"
   },
   {
    "duration": 256,
    "start_time": "2023-09-08T05:34:09.270Z"
   },
   {
    "duration": 159,
    "start_time": "2023-09-08T05:34:33.820Z"
   },
   {
    "duration": 1473,
    "start_time": "2023-09-08T05:35:37.363Z"
   },
   {
    "duration": 176,
    "start_time": "2023-09-08T05:35:38.839Z"
   },
   {
    "duration": 18,
    "start_time": "2023-09-08T05:35:39.017Z"
   },
   {
    "duration": 27,
    "start_time": "2023-09-08T05:35:39.037Z"
   },
   {
    "duration": 16,
    "start_time": "2023-09-08T05:35:39.069Z"
   },
   {
    "duration": 306,
    "start_time": "2023-09-08T05:35:39.087Z"
   },
   {
    "duration": 159,
    "start_time": "2023-09-08T05:35:39.395Z"
   },
   {
    "duration": 19,
    "start_time": "2023-09-08T05:35:39.558Z"
   },
   {
    "duration": 446,
    "start_time": "2023-09-08T05:35:39.579Z"
   },
   {
    "duration": 309,
    "start_time": "2023-09-08T05:35:40.032Z"
   },
   {
    "duration": 348,
    "start_time": "2023-09-08T05:35:40.347Z"
   },
   {
    "duration": 273,
    "start_time": "2023-09-08T05:35:40.697Z"
   },
   {
    "duration": 375,
    "start_time": "2023-09-08T05:35:40.973Z"
   },
   {
    "duration": 15,
    "start_time": "2023-09-08T05:35:41.351Z"
   },
   {
    "duration": 160,
    "start_time": "2023-09-08T05:35:41.368Z"
   },
   {
    "duration": 10,
    "start_time": "2023-09-08T05:35:41.533Z"
   },
   {
    "duration": 183,
    "start_time": "2023-09-08T05:35:41.544Z"
   },
   {
    "duration": 11,
    "start_time": "2023-09-08T05:35:41.729Z"
   },
   {
    "duration": 4,
    "start_time": "2023-09-08T05:35:42.272Z"
   },
   {
    "duration": 184,
    "start_time": "2023-09-08T05:35:42.278Z"
   },
   {
    "duration": 14,
    "start_time": "2023-09-08T05:35:42.464Z"
   },
   {
    "duration": 12,
    "start_time": "2023-09-08T05:35:42.479Z"
   },
   {
    "duration": 33,
    "start_time": "2023-09-08T05:35:42.493Z"
   },
   {
    "duration": 224,
    "start_time": "2023-09-08T05:35:42.537Z"
   },
   {
    "duration": 182,
    "start_time": "2023-09-08T05:35:42.763Z"
   },
   {
    "duration": 20,
    "start_time": "2023-09-08T05:35:42.953Z"
   },
   {
    "duration": 393,
    "start_time": "2023-09-08T05:35:42.977Z"
   },
   {
    "duration": 261,
    "start_time": "2023-09-08T05:35:43.376Z"
   },
   {
    "duration": 308,
    "start_time": "2023-09-08T05:35:43.638Z"
   },
   {
    "duration": 268,
    "start_time": "2023-09-08T05:35:43.951Z"
   },
   {
    "duration": 350,
    "start_time": "2023-09-08T05:35:44.223Z"
   },
   {
    "duration": 14,
    "start_time": "2023-09-08T05:35:44.575Z"
   },
   {
    "duration": 231,
    "start_time": "2023-09-08T05:35:44.593Z"
   },
   {
    "duration": 14,
    "start_time": "2023-09-08T05:35:44.830Z"
   },
   {
    "duration": 225,
    "start_time": "2023-09-08T05:35:44.849Z"
   },
   {
    "duration": 13,
    "start_time": "2023-09-08T05:35:45.076Z"
   },
   {
    "duration": 348,
    "start_time": "2023-09-08T05:35:45.091Z"
   },
   {
    "duration": 221,
    "start_time": "2023-09-08T05:35:45.441Z"
   },
   {
    "duration": 195,
    "start_time": "2023-09-08T05:35:59.830Z"
   },
   {
    "duration": 11,
    "start_time": "2023-09-08T05:43:34.474Z"
   },
   {
    "duration": 9,
    "start_time": "2023-09-08T05:51:00.686Z"
   },
   {
    "duration": 9,
    "start_time": "2023-09-08T05:52:47.225Z"
   },
   {
    "duration": 8,
    "start_time": "2023-09-08T05:53:42.159Z"
   },
   {
    "duration": 27,
    "start_time": "2023-09-08T05:53:54.240Z"
   },
   {
    "duration": 27,
    "start_time": "2023-09-08T05:55:02.772Z"
   },
   {
    "duration": 27,
    "start_time": "2023-09-08T05:55:10.653Z"
   },
   {
    "duration": 118,
    "start_time": "2023-09-08T06:03:09.086Z"
   },
   {
    "duration": 29,
    "start_time": "2023-09-08T06:03:29.415Z"
   },
   {
    "duration": 95,
    "start_time": "2023-09-08T06:06:02.779Z"
   },
   {
    "duration": 4,
    "start_time": "2023-09-08T06:13:43.337Z"
   },
   {
    "duration": 143,
    "start_time": "2023-09-08T06:13:43.343Z"
   },
   {
    "duration": 10,
    "start_time": "2023-09-08T06:13:43.488Z"
   },
   {
    "duration": 64,
    "start_time": "2023-09-08T06:13:43.501Z"
   },
   {
    "duration": 29,
    "start_time": "2023-09-08T06:13:43.567Z"
   },
   {
    "duration": 224,
    "start_time": "2023-09-08T06:13:43.598Z"
   },
   {
    "duration": 136,
    "start_time": "2023-09-08T06:13:43.826Z"
   },
   {
    "duration": 11,
    "start_time": "2023-09-08T06:13:43.964Z"
   },
   {
    "duration": 228,
    "start_time": "2023-09-08T06:13:43.977Z"
   },
   {
    "duration": 219,
    "start_time": "2023-09-08T06:13:44.215Z"
   },
   {
    "duration": 304,
    "start_time": "2023-09-08T06:13:44.436Z"
   },
   {
    "duration": 234,
    "start_time": "2023-09-08T06:13:44.742Z"
   },
   {
    "duration": 348,
    "start_time": "2023-09-08T06:13:44.978Z"
   },
   {
    "duration": 10,
    "start_time": "2023-09-08T06:13:45.330Z"
   },
   {
    "duration": 146,
    "start_time": "2023-09-08T06:13:45.342Z"
   },
   {
    "duration": 5,
    "start_time": "2023-09-08T06:13:45.490Z"
   },
   {
    "duration": 235,
    "start_time": "2023-09-08T06:13:45.504Z"
   },
   {
    "duration": 5,
    "start_time": "2023-09-08T06:13:45.741Z"
   },
   {
    "duration": 247,
    "start_time": "2023-09-08T06:13:45.748Z"
   },
   {
    "duration": 215,
    "start_time": "2023-09-08T06:13:45.997Z"
   },
   {
    "duration": 12,
    "start_time": "2023-09-08T06:13:46.228Z"
   },
   {
    "duration": 9,
    "start_time": "2023-09-08T06:13:46.242Z"
   },
   {
    "duration": 9,
    "start_time": "2023-09-08T06:13:46.253Z"
   },
   {
    "duration": 25,
    "start_time": "2023-09-08T06:13:46.264Z"
   },
   {
    "duration": 40,
    "start_time": "2023-09-08T06:13:46.291Z"
   },
   {
    "duration": 1189,
    "start_time": "2023-09-08T06:22:02.673Z"
   },
   {
    "duration": 135,
    "start_time": "2023-09-08T06:22:03.865Z"
   },
   {
    "duration": 22,
    "start_time": "2023-09-08T06:22:04.013Z"
   },
   {
    "duration": 46,
    "start_time": "2023-09-08T06:22:04.037Z"
   },
   {
    "duration": 59,
    "start_time": "2023-09-08T06:22:04.086Z"
   },
   {
    "duration": 238,
    "start_time": "2023-09-08T06:22:04.147Z"
   },
   {
    "duration": 151,
    "start_time": "2023-09-08T06:22:04.387Z"
   },
   {
    "duration": 11,
    "start_time": "2023-09-08T06:22:04.540Z"
   },
   {
    "duration": 385,
    "start_time": "2023-09-08T06:22:04.553Z"
   },
   {
    "duration": 223,
    "start_time": "2023-09-08T06:22:04.940Z"
   },
   {
    "duration": 347,
    "start_time": "2023-09-08T06:22:05.165Z"
   },
   {
    "duration": 201,
    "start_time": "2023-09-08T06:22:05.514Z"
   },
   {
    "duration": 313,
    "start_time": "2023-09-08T06:22:05.722Z"
   },
   {
    "duration": 10,
    "start_time": "2023-09-08T06:22:06.038Z"
   },
   {
    "duration": 155,
    "start_time": "2023-09-08T06:22:06.050Z"
   },
   {
    "duration": 6,
    "start_time": "2023-09-08T06:22:06.207Z"
   },
   {
    "duration": 176,
    "start_time": "2023-09-08T06:22:06.215Z"
   },
   {
    "duration": 17,
    "start_time": "2023-09-08T06:22:06.393Z"
   },
   {
    "duration": 288,
    "start_time": "2023-09-08T06:22:06.413Z"
   },
   {
    "duration": 235,
    "start_time": "2023-09-08T06:22:06.707Z"
   },
   {
    "duration": 12,
    "start_time": "2023-09-08T06:22:06.944Z"
   },
   {
    "duration": 16,
    "start_time": "2023-09-08T06:22:06.958Z"
   },
   {
    "duration": 31,
    "start_time": "2023-09-08T06:22:06.976Z"
   },
   {
    "duration": 46,
    "start_time": "2023-09-08T06:22:07.008Z"
   },
   {
    "duration": 15,
    "start_time": "2023-09-08T06:22:07.056Z"
   },
   {
    "duration": 5,
    "start_time": "2023-09-08T06:22:07.536Z"
   },
   {
    "duration": 135,
    "start_time": "2023-09-08T06:22:07.543Z"
   },
   {
    "duration": 11,
    "start_time": "2023-09-08T06:22:07.680Z"
   },
   {
    "duration": 23,
    "start_time": "2023-09-08T06:22:07.693Z"
   },
   {
    "duration": 11,
    "start_time": "2023-09-08T06:22:07.728Z"
   },
   {
    "duration": 200,
    "start_time": "2023-09-08T06:22:07.741Z"
   },
   {
    "duration": 141,
    "start_time": "2023-09-08T06:22:07.943Z"
   },
   {
    "duration": 35,
    "start_time": "2023-09-08T06:22:08.086Z"
   },
   {
    "duration": 317,
    "start_time": "2023-09-08T06:22:08.134Z"
   },
   {
    "duration": 244,
    "start_time": "2023-09-08T06:22:08.454Z"
   },
   {
    "duration": 323,
    "start_time": "2023-09-08T06:22:08.700Z"
   },
   {
    "duration": 248,
    "start_time": "2023-09-08T06:22:09.025Z"
   },
   {
    "duration": 361,
    "start_time": "2023-09-08T06:22:09.274Z"
   },
   {
    "duration": 11,
    "start_time": "2023-09-08T06:22:09.640Z"
   },
   {
    "duration": 177,
    "start_time": "2023-09-08T06:22:09.652Z"
   },
   {
    "duration": 6,
    "start_time": "2023-09-08T06:22:09.832Z"
   },
   {
    "duration": 191,
    "start_time": "2023-09-08T06:22:09.841Z"
   },
   {
    "duration": 5,
    "start_time": "2023-09-08T06:22:10.034Z"
   },
   {
    "duration": 269,
    "start_time": "2023-09-08T06:22:10.041Z"
   },
   {
    "duration": 227,
    "start_time": "2023-09-08T06:22:10.320Z"
   },
   {
    "duration": 15,
    "start_time": "2023-09-08T06:22:10.550Z"
   },
   {
    "duration": 17,
    "start_time": "2023-09-08T06:22:10.567Z"
   },
   {
    "duration": 28,
    "start_time": "2023-09-08T06:22:10.600Z"
   },
   {
    "duration": 26,
    "start_time": "2023-09-08T06:22:10.634Z"
   },
   {
    "duration": 18,
    "start_time": "2023-09-08T06:22:10.662Z"
   },
   {
    "duration": 1337,
    "start_time": "2023-09-08T06:37:28.664Z"
   },
   {
    "duration": 234,
    "start_time": "2023-09-08T06:37:30.005Z"
   },
   {
    "duration": 16,
    "start_time": "2023-09-08T06:37:30.241Z"
   },
   {
    "duration": 25,
    "start_time": "2023-09-08T06:37:30.259Z"
   },
   {
    "duration": 29,
    "start_time": "2023-09-08T06:37:30.287Z"
   },
   {
    "duration": 185,
    "start_time": "2023-09-08T06:37:30.318Z"
   },
   {
    "duration": 156,
    "start_time": "2023-09-08T06:37:30.504Z"
   },
   {
    "duration": 12,
    "start_time": "2023-09-08T06:37:30.661Z"
   },
   {
    "duration": 323,
    "start_time": "2023-09-08T06:37:30.676Z"
   },
   {
    "duration": 213,
    "start_time": "2023-09-08T06:37:31.001Z"
   },
   {
    "duration": 349,
    "start_time": "2023-09-08T06:37:31.216Z"
   },
   {
    "duration": 196,
    "start_time": "2023-09-08T06:37:31.569Z"
   },
   {
    "duration": 334,
    "start_time": "2023-09-08T06:37:31.768Z"
   },
   {
    "duration": 10,
    "start_time": "2023-09-08T06:37:32.105Z"
   },
   {
    "duration": 238,
    "start_time": "2023-09-08T06:37:32.116Z"
   },
   {
    "duration": 11,
    "start_time": "2023-09-08T06:37:32.355Z"
   },
   {
    "duration": 161,
    "start_time": "2023-09-08T06:37:32.368Z"
   },
   {
    "duration": 14,
    "start_time": "2023-09-08T06:37:32.531Z"
   },
   {
    "duration": 287,
    "start_time": "2023-09-08T06:37:32.547Z"
   },
   {
    "duration": 180,
    "start_time": "2023-09-08T06:37:32.837Z"
   },
   {
    "duration": 14,
    "start_time": "2023-09-08T06:37:33.019Z"
   },
   {
    "duration": 11,
    "start_time": "2023-09-08T06:37:33.045Z"
   },
   {
    "duration": 12,
    "start_time": "2023-09-08T06:37:33.058Z"
   },
   {
    "duration": 29,
    "start_time": "2023-09-08T06:37:33.071Z"
   },
   {
    "duration": 52,
    "start_time": "2023-09-08T06:37:33.102Z"
   },
   {
    "duration": 61,
    "start_time": "2023-09-09T01:48:24.658Z"
   },
   {
    "duration": 1333,
    "start_time": "2023-09-09T01:48:37.059Z"
   },
   {
    "duration": 246,
    "start_time": "2023-09-09T01:48:38.395Z"
   },
   {
    "duration": 82,
    "start_time": "2023-09-09T01:48:38.642Z"
   },
   {
    "duration": 0,
    "start_time": "2023-09-09T01:48:38.726Z"
   },
   {
    "duration": 0,
    "start_time": "2023-09-09T01:48:38.727Z"
   },
   {
    "duration": 0,
    "start_time": "2023-09-09T01:48:38.729Z"
   },
   {
    "duration": 0,
    "start_time": "2023-09-09T01:48:38.730Z"
   },
   {
    "duration": 0,
    "start_time": "2023-09-09T01:48:38.731Z"
   },
   {
    "duration": 0,
    "start_time": "2023-09-09T01:48:38.732Z"
   },
   {
    "duration": 0,
    "start_time": "2023-09-09T01:48:38.733Z"
   },
   {
    "duration": 0,
    "start_time": "2023-09-09T01:48:38.734Z"
   },
   {
    "duration": 0,
    "start_time": "2023-09-09T01:48:38.736Z"
   },
   {
    "duration": 0,
    "start_time": "2023-09-09T01:48:38.737Z"
   },
   {
    "duration": 0,
    "start_time": "2023-09-09T01:48:38.738Z"
   },
   {
    "duration": 0,
    "start_time": "2023-09-09T01:48:38.739Z"
   },
   {
    "duration": 0,
    "start_time": "2023-09-09T01:48:38.740Z"
   },
   {
    "duration": 0,
    "start_time": "2023-09-09T01:48:38.741Z"
   },
   {
    "duration": 0,
    "start_time": "2023-09-09T01:48:38.742Z"
   },
   {
    "duration": 0,
    "start_time": "2023-09-09T01:48:38.743Z"
   },
   {
    "duration": 0,
    "start_time": "2023-09-09T01:48:38.745Z"
   },
   {
    "duration": 0,
    "start_time": "2023-09-09T01:48:38.746Z"
   },
   {
    "duration": 0,
    "start_time": "2023-09-09T01:48:38.747Z"
   },
   {
    "duration": 0,
    "start_time": "2023-09-09T01:48:38.748Z"
   },
   {
    "duration": 0,
    "start_time": "2023-09-09T01:48:38.749Z"
   },
   {
    "duration": 0,
    "start_time": "2023-09-09T01:48:38.751Z"
   },
   {
    "duration": 0,
    "start_time": "2023-09-09T01:48:38.752Z"
   },
   {
    "duration": 13,
    "start_time": "2023-09-09T01:49:14.903Z"
   },
   {
    "duration": 8,
    "start_time": "2023-09-09T01:49:41.141Z"
   },
   {
    "duration": 18,
    "start_time": "2023-09-09T01:49:55.533Z"
   },
   {
    "duration": 18,
    "start_time": "2023-09-09T01:50:13.446Z"
   },
   {
    "duration": 19,
    "start_time": "2023-09-09T01:50:49.402Z"
   },
   {
    "duration": 16,
    "start_time": "2023-09-09T01:52:39.212Z"
   },
   {
    "duration": 1526,
    "start_time": "2023-09-09T01:55:49.434Z"
   },
   {
    "duration": 17,
    "start_time": "2023-09-09T01:57:26.312Z"
   },
   {
    "duration": 6,
    "start_time": "2023-09-09T02:05:09.828Z"
   },
   {
    "duration": 9,
    "start_time": "2023-09-09T02:10:08.035Z"
   },
   {
    "duration": 12,
    "start_time": "2023-09-09T02:10:17.807Z"
   },
   {
    "duration": 20,
    "start_time": "2023-09-09T02:10:23.894Z"
   },
   {
    "duration": 6,
    "start_time": "2023-09-09T02:10:31.055Z"
   },
   {
    "duration": 14,
    "start_time": "2023-09-09T02:10:40.818Z"
   },
   {
    "duration": 20,
    "start_time": "2023-09-09T02:11:05.392Z"
   },
   {
    "duration": 103,
    "start_time": "2023-09-09T02:13:44.012Z"
   },
   {
    "duration": 1520,
    "start_time": "2023-09-09T02:13:51.793Z"
   },
   {
    "duration": 16,
    "start_time": "2023-09-09T02:14:09.921Z"
   },
   {
    "duration": 18,
    "start_time": "2023-09-09T02:14:12.544Z"
   },
   {
    "duration": 23,
    "start_time": "2023-09-09T02:14:25.737Z"
   },
   {
    "duration": 12,
    "start_time": "2023-09-09T02:14:56.675Z"
   },
   {
    "duration": 9,
    "start_time": "2023-09-09T02:15:55.813Z"
   },
   {
    "duration": 10,
    "start_time": "2023-09-09T02:16:05.571Z"
   },
   {
    "duration": 32,
    "start_time": "2023-09-09T02:17:46.452Z"
   },
   {
    "duration": 4,
    "start_time": "2023-09-09T02:28:42.393Z"
   },
   {
    "duration": 126,
    "start_time": "2023-09-09T02:28:42.399Z"
   },
   {
    "duration": 21,
    "start_time": "2023-09-09T02:28:42.526Z"
   },
   {
    "duration": 20,
    "start_time": "2023-09-09T02:28:42.549Z"
   },
   {
    "duration": 28,
    "start_time": "2023-09-09T02:28:42.602Z"
   },
   {
    "duration": 2,
    "start_time": "2023-09-09T02:28:42.632Z"
   },
   {
    "duration": 25,
    "start_time": "2023-09-09T02:28:42.635Z"
   },
   {
    "duration": 16,
    "start_time": "2023-09-09T02:28:42.662Z"
   },
   {
    "duration": 7,
    "start_time": "2023-09-09T02:28:42.680Z"
   },
   {
    "duration": 191,
    "start_time": "2023-09-09T02:28:42.689Z"
   },
   {
    "duration": 132,
    "start_time": "2023-09-09T02:28:42.881Z"
   },
   {
    "duration": 10,
    "start_time": "2023-09-09T02:28:43.015Z"
   },
   {
    "duration": 294,
    "start_time": "2023-09-09T02:28:43.026Z"
   },
   {
    "duration": 196,
    "start_time": "2023-09-09T02:28:43.322Z"
   },
   {
    "duration": 306,
    "start_time": "2023-09-09T02:28:43.520Z"
   },
   {
    "duration": 195,
    "start_time": "2023-09-09T02:28:43.828Z"
   },
   {
    "duration": 302,
    "start_time": "2023-09-09T02:28:44.025Z"
   },
   {
    "duration": 10,
    "start_time": "2023-09-09T02:28:44.329Z"
   },
   {
    "duration": 136,
    "start_time": "2023-09-09T02:28:44.340Z"
   },
   {
    "duration": 4,
    "start_time": "2023-09-09T02:28:44.478Z"
   },
   {
    "duration": 195,
    "start_time": "2023-09-09T02:28:44.484Z"
   },
   {
    "duration": 6,
    "start_time": "2023-09-09T02:28:44.681Z"
   },
   {
    "duration": 270,
    "start_time": "2023-09-09T02:28:44.689Z"
   },
   {
    "duration": 183,
    "start_time": "2023-09-09T02:28:44.961Z"
   },
   {
    "duration": 11,
    "start_time": "2023-09-09T02:28:45.145Z"
   },
   {
    "duration": 35,
    "start_time": "2023-09-09T02:28:45.158Z"
   },
   {
    "duration": 85,
    "start_time": "2023-09-09T02:28:45.195Z"
   },
   {
    "duration": 33,
    "start_time": "2023-09-09T02:28:45.283Z"
   },
   {
    "duration": 15,
    "start_time": "2023-09-09T02:28:45.318Z"
   },
   {
    "duration": 208,
    "start_time": "2023-09-09T02:30:09.662Z"
   },
   {
    "duration": 277,
    "start_time": "2023-09-09T02:32:16.619Z"
   },
   {
    "duration": 327,
    "start_time": "2023-09-09T02:33:01.887Z"
   },
   {
    "duration": 341,
    "start_time": "2023-09-09T02:33:30.189Z"
   },
   {
    "duration": 195,
    "start_time": "2023-09-09T02:34:04.775Z"
   },
   {
    "duration": 330,
    "start_time": "2023-09-09T02:35:30.227Z"
   },
   {
    "duration": 224,
    "start_time": "2023-09-09T02:37:28.065Z"
   },
   {
    "duration": 242,
    "start_time": "2023-09-09T02:38:02.598Z"
   },
   {
    "duration": 238,
    "start_time": "2023-09-09T02:39:43.379Z"
   },
   {
    "duration": 375,
    "start_time": "2023-09-09T02:40:55.191Z"
   },
   {
    "duration": 311,
    "start_time": "2023-09-09T02:41:07.326Z"
   },
   {
    "duration": 292,
    "start_time": "2023-09-09T02:44:08.828Z"
   },
   {
    "duration": 205,
    "start_time": "2023-09-09T02:46:04.451Z"
   },
   {
    "duration": 491,
    "start_time": "2023-09-09T02:47:47.341Z"
   },
   {
    "duration": 438,
    "start_time": "2023-09-09T02:47:58.320Z"
   },
   {
    "duration": 319,
    "start_time": "2023-09-09T02:48:15.298Z"
   },
   {
    "duration": 290,
    "start_time": "2023-09-09T02:49:21.425Z"
   },
   {
    "duration": 227,
    "start_time": "2023-09-09T02:50:54.449Z"
   },
   {
    "duration": 187,
    "start_time": "2023-09-09T02:51:03.140Z"
   },
   {
    "duration": 181,
    "start_time": "2023-09-09T02:51:08.913Z"
   },
   {
    "duration": 156,
    "start_time": "2023-09-09T02:52:52.401Z"
   },
   {
    "duration": 164,
    "start_time": "2023-09-09T02:54:40.779Z"
   },
   {
    "duration": 169,
    "start_time": "2023-09-09T02:55:45.264Z"
   },
   {
    "duration": 158,
    "start_time": "2023-09-09T02:56:07.040Z"
   },
   {
    "duration": 82,
    "start_time": "2023-09-09T02:57:07.330Z"
   },
   {
    "duration": 301,
    "start_time": "2023-09-09T02:58:59.215Z"
   },
   {
    "duration": 5,
    "start_time": "2023-09-09T03:01:09.111Z"
   },
   {
    "duration": 23,
    "start_time": "2023-09-09T03:01:46.834Z"
   },
   {
    "duration": 22,
    "start_time": "2023-09-09T03:01:58.738Z"
   },
   {
    "duration": 24,
    "start_time": "2023-09-09T03:02:18.211Z"
   },
   {
    "duration": 164,
    "start_time": "2023-09-09T03:04:40.599Z"
   },
   {
    "duration": 22,
    "start_time": "2023-09-09T03:04:45.819Z"
   },
   {
    "duration": 18,
    "start_time": "2023-09-09T03:05:35.104Z"
   },
   {
    "duration": 32,
    "start_time": "2023-09-09T03:06:31.096Z"
   },
   {
    "duration": 22,
    "start_time": "2023-09-09T03:06:46.272Z"
   },
   {
    "duration": 62,
    "start_time": "2023-09-09T03:06:56.955Z"
   },
   {
    "duration": 1192,
    "start_time": "2023-09-09T03:06:57.276Z"
   },
   {
    "duration": 116,
    "start_time": "2023-09-09T03:06:58.470Z"
   },
   {
    "duration": 20,
    "start_time": "2023-09-09T03:06:58.588Z"
   },
   {
    "duration": 51,
    "start_time": "2023-09-09T03:06:58.614Z"
   },
   {
    "duration": 40,
    "start_time": "2023-09-09T03:06:58.667Z"
   },
   {
    "duration": 5,
    "start_time": "2023-09-09T03:06:58.709Z"
   },
   {
    "duration": 95,
    "start_time": "2023-09-09T03:06:58.717Z"
   },
   {
    "duration": 0,
    "start_time": "2023-09-09T03:06:58.816Z"
   },
   {
    "duration": 0,
    "start_time": "2023-09-09T03:06:58.817Z"
   },
   {
    "duration": 0,
    "start_time": "2023-09-09T03:06:58.818Z"
   },
   {
    "duration": 0,
    "start_time": "2023-09-09T03:06:58.819Z"
   },
   {
    "duration": 0,
    "start_time": "2023-09-09T03:06:58.820Z"
   },
   {
    "duration": 0,
    "start_time": "2023-09-09T03:06:58.820Z"
   },
   {
    "duration": 1,
    "start_time": "2023-09-09T03:06:58.821Z"
   },
   {
    "duration": 0,
    "start_time": "2023-09-09T03:06:58.822Z"
   },
   {
    "duration": 0,
    "start_time": "2023-09-09T03:06:58.824Z"
   },
   {
    "duration": 0,
    "start_time": "2023-09-09T03:06:58.825Z"
   },
   {
    "duration": 0,
    "start_time": "2023-09-09T03:06:58.826Z"
   },
   {
    "duration": 0,
    "start_time": "2023-09-09T03:06:58.827Z"
   },
   {
    "duration": 0,
    "start_time": "2023-09-09T03:06:58.828Z"
   },
   {
    "duration": 0,
    "start_time": "2023-09-09T03:06:58.829Z"
   },
   {
    "duration": 0,
    "start_time": "2023-09-09T03:06:58.830Z"
   },
   {
    "duration": 0,
    "start_time": "2023-09-09T03:06:58.831Z"
   },
   {
    "duration": 0,
    "start_time": "2023-09-09T03:06:58.832Z"
   },
   {
    "duration": 0,
    "start_time": "2023-09-09T03:06:58.833Z"
   },
   {
    "duration": 0,
    "start_time": "2023-09-09T03:06:58.834Z"
   },
   {
    "duration": 0,
    "start_time": "2023-09-09T03:06:58.836Z"
   },
   {
    "duration": 0,
    "start_time": "2023-09-09T03:06:58.836Z"
   },
   {
    "duration": 0,
    "start_time": "2023-09-09T03:06:58.838Z"
   },
   {
    "duration": 0,
    "start_time": "2023-09-09T03:06:58.839Z"
   },
   {
    "duration": 6,
    "start_time": "2023-09-09T03:07:04.155Z"
   },
   {
    "duration": 141,
    "start_time": "2023-09-09T03:07:04.163Z"
   },
   {
    "duration": 23,
    "start_time": "2023-09-09T03:07:04.306Z"
   },
   {
    "duration": 51,
    "start_time": "2023-09-09T03:07:04.331Z"
   },
   {
    "duration": 39,
    "start_time": "2023-09-09T03:07:04.384Z"
   },
   {
    "duration": 2,
    "start_time": "2023-09-09T03:07:04.426Z"
   },
   {
    "duration": 32,
    "start_time": "2023-09-09T03:07:04.430Z"
   },
   {
    "duration": 0,
    "start_time": "2023-09-09T03:07:04.464Z"
   },
   {
    "duration": 0,
    "start_time": "2023-09-09T03:07:04.466Z"
   },
   {
    "duration": 0,
    "start_time": "2023-09-09T03:07:04.467Z"
   },
   {
    "duration": 0,
    "start_time": "2023-09-09T03:07:04.468Z"
   },
   {
    "duration": 0,
    "start_time": "2023-09-09T03:07:04.469Z"
   },
   {
    "duration": 0,
    "start_time": "2023-09-09T03:07:04.470Z"
   },
   {
    "duration": 0,
    "start_time": "2023-09-09T03:07:04.471Z"
   },
   {
    "duration": 0,
    "start_time": "2023-09-09T03:07:04.473Z"
   },
   {
    "duration": 0,
    "start_time": "2023-09-09T03:07:04.474Z"
   },
   {
    "duration": 0,
    "start_time": "2023-09-09T03:07:04.475Z"
   },
   {
    "duration": 0,
    "start_time": "2023-09-09T03:07:04.477Z"
   },
   {
    "duration": 0,
    "start_time": "2023-09-09T03:07:04.509Z"
   },
   {
    "duration": 0,
    "start_time": "2023-09-09T03:07:04.510Z"
   },
   {
    "duration": 0,
    "start_time": "2023-09-09T03:07:04.511Z"
   },
   {
    "duration": 0,
    "start_time": "2023-09-09T03:07:04.512Z"
   },
   {
    "duration": 0,
    "start_time": "2023-09-09T03:07:04.513Z"
   },
   {
    "duration": 0,
    "start_time": "2023-09-09T03:07:04.515Z"
   },
   {
    "duration": 0,
    "start_time": "2023-09-09T03:07:04.516Z"
   },
   {
    "duration": 0,
    "start_time": "2023-09-09T03:07:04.517Z"
   },
   {
    "duration": 0,
    "start_time": "2023-09-09T03:07:04.518Z"
   },
   {
    "duration": 0,
    "start_time": "2023-09-09T03:07:04.519Z"
   },
   {
    "duration": 0,
    "start_time": "2023-09-09T03:07:04.520Z"
   },
   {
    "duration": 0,
    "start_time": "2023-09-09T03:07:04.521Z"
   },
   {
    "duration": 114,
    "start_time": "2023-09-09T03:08:53.237Z"
   },
   {
    "duration": 126,
    "start_time": "2023-09-09T03:09:07.187Z"
   },
   {
    "duration": 89,
    "start_time": "2023-09-09T03:09:16.962Z"
   },
   {
    "duration": 11,
    "start_time": "2023-09-09T03:09:25.137Z"
   },
   {
    "duration": 12,
    "start_time": "2023-09-09T03:10:02.113Z"
   },
   {
    "duration": 12,
    "start_time": "2023-09-09T03:10:16.654Z"
   },
   {
    "duration": 21,
    "start_time": "2023-09-09T03:15:52.020Z"
   },
   {
    "duration": 1120,
    "start_time": "2023-09-09T03:16:10.965Z"
   },
   {
    "duration": 111,
    "start_time": "2023-09-09T03:16:12.087Z"
   },
   {
    "duration": 20,
    "start_time": "2023-09-09T03:16:12.202Z"
   },
   {
    "duration": 22,
    "start_time": "2023-09-09T03:16:12.223Z"
   },
   {
    "duration": 59,
    "start_time": "2023-09-09T03:16:12.248Z"
   },
   {
    "duration": 5,
    "start_time": "2023-09-09T03:16:12.308Z"
   },
   {
    "duration": 140,
    "start_time": "2023-09-09T03:16:12.314Z"
   },
   {
    "duration": 0,
    "start_time": "2023-09-09T03:16:12.457Z"
   },
   {
    "duration": 0,
    "start_time": "2023-09-09T03:16:12.458Z"
   },
   {
    "duration": 0,
    "start_time": "2023-09-09T03:16:12.459Z"
   },
   {
    "duration": 0,
    "start_time": "2023-09-09T03:16:12.461Z"
   },
   {
    "duration": 0,
    "start_time": "2023-09-09T03:16:12.462Z"
   },
   {
    "duration": 0,
    "start_time": "2023-09-09T03:16:12.463Z"
   },
   {
    "duration": 0,
    "start_time": "2023-09-09T03:16:12.464Z"
   },
   {
    "duration": 0,
    "start_time": "2023-09-09T03:16:12.465Z"
   },
   {
    "duration": 0,
    "start_time": "2023-09-09T03:16:12.467Z"
   },
   {
    "duration": 0,
    "start_time": "2023-09-09T03:16:12.470Z"
   },
   {
    "duration": 0,
    "start_time": "2023-09-09T03:16:12.471Z"
   },
   {
    "duration": 0,
    "start_time": "2023-09-09T03:16:12.507Z"
   },
   {
    "duration": 0,
    "start_time": "2023-09-09T03:16:12.508Z"
   },
   {
    "duration": 0,
    "start_time": "2023-09-09T03:16:12.509Z"
   },
   {
    "duration": 0,
    "start_time": "2023-09-09T03:16:12.510Z"
   },
   {
    "duration": 0,
    "start_time": "2023-09-09T03:16:12.511Z"
   },
   {
    "duration": 0,
    "start_time": "2023-09-09T03:16:12.511Z"
   },
   {
    "duration": 0,
    "start_time": "2023-09-09T03:16:12.512Z"
   },
   {
    "duration": 0,
    "start_time": "2023-09-09T03:16:12.515Z"
   },
   {
    "duration": 0,
    "start_time": "2023-09-09T03:16:12.516Z"
   },
   {
    "duration": 0,
    "start_time": "2023-09-09T03:16:12.518Z"
   },
   {
    "duration": 0,
    "start_time": "2023-09-09T03:16:12.520Z"
   },
   {
    "duration": 1,
    "start_time": "2023-09-09T03:16:12.521Z"
   },
   {
    "duration": 11,
    "start_time": "2023-09-09T03:16:27.853Z"
   },
   {
    "duration": 12,
    "start_time": "2023-09-09T03:16:35.300Z"
   },
   {
    "duration": 139,
    "start_time": "2023-09-09T03:16:35.316Z"
   },
   {
    "duration": 16,
    "start_time": "2023-09-09T03:16:35.456Z"
   },
   {
    "duration": 48,
    "start_time": "2023-09-09T03:16:35.474Z"
   },
   {
    "duration": 53,
    "start_time": "2023-09-09T03:16:35.524Z"
   },
   {
    "duration": 3,
    "start_time": "2023-09-09T03:16:35.578Z"
   },
   {
    "duration": 33,
    "start_time": "2023-09-09T03:16:35.582Z"
   },
   {
    "duration": 12,
    "start_time": "2023-09-09T03:16:35.617Z"
   },
   {
    "duration": 39,
    "start_time": "2023-09-09T03:16:35.630Z"
   },
   {
    "duration": 182,
    "start_time": "2023-09-09T03:16:35.671Z"
   },
   {
    "duration": 132,
    "start_time": "2023-09-09T03:16:35.855Z"
   },
   {
    "duration": 16,
    "start_time": "2023-09-09T03:16:35.989Z"
   },
   {
    "duration": 316,
    "start_time": "2023-09-09T03:16:36.007Z"
   },
   {
    "duration": 237,
    "start_time": "2023-09-09T03:16:36.327Z"
   },
   {
    "duration": 375,
    "start_time": "2023-09-09T03:16:36.566Z"
   },
   {
    "duration": 224,
    "start_time": "2023-09-09T03:16:36.943Z"
   },
   {
    "duration": 359,
    "start_time": "2023-09-09T03:16:37.169Z"
   },
   {
    "duration": 11,
    "start_time": "2023-09-09T03:16:37.531Z"
   },
   {
    "duration": 204,
    "start_time": "2023-09-09T03:16:37.544Z"
   },
   {
    "duration": 6,
    "start_time": "2023-09-09T03:16:37.750Z"
   },
   {
    "duration": 209,
    "start_time": "2023-09-09T03:16:37.758Z"
   },
   {
    "duration": 188,
    "start_time": "2023-09-09T03:16:37.969Z"
   },
   {
    "duration": 5,
    "start_time": "2023-09-09T03:16:38.159Z"
   },
   {
    "duration": 346,
    "start_time": "2023-09-09T03:16:38.165Z"
   },
   {
    "duration": 172,
    "start_time": "2023-09-09T03:16:38.521Z"
   },
   {
    "duration": 26,
    "start_time": "2023-09-09T03:16:38.696Z"
   },
   {
    "duration": 12,
    "start_time": "2023-09-09T03:16:38.724Z"
   },
   {
    "duration": 11,
    "start_time": "2023-09-09T03:16:38.738Z"
   },
   {
    "duration": 64,
    "start_time": "2023-09-09T03:16:38.751Z"
   },
   {
    "duration": 17,
    "start_time": "2023-09-09T03:16:38.818Z"
   },
   {
    "duration": 13,
    "start_time": "2023-09-09T03:19:45.343Z"
   },
   {
    "duration": 11,
    "start_time": "2023-09-09T03:19:52.247Z"
   },
   {
    "duration": 6,
    "start_time": "2023-09-09T03:20:05.526Z"
   },
   {
    "duration": 6,
    "start_time": "2023-09-09T03:20:07.678Z"
   },
   {
    "duration": 1217,
    "start_time": "2023-09-09T03:20:25.797Z"
   },
   {
    "duration": 112,
    "start_time": "2023-09-09T03:20:27.019Z"
   },
   {
    "duration": 16,
    "start_time": "2023-09-09T03:20:27.133Z"
   },
   {
    "duration": 18,
    "start_time": "2023-09-09T03:20:27.150Z"
   },
   {
    "duration": 32,
    "start_time": "2023-09-09T03:20:27.206Z"
   },
   {
    "duration": 5,
    "start_time": "2023-09-09T03:20:27.240Z"
   },
   {
    "duration": 34,
    "start_time": "2023-09-09T03:20:27.247Z"
   },
   {
    "duration": 31,
    "start_time": "2023-09-09T03:20:27.283Z"
   },
   {
    "duration": 29,
    "start_time": "2023-09-09T03:20:27.316Z"
   },
   {
    "duration": 188,
    "start_time": "2023-09-09T03:20:27.346Z"
   },
   {
    "duration": 128,
    "start_time": "2023-09-09T03:20:27.535Z"
   },
   {
    "duration": 10,
    "start_time": "2023-09-09T03:20:27.664Z"
   },
   {
    "duration": 341,
    "start_time": "2023-09-09T03:20:27.676Z"
   },
   {
    "duration": 215,
    "start_time": "2023-09-09T03:20:28.020Z"
   },
   {
    "duration": 308,
    "start_time": "2023-09-09T03:20:28.236Z"
   },
   {
    "duration": 89,
    "start_time": "2023-09-09T03:20:30.679Z"
   },
   {
    "duration": 158,
    "start_time": "2023-09-09T03:20:30.770Z"
   },
   {
    "duration": 32,
    "start_time": "2023-09-09T03:20:30.930Z"
   },
   {
    "duration": 114,
    "start_time": "2023-09-09T03:20:30.964Z"
   },
   {
    "duration": 78,
    "start_time": "2023-09-09T03:20:31.079Z"
   },
   {
    "duration": 125,
    "start_time": "2023-09-09T03:20:31.158Z"
   },
   {
    "duration": 47,
    "start_time": "2023-09-09T03:20:31.285Z"
   },
   {
    "duration": 41,
    "start_time": "2023-09-09T03:20:31.334Z"
   },
   {
    "duration": 53,
    "start_time": "2023-09-09T03:20:31.377Z"
   },
   {
    "duration": 202,
    "start_time": "2023-09-09T03:20:31.432Z"
   },
   {
    "duration": 197,
    "start_time": "2023-09-09T03:20:31.636Z"
   },
   {
    "duration": 10,
    "start_time": "2023-09-09T03:20:31.835Z"
   },
   {
    "duration": 234,
    "start_time": "2023-09-09T03:20:31.846Z"
   },
   {
    "duration": 220,
    "start_time": "2023-09-09T03:20:32.082Z"
   },
   {
    "duration": 338,
    "start_time": "2023-09-09T03:20:32.309Z"
   },
   {
    "duration": 215,
    "start_time": "2023-09-09T03:20:32.649Z"
   },
   {
    "duration": 331,
    "start_time": "2023-09-09T03:20:32.865Z"
   },
   {
    "duration": 19,
    "start_time": "2023-09-09T03:20:33.201Z"
   },
   {
    "duration": 170,
    "start_time": "2023-09-09T03:20:33.222Z"
   },
   {
    "duration": 23,
    "start_time": "2023-09-09T03:20:33.394Z"
   },
   {
    "duration": 155,
    "start_time": "2023-09-09T03:20:33.419Z"
   },
   {
    "duration": 169,
    "start_time": "2023-09-09T03:20:33.576Z"
   },
   {
    "duration": 125,
    "start_time": "2023-09-09T03:20:33.747Z"
   },
   {
    "duration": 267,
    "start_time": "2023-09-09T03:20:33.874Z"
   },
   {
    "duration": 206,
    "start_time": "2023-09-09T03:20:34.143Z"
   },
   {
    "duration": 12,
    "start_time": "2023-09-09T03:20:34.350Z"
   },
   {
    "duration": 29,
    "start_time": "2023-09-09T03:20:34.364Z"
   },
   {
    "duration": 28,
    "start_time": "2023-09-09T03:20:34.394Z"
   },
   {
    "duration": 31,
    "start_time": "2023-09-09T03:20:34.425Z"
   },
   {
    "duration": 14,
    "start_time": "2023-09-09T03:20:34.458Z"
   },
   {
    "duration": 11,
    "start_time": "2023-09-09T03:21:41.319Z"
   },
   {
    "duration": 10,
    "start_time": "2023-09-09T03:23:53.912Z"
   },
   {
    "duration": 15,
    "start_time": "2023-09-09T03:24:04.671Z"
   },
   {
    "duration": 7,
    "start_time": "2023-09-09T03:24:57.719Z"
   },
   {
    "duration": 5,
    "start_time": "2023-09-09T03:25:46.588Z"
   },
   {
    "duration": 4,
    "start_time": "2023-09-09T03:28:11.128Z"
   },
   {
    "duration": 6,
    "start_time": "2023-09-09T03:29:31.148Z"
   },
   {
    "duration": 6,
    "start_time": "2023-09-09T03:36:01.399Z"
   },
   {
    "duration": 148,
    "start_time": "2023-09-09T03:36:01.410Z"
   },
   {
    "duration": 17,
    "start_time": "2023-09-09T03:36:01.560Z"
   },
   {
    "duration": 48,
    "start_time": "2023-09-09T03:36:01.578Z"
   },
   {
    "duration": 106,
    "start_time": "2023-09-09T03:36:01.628Z"
   },
   {
    "duration": 31,
    "start_time": "2023-09-09T03:36:01.736Z"
   },
   {
    "duration": 85,
    "start_time": "2023-09-09T03:36:01.769Z"
   },
   {
    "duration": 121,
    "start_time": "2023-09-09T03:36:01.856Z"
   },
   {
    "duration": 140,
    "start_time": "2023-09-09T03:36:01.979Z"
   },
   {
    "duration": 227,
    "start_time": "2023-09-09T03:36:02.121Z"
   },
   {
    "duration": 161,
    "start_time": "2023-09-09T03:36:02.351Z"
   },
   {
    "duration": 13,
    "start_time": "2023-09-09T03:36:02.520Z"
   },
   {
    "duration": 36,
    "start_time": "2023-09-09T03:36:02.535Z"
   },
   {
    "duration": 253,
    "start_time": "2023-09-09T03:36:02.574Z"
   },
   {
    "duration": 305,
    "start_time": "2023-09-09T03:36:02.829Z"
   },
   {
    "duration": 301,
    "start_time": "2023-09-09T03:36:03.136Z"
   },
   {
    "duration": 225,
    "start_time": "2023-09-09T03:36:03.438Z"
   },
   {
    "duration": 337,
    "start_time": "2023-09-09T03:36:03.666Z"
   },
   {
    "duration": 14,
    "start_time": "2023-09-09T03:36:04.005Z"
   },
   {
    "duration": 159,
    "start_time": "2023-09-09T03:36:04.021Z"
   },
   {
    "duration": 5,
    "start_time": "2023-09-09T03:36:04.182Z"
   },
   {
    "duration": 248,
    "start_time": "2023-09-09T03:36:04.189Z"
   },
   {
    "duration": 201,
    "start_time": "2023-09-09T03:36:04.439Z"
   },
   {
    "duration": 7,
    "start_time": "2023-09-09T03:36:04.643Z"
   },
   {
    "duration": 309,
    "start_time": "2023-09-09T03:36:04.652Z"
   },
   {
    "duration": 199,
    "start_time": "2023-09-09T03:36:04.963Z"
   },
   {
    "duration": 12,
    "start_time": "2023-09-09T03:36:05.164Z"
   },
   {
    "duration": 39,
    "start_time": "2023-09-09T03:36:05.178Z"
   },
   {
    "duration": 51,
    "start_time": "2023-09-09T03:36:05.220Z"
   },
   {
    "duration": 92,
    "start_time": "2023-09-09T03:36:05.273Z"
   },
   {
    "duration": 14,
    "start_time": "2023-09-09T03:36:05.367Z"
   },
   {
    "duration": 202,
    "start_time": "2023-09-09T03:52:00.229Z"
   },
   {
    "duration": 233,
    "start_time": "2023-09-09T03:54:26.761Z"
   },
   {
    "duration": 185,
    "start_time": "2023-09-09T03:54:32.153Z"
   },
   {
    "duration": 109,
    "start_time": "2023-09-09T03:55:15.533Z"
   },
   {
    "duration": 11,
    "start_time": "2023-09-09T03:55:24.114Z"
   },
   {
    "duration": 12,
    "start_time": "2023-09-09T03:56:27.413Z"
   },
   {
    "duration": 13,
    "start_time": "2023-09-09T03:57:15.624Z"
   },
   {
    "duration": 92,
    "start_time": "2023-09-09T03:57:50.561Z"
   },
   {
    "duration": 16,
    "start_time": "2023-09-09T03:58:08.706Z"
   },
   {
    "duration": 26,
    "start_time": "2023-09-09T03:58:41.715Z"
   },
   {
    "duration": 87,
    "start_time": "2023-09-09T04:02:57.992Z"
   },
   {
    "duration": 85,
    "start_time": "2023-09-09T04:03:00.614Z"
   },
   {
    "duration": 11,
    "start_time": "2023-09-09T04:07:03.233Z"
   },
   {
    "duration": 1289,
    "start_time": "2023-09-09T04:09:00.616Z"
   },
   {
    "duration": 117,
    "start_time": "2023-09-09T04:09:01.913Z"
   },
   {
    "duration": 19,
    "start_time": "2023-09-09T04:09:02.031Z"
   },
   {
    "duration": 52,
    "start_time": "2023-09-09T04:09:02.051Z"
   },
   {
    "duration": 43,
    "start_time": "2023-09-09T04:09:02.105Z"
   },
   {
    "duration": 58,
    "start_time": "2023-09-09T04:09:02.150Z"
   },
   {
    "duration": 27,
    "start_time": "2023-09-09T04:09:02.210Z"
   },
   {
    "duration": 74,
    "start_time": "2023-09-09T04:09:02.238Z"
   },
   {
    "duration": 208,
    "start_time": "2023-09-09T04:09:02.317Z"
   },
   {
    "duration": 147,
    "start_time": "2023-09-09T04:09:02.528Z"
   },
   {
    "duration": 9,
    "start_time": "2023-09-09T04:09:02.678Z"
   },
   {
    "duration": 40,
    "start_time": "2023-09-09T04:09:02.689Z"
   },
   {
    "duration": 24,
    "start_time": "2023-09-09T04:09:05.488Z"
   },
   {
    "duration": 197,
    "start_time": "2023-09-09T04:09:05.514Z"
   },
   {
    "duration": 17,
    "start_time": "2023-09-09T04:09:05.714Z"
   },
   {
    "duration": 32,
    "start_time": "2023-09-09T04:09:05.733Z"
   },
   {
    "duration": 51,
    "start_time": "2023-09-09T04:09:05.766Z"
   },
   {
    "duration": 33,
    "start_time": "2023-09-09T04:09:05.819Z"
   },
   {
    "duration": 40,
    "start_time": "2023-09-09T04:09:05.853Z"
   },
   {
    "duration": 36,
    "start_time": "2023-09-09T04:09:05.895Z"
   },
   {
    "duration": 207,
    "start_time": "2023-09-09T04:09:05.933Z"
   },
   {
    "duration": 139,
    "start_time": "2023-09-09T04:09:06.141Z"
   },
   {
    "duration": 9,
    "start_time": "2023-09-09T04:09:06.282Z"
   },
   {
    "duration": 24,
    "start_time": "2023-09-09T04:09:06.300Z"
   },
   {
    "duration": 237,
    "start_time": "2023-09-09T04:09:06.326Z"
   },
   {
    "duration": 219,
    "start_time": "2023-09-09T04:09:06.564Z"
   },
   {
    "duration": 343,
    "start_time": "2023-09-09T04:09:06.785Z"
   },
   {
    "duration": 203,
    "start_time": "2023-09-09T04:09:07.130Z"
   },
   {
    "duration": 285,
    "start_time": "2023-09-09T04:09:07.335Z"
   },
   {
    "duration": 9,
    "start_time": "2023-09-09T04:09:07.621Z"
   },
   {
    "duration": 173,
    "start_time": "2023-09-09T04:09:07.632Z"
   },
   {
    "duration": 8,
    "start_time": "2023-09-09T04:09:07.812Z"
   },
   {
    "duration": 202,
    "start_time": "2023-09-09T04:09:07.821Z"
   },
   {
    "duration": 167,
    "start_time": "2023-09-09T04:09:08.025Z"
   },
   {
    "duration": 12,
    "start_time": "2023-09-09T04:09:08.201Z"
   },
   {
    "duration": 229,
    "start_time": "2023-09-09T04:09:08.215Z"
   },
   {
    "duration": 185,
    "start_time": "2023-09-09T04:09:08.446Z"
   },
   {
    "duration": 14,
    "start_time": "2023-09-09T04:09:08.633Z"
   },
   {
    "duration": 26,
    "start_time": "2023-09-09T04:09:08.649Z"
   },
   {
    "duration": 8,
    "start_time": "2023-09-09T04:09:08.676Z"
   },
   {
    "duration": 55,
    "start_time": "2023-09-09T04:09:08.685Z"
   },
   {
    "duration": 15,
    "start_time": "2023-09-09T04:09:08.741Z"
   },
   {
    "duration": 5,
    "start_time": "2023-09-09T04:12:28.760Z"
   },
   {
    "duration": 155,
    "start_time": "2023-09-09T04:13:40.491Z"
   },
   {
    "duration": 1194,
    "start_time": "2023-09-09T04:13:57.219Z"
   },
   {
    "duration": 112,
    "start_time": "2023-09-09T04:13:58.416Z"
   },
   {
    "duration": 23,
    "start_time": "2023-09-09T04:13:58.529Z"
   },
   {
    "duration": 54,
    "start_time": "2023-09-09T04:13:58.553Z"
   },
   {
    "duration": 36,
    "start_time": "2023-09-09T04:13:58.610Z"
   },
   {
    "duration": 41,
    "start_time": "2023-09-09T04:13:58.648Z"
   },
   {
    "duration": 46,
    "start_time": "2023-09-09T04:13:58.691Z"
   },
   {
    "duration": 30,
    "start_time": "2023-09-09T04:13:58.739Z"
   },
   {
    "duration": 188,
    "start_time": "2023-09-09T04:13:58.771Z"
   },
   {
    "duration": 128,
    "start_time": "2023-09-09T04:13:58.962Z"
   },
   {
    "duration": 21,
    "start_time": "2023-09-09T04:13:59.092Z"
   },
   {
    "duration": 8,
    "start_time": "2023-09-09T04:13:59.116Z"
   },
   {
    "duration": 319,
    "start_time": "2023-09-09T04:13:59.126Z"
   },
   {
    "duration": 0,
    "start_time": "2023-09-09T04:14:01.570Z"
   },
   {
    "duration": 0,
    "start_time": "2023-09-09T04:14:01.571Z"
   },
   {
    "duration": 0,
    "start_time": "2023-09-09T04:14:01.572Z"
   },
   {
    "duration": 0,
    "start_time": "2023-09-09T04:14:01.573Z"
   },
   {
    "duration": 0,
    "start_time": "2023-09-09T04:14:01.574Z"
   },
   {
    "duration": 0,
    "start_time": "2023-09-09T04:14:01.575Z"
   },
   {
    "duration": 0,
    "start_time": "2023-09-09T04:14:01.576Z"
   },
   {
    "duration": 0,
    "start_time": "2023-09-09T04:14:01.577Z"
   },
   {
    "duration": 0,
    "start_time": "2023-09-09T04:14:01.603Z"
   },
   {
    "duration": 0,
    "start_time": "2023-09-09T04:14:01.604Z"
   },
   {
    "duration": 0,
    "start_time": "2023-09-09T04:14:01.605Z"
   },
   {
    "duration": 0,
    "start_time": "2023-09-09T04:14:01.605Z"
   },
   {
    "duration": 0,
    "start_time": "2023-09-09T04:14:01.606Z"
   },
   {
    "duration": 1,
    "start_time": "2023-09-09T04:14:01.606Z"
   },
   {
    "duration": 0,
    "start_time": "2023-09-09T04:14:01.607Z"
   },
   {
    "duration": 0,
    "start_time": "2023-09-09T04:14:01.608Z"
   },
   {
    "duration": 1,
    "start_time": "2023-09-09T04:14:01.608Z"
   },
   {
    "duration": 0,
    "start_time": "2023-09-09T04:14:01.609Z"
   },
   {
    "duration": 0,
    "start_time": "2023-09-09T04:14:01.610Z"
   },
   {
    "duration": 0,
    "start_time": "2023-09-09T04:14:01.610Z"
   },
   {
    "duration": 0,
    "start_time": "2023-09-09T04:14:01.611Z"
   },
   {
    "duration": 0,
    "start_time": "2023-09-09T04:14:01.612Z"
   },
   {
    "duration": 0,
    "start_time": "2023-09-09T04:14:01.612Z"
   },
   {
    "duration": 0,
    "start_time": "2023-09-09T04:14:01.613Z"
   },
   {
    "duration": 0,
    "start_time": "2023-09-09T04:14:01.614Z"
   },
   {
    "duration": 0,
    "start_time": "2023-09-09T04:14:01.614Z"
   },
   {
    "duration": 0,
    "start_time": "2023-09-09T04:14:01.615Z"
   },
   {
    "duration": 0,
    "start_time": "2023-09-09T04:14:01.616Z"
   },
   {
    "duration": 0,
    "start_time": "2023-09-09T04:14:01.617Z"
   },
   {
    "duration": 0,
    "start_time": "2023-09-09T04:14:01.620Z"
   },
   {
    "duration": 3,
    "start_time": "2023-09-09T04:14:10.727Z"
   },
   {
    "duration": 181,
    "start_time": "2023-09-09T04:14:10.732Z"
   },
   {
    "duration": 18,
    "start_time": "2023-09-09T04:14:10.915Z"
   },
   {
    "duration": 42,
    "start_time": "2023-09-09T04:14:10.935Z"
   },
   {
    "duration": 41,
    "start_time": "2023-09-09T04:14:10.979Z"
   },
   {
    "duration": 11,
    "start_time": "2023-09-09T04:14:11.022Z"
   },
   {
    "duration": 85,
    "start_time": "2023-09-09T04:14:11.035Z"
   },
   {
    "duration": 10,
    "start_time": "2023-09-09T04:14:11.122Z"
   },
   {
    "duration": 207,
    "start_time": "2023-09-09T04:14:11.134Z"
   },
   {
    "duration": 132,
    "start_time": "2023-09-09T04:14:11.344Z"
   },
   {
    "duration": 9,
    "start_time": "2023-09-09T04:14:11.477Z"
   },
   {
    "duration": 26,
    "start_time": "2023-09-09T04:14:11.488Z"
   },
   {
    "duration": 221,
    "start_time": "2023-09-09T04:14:11.515Z"
   },
   {
    "duration": 203,
    "start_time": "2023-09-09T04:14:11.737Z"
   },
   {
    "duration": 296,
    "start_time": "2023-09-09T04:14:11.941Z"
   },
   {
    "duration": 212,
    "start_time": "2023-09-09T04:14:12.238Z"
   },
   {
    "duration": 281,
    "start_time": "2023-09-09T04:14:12.451Z"
   },
   {
    "duration": 10,
    "start_time": "2023-09-09T04:14:12.733Z"
   },
   {
    "duration": 167,
    "start_time": "2023-09-09T04:14:12.744Z"
   },
   {
    "duration": 5,
    "start_time": "2023-09-09T04:14:12.918Z"
   },
   {
    "duration": 166,
    "start_time": "2023-09-09T04:14:12.924Z"
   },
   {
    "duration": 173,
    "start_time": "2023-09-09T04:14:13.092Z"
   },
   {
    "duration": 5,
    "start_time": "2023-09-09T04:14:13.267Z"
   },
   {
    "duration": 151,
    "start_time": "2023-09-09T04:14:13.274Z"
   },
   {
    "duration": 0,
    "start_time": "2023-09-09T04:14:13.427Z"
   },
   {
    "duration": 0,
    "start_time": "2023-09-09T04:14:13.428Z"
   },
   {
    "duration": 0,
    "start_time": "2023-09-09T04:14:13.429Z"
   },
   {
    "duration": 0,
    "start_time": "2023-09-09T04:14:13.430Z"
   },
   {
    "duration": 0,
    "start_time": "2023-09-09T04:14:13.431Z"
   },
   {
    "duration": 0,
    "start_time": "2023-09-09T04:14:13.432Z"
   },
   {
    "duration": 1148,
    "start_time": "2023-09-09T04:15:42.444Z"
   },
   {
    "duration": 121,
    "start_time": "2023-09-09T04:15:43.594Z"
   },
   {
    "duration": 18,
    "start_time": "2023-09-09T04:15:43.717Z"
   },
   {
    "duration": 19,
    "start_time": "2023-09-09T04:15:43.736Z"
   },
   {
    "duration": 58,
    "start_time": "2023-09-09T04:15:43.758Z"
   },
   {
    "duration": 14,
    "start_time": "2023-09-09T04:15:43.817Z"
   },
   {
    "duration": 11,
    "start_time": "2023-09-09T04:15:43.832Z"
   },
   {
    "duration": 12,
    "start_time": "2023-09-09T04:15:43.845Z"
   },
   {
    "duration": 194,
    "start_time": "2023-09-09T04:15:43.858Z"
   },
   {
    "duration": 138,
    "start_time": "2023-09-09T04:15:44.054Z"
   },
   {
    "duration": 13,
    "start_time": "2023-09-09T04:15:44.201Z"
   },
   {
    "duration": 11,
    "start_time": "2023-09-09T04:15:44.217Z"
   },
   {
    "duration": 360,
    "start_time": "2023-09-09T04:15:44.230Z"
   },
   {
    "duration": 268,
    "start_time": "2023-09-09T04:15:44.607Z"
   },
   {
    "duration": 353,
    "start_time": "2023-09-09T04:15:44.878Z"
   },
   {
    "duration": 220,
    "start_time": "2023-09-09T04:15:45.232Z"
   },
   {
    "duration": 301,
    "start_time": "2023-09-09T04:15:45.454Z"
   },
   {
    "duration": 9,
    "start_time": "2023-09-09T04:15:45.757Z"
   },
   {
    "duration": 163,
    "start_time": "2023-09-09T04:15:45.768Z"
   },
   {
    "duration": 6,
    "start_time": "2023-09-09T04:15:45.933Z"
   },
   {
    "duration": 178,
    "start_time": "2023-09-09T04:15:45.940Z"
   },
   {
    "duration": 166,
    "start_time": "2023-09-09T04:15:46.120Z"
   },
   {
    "duration": 5,
    "start_time": "2023-09-09T04:15:46.287Z"
   },
   {
    "duration": 334,
    "start_time": "2023-09-09T04:15:46.301Z"
   },
   {
    "duration": 0,
    "start_time": "2023-09-09T04:15:46.638Z"
   },
   {
    "duration": 0,
    "start_time": "2023-09-09T04:15:46.639Z"
   },
   {
    "duration": 0,
    "start_time": "2023-09-09T04:15:46.641Z"
   },
   {
    "duration": 0,
    "start_time": "2023-09-09T04:15:46.642Z"
   },
   {
    "duration": 0,
    "start_time": "2023-09-09T04:15:46.644Z"
   },
   {
    "duration": 0,
    "start_time": "2023-09-09T04:15:46.646Z"
   },
   {
    "duration": 5,
    "start_time": "2023-09-09T04:15:46.916Z"
   },
   {
    "duration": 112,
    "start_time": "2023-09-09T04:15:46.923Z"
   },
   {
    "duration": 17,
    "start_time": "2023-09-09T04:15:47.037Z"
   },
   {
    "duration": 18,
    "start_time": "2023-09-09T04:15:47.055Z"
   },
   {
    "duration": 53,
    "start_time": "2023-09-09T04:15:47.075Z"
   },
   {
    "duration": 11,
    "start_time": "2023-09-09T04:15:47.130Z"
   },
   {
    "duration": 14,
    "start_time": "2023-09-09T04:15:47.143Z"
   },
   {
    "duration": 33,
    "start_time": "2023-09-09T04:15:47.159Z"
   },
   {
    "duration": 181,
    "start_time": "2023-09-09T04:15:47.194Z"
   },
   {
    "duration": 148,
    "start_time": "2023-09-09T04:15:47.377Z"
   },
   {
    "duration": 32,
    "start_time": "2023-09-09T04:15:47.527Z"
   },
   {
    "duration": 26,
    "start_time": "2023-09-09T04:15:47.561Z"
   },
   {
    "duration": 230,
    "start_time": "2023-09-09T04:15:47.590Z"
   },
   {
    "duration": 230,
    "start_time": "2023-09-09T04:15:47.824Z"
   },
   {
    "duration": 366,
    "start_time": "2023-09-09T04:15:48.056Z"
   },
   {
    "duration": 237,
    "start_time": "2023-09-09T04:15:48.424Z"
   },
   {
    "duration": 354,
    "start_time": "2023-09-09T04:15:48.663Z"
   },
   {
    "duration": 9,
    "start_time": "2023-09-09T04:15:49.019Z"
   },
   {
    "duration": 163,
    "start_time": "2023-09-09T04:15:49.029Z"
   },
   {
    "duration": 20,
    "start_time": "2023-09-09T04:15:49.194Z"
   },
   {
    "duration": 162,
    "start_time": "2023-09-09T04:15:49.216Z"
   },
   {
    "duration": 182,
    "start_time": "2023-09-09T04:15:49.380Z"
   },
   {
    "duration": 5,
    "start_time": "2023-09-09T04:15:49.564Z"
   },
   {
    "duration": 164,
    "start_time": "2023-09-09T04:15:49.571Z"
   },
   {
    "duration": 0,
    "start_time": "2023-09-09T04:15:49.737Z"
   },
   {
    "duration": 0,
    "start_time": "2023-09-09T04:15:49.739Z"
   },
   {
    "duration": 0,
    "start_time": "2023-09-09T04:15:49.740Z"
   },
   {
    "duration": 0,
    "start_time": "2023-09-09T04:15:49.741Z"
   },
   {
    "duration": 0,
    "start_time": "2023-09-09T04:15:49.742Z"
   },
   {
    "duration": 0,
    "start_time": "2023-09-09T04:15:49.743Z"
   },
   {
    "duration": 3,
    "start_time": "2023-09-09T04:17:10.441Z"
   },
   {
    "duration": 117,
    "start_time": "2023-09-09T04:17:10.446Z"
   },
   {
    "duration": 19,
    "start_time": "2023-09-09T04:17:10.565Z"
   },
   {
    "duration": 46,
    "start_time": "2023-09-09T04:17:10.586Z"
   },
   {
    "duration": 34,
    "start_time": "2023-09-09T04:17:10.634Z"
   },
   {
    "duration": 19,
    "start_time": "2023-09-09T04:17:10.670Z"
   },
   {
    "duration": 20,
    "start_time": "2023-09-09T04:17:10.691Z"
   },
   {
    "duration": 6,
    "start_time": "2023-09-09T04:17:10.715Z"
   },
   {
    "duration": 193,
    "start_time": "2023-09-09T04:17:10.723Z"
   },
   {
    "duration": 139,
    "start_time": "2023-09-09T04:17:10.918Z"
   },
   {
    "duration": 11,
    "start_time": "2023-09-09T04:17:11.059Z"
   },
   {
    "duration": 41,
    "start_time": "2023-09-09T04:17:11.072Z"
   },
   {
    "duration": 210,
    "start_time": "2023-09-09T04:17:11.116Z"
   },
   {
    "duration": 215,
    "start_time": "2023-09-09T04:17:11.328Z"
   },
   {
    "duration": 397,
    "start_time": "2023-09-09T04:17:11.545Z"
   },
   {
    "duration": 217,
    "start_time": "2023-09-09T04:17:11.944Z"
   },
   {
    "duration": 331,
    "start_time": "2023-09-09T04:17:12.163Z"
   },
   {
    "duration": 13,
    "start_time": "2023-09-09T04:17:12.505Z"
   },
   {
    "duration": 155,
    "start_time": "2023-09-09T04:17:12.519Z"
   },
   {
    "duration": 6,
    "start_time": "2023-09-09T04:17:12.677Z"
   },
   {
    "duration": 175,
    "start_time": "2023-09-09T04:17:12.685Z"
   },
   {
    "duration": 178,
    "start_time": "2023-09-09T04:17:12.862Z"
   },
   {
    "duration": 5,
    "start_time": "2023-09-09T04:17:13.041Z"
   },
   {
    "duration": 245,
    "start_time": "2023-09-09T04:17:13.048Z"
   },
   {
    "duration": 193,
    "start_time": "2023-09-09T04:17:13.295Z"
   },
   {
    "duration": 22,
    "start_time": "2023-09-09T04:17:13.490Z"
   },
   {
    "duration": 11,
    "start_time": "2023-09-09T04:17:13.517Z"
   },
   {
    "duration": 28,
    "start_time": "2023-09-09T04:17:13.529Z"
   },
   {
    "duration": 27,
    "start_time": "2023-09-09T04:17:13.560Z"
   },
   {
    "duration": 19,
    "start_time": "2023-09-09T04:17:13.588Z"
   },
   {
    "duration": 1260,
    "start_time": "2023-09-09T05:41:29.758Z"
   },
   {
    "duration": 117,
    "start_time": "2023-09-09T05:41:31.021Z"
   },
   {
    "duration": 18,
    "start_time": "2023-09-09T05:41:31.140Z"
   },
   {
    "duration": 194,
    "start_time": "2023-09-09T05:41:31.160Z"
   },
   {
    "duration": 169,
    "start_time": "2023-09-09T05:41:31.357Z"
   },
   {
    "duration": 17,
    "start_time": "2023-09-09T05:41:31.528Z"
   },
   {
    "duration": 48,
    "start_time": "2023-09-09T05:41:31.547Z"
   },
   {
    "duration": 32,
    "start_time": "2023-09-09T05:41:31.597Z"
   },
   {
    "duration": 225,
    "start_time": "2023-09-09T05:41:31.631Z"
   },
   {
    "duration": 163,
    "start_time": "2023-09-09T05:41:31.857Z"
   },
   {
    "duration": 100,
    "start_time": "2023-09-09T05:41:32.021Z"
   },
   {
    "duration": 37,
    "start_time": "2023-09-09T05:41:32.123Z"
   },
   {
    "duration": 384,
    "start_time": "2023-09-09T05:41:32.162Z"
   },
   {
    "duration": 253,
    "start_time": "2023-09-09T05:41:32.551Z"
   },
   {
    "duration": 312,
    "start_time": "2023-09-09T05:41:32.813Z"
   },
   {
    "duration": 230,
    "start_time": "2023-09-09T05:41:33.126Z"
   },
   {
    "duration": 368,
    "start_time": "2023-09-09T05:41:33.358Z"
   },
   {
    "duration": 10,
    "start_time": "2023-09-09T05:41:33.727Z"
   },
   {
    "duration": 169,
    "start_time": "2023-09-09T05:41:33.739Z"
   },
   {
    "duration": 6,
    "start_time": "2023-09-09T05:41:33.914Z"
   },
   {
    "duration": 201,
    "start_time": "2023-09-09T05:41:33.921Z"
   },
   {
    "duration": 197,
    "start_time": "2023-09-09T05:41:34.123Z"
   },
   {
    "duration": 6,
    "start_time": "2023-09-09T05:41:34.321Z"
   },
   {
    "duration": 354,
    "start_time": "2023-09-09T05:41:34.329Z"
   },
   {
    "duration": 240,
    "start_time": "2023-09-09T05:41:34.686Z"
   },
   {
    "duration": 11,
    "start_time": "2023-09-09T05:41:34.928Z"
   },
   {
    "duration": 27,
    "start_time": "2023-09-09T05:41:34.941Z"
   },
   {
    "duration": 8,
    "start_time": "2023-09-09T05:41:34.970Z"
   },
   {
    "duration": 49,
    "start_time": "2023-09-09T05:41:34.980Z"
   },
   {
    "duration": 15,
    "start_time": "2023-09-09T05:41:35.030Z"
   },
   {
    "duration": 9,
    "start_time": "2023-09-09T05:41:35.301Z"
   },
   {
    "duration": 109,
    "start_time": "2023-09-09T05:41:35.317Z"
   },
   {
    "duration": 19,
    "start_time": "2023-09-09T05:41:35.430Z"
   },
   {
    "duration": 39,
    "start_time": "2023-09-09T05:41:35.450Z"
   },
   {
    "duration": 27,
    "start_time": "2023-09-09T05:41:35.513Z"
   },
   {
    "duration": 16,
    "start_time": "2023-09-09T05:41:35.543Z"
   },
   {
    "duration": 26,
    "start_time": "2023-09-09T05:41:35.561Z"
   },
   {
    "duration": 14,
    "start_time": "2023-09-09T05:41:35.605Z"
   },
   {
    "duration": 197,
    "start_time": "2023-09-09T05:41:35.621Z"
   },
   {
    "duration": 159,
    "start_time": "2023-09-09T05:41:35.820Z"
   },
   {
    "duration": 10,
    "start_time": "2023-09-09T05:41:35.981Z"
   },
   {
    "duration": 38,
    "start_time": "2023-09-09T05:41:36.004Z"
   },
   {
    "duration": 243,
    "start_time": "2023-09-09T05:41:36.044Z"
   },
   {
    "duration": 228,
    "start_time": "2023-09-09T05:41:36.289Z"
   },
   {
    "duration": 321,
    "start_time": "2023-09-09T05:41:36.519Z"
   },
   {
    "duration": 218,
    "start_time": "2023-09-09T05:41:36.843Z"
   },
   {
    "duration": 379,
    "start_time": "2023-09-09T05:41:37.063Z"
   },
   {
    "duration": 10,
    "start_time": "2023-09-09T05:41:37.444Z"
   },
   {
    "duration": 196,
    "start_time": "2023-09-09T05:41:37.456Z"
   },
   {
    "duration": 5,
    "start_time": "2023-09-09T05:41:37.655Z"
   },
   {
    "duration": 193,
    "start_time": "2023-09-09T05:41:37.662Z"
   },
   {
    "duration": 191,
    "start_time": "2023-09-09T05:41:37.857Z"
   },
   {
    "duration": 6,
    "start_time": "2023-09-09T05:41:38.050Z"
   },
   {
    "duration": 266,
    "start_time": "2023-09-09T05:41:38.059Z"
   },
   {
    "duration": 200,
    "start_time": "2023-09-09T05:41:38.327Z"
   },
   {
    "duration": 14,
    "start_time": "2023-09-09T05:41:38.529Z"
   },
   {
    "duration": 12,
    "start_time": "2023-09-09T05:41:38.545Z"
   },
   {
    "duration": 46,
    "start_time": "2023-09-09T05:41:38.559Z"
   },
   {
    "duration": 33,
    "start_time": "2023-09-09T05:41:38.607Z"
   },
   {
    "duration": 15,
    "start_time": "2023-09-09T05:41:38.641Z"
   },
   {
    "duration": 4,
    "start_time": "2023-09-09T05:42:02.538Z"
   },
   {
    "duration": 126,
    "start_time": "2023-09-09T05:42:02.544Z"
   },
   {
    "duration": 20,
    "start_time": "2023-09-09T05:42:02.672Z"
   },
   {
    "duration": 59,
    "start_time": "2023-09-09T05:42:02.695Z"
   },
   {
    "duration": 55,
    "start_time": "2023-09-09T05:42:02.756Z"
   },
   {
    "duration": 35,
    "start_time": "2023-09-09T05:42:02.813Z"
   },
   {
    "duration": 36,
    "start_time": "2023-09-09T05:42:02.849Z"
   },
   {
    "duration": 38,
    "start_time": "2023-09-09T05:42:02.887Z"
   },
   {
    "duration": 236,
    "start_time": "2023-09-09T05:42:02.926Z"
   },
   {
    "duration": 149,
    "start_time": "2023-09-09T05:42:03.164Z"
   },
   {
    "duration": 11,
    "start_time": "2023-09-09T05:42:03.315Z"
   },
   {
    "duration": 87,
    "start_time": "2023-09-09T05:42:03.328Z"
   },
   {
    "duration": 270,
    "start_time": "2023-09-09T05:42:03.417Z"
   },
   {
    "duration": 229,
    "start_time": "2023-09-09T05:42:03.689Z"
   },
   {
    "duration": 605,
    "start_time": "2023-09-09T05:42:03.921Z"
   },
   {
    "duration": 255,
    "start_time": "2023-09-09T05:42:04.529Z"
   },
   {
    "duration": 333,
    "start_time": "2023-09-09T05:42:04.787Z"
   },
   {
    "duration": 60,
    "start_time": "2023-09-09T05:42:05.121Z"
   },
   {
    "duration": 191,
    "start_time": "2023-09-09T05:42:05.183Z"
   },
   {
    "duration": 6,
    "start_time": "2023-09-09T05:42:05.375Z"
   },
   {
    "duration": 182,
    "start_time": "2023-09-09T05:42:05.382Z"
   },
   {
    "duration": 179,
    "start_time": "2023-09-09T05:42:05.567Z"
   },
   {
    "duration": 65,
    "start_time": "2023-09-09T05:42:05.748Z"
   },
   {
    "duration": 298,
    "start_time": "2023-09-09T05:42:05.815Z"
   },
   {
    "duration": 232,
    "start_time": "2023-09-09T05:42:06.116Z"
   },
   {
    "duration": 14,
    "start_time": "2023-09-09T05:42:06.350Z"
   },
   {
    "duration": 184,
    "start_time": "2023-09-09T05:42:06.366Z"
   },
   {
    "duration": 104,
    "start_time": "2023-09-09T05:42:06.554Z"
   },
   {
    "duration": 48,
    "start_time": "2023-09-09T05:42:06.661Z"
   },
   {
    "duration": 44,
    "start_time": "2023-09-09T05:42:06.714Z"
   },
   {
    "duration": 1482,
    "start_time": "2023-09-09T05:47:32.455Z"
   },
   {
    "duration": 4,
    "start_time": "2023-09-09T05:47:48.950Z"
   },
   {
    "duration": 7,
    "start_time": "2023-09-09T05:48:25.728Z"
   },
   {
    "duration": 11,
    "start_time": "2023-09-09T05:51:22.701Z"
   },
   {
    "duration": 9,
    "start_time": "2023-09-09T05:51:50.935Z"
   },
   {
    "duration": 8,
    "start_time": "2023-09-09T05:52:41.343Z"
   },
   {
    "duration": 16,
    "start_time": "2023-09-09T05:53:22.698Z"
   },
   {
    "duration": 12,
    "start_time": "2023-09-09T05:55:35.778Z"
   },
   {
    "duration": 8,
    "start_time": "2023-09-09T05:59:24.489Z"
   },
   {
    "duration": 3,
    "start_time": "2023-09-09T05:59:35.589Z"
   },
   {
    "duration": 118,
    "start_time": "2023-09-09T05:59:35.595Z"
   },
   {
    "duration": 17,
    "start_time": "2023-09-09T05:59:35.717Z"
   },
   {
    "duration": 30,
    "start_time": "2023-09-09T05:59:35.736Z"
   },
   {
    "duration": 40,
    "start_time": "2023-09-09T05:59:35.769Z"
   },
   {
    "duration": 14,
    "start_time": "2023-09-09T05:59:35.812Z"
   },
   {
    "duration": 47,
    "start_time": "2023-09-09T05:59:35.828Z"
   },
   {
    "duration": 41,
    "start_time": "2023-09-09T05:59:35.878Z"
   },
   {
    "duration": 17,
    "start_time": "2023-09-09T05:59:35.921Z"
   },
   {
    "duration": 16,
    "start_time": "2023-09-09T05:59:35.940Z"
   },
   {
    "duration": 208,
    "start_time": "2023-09-09T05:59:35.957Z"
   },
   {
    "duration": 152,
    "start_time": "2023-09-09T05:59:36.167Z"
   },
   {
    "duration": 9,
    "start_time": "2023-09-09T05:59:36.321Z"
   },
   {
    "duration": 11,
    "start_time": "2023-09-09T05:59:36.333Z"
   },
   {
    "duration": 270,
    "start_time": "2023-09-09T05:59:36.346Z"
   },
   {
    "duration": 234,
    "start_time": "2023-09-09T05:59:36.619Z"
   },
   {
    "duration": 331,
    "start_time": "2023-09-09T05:59:36.855Z"
   },
   {
    "duration": 236,
    "start_time": "2023-09-09T05:59:37.188Z"
   },
   {
    "duration": 410,
    "start_time": "2023-09-09T05:59:37.426Z"
   },
   {
    "duration": 13,
    "start_time": "2023-09-09T05:59:37.839Z"
   },
   {
    "duration": 174,
    "start_time": "2023-09-09T05:59:37.853Z"
   },
   {
    "duration": 5,
    "start_time": "2023-09-09T05:59:38.029Z"
   },
   {
    "duration": 180,
    "start_time": "2023-09-09T05:59:38.036Z"
   },
   {
    "duration": 176,
    "start_time": "2023-09-09T05:59:38.218Z"
   },
   {
    "duration": 16,
    "start_time": "2023-09-09T05:59:38.396Z"
   },
   {
    "duration": 292,
    "start_time": "2023-09-09T05:59:38.414Z"
   },
   {
    "duration": 184,
    "start_time": "2023-09-09T05:59:38.711Z"
   },
   {
    "duration": 15,
    "start_time": "2023-09-09T05:59:38.896Z"
   },
   {
    "duration": 18,
    "start_time": "2023-09-09T05:59:38.913Z"
   },
   {
    "duration": 8,
    "start_time": "2023-09-09T05:59:38.933Z"
   },
   {
    "duration": 39,
    "start_time": "2023-09-09T05:59:38.942Z"
   },
   {
    "duration": 30,
    "start_time": "2023-09-09T05:59:38.982Z"
   },
   {
    "duration": 13,
    "start_time": "2023-09-09T06:00:01.925Z"
   },
   {
    "duration": 2001,
    "start_time": "2023-09-09T06:00:56.391Z"
   },
   {
    "duration": 1971,
    "start_time": "2023-09-09T06:01:10.747Z"
   },
   {
    "duration": 3,
    "start_time": "2023-09-09T06:01:14.050Z"
   },
   {
    "duration": 131,
    "start_time": "2023-09-09T06:01:14.058Z"
   },
   {
    "duration": 27,
    "start_time": "2023-09-09T06:01:14.191Z"
   },
   {
    "duration": 25,
    "start_time": "2023-09-09T06:01:14.220Z"
   },
   {
    "duration": 31,
    "start_time": "2023-09-09T06:01:14.247Z"
   },
   {
    "duration": 35,
    "start_time": "2023-09-09T06:01:14.281Z"
   },
   {
    "duration": 14,
    "start_time": "2023-09-09T06:01:14.318Z"
   },
   {
    "duration": 20,
    "start_time": "2023-09-09T06:01:14.333Z"
   },
   {
    "duration": 17,
    "start_time": "2023-09-09T06:01:14.355Z"
   },
   {
    "duration": 41,
    "start_time": "2023-09-09T06:01:14.374Z"
   },
   {
    "duration": 206,
    "start_time": "2023-09-09T06:01:14.417Z"
   },
   {
    "duration": 184,
    "start_time": "2023-09-09T06:01:14.625Z"
   },
   {
    "duration": 12,
    "start_time": "2023-09-09T06:01:14.815Z"
   },
   {
    "duration": 84,
    "start_time": "2023-09-09T06:01:14.829Z"
   },
   {
    "duration": 388,
    "start_time": "2023-09-09T06:01:14.916Z"
   },
   {
    "duration": 228,
    "start_time": "2023-09-09T06:01:15.306Z"
   },
   {
    "duration": 305,
    "start_time": "2023-09-09T06:01:15.537Z"
   },
   {
    "duration": 215,
    "start_time": "2023-09-09T06:01:15.844Z"
   },
   {
    "duration": 321,
    "start_time": "2023-09-09T06:01:16.061Z"
   },
   {
    "duration": 33,
    "start_time": "2023-09-09T06:01:16.384Z"
   },
   {
    "duration": 148,
    "start_time": "2023-09-09T06:01:16.419Z"
   },
   {
    "duration": 5,
    "start_time": "2023-09-09T06:01:16.569Z"
   },
   {
    "duration": 180,
    "start_time": "2023-09-09T06:01:16.576Z"
   },
   {
    "duration": 265,
    "start_time": "2023-09-09T06:01:16.758Z"
   },
   {
    "duration": 5,
    "start_time": "2023-09-09T06:01:17.025Z"
   },
   {
    "duration": 271,
    "start_time": "2023-09-09T06:01:17.032Z"
   },
   {
    "duration": 197,
    "start_time": "2023-09-09T06:01:17.308Z"
   },
   {
    "duration": 12,
    "start_time": "2023-09-09T06:01:17.511Z"
   },
   {
    "duration": 19,
    "start_time": "2023-09-09T06:01:17.525Z"
   },
   {
    "duration": 21,
    "start_time": "2023-09-09T06:01:17.546Z"
   },
   {
    "duration": 59,
    "start_time": "2023-09-09T06:01:17.569Z"
   },
   {
    "duration": 14,
    "start_time": "2023-09-09T06:01:17.629Z"
   },
   {
    "duration": 1156,
    "start_time": "2023-09-09T06:06:06.936Z"
   },
   {
    "duration": 125,
    "start_time": "2023-09-09T06:06:08.095Z"
   },
   {
    "duration": 18,
    "start_time": "2023-09-09T06:06:08.221Z"
   },
   {
    "duration": 85,
    "start_time": "2023-09-09T06:06:08.240Z"
   },
   {
    "duration": 76,
    "start_time": "2023-09-09T06:06:08.327Z"
   },
   {
    "duration": 13,
    "start_time": "2023-09-09T06:06:08.413Z"
   },
   {
    "duration": 24,
    "start_time": "2023-09-09T06:06:08.428Z"
   },
   {
    "duration": 28,
    "start_time": "2023-09-09T06:06:08.454Z"
   },
   {
    "duration": 31,
    "start_time": "2023-09-09T06:06:08.483Z"
   },
   {
    "duration": 35,
    "start_time": "2023-09-09T06:06:08.517Z"
   },
   {
    "duration": 229,
    "start_time": "2023-09-09T06:06:08.555Z"
   },
   {
    "duration": 144,
    "start_time": "2023-09-09T06:06:08.785Z"
   },
   {
    "duration": 10,
    "start_time": "2023-09-09T06:06:08.931Z"
   },
   {
    "duration": 47,
    "start_time": "2023-09-09T06:06:08.944Z"
   },
   {
    "duration": 321,
    "start_time": "2023-09-09T06:06:08.993Z"
   },
   {
    "duration": 219,
    "start_time": "2023-09-09T06:06:09.316Z"
   },
   {
    "duration": 315,
    "start_time": "2023-09-09T06:06:09.537Z"
   },
   {
    "duration": 221,
    "start_time": "2023-09-09T06:06:09.854Z"
   },
   {
    "duration": 352,
    "start_time": "2023-09-09T06:06:10.077Z"
   },
   {
    "duration": 10,
    "start_time": "2023-09-09T06:06:10.431Z"
   },
   {
    "duration": 181,
    "start_time": "2023-09-09T06:06:10.442Z"
   },
   {
    "duration": 6,
    "start_time": "2023-09-09T06:06:10.625Z"
   },
   {
    "duration": 190,
    "start_time": "2023-09-09T06:06:10.633Z"
   },
   {
    "duration": 178,
    "start_time": "2023-09-09T06:06:10.825Z"
   },
   {
    "duration": 11,
    "start_time": "2023-09-09T06:06:11.004Z"
   },
   {
    "duration": 334,
    "start_time": "2023-09-09T06:06:11.016Z"
   },
   {
    "duration": 182,
    "start_time": "2023-09-09T06:06:11.352Z"
   },
   {
    "duration": 14,
    "start_time": "2023-09-09T06:06:11.536Z"
   },
   {
    "duration": 41,
    "start_time": "2023-09-09T06:06:11.552Z"
   },
   {
    "duration": 34,
    "start_time": "2023-09-09T06:06:11.594Z"
   },
   {
    "duration": 40,
    "start_time": "2023-09-09T06:06:11.630Z"
   },
   {
    "duration": 16,
    "start_time": "2023-09-09T06:06:11.671Z"
   },
   {
    "duration": 14,
    "start_time": "2023-09-09T06:06:54.614Z"
   },
   {
    "duration": 1347,
    "start_time": "2023-09-09T06:25:22.896Z"
   },
   {
    "duration": 291,
    "start_time": "2023-09-09T06:25:24.245Z"
   },
   {
    "duration": 17,
    "start_time": "2023-09-09T06:25:24.541Z"
   },
   {
    "duration": 16,
    "start_time": "2023-09-09T06:25:24.561Z"
   },
   {
    "duration": 60,
    "start_time": "2023-09-09T06:25:24.579Z"
   },
   {
    "duration": 12,
    "start_time": "2023-09-09T06:25:24.641Z"
   },
   {
    "duration": 33,
    "start_time": "2023-09-09T06:25:24.655Z"
   },
   {
    "duration": 22,
    "start_time": "2023-09-09T06:25:24.690Z"
   },
   {
    "duration": 23,
    "start_time": "2023-09-09T06:25:24.713Z"
   },
   {
    "duration": 17,
    "start_time": "2023-09-09T06:25:24.738Z"
   },
   {
    "duration": 214,
    "start_time": "2023-09-09T06:25:24.757Z"
   },
   {
    "duration": 128,
    "start_time": "2023-09-09T06:25:24.973Z"
   },
   {
    "duration": 25,
    "start_time": "2023-09-09T06:25:25.104Z"
   },
   {
    "duration": 15,
    "start_time": "2023-09-09T06:25:25.131Z"
   },
   {
    "duration": 349,
    "start_time": "2023-09-09T06:25:25.147Z"
   },
   {
    "duration": 232,
    "start_time": "2023-09-09T06:25:25.497Z"
   },
   {
    "duration": 362,
    "start_time": "2023-09-09T06:25:25.731Z"
   },
   {
    "duration": 203,
    "start_time": "2023-09-09T06:25:26.094Z"
   },
   {
    "duration": 351,
    "start_time": "2023-09-09T06:25:26.299Z"
   },
   {
    "duration": 11,
    "start_time": "2023-09-09T06:25:26.653Z"
   },
   {
    "duration": 154,
    "start_time": "2023-09-09T06:25:26.665Z"
   },
   {
    "duration": 5,
    "start_time": "2023-09-09T06:25:26.824Z"
   },
   {
    "duration": 190,
    "start_time": "2023-09-09T06:25:26.830Z"
   },
   {
    "duration": 176,
    "start_time": "2023-09-09T06:25:27.021Z"
   },
   {
    "duration": 5,
    "start_time": "2023-09-09T06:25:27.199Z"
   },
   {
    "duration": 323,
    "start_time": "2023-09-09T06:25:27.206Z"
   },
   {
    "duration": 189,
    "start_time": "2023-09-09T06:25:27.531Z"
   },
   {
    "duration": 11,
    "start_time": "2023-09-09T06:25:27.725Z"
   },
   {
    "duration": 103,
    "start_time": "2023-09-09T06:25:27.738Z"
   },
   {
    "duration": 85,
    "start_time": "2023-09-09T06:25:27.843Z"
   },
   {
    "duration": 79,
    "start_time": "2023-09-09T06:25:27.930Z"
   },
   {
    "duration": 16,
    "start_time": "2023-09-09T06:25:28.011Z"
   },
   {
    "duration": 14,
    "start_time": "2023-09-09T06:27:01.733Z"
   },
   {
    "duration": 15,
    "start_time": "2023-09-09T06:27:05.865Z"
   },
   {
    "duration": 49,
    "start_time": "2023-09-11T01:38:42.611Z"
   },
   {
    "duration": 1343,
    "start_time": "2023-09-11T01:38:50.731Z"
   },
   {
    "duration": 221,
    "start_time": "2023-09-11T01:38:52.076Z"
   },
   {
    "duration": 19,
    "start_time": "2023-09-11T01:38:52.298Z"
   },
   {
    "duration": 25,
    "start_time": "2023-09-11T01:38:52.319Z"
   },
   {
    "duration": 34,
    "start_time": "2023-09-11T01:38:52.346Z"
   },
   {
    "duration": 26,
    "start_time": "2023-09-11T01:38:52.381Z"
   },
   {
    "duration": 15,
    "start_time": "2023-09-11T01:38:52.409Z"
   },
   {
    "duration": 61,
    "start_time": "2023-09-11T01:38:52.425Z"
   },
   {
    "duration": 27,
    "start_time": "2023-09-11T01:38:52.488Z"
   },
   {
    "duration": 38,
    "start_time": "2023-09-11T01:38:52.517Z"
   },
   {
    "duration": 174,
    "start_time": "2023-09-11T01:38:52.557Z"
   },
   {
    "duration": 121,
    "start_time": "2023-09-11T01:38:52.733Z"
   },
   {
    "duration": 9,
    "start_time": "2023-09-11T01:38:52.856Z"
   },
   {
    "duration": 12,
    "start_time": "2023-09-11T01:38:52.867Z"
   },
   {
    "duration": 303,
    "start_time": "2023-09-11T01:38:52.880Z"
   },
   {
    "duration": 199,
    "start_time": "2023-09-11T01:38:53.185Z"
   },
   {
    "duration": 360,
    "start_time": "2023-09-11T01:38:53.386Z"
   },
   {
    "duration": 197,
    "start_time": "2023-09-11T01:38:53.748Z"
   },
   {
    "duration": 275,
    "start_time": "2023-09-11T01:38:53.947Z"
   },
   {
    "duration": 11,
    "start_time": "2023-09-11T01:38:54.224Z"
   },
   {
    "duration": 157,
    "start_time": "2023-09-11T01:38:54.237Z"
   },
   {
    "duration": 9,
    "start_time": "2023-09-11T01:38:54.396Z"
   },
   {
    "duration": 197,
    "start_time": "2023-09-11T01:38:54.407Z"
   },
   {
    "duration": 213,
    "start_time": "2023-09-11T01:38:54.606Z"
   },
   {
    "duration": 7,
    "start_time": "2023-09-11T01:38:54.821Z"
   },
   {
    "duration": 314,
    "start_time": "2023-09-11T01:38:54.830Z"
   },
   {
    "duration": 163,
    "start_time": "2023-09-11T01:38:55.145Z"
   },
   {
    "duration": 12,
    "start_time": "2023-09-11T01:38:55.311Z"
   },
   {
    "duration": 14,
    "start_time": "2023-09-11T01:38:55.324Z"
   },
   {
    "duration": 20,
    "start_time": "2023-09-11T01:38:55.340Z"
   },
   {
    "duration": 40,
    "start_time": "2023-09-11T01:38:55.362Z"
   },
   {
    "duration": 13,
    "start_time": "2023-09-11T01:38:55.404Z"
   },
   {
    "duration": 291,
    "start_time": "2023-09-11T01:39:53.113Z"
   },
   {
    "duration": 131,
    "start_time": "2023-09-11T01:40:47.783Z"
   },
   {
    "duration": 151,
    "start_time": "2023-09-11T01:41:43.113Z"
   },
   {
    "duration": 154,
    "start_time": "2023-09-11T01:41:53.209Z"
   },
   {
    "duration": 4,
    "start_time": "2023-09-11T01:44:48.748Z"
   },
   {
    "duration": 182,
    "start_time": "2023-09-11T01:44:48.754Z"
   },
   {
    "duration": 14,
    "start_time": "2023-09-11T01:44:48.938Z"
   },
   {
    "duration": 26,
    "start_time": "2023-09-11T01:44:48.954Z"
   },
   {
    "duration": 27,
    "start_time": "2023-09-11T01:44:48.982Z"
   },
   {
    "duration": 12,
    "start_time": "2023-09-11T01:44:49.011Z"
   },
   {
    "duration": 21,
    "start_time": "2023-09-11T01:44:49.024Z"
   },
   {
    "duration": 20,
    "start_time": "2023-09-11T01:44:49.046Z"
   },
   {
    "duration": 26,
    "start_time": "2023-09-11T01:44:49.067Z"
   },
   {
    "duration": 13,
    "start_time": "2023-09-11T01:44:49.100Z"
   },
   {
    "duration": 178,
    "start_time": "2023-09-11T01:44:49.115Z"
   },
   {
    "duration": 130,
    "start_time": "2023-09-11T01:44:49.294Z"
   },
   {
    "duration": 10,
    "start_time": "2023-09-11T01:44:49.425Z"
   },
   {
    "duration": 12,
    "start_time": "2023-09-11T01:44:49.436Z"
   },
   {
    "duration": 232,
    "start_time": "2023-09-11T01:44:49.449Z"
   },
   {
    "duration": 213,
    "start_time": "2023-09-11T01:44:49.682Z"
   },
   {
    "duration": 323,
    "start_time": "2023-09-11T01:44:49.896Z"
   },
   {
    "duration": 205,
    "start_time": "2023-09-11T01:44:50.221Z"
   },
   {
    "duration": 284,
    "start_time": "2023-09-11T01:44:50.428Z"
   },
   {
    "duration": 10,
    "start_time": "2023-09-11T01:44:50.714Z"
   },
   {
    "duration": 157,
    "start_time": "2023-09-11T01:44:50.725Z"
   },
   {
    "duration": 5,
    "start_time": "2023-09-11T01:44:50.884Z"
   },
   {
    "duration": 237,
    "start_time": "2023-09-11T01:44:50.891Z"
   },
   {
    "duration": 164,
    "start_time": "2023-09-11T01:44:51.130Z"
   },
   {
    "duration": 9,
    "start_time": "2023-09-11T01:44:51.295Z"
   },
   {
    "duration": 226,
    "start_time": "2023-09-11T01:44:51.306Z"
   },
   {
    "duration": 158,
    "start_time": "2023-09-11T01:44:51.534Z"
   },
   {
    "duration": 15,
    "start_time": "2023-09-11T01:44:51.695Z"
   },
   {
    "duration": 30,
    "start_time": "2023-09-11T01:44:51.712Z"
   },
   {
    "duration": 19,
    "start_time": "2023-09-11T01:44:51.744Z"
   },
   {
    "duration": 42,
    "start_time": "2023-09-11T01:44:51.765Z"
   },
   {
    "duration": 13,
    "start_time": "2023-09-11T01:44:51.808Z"
   },
   {
    "duration": 1099,
    "start_time": "2023-09-11T01:48:15.851Z"
   },
   {
    "duration": 105,
    "start_time": "2023-09-11T01:48:16.951Z"
   },
   {
    "duration": 16,
    "start_time": "2023-09-11T01:48:17.058Z"
   },
   {
    "duration": 33,
    "start_time": "2023-09-11T01:48:17.076Z"
   },
   {
    "duration": 24,
    "start_time": "2023-09-11T01:48:17.112Z"
   },
   {
    "duration": 16,
    "start_time": "2023-09-11T01:48:17.138Z"
   },
   {
    "duration": 13,
    "start_time": "2023-09-11T01:48:17.156Z"
   },
   {
    "duration": 15,
    "start_time": "2023-09-11T01:48:17.171Z"
   },
   {
    "duration": 23,
    "start_time": "2023-09-11T01:48:17.188Z"
   },
   {
    "duration": 9,
    "start_time": "2023-09-11T01:48:17.212Z"
   },
   {
    "duration": 180,
    "start_time": "2023-09-11T01:48:17.222Z"
   },
   {
    "duration": 119,
    "start_time": "2023-09-11T01:48:17.404Z"
   },
   {
    "duration": 10,
    "start_time": "2023-09-11T01:48:17.525Z"
   },
   {
    "duration": 7,
    "start_time": "2023-09-11T01:48:17.538Z"
   },
   {
    "duration": 297,
    "start_time": "2023-09-11T01:48:17.547Z"
   },
   {
    "duration": 206,
    "start_time": "2023-09-11T01:48:17.846Z"
   },
   {
    "duration": 283,
    "start_time": "2023-09-11T01:48:18.053Z"
   },
   {
    "duration": 205,
    "start_time": "2023-09-11T01:48:18.337Z"
   },
   {
    "duration": 279,
    "start_time": "2023-09-11T01:48:18.544Z"
   },
   {
    "duration": 9,
    "start_time": "2023-09-11T01:48:18.825Z"
   },
   {
    "duration": 151,
    "start_time": "2023-09-11T01:48:18.835Z"
   },
   {
    "duration": 6,
    "start_time": "2023-09-11T01:48:18.987Z"
   },
   {
    "duration": 168,
    "start_time": "2023-09-11T01:48:19.001Z"
   },
   {
    "duration": 10,
    "start_time": "2023-09-11T01:48:19.983Z"
   },
   {
    "duration": 122,
    "start_time": "2023-09-11T01:48:19.994Z"
   },
   {
    "duration": 15,
    "start_time": "2023-09-11T01:48:20.118Z"
   },
   {
    "duration": 18,
    "start_time": "2023-09-11T01:48:20.135Z"
   },
   {
    "duration": 46,
    "start_time": "2023-09-11T01:48:20.155Z"
   },
   {
    "duration": 12,
    "start_time": "2023-09-11T01:48:20.203Z"
   },
   {
    "duration": 17,
    "start_time": "2023-09-11T01:48:20.217Z"
   },
   {
    "duration": 13,
    "start_time": "2023-09-11T01:48:20.236Z"
   },
   {
    "duration": 22,
    "start_time": "2023-09-11T01:48:20.251Z"
   },
   {
    "duration": 27,
    "start_time": "2023-09-11T01:48:20.274Z"
   },
   {
    "duration": 187,
    "start_time": "2023-09-11T01:48:20.303Z"
   },
   {
    "duration": 135,
    "start_time": "2023-09-11T01:48:20.491Z"
   },
   {
    "duration": 9,
    "start_time": "2023-09-11T01:48:20.627Z"
   },
   {
    "duration": 17,
    "start_time": "2023-09-11T01:48:20.638Z"
   },
   {
    "duration": 213,
    "start_time": "2023-09-11T01:48:20.657Z"
   },
   {
    "duration": 203,
    "start_time": "2023-09-11T01:48:20.872Z"
   },
   {
    "duration": 329,
    "start_time": "2023-09-11T01:48:21.076Z"
   },
   {
    "duration": 199,
    "start_time": "2023-09-11T01:48:21.407Z"
   },
   {
    "duration": 295,
    "start_time": "2023-09-11T01:48:21.608Z"
   },
   {
    "duration": 9,
    "start_time": "2023-09-11T01:48:21.904Z"
   },
   {
    "duration": 141,
    "start_time": "2023-09-11T01:48:21.915Z"
   },
   {
    "duration": 5,
    "start_time": "2023-09-11T01:48:22.057Z"
   },
   {
    "duration": 228,
    "start_time": "2023-09-11T01:48:22.064Z"
   },
   {
    "duration": 155,
    "start_time": "2023-09-11T01:48:22.294Z"
   },
   {
    "duration": 5,
    "start_time": "2023-09-11T01:48:22.451Z"
   },
   {
    "duration": 246,
    "start_time": "2023-09-11T01:48:22.457Z"
   },
   {
    "duration": 160,
    "start_time": "2023-09-11T01:48:22.705Z"
   },
   {
    "duration": 10,
    "start_time": "2023-09-11T01:48:22.867Z"
   },
   {
    "duration": 28,
    "start_time": "2023-09-11T01:48:22.878Z"
   },
   {
    "duration": 11,
    "start_time": "2023-09-11T01:48:22.907Z"
   },
   {
    "duration": 40,
    "start_time": "2023-09-11T01:48:22.919Z"
   },
   {
    "duration": 14,
    "start_time": "2023-09-11T01:48:22.960Z"
   },
   {
    "duration": 1157,
    "start_time": "2023-09-11T02:14:12.715Z"
   },
   {
    "duration": 217,
    "start_time": "2023-09-11T02:14:13.874Z"
   },
   {
    "duration": 16,
    "start_time": "2023-09-11T02:14:14.093Z"
   },
   {
    "duration": 70,
    "start_time": "2023-09-11T02:14:14.111Z"
   },
   {
    "duration": 26,
    "start_time": "2023-09-11T02:14:14.183Z"
   },
   {
    "duration": 27,
    "start_time": "2023-09-11T02:14:14.210Z"
   },
   {
    "duration": 43,
    "start_time": "2023-09-11T02:14:14.239Z"
   },
   {
    "duration": 15,
    "start_time": "2023-09-11T02:14:14.284Z"
   },
   {
    "duration": 20,
    "start_time": "2023-09-11T02:14:14.301Z"
   },
   {
    "duration": 23,
    "start_time": "2023-09-11T02:14:14.324Z"
   },
   {
    "duration": 168,
    "start_time": "2023-09-11T02:14:14.348Z"
   },
   {
    "duration": 140,
    "start_time": "2023-09-11T02:14:14.517Z"
   },
   {
    "duration": 10,
    "start_time": "2023-09-11T02:14:14.659Z"
   },
   {
    "duration": 11,
    "start_time": "2023-09-11T02:14:14.671Z"
   },
   {
    "duration": 335,
    "start_time": "2023-09-11T02:14:14.684Z"
   },
   {
    "duration": 222,
    "start_time": "2023-09-11T02:14:15.021Z"
   },
   {
    "duration": 280,
    "start_time": "2023-09-11T02:14:15.244Z"
   },
   {
    "duration": 208,
    "start_time": "2023-09-11T02:14:15.526Z"
   },
   {
    "duration": 272,
    "start_time": "2023-09-11T02:14:15.736Z"
   },
   {
    "duration": 9,
    "start_time": "2023-09-11T02:14:16.009Z"
   },
   {
    "duration": 152,
    "start_time": "2023-09-11T02:14:16.019Z"
   },
   {
    "duration": 5,
    "start_time": "2023-09-11T02:14:16.173Z"
   },
   {
    "duration": 162,
    "start_time": "2023-09-11T02:14:16.180Z"
   },
   {
    "duration": 151,
    "start_time": "2023-09-11T02:14:16.343Z"
   },
   {
    "duration": 8,
    "start_time": "2023-09-11T02:14:16.496Z"
   },
   {
    "duration": 309,
    "start_time": "2023-09-11T02:14:16.505Z"
   },
   {
    "duration": 156,
    "start_time": "2023-09-11T02:14:16.816Z"
   },
   {
    "duration": 10,
    "start_time": "2023-09-11T02:14:16.975Z"
   },
   {
    "duration": 32,
    "start_time": "2023-09-11T02:14:16.987Z"
   },
   {
    "duration": 25,
    "start_time": "2023-09-11T02:14:17.021Z"
   },
   {
    "duration": 91,
    "start_time": "2023-09-11T02:14:17.048Z"
   },
   {
    "duration": 66,
    "start_time": "2023-09-11T02:14:17.141Z"
   }
  ],
  "kernelspec": {
   "display_name": "Python 3 (ipykernel)",
   "language": "python",
   "name": "python3"
  },
  "language_info": {
   "codemirror_mode": {
    "name": "ipython",
    "version": 3
   },
   "file_extension": ".py",
   "mimetype": "text/x-python",
   "name": "python",
   "nbconvert_exporter": "python",
   "pygments_lexer": "ipython3",
   "version": "3.11.4"
  },
  "toc": {
   "base_numbering": 1,
   "nav_menu": {},
   "number_sections": true,
   "sideBar": true,
   "skip_h1_title": true,
   "title_cell": "Table of Contents",
   "title_sidebar": "Contents",
   "toc_cell": false,
   "toc_position": {},
   "toc_section_display": true,
   "toc_window_display": false
  }
 },
 "nbformat": 4,
 "nbformat_minor": 2
}
