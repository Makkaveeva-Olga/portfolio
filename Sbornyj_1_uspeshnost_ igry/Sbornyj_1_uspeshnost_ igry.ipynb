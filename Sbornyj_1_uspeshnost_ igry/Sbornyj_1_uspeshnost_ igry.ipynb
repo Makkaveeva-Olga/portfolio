{
 "cells": [
  {
   "cell_type": "markdown",
   "metadata": {},
   "source": [
    "# Определение критериев определяющиех успешность игры "
   ]
  },
  {
   "cell_type": "markdown",
   "metadata": {},
   "source": [
    "<div style=\"border:solid Chocolate 2px; padding: 40px\">\n",
    "    \n",
    "    \n",
    "**Описание проекта**\n",
    "    \n",
    "Имеются данные о работе интернет-магазина по продаже компьютерных игр. Из открытых источников доступны исторические данные о продажах игр, оценки пользователей и экспертов, жанры и платформы. Необходимо выявить определяющие успешность игры закономерности. Это позволит сделать ставку на потенциально популярный продукт и спланировать рекламные кампании.  \n",
    "Данные включают в себя игры до 2016. Дата на момент исследования - декабрь 2016 года и необходимо продумать кампанию на 2017 год.  \n",
    "В наборе данных попадается аббревиатура ESRB (Entertainment Software Rating Board) — это ассоциация, определяющая возрастной рейтинг компьютерных игр. ESRB оценивает игровой контент и присваивает ему подходящую возрастную категорию, например, «Для взрослых», «Для детей младшего возраста» или «Для подростков»."
   ]
  },
  {
   "cell_type": "markdown",
   "metadata": {},
   "source": [
    "<div style=\"border:solid Chocolate 2px; padding: 40px\">\n",
    "    \n",
    "    \n",
    "**Описание данных**\n",
    "    \n",
    "* Name — название игры\n",
    "* Platform — платформа\n",
    "* Year_of_Release — год выпуска\n",
    "* Genre — жанр игры\n",
    "* NA_sales — продажи в Северной Америке (миллионы долларов)\n",
    "* EU_sales — продажи в Европе (миллионы долларов)\n",
    "* JP_sales — продажи в Японии (миллионы долларов)\n",
    "* Other_sales — продажи в других странах (миллионы долларов)\n",
    "* Critic_Score — оценка критиков (максимум 100)\n",
    "* User_Score — оценка пользователей (максимум 10)\n",
    "* Rating — рейтинг от организации ESRB"
   ]
  },
  {
   "cell_type": "markdown",
   "metadata": {},
   "source": [
    "<div style=\"border:solid Chocolate 2px; padding: 40px\">\n",
    "    \n",
    "    \n",
    "**План работы**\n",
    "    \n",
    "Шаг 1. Изучиние общуй информации\n",
    "\n",
    "Шаг 2. Подготовка данных\n",
    "\n",
    "Заменить названия столбцов (приведите к нижнему регистру);  \n",
    "Преобразовать данные в нужные типы. Описать, в каких столбцах заменили тип данных и почему;  \n",
    "Обработать пропуски при необходимости;  \n",
    "Объяснить, почему заполнили пропуски определённым образом или почему не стали это делать;  \n",
    "Описать причины, которые могли привести к пропускам;  \n",
    "Разберать 'tbd' абривеотуру описать как  обработать;  \n",
    "Посчитать суммарные продажи во всех регионах и запишите их в отдельный столбец.\n",
    "\n",
    "Шаг 3. Проведите исследовательский анализ данных\n",
    "\n",
    "Анализ периода выпуска игр\n",
    "Анализ продаж по платформам\n",
    "Строим прогноз на 2017 год\n",
    "Анализ по глобальным продажам игр в разбивке по платформам\n",
    "Анализ влияния на продажи внутри одной популярной платформы отзывы пользователей и критиков\n",
    "Анализ по жанрам\n",
    "    \n",
    "Шаг 4. Составьте портрет пользователя каждого региона\n",
    "\n",
    "Определить для пользователя каждого региона (NA, EU, JP):\n",
    "\n",
    "* Самые популярные платформы (топ-5). Опишите различия в долях продаж.\n",
    "* Самые популярные жанры (топ-5). Поясните разницу.\n",
    "* Влияет ли рейтинг ESRB на продажи в отдельном регионе?\n",
    "\n",
    "Шаг 5. Проверьте гипотезы\n",
    "\n",
    "* Средние пользовательские рейтинги платформ Xbox One и PC одинаковые;\n",
    "* Средние пользовательские рейтинги жанров Action (англ. «действие», экшен-игры) и Sports (англ. «спортивные соревнования») разные.\n",
    "* Задайте самостоятельно пороговое значение alpha.\n",
    "\n",
    "Шаг 6. Общий вывод\n",
    "\n",
    "\n",
    "\n",
    "\n"
   ]
  },
  {
   "cell_type": "markdown",
   "metadata": {},
   "source": [
    "##  1. Загружаем данные и изучаем общую информацию"
   ]
  },
  {
   "cell_type": "code",
   "execution_count": 44,
   "metadata": {},
   "outputs": [],
   "source": [
    "import pandas as pd\n",
    "import matplotlib.pyplot as plt\n",
    "import seaborn as sns\n",
    "import numpy as np\n",
    "import scipy.stats as stats"
   ]
  },
  {
   "cell_type": "code",
   "execution_count": 45,
   "metadata": {},
   "outputs": [
    {
     "data": {
      "text/html": [
       "<div>\n",
       "<style scoped>\n",
       "    .dataframe tbody tr th:only-of-type {\n",
       "        vertical-align: middle;\n",
       "    }\n",
       "\n",
       "    .dataframe tbody tr th {\n",
       "        vertical-align: top;\n",
       "    }\n",
       "\n",
       "    .dataframe thead th {\n",
       "        text-align: right;\n",
       "    }\n",
       "</style>\n",
       "<table border=\"1\" class=\"dataframe\">\n",
       "  <thead>\n",
       "    <tr style=\"text-align: right;\">\n",
       "      <th></th>\n",
       "      <th>Name</th>\n",
       "      <th>Platform</th>\n",
       "      <th>Year_of_Release</th>\n",
       "      <th>Genre</th>\n",
       "      <th>NA_sales</th>\n",
       "      <th>EU_sales</th>\n",
       "      <th>JP_sales</th>\n",
       "      <th>Other_sales</th>\n",
       "      <th>Critic_Score</th>\n",
       "      <th>User_Score</th>\n",
       "      <th>Rating</th>\n",
       "    </tr>\n",
       "  </thead>\n",
       "  <tbody>\n",
       "    <tr>\n",
       "      <th>2295</th>\n",
       "      <td>Burnout Revenge</td>\n",
       "      <td>PS2</td>\n",
       "      <td>2,005.00</td>\n",
       "      <td>Racing</td>\n",
       "      <td>0.75</td>\n",
       "      <td>0.03</td>\n",
       "      <td>0.00</td>\n",
       "      <td>0.12</td>\n",
       "      <td>90.00</td>\n",
       "      <td>8.8</td>\n",
       "      <td>E10+</td>\n",
       "    </tr>\n",
       "    <tr>\n",
       "      <th>10339</th>\n",
       "      <td>Shrek: Forever After</td>\n",
       "      <td>X360</td>\n",
       "      <td>2,010.00</td>\n",
       "      <td>Platform</td>\n",
       "      <td>0.10</td>\n",
       "      <td>0.00</td>\n",
       "      <td>0.00</td>\n",
       "      <td>0.01</td>\n",
       "      <td>62.00</td>\n",
       "      <td>6.2</td>\n",
       "      <td>E10+</td>\n",
       "    </tr>\n",
       "    <tr>\n",
       "      <th>9355</th>\n",
       "      <td>Retro Atari Classics</td>\n",
       "      <td>DS</td>\n",
       "      <td>2,005.00</td>\n",
       "      <td>Misc</td>\n",
       "      <td>0.12</td>\n",
       "      <td>0.00</td>\n",
       "      <td>0.00</td>\n",
       "      <td>0.01</td>\n",
       "      <td>51.00</td>\n",
       "      <td>3.7</td>\n",
       "      <td>E</td>\n",
       "    </tr>\n",
       "    <tr>\n",
       "      <th>10015</th>\n",
       "      <td>Rugby 15</td>\n",
       "      <td>PS4</td>\n",
       "      <td>2,015.00</td>\n",
       "      <td>Sports</td>\n",
       "      <td>0.04</td>\n",
       "      <td>0.06</td>\n",
       "      <td>0.00</td>\n",
       "      <td>0.02</td>\n",
       "      <td>19.00</td>\n",
       "      <td>3.4</td>\n",
       "      <td>E</td>\n",
       "    </tr>\n",
       "    <tr>\n",
       "      <th>16313</th>\n",
       "      <td>Bakumatsu Rock</td>\n",
       "      <td>PSP</td>\n",
       "      <td>2,014.00</td>\n",
       "      <td>Action</td>\n",
       "      <td>0.00</td>\n",
       "      <td>0.00</td>\n",
       "      <td>0.01</td>\n",
       "      <td>0.00</td>\n",
       "      <td>NaN</td>\n",
       "      <td>NaN</td>\n",
       "      <td>NaN</td>\n",
       "    </tr>\n",
       "    <tr>\n",
       "      <th>7579</th>\n",
       "      <td>NBA Live 14</td>\n",
       "      <td>XOne</td>\n",
       "      <td>2,013.00</td>\n",
       "      <td>Sports</td>\n",
       "      <td>0.16</td>\n",
       "      <td>0.02</td>\n",
       "      <td>0.00</td>\n",
       "      <td>0.02</td>\n",
       "      <td>36.00</td>\n",
       "      <td>3.1</td>\n",
       "      <td>E</td>\n",
       "    </tr>\n",
       "    <tr>\n",
       "      <th>8350</th>\n",
       "      <td>Hellboy: The Science of Evil</td>\n",
       "      <td>PS3</td>\n",
       "      <td>2,008.00</td>\n",
       "      <td>Action</td>\n",
       "      <td>0.13</td>\n",
       "      <td>0.02</td>\n",
       "      <td>0.00</td>\n",
       "      <td>0.02</td>\n",
       "      <td>47.00</td>\n",
       "      <td>6.1</td>\n",
       "      <td>T</td>\n",
       "    </tr>\n",
       "    <tr>\n",
       "      <th>5126</th>\n",
       "      <td>Imagine: Salon Stylist</td>\n",
       "      <td>DS</td>\n",
       "      <td>2,009.00</td>\n",
       "      <td>Simulation</td>\n",
       "      <td>0.23</td>\n",
       "      <td>0.10</td>\n",
       "      <td>0.00</td>\n",
       "      <td>0.03</td>\n",
       "      <td>NaN</td>\n",
       "      <td>tbd</td>\n",
       "      <td>E</td>\n",
       "    </tr>\n",
       "    <tr>\n",
       "      <th>5513</th>\n",
       "      <td>Spy Kids 3-D: Game Over</td>\n",
       "      <td>GBA</td>\n",
       "      <td>2,003.00</td>\n",
       "      <td>Platform</td>\n",
       "      <td>0.24</td>\n",
       "      <td>0.09</td>\n",
       "      <td>0.00</td>\n",
       "      <td>0.01</td>\n",
       "      <td>62.00</td>\n",
       "      <td>7.7</td>\n",
       "      <td>E</td>\n",
       "    </tr>\n",
       "    <tr>\n",
       "      <th>1902</th>\n",
       "      <td>Tom Clancy's Ghost Recon 2</td>\n",
       "      <td>PS2</td>\n",
       "      <td>2,004.00</td>\n",
       "      <td>Shooter</td>\n",
       "      <td>0.64</td>\n",
       "      <td>0.34</td>\n",
       "      <td>0.00</td>\n",
       "      <td>0.10</td>\n",
       "      <td>58.00</td>\n",
       "      <td>6</td>\n",
       "      <td>T</td>\n",
       "    </tr>\n",
       "  </tbody>\n",
       "</table>\n",
       "</div>"
      ],
      "text/plain": [
       "                               Name Platform  Year_of_Release       Genre  \\\n",
       "2295                Burnout Revenge      PS2         2,005.00      Racing   \n",
       "10339          Shrek: Forever After     X360         2,010.00    Platform   \n",
       "9355           Retro Atari Classics       DS         2,005.00        Misc   \n",
       "10015                      Rugby 15      PS4         2,015.00      Sports   \n",
       "16313                Bakumatsu Rock      PSP         2,014.00      Action   \n",
       "7579                    NBA Live 14     XOne         2,013.00      Sports   \n",
       "8350   Hellboy: The Science of Evil      PS3         2,008.00      Action   \n",
       "5126         Imagine: Salon Stylist       DS         2,009.00  Simulation   \n",
       "5513        Spy Kids 3-D: Game Over      GBA         2,003.00    Platform   \n",
       "1902     Tom Clancy's Ghost Recon 2      PS2         2,004.00     Shooter   \n",
       "\n",
       "       NA_sales  EU_sales  JP_sales  Other_sales  Critic_Score User_Score  \\\n",
       "2295       0.75      0.03      0.00         0.12         90.00        8.8   \n",
       "10339      0.10      0.00      0.00         0.01         62.00        6.2   \n",
       "9355       0.12      0.00      0.00         0.01         51.00        3.7   \n",
       "10015      0.04      0.06      0.00         0.02         19.00        3.4   \n",
       "16313      0.00      0.00      0.01         0.00           NaN        NaN   \n",
       "7579       0.16      0.02      0.00         0.02         36.00        3.1   \n",
       "8350       0.13      0.02      0.00         0.02         47.00        6.1   \n",
       "5126       0.23      0.10      0.00         0.03           NaN        tbd   \n",
       "5513       0.24      0.09      0.00         0.01         62.00        7.7   \n",
       "1902       0.64      0.34      0.00         0.10         58.00          6   \n",
       "\n",
       "      Rating  \n",
       "2295    E10+  \n",
       "10339   E10+  \n",
       "9355       E  \n",
       "10015      E  \n",
       "16313    NaN  \n",
       "7579       E  \n",
       "8350       T  \n",
       "5126       E  \n",
       "5513       E  \n",
       "1902       T  "
      ]
     },
     "metadata": {},
     "output_type": "display_data"
    }
   ],
   "source": [
    "pd.set_option('display.float_format', '{:,.2f}'.format)\n",
    "df = \n",
    "display(df.sample(10))"
   ]
  },
  {
   "cell_type": "code",
   "execution_count": 46,
   "metadata": {},
   "outputs": [
    {
     "name": "stdout",
     "output_type": "stream",
     "text": [
      "<class 'pandas.core.frame.DataFrame'>\n",
      "RangeIndex: 16715 entries, 0 to 16714\n",
      "Data columns (total 11 columns):\n",
      " #   Column           Non-Null Count  Dtype  \n",
      "---  ------           --------------  -----  \n",
      " 0   Name             16713 non-null  object \n",
      " 1   Platform         16715 non-null  object \n",
      " 2   Year_of_Release  16446 non-null  float64\n",
      " 3   Genre            16713 non-null  object \n",
      " 4   NA_sales         16715 non-null  float64\n",
      " 5   EU_sales         16715 non-null  float64\n",
      " 6   JP_sales         16715 non-null  float64\n",
      " 7   Other_sales      16715 non-null  float64\n",
      " 8   Critic_Score     8137 non-null   float64\n",
      " 9   User_Score       10014 non-null  object \n",
      " 10  Rating           9949 non-null   object \n",
      "dtypes: float64(6), object(5)\n",
      "memory usage: 1.4+ MB\n"
     ]
    },
    {
     "data": {
      "text/plain": [
       "(16715, 11)"
      ]
     },
     "metadata": {},
     "output_type": "display_data"
    }
   ],
   "source": [
    "df.info()\n",
    "shape = df.shape\n",
    "display(shape)"
   ]
  },
  {
   "cell_type": "code",
   "execution_count": 47,
   "metadata": {},
   "outputs": [
    {
     "data": {
      "text/html": [
       "<div>\n",
       "<style scoped>\n",
       "    .dataframe tbody tr th:only-of-type {\n",
       "        vertical-align: middle;\n",
       "    }\n",
       "\n",
       "    .dataframe tbody tr th {\n",
       "        vertical-align: top;\n",
       "    }\n",
       "\n",
       "    .dataframe thead th {\n",
       "        text-align: right;\n",
       "    }\n",
       "</style>\n",
       "<table border=\"1\" class=\"dataframe\">\n",
       "  <thead>\n",
       "    <tr style=\"text-align: right;\">\n",
       "      <th></th>\n",
       "      <th>Year_of_Release</th>\n",
       "      <th>NA_sales</th>\n",
       "      <th>EU_sales</th>\n",
       "      <th>JP_sales</th>\n",
       "      <th>Other_sales</th>\n",
       "      <th>Critic_Score</th>\n",
       "    </tr>\n",
       "  </thead>\n",
       "  <tbody>\n",
       "    <tr>\n",
       "      <th>count</th>\n",
       "      <td>16,446.00</td>\n",
       "      <td>16,715.00</td>\n",
       "      <td>16,715.00</td>\n",
       "      <td>16,715.00</td>\n",
       "      <td>16,715.00</td>\n",
       "      <td>8,137.00</td>\n",
       "    </tr>\n",
       "    <tr>\n",
       "      <th>mean</th>\n",
       "      <td>2,006.48</td>\n",
       "      <td>0.26</td>\n",
       "      <td>0.15</td>\n",
       "      <td>0.08</td>\n",
       "      <td>0.05</td>\n",
       "      <td>68.97</td>\n",
       "    </tr>\n",
       "    <tr>\n",
       "      <th>std</th>\n",
       "      <td>5.88</td>\n",
       "      <td>0.81</td>\n",
       "      <td>0.50</td>\n",
       "      <td>0.31</td>\n",
       "      <td>0.19</td>\n",
       "      <td>13.94</td>\n",
       "    </tr>\n",
       "    <tr>\n",
       "      <th>min</th>\n",
       "      <td>1,980.00</td>\n",
       "      <td>0.00</td>\n",
       "      <td>0.00</td>\n",
       "      <td>0.00</td>\n",
       "      <td>0.00</td>\n",
       "      <td>13.00</td>\n",
       "    </tr>\n",
       "    <tr>\n",
       "      <th>25%</th>\n",
       "      <td>2,003.00</td>\n",
       "      <td>0.00</td>\n",
       "      <td>0.00</td>\n",
       "      <td>0.00</td>\n",
       "      <td>0.00</td>\n",
       "      <td>60.00</td>\n",
       "    </tr>\n",
       "    <tr>\n",
       "      <th>50%</th>\n",
       "      <td>2,007.00</td>\n",
       "      <td>0.08</td>\n",
       "      <td>0.02</td>\n",
       "      <td>0.00</td>\n",
       "      <td>0.01</td>\n",
       "      <td>71.00</td>\n",
       "    </tr>\n",
       "    <tr>\n",
       "      <th>75%</th>\n",
       "      <td>2,010.00</td>\n",
       "      <td>0.24</td>\n",
       "      <td>0.11</td>\n",
       "      <td>0.04</td>\n",
       "      <td>0.03</td>\n",
       "      <td>79.00</td>\n",
       "    </tr>\n",
       "    <tr>\n",
       "      <th>max</th>\n",
       "      <td>2,016.00</td>\n",
       "      <td>41.36</td>\n",
       "      <td>28.96</td>\n",
       "      <td>10.22</td>\n",
       "      <td>10.57</td>\n",
       "      <td>98.00</td>\n",
       "    </tr>\n",
       "  </tbody>\n",
       "</table>\n",
       "</div>"
      ],
      "text/plain": [
       "       Year_of_Release  NA_sales  EU_sales  JP_sales  Other_sales  \\\n",
       "count        16,446.00 16,715.00 16,715.00 16,715.00    16,715.00   \n",
       "mean          2,006.48      0.26      0.15      0.08         0.05   \n",
       "std               5.88      0.81      0.50      0.31         0.19   \n",
       "min           1,980.00      0.00      0.00      0.00         0.00   \n",
       "25%           2,003.00      0.00      0.00      0.00         0.00   \n",
       "50%           2,007.00      0.08      0.02      0.00         0.01   \n",
       "75%           2,010.00      0.24      0.11      0.04         0.03   \n",
       "max           2,016.00     41.36     28.96     10.22        10.57   \n",
       "\n",
       "       Critic_Score  \n",
       "count      8,137.00  \n",
       "mean          68.97  \n",
       "std           13.94  \n",
       "min           13.00  \n",
       "25%           60.00  \n",
       "50%           71.00  \n",
       "75%           79.00  \n",
       "max           98.00  "
      ]
     },
     "execution_count": 47,
     "metadata": {},
     "output_type": "execute_result"
    }
   ],
   "source": [
    "df.describe()"
   ]
  },
  {
   "cell_type": "code",
   "execution_count": 48,
   "metadata": {},
   "outputs": [
    {
     "data": {
      "text/plain": [
       "Name                  2\n",
       "Platform              0\n",
       "Year_of_Release     269\n",
       "Genre                 2\n",
       "NA_sales              0\n",
       "EU_sales              0\n",
       "JP_sales              0\n",
       "Other_sales           0\n",
       "Critic_Score       8578\n",
       "User_Score         6701\n",
       "Rating             6766\n",
       "dtype: int64"
      ]
     },
     "execution_count": 48,
     "metadata": {},
     "output_type": "execute_result"
    }
   ],
   "source": [
    "df.isna().sum() "
   ]
  },
  {
   "cell_type": "code",
   "execution_count": 49,
   "metadata": {},
   "outputs": [
    {
     "data": {
      "text/plain": [
       "0"
      ]
     },
     "execution_count": 49,
     "metadata": {},
     "output_type": "execute_result"
    }
   ],
   "source": [
    "df.duplicated().sum() "
   ]
  },
  {
   "cell_type": "markdown",
   "metadata": {},
   "source": [
    "## 1. Вывод \n",
    "\n",
    "1. Данные выглядят объективно и понятно.\n",
    "2. В названиях столбцов есть буквы как верхнего так и нижнего регистра, их нужно предобработать.\n",
    "3. В столбцах Year_of_Release и User_Score надо поменять тип данных\n",
    "4. Колонки: Year_of_Release, Critic_Score, User_Score, Rating содердат пропуски данных.\n",
    "5. Дубликаты (полные) в данных отсутствуют."
   ]
  },
  {
   "cell_type": "markdown",
   "metadata": {},
   "source": [
    "## 2. Предобработка данных"
   ]
  },
  {
   "cell_type": "markdown",
   "metadata": {},
   "source": [
    "### Замена названия столбцов "
   ]
  },
  {
   "cell_type": "code",
   "execution_count": 50,
   "metadata": {},
   "outputs": [
    {
     "data": {
      "text/html": [
       "<div>\n",
       "<style scoped>\n",
       "    .dataframe tbody tr th:only-of-type {\n",
       "        vertical-align: middle;\n",
       "    }\n",
       "\n",
       "    .dataframe tbody tr th {\n",
       "        vertical-align: top;\n",
       "    }\n",
       "\n",
       "    .dataframe thead th {\n",
       "        text-align: right;\n",
       "    }\n",
       "</style>\n",
       "<table border=\"1\" class=\"dataframe\">\n",
       "  <thead>\n",
       "    <tr style=\"text-align: right;\">\n",
       "      <th></th>\n",
       "      <th>name</th>\n",
       "      <th>platform</th>\n",
       "      <th>year_of_release</th>\n",
       "      <th>genre</th>\n",
       "      <th>na_sales</th>\n",
       "      <th>eu_sales</th>\n",
       "      <th>jp_sales</th>\n",
       "      <th>other_sales</th>\n",
       "      <th>critic_score</th>\n",
       "      <th>user_score</th>\n",
       "      <th>rating</th>\n",
       "    </tr>\n",
       "  </thead>\n",
       "  <tbody>\n",
       "    <tr>\n",
       "      <th>0</th>\n",
       "      <td>Wii Sports</td>\n",
       "      <td>Wii</td>\n",
       "      <td>2,006.00</td>\n",
       "      <td>Sports</td>\n",
       "      <td>41.36</td>\n",
       "      <td>28.96</td>\n",
       "      <td>3.77</td>\n",
       "      <td>8.45</td>\n",
       "      <td>76.00</td>\n",
       "      <td>8</td>\n",
       "      <td>E</td>\n",
       "    </tr>\n",
       "    <tr>\n",
       "      <th>1</th>\n",
       "      <td>Super Mario Bros.</td>\n",
       "      <td>NES</td>\n",
       "      <td>1,985.00</td>\n",
       "      <td>Platform</td>\n",
       "      <td>29.08</td>\n",
       "      <td>3.58</td>\n",
       "      <td>6.81</td>\n",
       "      <td>0.77</td>\n",
       "      <td>NaN</td>\n",
       "      <td>NaN</td>\n",
       "      <td>NaN</td>\n",
       "    </tr>\n",
       "    <tr>\n",
       "      <th>2</th>\n",
       "      <td>Mario Kart Wii</td>\n",
       "      <td>Wii</td>\n",
       "      <td>2,008.00</td>\n",
       "      <td>Racing</td>\n",
       "      <td>15.68</td>\n",
       "      <td>12.76</td>\n",
       "      <td>3.79</td>\n",
       "      <td>3.29</td>\n",
       "      <td>82.00</td>\n",
       "      <td>8.3</td>\n",
       "      <td>E</td>\n",
       "    </tr>\n",
       "  </tbody>\n",
       "</table>\n",
       "</div>"
      ],
      "text/plain": [
       "                name platform  year_of_release     genre  na_sales  eu_sales  \\\n",
       "0         Wii Sports      Wii         2,006.00    Sports     41.36     28.96   \n",
       "1  Super Mario Bros.      NES         1,985.00  Platform     29.08      3.58   \n",
       "2     Mario Kart Wii      Wii         2,008.00    Racing     15.68     12.76   \n",
       "\n",
       "   jp_sales  other_sales  critic_score user_score rating  \n",
       "0      3.77         8.45         76.00          8      E  \n",
       "1      6.81         0.77           NaN        NaN    NaN  \n",
       "2      3.79         3.29         82.00        8.3      E  "
      ]
     },
     "execution_count": 50,
     "metadata": {},
     "output_type": "execute_result"
    }
   ],
   "source": [
    "df.columns = df.columns.str.lower()\n",
    "\n",
    "df.head(3)"
   ]
  },
  {
   "cell_type": "markdown",
   "metadata": {},
   "source": [
    "### Преобразование типов данных"
   ]
  },
  {
   "cell_type": "code",
   "execution_count": 51,
   "metadata": {},
   "outputs": [],
   "source": [
    "df['year_of_release'] = df['year_of_release'].astype('Int64') #меняем тип на целочисленный\n",
    "#df['user_score'] = pd.to_numeric(df['user_score'])#меняем с object на float64"
   ]
  },
  {
   "cell_type": "markdown",
   "metadata": {},
   "source": [
    "узнаем, что в данных есть значение tbd, что мешает изменению типа данных . Избавимся от tbd."
   ]
  },
  {
   "cell_type": "markdown",
   "metadata": {},
   "source": [
    "TBD — это аббревиатура, которая обозначает «To Be Determined» (англ. «будет определено»). Это выражение используется в различных областях и означает, что некоторые детали еще не известны или не определены.\n",
    "В технической литературе и проектной документации TBD обычно используется для обозначения неопределенных деталей или решений в проекте."
   ]
  },
  {
   "cell_type": "code",
   "execution_count": 52,
   "metadata": {},
   "outputs": [],
   "source": [
    "for item in df['user_score']:\n",
    "    if item == 'tbd':\n",
    "        df.loc[df['user_score']=='tbd', 'user_score'] = -2\n",
    "df['user_score'] = pd.to_numeric(df['user_score'])#меняем с object на float64"
   ]
  },
  {
   "cell_type": "markdown",
   "metadata": {},
   "source": [
    "### Обработка пропусков"
   ]
  },
  {
   "cell_type": "code",
   "execution_count": 54,
   "metadata": {},
   "outputs": [],
   "source": [
    "df.dropna(subset = ['name' ], inplace= True)\n",
    "df.dropna(subset = ['genre'], inplace= True)\n",
    "df = df.reset_index(drop=True)"
   ]
  },
  {
   "cell_type": "markdown",
   "metadata": {},
   "source": [
    "Избавимся от пропусков в столбце 'year_of_release', так как данные стоставляют 1% и их удаление не помешает анализц а дальнейшем."
   ]
  },
  {
   "cell_type": "code",
   "execution_count": 55,
   "metadata": {},
   "outputs": [],
   "source": [
    "df.dropna(subset = ['year_of_release'], inplace= True)\n",
    "df = df.reset_index(drop=True)"
   ]
  },
  {
   "cell_type": "code",
   "execution_count": 56,
   "metadata": {},
   "outputs": [
    {
     "data": {
      "text/plain": [
       "not_defined    6676\n",
       "E              3921\n",
       "T              2905\n",
       "M              1536\n",
       "E10+           1393\n",
       "EC                8\n",
       "K-A               3\n",
       "AO                1\n",
       "RP                1\n",
       "Name: rating, dtype: int64"
      ]
     },
     "execution_count": 56,
     "metadata": {},
     "output_type": "execute_result"
    }
   ],
   "source": [
    "df['rating'] = df['rating'].fillna('not_defined')\n",
    "df['rating'].value_counts()"
   ]
  },
  {
   "cell_type": "code",
   "execution_count": 57,
   "metadata": {},
   "outputs": [
    {
     "data": {
      "text/plain": [
       "name                  0\n",
       "platform              0\n",
       "year_of_release       0\n",
       "genre                 0\n",
       "na_sales              0\n",
       "eu_sales              0\n",
       "jp_sales              0\n",
       "other_sales           0\n",
       "critic_score       8461\n",
       "user_score         6605\n",
       "rating                0\n",
       "dtype: int64"
      ]
     },
     "execution_count": 57,
     "metadata": {},
     "output_type": "execute_result"
    }
   ],
   "source": [
    "df.isna().sum() "
   ]
  },
  {
   "cell_type": "markdown",
   "metadata": {},
   "source": [
    "### Суммарные продажи "
   ]
  },
  {
   "cell_type": "code",
   "execution_count": 58,
   "metadata": {
    "scrolled": true
   },
   "outputs": [
    {
     "data": {
      "text/html": [
       "<div>\n",
       "<style scoped>\n",
       "    .dataframe tbody tr th:only-of-type {\n",
       "        vertical-align: middle;\n",
       "    }\n",
       "\n",
       "    .dataframe tbody tr th {\n",
       "        vertical-align: top;\n",
       "    }\n",
       "\n",
       "    .dataframe thead th {\n",
       "        text-align: right;\n",
       "    }\n",
       "</style>\n",
       "<table border=\"1\" class=\"dataframe\">\n",
       "  <thead>\n",
       "    <tr style=\"text-align: right;\">\n",
       "      <th></th>\n",
       "      <th>name</th>\n",
       "      <th>platform</th>\n",
       "      <th>year_of_release</th>\n",
       "      <th>genre</th>\n",
       "      <th>na_sales</th>\n",
       "      <th>eu_sales</th>\n",
       "      <th>jp_sales</th>\n",
       "      <th>other_sales</th>\n",
       "      <th>critic_score</th>\n",
       "      <th>user_score</th>\n",
       "      <th>rating</th>\n",
       "      <th>total_sales</th>\n",
       "    </tr>\n",
       "  </thead>\n",
       "  <tbody>\n",
       "    <tr>\n",
       "      <th>0</th>\n",
       "      <td>Wii Sports</td>\n",
       "      <td>Wii</td>\n",
       "      <td>2006</td>\n",
       "      <td>Sports</td>\n",
       "      <td>41.36</td>\n",
       "      <td>28.96</td>\n",
       "      <td>3.77</td>\n",
       "      <td>8.45</td>\n",
       "      <td>76.00</td>\n",
       "      <td>8.00</td>\n",
       "      <td>E</td>\n",
       "      <td>82.54</td>\n",
       "    </tr>\n",
       "    <tr>\n",
       "      <th>1</th>\n",
       "      <td>Super Mario Bros.</td>\n",
       "      <td>NES</td>\n",
       "      <td>1985</td>\n",
       "      <td>Platform</td>\n",
       "      <td>29.08</td>\n",
       "      <td>3.58</td>\n",
       "      <td>6.81</td>\n",
       "      <td>0.77</td>\n",
       "      <td>NaN</td>\n",
       "      <td>NaN</td>\n",
       "      <td>not_defined</td>\n",
       "      <td>40.24</td>\n",
       "    </tr>\n",
       "    <tr>\n",
       "      <th>2</th>\n",
       "      <td>Mario Kart Wii</td>\n",
       "      <td>Wii</td>\n",
       "      <td>2008</td>\n",
       "      <td>Racing</td>\n",
       "      <td>15.68</td>\n",
       "      <td>12.76</td>\n",
       "      <td>3.79</td>\n",
       "      <td>3.29</td>\n",
       "      <td>82.00</td>\n",
       "      <td>8.30</td>\n",
       "      <td>E</td>\n",
       "      <td>35.52</td>\n",
       "    </tr>\n",
       "    <tr>\n",
       "      <th>3</th>\n",
       "      <td>Wii Sports Resort</td>\n",
       "      <td>Wii</td>\n",
       "      <td>2009</td>\n",
       "      <td>Sports</td>\n",
       "      <td>15.61</td>\n",
       "      <td>10.93</td>\n",
       "      <td>3.28</td>\n",
       "      <td>2.95</td>\n",
       "      <td>80.00</td>\n",
       "      <td>8.00</td>\n",
       "      <td>E</td>\n",
       "      <td>32.77</td>\n",
       "    </tr>\n",
       "    <tr>\n",
       "      <th>4</th>\n",
       "      <td>Pokemon Red/Pokemon Blue</td>\n",
       "      <td>GB</td>\n",
       "      <td>1996</td>\n",
       "      <td>Role-Playing</td>\n",
       "      <td>11.27</td>\n",
       "      <td>8.89</td>\n",
       "      <td>10.22</td>\n",
       "      <td>1.00</td>\n",
       "      <td>NaN</td>\n",
       "      <td>NaN</td>\n",
       "      <td>not_defined</td>\n",
       "      <td>31.38</td>\n",
       "    </tr>\n",
       "  </tbody>\n",
       "</table>\n",
       "</div>"
      ],
      "text/plain": [
       "                       name platform  year_of_release         genre  na_sales  \\\n",
       "0                Wii Sports      Wii             2006        Sports     41.36   \n",
       "1         Super Mario Bros.      NES             1985      Platform     29.08   \n",
       "2            Mario Kart Wii      Wii             2008        Racing     15.68   \n",
       "3         Wii Sports Resort      Wii             2009        Sports     15.61   \n",
       "4  Pokemon Red/Pokemon Blue       GB             1996  Role-Playing     11.27   \n",
       "\n",
       "   eu_sales  jp_sales  other_sales  critic_score  user_score       rating  \\\n",
       "0     28.96      3.77         8.45         76.00        8.00            E   \n",
       "1      3.58      6.81         0.77           NaN         NaN  not_defined   \n",
       "2     12.76      3.79         3.29         82.00        8.30            E   \n",
       "3     10.93      3.28         2.95         80.00        8.00            E   \n",
       "4      8.89     10.22         1.00           NaN         NaN  not_defined   \n",
       "\n",
       "   total_sales  \n",
       "0        82.54  \n",
       "1        40.24  \n",
       "2        35.52  \n",
       "3        32.77  \n",
       "4        31.38  "
      ]
     },
     "execution_count": 58,
     "metadata": {},
     "output_type": "execute_result"
    }
   ],
   "source": [
    "df['total_sales'] = df[['na_sales','eu_sales','jp_sales','other_sales']].sum(axis=1)  \n",
    "df.head()"
   ]
  },
  {
   "cell_type": "markdown",
   "metadata": {},
   "source": [
    "Найдем неявные дубликаты После чего закоментируем, что бы не отвлекаться на данные"
   ]
  },
  {
   "cell_type": "code",
   "execution_count": 59,
   "metadata": {},
   "outputs": [],
   "source": [
    "new_df = df[['name','platform', 'year_of_release']]. copy ()\n"
   ]
  },
  {
   "cell_type": "code",
   "execution_count": 60,
   "metadata": {},
   "outputs": [
    {
     "data": {
      "text/html": [
       "<div>\n",
       "<style scoped>\n",
       "    .dataframe tbody tr th:only-of-type {\n",
       "        vertical-align: middle;\n",
       "    }\n",
       "\n",
       "    .dataframe tbody tr th {\n",
       "        vertical-align: top;\n",
       "    }\n",
       "\n",
       "    .dataframe thead th {\n",
       "        text-align: right;\n",
       "    }\n",
       "</style>\n",
       "<table border=\"1\" class=\"dataframe\">\n",
       "  <thead>\n",
       "    <tr style=\"text-align: right;\">\n",
       "      <th></th>\n",
       "      <th>name</th>\n",
       "      <th>platform</th>\n",
       "      <th>year_of_release</th>\n",
       "    </tr>\n",
       "  </thead>\n",
       "  <tbody>\n",
       "    <tr>\n",
       "      <th>600</th>\n",
       "      <td>Madden NFL 13</td>\n",
       "      <td>PS3</td>\n",
       "      <td>2012</td>\n",
       "    </tr>\n",
       "    <tr>\n",
       "      <th>15969</th>\n",
       "      <td>Madden NFL 13</td>\n",
       "      <td>PS3</td>\n",
       "      <td>2012</td>\n",
       "    </tr>\n",
       "  </tbody>\n",
       "</table>\n",
       "</div>"
      ],
      "text/plain": [
       "                name platform  year_of_release\n",
       "600    Madden NFL 13      PS3             2012\n",
       "15969  Madden NFL 13      PS3             2012"
      ]
     },
     "execution_count": 60,
     "metadata": {},
     "output_type": "execute_result"
    }
   ],
   "source": [
    "new_df[new_df.duplicated(keep=False)]"
   ]
  },
  {
   "cell_type": "code",
   "execution_count": 61,
   "metadata": {},
   "outputs": [],
   "source": [
    "df = df.drop (index= 15969 )"
   ]
  },
  {
   "cell_type": "markdown",
   "metadata": {},
   "source": [
    "##  2. Вывод по предобработке данных\n",
    "\n",
    "1. Заменили названия столбцов на нижний регистр.\n",
    "2. Заменили тип данных в столбцах Year_of_Release и User_Score.\n",
    "3. В столбце User_Score  заменили аббревиатуру 'tbd' на None.\n",
    "4. В столбцах name, genre и year_of_release с помощью dropna, так как потеря этих строк не скажеться на дальнейщих результатах.\n",
    "5. В столбце рейтинг rating пропуски заменили на 'not_defined', что бы пропуски не машали анализу и не потерять объем данных.\n",
    "6. Не обрабатываю пропуски в столбцах critic_score\tи  user_score, так как это может повлиять на последующий анализ.\n",
    "7. Добавили столбец\ttotal_sales."
   ]
  },
  {
   "cell_type": "markdown",
   "metadata": {},
   "source": [
    "## 3. Исследовательский анализ данных"
   ]
  },
  {
   "cell_type": "markdown",
   "metadata": {},
   "source": [
    "### Анализируем сколько игр выпускалось в разные годы"
   ]
  },
  {
   "cell_type": "code",
   "execution_count": 62,
   "metadata": {},
   "outputs": [
    {
     "data": {
      "text/html": [
       "<div>\n",
       "<style scoped>\n",
       "    .dataframe tbody tr th:only-of-type {\n",
       "        vertical-align: middle;\n",
       "    }\n",
       "\n",
       "    .dataframe tbody tr th {\n",
       "        vertical-align: top;\n",
       "    }\n",
       "\n",
       "    .dataframe thead th {\n",
       "        text-align: right;\n",
       "    }\n",
       "</style>\n",
       "<table border=\"1\" class=\"dataframe\">\n",
       "  <thead>\n",
       "    <tr style=\"text-align: right;\">\n",
       "      <th></th>\n",
       "      <th>year</th>\n",
       "      <th>amount</th>\n",
       "    </tr>\n",
       "  </thead>\n",
       "  <tbody>\n",
       "    <tr>\n",
       "      <th>0</th>\n",
       "      <td>1980</td>\n",
       "      <td>9</td>\n",
       "    </tr>\n",
       "    <tr>\n",
       "      <th>1</th>\n",
       "      <td>1981</td>\n",
       "      <td>46</td>\n",
       "    </tr>\n",
       "    <tr>\n",
       "      <th>2</th>\n",
       "      <td>1982</td>\n",
       "      <td>36</td>\n",
       "    </tr>\n",
       "    <tr>\n",
       "      <th>3</th>\n",
       "      <td>1983</td>\n",
       "      <td>17</td>\n",
       "    </tr>\n",
       "    <tr>\n",
       "      <th>4</th>\n",
       "      <td>1984</td>\n",
       "      <td>14</td>\n",
       "    </tr>\n",
       "    <tr>\n",
       "      <th>5</th>\n",
       "      <td>1985</td>\n",
       "      <td>14</td>\n",
       "    </tr>\n",
       "    <tr>\n",
       "      <th>6</th>\n",
       "      <td>1986</td>\n",
       "      <td>21</td>\n",
       "    </tr>\n",
       "    <tr>\n",
       "      <th>7</th>\n",
       "      <td>1987</td>\n",
       "      <td>16</td>\n",
       "    </tr>\n",
       "    <tr>\n",
       "      <th>8</th>\n",
       "      <td>1988</td>\n",
       "      <td>15</td>\n",
       "    </tr>\n",
       "    <tr>\n",
       "      <th>9</th>\n",
       "      <td>1989</td>\n",
       "      <td>17</td>\n",
       "    </tr>\n",
       "    <tr>\n",
       "      <th>10</th>\n",
       "      <td>1990</td>\n",
       "      <td>16</td>\n",
       "    </tr>\n",
       "    <tr>\n",
       "      <th>11</th>\n",
       "      <td>1991</td>\n",
       "      <td>41</td>\n",
       "    </tr>\n",
       "    <tr>\n",
       "      <th>12</th>\n",
       "      <td>1992</td>\n",
       "      <td>43</td>\n",
       "    </tr>\n",
       "    <tr>\n",
       "      <th>13</th>\n",
       "      <td>1993</td>\n",
       "      <td>60</td>\n",
       "    </tr>\n",
       "    <tr>\n",
       "      <th>14</th>\n",
       "      <td>1994</td>\n",
       "      <td>121</td>\n",
       "    </tr>\n",
       "    <tr>\n",
       "      <th>15</th>\n",
       "      <td>1995</td>\n",
       "      <td>219</td>\n",
       "    </tr>\n",
       "    <tr>\n",
       "      <th>16</th>\n",
       "      <td>1996</td>\n",
       "      <td>263</td>\n",
       "    </tr>\n",
       "    <tr>\n",
       "      <th>17</th>\n",
       "      <td>1997</td>\n",
       "      <td>289</td>\n",
       "    </tr>\n",
       "    <tr>\n",
       "      <th>18</th>\n",
       "      <td>1998</td>\n",
       "      <td>379</td>\n",
       "    </tr>\n",
       "    <tr>\n",
       "      <th>19</th>\n",
       "      <td>1999</td>\n",
       "      <td>338</td>\n",
       "    </tr>\n",
       "    <tr>\n",
       "      <th>20</th>\n",
       "      <td>2000</td>\n",
       "      <td>350</td>\n",
       "    </tr>\n",
       "    <tr>\n",
       "      <th>21</th>\n",
       "      <td>2001</td>\n",
       "      <td>482</td>\n",
       "    </tr>\n",
       "    <tr>\n",
       "      <th>22</th>\n",
       "      <td>2002</td>\n",
       "      <td>829</td>\n",
       "    </tr>\n",
       "    <tr>\n",
       "      <th>23</th>\n",
       "      <td>2003</td>\n",
       "      <td>775</td>\n",
       "    </tr>\n",
       "    <tr>\n",
       "      <th>24</th>\n",
       "      <td>2004</td>\n",
       "      <td>762</td>\n",
       "    </tr>\n",
       "    <tr>\n",
       "      <th>25</th>\n",
       "      <td>2005</td>\n",
       "      <td>939</td>\n",
       "    </tr>\n",
       "    <tr>\n",
       "      <th>26</th>\n",
       "      <td>2006</td>\n",
       "      <td>1006</td>\n",
       "    </tr>\n",
       "    <tr>\n",
       "      <th>27</th>\n",
       "      <td>2007</td>\n",
       "      <td>1197</td>\n",
       "    </tr>\n",
       "    <tr>\n",
       "      <th>28</th>\n",
       "      <td>2008</td>\n",
       "      <td>1427</td>\n",
       "    </tr>\n",
       "    <tr>\n",
       "      <th>29</th>\n",
       "      <td>2009</td>\n",
       "      <td>1426</td>\n",
       "    </tr>\n",
       "    <tr>\n",
       "      <th>30</th>\n",
       "      <td>2010</td>\n",
       "      <td>1255</td>\n",
       "    </tr>\n",
       "    <tr>\n",
       "      <th>31</th>\n",
       "      <td>2011</td>\n",
       "      <td>1136</td>\n",
       "    </tr>\n",
       "    <tr>\n",
       "      <th>32</th>\n",
       "      <td>2012</td>\n",
       "      <td>652</td>\n",
       "    </tr>\n",
       "    <tr>\n",
       "      <th>33</th>\n",
       "      <td>2013</td>\n",
       "      <td>544</td>\n",
       "    </tr>\n",
       "    <tr>\n",
       "      <th>34</th>\n",
       "      <td>2014</td>\n",
       "      <td>581</td>\n",
       "    </tr>\n",
       "    <tr>\n",
       "      <th>35</th>\n",
       "      <td>2015</td>\n",
       "      <td>606</td>\n",
       "    </tr>\n",
       "    <tr>\n",
       "      <th>36</th>\n",
       "      <td>2016</td>\n",
       "      <td>502</td>\n",
       "    </tr>\n",
       "  </tbody>\n",
       "</table>\n",
       "</div>"
      ],
      "text/plain": [
       "    year  amount\n",
       "0   1980       9\n",
       "1   1981      46\n",
       "2   1982      36\n",
       "3   1983      17\n",
       "4   1984      14\n",
       "5   1985      14\n",
       "6   1986      21\n",
       "7   1987      16\n",
       "8   1988      15\n",
       "9   1989      17\n",
       "10  1990      16\n",
       "11  1991      41\n",
       "12  1992      43\n",
       "13  1993      60\n",
       "14  1994     121\n",
       "15  1995     219\n",
       "16  1996     263\n",
       "17  1997     289\n",
       "18  1998     379\n",
       "19  1999     338\n",
       "20  2000     350\n",
       "21  2001     482\n",
       "22  2002     829\n",
       "23  2003     775\n",
       "24  2004     762\n",
       "25  2005     939\n",
       "26  2006    1006\n",
       "27  2007    1197\n",
       "28  2008    1427\n",
       "29  2009    1426\n",
       "30  2010    1255\n",
       "31  2011    1136\n",
       "32  2012     652\n",
       "33  2013     544\n",
       "34  2014     581\n",
       "35  2015     606\n",
       "36  2016     502"
      ]
     },
     "execution_count": 62,
     "metadata": {},
     "output_type": "execute_result"
    }
   ],
   "source": [
    "amount_of_games = df.groupby('year_of_release')['name'].count().reset_index()\n",
    "amount_of_games.columns = ['year', 'amount']\n",
    "amount_of_games"
   ]
  },
  {
   "cell_type": "code",
   "execution_count": 63,
   "metadata": {},
   "outputs": [
    {
     "data": {
      "image/png": "[encoded data removed]",
      "text/plain": [
       "<Figure size 1440x576 with 1 Axes>"
      ]
     },
     "metadata": {
      "needs_background": "light"
     },
     "output_type": "display_data"
    }
   ],
   "source": [
    "plt.figure(figsize=(20,8))\n",
    "plt.bar(amount_of_games['year'], amount_of_games['amount'], label='Выпусков игр за год', alpha=0.8, width=0.8)\n",
    "plt.xlabel('Год')\n",
    "plt.ylabel('Количество релизов')\n",
    "plt.grid()\n",
    "plt.show()"
   ]
  },
  {
   "cell_type": "markdown",
   "metadata": {},
   "source": [
    "#### Вывод\n",
    "До 1995 года игры почти не выпускались, после этого с каждым годом количество выпускаемых игр всё росло вплоть до 2009 года. 2010-2011 падение выпуска игр. С 2012 после чего количество выпусков примерно одинаковое каждый год и колеблется от 500 до 650 игр в год."
   ]
  },
  {
   "cell_type": "markdown",
   "metadata": {},
   "source": [
    "### Анализируем как менялись продажи по платформам и определяем актуальный период для анализа"
   ]
  },
  {
   "cell_type": "code",
   "execution_count": 64,
   "metadata": {},
   "outputs": [
    {
     "data": {
      "image/png": "[encoded data removed]",
      "text/plain": [
       "<Figure size 1080x360 with 1 Axes>"
      ]
     },
     "metadata": {
      "needs_background": "light"
     },
     "output_type": "display_data"
    }
   ],
   "source": [
    "sales = df.pivot_table(index='platform', values='total_sales', aggfunc='sum').sort_values(\n",
    "    by='total_sales', ascending=False)\n",
    "\n",
    "plt.figure(figsize=(15,5))\n",
    "sns.barplot(x=sales.index,y=sales['total_sales'])\n",
    "plt.title(\"Продажи за всё время\")\n",
    "plt.xlabel(\"Платформа\")\n",
    "plt.ylabel(\"Продано\")\n",
    "plt.show()"
   ]
  },
  {
   "cell_type": "code",
   "execution_count": 65,
   "metadata": {},
   "outputs": [
    {
     "data": {
      "text/html": [
       "<div>\n",
       "<style scoped>\n",
       "    .dataframe tbody tr th:only-of-type {\n",
       "        vertical-align: middle;\n",
       "    }\n",
       "\n",
       "    .dataframe tbody tr th {\n",
       "        vertical-align: top;\n",
       "    }\n",
       "\n",
       "    .dataframe thead th {\n",
       "        text-align: right;\n",
       "    }\n",
       "</style>\n",
       "<table border=\"1\" class=\"dataframe\">\n",
       "  <thead>\n",
       "    <tr style=\"text-align: right;\">\n",
       "      <th></th>\n",
       "      <th>total_sales</th>\n",
       "    </tr>\n",
       "    <tr>\n",
       "      <th>platform</th>\n",
       "      <th></th>\n",
       "    </tr>\n",
       "  </thead>\n",
       "  <tbody>\n",
       "    <tr>\n",
       "      <th>PS2</th>\n",
       "      <td>1,233.56</td>\n",
       "    </tr>\n",
       "    <tr>\n",
       "      <th>X360</th>\n",
       "      <td>961.24</td>\n",
       "    </tr>\n",
       "    <tr>\n",
       "      <th>PS3</th>\n",
       "      <td>931.33</td>\n",
       "    </tr>\n",
       "    <tr>\n",
       "      <th>Wii</th>\n",
       "      <td>891.18</td>\n",
       "    </tr>\n",
       "    <tr>\n",
       "      <th>DS</th>\n",
       "      <td>802.78</td>\n",
       "    </tr>\n",
       "    <tr>\n",
       "      <th>PS</th>\n",
       "      <td>727.58</td>\n",
       "    </tr>\n",
       "    <tr>\n",
       "      <th>PS4</th>\n",
       "      <td>314.14</td>\n",
       "    </tr>\n",
       "    <tr>\n",
       "      <th>GBA</th>\n",
       "      <td>312.88</td>\n",
       "    </tr>\n",
       "    <tr>\n",
       "      <th>PSP</th>\n",
       "      <td>289.53</td>\n",
       "    </tr>\n",
       "    <tr>\n",
       "      <th>3DS</th>\n",
       "      <td>257.81</td>\n",
       "    </tr>\n",
       "    <tr>\n",
       "      <th>PC</th>\n",
       "      <td>255.76</td>\n",
       "    </tr>\n",
       "    <tr>\n",
       "      <th>GB</th>\n",
       "      <td>254.43</td>\n",
       "    </tr>\n",
       "    <tr>\n",
       "      <th>XB</th>\n",
       "      <td>251.57</td>\n",
       "    </tr>\n",
       "    <tr>\n",
       "      <th>NES</th>\n",
       "      <td>251.05</td>\n",
       "    </tr>\n",
       "    <tr>\n",
       "      <th>N64</th>\n",
       "      <td>218.01</td>\n",
       "    </tr>\n",
       "    <tr>\n",
       "      <th>SNES</th>\n",
       "      <td>200.04</td>\n",
       "    </tr>\n",
       "    <tr>\n",
       "      <th>GC</th>\n",
       "      <td>196.73</td>\n",
       "    </tr>\n",
       "    <tr>\n",
       "      <th>XOne</th>\n",
       "      <td>159.32</td>\n",
       "    </tr>\n",
       "    <tr>\n",
       "      <th>2600</th>\n",
       "      <td>86.48</td>\n",
       "    </tr>\n",
       "    <tr>\n",
       "      <th>WiiU</th>\n",
       "      <td>82.19</td>\n",
       "    </tr>\n",
       "    <tr>\n",
       "      <th>PSV</th>\n",
       "      <td>53.81</td>\n",
       "    </tr>\n",
       "    <tr>\n",
       "      <th>SAT</th>\n",
       "      <td>33.59</td>\n",
       "    </tr>\n",
       "    <tr>\n",
       "      <th>GEN</th>\n",
       "      <td>28.35</td>\n",
       "    </tr>\n",
       "    <tr>\n",
       "      <th>DC</th>\n",
       "      <td>15.95</td>\n",
       "    </tr>\n",
       "    <tr>\n",
       "      <th>SCD</th>\n",
       "      <td>1.86</td>\n",
       "    </tr>\n",
       "    <tr>\n",
       "      <th>NG</th>\n",
       "      <td>1.44</td>\n",
       "    </tr>\n",
       "    <tr>\n",
       "      <th>WS</th>\n",
       "      <td>1.42</td>\n",
       "    </tr>\n",
       "    <tr>\n",
       "      <th>TG16</th>\n",
       "      <td>0.16</td>\n",
       "    </tr>\n",
       "    <tr>\n",
       "      <th>3DO</th>\n",
       "      <td>0.10</td>\n",
       "    </tr>\n",
       "    <tr>\n",
       "      <th>GG</th>\n",
       "      <td>0.04</td>\n",
       "    </tr>\n",
       "    <tr>\n",
       "      <th>PCFX</th>\n",
       "      <td>0.03</td>\n",
       "    </tr>\n",
       "  </tbody>\n",
       "</table>\n",
       "</div>"
      ],
      "text/plain": [
       "          total_sales\n",
       "platform             \n",
       "PS2          1,233.56\n",
       "X360           961.24\n",
       "PS3            931.33\n",
       "Wii            891.18\n",
       "DS             802.78\n",
       "PS             727.58\n",
       "PS4            314.14\n",
       "GBA            312.88\n",
       "PSP            289.53\n",
       "3DS            257.81\n",
       "PC             255.76\n",
       "GB             254.43\n",
       "XB             251.57\n",
       "NES            251.05\n",
       "N64            218.01\n",
       "SNES           200.04\n",
       "GC             196.73\n",
       "XOne           159.32\n",
       "2600            86.48\n",
       "WiiU            82.19\n",
       "PSV             53.81\n",
       "SAT             33.59\n",
       "GEN             28.35\n",
       "DC              15.95\n",
       "SCD              1.86\n",
       "NG               1.44\n",
       "WS               1.42\n",
       "TG16             0.16\n",
       "3DO              0.10\n",
       "GG               0.04\n",
       "PCFX             0.03"
      ]
     },
     "metadata": {},
     "output_type": "display_data"
    }
   ],
   "source": [
    "display(sales)"
   ]
  },
  {
   "cell_type": "code",
   "execution_count": 66,
   "metadata": {
    "scrolled": true
   },
   "outputs": [
    {
     "data": {
      "image/png": "[encoded data removed]",
      "text/plain": [
       "<Figure size 1440x720 with 2 Axes>"
      ]
     },
     "metadata": {
      "needs_background": "light"
     },
     "output_type": "display_data"
    }
   ],
   "source": [
    "sales_by_platforms=df.pivot_table(index=\"platform\",columns='year_of_release',values='total_sales',aggfunc=('sum'))\n",
    "plt.figure(figsize=(20,10))\n",
    "sns.heatmap(sales_by_platforms)\n",
    "plt.show()"
   ]
  },
  {
   "cell_type": "markdown",
   "metadata": {},
   "source": [
    "#### Вывод\n",
    "\n",
    "1. Топ-6 платформ по продажам: PS2,X360,PS3,Wii,DS,PS(взяла 6, т.к. между 6 и 7 местом большой разрыв)\n",
    "2. Платформы появляются-исчезают в срок примерно 10-12 лет(пик продаж обычно посередине)\n",
    "3. PS2,PS3, PS4 выходят  и тогда падают продажи предыдущей версии. Аналогичная ситуация я у x-box и нинтендо.\n",
    "4. DS, она же Nintendo DS перевыпускалась после первого провала, перезапуск вышел удачный.\n",
    "5. PC как игровая платформа запускался очень медленно, с небольшим пиком но при этом \"жизнь\" пк как платформы для игр больше всех"
   ]
  },
  {
   "cell_type": "markdown",
   "metadata": {},
   "source": [
    "###  Строим прогноз на 2017 год"
   ]
  },
  {
   "cell_type": "markdown",
   "metadata": {},
   "source": [
    "Выберем для исследования последний период, когда количество выпускаемых игр в год стабилизировалось (с 2012 года )\n",
    "Для прогноза на 2017 надо исключить платформы, переставшие существовать в этот период(PSP,DS)\n",
    "Сделаем срез по заданным условиям и построим график  и тепловую карту"
   ]
  },
  {
   "cell_type": "code",
   "execution_count": 67,
   "metadata": {},
   "outputs": [
    {
     "data": {
      "image/png": "[encoded data removed]",
      "text/plain": [
       "<Figure size 720x360 with 1 Axes>"
      ]
     },
     "metadata": {
      "needs_background": "light"
     },
     "output_type": "display_data"
    }
   ],
   "source": [
    "actual_df=df.query('year_of_release>=2012 and platform != (\"PSP\",\"DS\")')\n",
    "actual_df.groupby('platform')['total_sales'].sum().sort_values(ascending=False).plot(figsize=(10,5),kind=\"bar\")\n",
    "plt.show()"
   ]
  },
  {
   "cell_type": "code",
   "execution_count": 68,
   "metadata": {},
   "outputs": [
    {
     "data": {
      "image/png": "[encoded data removed]",
      "text/plain": [
       "<Figure size 1080x504 with 2 Axes>"
      ]
     },
     "metadata": {
      "needs_background": "light"
     },
     "output_type": "display_data"
    }
   ],
   "source": [
    "actual_platforms=['3DS','PS3','PS4','X360','XOne','WiiU','PC','PSV','Wii']\n",
    "actual_platform=sales_by_platforms.query('platform in @actual_platforms') \n",
    "plt.figure(figsize=(15,7))\n",
    "sns.heatmap(actual_platform)\n",
    "plt.show()"
   ]
  },
  {
   "cell_type": "markdown",
   "metadata": {},
   "source": [
    "#### Вывод\n",
    "\n",
    "За актульный период (2012-2016):\n",
    "1. 3DS,PS3,PSV,WiiU,X360 идут на спад\n",
    "2. Потенциально прибыльные - PS4,XOne\n",
    "3. PC-стабильна"
   ]
  },
  {
   "cell_type": "markdown",
   "metadata": {},
   "source": [
    "### Строим график «ящик с усами» по глобальным продажам игр в разбивке по платформам."
   ]
  },
  {
   "cell_type": "code",
   "execution_count": 69,
   "metadata": {},
   "outputs": [
    {
     "data": {
      "text/html": [
       "<div>\n",
       "<style scoped>\n",
       "    .dataframe tbody tr th:only-of-type {\n",
       "        vertical-align: middle;\n",
       "    }\n",
       "\n",
       "    .dataframe tbody tr th {\n",
       "        vertical-align: top;\n",
       "    }\n",
       "\n",
       "    .dataframe thead th {\n",
       "        text-align: right;\n",
       "    }\n",
       "</style>\n",
       "<table border=\"1\" class=\"dataframe\">\n",
       "  <thead>\n",
       "    <tr style=\"text-align: right;\">\n",
       "      <th></th>\n",
       "      <th>name</th>\n",
       "      <th>platform</th>\n",
       "      <th>year_of_release</th>\n",
       "      <th>genre</th>\n",
       "      <th>na_sales</th>\n",
       "      <th>eu_sales</th>\n",
       "      <th>jp_sales</th>\n",
       "      <th>other_sales</th>\n",
       "      <th>critic_score</th>\n",
       "      <th>user_score</th>\n",
       "      <th>rating</th>\n",
       "      <th>total_sales</th>\n",
       "    </tr>\n",
       "  </thead>\n",
       "  <tbody>\n",
       "    <tr>\n",
       "      <th>0</th>\n",
       "      <td>Wii Sports</td>\n",
       "      <td>Wii</td>\n",
       "      <td>2006</td>\n",
       "      <td>Sports</td>\n",
       "      <td>41.36</td>\n",
       "      <td>28.96</td>\n",
       "      <td>3.77</td>\n",
       "      <td>8.45</td>\n",
       "      <td>76.00</td>\n",
       "      <td>8.00</td>\n",
       "      <td>E</td>\n",
       "      <td>82.54</td>\n",
       "    </tr>\n",
       "    <tr>\n",
       "      <th>2</th>\n",
       "      <td>Mario Kart Wii</td>\n",
       "      <td>Wii</td>\n",
       "      <td>2008</td>\n",
       "      <td>Racing</td>\n",
       "      <td>15.68</td>\n",
       "      <td>12.76</td>\n",
       "      <td>3.79</td>\n",
       "      <td>3.29</td>\n",
       "      <td>82.00</td>\n",
       "      <td>8.30</td>\n",
       "      <td>E</td>\n",
       "      <td>35.52</td>\n",
       "    </tr>\n",
       "    <tr>\n",
       "      <th>3</th>\n",
       "      <td>Wii Sports Resort</td>\n",
       "      <td>Wii</td>\n",
       "      <td>2009</td>\n",
       "      <td>Sports</td>\n",
       "      <td>15.61</td>\n",
       "      <td>10.93</td>\n",
       "      <td>3.28</td>\n",
       "      <td>2.95</td>\n",
       "      <td>80.00</td>\n",
       "      <td>8.00</td>\n",
       "      <td>E</td>\n",
       "      <td>32.77</td>\n",
       "    </tr>\n",
       "    <tr>\n",
       "      <th>7</th>\n",
       "      <td>Wii Play</td>\n",
       "      <td>Wii</td>\n",
       "      <td>2006</td>\n",
       "      <td>Misc</td>\n",
       "      <td>13.96</td>\n",
       "      <td>9.18</td>\n",
       "      <td>2.93</td>\n",
       "      <td>2.84</td>\n",
       "      <td>58.00</td>\n",
       "      <td>6.60</td>\n",
       "      <td>E</td>\n",
       "      <td>28.91</td>\n",
       "    </tr>\n",
       "    <tr>\n",
       "      <th>8</th>\n",
       "      <td>New Super Mario Bros. Wii</td>\n",
       "      <td>Wii</td>\n",
       "      <td>2009</td>\n",
       "      <td>Platform</td>\n",
       "      <td>14.44</td>\n",
       "      <td>6.94</td>\n",
       "      <td>4.70</td>\n",
       "      <td>2.24</td>\n",
       "      <td>87.00</td>\n",
       "      <td>8.40</td>\n",
       "      <td>E</td>\n",
       "      <td>28.32</td>\n",
       "    </tr>\n",
       "    <tr>\n",
       "      <th>13</th>\n",
       "      <td>Wii Fit</td>\n",
       "      <td>Wii</td>\n",
       "      <td>2007</td>\n",
       "      <td>Sports</td>\n",
       "      <td>8.92</td>\n",
       "      <td>8.03</td>\n",
       "      <td>3.60</td>\n",
       "      <td>2.15</td>\n",
       "      <td>80.00</td>\n",
       "      <td>7.70</td>\n",
       "      <td>E</td>\n",
       "      <td>22.70</td>\n",
       "    </tr>\n",
       "    <tr>\n",
       "      <th>14</th>\n",
       "      <td>Kinect Adventures!</td>\n",
       "      <td>X360</td>\n",
       "      <td>2010</td>\n",
       "      <td>Misc</td>\n",
       "      <td>15.00</td>\n",
       "      <td>4.89</td>\n",
       "      <td>0.24</td>\n",
       "      <td>1.69</td>\n",
       "      <td>61.00</td>\n",
       "      <td>6.30</td>\n",
       "      <td>E</td>\n",
       "      <td>21.82</td>\n",
       "    </tr>\n",
       "    <tr>\n",
       "      <th>15</th>\n",
       "      <td>Wii Fit Plus</td>\n",
       "      <td>Wii</td>\n",
       "      <td>2009</td>\n",
       "      <td>Sports</td>\n",
       "      <td>9.01</td>\n",
       "      <td>8.49</td>\n",
       "      <td>2.53</td>\n",
       "      <td>1.77</td>\n",
       "      <td>80.00</td>\n",
       "      <td>7.40</td>\n",
       "      <td>E</td>\n",
       "      <td>21.80</td>\n",
       "    </tr>\n",
       "    <tr>\n",
       "      <th>16</th>\n",
       "      <td>Grand Theft Auto V</td>\n",
       "      <td>PS3</td>\n",
       "      <td>2013</td>\n",
       "      <td>Action</td>\n",
       "      <td>7.02</td>\n",
       "      <td>9.09</td>\n",
       "      <td>0.98</td>\n",
       "      <td>3.96</td>\n",
       "      <td>97.00</td>\n",
       "      <td>8.20</td>\n",
       "      <td>M</td>\n",
       "      <td>21.05</td>\n",
       "    </tr>\n",
       "    <tr>\n",
       "      <th>23</th>\n",
       "      <td>Grand Theft Auto V</td>\n",
       "      <td>X360</td>\n",
       "      <td>2013</td>\n",
       "      <td>Action</td>\n",
       "      <td>9.66</td>\n",
       "      <td>5.14</td>\n",
       "      <td>0.06</td>\n",
       "      <td>1.41</td>\n",
       "      <td>97.00</td>\n",
       "      <td>8.10</td>\n",
       "      <td>M</td>\n",
       "      <td>16.27</td>\n",
       "    </tr>\n",
       "  </tbody>\n",
       "</table>\n",
       "</div>"
      ],
      "text/plain": [
       "                         name platform  year_of_release     genre  na_sales  \\\n",
       "0                  Wii Sports      Wii             2006    Sports     41.36   \n",
       "2              Mario Kart Wii      Wii             2008    Racing     15.68   \n",
       "3           Wii Sports Resort      Wii             2009    Sports     15.61   \n",
       "7                    Wii Play      Wii             2006      Misc     13.96   \n",
       "8   New Super Mario Bros. Wii      Wii             2009  Platform     14.44   \n",
       "13                    Wii Fit      Wii             2007    Sports      8.92   \n",
       "14         Kinect Adventures!     X360             2010      Misc     15.00   \n",
       "15               Wii Fit Plus      Wii             2009    Sports      9.01   \n",
       "16         Grand Theft Auto V      PS3             2013    Action      7.02   \n",
       "23         Grand Theft Auto V     X360             2013    Action      9.66   \n",
       "\n",
       "    eu_sales  jp_sales  other_sales  critic_score  user_score rating  \\\n",
       "0      28.96      3.77         8.45         76.00        8.00      E   \n",
       "2      12.76      3.79         3.29         82.00        8.30      E   \n",
       "3      10.93      3.28         2.95         80.00        8.00      E   \n",
       "7       9.18      2.93         2.84         58.00        6.60      E   \n",
       "8       6.94      4.70         2.24         87.00        8.40      E   \n",
       "13      8.03      3.60         2.15         80.00        7.70      E   \n",
       "14      4.89      0.24         1.69         61.00        6.30      E   \n",
       "15      8.49      2.53         1.77         80.00        7.40      E   \n",
       "16      9.09      0.98         3.96         97.00        8.20      M   \n",
       "23      5.14      0.06         1.41         97.00        8.10      M   \n",
       "\n",
       "    total_sales  \n",
       "0         82.54  \n",
       "2         35.52  \n",
       "3         32.77  \n",
       "7         28.91  \n",
       "8         28.32  \n",
       "13        22.70  \n",
       "14        21.82  \n",
       "15        21.80  \n",
       "16        21.05  \n",
       "23        16.27  "
      ]
     },
     "execution_count": 69,
     "metadata": {},
     "output_type": "execute_result"
    }
   ],
   "source": [
    "# Сделаем срез из датасета с условием, что нам нужны только актуальные платформы и информация за актуальный период\n",
    "actual_period = df.query('platform in @actual_platforms and year_of_release>=2012')\n",
    "actual_period = df.query('platform in @actual_platforms and user_score!=-2')\n",
    "actual_period.head(10)"
   ]
  },
  {
   "cell_type": "code",
   "execution_count": 70,
   "metadata": {},
   "outputs": [
    {
     "data": {
      "text/plain": [
       "<AxesSubplot:xlabel='platform', ylabel='total_sales'>"
      ]
     },
     "execution_count": 70,
     "metadata": {},
     "output_type": "execute_result"
    },
    {
     "data": {
      "image/png": "[encoded data removed]",
      "text/plain": [
       "<Figure size 1080x720 with 1 Axes>"
      ]
     },
     "metadata": {
      "needs_background": "light"
     },
     "output_type": "display_data"
    }
   ],
   "source": [
    "plt.figure(figsize=(15,10))\n",
    "plt.ylim(0,1.5)\n",
    "sns.boxplot(x='platform',y='total_sales',data=actual_period)"
   ]
  },
  {
   "cell_type": "markdown",
   "metadata": {},
   "source": [
    "#### Вывод\n",
    "Наиболее популярные платформы :WiiU, PS4, PS3, Xbox One, X360\n",
    "Максимальное значение у платформы PS3, почти без отрыва от нее идет платформа X360. Медианное значение около 0,3.\n",
    "Минимальное значение у платформы  PS4 и медианное значение равно 0,2.\n",
    "Максимальный Межквартильный размах у платформы PS3 это говорит о том, чти по ней больше всего продаж.\n",
    "Минимальные продажи из топ-5 у платформы WiiU.\n",
    "Межквартериальный размах для первых топ-5 платформ лежит в размере  от 0,1 до 0.8 миллионов проданных копий.\n"
   ]
  },
  {
   "cell_type": "markdown",
   "metadata": {},
   "source": [
    "### Как влияют на продажи внутри одной популярной платформы отзывы пользователей и критиков"
   ]
  },
  {
   "cell_type": "markdown",
   "metadata": {},
   "source": [
    "Выберем для анализа платформы PS4 и XOne"
   ]
  },
  {
   "cell_type": "markdown",
   "metadata": {},
   "source": [
    "Считаем зависимость между суммарными продажами и оценой критиков"
   ]
  },
  {
   "cell_type": "code",
   "execution_count": 71,
   "metadata": {
    "scrolled": true
   },
   "outputs": [
    {
     "data": {
      "text/plain": [
       "0.4064685741971657"
      ]
     },
     "execution_count": 71,
     "metadata": {},
     "output_type": "execute_result"
    },
    {
     "data": {
      "image/png": "[encoded data removed]",
      "text/plain": [
       "<Figure size 720x360 with 1 Axes>"
      ]
     },
     "metadata": {
      "needs_background": "light"
     },
     "output_type": "display_data"
    }
   ],
   "source": [
    "ps4_critic = actual_period.query('platform==\"PS4\"').sort_values(by='critic_score',ascending=True).plot(kind='scatter',x='critic_score',y='total_sales',figsize=(10,5))\n",
    "ps4_cor = actual_period.query('platform==\"PS4\"')\n",
    "ps4_cor['total_sales'].corr(ps4_cor['critic_score'])"
   ]
  },
  {
   "cell_type": "code",
   "execution_count": 72,
   "metadata": {
    "scrolled": true
   },
   "outputs": [
    {
     "data": {
      "text/plain": [
       "0.41215586820316974"
      ]
     },
     "execution_count": 72,
     "metadata": {},
     "output_type": "execute_result"
    },
    {
     "data": {
      "image/png": "[encoded data removed]",
      "text/plain": [
       "<Figure size 720x360 with 1 Axes>"
      ]
     },
     "metadata": {
      "needs_background": "light"
     },
     "output_type": "display_data"
    }
   ],
   "source": [
    "XOne_critic = actual_period.query('platform==\"XOne\"').sort_values(by='critic_score',ascending=True).plot(kind='scatter',x='critic_score',y='total_sales',figsize=(10,5))\n",
    "XOne_cor = actual_period.query('platform==\"XOne\"')\n",
    "XOne_cor['total_sales'].corr(XOne_cor['critic_score'])"
   ]
  },
  {
   "cell_type": "code",
   "execution_count": 73,
   "metadata": {
    "scrolled": true
   },
   "outputs": [
    {
     "data": {
      "text/plain": [
       "-0.031957110204556376"
      ]
     },
     "execution_count": 73,
     "metadata": {},
     "output_type": "execute_result"
    },
    {
     "data": {
      "image/png": "[encoded data removed]",
      "text/plain": [
       "<Figure size 720x360 with 1 Axes>"
      ]
     },
     "metadata": {
      "needs_background": "light"
     },
     "output_type": "display_data"
    }
   ],
   "source": [
    "actual_period = df.query('platform in @actual_platforms and user_score!=-2')\n",
    "ps4_users = actual_period.query('platform==\"PS4\"').sort_values(by='user_score',ascending=True).plot(kind='scatter',x='user_score',y='total_sales',figsize=(10,5))\n",
    "ps4_cor['total_sales'].corr(ps4_cor['user_score'])"
   ]
  },
  {
   "cell_type": "markdown",
   "metadata": {},
   "source": [
    "Считаем зависимость между суммарными продажами и оценой пользователей"
   ]
  },
  {
   "cell_type": "code",
   "execution_count": 74,
   "metadata": {
    "scrolled": true
   },
   "outputs": [
    {
     "data": {
      "text/plain": [
       "-0.06892505328279412"
      ]
     },
     "execution_count": 74,
     "metadata": {},
     "output_type": "execute_result"
    },
    {
     "data": {
      "image/png": "[encoded data removed]",
      "text/plain": [
       "<Figure size 720x360 with 1 Axes>"
      ]
     },
     "metadata": {
      "needs_background": "light"
     },
     "output_type": "display_data"
    }
   ],
   "source": [
    "actual_period = df.query('platform in @actual_platforms and user_score!=-2')\n",
    "XOne_users = actual_period.query('platform==\"XOne\"').sort_values(by=('user_score'),ascending=True).plot(kind='scatter',x='user_score',y='total_sales',figsize=(10,5))\n",
    "XOne_cor['total_sales'].corr(XOne_cor['user_score'])"
   ]
  },
  {
   "cell_type": "markdown",
   "metadata": {},
   "source": [
    "#### Вывод\n",
    "\n",
    "Зависимость количества продаж от оценки критиков слабая.\n",
    "Зависимость продаж от оценки пользователей обратная и отсутствует.\n",
    "\n",
    "Это можно объяснить тем, что оценка выставляется уже после того как продажа совершена. И тем что оценки выставляются пользователями и критиками спустя некоторое время использования продукта.\n",
    "\n",
    "Чуть большая корреляция между продажами и оценками критиков, можно объяснить тем, что критики имеют нассмотренность и опыт, поэтому реже покупают заведомо неинтересный им продукт.\n",
    "\n",
    "Оценки же пользователей опираются на меньший опыт и вероятно покупка осуществляется на основании рекламных компаний."
   ]
  },
  {
   "cell_type": "markdown",
   "metadata": {},
   "source": [
    "### Какие жанры самые прибыльные Какие жанры самые выпускаемые"
   ]
  },
  {
   "cell_type": "markdown",
   "metadata": {},
   "source": [
    "Прибыльность игр"
   ]
  },
  {
   "cell_type": "code",
   "execution_count": 75,
   "metadata": {
    "scrolled": true
   },
   "outputs": [
    {
     "data": {
      "image/png": "[encoded data removed]",
      "text/plain": [
       "<Figure size 720x360 with 1 Axes>"
      ]
     },
     "metadata": {
      "needs_background": "light"
     },
     "output_type": "display_data"
    }
   ],
   "source": [
    "profitable_genre=actual_period.groupby('genre')['total_sales'].median().sort_values(ascending=False)\n",
    "profitable_genre.plot(y='genre',grid=True,figsize=(10,5),kind='bar')\n",
    "plt.show()"
   ]
  },
  {
   "cell_type": "markdown",
   "metadata": {},
   "source": [
    "Выпускаемость игр"
   ]
  },
  {
   "cell_type": "code",
   "execution_count": 76,
   "metadata": {
    "scrolled": true
   },
   "outputs": [
    {
     "data": {
      "image/png": "[encoded data removed]",
      "text/plain": [
       "<Figure size 720x360 with 1 Axes>"
      ]
     },
     "metadata": {
      "needs_background": "light"
     },
     "output_type": "display_data"
    }
   ],
   "source": [
    "count_genre=actual_period.groupby('genre')['total_sales'].count().sort_values(ascending=False)\n",
    "count_genre.plot(y='genre',grid=True,figsize=(10,5),kind='bar')\n",
    "plt.show()"
   ]
  },
  {
   "cell_type": "markdown",
   "metadata": {},
   "source": [
    "## 3. Вывод\n",
    "Самые прибыльные игры жанра шутер. Видим большой отрыв от иных жанров в размере около 30%\n",
    "Самый выпускаемый жанр - экшн. Видим большой  отрыв состаляющий примерно 2,5 порядка.\n",
    "Экшены при относительно небольшой прибыльности по количеству выпускаемых игр самые популярные (т.е. прибыль за каждую игру небольшая)\n",
    "Шутеры же в свою очередь неизменно пользуются интересом у пользователей, но компании не выпускают их в большом количестве."
   ]
  },
  {
   "cell_type": "markdown",
   "metadata": {},
   "source": [
    "## 4. Составьте портрет пользователя каждого региона"
   ]
  },
  {
   "cell_type": "markdown",
   "metadata": {},
   "source": [
    "### Самые популярные платформы (топ-5)"
   ]
  },
  {
   "cell_type": "code",
   "execution_count": 77,
   "metadata": {},
   "outputs": [
    {
     "name": "stdout",
     "output_type": "stream",
     "text": [
      "Топ 5 платформ в Северной Америке :\n",
      "platform\n",
      "X360   13.72\n",
      "PS2    13.20\n",
      "Wii    11.21\n",
      "PS3     8.99\n",
      "DS      8.76\n",
      "Name: na_sales, dtype: float64\n",
      "====================\n",
      "\n",
      "Топ 5 платформ в Европе :\n",
      "platform\n",
      "PS2    13.86\n",
      "PS3    13.64\n",
      "X360   11.18\n",
      "Wii    10.76\n",
      "PS      8.85\n",
      "Name: eu_sales, dtype: float64\n",
      "====================\n",
      "\n",
      "Топ 5 платформ в Японии :\n",
      "platform\n",
      "DS     13.56\n",
      "PS     10.83\n",
      "PS2    10.66\n",
      "SNES    9.03\n",
      "3DS     7.80\n",
      "Name: jp_sales, dtype: float64\n",
      "====================\n",
      "\n",
      "Топ 5 платформ в других странах :\n",
      "platform\n",
      "PS2    24.34\n",
      "PS3    17.20\n",
      "X360   10.85\n",
      "Wii     9.93\n",
      "DS      7.54\n",
      "Name: other_sales, dtype: float64\n",
      "====================\n",
      "\n"
     ]
    }
   ],
   "source": [
    "places = ['na_sales',\n",
    "          'eu_sales',\n",
    "          'jp_sales',\n",
    "          'other_sales']\n",
    "place_name = ['Северной Америке',\n",
    "              'Европе',\n",
    "              'Японии', \n",
    "              'других странах']\n",
    "for_visualize=pd.DataFrame()\n",
    "for place in places:\n",
    "    print('Топ 5 платформ в', place_name[places.index(place)],':')\n",
    "    data_local=df.groupby(\n",
    "        'platform'\n",
    "    )[place].sum().sort_values().sort_values(ascending=False)\n",
    "    result = data_local[:5] / data_local.sum() * 100\n",
    "    print(result)\n",
    "    for_visualize = pd.merge(for_visualize, result, how='outer',\n",
    "                             left_index=True, right_index=True)\n",
    "    print('=' * 20, end='\\n\\n')"
   ]
  },
  {
   "cell_type": "code",
   "execution_count": 78,
   "metadata": {},
   "outputs": [
    {
     "data": {
      "text/html": [
       "<div>\n",
       "<style scoped>\n",
       "    .dataframe tbody tr th:only-of-type {\n",
       "        vertical-align: middle;\n",
       "    }\n",
       "\n",
       "    .dataframe tbody tr th {\n",
       "        vertical-align: top;\n",
       "    }\n",
       "\n",
       "    .dataframe thead th {\n",
       "        text-align: right;\n",
       "    }\n",
       "</style>\n",
       "<table border=\"1\" class=\"dataframe\">\n",
       "  <thead>\n",
       "    <tr style=\"text-align: right;\">\n",
       "      <th></th>\n",
       "      <th>na_sales</th>\n",
       "      <th>eu_sales</th>\n",
       "      <th>jp_sales</th>\n",
       "      <th>other_sales</th>\n",
       "    </tr>\n",
       "    <tr>\n",
       "      <th>platform</th>\n",
       "      <th></th>\n",
       "      <th></th>\n",
       "      <th></th>\n",
       "      <th></th>\n",
       "    </tr>\n",
       "  </thead>\n",
       "  <tbody>\n",
       "    <tr>\n",
       "      <th>3DS</th>\n",
       "      <td>NaN</td>\n",
       "      <td>NaN</td>\n",
       "      <td>7.80</td>\n",
       "      <td>NaN</td>\n",
       "    </tr>\n",
       "    <tr>\n",
       "      <th>DS</th>\n",
       "      <td>8.76</td>\n",
       "      <td>NaN</td>\n",
       "      <td>13.56</td>\n",
       "      <td>7.54</td>\n",
       "    </tr>\n",
       "    <tr>\n",
       "      <th>PS</th>\n",
       "      <td>NaN</td>\n",
       "      <td>8.85</td>\n",
       "      <td>10.83</td>\n",
       "      <td>NaN</td>\n",
       "    </tr>\n",
       "    <tr>\n",
       "      <th>PS2</th>\n",
       "      <td>13.20</td>\n",
       "      <td>13.86</td>\n",
       "      <td>10.66</td>\n",
       "      <td>24.34</td>\n",
       "    </tr>\n",
       "    <tr>\n",
       "      <th>PS3</th>\n",
       "      <td>8.99</td>\n",
       "      <td>13.64</td>\n",
       "      <td>NaN</td>\n",
       "      <td>17.20</td>\n",
       "    </tr>\n",
       "    <tr>\n",
       "      <th>SNES</th>\n",
       "      <td>NaN</td>\n",
       "      <td>NaN</td>\n",
       "      <td>9.03</td>\n",
       "      <td>NaN</td>\n",
       "    </tr>\n",
       "    <tr>\n",
       "      <th>Wii</th>\n",
       "      <td>11.21</td>\n",
       "      <td>10.76</td>\n",
       "      <td>NaN</td>\n",
       "      <td>9.93</td>\n",
       "    </tr>\n",
       "    <tr>\n",
       "      <th>X360</th>\n",
       "      <td>13.72</td>\n",
       "      <td>11.18</td>\n",
       "      <td>NaN</td>\n",
       "      <td>10.85</td>\n",
       "    </tr>\n",
       "  </tbody>\n",
       "</table>\n",
       "</div>"
      ],
      "text/plain": [
       "          na_sales  eu_sales  jp_sales  other_sales\n",
       "platform                                           \n",
       "3DS            NaN       NaN      7.80          NaN\n",
       "DS            8.76       NaN     13.56         7.54\n",
       "PS             NaN      8.85     10.83          NaN\n",
       "PS2          13.20     13.86     10.66        24.34\n",
       "PS3           8.99     13.64       NaN        17.20\n",
       "SNES           NaN       NaN      9.03          NaN\n",
       "Wii          11.21     10.76       NaN         9.93\n",
       "X360         13.72     11.18       NaN        10.85"
      ]
     },
     "execution_count": 78,
     "metadata": {},
     "output_type": "execute_result"
    }
   ],
   "source": [
    "for_visualize"
   ]
  },
  {
   "cell_type": "code",
   "execution_count": 79,
   "metadata": {},
   "outputs": [
    {
     "data": {
      "image/png": "[encoded data removed]",
      "text/plain": [
       "<Figure size 1080x360 with 4 Axes>"
      ]
     },
     "metadata": {},
     "output_type": "display_data"
    }
   ],
   "source": [
    "plt.subplots(figsize=(15,5)) #сетка для отрисковки графиков\n",
    "places = ['na_sales',\n",
    "          'eu_sales',\n",
    "          'jp_sales',\n",
    "          'other_sales']\n",
    "for i, region in enumerate (places):\n",
    "             column_name = '{}'.format(region)\n",
    "             current=df.groupby('platform').agg({column_name: 'sum'}).reset_index()\n",
    "             current['rank']=current[column_name].rank(method='dense', ascending=False)\n",
    "             current.loc[current['rank']>5, 'platform'] = 'Other'\n",
    "             current=current.groupby('platform').agg({column_name: 'sum'})\n",
    "             current.plot(y=column_name, autopct='%1.0f%%', kind='pie', ax= plt.subplot(1, len(places), i+1))\n",
    "             plt.title('Влияние рейтинга в {}'.format(region.upper()))\n"
   ]
  },
  {
   "cell_type": "markdown",
   "metadata": {},
   "source": [
    "#### Вывод\n",
    "Как видно из графиков, люди в Северной Америке и в Европе используют платформы одного поколения, они лишь немного отличаются в процентном соотношении (В Америке предпочитают Xbox360, а в Европе PS2 и PS3). Ситуация в остальном похожа на ситуацию в Европе и Америке, за тем лишь исключением, Отличаеться большем процентом по PS2. В японии лидирует DS портативная игровая консоль, почти так же как и во всем мире популярна PS2.\n",
    "\n",
    "Люди во всём мире (кроме Японии) отдают предпочтение стационарным консолям перед портативными В японии ситуация несколько иная. Там люди предпочитают играть на  DS игнорируя при этом Xbox 360. "
   ]
  },
  {
   "cell_type": "markdown",
   "metadata": {},
   "source": [
    "### Самые популярные жанры (топ-5)"
   ]
  },
  {
   "cell_type": "code",
   "execution_count": 80,
   "metadata": {},
   "outputs": [
    {
     "name": "stdout",
     "output_type": "stream",
     "text": [
      "Топ 5 жанров в Северной Америке :\n",
      "genre\n",
      "Action     19.88\n",
      "Sports     15.46\n",
      "Shooter    13.47\n",
      "Platform   10.24\n",
      "Misc        9.20\n",
      "Name: na_sales, dtype: float64\n",
      "====================\n",
      "\n",
      "Топ 5 жанров в Европе :\n",
      "genre\n",
      "Action    21.29\n",
      "Sports    15.47\n",
      "Shooter   13.11\n",
      "Racing     9.77\n",
      "Misc       8.78\n",
      "Name: eu_sales, dtype: float64\n",
      "====================\n",
      "\n",
      "Топ 5 жанров в Японии :\n",
      "genre\n",
      "Role-Playing   27.38\n",
      "Action         12.41\n",
      "Sports         10.45\n",
      "Platform       10.13\n",
      "Misc            8.29\n",
      "Name: jp_sales, dtype: float64\n",
      "====================\n",
      "\n",
      "Топ 5 жанров в других странах :\n",
      "genre\n",
      "Action    23.28\n",
      "Sports    16.89\n",
      "Shooter   13.20\n",
      "Racing     9.65\n",
      "Misc       9.34\n",
      "Name: other_sales, dtype: float64\n",
      "====================\n",
      "\n"
     ]
    }
   ],
   "source": [
    "places = ['na_sales',\n",
    "          'eu_sales',\n",
    "          'jp_sales',\n",
    "          'other_sales']\n",
    "place_name = ['Северной Америке',\n",
    "              'Европе',\n",
    "              'Японии',\n",
    "              'других странах']\n",
    "for_visualize = pd.DataFrame()\n",
    "for place in places:\n",
    "    print('Топ 5 жанров в', place_name[places.index(place)],':')\n",
    "    data_local=df.groupby(\n",
    "        'genre'\n",
    "    )[place].sum().sort_values().sort_values(ascending=False)\n",
    "    result = data_local[:5] / data_local.sum() * 100\n",
    "    print(result)\n",
    "    for_visualize = pd.merge(for_visualize, result, how='outer',\n",
    "                             left_index=True, right_index=True)\n",
    "    print('=' * 20, end='\\n\\n')"
   ]
  },
  {
   "cell_type": "code",
   "execution_count": 81,
   "metadata": {
    "scrolled": false
   },
   "outputs": [
    {
     "data": {
      "text/html": [
       "<div>\n",
       "<style scoped>\n",
       "    .dataframe tbody tr th:only-of-type {\n",
       "        vertical-align: middle;\n",
       "    }\n",
       "\n",
       "    .dataframe tbody tr th {\n",
       "        vertical-align: top;\n",
       "    }\n",
       "\n",
       "    .dataframe thead th {\n",
       "        text-align: right;\n",
       "    }\n",
       "</style>\n",
       "<table border=\"1\" class=\"dataframe\">\n",
       "  <thead>\n",
       "    <tr style=\"text-align: right;\">\n",
       "      <th></th>\n",
       "      <th>na_sales</th>\n",
       "      <th>eu_sales</th>\n",
       "      <th>jp_sales</th>\n",
       "      <th>other_sales</th>\n",
       "    </tr>\n",
       "    <tr>\n",
       "      <th>genre</th>\n",
       "      <th></th>\n",
       "      <th></th>\n",
       "      <th></th>\n",
       "      <th></th>\n",
       "    </tr>\n",
       "  </thead>\n",
       "  <tbody>\n",
       "    <tr>\n",
       "      <th>Action</th>\n",
       "      <td>19.88</td>\n",
       "      <td>21.29</td>\n",
       "      <td>12.41</td>\n",
       "      <td>23.28</td>\n",
       "    </tr>\n",
       "    <tr>\n",
       "      <th>Misc</th>\n",
       "      <td>9.20</td>\n",
       "      <td>8.78</td>\n",
       "      <td>8.29</td>\n",
       "      <td>9.34</td>\n",
       "    </tr>\n",
       "    <tr>\n",
       "      <th>Platform</th>\n",
       "      <td>10.24</td>\n",
       "      <td>NaN</td>\n",
       "      <td>10.13</td>\n",
       "      <td>NaN</td>\n",
       "    </tr>\n",
       "    <tr>\n",
       "      <th>Racing</th>\n",
       "      <td>NaN</td>\n",
       "      <td>9.77</td>\n",
       "      <td>NaN</td>\n",
       "      <td>9.65</td>\n",
       "    </tr>\n",
       "    <tr>\n",
       "      <th>Role-Playing</th>\n",
       "      <td>NaN</td>\n",
       "      <td>NaN</td>\n",
       "      <td>27.38</td>\n",
       "      <td>NaN</td>\n",
       "    </tr>\n",
       "    <tr>\n",
       "      <th>Shooter</th>\n",
       "      <td>13.47</td>\n",
       "      <td>13.11</td>\n",
       "      <td>NaN</td>\n",
       "      <td>13.20</td>\n",
       "    </tr>\n",
       "    <tr>\n",
       "      <th>Sports</th>\n",
       "      <td>15.46</td>\n",
       "      <td>15.47</td>\n",
       "      <td>10.45</td>\n",
       "      <td>16.89</td>\n",
       "    </tr>\n",
       "  </tbody>\n",
       "</table>\n",
       "</div>"
      ],
      "text/plain": [
       "              na_sales  eu_sales  jp_sales  other_sales\n",
       "genre                                                  \n",
       "Action           19.88     21.29     12.41        23.28\n",
       "Misc              9.20      8.78      8.29         9.34\n",
       "Platform         10.24       NaN     10.13          NaN\n",
       "Racing             NaN      9.77       NaN         9.65\n",
       "Role-Playing       NaN       NaN     27.38          NaN\n",
       "Shooter          13.47     13.11       NaN        13.20\n",
       "Sports           15.46     15.47     10.45        16.89"
      ]
     },
     "execution_count": 81,
     "metadata": {},
     "output_type": "execute_result"
    }
   ],
   "source": [
    "for_visualize"
   ]
  },
  {
   "cell_type": "code",
   "execution_count": 82,
   "metadata": {},
   "outputs": [
    {
     "data": {
      "image/png": "[encoded data removed]",
      "text/plain": [
       "<Figure size 1080x360 with 4 Axes>"
      ]
     },
     "metadata": {},
     "output_type": "display_data"
    }
   ],
   "source": [
    "plt.subplots(figsize=(15,5)) #сетка для отрисковки графиков\n",
    "places = ['na_sales',\n",
    "          'eu_sales',\n",
    "          'jp_sales',\n",
    "          'other_sales']\n",
    "for i, region in enumerate (places):\n",
    "             column_name = '{}'.format(region)\n",
    "             current=df.groupby('genre').agg({column_name: 'sum'}).reset_index()\n",
    "             current['rank']=current[column_name].rank(method='dense', ascending=False)\n",
    "             current.loc[current['rank']>5, 'genre'] = 'Other'\n",
    "             current=current.groupby('genre').agg({column_name: 'sum'})\n",
    "             current.plot(y=column_name, autopct='%1.0f%%',  kind='pie', ax= plt.subplot(1, len(places), i+1))\n",
    "             plt.title('Влияние жанра в {}'.format(region.upper()))"
   ]
  },
  {
   "cell_type": "markdown",
   "metadata": {},
   "source": [
    "#### Вывод\n",
    "Во всех странах, кроме Японии люди любят поиграть в Shooter, Action и Sports.\n",
    "В категорию Action игр преимущественно попадают самые топовые игры, поэтому неудивительно, что данный жанр нравится людям из всех стран. Игры в стиле RPG больше всего приглянулись японцам, а вот в Европе пользователи к ним равнодушны. Это объясняется тем, что RPG чаще выходят на портотивных консолях и, как было показано на графиках выше, именно в Японии их и предпочитают.\n",
    "Япония отличаеться от всех стран. Больше всего в японии любят Role-Playing и Action.\n",
    "Так же Sports и Platform имеет чуть меньшую популярность, но входят в ТОП в Японии.\n",
    "В японии люди не играют в шутеры.\n"
   ]
  },
  {
   "cell_type": "markdown",
   "metadata": {},
   "source": [
    "### Рейтинг\n",
    "\n",
    "«EC» («Early childhood») — «Для детей младшего возраста»: Игра подходит для детей от 3 лет\n",
    "«E» («Everyone») — «Для всех»: Содержание вполне подходит для возрастной категории от 6 лет.\n",
    "«E10+» («Everyone 10 and older») — «Для всех от 10 лет и старше»\n",
    "«T» («Teen») — «Подросткам»: Игра подходит для лиц от 13 лет.\n",
    "«M» («Mature») — «Для взрослых»: Материалы игры не подходят для подростков младше 17 лет.\n",
    "«AO» («Adults Only 18+») — «Только для взрослых»: Содержание игры только для взрослых старше 18 лет.\n",
    "«RP» («Rating Pending») — «Рейтинг ожидается»: Продукт был отправлен в ESRB и ожидает присвоения рейтинга."
   ]
  },
  {
   "cell_type": "code",
   "execution_count": 83,
   "metadata": {
    "scrolled": true
   },
   "outputs": [
    {
     "data": {
      "text/html": [
       "<div>\n",
       "<style scoped>\n",
       "    .dataframe tbody tr th:only-of-type {\n",
       "        vertical-align: middle;\n",
       "    }\n",
       "\n",
       "    .dataframe tbody tr th {\n",
       "        vertical-align: top;\n",
       "    }\n",
       "\n",
       "    .dataframe thead th {\n",
       "        text-align: right;\n",
       "    }\n",
       "</style>\n",
       "<table border=\"1\" class=\"dataframe\">\n",
       "  <thead>\n",
       "    <tr style=\"text-align: right;\">\n",
       "      <th></th>\n",
       "      <th>rating</th>\n",
       "      <th>na_sales</th>\n",
       "    </tr>\n",
       "  </thead>\n",
       "  <tbody>\n",
       "    <tr>\n",
       "      <th>0</th>\n",
       "      <td>M</td>\n",
       "      <td>231.57</td>\n",
       "    </tr>\n",
       "    <tr>\n",
       "      <th>1</th>\n",
       "      <td>E</td>\n",
       "      <td>113.44</td>\n",
       "    </tr>\n",
       "    <tr>\n",
       "      <th>2</th>\n",
       "      <td>not_defined</td>\n",
       "      <td>100.13</td>\n",
       "    </tr>\n",
       "    <tr>\n",
       "      <th>3</th>\n",
       "      <td>E10+</td>\n",
       "      <td>75.09</td>\n",
       "    </tr>\n",
       "    <tr>\n",
       "      <th>4</th>\n",
       "      <td>T</td>\n",
       "      <td>66.02</td>\n",
       "    </tr>\n",
       "  </tbody>\n",
       "</table>\n",
       "</div>"
      ],
      "text/plain": [
       "        rating  na_sales\n",
       "0            M    231.57\n",
       "1            E    113.44\n",
       "2  not_defined    100.13\n",
       "3         E10+     75.09\n",
       "4            T     66.02"
      ]
     },
     "metadata": {},
     "output_type": "display_data"
    },
    {
     "data": {
      "text/html": [
       "<div>\n",
       "<style scoped>\n",
       "    .dataframe tbody tr th:only-of-type {\n",
       "        vertical-align: middle;\n",
       "    }\n",
       "\n",
       "    .dataframe tbody tr th {\n",
       "        vertical-align: top;\n",
       "    }\n",
       "\n",
       "    .dataframe thead th {\n",
       "        text-align: right;\n",
       "    }\n",
       "</style>\n",
       "<table border=\"1\" class=\"dataframe\">\n",
       "  <thead>\n",
       "    <tr style=\"text-align: right;\">\n",
       "      <th></th>\n",
       "      <th>rating</th>\n",
       "      <th>jp_sales</th>\n",
       "    </tr>\n",
       "  </thead>\n",
       "  <tbody>\n",
       "    <tr>\n",
       "      <th>0</th>\n",
       "      <td>not_defined</td>\n",
       "      <td>95.62</td>\n",
       "    </tr>\n",
       "    <tr>\n",
       "      <th>1</th>\n",
       "      <td>E</td>\n",
       "      <td>27.62</td>\n",
       "    </tr>\n",
       "    <tr>\n",
       "      <th>2</th>\n",
       "      <td>T</td>\n",
       "      <td>25.76</td>\n",
       "    </tr>\n",
       "    <tr>\n",
       "      <th>3</th>\n",
       "      <td>M</td>\n",
       "      <td>21.20</td>\n",
       "    </tr>\n",
       "    <tr>\n",
       "      <th>4</th>\n",
       "      <td>E10+</td>\n",
       "      <td>8.19</td>\n",
       "    </tr>\n",
       "  </tbody>\n",
       "</table>\n",
       "</div>"
      ],
      "text/plain": [
       "        rating  jp_sales\n",
       "0  not_defined     95.62\n",
       "1            E     27.62\n",
       "2            T     25.76\n",
       "3            M     21.20\n",
       "4         E10+      8.19"
      ]
     },
     "metadata": {},
     "output_type": "display_data"
    },
    {
     "data": {
      "text/html": [
       "<div>\n",
       "<style scoped>\n",
       "    .dataframe tbody tr th:only-of-type {\n",
       "        vertical-align: middle;\n",
       "    }\n",
       "\n",
       "    .dataframe tbody tr th {\n",
       "        vertical-align: top;\n",
       "    }\n",
       "\n",
       "    .dataframe thead th {\n",
       "        text-align: right;\n",
       "    }\n",
       "</style>\n",
       "<table border=\"1\" class=\"dataframe\">\n",
       "  <thead>\n",
       "    <tr style=\"text-align: right;\">\n",
       "      <th></th>\n",
       "      <th>rating</th>\n",
       "      <th>eu_sales</th>\n",
       "    </tr>\n",
       "  </thead>\n",
       "  <tbody>\n",
       "    <tr>\n",
       "      <th>0</th>\n",
       "      <td>M</td>\n",
       "      <td>193.96</td>\n",
       "    </tr>\n",
       "    <tr>\n",
       "      <th>1</th>\n",
       "      <td>E</td>\n",
       "      <td>111.78</td>\n",
       "    </tr>\n",
       "    <tr>\n",
       "      <th>2</th>\n",
       "      <td>not_defined</td>\n",
       "      <td>89.32</td>\n",
       "    </tr>\n",
       "    <tr>\n",
       "      <th>3</th>\n",
       "      <td>E10+</td>\n",
       "      <td>54.84</td>\n",
       "    </tr>\n",
       "    <tr>\n",
       "      <th>4</th>\n",
       "      <td>T</td>\n",
       "      <td>52.96</td>\n",
       "    </tr>\n",
       "  </tbody>\n",
       "</table>\n",
       "</div>"
      ],
      "text/plain": [
       "        rating  eu_sales\n",
       "0            M    193.96\n",
       "1            E    111.78\n",
       "2  not_defined     89.32\n",
       "3         E10+     54.84\n",
       "4            T     52.96"
      ]
     },
     "metadata": {},
     "output_type": "display_data"
    },
    {
     "data": {
      "text/html": [
       "<div>\n",
       "<style scoped>\n",
       "    .dataframe tbody tr th:only-of-type {\n",
       "        vertical-align: middle;\n",
       "    }\n",
       "\n",
       "    .dataframe tbody tr th {\n",
       "        vertical-align: top;\n",
       "    }\n",
       "\n",
       "    .dataframe thead th {\n",
       "        text-align: right;\n",
       "    }\n",
       "</style>\n",
       "<table border=\"1\" class=\"dataframe\">\n",
       "  <thead>\n",
       "    <tr style=\"text-align: right;\">\n",
       "      <th></th>\n",
       "      <th>rating</th>\n",
       "      <th>other_sales</th>\n",
       "    </tr>\n",
       "  </thead>\n",
       "  <tbody>\n",
       "    <tr>\n",
       "      <th>0</th>\n",
       "      <td>M</td>\n",
       "      <td>63.38</td>\n",
       "    </tr>\n",
       "    <tr>\n",
       "      <th>1</th>\n",
       "      <td>E</td>\n",
       "      <td>31.13</td>\n",
       "    </tr>\n",
       "    <tr>\n",
       "      <th>2</th>\n",
       "      <td>not_defined</td>\n",
       "      <td>26.70</td>\n",
       "    </tr>\n",
       "    <tr>\n",
       "      <th>3</th>\n",
       "      <td>T</td>\n",
       "      <td>17.94</td>\n",
       "    </tr>\n",
       "    <tr>\n",
       "      <th>4</th>\n",
       "      <td>E10+</td>\n",
       "      <td>16.13</td>\n",
       "    </tr>\n",
       "  </tbody>\n",
       "</table>\n",
       "</div>"
      ],
      "text/plain": [
       "        rating  other_sales\n",
       "0            M        63.38\n",
       "1            E        31.13\n",
       "2  not_defined        26.70\n",
       "3            T        17.94\n",
       "4         E10+        16.13"
      ]
     },
     "metadata": {},
     "output_type": "display_data"
    }
   ],
   "source": [
    "na_ESRB=actual_df.pivot_table(index='rating',values=['na_sales'],aggfunc=('sum'))\n",
    "na_ESRB=na_ESRB.sort_values(by='na_sales',ascending=False)\n",
    "na_ESRB=na_ESRB.reset_index()\n",
    "display(na_ESRB)\n",
    "\n",
    "jp_ESRB=actual_df.pivot_table(index='rating',values=['jp_sales'],aggfunc=('sum'))\n",
    "jp_ESRB=jp_ESRB.sort_values(by='jp_sales',ascending=False)\n",
    "jp_ESRB=jp_ESRB.reset_index()\n",
    "display(jp_ESRB)\n",
    "\n",
    "eu_ESRB=actual_df.pivot_table(index='rating',values=['eu_sales'],aggfunc=('sum'))\n",
    "eu_ESRB=eu_ESRB.sort_values(by='eu_sales',ascending=False)\n",
    "eu_ESRB=eu_ESRB.reset_index()\n",
    "display(eu_ESRB)\n",
    "\n",
    "other_ESRB=actual_df.pivot_table(index='rating',values=['other_sales'],aggfunc=('sum'))\n",
    "other_ESRB=other_ESRB.sort_values(by='other_sales',ascending=False)\n",
    "other_ESRB=other_ESRB.reset_index()\n",
    "display(other_ESRB)"
   ]
  },
  {
   "cell_type": "markdown",
   "metadata": {},
   "source": [
    "#### Вывод\n",
    "Во всех регионах кроме Японии первые 2 места по возрастному рейтингу занимают игры 17+ и 6+, в Японии первые места у игр 6+ и 13+. Еще много игр с неопределенным рейтингом. Отличие Японии от других стран можно объяснить тем, что шутеры и экшены которые занимают лидирующие позиции в других регионах обычно имеют ретинг 17+ из-за жестоких сцен и сцен насилия. Итог - я считаю, что рейтинг не влияет на продажи игр"
   ]
  },
  {
   "cell_type": "markdown",
   "metadata": {},
   "source": [
    "## 5. Проверьте гипотезы"
   ]
  },
  {
   "cell_type": "markdown",
   "metadata": {},
   "source": [
    "### Средние пользовательские рейтинги платформ Xbox One и PC одинаковые;"
   ]
  },
  {
   "cell_type": "markdown",
   "metadata": {},
   "source": [
    "Нулевая гипотеза:\n",
    "\n",
    "H0 = \"Средние пользовательские рейтинги платформ Xbox One и PC равны\",\n",
    "\n",
    "Альтернативная гипотеза:\n",
    "\n",
    "H1 = \"Средние пользовательские рейтинги платформ Xbox One и PC не равны\"\n",
    "\n",
    "Критический уровень статистической значимости alpha  = 0.05"
   ]
  },
  {
   "cell_type": "code",
   "execution_count": 84,
   "metadata": {},
   "outputs": [
    {
     "name": "stderr",
     "output_type": "stream",
     "text": [
      "/tmp/ipykernel_31/24037535.py:1: SettingWithCopyWarning: \n",
      "A value is trying to be set on a copy of a slice from a DataFrame\n",
      "\n",
      "See the caveats in the documentation: https://pandas.pydata.org/pandas-docs/stable/user_guide/indexing.html#returning-a-view-versus-a-copy\n",
      "  actual_df.dropna(subset = ['user_score'], inplace= True) #+удаляю строки с nan, т.к. тогда и в pvalue будет nan\n"
     ]
    }
   ],
   "source": [
    "actual_df.dropna(subset = ['user_score'], inplace= True) #+удаляю строки с nan, т.к. тогда и в pvalue будет nan\n",
    "actual_df = actual_df.reset_index(drop=True)"
   ]
  },
  {
   "cell_type": "code",
   "execution_count": 85,
   "metadata": {},
   "outputs": [
    {
     "name": "stdout",
     "output_type": "stream",
     "text": [
      "p-значение: 0.3866769962990103\n",
      "Не получилось отвергнуть нулевую гипотезу\n"
     ]
    }
   ],
   "source": [
    "alpha = .05 # критический уровень статистической значимости\n",
    "\n",
    "XboxOne=actual_df.query('platform==\"XOne\"')['user_score']\n",
    "PC=actual_df.query('platform==\"PC\"')['user_score']\n",
    "\n",
    "results = stats.ttest_ind(XboxOne, PC, equal_var = True)\n",
    "\n",
    "print('p-значение:', results.pvalue)\n",
    "\n",
    "if (results.pvalue < alpha):\n",
    "    print(\"Отвергаем нулевую гипотезу\")\n",
    "else:\n",
    "    print(\"Не получилось отвергнуть нулевую гипотезу\")\n"
   ]
  },
  {
   "cell_type": "markdown",
   "metadata": {},
   "source": [
    "Средние пользовательские рейтинги платформ Xbox One и PC равны"
   ]
  },
  {
   "cell_type": "markdown",
   "metadata": {},
   "source": [
    "### Средние пользовательские рейтинги жанров Action (англ. «действие», экшен-игры) и Sports (англ. «спортивные соревнования») разные."
   ]
  },
  {
   "cell_type": "markdown",
   "metadata": {},
   "source": [
    "Нулевая гипотеза:\n",
    "\n",
    "H0 = \"Средние пользовательские рейтинги жанров Action и Sports равны\",\n",
    "\n",
    "Альтернативная гипотеза:\n",
    "\n",
    "H1 = \"Средние пользовательские рейтинги жанров Action и Sports не равны\"\n",
    "\n",
    "Критический уровень статистической значимости alpha  = 0.05"
   ]
  },
  {
   "cell_type": "code",
   "execution_count": 86,
   "metadata": {},
   "outputs": [
    {
     "name": "stdout",
     "output_type": "stream",
     "text": [
      "p-значение: 1.0909972366118635e-08\n",
      "Отвергаем нулевую гипотезу\n"
     ]
    }
   ],
   "source": [
    "alpha = .05 # критический уровень статистической значимости\n",
    "\n",
    "Action=actual_df.query('genre==\"Action\"')['user_score']\n",
    "Sports=actual_df.query('genre==\"Sports\"')['user_score']\n",
    "\n",
    "results = stats.ttest_ind(Action, Sports, equal_var = False)\n",
    "\n",
    "print('p-значение:', results.pvalue)\n",
    "\n",
    "if (results.pvalue < alpha):\n",
    "    print(\"Отвергаем нулевую гипотезу\")\n",
    "else:\n",
    "    print(\"Не получилось отвергнуть нулевую гипотезу\")"
   ]
  },
  {
   "cell_type": "markdown",
   "metadata": {},
   "source": [
    "Средние пользовательские рейтинги жанров Action  и Sports  разные"
   ]
  },
  {
   "cell_type": "markdown",
   "metadata": {},
   "source": [
    "## 6. Общий вывод\n",
    "\n",
    "Исходные данные представляют собой двумерную таблицу с 16715 записями и 11 признаками (столбцами). При первоначальном анализе было обнаружено больше количество пропусков в столбцах с рейнигом, годом издания игры, оценками критиков и оценками пользователей.  \n",
    "\n",
    "Был проведен анализ исторических данных о продажах игр, оценках пользователей и экспертов, жанрах и платформах. По результатам проведенной предобработки данных были изменены названия столбцов, приведены к нужным типы данных и обработаны пропуски. После этого провели исследовательский анализ по результатам которого выяснили:\n",
    "\n",
    "самые популярные платформы на данный момент - PS3,PS4,X360,3DS,XOne\n",
    "самые прибыльные игры жанра шутер\n",
    "самый выпускаемый жанр - экшн\n",
    "портрет пользователя почти везде схож кроме Японии\n",
    "рейтинг ESRB не влияет на продажи игр\n",
    "самой перспективной в будущие годы будет приставка Playstation_4(рядом с ней будет Xbox_one) и можно предпологать в районе 2019-2020 года выпуск новых версий этих приставок\n",
    "\n",
    "\n",
    "В различные года на рынке доминировали различные платформы, но набольшие продажи за всё время показала PS2. Как было выяснено из анализа распределения продаж игр на различных платформах по годам, медианное время жизни платформы составляет 10 лет, однако из графиков видно, что портативные консоли живут меньше (примерно в 2 раза).\n",
    "\n",
    "В различные годы пользователей предпочитали различные платформы, но в период с 2007 по 2016 пользователей в большей степени интересовали Wii (2007-2009), Xbox 360 (2010), PS3 (2011-2013), PS4(2014-2016). При анализе продаж на различные платформы было выяснено, что хоть разброс значений у различных платформ и сильно отличается (игровые индустрии выпускают хиты для отдельных платформ) средние значения для всех платформ почти одинаковые: 250 тыс для стационарных консолей и 125 тыс для портативных и ПК\n",
    "\n",
    "При анализе корреляции между оценками и продажами было выяснено, оценки пользователей вообще не коррелируют с продажами, а оценки критиков иммеют очень слабую корреляцию, что также является недостаточным для составления рекламной кампании.\n",
    "\n",
    "Из года в год самыми популярными жанрами остаются игры в жанрах Action, Shooter и RPG.\n",
    "\n",
    "Портрет пользователей для различных регионов имеет преимущественно одинаковый вид для всего мира. Однако в Японии люди склонны играть на портативных консолях и поэтому для них характерным жанром игр является RPG и именно японцы предпочитают игры для Teen в большей степени, по сравнению с остальным миром.\n",
    "\n",
    "При анализе гипотез было выяснено, что оценки пользователей для платформ Xbox One и PC одинаковы, но при этом оценки для разных игровых жанров у пользователей отличаются.\n",
    "\n",
    "самые популярные платформы на данный момент - PS3,PS4,X360,3DS,XOne\n",
    "самые прибыльные игры жанра шутер\n",
    "самый выпускаемый жанр - экшн\n",
    "портрет пользователя почти везде схож кроме Японии\n",
    "рейтинг ESRB не влияет на продажи игр\n",
    "самой перспективной в будущие годы будет приставка Playstation_4(рядом с ней будет Xbox_one) и можно предпологать в районе 2019-2020 года выпуск новых версий этих приставок\n",
    "\n",
    "Рекламную кампанию надо планировать с упором на Playstation_4 и Xbox_one"
   ]
  }
 ],
 "metadata": {
  "ExecuteTimeLog": [
   {
    "duration": 1422,
    "start_time": "2023-07-17T07:22:32.426Z"
   },
   {
    "duration": 43,
    "start_time": "2023-07-17T07:24:42.163Z"
   },
   {
    "duration": 59,
    "start_time": "2023-07-17T07:26:29.955Z"
   },
   {
    "duration": 34,
    "start_time": "2023-07-17T07:26:30.016Z"
   },
   {
    "duration": 130,
    "start_time": "2023-07-17T07:26:30.051Z"
   },
   {
    "duration": 9,
    "start_time": "2023-07-17T07:26:42.647Z"
   },
   {
    "duration": 9,
    "start_time": "2023-07-17T07:26:51.695Z"
   },
   {
    "duration": 15,
    "start_time": "2023-07-17T07:32:00.296Z"
   },
   {
    "duration": 63,
    "start_time": "2023-07-17T07:33:03.874Z"
   },
   {
    "duration": 16,
    "start_time": "2023-07-17T07:33:03.939Z"
   },
   {
    "duration": 28,
    "start_time": "2023-07-17T07:33:03.957Z"
   },
   {
    "duration": 35,
    "start_time": "2023-07-17T07:33:03.987Z"
   },
   {
    "duration": 15,
    "start_time": "2023-07-17T07:33:04.024Z"
   },
   {
    "duration": 60,
    "start_time": "2023-07-17T07:33:18.377Z"
   },
   {
    "duration": 3,
    "start_time": "2023-07-17T07:33:24.588Z"
   },
   {
    "duration": 74,
    "start_time": "2023-07-17T07:33:24.593Z"
   },
   {
    "duration": 13,
    "start_time": "2023-07-17T07:33:24.669Z"
   },
   {
    "duration": 35,
    "start_time": "2023-07-17T07:33:24.683Z"
   },
   {
    "duration": 8,
    "start_time": "2023-07-17T07:33:24.720Z"
   },
   {
    "duration": 89,
    "start_time": "2023-07-17T07:33:24.729Z"
   },
   {
    "duration": 12,
    "start_time": "2023-07-17T07:35:51.588Z"
   },
   {
    "duration": 10,
    "start_time": "2023-07-17T07:36:08.200Z"
   },
   {
    "duration": 784,
    "start_time": "2023-07-17T07:39:16.856Z"
   },
   {
    "duration": 13,
    "start_time": "2023-07-17T07:39:54.673Z"
   },
   {
    "duration": 801,
    "start_time": "2023-07-17T07:40:15.649Z"
   },
   {
    "duration": 14,
    "start_time": "2023-07-17T07:43:43.992Z"
   },
   {
    "duration": 5,
    "start_time": "2023-07-17T07:43:55.444Z"
   },
   {
    "duration": 1538,
    "start_time": "2023-07-17T07:44:43.686Z"
   },
   {
    "duration": 10,
    "start_time": "2023-07-17T07:46:34.358Z"
   },
   {
    "duration": 5,
    "start_time": "2023-07-17T07:46:45.868Z"
   },
   {
    "duration": 9,
    "start_time": "2023-07-17T07:52:00.560Z"
   },
   {
    "duration": 3,
    "start_time": "2023-07-17T07:52:16.461Z"
   },
   {
    "duration": 60,
    "start_time": "2023-07-17T07:52:16.466Z"
   },
   {
    "duration": 14,
    "start_time": "2023-07-17T07:52:16.528Z"
   },
   {
    "duration": 23,
    "start_time": "2023-07-17T07:52:16.544Z"
   },
   {
    "duration": 13,
    "start_time": "2023-07-17T07:52:16.569Z"
   },
   {
    "duration": 39,
    "start_time": "2023-07-17T07:52:16.583Z"
   },
   {
    "duration": 8,
    "start_time": "2023-07-17T07:52:16.623Z"
   },
   {
    "duration": 13,
    "start_time": "2023-07-17T07:52:16.632Z"
   },
   {
    "duration": 18,
    "start_time": "2023-07-17T07:52:16.646Z"
   },
   {
    "duration": 9,
    "start_time": "2023-07-17T07:52:45.544Z"
   },
   {
    "duration": 3,
    "start_time": "2023-07-17T07:53:15.861Z"
   },
   {
    "duration": 7,
    "start_time": "2023-07-17T07:53:58.781Z"
   },
   {
    "duration": 8,
    "start_time": "2023-07-17T07:54:08.404Z"
   },
   {
    "duration": 3,
    "start_time": "2023-07-17T07:54:17.553Z"
   },
   {
    "duration": 102,
    "start_time": "2023-07-17T07:54:17.557Z"
   },
   {
    "duration": 14,
    "start_time": "2023-07-17T07:54:17.660Z"
   },
   {
    "duration": 29,
    "start_time": "2023-07-17T07:54:17.675Z"
   },
   {
    "duration": 14,
    "start_time": "2023-07-17T07:54:17.720Z"
   },
   {
    "duration": 10,
    "start_time": "2023-07-17T07:54:17.736Z"
   },
   {
    "duration": 15,
    "start_time": "2023-07-17T07:54:17.748Z"
   },
   {
    "duration": 17,
    "start_time": "2023-07-17T07:54:17.764Z"
   },
   {
    "duration": 36,
    "start_time": "2023-07-17T07:54:17.782Z"
   },
   {
    "duration": 5,
    "start_time": "2023-07-17T07:54:34.466Z"
   },
   {
    "duration": 8,
    "start_time": "2023-07-17T08:01:35.750Z"
   },
   {
    "duration": 3,
    "start_time": "2023-07-17T09:29:45.246Z"
   },
   {
    "duration": 68,
    "start_time": "2023-07-17T09:29:45.250Z"
   },
   {
    "duration": 14,
    "start_time": "2023-07-17T09:29:45.319Z"
   },
   {
    "duration": 53,
    "start_time": "2023-07-17T09:29:45.335Z"
   },
   {
    "duration": 9,
    "start_time": "2023-07-17T09:29:45.389Z"
   },
   {
    "duration": 46,
    "start_time": "2023-07-17T09:29:45.399Z"
   },
   {
    "duration": 11,
    "start_time": "2023-07-17T09:29:45.447Z"
   },
   {
    "duration": 4,
    "start_time": "2023-07-17T09:29:45.539Z"
   },
   {
    "duration": 37,
    "start_time": "2023-07-17T09:29:45.545Z"
   },
   {
    "duration": 20,
    "start_time": "2023-07-17T09:29:45.584Z"
   },
   {
    "duration": 32,
    "start_time": "2023-07-17T09:29:45.606Z"
   },
   {
    "duration": 19,
    "start_time": "2023-07-17T09:29:45.639Z"
   },
   {
    "duration": 41,
    "start_time": "2023-07-17T09:29:45.660Z"
   },
   {
    "duration": 30,
    "start_time": "2023-07-17T09:29:45.702Z"
   },
   {
    "duration": 9,
    "start_time": "2023-07-17T09:30:53.362Z"
   },
   {
    "duration": 13,
    "start_time": "2023-07-17T09:31:46.191Z"
   },
   {
    "duration": 2,
    "start_time": "2023-07-17T09:31:59.213Z"
   },
   {
    "duration": 10,
    "start_time": "2023-07-17T09:37:59.937Z"
   },
   {
    "duration": 227,
    "start_time": "2023-07-17T09:38:35.237Z"
   },
   {
    "duration": 247,
    "start_time": "2023-07-17T09:38:44.987Z"
   },
   {
    "duration": 269,
    "start_time": "2023-07-17T09:43:15.213Z"
   },
   {
    "duration": 3,
    "start_time": "2023-07-17T09:43:29.289Z"
   },
   {
    "duration": 79,
    "start_time": "2023-07-17T09:43:29.294Z"
   },
   {
    "duration": 15,
    "start_time": "2023-07-17T09:43:29.374Z"
   },
   {
    "duration": 66,
    "start_time": "2023-07-17T09:43:29.390Z"
   },
   {
    "duration": 22,
    "start_time": "2023-07-17T09:43:29.458Z"
   },
   {
    "duration": 42,
    "start_time": "2023-07-17T09:43:29.481Z"
   },
   {
    "duration": 28,
    "start_time": "2023-07-17T09:43:29.524Z"
   },
   {
    "duration": 63,
    "start_time": "2023-07-17T09:43:29.554Z"
   },
   {
    "duration": 54,
    "start_time": "2023-07-17T09:43:29.619Z"
   },
   {
    "duration": 44,
    "start_time": "2023-07-17T09:43:29.675Z"
   },
   {
    "duration": 30,
    "start_time": "2023-07-17T09:43:29.721Z"
   },
   {
    "duration": 23,
    "start_time": "2023-07-17T09:43:29.752Z"
   },
   {
    "duration": 47,
    "start_time": "2023-07-17T09:43:29.777Z"
   },
   {
    "duration": 21,
    "start_time": "2023-07-17T09:43:29.825Z"
   },
   {
    "duration": 37,
    "start_time": "2023-07-17T09:43:29.847Z"
   },
   {
    "duration": 42,
    "start_time": "2023-07-17T09:43:29.885Z"
   },
   {
    "duration": 231,
    "start_time": "2023-07-17T09:43:29.929Z"
   },
   {
    "duration": 278,
    "start_time": "2023-07-17T09:45:20.093Z"
   },
   {
    "duration": 8,
    "start_time": "2023-07-17T09:47:10.689Z"
   },
   {
    "duration": 12,
    "start_time": "2023-07-17T09:50:06.917Z"
   },
   {
    "duration": 584,
    "start_time": "2023-07-17T10:05:59.802Z"
   },
   {
    "duration": 849,
    "start_time": "2023-07-17T10:06:37.938Z"
   },
   {
    "duration": 3,
    "start_time": "2023-07-17T10:48:35.979Z"
   },
   {
    "duration": 72,
    "start_time": "2023-07-17T10:48:35.983Z"
   },
   {
    "duration": 15,
    "start_time": "2023-07-17T10:48:36.057Z"
   },
   {
    "duration": 37,
    "start_time": "2023-07-17T10:48:36.075Z"
   },
   {
    "duration": 13,
    "start_time": "2023-07-17T10:48:36.114Z"
   },
   {
    "duration": 33,
    "start_time": "2023-07-17T10:48:36.128Z"
   },
   {
    "duration": 27,
    "start_time": "2023-07-17T10:48:36.162Z"
   },
   {
    "duration": 8,
    "start_time": "2023-07-17T10:48:36.191Z"
   },
   {
    "duration": 16,
    "start_time": "2023-07-17T10:48:36.201Z"
   },
   {
    "duration": 3,
    "start_time": "2023-07-17T10:48:36.220Z"
   },
   {
    "duration": 30,
    "start_time": "2023-07-17T10:48:36.224Z"
   },
   {
    "duration": 7,
    "start_time": "2023-07-17T10:48:36.256Z"
   },
   {
    "duration": 10,
    "start_time": "2023-07-17T10:48:36.265Z"
   },
   {
    "duration": 37,
    "start_time": "2023-07-17T10:48:36.276Z"
   },
   {
    "duration": 29,
    "start_time": "2023-07-17T10:48:36.315Z"
   },
   {
    "duration": 21,
    "start_time": "2023-07-17T10:48:36.347Z"
   },
   {
    "duration": 225,
    "start_time": "2023-07-17T10:48:36.370Z"
   },
   {
    "duration": 315,
    "start_time": "2023-07-17T10:48:36.597Z"
   },
   {
    "duration": 11,
    "start_time": "2023-07-17T10:48:36.913Z"
   },
   {
    "duration": 3,
    "start_time": "2023-07-17T10:48:38.480Z"
   },
   {
    "duration": 119,
    "start_time": "2023-07-17T10:48:38.485Z"
   },
   {
    "duration": 14,
    "start_time": "2023-07-17T10:48:38.605Z"
   },
   {
    "duration": 66,
    "start_time": "2023-07-17T10:48:38.621Z"
   },
   {
    "duration": 15,
    "start_time": "2023-07-17T10:48:38.689Z"
   },
   {
    "duration": 38,
    "start_time": "2023-07-17T10:48:38.706Z"
   },
   {
    "duration": 44,
    "start_time": "2023-07-17T10:48:38.745Z"
   },
   {
    "duration": 30,
    "start_time": "2023-07-17T10:48:38.791Z"
   },
   {
    "duration": 28,
    "start_time": "2023-07-17T10:48:38.822Z"
   },
   {
    "duration": 37,
    "start_time": "2023-07-17T10:48:38.853Z"
   },
   {
    "duration": 35,
    "start_time": "2023-07-17T10:48:38.891Z"
   },
   {
    "duration": 19,
    "start_time": "2023-07-17T10:48:38.928Z"
   },
   {
    "duration": 50,
    "start_time": "2023-07-17T10:48:38.948Z"
   },
   {
    "duration": 21,
    "start_time": "2023-07-17T10:48:39.000Z"
   },
   {
    "duration": 37,
    "start_time": "2023-07-17T10:48:39.022Z"
   },
   {
    "duration": 25,
    "start_time": "2023-07-17T10:48:39.061Z"
   },
   {
    "duration": 262,
    "start_time": "2023-07-17T10:48:39.088Z"
   },
   {
    "duration": 403,
    "start_time": "2023-07-17T10:48:39.352Z"
   },
   {
    "duration": 7,
    "start_time": "2023-07-17T10:48:39.756Z"
   },
   {
    "duration": 898,
    "start_time": "2023-07-17T10:48:39.765Z"
   },
   {
    "duration": 149,
    "start_time": "2023-07-17T10:48:40.665Z"
   },
   {
    "duration": 579,
    "start_time": "2023-07-17T10:48:40.820Z"
   },
   {
    "duration": 3,
    "start_time": "2023-07-17T10:56:05.206Z"
   },
   {
    "duration": 83,
    "start_time": "2023-07-17T10:56:05.211Z"
   },
   {
    "duration": 13,
    "start_time": "2023-07-17T10:56:05.295Z"
   },
   {
    "duration": 31,
    "start_time": "2023-07-17T10:56:05.309Z"
   },
   {
    "duration": 16,
    "start_time": "2023-07-17T10:56:05.341Z"
   },
   {
    "duration": 22,
    "start_time": "2023-07-17T10:56:05.358Z"
   },
   {
    "duration": 23,
    "start_time": "2023-07-17T10:56:05.382Z"
   },
   {
    "duration": 36,
    "start_time": "2023-07-17T10:56:05.407Z"
   },
   {
    "duration": 26,
    "start_time": "2023-07-17T10:56:05.445Z"
   },
   {
    "duration": 55,
    "start_time": "2023-07-17T10:56:05.475Z"
   },
   {
    "duration": 34,
    "start_time": "2023-07-17T10:56:05.532Z"
   },
   {
    "duration": 17,
    "start_time": "2023-07-17T10:56:05.568Z"
   },
   {
    "duration": 15,
    "start_time": "2023-07-17T10:56:05.587Z"
   },
   {
    "duration": 11,
    "start_time": "2023-07-17T10:56:05.603Z"
   },
   {
    "duration": 18,
    "start_time": "2023-07-17T10:56:05.615Z"
   },
   {
    "duration": 12,
    "start_time": "2023-07-17T10:56:05.634Z"
   },
   {
    "duration": 231,
    "start_time": "2023-07-17T10:56:05.647Z"
   },
   {
    "duration": 301,
    "start_time": "2023-07-17T10:56:05.880Z"
   },
   {
    "duration": 8,
    "start_time": "2023-07-17T10:56:06.183Z"
   },
   {
    "duration": 867,
    "start_time": "2023-07-17T10:56:06.193Z"
   },
   {
    "duration": 227,
    "start_time": "2023-07-17T10:56:07.061Z"
   },
   {
    "duration": 592,
    "start_time": "2023-07-17T10:56:07.289Z"
   },
   {
    "duration": 14,
    "start_time": "2023-07-17T10:56:07.883Z"
   },
   {
    "duration": 243,
    "start_time": "2023-07-17T10:56:07.898Z"
   },
   {
    "duration": 61,
    "start_time": "2023-07-18T03:16:52.561Z"
   },
   {
    "duration": 7,
    "start_time": "2023-07-18T03:18:03.614Z"
   },
   {
    "duration": 12,
    "start_time": "2023-07-18T03:18:34.480Z"
   },
   {
    "duration": 8,
    "start_time": "2023-07-18T03:18:59.898Z"
   },
   {
    "duration": 16,
    "start_time": "2023-07-18T03:19:28.352Z"
   },
   {
    "duration": 14,
    "start_time": "2023-07-18T03:19:56.173Z"
   },
   {
    "duration": 22,
    "start_time": "2023-07-18T03:24:39.447Z"
   },
   {
    "duration": 1866,
    "start_time": "2023-07-18T03:25:16.070Z"
   },
   {
    "duration": 252,
    "start_time": "2023-07-18T03:25:17.942Z"
   },
   {
    "duration": 38,
    "start_time": "2023-07-18T03:25:18.206Z"
   },
   {
    "duration": 218,
    "start_time": "2023-07-18T03:25:18.250Z"
   },
   {
    "duration": 25,
    "start_time": "2023-07-18T03:25:18.473Z"
   },
   {
    "duration": 74,
    "start_time": "2023-07-18T03:25:18.502Z"
   },
   {
    "duration": 71,
    "start_time": "2023-07-18T03:25:18.580Z"
   },
   {
    "duration": 112,
    "start_time": "2023-07-18T03:25:18.656Z"
   },
   {
    "duration": 69,
    "start_time": "2023-07-18T03:25:18.775Z"
   },
   {
    "duration": 71,
    "start_time": "2023-07-18T03:25:18.848Z"
   },
   {
    "duration": 25,
    "start_time": "2023-07-18T03:25:18.921Z"
   },
   {
    "duration": 73,
    "start_time": "2023-07-18T03:25:18.948Z"
   },
   {
    "duration": 17,
    "start_time": "2023-07-18T03:25:19.026Z"
   },
   {
    "duration": 91,
    "start_time": "2023-07-18T03:25:19.052Z"
   },
   {
    "duration": 98,
    "start_time": "2023-07-18T03:25:19.152Z"
   },
   {
    "duration": 68,
    "start_time": "2023-07-18T03:25:19.255Z"
   },
   {
    "duration": 327,
    "start_time": "2023-07-18T03:25:19.325Z"
   },
   {
    "duration": 421,
    "start_time": "2023-07-18T03:25:19.657Z"
   },
   {
    "duration": 11,
    "start_time": "2023-07-18T03:25:20.082Z"
   },
   {
    "duration": 1299,
    "start_time": "2023-07-18T03:25:20.098Z"
   },
   {
    "duration": 223,
    "start_time": "2023-07-18T03:25:21.402Z"
   },
   {
    "duration": 814,
    "start_time": "2023-07-18T03:25:21.628Z"
   },
   {
    "duration": 22,
    "start_time": "2023-07-18T03:25:22.446Z"
   },
   {
    "duration": 494,
    "start_time": "2023-07-18T03:25:22.473Z"
   },
   {
    "duration": 245,
    "start_time": "2023-07-18T03:25:22.978Z"
   },
   {
    "duration": 224,
    "start_time": "2023-07-18T03:25:23.227Z"
   },
   {
    "duration": 253,
    "start_time": "2023-07-18T03:27:53.402Z"
   },
   {
    "duration": 275,
    "start_time": "2023-07-18T03:28:20.117Z"
   },
   {
    "duration": 226,
    "start_time": "2023-07-18T03:29:03.469Z"
   },
   {
    "duration": 4,
    "start_time": "2023-07-18T03:43:56.781Z"
   },
   {
    "duration": 132,
    "start_time": "2023-07-18T03:43:56.787Z"
   },
   {
    "duration": 22,
    "start_time": "2023-07-18T03:43:56.922Z"
   },
   {
    "duration": 38,
    "start_time": "2023-07-18T03:43:56.948Z"
   },
   {
    "duration": 11,
    "start_time": "2023-07-18T03:43:56.988Z"
   },
   {
    "duration": 34,
    "start_time": "2023-07-18T03:43:57.001Z"
   },
   {
    "duration": 19,
    "start_time": "2023-07-18T03:43:57.037Z"
   },
   {
    "duration": 7,
    "start_time": "2023-07-18T03:43:57.058Z"
   },
   {
    "duration": 12,
    "start_time": "2023-07-18T03:43:57.084Z"
   },
   {
    "duration": 14,
    "start_time": "2023-07-18T03:43:57.099Z"
   },
   {
    "duration": 15,
    "start_time": "2023-07-18T03:43:57.114Z"
   },
   {
    "duration": 13,
    "start_time": "2023-07-18T03:43:57.130Z"
   },
   {
    "duration": 27,
    "start_time": "2023-07-18T03:43:57.147Z"
   },
   {
    "duration": 17,
    "start_time": "2023-07-18T03:43:57.176Z"
   },
   {
    "duration": 15,
    "start_time": "2023-07-18T03:43:57.195Z"
   },
   {
    "duration": 25,
    "start_time": "2023-07-18T03:43:57.212Z"
   },
   {
    "duration": 223,
    "start_time": "2023-07-18T03:43:57.389Z"
   },
   {
    "duration": 368,
    "start_time": "2023-07-18T03:43:57.614Z"
   },
   {
    "duration": 7,
    "start_time": "2023-07-18T03:43:57.985Z"
   },
   {
    "duration": 1025,
    "start_time": "2023-07-18T03:43:57.994Z"
   },
   {
    "duration": 176,
    "start_time": "2023-07-18T03:43:59.021Z"
   },
   {
    "duration": 718,
    "start_time": "2023-07-18T03:43:59.199Z"
   },
   {
    "duration": 28,
    "start_time": "2023-07-18T03:43:59.919Z"
   },
   {
    "duration": 316,
    "start_time": "2023-07-18T03:43:59.949Z"
   },
   {
    "duration": 200,
    "start_time": "2023-07-18T03:44:00.268Z"
   },
   {
    "duration": 213,
    "start_time": "2023-07-18T03:44:00.470Z"
   },
   {
    "duration": 177,
    "start_time": "2023-07-18T03:44:00.686Z"
   },
   {
    "duration": 163,
    "start_time": "2023-07-18T03:44:00.865Z"
   },
   {
    "duration": 196,
    "start_time": "2023-07-18T03:44:01.031Z"
   },
   {
    "duration": 195,
    "start_time": "2023-07-18T03:44:01.230Z"
   },
   {
    "duration": 65,
    "start_time": "2023-07-18T05:03:28.945Z"
   },
   {
    "duration": 11,
    "start_time": "2023-07-18T05:03:59.346Z"
   },
   {
    "duration": 16,
    "start_time": "2023-07-18T05:05:14.047Z"
   },
   {
    "duration": 116,
    "start_time": "2023-07-18T05:08:23.757Z"
   },
   {
    "duration": 7,
    "start_time": "2023-07-18T05:09:35.779Z"
   },
   {
    "duration": 288,
    "start_time": "2023-07-18T05:10:26.878Z"
   },
   {
    "duration": 13,
    "start_time": "2023-07-18T05:11:35.104Z"
   },
   {
    "duration": 25,
    "start_time": "2023-07-18T05:11:48.613Z"
   },
   {
    "duration": 9,
    "start_time": "2023-07-18T05:12:02.010Z"
   },
   {
    "duration": 301,
    "start_time": "2023-07-18T05:12:21.680Z"
   },
   {
    "duration": 9,
    "start_time": "2023-07-18T05:13:12.396Z"
   },
   {
    "duration": 8,
    "start_time": "2023-07-18T05:13:15.179Z"
   },
   {
    "duration": 10,
    "start_time": "2023-07-18T05:13:30.597Z"
   },
   {
    "duration": 12,
    "start_time": "2023-07-18T05:13:41.366Z"
   },
   {
    "duration": 8,
    "start_time": "2023-07-18T05:13:46.889Z"
   },
   {
    "duration": 20,
    "start_time": "2023-07-18T05:14:13.024Z"
   },
   {
    "duration": 9,
    "start_time": "2023-07-18T05:14:15.279Z"
   },
   {
    "duration": 321,
    "start_time": "2023-07-18T05:19:56.702Z"
   },
   {
    "duration": 2,
    "start_time": "2023-07-18T05:21:31.266Z"
   },
   {
    "duration": 87,
    "start_time": "2023-07-18T05:21:31.270Z"
   },
   {
    "duration": 19,
    "start_time": "2023-07-18T05:21:31.362Z"
   },
   {
    "duration": 30,
    "start_time": "2023-07-18T05:21:31.383Z"
   },
   {
    "duration": 21,
    "start_time": "2023-07-18T05:21:31.415Z"
   },
   {
    "duration": 70,
    "start_time": "2023-07-18T05:21:31.438Z"
   },
   {
    "duration": 73,
    "start_time": "2023-07-18T05:21:31.510Z"
   },
   {
    "duration": 22,
    "start_time": "2023-07-18T05:21:31.585Z"
   },
   {
    "duration": 75,
    "start_time": "2023-07-18T05:21:31.608Z"
   },
   {
    "duration": 76,
    "start_time": "2023-07-18T05:21:31.685Z"
   },
   {
    "duration": 47,
    "start_time": "2023-07-18T05:21:31.763Z"
   },
   {
    "duration": 54,
    "start_time": "2023-07-18T05:21:31.812Z"
   },
   {
    "duration": 21,
    "start_time": "2023-07-18T05:21:31.868Z"
   },
   {
    "duration": 95,
    "start_time": "2023-07-18T05:21:31.892Z"
   },
   {
    "duration": 17,
    "start_time": "2023-07-18T05:21:31.988Z"
   },
   {
    "duration": 21,
    "start_time": "2023-07-18T05:21:32.006Z"
   },
   {
    "duration": 275,
    "start_time": "2023-07-18T05:21:32.028Z"
   },
   {
    "duration": 404,
    "start_time": "2023-07-18T05:21:32.306Z"
   },
   {
    "duration": 7,
    "start_time": "2023-07-18T05:21:32.712Z"
   },
   {
    "duration": 963,
    "start_time": "2023-07-18T05:21:32.736Z"
   },
   {
    "duration": 194,
    "start_time": "2023-07-18T05:21:33.701Z"
   },
   {
    "duration": 711,
    "start_time": "2023-07-18T05:21:33.898Z"
   },
   {
    "duration": 45,
    "start_time": "2023-07-18T05:21:34.611Z"
   },
   {
    "duration": 523,
    "start_time": "2023-07-18T05:21:34.659Z"
   },
   {
    "duration": 185,
    "start_time": "2023-07-18T05:21:35.184Z"
   },
   {
    "duration": 197,
    "start_time": "2023-07-18T05:21:35.371Z"
   },
   {
    "duration": 190,
    "start_time": "2023-07-18T05:21:35.570Z"
   },
   {
    "duration": 172,
    "start_time": "2023-07-18T05:21:35.762Z"
   },
   {
    "duration": 182,
    "start_time": "2023-07-18T05:21:35.936Z"
   },
   {
    "duration": 197,
    "start_time": "2023-07-18T05:21:36.120Z"
   },
   {
    "duration": 140,
    "start_time": "2023-07-18T05:21:36.319Z"
   },
   {
    "duration": 0,
    "start_time": "2023-07-18T05:21:36.460Z"
   },
   {
    "duration": 0,
    "start_time": "2023-07-18T05:21:36.462Z"
   },
   {
    "duration": 0,
    "start_time": "2023-07-18T05:21:36.463Z"
   },
   {
    "duration": 0,
    "start_time": "2023-07-18T05:21:36.465Z"
   },
   {
    "duration": 0,
    "start_time": "2023-07-18T05:21:36.466Z"
   },
   {
    "duration": 0,
    "start_time": "2023-07-18T05:21:36.467Z"
   },
   {
    "duration": 0,
    "start_time": "2023-07-18T05:21:36.468Z"
   },
   {
    "duration": 0,
    "start_time": "2023-07-18T05:21:36.469Z"
   },
   {
    "duration": 0,
    "start_time": "2023-07-18T05:21:36.470Z"
   },
   {
    "duration": 0,
    "start_time": "2023-07-18T05:21:36.472Z"
   },
   {
    "duration": 3,
    "start_time": "2023-07-18T05:22:05.665Z"
   },
   {
    "duration": 106,
    "start_time": "2023-07-18T05:22:05.670Z"
   },
   {
    "duration": 33,
    "start_time": "2023-07-18T05:22:05.777Z"
   },
   {
    "duration": 90,
    "start_time": "2023-07-18T05:22:05.811Z"
   },
   {
    "duration": 18,
    "start_time": "2023-07-18T05:22:05.902Z"
   },
   {
    "duration": 88,
    "start_time": "2023-07-18T05:22:05.922Z"
   },
   {
    "duration": 22,
    "start_time": "2023-07-18T05:22:06.012Z"
   },
   {
    "duration": 46,
    "start_time": "2023-07-18T05:22:06.037Z"
   },
   {
    "duration": 29,
    "start_time": "2023-07-18T05:22:06.085Z"
   },
   {
    "duration": 6,
    "start_time": "2023-07-18T05:22:06.116Z"
   },
   {
    "duration": 56,
    "start_time": "2023-07-18T05:22:06.123Z"
   },
   {
    "duration": 28,
    "start_time": "2023-07-18T05:22:06.180Z"
   },
   {
    "duration": 15,
    "start_time": "2023-07-18T05:22:06.209Z"
   },
   {
    "duration": 60,
    "start_time": "2023-07-18T05:22:06.225Z"
   },
   {
    "duration": 33,
    "start_time": "2023-07-18T05:22:06.286Z"
   },
   {
    "duration": 24,
    "start_time": "2023-07-18T05:22:06.321Z"
   },
   {
    "duration": 269,
    "start_time": "2023-07-18T05:22:06.348Z"
   },
   {
    "duration": 345,
    "start_time": "2023-07-18T05:22:06.618Z"
   },
   {
    "duration": 7,
    "start_time": "2023-07-18T05:22:06.964Z"
   },
   {
    "duration": 1089,
    "start_time": "2023-07-18T05:22:06.973Z"
   },
   {
    "duration": 145,
    "start_time": "2023-07-18T05:22:08.064Z"
   },
   {
    "duration": 615,
    "start_time": "2023-07-18T05:22:08.210Z"
   },
   {
    "duration": 30,
    "start_time": "2023-07-18T05:22:08.826Z"
   },
   {
    "duration": 303,
    "start_time": "2023-07-18T05:22:08.860Z"
   },
   {
    "duration": 164,
    "start_time": "2023-07-18T05:22:09.166Z"
   },
   {
    "duration": 162,
    "start_time": "2023-07-18T05:22:09.334Z"
   },
   {
    "duration": 155,
    "start_time": "2023-07-18T05:22:09.498Z"
   },
   {
    "duration": 149,
    "start_time": "2023-07-18T05:22:09.655Z"
   },
   {
    "duration": 185,
    "start_time": "2023-07-18T05:22:09.806Z"
   },
   {
    "duration": 184,
    "start_time": "2023-07-18T05:22:09.993Z"
   },
   {
    "duration": 23,
    "start_time": "2023-07-18T05:22:10.179Z"
   },
   {
    "duration": 7,
    "start_time": "2023-07-18T05:22:10.204Z"
   },
   {
    "duration": 432,
    "start_time": "2023-07-18T05:22:10.212Z"
   },
   {
    "duration": 29,
    "start_time": "2023-07-18T05:22:10.647Z"
   },
   {
    "duration": 7,
    "start_time": "2023-07-18T05:22:10.678Z"
   },
   {
    "duration": 309,
    "start_time": "2023-07-18T05:22:10.686Z"
   },
   {
    "duration": 4,
    "start_time": "2023-07-18T05:22:10.996Z"
   },
   {
    "duration": 11,
    "start_time": "2023-07-18T05:22:11.001Z"
   },
   {
    "duration": 349,
    "start_time": "2023-07-18T05:22:11.014Z"
   },
   {
    "duration": 9,
    "start_time": "2023-07-18T05:23:05.160Z"
   },
   {
    "duration": 13,
    "start_time": "2023-07-18T05:23:19.590Z"
   },
   {
    "duration": 4,
    "start_time": "2023-07-18T05:23:25.154Z"
   },
   {
    "duration": 8,
    "start_time": "2023-07-18T05:23:28.815Z"
   },
   {
    "duration": 426,
    "start_time": "2023-07-18T05:23:33.291Z"
   },
   {
    "duration": 11,
    "start_time": "2023-07-18T05:25:12.720Z"
   },
   {
    "duration": 291,
    "start_time": "2023-07-18T05:25:58.170Z"
   },
   {
    "duration": 25,
    "start_time": "2023-07-18T05:27:44.759Z"
   },
   {
    "duration": 44,
    "start_time": "2023-07-18T05:28:19.268Z"
   },
   {
    "duration": 3,
    "start_time": "2023-07-18T05:36:42.214Z"
   },
   {
    "duration": 66,
    "start_time": "2023-07-18T05:36:42.219Z"
   },
   {
    "duration": 15,
    "start_time": "2023-07-18T05:36:42.287Z"
   },
   {
    "duration": 25,
    "start_time": "2023-07-18T05:36:42.305Z"
   },
   {
    "duration": 12,
    "start_time": "2023-07-18T05:36:42.340Z"
   },
   {
    "duration": 14,
    "start_time": "2023-07-18T05:36:42.353Z"
   },
   {
    "duration": 12,
    "start_time": "2023-07-18T05:36:42.368Z"
   },
   {
    "duration": 10,
    "start_time": "2023-07-18T05:36:42.381Z"
   },
   {
    "duration": 13,
    "start_time": "2023-07-18T05:36:42.393Z"
   },
   {
    "duration": 3,
    "start_time": "2023-07-18T05:36:42.409Z"
   },
   {
    "duration": 34,
    "start_time": "2023-07-18T05:36:42.414Z"
   },
   {
    "duration": 7,
    "start_time": "2023-07-18T05:36:42.449Z"
   },
   {
    "duration": 21,
    "start_time": "2023-07-18T05:36:42.457Z"
   },
   {
    "duration": 17,
    "start_time": "2023-07-18T05:36:42.480Z"
   },
   {
    "duration": 15,
    "start_time": "2023-07-18T05:36:42.498Z"
   },
   {
    "duration": 10,
    "start_time": "2023-07-18T05:36:42.514Z"
   },
   {
    "duration": 227,
    "start_time": "2023-07-18T05:36:42.526Z"
   },
   {
    "duration": 316,
    "start_time": "2023-07-18T05:36:42.755Z"
   },
   {
    "duration": 7,
    "start_time": "2023-07-18T05:36:43.073Z"
   },
   {
    "duration": 898,
    "start_time": "2023-07-18T05:36:43.082Z"
   },
   {
    "duration": 268,
    "start_time": "2023-07-18T05:36:43.982Z"
   },
   {
    "duration": 639,
    "start_time": "2023-07-18T05:36:44.251Z"
   },
   {
    "duration": 18,
    "start_time": "2023-07-18T05:36:44.892Z"
   },
   {
    "duration": 283,
    "start_time": "2023-07-18T05:36:44.911Z"
   },
   {
    "duration": 166,
    "start_time": "2023-07-18T05:36:45.197Z"
   },
   {
    "duration": 154,
    "start_time": "2023-07-18T05:36:45.365Z"
   },
   {
    "duration": 155,
    "start_time": "2023-07-18T05:36:45.521Z"
   },
   {
    "duration": 143,
    "start_time": "2023-07-18T05:36:45.678Z"
   },
   {
    "duration": 168,
    "start_time": "2023-07-18T05:36:45.822Z"
   },
   {
    "duration": 174,
    "start_time": "2023-07-18T05:36:45.992Z"
   },
   {
    "duration": 23,
    "start_time": "2023-07-18T05:36:46.168Z"
   },
   {
    "duration": 8,
    "start_time": "2023-07-18T05:36:46.192Z"
   },
   {
    "duration": 316,
    "start_time": "2023-07-18T05:36:46.202Z"
   },
   {
    "duration": 41,
    "start_time": "2023-07-18T05:36:46.520Z"
   },
   {
    "duration": 8,
    "start_time": "2023-07-18T05:36:46.562Z"
   },
   {
    "duration": 295,
    "start_time": "2023-07-18T05:36:46.571Z"
   },
   {
    "duration": 165,
    "start_time": "2023-07-18T05:36:46.868Z"
   },
   {
    "duration": 3,
    "start_time": "2023-07-18T05:40:17.050Z"
   },
   {
    "duration": 66,
    "start_time": "2023-07-18T05:40:17.054Z"
   },
   {
    "duration": 21,
    "start_time": "2023-07-18T05:40:17.121Z"
   },
   {
    "duration": 47,
    "start_time": "2023-07-18T05:40:17.148Z"
   },
   {
    "duration": 10,
    "start_time": "2023-07-18T05:40:17.197Z"
   },
   {
    "duration": 36,
    "start_time": "2023-07-18T05:40:17.208Z"
   },
   {
    "duration": 13,
    "start_time": "2023-07-18T05:40:17.245Z"
   },
   {
    "duration": 12,
    "start_time": "2023-07-18T05:40:17.259Z"
   },
   {
    "duration": 13,
    "start_time": "2023-07-18T05:40:17.272Z"
   },
   {
    "duration": 3,
    "start_time": "2023-07-18T05:40:17.287Z"
   },
   {
    "duration": 15,
    "start_time": "2023-07-18T05:40:17.291Z"
   },
   {
    "duration": 8,
    "start_time": "2023-07-18T05:40:17.308Z"
   },
   {
    "duration": 18,
    "start_time": "2023-07-18T05:40:17.317Z"
   },
   {
    "duration": 20,
    "start_time": "2023-07-18T05:40:17.343Z"
   },
   {
    "duration": 15,
    "start_time": "2023-07-18T05:40:17.364Z"
   },
   {
    "duration": 10,
    "start_time": "2023-07-18T05:40:17.381Z"
   },
   {
    "duration": 240,
    "start_time": "2023-07-18T05:40:17.393Z"
   },
   {
    "duration": 357,
    "start_time": "2023-07-18T05:40:17.635Z"
   },
   {
    "duration": 7,
    "start_time": "2023-07-18T05:40:17.994Z"
   },
   {
    "duration": 896,
    "start_time": "2023-07-18T05:40:18.003Z"
   },
   {
    "duration": 178,
    "start_time": "2023-07-18T05:40:18.901Z"
   },
   {
    "duration": 629,
    "start_time": "2023-07-18T05:40:19.081Z"
   },
   {
    "duration": 26,
    "start_time": "2023-07-18T05:40:19.712Z"
   },
   {
    "duration": 247,
    "start_time": "2023-07-18T05:40:19.741Z"
   },
   {
    "duration": 168,
    "start_time": "2023-07-18T05:40:19.990Z"
   },
   {
    "duration": 262,
    "start_time": "2023-07-18T05:40:20.160Z"
   },
   {
    "duration": 142,
    "start_time": "2023-07-18T05:40:20.424Z"
   },
   {
    "duration": 158,
    "start_time": "2023-07-18T05:40:20.568Z"
   },
   {
    "duration": 160,
    "start_time": "2023-07-18T05:40:20.728Z"
   },
   {
    "duration": 179,
    "start_time": "2023-07-18T05:40:20.889Z"
   },
   {
    "duration": 25,
    "start_time": "2023-07-18T05:40:21.069Z"
   },
   {
    "duration": 8,
    "start_time": "2023-07-18T05:40:21.095Z"
   },
   {
    "duration": 308,
    "start_time": "2023-07-18T05:40:21.104Z"
   },
   {
    "duration": 35,
    "start_time": "2023-07-18T05:40:21.414Z"
   },
   {
    "duration": 21,
    "start_time": "2023-07-18T05:40:21.451Z"
   },
   {
    "duration": 302,
    "start_time": "2023-07-18T05:40:21.474Z"
   },
   {
    "duration": 71,
    "start_time": "2023-07-18T05:40:21.778Z"
   },
   {
    "duration": 3,
    "start_time": "2023-07-18T05:42:23.528Z"
   },
   {
    "duration": 90,
    "start_time": "2023-07-18T05:42:23.538Z"
   },
   {
    "duration": 22,
    "start_time": "2023-07-18T05:42:23.630Z"
   },
   {
    "duration": 62,
    "start_time": "2023-07-18T05:42:23.654Z"
   },
   {
    "duration": 30,
    "start_time": "2023-07-18T05:42:23.717Z"
   },
   {
    "duration": 16,
    "start_time": "2023-07-18T05:42:23.749Z"
   },
   {
    "duration": 38,
    "start_time": "2023-07-18T05:42:23.767Z"
   },
   {
    "duration": 32,
    "start_time": "2023-07-18T05:42:23.807Z"
   },
   {
    "duration": 49,
    "start_time": "2023-07-18T05:42:23.841Z"
   },
   {
    "duration": 21,
    "start_time": "2023-07-18T05:42:23.894Z"
   },
   {
    "duration": 62,
    "start_time": "2023-07-18T05:42:23.918Z"
   },
   {
    "duration": 44,
    "start_time": "2023-07-18T05:42:23.982Z"
   },
   {
    "duration": 38,
    "start_time": "2023-07-18T05:42:24.028Z"
   },
   {
    "duration": 40,
    "start_time": "2023-07-18T05:42:24.068Z"
   },
   {
    "duration": 53,
    "start_time": "2023-07-18T05:42:24.110Z"
   },
   {
    "duration": 43,
    "start_time": "2023-07-18T05:42:24.165Z"
   },
   {
    "duration": 254,
    "start_time": "2023-07-18T05:42:24.210Z"
   },
   {
    "duration": 315,
    "start_time": "2023-07-18T05:42:24.465Z"
   },
   {
    "duration": 11,
    "start_time": "2023-07-18T05:42:24.782Z"
   },
   {
    "duration": 1089,
    "start_time": "2023-07-18T05:42:24.795Z"
   },
   {
    "duration": 165,
    "start_time": "2023-07-18T05:42:25.885Z"
   },
   {
    "duration": 601,
    "start_time": "2023-07-18T05:42:26.052Z"
   },
   {
    "duration": 16,
    "start_time": "2023-07-18T05:42:26.655Z"
   },
   {
    "duration": 274,
    "start_time": "2023-07-18T05:42:26.673Z"
   },
   {
    "duration": 166,
    "start_time": "2023-07-18T05:42:26.948Z"
   },
   {
    "duration": 156,
    "start_time": "2023-07-18T05:42:27.116Z"
   },
   {
    "duration": 140,
    "start_time": "2023-07-18T05:42:27.274Z"
   },
   {
    "duration": 174,
    "start_time": "2023-07-18T05:42:27.417Z"
   },
   {
    "duration": 188,
    "start_time": "2023-07-18T05:42:27.592Z"
   },
   {
    "duration": 204,
    "start_time": "2023-07-18T05:42:27.782Z"
   },
   {
    "duration": 34,
    "start_time": "2023-07-18T05:42:27.988Z"
   },
   {
    "duration": 22,
    "start_time": "2023-07-18T05:42:28.023Z"
   },
   {
    "duration": 323,
    "start_time": "2023-07-18T05:42:28.047Z"
   },
   {
    "duration": 23,
    "start_time": "2023-07-18T05:42:28.373Z"
   },
   {
    "duration": 7,
    "start_time": "2023-07-18T05:42:28.398Z"
   },
   {
    "duration": 319,
    "start_time": "2023-07-18T05:42:28.407Z"
   },
   {
    "duration": 173,
    "start_time": "2023-07-18T05:42:28.728Z"
   },
   {
    "duration": 4,
    "start_time": "2023-07-18T05:44:18.255Z"
   },
   {
    "duration": 67,
    "start_time": "2023-07-18T05:44:18.261Z"
   },
   {
    "duration": 15,
    "start_time": "2023-07-18T05:44:18.329Z"
   },
   {
    "duration": 32,
    "start_time": "2023-07-18T05:44:18.346Z"
   },
   {
    "duration": 9,
    "start_time": "2023-07-18T05:44:18.380Z"
   },
   {
    "duration": 21,
    "start_time": "2023-07-18T05:44:18.391Z"
   },
   {
    "duration": 28,
    "start_time": "2023-07-18T05:44:18.414Z"
   },
   {
    "duration": 6,
    "start_time": "2023-07-18T05:44:18.444Z"
   },
   {
    "duration": 21,
    "start_time": "2023-07-18T05:44:18.451Z"
   },
   {
    "duration": 8,
    "start_time": "2023-07-18T05:44:18.475Z"
   },
   {
    "duration": 16,
    "start_time": "2023-07-18T05:44:18.484Z"
   },
   {
    "duration": 7,
    "start_time": "2023-07-18T05:44:18.502Z"
   },
   {
    "duration": 22,
    "start_time": "2023-07-18T05:44:18.511Z"
   },
   {
    "duration": 10,
    "start_time": "2023-07-18T05:44:18.534Z"
   },
   {
    "duration": 20,
    "start_time": "2023-07-18T05:44:18.545Z"
   },
   {
    "duration": 11,
    "start_time": "2023-07-18T05:44:18.566Z"
   },
   {
    "duration": 235,
    "start_time": "2023-07-18T05:44:18.579Z"
   },
   {
    "duration": 309,
    "start_time": "2023-07-18T05:44:18.816Z"
   },
   {
    "duration": 9,
    "start_time": "2023-07-18T05:44:19.131Z"
   },
   {
    "duration": 904,
    "start_time": "2023-07-18T05:44:19.142Z"
   },
   {
    "duration": 163,
    "start_time": "2023-07-18T05:44:20.048Z"
   },
   {
    "duration": 580,
    "start_time": "2023-07-18T05:44:20.212Z"
   },
   {
    "duration": 16,
    "start_time": "2023-07-18T05:44:20.793Z"
   },
   {
    "duration": 262,
    "start_time": "2023-07-18T05:44:20.811Z"
   },
   {
    "duration": 167,
    "start_time": "2023-07-18T05:44:21.076Z"
   },
   {
    "duration": 162,
    "start_time": "2023-07-18T05:44:21.246Z"
   },
   {
    "duration": 298,
    "start_time": "2023-07-18T05:44:21.410Z"
   },
   {
    "duration": 147,
    "start_time": "2023-07-18T05:44:21.711Z"
   },
   {
    "duration": 165,
    "start_time": "2023-07-18T05:44:21.860Z"
   },
   {
    "duration": 166,
    "start_time": "2023-07-18T05:44:22.027Z"
   },
   {
    "duration": 41,
    "start_time": "2023-07-18T05:44:22.195Z"
   },
   {
    "duration": 8,
    "start_time": "2023-07-18T05:44:22.238Z"
   },
   {
    "duration": 289,
    "start_time": "2023-07-18T05:44:22.248Z"
   },
   {
    "duration": 26,
    "start_time": "2023-07-18T05:44:22.539Z"
   },
   {
    "duration": 8,
    "start_time": "2023-07-18T05:44:22.567Z"
   },
   {
    "duration": 307,
    "start_time": "2023-07-18T05:44:22.577Z"
   },
   {
    "duration": 56,
    "start_time": "2023-07-18T05:44:22.886Z"
   },
   {
    "duration": 10,
    "start_time": "2023-07-18T06:30:01.492Z"
   },
   {
    "duration": 13,
    "start_time": "2023-07-18T06:30:14.268Z"
   },
   {
    "duration": 17,
    "start_time": "2023-07-18T06:30:25.091Z"
   },
   {
    "duration": 15,
    "start_time": "2023-07-18T06:30:57.504Z"
   },
   {
    "duration": 18,
    "start_time": "2023-07-18T06:33:02.119Z"
   },
   {
    "duration": 3,
    "start_time": "2023-07-18T06:34:32.887Z"
   },
   {
    "duration": 290,
    "start_time": "2023-07-18T06:34:32.892Z"
   },
   {
    "duration": 17,
    "start_time": "2023-07-18T06:34:33.184Z"
   },
   {
    "duration": 52,
    "start_time": "2023-07-18T06:34:33.203Z"
   },
   {
    "duration": 12,
    "start_time": "2023-07-18T06:34:33.257Z"
   },
   {
    "duration": 18,
    "start_time": "2023-07-18T06:34:33.270Z"
   },
   {
    "duration": 34,
    "start_time": "2023-07-18T06:34:33.290Z"
   },
   {
    "duration": 37,
    "start_time": "2023-07-18T06:34:33.326Z"
   },
   {
    "duration": 97,
    "start_time": "2023-07-18T06:34:33.366Z"
   },
   {
    "duration": 35,
    "start_time": "2023-07-18T06:34:33.466Z"
   },
   {
    "duration": 48,
    "start_time": "2023-07-18T06:34:33.503Z"
   },
   {
    "duration": 26,
    "start_time": "2023-07-18T06:34:33.554Z"
   },
   {
    "duration": 27,
    "start_time": "2023-07-18T06:34:33.582Z"
   },
   {
    "duration": 44,
    "start_time": "2023-07-18T06:34:33.611Z"
   },
   {
    "duration": 37,
    "start_time": "2023-07-18T06:34:33.657Z"
   },
   {
    "duration": 50,
    "start_time": "2023-07-18T06:34:33.695Z"
   },
   {
    "duration": 247,
    "start_time": "2023-07-18T06:34:33.748Z"
   },
   {
    "duration": 321,
    "start_time": "2023-07-18T06:34:33.997Z"
   },
   {
    "duration": 20,
    "start_time": "2023-07-18T06:34:34.320Z"
   },
   {
    "duration": 1076,
    "start_time": "2023-07-18T06:34:34.342Z"
   },
   {
    "duration": 164,
    "start_time": "2023-07-18T06:34:35.420Z"
   },
   {
    "duration": 792,
    "start_time": "2023-07-18T06:34:35.586Z"
   },
   {
    "duration": 15,
    "start_time": "2023-07-18T06:34:36.380Z"
   },
   {
    "duration": 277,
    "start_time": "2023-07-18T06:34:36.396Z"
   },
   {
    "duration": 167,
    "start_time": "2023-07-18T06:34:36.674Z"
   },
   {
    "duration": 164,
    "start_time": "2023-07-18T06:34:36.843Z"
   },
   {
    "duration": 151,
    "start_time": "2023-07-18T06:34:37.009Z"
   },
   {
    "duration": 146,
    "start_time": "2023-07-18T06:34:37.164Z"
   },
   {
    "duration": 191,
    "start_time": "2023-07-18T06:34:37.312Z"
   },
   {
    "duration": 195,
    "start_time": "2023-07-18T06:34:37.505Z"
   },
   {
    "duration": 45,
    "start_time": "2023-07-18T06:34:37.702Z"
   },
   {
    "duration": 11,
    "start_time": "2023-07-18T06:34:37.749Z"
   },
   {
    "duration": 322,
    "start_time": "2023-07-18T06:34:37.762Z"
   },
   {
    "duration": 23,
    "start_time": "2023-07-18T06:34:38.086Z"
   },
   {
    "duration": 23,
    "start_time": "2023-07-18T06:34:38.110Z"
   },
   {
    "duration": 296,
    "start_time": "2023-07-18T06:34:38.135Z"
   },
   {
    "duration": 59,
    "start_time": "2023-07-18T06:34:38.434Z"
   },
   {
    "duration": 8,
    "start_time": "2023-07-18T06:34:38.495Z"
   },
   {
    "duration": 29,
    "start_time": "2023-07-18T06:34:38.505Z"
   },
   {
    "duration": 18,
    "start_time": "2023-07-18T06:34:38.536Z"
   },
   {
    "duration": 11,
    "start_time": "2023-07-18T06:36:40.686Z"
   },
   {
    "duration": 16,
    "start_time": "2023-07-18T06:37:01.556Z"
   },
   {
    "duration": 9,
    "start_time": "2023-07-18T06:37:04.536Z"
   },
   {
    "duration": 7,
    "start_time": "2023-07-18T06:40:55.455Z"
   },
   {
    "duration": 4,
    "start_time": "2023-07-18T06:41:34.554Z"
   },
   {
    "duration": 109,
    "start_time": "2023-07-18T06:41:34.561Z"
   },
   {
    "duration": 24,
    "start_time": "2023-07-18T06:41:34.672Z"
   },
   {
    "duration": 52,
    "start_time": "2023-07-18T06:41:34.698Z"
   },
   {
    "duration": 13,
    "start_time": "2023-07-18T06:41:34.753Z"
   },
   {
    "duration": 24,
    "start_time": "2023-07-18T06:41:34.768Z"
   },
   {
    "duration": 212,
    "start_time": "2023-07-18T06:41:34.794Z"
   },
   {
    "duration": 49,
    "start_time": "2023-07-18T06:41:35.008Z"
   },
   {
    "duration": 27,
    "start_time": "2023-07-18T06:41:35.060Z"
   },
   {
    "duration": 17,
    "start_time": "2023-07-18T06:41:35.089Z"
   },
   {
    "duration": 58,
    "start_time": "2023-07-18T06:41:35.107Z"
   },
   {
    "duration": 8,
    "start_time": "2023-07-18T06:41:35.167Z"
   },
   {
    "duration": 24,
    "start_time": "2023-07-18T06:41:35.177Z"
   },
   {
    "duration": 18,
    "start_time": "2023-07-18T06:41:35.203Z"
   },
   {
    "duration": 46,
    "start_time": "2023-07-18T06:41:35.223Z"
   },
   {
    "duration": 25,
    "start_time": "2023-07-18T06:41:35.271Z"
   },
   {
    "duration": 251,
    "start_time": "2023-07-18T06:41:35.299Z"
   },
   {
    "duration": 468,
    "start_time": "2023-07-18T06:41:35.552Z"
   },
   {
    "duration": 13,
    "start_time": "2023-07-18T06:41:36.021Z"
   },
   {
    "duration": 966,
    "start_time": "2023-07-18T06:41:36.036Z"
   },
   {
    "duration": 157,
    "start_time": "2023-07-18T06:41:37.004Z"
   },
   {
    "duration": 790,
    "start_time": "2023-07-18T06:41:37.162Z"
   },
   {
    "duration": 19,
    "start_time": "2023-07-18T06:41:37.954Z"
   },
   {
    "duration": 342,
    "start_time": "2023-07-18T06:41:37.978Z"
   },
   {
    "duration": 227,
    "start_time": "2023-07-18T06:41:38.331Z"
   },
   {
    "duration": 147,
    "start_time": "2023-07-18T06:41:38.560Z"
   },
   {
    "duration": 168,
    "start_time": "2023-07-18T06:41:38.709Z"
   },
   {
    "duration": 144,
    "start_time": "2023-07-18T06:41:38.878Z"
   },
   {
    "duration": 168,
    "start_time": "2023-07-18T06:41:39.024Z"
   },
   {
    "duration": 168,
    "start_time": "2023-07-18T06:41:39.194Z"
   },
   {
    "duration": 24,
    "start_time": "2023-07-18T06:41:39.364Z"
   },
   {
    "duration": 38,
    "start_time": "2023-07-18T06:41:39.390Z"
   },
   {
    "duration": 411,
    "start_time": "2023-07-18T06:41:39.430Z"
   },
   {
    "duration": 25,
    "start_time": "2023-07-18T06:41:39.843Z"
   },
   {
    "duration": 9,
    "start_time": "2023-07-18T06:41:39.870Z"
   },
   {
    "duration": 308,
    "start_time": "2023-07-18T06:41:39.881Z"
   },
   {
    "duration": 63,
    "start_time": "2023-07-18T06:41:40.191Z"
   },
   {
    "duration": 5,
    "start_time": "2023-07-18T06:41:40.256Z"
   },
   {
    "duration": 28,
    "start_time": "2023-07-18T06:41:40.263Z"
   },
   {
    "duration": 6,
    "start_time": "2023-07-18T06:42:51.215Z"
   },
   {
    "duration": 13,
    "start_time": "2023-07-18T06:43:51.939Z"
   },
   {
    "duration": 16,
    "start_time": "2023-07-18T06:44:04.222Z"
   },
   {
    "duration": 12,
    "start_time": "2023-07-18T06:44:58.678Z"
   },
   {
    "duration": 25,
    "start_time": "2023-07-18T06:45:38.930Z"
   },
   {
    "duration": 16,
    "start_time": "2023-07-18T06:45:51.270Z"
   },
   {
    "duration": 13,
    "start_time": "2023-07-18T06:46:16.311Z"
   },
   {
    "duration": 15,
    "start_time": "2023-07-18T06:46:40.507Z"
   },
   {
    "duration": 28,
    "start_time": "2023-07-18T06:46:43.130Z"
   },
   {
    "duration": 7,
    "start_time": "2023-07-18T06:46:58.188Z"
   },
   {
    "duration": 5,
    "start_time": "2023-07-18T06:47:09.053Z"
   },
   {
    "duration": 4,
    "start_time": "2023-07-18T06:47:10.579Z"
   },
   {
    "duration": 93,
    "start_time": "2023-07-18T06:47:10.585Z"
   },
   {
    "duration": 24,
    "start_time": "2023-07-18T06:47:10.680Z"
   },
   {
    "duration": 64,
    "start_time": "2023-07-18T06:47:10.707Z"
   },
   {
    "duration": 11,
    "start_time": "2023-07-18T06:47:10.773Z"
   },
   {
    "duration": 20,
    "start_time": "2023-07-18T06:47:10.786Z"
   },
   {
    "duration": 34,
    "start_time": "2023-07-18T06:47:10.808Z"
   },
   {
    "duration": 21,
    "start_time": "2023-07-18T06:47:10.845Z"
   },
   {
    "duration": 28,
    "start_time": "2023-07-18T06:47:10.868Z"
   },
   {
    "duration": 2,
    "start_time": "2023-07-18T06:47:10.902Z"
   },
   {
    "duration": 23,
    "start_time": "2023-07-18T06:47:10.907Z"
   },
   {
    "duration": 33,
    "start_time": "2023-07-18T06:47:10.933Z"
   },
   {
    "duration": 73,
    "start_time": "2023-07-18T06:47:10.969Z"
   },
   {
    "duration": 42,
    "start_time": "2023-07-18T06:47:11.044Z"
   },
   {
    "duration": 35,
    "start_time": "2023-07-18T06:47:11.088Z"
   },
   {
    "duration": 17,
    "start_time": "2023-07-18T06:47:11.125Z"
   },
   {
    "duration": 274,
    "start_time": "2023-07-18T06:47:11.144Z"
   },
   {
    "duration": 361,
    "start_time": "2023-07-18T06:47:11.421Z"
   },
   {
    "duration": 11,
    "start_time": "2023-07-18T06:47:11.784Z"
   },
   {
    "duration": 982,
    "start_time": "2023-07-18T06:47:11.797Z"
   },
   {
    "duration": 171,
    "start_time": "2023-07-18T06:47:12.781Z"
   },
   {
    "duration": 682,
    "start_time": "2023-07-18T06:47:12.954Z"
   },
   {
    "duration": 29,
    "start_time": "2023-07-18T06:47:13.638Z"
   },
   {
    "duration": 320,
    "start_time": "2023-07-18T06:47:13.669Z"
   },
   {
    "duration": 338,
    "start_time": "2023-07-18T06:47:13.991Z"
   },
   {
    "duration": 179,
    "start_time": "2023-07-18T06:47:14.332Z"
   },
   {
    "duration": 205,
    "start_time": "2023-07-18T06:47:14.514Z"
   },
   {
    "duration": 211,
    "start_time": "2023-07-18T06:47:14.725Z"
   },
   {
    "duration": 242,
    "start_time": "2023-07-18T06:47:14.937Z"
   },
   {
    "duration": 204,
    "start_time": "2023-07-18T06:47:15.181Z"
   },
   {
    "duration": 27,
    "start_time": "2023-07-18T06:47:15.387Z"
   },
   {
    "duration": 11,
    "start_time": "2023-07-18T06:47:15.432Z"
   },
   {
    "duration": 345,
    "start_time": "2023-07-18T06:47:15.446Z"
   },
   {
    "duration": 40,
    "start_time": "2023-07-18T06:47:15.793Z"
   },
   {
    "duration": 15,
    "start_time": "2023-07-18T06:47:15.835Z"
   },
   {
    "duration": 335,
    "start_time": "2023-07-18T06:47:15.852Z"
   },
   {
    "duration": 80,
    "start_time": "2023-07-18T06:47:16.189Z"
   },
   {
    "duration": 7,
    "start_time": "2023-07-18T06:47:16.271Z"
   },
   {
    "duration": 23,
    "start_time": "2023-07-18T06:47:16.281Z"
   },
   {
    "duration": 26,
    "start_time": "2023-07-18T06:47:16.306Z"
   },
   {
    "duration": 9,
    "start_time": "2023-07-18T06:48:12.751Z"
   },
   {
    "duration": 5,
    "start_time": "2023-07-18T06:49:02.302Z"
   },
   {
    "duration": 1314,
    "start_time": "2023-07-19T06:41:16.464Z"
   },
   {
    "duration": 451,
    "start_time": "2023-07-19T06:41:17.780Z"
   },
   {
    "duration": 16,
    "start_time": "2023-07-19T06:41:18.232Z"
   },
   {
    "duration": 25,
    "start_time": "2023-07-19T06:41:18.249Z"
   },
   {
    "duration": 8,
    "start_time": "2023-07-19T06:41:18.277Z"
   },
   {
    "duration": 27,
    "start_time": "2023-07-19T06:41:18.286Z"
   },
   {
    "duration": 28,
    "start_time": "2023-07-19T06:41:18.314Z"
   },
   {
    "duration": 13,
    "start_time": "2023-07-19T06:41:18.344Z"
   },
   {
    "duration": 21,
    "start_time": "2023-07-19T06:41:18.359Z"
   },
   {
    "duration": 6,
    "start_time": "2023-07-19T06:41:18.381Z"
   },
   {
    "duration": 15,
    "start_time": "2023-07-19T06:41:18.388Z"
   },
   {
    "duration": 6,
    "start_time": "2023-07-19T06:41:18.405Z"
   },
   {
    "duration": 14,
    "start_time": "2023-07-19T06:41:18.412Z"
   },
   {
    "duration": 16,
    "start_time": "2023-07-19T06:41:18.429Z"
   },
   {
    "duration": 27,
    "start_time": "2023-07-19T06:41:18.447Z"
   },
   {
    "duration": 17,
    "start_time": "2023-07-19T06:41:18.476Z"
   },
   {
    "duration": 228,
    "start_time": "2023-07-19T06:41:18.495Z"
   },
   {
    "duration": 300,
    "start_time": "2023-07-19T06:41:18.724Z"
   },
   {
    "duration": 7,
    "start_time": "2023-07-19T06:41:19.026Z"
   },
   {
    "duration": 891,
    "start_time": "2023-07-19T06:41:19.034Z"
   },
   {
    "duration": 144,
    "start_time": "2023-07-19T06:41:19.926Z"
   },
   {
    "duration": 587,
    "start_time": "2023-07-19T06:41:20.071Z"
   },
   {
    "duration": 18,
    "start_time": "2023-07-19T06:41:20.660Z"
   },
   {
    "duration": 314,
    "start_time": "2023-07-19T06:41:20.679Z"
   },
   {
    "duration": 172,
    "start_time": "2023-07-19T06:41:20.995Z"
   },
   {
    "duration": 145,
    "start_time": "2023-07-19T06:41:21.169Z"
   },
   {
    "duration": 139,
    "start_time": "2023-07-19T06:41:21.316Z"
   },
   {
    "duration": 139,
    "start_time": "2023-07-19T06:41:21.457Z"
   },
   {
    "duration": 198,
    "start_time": "2023-07-19T06:41:21.598Z"
   },
   {
    "duration": 182,
    "start_time": "2023-07-19T06:41:21.798Z"
   },
   {
    "duration": 24,
    "start_time": "2023-07-19T06:41:21.981Z"
   },
   {
    "duration": 8,
    "start_time": "2023-07-19T06:41:22.007Z"
   },
   {
    "duration": 305,
    "start_time": "2023-07-19T06:41:22.016Z"
   },
   {
    "duration": 46,
    "start_time": "2023-07-19T06:41:22.323Z"
   },
   {
    "duration": 9,
    "start_time": "2023-07-19T06:41:22.371Z"
   },
   {
    "duration": 299,
    "start_time": "2023-07-19T06:41:22.382Z"
   },
   {
    "duration": 43,
    "start_time": "2023-07-19T06:41:22.683Z"
   },
   {
    "duration": 107,
    "start_time": "2023-07-19T06:41:22.727Z"
   },
   {
    "duration": 0,
    "start_time": "2023-07-19T06:41:22.836Z"
   },
   {
    "duration": 0,
    "start_time": "2023-07-19T06:41:22.837Z"
   },
   {
    "duration": 0,
    "start_time": "2023-07-19T06:41:22.838Z"
   },
   {
    "duration": 43,
    "start_time": "2023-07-19T08:53:20.116Z"
   },
   {
    "duration": 1557,
    "start_time": "2023-07-19T08:53:35.030Z"
   },
   {
    "duration": 115,
    "start_time": "2023-07-19T08:53:36.589Z"
   },
   {
    "duration": 14,
    "start_time": "2023-07-19T08:53:36.705Z"
   },
   {
    "duration": 23,
    "start_time": "2023-07-19T08:53:36.720Z"
   },
   {
    "duration": 8,
    "start_time": "2023-07-19T08:53:36.745Z"
   },
   {
    "duration": 24,
    "start_time": "2023-07-19T08:53:36.754Z"
   },
   {
    "duration": 75,
    "start_time": "2023-07-19T08:53:36.779Z"
   },
   {
    "duration": 0,
    "start_time": "2023-07-19T08:53:36.856Z"
   },
   {
    "duration": 0,
    "start_time": "2023-07-19T08:53:36.857Z"
   },
   {
    "duration": 0,
    "start_time": "2023-07-19T08:53:36.858Z"
   },
   {
    "duration": 0,
    "start_time": "2023-07-19T08:53:36.858Z"
   },
   {
    "duration": 0,
    "start_time": "2023-07-19T08:53:36.859Z"
   },
   {
    "duration": 0,
    "start_time": "2023-07-19T08:53:36.860Z"
   },
   {
    "duration": 0,
    "start_time": "2023-07-19T08:53:36.861Z"
   },
   {
    "duration": 0,
    "start_time": "2023-07-19T08:53:36.862Z"
   },
   {
    "duration": 0,
    "start_time": "2023-07-19T08:53:36.863Z"
   },
   {
    "duration": 0,
    "start_time": "2023-07-19T08:53:36.863Z"
   },
   {
    "duration": 0,
    "start_time": "2023-07-19T08:53:36.864Z"
   },
   {
    "duration": 0,
    "start_time": "2023-07-19T08:53:36.865Z"
   },
   {
    "duration": 0,
    "start_time": "2023-07-19T08:53:36.865Z"
   },
   {
    "duration": 0,
    "start_time": "2023-07-19T08:53:36.866Z"
   },
   {
    "duration": 0,
    "start_time": "2023-07-19T08:53:36.867Z"
   },
   {
    "duration": 0,
    "start_time": "2023-07-19T08:53:36.868Z"
   },
   {
    "duration": 0,
    "start_time": "2023-07-19T08:53:36.869Z"
   },
   {
    "duration": 0,
    "start_time": "2023-07-19T08:53:36.869Z"
   },
   {
    "duration": 0,
    "start_time": "2023-07-19T08:53:36.870Z"
   },
   {
    "duration": 1,
    "start_time": "2023-07-19T08:53:36.870Z"
   },
   {
    "duration": 0,
    "start_time": "2023-07-19T08:53:36.899Z"
   },
   {
    "duration": 0,
    "start_time": "2023-07-19T08:53:36.900Z"
   },
   {
    "duration": 0,
    "start_time": "2023-07-19T08:53:36.901Z"
   },
   {
    "duration": 0,
    "start_time": "2023-07-19T08:53:36.902Z"
   },
   {
    "duration": 0,
    "start_time": "2023-07-19T08:53:36.903Z"
   },
   {
    "duration": 0,
    "start_time": "2023-07-19T08:53:36.903Z"
   },
   {
    "duration": 0,
    "start_time": "2023-07-19T08:53:36.904Z"
   },
   {
    "duration": 0,
    "start_time": "2023-07-19T08:53:36.904Z"
   },
   {
    "duration": 0,
    "start_time": "2023-07-19T08:53:36.905Z"
   },
   {
    "duration": 0,
    "start_time": "2023-07-19T08:53:36.906Z"
   },
   {
    "duration": 0,
    "start_time": "2023-07-19T08:53:36.906Z"
   },
   {
    "duration": 0,
    "start_time": "2023-07-19T08:53:36.907Z"
   },
   {
    "duration": 0,
    "start_time": "2023-07-19T08:53:36.908Z"
   },
   {
    "duration": 1,
    "start_time": "2023-07-19T08:53:36.908Z"
   },
   {
    "duration": 11,
    "start_time": "2023-07-19T08:53:51.387Z"
   },
   {
    "duration": 154,
    "start_time": "2023-07-19T09:01:18.544Z"
   },
   {
    "duration": 128,
    "start_time": "2023-07-19T09:01:20.363Z"
   },
   {
    "duration": 138,
    "start_time": "2023-07-19T09:01:35.527Z"
   },
   {
    "duration": 148,
    "start_time": "2023-07-19T09:01:48.059Z"
   },
   {
    "duration": 2,
    "start_time": "2023-07-19T13:08:08.387Z"
   },
   {
    "duration": 86,
    "start_time": "2023-07-19T13:08:08.391Z"
   },
   {
    "duration": 14,
    "start_time": "2023-07-19T13:08:08.478Z"
   },
   {
    "duration": 53,
    "start_time": "2023-07-19T13:08:08.493Z"
   },
   {
    "duration": 9,
    "start_time": "2023-07-19T13:08:08.549Z"
   },
   {
    "duration": 20,
    "start_time": "2023-07-19T13:08:08.559Z"
   },
   {
    "duration": 17,
    "start_time": "2023-07-19T13:08:08.580Z"
   },
   {
    "duration": 19,
    "start_time": "2023-07-19T13:08:08.605Z"
   },
   {
    "duration": 13,
    "start_time": "2023-07-19T13:08:08.625Z"
   },
   {
    "duration": 15,
    "start_time": "2023-07-19T13:08:08.640Z"
   },
   {
    "duration": 27,
    "start_time": "2023-07-19T13:08:08.658Z"
   },
   {
    "duration": 27,
    "start_time": "2023-07-19T13:08:08.686Z"
   },
   {
    "duration": 19,
    "start_time": "2023-07-19T13:08:08.717Z"
   },
   {
    "duration": 22,
    "start_time": "2023-07-19T13:08:08.737Z"
   },
   {
    "duration": 16,
    "start_time": "2023-07-19T13:08:08.761Z"
   },
   {
    "duration": 17,
    "start_time": "2023-07-19T13:08:08.779Z"
   },
   {
    "duration": 248,
    "start_time": "2023-07-19T13:08:08.798Z"
   },
   {
    "duration": 292,
    "start_time": "2023-07-19T13:08:09.047Z"
   },
   {
    "duration": 8,
    "start_time": "2023-07-19T13:08:09.340Z"
   },
   {
    "duration": 871,
    "start_time": "2023-07-19T13:08:09.349Z"
   },
   {
    "duration": 153,
    "start_time": "2023-07-19T13:08:10.222Z"
   },
   {
    "duration": 635,
    "start_time": "2023-07-19T13:08:10.376Z"
   },
   {
    "duration": 15,
    "start_time": "2023-07-19T13:08:11.018Z"
   },
   {
    "duration": 247,
    "start_time": "2023-07-19T13:08:11.035Z"
   },
   {
    "duration": 159,
    "start_time": "2023-07-19T13:08:11.284Z"
   },
   {
    "duration": 151,
    "start_time": "2023-07-19T13:08:11.445Z"
   },
   {
    "duration": 139,
    "start_time": "2023-07-19T13:08:11.598Z"
   },
   {
    "duration": 135,
    "start_time": "2023-07-19T13:08:11.740Z"
   },
   {
    "duration": 185,
    "start_time": "2023-07-19T13:08:11.878Z"
   },
   {
    "duration": 165,
    "start_time": "2023-07-19T13:08:12.064Z"
   },
   {
    "duration": 24,
    "start_time": "2023-07-19T13:08:12.230Z"
   },
   {
    "duration": 7,
    "start_time": "2023-07-19T13:08:12.255Z"
   },
   {
    "duration": 305,
    "start_time": "2023-07-19T13:08:12.264Z"
   },
   {
    "duration": 41,
    "start_time": "2023-07-19T13:08:12.570Z"
   },
   {
    "duration": 11,
    "start_time": "2023-07-19T13:08:12.613Z"
   },
   {
    "duration": 290,
    "start_time": "2023-07-19T13:08:12.625Z"
   },
   {
    "duration": 116,
    "start_time": "2023-07-19T13:08:12.916Z"
   },
   {
    "duration": 12,
    "start_time": "2023-07-19T13:08:13.034Z"
   },
   {
    "duration": 0,
    "start_time": "2023-07-19T13:08:13.047Z"
   },
   {
    "duration": 0,
    "start_time": "2023-07-19T13:08:13.049Z"
   },
   {
    "duration": 0,
    "start_time": "2023-07-19T13:08:13.050Z"
   },
   {
    "duration": 9,
    "start_time": "2023-07-19T13:10:14.718Z"
   },
   {
    "duration": 241,
    "start_time": "2023-07-19T13:10:25.877Z"
   },
   {
    "duration": 9,
    "start_time": "2023-07-19T13:11:09.089Z"
   },
   {
    "duration": 12,
    "start_time": "2023-07-19T13:11:15.338Z"
   },
   {
    "duration": 15,
    "start_time": "2023-07-19T13:11:31.878Z"
   },
   {
    "duration": 9,
    "start_time": "2023-07-19T13:11:56.589Z"
   },
   {
    "duration": 106,
    "start_time": "2023-07-19T13:12:12.781Z"
   },
   {
    "duration": 5,
    "start_time": "2023-07-19T13:13:32.555Z"
   },
   {
    "duration": 10,
    "start_time": "2023-07-19T13:14:06.084Z"
   },
   {
    "duration": 10,
    "start_time": "2023-07-19T13:14:53.241Z"
   },
   {
    "duration": 12,
    "start_time": "2023-07-19T13:15:10.129Z"
   },
   {
    "duration": 4,
    "start_time": "2023-07-19T13:15:29.286Z"
   },
   {
    "duration": 9,
    "start_time": "2023-07-19T13:15:34.766Z"
   },
   {
    "duration": 11,
    "start_time": "2023-07-19T13:16:09.626Z"
   },
   {
    "duration": 9,
    "start_time": "2023-07-19T13:17:34.433Z"
   },
   {
    "duration": 11,
    "start_time": "2023-07-19T13:17:38.964Z"
   },
   {
    "duration": 3,
    "start_time": "2023-07-19T13:18:16.815Z"
   },
   {
    "duration": 77,
    "start_time": "2023-07-19T13:18:16.820Z"
   },
   {
    "duration": 23,
    "start_time": "2023-07-19T13:18:16.899Z"
   },
   {
    "duration": 27,
    "start_time": "2023-07-19T13:18:16.928Z"
   },
   {
    "duration": 10,
    "start_time": "2023-07-19T13:18:16.957Z"
   },
   {
    "duration": 45,
    "start_time": "2023-07-19T13:18:16.969Z"
   },
   {
    "duration": 31,
    "start_time": "2023-07-19T13:18:17.016Z"
   },
   {
    "duration": 24,
    "start_time": "2023-07-19T13:18:17.049Z"
   },
   {
    "duration": 24,
    "start_time": "2023-07-19T13:18:17.075Z"
   },
   {
    "duration": 27,
    "start_time": "2023-07-19T13:18:17.102Z"
   },
   {
    "duration": 18,
    "start_time": "2023-07-19T13:18:17.131Z"
   },
   {
    "duration": 7,
    "start_time": "2023-07-19T13:18:17.151Z"
   },
   {
    "duration": 12,
    "start_time": "2023-07-19T13:18:17.159Z"
   },
   {
    "duration": 12,
    "start_time": "2023-07-19T13:18:17.173Z"
   },
   {
    "duration": 24,
    "start_time": "2023-07-19T13:18:17.187Z"
   },
   {
    "duration": 11,
    "start_time": "2023-07-19T13:18:17.212Z"
   },
   {
    "duration": 211,
    "start_time": "2023-07-19T13:18:17.224Z"
   },
   {
    "duration": 293,
    "start_time": "2023-07-19T13:18:17.437Z"
   },
   {
    "duration": 8,
    "start_time": "2023-07-19T13:18:17.732Z"
   },
   {
    "duration": 825,
    "start_time": "2023-07-19T13:18:17.741Z"
   },
   {
    "duration": 145,
    "start_time": "2023-07-19T13:18:18.568Z"
   },
   {
    "duration": 543,
    "start_time": "2023-07-19T13:18:18.715Z"
   },
   {
    "duration": 17,
    "start_time": "2023-07-19T13:18:19.260Z"
   },
   {
    "duration": 280,
    "start_time": "2023-07-19T13:18:19.279Z"
   },
   {
    "duration": 255,
    "start_time": "2023-07-19T13:18:19.561Z"
   },
   {
    "duration": 157,
    "start_time": "2023-07-19T13:18:19.818Z"
   },
   {
    "duration": 145,
    "start_time": "2023-07-19T13:18:19.977Z"
   },
   {
    "duration": 148,
    "start_time": "2023-07-19T13:18:20.126Z"
   },
   {
    "duration": 168,
    "start_time": "2023-07-19T13:18:20.276Z"
   },
   {
    "duration": 180,
    "start_time": "2023-07-19T13:18:20.445Z"
   },
   {
    "duration": 25,
    "start_time": "2023-07-19T13:18:20.627Z"
   },
   {
    "duration": 34,
    "start_time": "2023-07-19T13:18:20.654Z"
   },
   {
    "duration": 348,
    "start_time": "2023-07-19T13:18:20.690Z"
   },
   {
    "duration": 25,
    "start_time": "2023-07-19T13:18:21.040Z"
   },
   {
    "duration": 8,
    "start_time": "2023-07-19T13:18:21.067Z"
   },
   {
    "duration": 341,
    "start_time": "2023-07-19T13:18:21.076Z"
   },
   {
    "duration": 42,
    "start_time": "2023-07-19T13:18:21.418Z"
   },
   {
    "duration": 8,
    "start_time": "2023-07-19T13:18:21.462Z"
   },
   {
    "duration": 42,
    "start_time": "2023-07-19T13:18:21.471Z"
   },
   {
    "duration": 6,
    "start_time": "2023-07-19T13:18:21.517Z"
   },
   {
    "duration": 18,
    "start_time": "2023-07-19T13:18:21.525Z"
   },
   {
    "duration": 24,
    "start_time": "2023-07-19T13:18:21.545Z"
   },
   {
    "duration": 6,
    "start_time": "2023-07-19T13:18:21.571Z"
   },
   {
    "duration": 8,
    "start_time": "2023-07-19T13:18:36.297Z"
   },
   {
    "duration": 7,
    "start_time": "2023-07-19T13:20:03.696Z"
   },
   {
    "duration": 6,
    "start_time": "2023-07-19T13:22:12.367Z"
   },
   {
    "duration": 4,
    "start_time": "2023-07-19T13:22:16.053Z"
   },
   {
    "duration": 84,
    "start_time": "2023-07-19T13:22:16.059Z"
   },
   {
    "duration": 17,
    "start_time": "2023-07-19T13:22:16.144Z"
   },
   {
    "duration": 47,
    "start_time": "2023-07-19T13:22:16.163Z"
   },
   {
    "duration": 9,
    "start_time": "2023-07-19T13:22:16.212Z"
   },
   {
    "duration": 27,
    "start_time": "2023-07-19T13:22:16.223Z"
   },
   {
    "duration": 17,
    "start_time": "2023-07-19T13:22:16.251Z"
   },
   {
    "duration": 13,
    "start_time": "2023-07-19T13:22:16.270Z"
   },
   {
    "duration": 22,
    "start_time": "2023-07-19T13:22:16.285Z"
   },
   {
    "duration": 5,
    "start_time": "2023-07-19T13:22:16.310Z"
   },
   {
    "duration": 13,
    "start_time": "2023-07-19T13:22:16.317Z"
   },
   {
    "duration": 12,
    "start_time": "2023-07-19T13:22:16.332Z"
   },
   {
    "duration": 22,
    "start_time": "2023-07-19T13:22:16.346Z"
   },
   {
    "duration": 17,
    "start_time": "2023-07-19T13:22:16.370Z"
   },
   {
    "duration": 26,
    "start_time": "2023-07-19T13:22:16.388Z"
   },
   {
    "duration": 11,
    "start_time": "2023-07-19T13:22:16.416Z"
   },
   {
    "duration": 209,
    "start_time": "2023-07-19T13:22:16.429Z"
   },
   {
    "duration": 372,
    "start_time": "2023-07-19T13:22:16.640Z"
   },
   {
    "duration": 8,
    "start_time": "2023-07-19T13:22:17.014Z"
   },
   {
    "duration": 779,
    "start_time": "2023-07-19T13:22:17.023Z"
   },
   {
    "duration": 132,
    "start_time": "2023-07-19T13:22:17.803Z"
   },
   {
    "duration": 522,
    "start_time": "2023-07-19T13:22:17.937Z"
   },
   {
    "duration": 14,
    "start_time": "2023-07-19T13:22:18.461Z"
   },
   {
    "duration": 244,
    "start_time": "2023-07-19T13:22:18.477Z"
   },
   {
    "duration": 151,
    "start_time": "2023-07-19T13:22:18.723Z"
   },
   {
    "duration": 143,
    "start_time": "2023-07-19T13:22:18.875Z"
   },
   {
    "duration": 146,
    "start_time": "2023-07-19T13:22:19.020Z"
   },
   {
    "duration": 135,
    "start_time": "2023-07-19T13:22:19.169Z"
   },
   {
    "duration": 151,
    "start_time": "2023-07-19T13:22:19.306Z"
   },
   {
    "duration": 249,
    "start_time": "2023-07-19T13:22:19.458Z"
   },
   {
    "duration": 22,
    "start_time": "2023-07-19T13:22:19.709Z"
   },
   {
    "duration": 6,
    "start_time": "2023-07-19T13:22:19.732Z"
   },
   {
    "duration": 299,
    "start_time": "2023-07-19T13:22:19.740Z"
   },
   {
    "duration": 23,
    "start_time": "2023-07-19T13:22:20.040Z"
   },
   {
    "duration": 8,
    "start_time": "2023-07-19T13:22:20.064Z"
   },
   {
    "duration": 293,
    "start_time": "2023-07-19T13:22:20.073Z"
   },
   {
    "duration": 52,
    "start_time": "2023-07-19T13:22:20.367Z"
   },
   {
    "duration": 7,
    "start_time": "2023-07-19T13:22:20.420Z"
   },
   {
    "duration": 10,
    "start_time": "2023-07-19T13:22:20.429Z"
   },
   {
    "duration": 6,
    "start_time": "2023-07-19T13:22:20.441Z"
   },
   {
    "duration": 11,
    "start_time": "2023-07-19T13:22:20.449Z"
   },
   {
    "duration": 13,
    "start_time": "2023-07-19T13:22:20.462Z"
   },
   {
    "duration": 48,
    "start_time": "2023-07-19T13:22:20.476Z"
   },
   {
    "duration": 21,
    "start_time": "2023-07-19T13:22:20.525Z"
   },
   {
    "duration": 4,
    "start_time": "2023-07-19T13:22:20.547Z"
   },
   {
    "duration": 24,
    "start_time": "2023-07-19T13:22:20.552Z"
   },
   {
    "duration": 6,
    "start_time": "2023-07-19T13:25:10.658Z"
   },
   {
    "duration": 11,
    "start_time": "2023-07-19T13:25:45.028Z"
   },
   {
    "duration": 4,
    "start_time": "2023-07-19T13:27:29.999Z"
   },
   {
    "duration": 3,
    "start_time": "2023-07-19T13:28:03.553Z"
   },
   {
    "duration": 70,
    "start_time": "2023-07-19T13:28:03.558Z"
   },
   {
    "duration": 13,
    "start_time": "2023-07-19T13:28:03.629Z"
   },
   {
    "duration": 30,
    "start_time": "2023-07-19T13:28:03.644Z"
   },
   {
    "duration": 16,
    "start_time": "2023-07-19T13:28:03.675Z"
   },
   {
    "duration": 44,
    "start_time": "2023-07-19T13:28:03.692Z"
   },
   {
    "duration": 26,
    "start_time": "2023-07-19T13:28:03.738Z"
   },
   {
    "duration": 64,
    "start_time": "2023-07-19T13:28:03.766Z"
   },
   {
    "duration": 26,
    "start_time": "2023-07-19T13:28:03.831Z"
   },
   {
    "duration": 13,
    "start_time": "2023-07-19T13:28:03.858Z"
   },
   {
    "duration": 35,
    "start_time": "2023-07-19T13:28:03.873Z"
   },
   {
    "duration": 19,
    "start_time": "2023-07-19T13:28:03.909Z"
   },
   {
    "duration": 32,
    "start_time": "2023-07-19T13:28:03.929Z"
   },
   {
    "duration": 38,
    "start_time": "2023-07-19T13:28:03.963Z"
   },
   {
    "duration": 30,
    "start_time": "2023-07-19T13:28:04.002Z"
   },
   {
    "duration": 39,
    "start_time": "2023-07-19T13:28:04.034Z"
   },
   {
    "duration": 205,
    "start_time": "2023-07-19T13:28:04.075Z"
   },
   {
    "duration": 270,
    "start_time": "2023-07-19T13:28:04.281Z"
   },
   {
    "duration": 6,
    "start_time": "2023-07-19T13:28:04.553Z"
   },
   {
    "duration": 779,
    "start_time": "2023-07-19T13:28:04.560Z"
   },
   {
    "duration": 149,
    "start_time": "2023-07-19T13:28:05.341Z"
   },
   {
    "duration": 619,
    "start_time": "2023-07-19T13:28:05.492Z"
   },
   {
    "duration": 12,
    "start_time": "2023-07-19T13:28:06.113Z"
   },
   {
    "duration": 289,
    "start_time": "2023-07-19T13:28:06.126Z"
   },
   {
    "duration": 146,
    "start_time": "2023-07-19T13:28:06.417Z"
   },
   {
    "duration": 142,
    "start_time": "2023-07-19T13:28:06.564Z"
   },
   {
    "duration": 130,
    "start_time": "2023-07-19T13:28:06.708Z"
   },
   {
    "duration": 131,
    "start_time": "2023-07-19T13:28:06.840Z"
   },
   {
    "duration": 145,
    "start_time": "2023-07-19T13:28:06.972Z"
   },
   {
    "duration": 148,
    "start_time": "2023-07-19T13:28:07.118Z"
   },
   {
    "duration": 21,
    "start_time": "2023-07-19T13:28:07.267Z"
   },
   {
    "duration": 15,
    "start_time": "2023-07-19T13:28:07.289Z"
   },
   {
    "duration": 285,
    "start_time": "2023-07-19T13:28:07.305Z"
   },
   {
    "duration": 26,
    "start_time": "2023-07-19T13:28:07.591Z"
   },
   {
    "duration": 13,
    "start_time": "2023-07-19T13:28:07.619Z"
   },
   {
    "duration": 257,
    "start_time": "2023-07-19T13:28:07.633Z"
   },
   {
    "duration": 38,
    "start_time": "2023-07-19T13:28:07.891Z"
   },
   {
    "duration": 5,
    "start_time": "2023-07-19T13:28:07.931Z"
   },
   {
    "duration": 44,
    "start_time": "2023-07-19T13:28:07.937Z"
   },
   {
    "duration": 30,
    "start_time": "2023-07-19T13:28:07.983Z"
   },
   {
    "duration": 10,
    "start_time": "2023-07-19T13:34:54.064Z"
   },
   {
    "duration": 112,
    "start_time": "2023-07-19T13:35:10.542Z"
   },
   {
    "duration": 2043,
    "start_time": "2023-07-19T13:36:24.230Z"
   },
   {
    "duration": 118,
    "start_time": "2023-07-19T13:36:42.817Z"
   },
   {
    "duration": 124,
    "start_time": "2023-07-19T13:38:16.820Z"
   },
   {
    "duration": 10,
    "start_time": "2023-07-19T13:38:24.111Z"
   },
   {
    "duration": 232,
    "start_time": "2023-07-19T13:39:01.112Z"
   },
   {
    "duration": 7,
    "start_time": "2023-07-19T13:49:46.064Z"
   },
   {
    "duration": 8,
    "start_time": "2023-07-19T13:58:25.166Z"
   },
   {
    "duration": 94,
    "start_time": "2023-07-19T13:58:28.296Z"
   },
   {
    "duration": 1951,
    "start_time": "2023-07-19T13:58:40.093Z"
   },
   {
    "duration": 2169,
    "start_time": "2023-07-19T13:58:53.065Z"
   },
   {
    "duration": 7,
    "start_time": "2023-07-19T13:58:56.877Z"
   },
   {
    "duration": 2322,
    "start_time": "2023-07-19T13:59:07.666Z"
   },
   {
    "duration": 4,
    "start_time": "2023-07-19T13:59:43.994Z"
   },
   {
    "duration": 10,
    "start_time": "2023-07-19T13:59:48.338Z"
   },
   {
    "duration": 8,
    "start_time": "2023-07-19T14:01:17.609Z"
   },
   {
    "duration": 7,
    "start_time": "2023-07-19T14:01:47.384Z"
   },
   {
    "duration": 124,
    "start_time": "2023-07-19T14:02:49.996Z"
   },
   {
    "duration": 256,
    "start_time": "2023-07-19T14:03:21.894Z"
   },
   {
    "duration": 16,
    "start_time": "2023-07-19T14:04:37.889Z"
   },
   {
    "duration": 7,
    "start_time": "2023-07-19T14:05:26.535Z"
   },
   {
    "duration": 9,
    "start_time": "2023-07-19T14:08:11.617Z"
   },
   {
    "duration": 8,
    "start_time": "2023-07-19T14:09:16.026Z"
   },
   {
    "duration": 10,
    "start_time": "2023-07-19T14:09:31.229Z"
   },
   {
    "duration": 92,
    "start_time": "2023-07-19T14:11:29.573Z"
   },
   {
    "duration": 13,
    "start_time": "2023-07-19T14:11:42.588Z"
   },
   {
    "duration": 5,
    "start_time": "2023-07-19T14:13:49.445Z"
   },
   {
    "duration": 13,
    "start_time": "2023-07-19T14:14:01.325Z"
   },
   {
    "duration": 15,
    "start_time": "2023-07-19T14:15:52.332Z"
   },
   {
    "duration": 10,
    "start_time": "2023-07-19T14:16:05.153Z"
   },
   {
    "duration": 5,
    "start_time": "2023-07-19T14:16:11.740Z"
   },
   {
    "duration": 9,
    "start_time": "2023-07-19T14:16:15.448Z"
   },
   {
    "duration": 12,
    "start_time": "2023-07-19T14:17:10.977Z"
   },
   {
    "duration": 2,
    "start_time": "2023-07-19T14:17:15.866Z"
   },
   {
    "duration": 64,
    "start_time": "2023-07-19T14:17:15.871Z"
   },
   {
    "duration": 16,
    "start_time": "2023-07-19T14:17:15.937Z"
   },
   {
    "duration": 60,
    "start_time": "2023-07-19T14:17:15.957Z"
   },
   {
    "duration": 23,
    "start_time": "2023-07-19T14:17:16.020Z"
   },
   {
    "duration": 68,
    "start_time": "2023-07-19T14:17:16.045Z"
   },
   {
    "duration": 25,
    "start_time": "2023-07-19T14:17:16.115Z"
   },
   {
    "duration": 6,
    "start_time": "2023-07-19T14:17:16.218Z"
   },
   {
    "duration": 45,
    "start_time": "2023-07-19T14:17:16.226Z"
   },
   {
    "duration": 2,
    "start_time": "2023-07-19T14:17:16.523Z"
   },
   {
    "duration": 45,
    "start_time": "2023-07-19T14:17:16.526Z"
   },
   {
    "duration": 22,
    "start_time": "2023-07-19T14:17:16.572Z"
   },
   {
    "duration": 23,
    "start_time": "2023-07-19T14:17:16.595Z"
   },
   {
    "duration": 21,
    "start_time": "2023-07-19T14:17:16.620Z"
   },
   {
    "duration": 32,
    "start_time": "2023-07-19T14:17:16.644Z"
   },
   {
    "duration": 22,
    "start_time": "2023-07-19T14:17:16.678Z"
   },
   {
    "duration": 16,
    "start_time": "2023-07-19T14:17:16.701Z"
   },
   {
    "duration": 29,
    "start_time": "2023-07-19T14:17:16.720Z"
   },
   {
    "duration": 4,
    "start_time": "2023-07-19T14:17:17.051Z"
   },
   {
    "duration": 29,
    "start_time": "2023-07-19T14:17:17.057Z"
   },
   {
    "duration": 222,
    "start_time": "2023-07-19T14:17:17.087Z"
   },
   {
    "duration": 291,
    "start_time": "2023-07-19T14:17:17.310Z"
   },
   {
    "duration": 6,
    "start_time": "2023-07-19T14:17:17.603Z"
   },
   {
    "duration": 806,
    "start_time": "2023-07-19T14:17:17.610Z"
   },
   {
    "duration": 129,
    "start_time": "2023-07-19T14:17:18.417Z"
   },
   {
    "duration": 524,
    "start_time": "2023-07-19T14:17:18.548Z"
   },
   {
    "duration": 14,
    "start_time": "2023-07-19T14:17:19.074Z"
   },
   {
    "duration": 241,
    "start_time": "2023-07-19T14:17:19.089Z"
   },
   {
    "duration": 234,
    "start_time": "2023-07-19T14:17:19.331Z"
   },
   {
    "duration": 145,
    "start_time": "2023-07-19T14:17:19.566Z"
   },
   {
    "duration": 134,
    "start_time": "2023-07-19T14:17:19.712Z"
   },
   {
    "duration": 135,
    "start_time": "2023-07-19T14:17:19.849Z"
   },
   {
    "duration": 167,
    "start_time": "2023-07-19T14:17:19.985Z"
   },
   {
    "duration": 164,
    "start_time": "2023-07-19T14:17:20.154Z"
   },
   {
    "duration": 23,
    "start_time": "2023-07-19T14:17:20.320Z"
   },
   {
    "duration": 8,
    "start_time": "2023-07-19T14:17:20.344Z"
   },
   {
    "duration": 145,
    "start_time": "2023-07-19T14:17:20.354Z"
   },
   {
    "duration": 310,
    "start_time": "2023-07-19T14:17:20.501Z"
   },
   {
    "duration": 26,
    "start_time": "2023-07-19T14:17:20.813Z"
   },
   {
    "duration": 25,
    "start_time": "2023-07-19T14:17:20.841Z"
   },
   {
    "duration": 312,
    "start_time": "2023-07-19T14:17:20.868Z"
   },
   {
    "duration": 53,
    "start_time": "2023-07-19T14:17:21.182Z"
   },
   {
    "duration": 7,
    "start_time": "2023-07-19T14:17:21.236Z"
   },
   {
    "duration": 35,
    "start_time": "2023-07-19T14:17:21.246Z"
   },
   {
    "duration": 20,
    "start_time": "2023-07-19T14:17:21.283Z"
   },
   {
    "duration": 4,
    "start_time": "2023-07-19T14:18:21.098Z"
   },
   {
    "duration": 81,
    "start_time": "2023-07-19T14:18:21.104Z"
   },
   {
    "duration": 14,
    "start_time": "2023-07-19T14:18:21.187Z"
   },
   {
    "duration": 44,
    "start_time": "2023-07-19T14:18:21.203Z"
   },
   {
    "duration": 15,
    "start_time": "2023-07-19T14:18:21.249Z"
   },
   {
    "duration": 25,
    "start_time": "2023-07-19T14:18:21.266Z"
   },
   {
    "duration": 13,
    "start_time": "2023-07-19T14:18:21.293Z"
   },
   {
    "duration": 30,
    "start_time": "2023-07-19T14:18:21.308Z"
   },
   {
    "duration": 14,
    "start_time": "2023-07-19T14:18:21.339Z"
   },
   {
    "duration": 3,
    "start_time": "2023-07-19T14:18:21.355Z"
   },
   {
    "duration": 43,
    "start_time": "2023-07-19T14:18:21.360Z"
   },
   {
    "duration": 10,
    "start_time": "2023-07-19T14:18:21.404Z"
   },
   {
    "duration": 19,
    "start_time": "2023-07-19T14:18:21.415Z"
   },
   {
    "duration": 29,
    "start_time": "2023-07-19T14:18:21.435Z"
   },
   {
    "duration": 32,
    "start_time": "2023-07-19T14:18:21.467Z"
   },
   {
    "duration": 19,
    "start_time": "2023-07-19T14:18:21.500Z"
   },
   {
    "duration": 21,
    "start_time": "2023-07-19T14:18:21.521Z"
   },
   {
    "duration": 18,
    "start_time": "2023-07-19T14:18:21.544Z"
   },
   {
    "duration": 30,
    "start_time": "2023-07-19T14:18:21.564Z"
   },
   {
    "duration": 22,
    "start_time": "2023-07-19T14:18:21.596Z"
   },
   {
    "duration": 242,
    "start_time": "2023-07-19T14:18:21.620Z"
   },
   {
    "duration": 408,
    "start_time": "2023-07-19T14:18:21.863Z"
   },
   {
    "duration": 7,
    "start_time": "2023-07-19T14:18:22.273Z"
   },
   {
    "duration": 836,
    "start_time": "2023-07-19T14:18:22.282Z"
   },
   {
    "duration": 156,
    "start_time": "2023-07-19T14:18:23.119Z"
   },
   {
    "duration": 601,
    "start_time": "2023-07-19T14:18:23.276Z"
   },
   {
    "duration": 21,
    "start_time": "2023-07-19T14:18:23.880Z"
   },
   {
    "duration": 258,
    "start_time": "2023-07-19T14:18:23.903Z"
   },
   {
    "duration": 172,
    "start_time": "2023-07-19T14:18:24.162Z"
   },
   {
    "duration": 163,
    "start_time": "2023-07-19T14:18:24.336Z"
   },
   {
    "duration": 149,
    "start_time": "2023-07-19T14:18:24.501Z"
   },
   {
    "duration": 141,
    "start_time": "2023-07-19T14:18:24.652Z"
   },
   {
    "duration": 159,
    "start_time": "2023-07-19T14:18:24.799Z"
   },
   {
    "duration": 166,
    "start_time": "2023-07-19T14:18:24.960Z"
   },
   {
    "duration": 25,
    "start_time": "2023-07-19T14:18:25.128Z"
   },
   {
    "duration": 8,
    "start_time": "2023-07-19T14:18:25.155Z"
   },
   {
    "duration": 258,
    "start_time": "2023-07-19T14:18:25.165Z"
   },
   {
    "duration": 306,
    "start_time": "2023-07-19T14:18:25.425Z"
   },
   {
    "duration": 25,
    "start_time": "2023-07-19T14:18:25.733Z"
   },
   {
    "duration": 7,
    "start_time": "2023-07-19T14:18:25.759Z"
   },
   {
    "duration": 314,
    "start_time": "2023-07-19T14:18:25.768Z"
   },
   {
    "duration": 60,
    "start_time": "2023-07-19T14:18:26.084Z"
   },
   {
    "duration": 8,
    "start_time": "2023-07-19T14:18:26.146Z"
   },
   {
    "duration": 16,
    "start_time": "2023-07-19T14:18:26.158Z"
   },
   {
    "duration": 7,
    "start_time": "2023-07-19T14:18:26.175Z"
   },
   {
    "duration": 12,
    "start_time": "2023-07-19T14:19:07.253Z"
   },
   {
    "duration": 267,
    "start_time": "2023-07-19T14:27:26.316Z"
   },
   {
    "duration": 50,
    "start_time": "2023-07-20T09:40:12.100Z"
   },
   {
    "duration": 8,
    "start_time": "2023-07-20T09:40:40.931Z"
   },
   {
    "duration": 1339,
    "start_time": "2023-07-20T09:40:53.955Z"
   },
   {
    "duration": 104,
    "start_time": "2023-07-20T09:40:55.297Z"
   },
   {
    "duration": 15,
    "start_time": "2023-07-20T09:40:55.403Z"
   },
   {
    "duration": 28,
    "start_time": "2023-07-20T09:40:55.421Z"
   },
   {
    "duration": 11,
    "start_time": "2023-07-20T09:40:55.451Z"
   },
   {
    "duration": 21,
    "start_time": "2023-07-20T09:40:55.464Z"
   },
   {
    "duration": 23,
    "start_time": "2023-07-20T09:40:55.486Z"
   },
   {
    "duration": 26,
    "start_time": "2023-07-20T09:40:55.521Z"
   },
   {
    "duration": 32,
    "start_time": "2023-07-20T09:40:55.549Z"
   },
   {
    "duration": 24,
    "start_time": "2023-07-20T09:40:55.584Z"
   },
   {
    "duration": 22,
    "start_time": "2023-07-20T09:40:55.610Z"
   },
   {
    "duration": 6,
    "start_time": "2023-07-20T09:40:55.633Z"
   },
   {
    "duration": 10,
    "start_time": "2023-07-20T09:40:55.641Z"
   },
   {
    "duration": 18,
    "start_time": "2023-07-20T09:40:55.652Z"
   },
   {
    "duration": 14,
    "start_time": "2023-07-20T09:40:55.672Z"
   },
   {
    "duration": 33,
    "start_time": "2023-07-20T09:40:55.688Z"
   },
   {
    "duration": 62,
    "start_time": "2023-07-20T09:40:55.722Z"
   },
   {
    "duration": 8,
    "start_time": "2023-07-20T09:40:55.786Z"
   },
   {
    "duration": 64,
    "start_time": "2023-07-20T09:40:55.796Z"
   },
   {
    "duration": 227,
    "start_time": "2023-07-20T09:40:55.862Z"
   },
   {
    "duration": 320,
    "start_time": "2023-07-20T09:40:56.091Z"
   },
   {
    "duration": 12,
    "start_time": "2023-07-20T09:40:56.412Z"
   },
   {
    "duration": 909,
    "start_time": "2023-07-20T09:40:56.426Z"
   },
   {
    "duration": 144,
    "start_time": "2023-07-20T09:40:57.337Z"
   },
   {
    "duration": 600,
    "start_time": "2023-07-20T09:40:57.483Z"
   },
   {
    "duration": 15,
    "start_time": "2023-07-20T09:40:58.084Z"
   },
   {
    "duration": 349,
    "start_time": "2023-07-20T09:40:58.100Z"
   },
   {
    "duration": 219,
    "start_time": "2023-07-20T09:40:58.452Z"
   },
   {
    "duration": 0,
    "start_time": "2023-07-20T09:40:58.673Z"
   },
   {
    "duration": 0,
    "start_time": "2023-07-20T09:40:58.674Z"
   },
   {
    "duration": 0,
    "start_time": "2023-07-20T09:40:58.675Z"
   },
   {
    "duration": 0,
    "start_time": "2023-07-20T09:40:58.676Z"
   },
   {
    "duration": 0,
    "start_time": "2023-07-20T09:40:58.677Z"
   },
   {
    "duration": 0,
    "start_time": "2023-07-20T09:40:58.679Z"
   },
   {
    "duration": 0,
    "start_time": "2023-07-20T09:40:58.680Z"
   },
   {
    "duration": 0,
    "start_time": "2023-07-20T09:40:58.681Z"
   },
   {
    "duration": 0,
    "start_time": "2023-07-20T09:40:58.682Z"
   },
   {
    "duration": 0,
    "start_time": "2023-07-20T09:40:58.683Z"
   },
   {
    "duration": 0,
    "start_time": "2023-07-20T09:40:58.684Z"
   },
   {
    "duration": 0,
    "start_time": "2023-07-20T09:40:58.686Z"
   },
   {
    "duration": 0,
    "start_time": "2023-07-20T09:40:58.687Z"
   },
   {
    "duration": 0,
    "start_time": "2023-07-20T09:40:58.688Z"
   },
   {
    "duration": 0,
    "start_time": "2023-07-20T09:40:58.690Z"
   },
   {
    "duration": 0,
    "start_time": "2023-07-20T09:40:58.691Z"
   },
   {
    "duration": 4,
    "start_time": "2023-07-20T09:42:07.095Z"
   },
   {
    "duration": 132,
    "start_time": "2023-07-20T09:42:07.102Z"
   },
   {
    "duration": 49,
    "start_time": "2023-07-20T09:42:07.236Z"
   },
   {
    "duration": 45,
    "start_time": "2023-07-20T09:42:07.287Z"
   },
   {
    "duration": 32,
    "start_time": "2023-07-20T09:42:07.333Z"
   },
   {
    "duration": 49,
    "start_time": "2023-07-20T09:42:07.367Z"
   },
   {
    "duration": 44,
    "start_time": "2023-07-20T09:42:07.417Z"
   },
   {
    "duration": 31,
    "start_time": "2023-07-20T09:42:07.463Z"
   },
   {
    "duration": 66,
    "start_time": "2023-07-20T09:42:07.496Z"
   },
   {
    "duration": 26,
    "start_time": "2023-07-20T09:42:07.564Z"
   },
   {
    "duration": 99,
    "start_time": "2023-07-20T09:42:07.592Z"
   },
   {
    "duration": 35,
    "start_time": "2023-07-20T09:42:07.693Z"
   },
   {
    "duration": 43,
    "start_time": "2023-07-20T09:42:07.730Z"
   },
   {
    "duration": 55,
    "start_time": "2023-07-20T09:42:07.774Z"
   },
   {
    "duration": 98,
    "start_time": "2023-07-20T09:42:07.831Z"
   },
   {
    "duration": 20,
    "start_time": "2023-07-20T09:42:07.931Z"
   },
   {
    "duration": 42,
    "start_time": "2023-07-20T09:42:07.953Z"
   },
   {
    "duration": 17,
    "start_time": "2023-07-20T09:42:07.996Z"
   },
   {
    "duration": 43,
    "start_time": "2023-07-20T09:42:08.014Z"
   },
   {
    "duration": 254,
    "start_time": "2023-07-20T09:42:08.059Z"
   },
   {
    "duration": 317,
    "start_time": "2023-07-20T09:42:08.314Z"
   },
   {
    "duration": 8,
    "start_time": "2023-07-20T09:42:08.633Z"
   },
   {
    "duration": 910,
    "start_time": "2023-07-20T09:42:08.644Z"
   },
   {
    "duration": 155,
    "start_time": "2023-07-20T09:42:09.556Z"
   },
   {
    "duration": 607,
    "start_time": "2023-07-20T09:42:09.713Z"
   },
   {
    "duration": 16,
    "start_time": "2023-07-20T09:42:10.322Z"
   },
   {
    "duration": 386,
    "start_time": "2023-07-20T09:42:10.340Z"
   },
   {
    "duration": 2069,
    "start_time": "2023-07-20T09:42:10.728Z"
   },
   {
    "duration": 0,
    "start_time": "2023-07-20T09:42:12.799Z"
   },
   {
    "duration": 0,
    "start_time": "2023-07-20T09:42:12.800Z"
   },
   {
    "duration": 0,
    "start_time": "2023-07-20T09:42:12.802Z"
   },
   {
    "duration": 0,
    "start_time": "2023-07-20T09:42:12.804Z"
   },
   {
    "duration": 0,
    "start_time": "2023-07-20T09:42:12.805Z"
   },
   {
    "duration": 0,
    "start_time": "2023-07-20T09:42:12.820Z"
   },
   {
    "duration": 0,
    "start_time": "2023-07-20T09:42:12.822Z"
   },
   {
    "duration": 0,
    "start_time": "2023-07-20T09:42:12.822Z"
   },
   {
    "duration": 0,
    "start_time": "2023-07-20T09:42:12.824Z"
   },
   {
    "duration": 0,
    "start_time": "2023-07-20T09:42:12.824Z"
   },
   {
    "duration": 0,
    "start_time": "2023-07-20T09:42:12.825Z"
   },
   {
    "duration": 0,
    "start_time": "2023-07-20T09:42:12.826Z"
   },
   {
    "duration": 0,
    "start_time": "2023-07-20T09:42:12.827Z"
   },
   {
    "duration": 0,
    "start_time": "2023-07-20T09:42:12.829Z"
   },
   {
    "duration": 0,
    "start_time": "2023-07-20T09:42:12.830Z"
   },
   {
    "duration": 0,
    "start_time": "2023-07-20T09:42:12.832Z"
   },
   {
    "duration": 4,
    "start_time": "2023-07-20T09:43:30.756Z"
   },
   {
    "duration": 113,
    "start_time": "2023-07-20T09:43:30.761Z"
   },
   {
    "duration": 34,
    "start_time": "2023-07-20T09:43:30.876Z"
   },
   {
    "duration": 63,
    "start_time": "2023-07-20T09:43:30.912Z"
   },
   {
    "duration": 29,
    "start_time": "2023-07-20T09:43:30.977Z"
   },
   {
    "duration": 54,
    "start_time": "2023-07-20T09:43:31.007Z"
   },
   {
    "duration": 72,
    "start_time": "2023-07-20T09:43:31.063Z"
   },
   {
    "duration": 40,
    "start_time": "2023-07-20T09:43:31.137Z"
   },
   {
    "duration": 75,
    "start_time": "2023-07-20T09:43:31.179Z"
   },
   {
    "duration": 59,
    "start_time": "2023-07-20T09:43:31.258Z"
   },
   {
    "duration": 51,
    "start_time": "2023-07-20T09:43:31.319Z"
   },
   {
    "duration": 50,
    "start_time": "2023-07-20T09:43:31.372Z"
   },
   {
    "duration": 55,
    "start_time": "2023-07-20T09:43:31.424Z"
   },
   {
    "duration": 56,
    "start_time": "2023-07-20T09:43:31.480Z"
   },
   {
    "duration": 47,
    "start_time": "2023-07-20T09:43:31.537Z"
   },
   {
    "duration": 23,
    "start_time": "2023-07-20T09:43:31.586Z"
   },
   {
    "duration": 48,
    "start_time": "2023-07-20T09:43:31.611Z"
   },
   {
    "duration": 42,
    "start_time": "2023-07-20T09:43:31.661Z"
   },
   {
    "duration": 68,
    "start_time": "2023-07-20T09:43:31.704Z"
   },
   {
    "duration": 265,
    "start_time": "2023-07-20T09:43:31.774Z"
   },
   {
    "duration": 332,
    "start_time": "2023-07-20T09:43:32.041Z"
   },
   {
    "duration": 8,
    "start_time": "2023-07-20T09:43:32.375Z"
   },
   {
    "duration": 981,
    "start_time": "2023-07-20T09:43:32.385Z"
   },
   {
    "duration": 150,
    "start_time": "2023-07-20T09:43:33.368Z"
   },
   {
    "duration": 627,
    "start_time": "2023-07-20T09:43:33.521Z"
   },
   {
    "duration": 18,
    "start_time": "2023-07-20T09:43:34.149Z"
   },
   {
    "duration": 408,
    "start_time": "2023-07-20T09:43:34.168Z"
   },
   {
    "duration": 3091,
    "start_time": "2023-07-20T09:43:34.581Z"
   },
   {
    "duration": 0,
    "start_time": "2023-07-20T09:43:37.674Z"
   },
   {
    "duration": 0,
    "start_time": "2023-07-20T09:43:37.675Z"
   },
   {
    "duration": 0,
    "start_time": "2023-07-20T09:43:37.676Z"
   },
   {
    "duration": 0,
    "start_time": "2023-07-20T09:43:37.677Z"
   },
   {
    "duration": 0,
    "start_time": "2023-07-20T09:43:37.678Z"
   },
   {
    "duration": 0,
    "start_time": "2023-07-20T09:43:37.680Z"
   },
   {
    "duration": 0,
    "start_time": "2023-07-20T09:43:37.681Z"
   },
   {
    "duration": 0,
    "start_time": "2023-07-20T09:43:37.682Z"
   },
   {
    "duration": 0,
    "start_time": "2023-07-20T09:43:37.683Z"
   },
   {
    "duration": 0,
    "start_time": "2023-07-20T09:43:37.684Z"
   },
   {
    "duration": 0,
    "start_time": "2023-07-20T09:43:37.686Z"
   },
   {
    "duration": 0,
    "start_time": "2023-07-20T09:43:37.687Z"
   },
   {
    "duration": 0,
    "start_time": "2023-07-20T09:43:37.687Z"
   },
   {
    "duration": 0,
    "start_time": "2023-07-20T09:43:37.689Z"
   },
   {
    "duration": 0,
    "start_time": "2023-07-20T09:43:37.690Z"
   },
   {
    "duration": 0,
    "start_time": "2023-07-20T09:43:37.691Z"
   },
   {
    "duration": 2,
    "start_time": "2023-07-20T09:44:48.203Z"
   },
   {
    "duration": 163,
    "start_time": "2023-07-20T09:44:48.208Z"
   },
   {
    "duration": 15,
    "start_time": "2023-07-20T09:44:48.373Z"
   },
   {
    "duration": 58,
    "start_time": "2023-07-20T09:44:48.389Z"
   },
   {
    "duration": 9,
    "start_time": "2023-07-20T09:44:48.449Z"
   },
   {
    "duration": 55,
    "start_time": "2023-07-20T09:44:48.460Z"
   },
   {
    "duration": 56,
    "start_time": "2023-07-20T09:44:48.517Z"
   },
   {
    "duration": 47,
    "start_time": "2023-07-20T09:44:48.575Z"
   },
   {
    "duration": 27,
    "start_time": "2023-07-20T09:44:48.624Z"
   },
   {
    "duration": 42,
    "start_time": "2023-07-20T09:44:48.653Z"
   },
   {
    "duration": 42,
    "start_time": "2023-07-20T09:44:48.697Z"
   },
   {
    "duration": 55,
    "start_time": "2023-07-20T09:44:48.741Z"
   },
   {
    "duration": 59,
    "start_time": "2023-07-20T09:44:48.797Z"
   },
   {
    "duration": 47,
    "start_time": "2023-07-20T09:44:48.858Z"
   },
   {
    "duration": 93,
    "start_time": "2023-07-20T09:44:48.907Z"
   },
   {
    "duration": 28,
    "start_time": "2023-07-20T09:44:49.002Z"
   },
   {
    "duration": 115,
    "start_time": "2023-07-20T09:44:49.032Z"
   },
   {
    "duration": 5,
    "start_time": "2023-07-20T09:44:49.149Z"
   },
   {
    "duration": 13,
    "start_time": "2023-07-20T09:44:49.155Z"
   },
   {
    "duration": 235,
    "start_time": "2023-07-20T09:44:49.170Z"
   },
   {
    "duration": 332,
    "start_time": "2023-07-20T09:44:49.407Z"
   },
   {
    "duration": 7,
    "start_time": "2023-07-20T09:44:49.741Z"
   },
   {
    "duration": 826,
    "start_time": "2023-07-20T09:44:49.749Z"
   },
   {
    "duration": 138,
    "start_time": "2023-07-20T09:44:50.577Z"
   },
   {
    "duration": 574,
    "start_time": "2023-07-20T09:44:50.720Z"
   },
   {
    "duration": 24,
    "start_time": "2023-07-20T09:44:51.296Z"
   },
   {
    "duration": 337,
    "start_time": "2023-07-20T09:44:51.322Z"
   },
   {
    "duration": 167,
    "start_time": "2023-07-20T09:44:51.662Z"
   },
   {
    "duration": 182,
    "start_time": "2023-07-20T09:44:51.830Z"
   },
   {
    "duration": 178,
    "start_time": "2023-07-20T09:44:52.014Z"
   },
   {
    "duration": 136,
    "start_time": "2023-07-20T09:44:52.194Z"
   },
   {
    "duration": 169,
    "start_time": "2023-07-20T09:44:52.332Z"
   },
   {
    "duration": 161,
    "start_time": "2023-07-20T09:44:52.502Z"
   },
   {
    "duration": 31,
    "start_time": "2023-07-20T09:44:52.665Z"
   },
   {
    "duration": 30,
    "start_time": "2023-07-20T09:44:52.697Z"
   },
   {
    "duration": 171,
    "start_time": "2023-07-20T09:44:52.729Z"
   },
   {
    "duration": 428,
    "start_time": "2023-07-20T09:44:52.903Z"
   },
   {
    "duration": 32,
    "start_time": "2023-07-20T09:44:53.332Z"
   },
   {
    "duration": 26,
    "start_time": "2023-07-20T09:44:53.365Z"
   },
   {
    "duration": 311,
    "start_time": "2023-07-20T09:44:53.393Z"
   },
   {
    "duration": 152,
    "start_time": "2023-07-20T09:44:53.705Z"
   },
   {
    "duration": 7,
    "start_time": "2023-07-20T09:44:53.859Z"
   },
   {
    "duration": 40,
    "start_time": "2023-07-20T09:44:53.867Z"
   },
   {
    "duration": 0,
    "start_time": "2023-07-20T09:44:53.909Z"
   },
   {
    "duration": 6,
    "start_time": "2023-07-20T09:46:31.102Z"
   },
   {
    "duration": 2209,
    "start_time": "2023-07-20T09:47:28.535Z"
   },
   {
    "duration": 136,
    "start_time": "2023-07-20T09:50:38.287Z"
   },
   {
    "duration": 17,
    "start_time": "2023-07-20T09:53:37.505Z"
   },
   {
    "duration": 3,
    "start_time": "2023-07-20T09:53:42.915Z"
   },
   {
    "duration": 86,
    "start_time": "2023-07-20T09:53:42.920Z"
   },
   {
    "duration": 18,
    "start_time": "2023-07-20T09:53:43.008Z"
   },
   {
    "duration": 52,
    "start_time": "2023-07-20T09:53:43.028Z"
   },
   {
    "duration": 11,
    "start_time": "2023-07-20T09:53:43.082Z"
   },
   {
    "duration": 59,
    "start_time": "2023-07-20T09:53:43.095Z"
   },
   {
    "duration": 43,
    "start_time": "2023-07-20T09:53:43.156Z"
   },
   {
    "duration": 17,
    "start_time": "2023-07-20T09:53:43.201Z"
   },
   {
    "duration": 31,
    "start_time": "2023-07-20T09:53:43.220Z"
   },
   {
    "duration": 55,
    "start_time": "2023-07-20T09:53:43.254Z"
   },
   {
    "duration": 34,
    "start_time": "2023-07-20T09:53:43.311Z"
   },
   {
    "duration": 14,
    "start_time": "2023-07-20T09:53:43.347Z"
   },
   {
    "duration": 27,
    "start_time": "2023-07-20T09:53:43.363Z"
   },
   {
    "duration": 33,
    "start_time": "2023-07-20T09:53:43.392Z"
   },
   {
    "duration": 37,
    "start_time": "2023-07-20T09:53:43.427Z"
   },
   {
    "duration": 12,
    "start_time": "2023-07-20T09:53:43.466Z"
   },
   {
    "duration": 38,
    "start_time": "2023-07-20T09:53:43.480Z"
   },
   {
    "duration": 8,
    "start_time": "2023-07-20T09:53:43.521Z"
   },
   {
    "duration": 26,
    "start_time": "2023-07-20T09:53:43.531Z"
   },
   {
    "duration": 248,
    "start_time": "2023-07-20T09:53:43.559Z"
   },
   {
    "duration": 334,
    "start_time": "2023-07-20T09:53:43.809Z"
   },
   {
    "duration": 8,
    "start_time": "2023-07-20T09:53:44.145Z"
   },
   {
    "duration": 997,
    "start_time": "2023-07-20T09:53:44.154Z"
   },
   {
    "duration": 144,
    "start_time": "2023-07-20T09:53:45.152Z"
   },
   {
    "duration": 628,
    "start_time": "2023-07-20T09:53:45.297Z"
   },
   {
    "duration": 18,
    "start_time": "2023-07-20T09:53:45.927Z"
   },
   {
    "duration": 283,
    "start_time": "2023-07-20T09:53:45.947Z"
   },
   {
    "duration": 272,
    "start_time": "2023-07-20T09:53:46.232Z"
   },
   {
    "duration": 159,
    "start_time": "2023-07-20T09:53:46.506Z"
   },
   {
    "duration": 160,
    "start_time": "2023-07-20T09:53:46.666Z"
   },
   {
    "duration": 14,
    "start_time": "2023-07-20T09:53:46.829Z"
   },
   {
    "duration": 0,
    "start_time": "2023-07-20T09:53:46.845Z"
   },
   {
    "duration": 0,
    "start_time": "2023-07-20T09:53:46.846Z"
   },
   {
    "duration": 0,
    "start_time": "2023-07-20T09:53:46.847Z"
   },
   {
    "duration": 0,
    "start_time": "2023-07-20T09:53:46.848Z"
   },
   {
    "duration": 0,
    "start_time": "2023-07-20T09:53:46.850Z"
   },
   {
    "duration": 0,
    "start_time": "2023-07-20T09:53:46.851Z"
   },
   {
    "duration": 0,
    "start_time": "2023-07-20T09:53:46.853Z"
   },
   {
    "duration": 0,
    "start_time": "2023-07-20T09:53:46.854Z"
   },
   {
    "duration": 0,
    "start_time": "2023-07-20T09:53:46.855Z"
   },
   {
    "duration": 0,
    "start_time": "2023-07-20T09:53:46.857Z"
   },
   {
    "duration": 0,
    "start_time": "2023-07-20T09:53:46.859Z"
   },
   {
    "duration": 0,
    "start_time": "2023-07-20T09:53:46.860Z"
   },
   {
    "duration": 0,
    "start_time": "2023-07-20T09:53:46.861Z"
   },
   {
    "duration": 3,
    "start_time": "2023-07-20T09:54:55.732Z"
   },
   {
    "duration": 60,
    "start_time": "2023-07-20T09:54:55.740Z"
   },
   {
    "duration": 17,
    "start_time": "2023-07-20T09:54:55.802Z"
   },
   {
    "duration": 42,
    "start_time": "2023-07-20T09:54:55.821Z"
   },
   {
    "duration": 9,
    "start_time": "2023-07-20T09:54:55.866Z"
   },
   {
    "duration": 33,
    "start_time": "2023-07-20T09:54:55.877Z"
   },
   {
    "duration": 13,
    "start_time": "2023-07-20T09:54:55.912Z"
   },
   {
    "duration": 9,
    "start_time": "2023-07-20T09:54:55.926Z"
   },
   {
    "duration": 12,
    "start_time": "2023-07-20T09:54:55.937Z"
   },
   {
    "duration": 6,
    "start_time": "2023-07-20T09:54:55.950Z"
   },
   {
    "duration": 15,
    "start_time": "2023-07-20T09:54:55.958Z"
   },
   {
    "duration": 25,
    "start_time": "2023-07-20T09:54:55.975Z"
   },
   {
    "duration": 11,
    "start_time": "2023-07-20T09:54:56.002Z"
   },
   {
    "duration": 18,
    "start_time": "2023-07-20T09:54:56.014Z"
   },
   {
    "duration": 19,
    "start_time": "2023-07-20T09:54:56.034Z"
   },
   {
    "duration": 6,
    "start_time": "2023-07-20T09:54:56.055Z"
   },
   {
    "duration": 13,
    "start_time": "2023-07-20T09:54:56.063Z"
   },
   {
    "duration": 12,
    "start_time": "2023-07-20T09:54:56.078Z"
   },
   {
    "duration": 30,
    "start_time": "2023-07-20T09:54:56.091Z"
   },
   {
    "duration": 219,
    "start_time": "2023-07-20T09:54:56.123Z"
   },
   {
    "duration": 308,
    "start_time": "2023-07-20T09:54:56.344Z"
   },
   {
    "duration": 7,
    "start_time": "2023-07-20T09:54:56.654Z"
   },
   {
    "duration": 922,
    "start_time": "2023-07-20T09:54:56.662Z"
   },
   {
    "duration": 145,
    "start_time": "2023-07-20T09:54:57.587Z"
   },
   {
    "duration": 582,
    "start_time": "2023-07-20T09:54:57.734Z"
   },
   {
    "duration": 16,
    "start_time": "2023-07-20T09:54:58.320Z"
   },
   {
    "duration": 285,
    "start_time": "2023-07-20T09:54:58.338Z"
   },
   {
    "duration": 284,
    "start_time": "2023-07-20T09:54:58.626Z"
   },
   {
    "duration": 170,
    "start_time": "2023-07-20T09:54:58.911Z"
   },
   {
    "duration": 154,
    "start_time": "2023-07-20T09:54:59.083Z"
   },
   {
    "duration": 148,
    "start_time": "2023-07-20T09:54:59.239Z"
   },
   {
    "duration": 181,
    "start_time": "2023-07-20T09:54:59.389Z"
   },
   {
    "duration": 178,
    "start_time": "2023-07-20T09:54:59.572Z"
   },
   {
    "duration": 27,
    "start_time": "2023-07-20T09:54:59.751Z"
   },
   {
    "duration": 8,
    "start_time": "2023-07-20T09:54:59.780Z"
   },
   {
    "duration": 147,
    "start_time": "2023-07-20T09:54:59.790Z"
   },
   {
    "duration": 311,
    "start_time": "2023-07-20T09:54:59.939Z"
   },
   {
    "duration": 42,
    "start_time": "2023-07-20T09:55:00.252Z"
   },
   {
    "duration": 54,
    "start_time": "2023-07-20T09:55:00.298Z"
   },
   {
    "duration": 351,
    "start_time": "2023-07-20T09:55:00.355Z"
   },
   {
    "duration": 57,
    "start_time": "2023-07-20T09:55:00.708Z"
   },
   {
    "duration": 51,
    "start_time": "2023-07-20T09:55:00.767Z"
   },
   {
    "duration": 162,
    "start_time": "2023-07-20T09:55:00.820Z"
   },
   {
    "duration": 0,
    "start_time": "2023-07-20T09:55:00.983Z"
   },
   {
    "duration": 3,
    "start_time": "2023-07-20T09:56:53.612Z"
   },
   {
    "duration": 83,
    "start_time": "2023-07-20T09:56:53.617Z"
   },
   {
    "duration": 15,
    "start_time": "2023-07-20T09:56:53.702Z"
   },
   {
    "duration": 25,
    "start_time": "2023-07-20T09:56:53.720Z"
   },
   {
    "duration": 11,
    "start_time": "2023-07-20T09:56:53.748Z"
   },
   {
    "duration": 14,
    "start_time": "2023-07-20T09:56:53.761Z"
   },
   {
    "duration": 11,
    "start_time": "2023-07-20T09:56:53.777Z"
   },
   {
    "duration": 33,
    "start_time": "2023-07-20T09:56:53.790Z"
   },
   {
    "duration": 17,
    "start_time": "2023-07-20T09:56:53.825Z"
   },
   {
    "duration": 3,
    "start_time": "2023-07-20T09:56:53.845Z"
   },
   {
    "duration": 20,
    "start_time": "2023-07-20T09:56:53.849Z"
   },
   {
    "duration": 7,
    "start_time": "2023-07-20T09:56:53.871Z"
   },
   {
    "duration": 11,
    "start_time": "2023-07-20T09:56:53.881Z"
   },
   {
    "duration": 35,
    "start_time": "2023-07-20T09:56:53.895Z"
   },
   {
    "duration": 20,
    "start_time": "2023-07-20T09:56:53.933Z"
   },
   {
    "duration": 7,
    "start_time": "2023-07-20T09:56:53.955Z"
   },
   {
    "duration": 22,
    "start_time": "2023-07-20T09:56:53.963Z"
   },
   {
    "duration": 35,
    "start_time": "2023-07-20T09:56:53.988Z"
   },
   {
    "duration": 13,
    "start_time": "2023-07-20T09:56:54.025Z"
   },
   {
    "duration": 231,
    "start_time": "2023-07-20T09:56:54.039Z"
   },
   {
    "duration": 302,
    "start_time": "2023-07-20T09:56:54.272Z"
   },
   {
    "duration": 7,
    "start_time": "2023-07-20T09:56:54.576Z"
   },
   {
    "duration": 1007,
    "start_time": "2023-07-20T09:56:54.585Z"
   },
   {
    "duration": 149,
    "start_time": "2023-07-20T09:56:55.594Z"
   },
   {
    "duration": 583,
    "start_time": "2023-07-20T09:56:55.745Z"
   },
   {
    "duration": 15,
    "start_time": "2023-07-20T09:56:56.329Z"
   },
   {
    "duration": 260,
    "start_time": "2023-07-20T09:56:56.346Z"
   },
   {
    "duration": 159,
    "start_time": "2023-07-20T09:56:56.608Z"
   },
   {
    "duration": 163,
    "start_time": "2023-07-20T09:56:56.768Z"
   },
   {
    "duration": 149,
    "start_time": "2023-07-20T09:56:56.933Z"
   },
   {
    "duration": 144,
    "start_time": "2023-07-20T09:56:57.083Z"
   },
   {
    "duration": 162,
    "start_time": "2023-07-20T09:56:57.229Z"
   },
   {
    "duration": 181,
    "start_time": "2023-07-20T09:56:57.393Z"
   },
   {
    "duration": 26,
    "start_time": "2023-07-20T09:56:57.576Z"
   },
   {
    "duration": 23,
    "start_time": "2023-07-20T09:56:57.604Z"
   },
   {
    "duration": 134,
    "start_time": "2023-07-20T09:56:57.628Z"
   },
   {
    "duration": 412,
    "start_time": "2023-07-20T09:56:57.763Z"
   },
   {
    "duration": 46,
    "start_time": "2023-07-20T09:56:58.177Z"
   },
   {
    "duration": 8,
    "start_time": "2023-07-20T09:56:58.225Z"
   },
   {
    "duration": 365,
    "start_time": "2023-07-20T09:56:58.235Z"
   },
   {
    "duration": 58,
    "start_time": "2023-07-20T09:56:58.601Z"
   },
   {
    "duration": 12,
    "start_time": "2023-07-20T09:56:58.661Z"
   },
   {
    "duration": 42,
    "start_time": "2023-07-20T09:56:58.676Z"
   },
   {
    "duration": 0,
    "start_time": "2023-07-20T09:56:58.720Z"
   },
   {
    "duration": 4,
    "start_time": "2023-07-20T09:58:09.247Z"
   },
   {
    "duration": 91,
    "start_time": "2023-07-20T09:58:09.253Z"
   },
   {
    "duration": 15,
    "start_time": "2023-07-20T09:58:09.345Z"
   },
   {
    "duration": 50,
    "start_time": "2023-07-20T09:58:09.362Z"
   },
   {
    "duration": 12,
    "start_time": "2023-07-20T09:58:09.414Z"
   },
   {
    "duration": 30,
    "start_time": "2023-07-20T09:58:09.428Z"
   },
   {
    "duration": 21,
    "start_time": "2023-07-20T09:58:09.460Z"
   },
   {
    "duration": 31,
    "start_time": "2023-07-20T09:58:09.483Z"
   },
   {
    "duration": 34,
    "start_time": "2023-07-20T09:58:09.516Z"
   },
   {
    "duration": 5,
    "start_time": "2023-07-20T09:58:09.553Z"
   },
   {
    "duration": 27,
    "start_time": "2023-07-20T09:58:09.560Z"
   },
   {
    "duration": 20,
    "start_time": "2023-07-20T09:58:09.589Z"
   },
   {
    "duration": 52,
    "start_time": "2023-07-20T09:58:09.611Z"
   },
   {
    "duration": 21,
    "start_time": "2023-07-20T09:58:09.665Z"
   },
   {
    "duration": 29,
    "start_time": "2023-07-20T09:58:09.688Z"
   },
   {
    "duration": 13,
    "start_time": "2023-07-20T09:58:09.719Z"
   },
   {
    "duration": 28,
    "start_time": "2023-07-20T09:58:09.733Z"
   },
   {
    "duration": 20,
    "start_time": "2023-07-20T09:58:09.762Z"
   },
   {
    "duration": 24,
    "start_time": "2023-07-20T09:58:09.785Z"
   },
   {
    "duration": 234,
    "start_time": "2023-07-20T09:58:09.811Z"
   },
   {
    "duration": 298,
    "start_time": "2023-07-20T09:58:10.047Z"
   },
   {
    "duration": 8,
    "start_time": "2023-07-20T09:58:10.347Z"
   },
   {
    "duration": 967,
    "start_time": "2023-07-20T09:58:10.356Z"
   },
   {
    "duration": 163,
    "start_time": "2023-07-20T09:58:11.324Z"
   },
   {
    "duration": 642,
    "start_time": "2023-07-20T09:58:11.489Z"
   },
   {
    "duration": 18,
    "start_time": "2023-07-20T09:58:12.133Z"
   },
   {
    "duration": 330,
    "start_time": "2023-07-20T09:58:12.153Z"
   },
   {
    "duration": 316,
    "start_time": "2023-07-20T09:58:12.485Z"
   },
   {
    "duration": 198,
    "start_time": "2023-07-20T09:58:12.803Z"
   },
   {
    "duration": 167,
    "start_time": "2023-07-20T09:58:13.002Z"
   },
   {
    "duration": 140,
    "start_time": "2023-07-20T09:58:13.171Z"
   },
   {
    "duration": 158,
    "start_time": "2023-07-20T09:58:13.313Z"
   },
   {
    "duration": 172,
    "start_time": "2023-07-20T09:58:13.473Z"
   },
   {
    "duration": 25,
    "start_time": "2023-07-20T09:58:13.647Z"
   },
   {
    "duration": 8,
    "start_time": "2023-07-20T09:58:13.674Z"
   },
   {
    "duration": 168,
    "start_time": "2023-07-20T09:58:13.684Z"
   },
   {
    "duration": 287,
    "start_time": "2023-07-20T09:58:13.854Z"
   },
   {
    "duration": 24,
    "start_time": "2023-07-20T09:58:14.143Z"
   },
   {
    "duration": 8,
    "start_time": "2023-07-20T09:58:14.169Z"
   },
   {
    "duration": 299,
    "start_time": "2023-07-20T09:58:14.179Z"
   },
   {
    "duration": 58,
    "start_time": "2023-07-20T09:58:14.480Z"
   },
   {
    "duration": 9,
    "start_time": "2023-07-20T09:58:14.540Z"
   },
   {
    "duration": 20,
    "start_time": "2023-07-20T09:58:14.550Z"
   },
   {
    "duration": 0,
    "start_time": "2023-07-20T09:58:14.572Z"
   },
   {
    "duration": 3,
    "start_time": "2023-07-20T09:59:03.338Z"
   },
   {
    "duration": 175,
    "start_time": "2023-07-20T09:59:03.343Z"
   },
   {
    "duration": 17,
    "start_time": "2023-07-20T09:59:03.519Z"
   },
   {
    "duration": 53,
    "start_time": "2023-07-20T09:59:03.537Z"
   },
   {
    "duration": 30,
    "start_time": "2023-07-20T09:59:03.593Z"
   },
   {
    "duration": 132,
    "start_time": "2023-07-20T09:59:03.625Z"
   },
   {
    "duration": 42,
    "start_time": "2023-07-20T09:59:03.758Z"
   },
   {
    "duration": 83,
    "start_time": "2023-07-20T09:59:03.802Z"
   },
   {
    "duration": 91,
    "start_time": "2023-07-20T09:59:03.887Z"
   },
   {
    "duration": 52,
    "start_time": "2023-07-20T09:59:03.980Z"
   },
   {
    "duration": 87,
    "start_time": "2023-07-20T09:59:04.034Z"
   },
   {
    "duration": 31,
    "start_time": "2023-07-20T09:59:04.123Z"
   },
   {
    "duration": 50,
    "start_time": "2023-07-20T09:59:04.156Z"
   },
   {
    "duration": 25,
    "start_time": "2023-07-20T09:59:04.209Z"
   },
   {
    "duration": 41,
    "start_time": "2023-07-20T09:59:04.235Z"
   },
   {
    "duration": 18,
    "start_time": "2023-07-20T09:59:04.277Z"
   },
   {
    "duration": 26,
    "start_time": "2023-07-20T09:59:04.297Z"
   },
   {
    "duration": 25,
    "start_time": "2023-07-20T09:59:04.325Z"
   },
   {
    "duration": 43,
    "start_time": "2023-07-20T09:59:04.352Z"
   },
   {
    "duration": 284,
    "start_time": "2023-07-20T09:59:04.397Z"
   },
   {
    "duration": 375,
    "start_time": "2023-07-20T09:59:04.683Z"
   },
   {
    "duration": 8,
    "start_time": "2023-07-20T09:59:05.059Z"
   },
   {
    "duration": 1049,
    "start_time": "2023-07-20T09:59:05.069Z"
   },
   {
    "duration": 155,
    "start_time": "2023-07-20T09:59:06.120Z"
   },
   {
    "duration": 665,
    "start_time": "2023-07-20T09:59:06.276Z"
   },
   {
    "duration": 16,
    "start_time": "2023-07-20T09:59:06.943Z"
   },
   {
    "duration": 303,
    "start_time": "2023-07-20T09:59:06.960Z"
   },
   {
    "duration": 167,
    "start_time": "2023-07-20T09:59:07.265Z"
   },
   {
    "duration": 174,
    "start_time": "2023-07-20T09:59:07.434Z"
   },
   {
    "duration": 184,
    "start_time": "2023-07-20T09:59:07.611Z"
   },
   {
    "duration": 157,
    "start_time": "2023-07-20T09:59:07.797Z"
   },
   {
    "duration": 181,
    "start_time": "2023-07-20T09:59:07.956Z"
   },
   {
    "duration": 187,
    "start_time": "2023-07-20T09:59:08.140Z"
   },
   {
    "duration": 28,
    "start_time": "2023-07-20T09:59:08.329Z"
   },
   {
    "duration": 30,
    "start_time": "2023-07-20T09:59:08.359Z"
   },
   {
    "duration": 153,
    "start_time": "2023-07-20T09:59:08.391Z"
   },
   {
    "duration": 320,
    "start_time": "2023-07-20T09:59:08.546Z"
   },
   {
    "duration": 26,
    "start_time": "2023-07-20T09:59:08.868Z"
   },
   {
    "duration": 29,
    "start_time": "2023-07-20T09:59:08.895Z"
   },
   {
    "duration": 498,
    "start_time": "2023-07-20T09:59:08.926Z"
   },
   {
    "duration": 48,
    "start_time": "2023-07-20T09:59:09.428Z"
   },
   {
    "duration": 7,
    "start_time": "2023-07-20T09:59:09.478Z"
   },
   {
    "duration": 43,
    "start_time": "2023-07-20T09:59:09.486Z"
   },
   {
    "duration": 0,
    "start_time": "2023-07-20T09:59:09.531Z"
   },
   {
    "duration": 3,
    "start_time": "2023-07-20T10:00:41.971Z"
   },
   {
    "duration": 118,
    "start_time": "2023-07-20T10:00:41.976Z"
   },
   {
    "duration": 18,
    "start_time": "2023-07-20T10:00:42.096Z"
   },
   {
    "duration": 88,
    "start_time": "2023-07-20T10:00:42.116Z"
   },
   {
    "duration": 27,
    "start_time": "2023-07-20T10:00:42.206Z"
   },
   {
    "duration": 38,
    "start_time": "2023-07-20T10:00:42.235Z"
   },
   {
    "duration": 25,
    "start_time": "2023-07-20T10:00:42.274Z"
   },
   {
    "duration": 33,
    "start_time": "2023-07-20T10:00:42.301Z"
   },
   {
    "duration": 40,
    "start_time": "2023-07-20T10:00:42.337Z"
   },
   {
    "duration": 21,
    "start_time": "2023-07-20T10:00:42.379Z"
   },
   {
    "duration": 43,
    "start_time": "2023-07-20T10:00:42.402Z"
   },
   {
    "duration": 21,
    "start_time": "2023-07-20T10:00:42.447Z"
   },
   {
    "duration": 39,
    "start_time": "2023-07-20T10:00:42.470Z"
   },
   {
    "duration": 33,
    "start_time": "2023-07-20T10:00:42.510Z"
   },
   {
    "duration": 38,
    "start_time": "2023-07-20T10:00:42.545Z"
   },
   {
    "duration": 28,
    "start_time": "2023-07-20T10:00:42.585Z"
   },
   {
    "duration": 55,
    "start_time": "2023-07-20T10:00:42.615Z"
   },
   {
    "duration": 37,
    "start_time": "2023-07-20T10:00:42.672Z"
   },
   {
    "duration": 38,
    "start_time": "2023-07-20T10:00:42.711Z"
   },
   {
    "duration": 298,
    "start_time": "2023-07-20T10:00:42.751Z"
   },
   {
    "duration": 332,
    "start_time": "2023-07-20T10:00:43.051Z"
   },
   {
    "duration": 8,
    "start_time": "2023-07-20T10:00:43.385Z"
   },
   {
    "duration": 946,
    "start_time": "2023-07-20T10:00:43.394Z"
   },
   {
    "duration": 162,
    "start_time": "2023-07-20T10:00:44.344Z"
   },
   {
    "duration": 691,
    "start_time": "2023-07-20T10:00:44.508Z"
   },
   {
    "duration": 30,
    "start_time": "2023-07-20T10:00:45.200Z"
   },
   {
    "duration": 307,
    "start_time": "2023-07-20T10:00:45.232Z"
   },
   {
    "duration": 186,
    "start_time": "2023-07-20T10:00:45.541Z"
   },
   {
    "duration": 297,
    "start_time": "2023-07-20T10:00:45.729Z"
   },
   {
    "duration": 163,
    "start_time": "2023-07-20T10:00:46.028Z"
   },
   {
    "duration": 161,
    "start_time": "2023-07-20T10:00:46.193Z"
   },
   {
    "duration": 197,
    "start_time": "2023-07-20T10:00:46.356Z"
   },
   {
    "duration": 182,
    "start_time": "2023-07-20T10:00:46.555Z"
   },
   {
    "duration": 27,
    "start_time": "2023-07-20T10:00:46.739Z"
   },
   {
    "duration": 72,
    "start_time": "2023-07-20T10:00:46.768Z"
   },
   {
    "duration": 154,
    "start_time": "2023-07-20T10:00:46.842Z"
   },
   {
    "duration": 327,
    "start_time": "2023-07-20T10:00:46.997Z"
   },
   {
    "duration": 27,
    "start_time": "2023-07-20T10:00:47.327Z"
   },
   {
    "duration": 36,
    "start_time": "2023-07-20T10:00:47.356Z"
   },
   {
    "duration": 343,
    "start_time": "2023-07-20T10:00:47.393Z"
   },
   {
    "duration": 49,
    "start_time": "2023-07-20T10:00:47.738Z"
   },
   {
    "duration": 32,
    "start_time": "2023-07-20T10:00:47.788Z"
   },
   {
    "duration": 64,
    "start_time": "2023-07-20T10:00:47.822Z"
   },
   {
    "duration": 0,
    "start_time": "2023-07-20T10:00:47.888Z"
   },
   {
    "duration": 20,
    "start_time": "2023-07-20T10:17:31.833Z"
   },
   {
    "duration": 101,
    "start_time": "2023-07-20T11:34:58.919Z"
   },
   {
    "duration": 107,
    "start_time": "2023-07-20T11:35:58.457Z"
   },
   {
    "duration": 110,
    "start_time": "2023-07-20T11:36:26.998Z"
   },
   {
    "duration": 100,
    "start_time": "2023-07-20T11:38:25.920Z"
   },
   {
    "duration": 123,
    "start_time": "2023-07-20T11:38:37.263Z"
   },
   {
    "duration": 359,
    "start_time": "2023-07-20T11:40:04.295Z"
   },
   {
    "duration": 126,
    "start_time": "2023-07-20T11:40:24.943Z"
   },
   {
    "duration": 215,
    "start_time": "2023-07-20T11:42:42.644Z"
   },
   {
    "duration": 665,
    "start_time": "2023-07-20T11:43:26.833Z"
   },
   {
    "duration": 676,
    "start_time": "2023-07-20T11:44:18.467Z"
   },
   {
    "duration": 783,
    "start_time": "2023-07-20T11:46:32.765Z"
   },
   {
    "duration": 691,
    "start_time": "2023-07-20T11:47:10.037Z"
   },
   {
    "duration": 713,
    "start_time": "2023-07-20T11:47:35.211Z"
   },
   {
    "duration": 4,
    "start_time": "2023-07-20T12:03:00.179Z"
   },
   {
    "duration": 163,
    "start_time": "2023-07-20T12:03:00.185Z"
   },
   {
    "duration": 18,
    "start_time": "2023-07-20T12:03:00.350Z"
   },
   {
    "duration": 79,
    "start_time": "2023-07-20T12:03:00.370Z"
   },
   {
    "duration": 41,
    "start_time": "2023-07-20T12:03:00.451Z"
   },
   {
    "duration": 95,
    "start_time": "2023-07-20T12:03:00.494Z"
   },
   {
    "duration": 178,
    "start_time": "2023-07-20T12:03:00.591Z"
   },
   {
    "duration": 315,
    "start_time": "2023-07-20T12:03:00.772Z"
   },
   {
    "duration": 291,
    "start_time": "2023-07-20T12:03:01.089Z"
   },
   {
    "duration": 339,
    "start_time": "2023-07-20T12:03:01.383Z"
   },
   {
    "duration": 204,
    "start_time": "2023-07-20T12:03:01.723Z"
   },
   {
    "duration": 257,
    "start_time": "2023-07-20T12:03:01.930Z"
   },
   {
    "duration": 83,
    "start_time": "2023-07-20T12:03:02.190Z"
   },
   {
    "duration": 95,
    "start_time": "2023-07-20T12:03:02.275Z"
   },
   {
    "duration": 55,
    "start_time": "2023-07-20T12:03:02.373Z"
   },
   {
    "duration": 62,
    "start_time": "2023-07-20T12:03:02.430Z"
   },
   {
    "duration": 118,
    "start_time": "2023-07-20T12:03:02.494Z"
   },
   {
    "duration": 156,
    "start_time": "2023-07-20T12:03:02.614Z"
   },
   {
    "duration": 97,
    "start_time": "2023-07-20T12:03:02.772Z"
   },
   {
    "duration": 309,
    "start_time": "2023-07-20T12:03:02.873Z"
   },
   {
    "duration": 330,
    "start_time": "2023-07-20T12:03:03.184Z"
   },
   {
    "duration": 8,
    "start_time": "2023-07-20T12:03:03.515Z"
   },
   {
    "duration": 1224,
    "start_time": "2023-07-20T12:03:03.524Z"
   },
   {
    "duration": 161,
    "start_time": "2023-07-20T12:03:04.750Z"
   },
   {
    "duration": 658,
    "start_time": "2023-07-20T12:03:04.913Z"
   },
   {
    "duration": 31,
    "start_time": "2023-07-20T12:03:05.575Z"
   },
   {
    "duration": 418,
    "start_time": "2023-07-20T12:03:05.620Z"
   },
   {
    "duration": 181,
    "start_time": "2023-07-20T12:03:06.039Z"
   },
   {
    "duration": 172,
    "start_time": "2023-07-20T12:03:06.221Z"
   },
   {
    "duration": 157,
    "start_time": "2023-07-20T12:03:06.394Z"
   },
   {
    "duration": 154,
    "start_time": "2023-07-20T12:03:06.553Z"
   },
   {
    "duration": 182,
    "start_time": "2023-07-20T12:03:06.709Z"
   },
   {
    "duration": 199,
    "start_time": "2023-07-20T12:03:06.893Z"
   },
   {
    "duration": 36,
    "start_time": "2023-07-20T12:03:07.095Z"
   },
   {
    "duration": 17,
    "start_time": "2023-07-20T12:03:07.133Z"
   },
   {
    "duration": 774,
    "start_time": "2023-07-20T12:03:07.151Z"
   },
   {
    "duration": 28,
    "start_time": "2023-07-20T12:03:07.926Z"
   },
   {
    "duration": 55,
    "start_time": "2023-07-20T12:03:07.956Z"
   },
   {
    "duration": 920,
    "start_time": "2023-07-20T12:03:08.013Z"
   },
   {
    "duration": 50,
    "start_time": "2023-07-20T12:03:08.935Z"
   },
   {
    "duration": 39,
    "start_time": "2023-07-20T12:03:08.986Z"
   },
   {
    "duration": 50,
    "start_time": "2023-07-20T12:03:09.027Z"
   },
   {
    "duration": 0,
    "start_time": "2023-07-20T12:03:09.079Z"
   },
   {
    "duration": 3,
    "start_time": "2023-07-20T12:07:27.539Z"
   },
   {
    "duration": 79,
    "start_time": "2023-07-20T12:07:27.544Z"
   },
   {
    "duration": 14,
    "start_time": "2023-07-20T12:07:27.625Z"
   },
   {
    "duration": 37,
    "start_time": "2023-07-20T12:07:27.641Z"
   },
   {
    "duration": 8,
    "start_time": "2023-07-20T12:07:27.680Z"
   },
   {
    "duration": 25,
    "start_time": "2023-07-20T12:07:27.690Z"
   },
   {
    "duration": 14,
    "start_time": "2023-07-20T12:07:27.717Z"
   },
   {
    "duration": 24,
    "start_time": "2023-07-20T12:07:27.733Z"
   },
   {
    "duration": 34,
    "start_time": "2023-07-20T12:07:27.758Z"
   },
   {
    "duration": 26,
    "start_time": "2023-07-20T12:07:27.794Z"
   },
   {
    "duration": 35,
    "start_time": "2023-07-20T12:07:27.822Z"
   },
   {
    "duration": 24,
    "start_time": "2023-07-20T12:07:27.859Z"
   },
   {
    "duration": 34,
    "start_time": "2023-07-20T12:07:27.885Z"
   },
   {
    "duration": 10,
    "start_time": "2023-07-20T12:07:27.920Z"
   },
   {
    "duration": 24,
    "start_time": "2023-07-20T12:07:27.931Z"
   },
   {
    "duration": 10,
    "start_time": "2023-07-20T12:07:27.957Z"
   },
   {
    "duration": 36,
    "start_time": "2023-07-20T12:07:27.969Z"
   },
   {
    "duration": 52,
    "start_time": "2023-07-20T12:07:28.007Z"
   },
   {
    "duration": 19,
    "start_time": "2023-07-20T12:07:28.061Z"
   },
   {
    "duration": 242,
    "start_time": "2023-07-20T12:07:28.081Z"
   },
   {
    "duration": 307,
    "start_time": "2023-07-20T12:07:28.325Z"
   },
   {
    "duration": 9,
    "start_time": "2023-07-20T12:07:28.634Z"
   },
   {
    "duration": 914,
    "start_time": "2023-07-20T12:07:28.644Z"
   },
   {
    "duration": 171,
    "start_time": "2023-07-20T12:07:29.559Z"
   },
   {
    "duration": 614,
    "start_time": "2023-07-20T12:07:29.731Z"
   },
   {
    "duration": 22,
    "start_time": "2023-07-20T12:07:30.346Z"
   },
   {
    "duration": 266,
    "start_time": "2023-07-20T12:07:30.370Z"
   },
   {
    "duration": 164,
    "start_time": "2023-07-20T12:07:30.637Z"
   },
   {
    "duration": 308,
    "start_time": "2023-07-20T12:07:30.802Z"
   },
   {
    "duration": 159,
    "start_time": "2023-07-20T12:07:31.113Z"
   },
   {
    "duration": 190,
    "start_time": "2023-07-20T12:07:31.273Z"
   },
   {
    "duration": 189,
    "start_time": "2023-07-20T12:07:31.465Z"
   },
   {
    "duration": 224,
    "start_time": "2023-07-20T12:07:31.656Z"
   },
   {
    "duration": 43,
    "start_time": "2023-07-20T12:07:31.882Z"
   },
   {
    "duration": 17,
    "start_time": "2023-07-20T12:07:31.928Z"
   },
   {
    "duration": 771,
    "start_time": "2023-07-20T12:07:31.949Z"
   },
   {
    "duration": 26,
    "start_time": "2023-07-20T12:07:32.721Z"
   },
   {
    "duration": 186,
    "start_time": "2023-07-20T12:07:32.748Z"
   },
   {
    "duration": 773,
    "start_time": "2023-07-20T12:07:32.937Z"
   },
   {
    "duration": 61,
    "start_time": "2023-07-20T12:07:33.712Z"
   },
   {
    "duration": 51,
    "start_time": "2023-07-20T12:07:33.775Z"
   },
   {
    "duration": 13,
    "start_time": "2023-07-20T12:07:33.827Z"
   },
   {
    "duration": 0,
    "start_time": "2023-07-20T12:07:33.841Z"
   },
   {
    "duration": 14,
    "start_time": "2023-07-20T12:08:46.294Z"
   },
   {
    "duration": 14,
    "start_time": "2023-07-20T12:09:02.532Z"
   },
   {
    "duration": 16,
    "start_time": "2023-07-20T12:09:23.454Z"
   },
   {
    "duration": 19,
    "start_time": "2023-07-20T12:10:31.698Z"
   },
   {
    "duration": 10,
    "start_time": "2023-07-20T12:10:41.190Z"
   },
   {
    "duration": 11,
    "start_time": "2023-07-20T12:10:56.839Z"
   },
   {
    "duration": 11,
    "start_time": "2023-07-20T12:11:54.319Z"
   },
   {
    "duration": 4,
    "start_time": "2023-07-20T12:12:18.989Z"
   },
   {
    "duration": 68,
    "start_time": "2023-07-20T12:12:18.995Z"
   },
   {
    "duration": 16,
    "start_time": "2023-07-20T12:12:19.065Z"
   },
   {
    "duration": 39,
    "start_time": "2023-07-20T12:12:19.084Z"
   },
   {
    "duration": 10,
    "start_time": "2023-07-20T12:12:19.126Z"
   },
   {
    "duration": 18,
    "start_time": "2023-07-20T12:12:19.137Z"
   },
   {
    "duration": 11,
    "start_time": "2023-07-20T12:12:19.157Z"
   },
   {
    "duration": 10,
    "start_time": "2023-07-20T12:12:19.170Z"
   },
   {
    "duration": 14,
    "start_time": "2023-07-20T12:12:19.183Z"
   },
   {
    "duration": 23,
    "start_time": "2023-07-20T12:12:19.198Z"
   },
   {
    "duration": 12,
    "start_time": "2023-07-20T12:12:19.222Z"
   },
   {
    "duration": 19,
    "start_time": "2023-07-20T12:12:19.235Z"
   },
   {
    "duration": 10,
    "start_time": "2023-07-20T12:12:19.256Z"
   },
   {
    "duration": 10,
    "start_time": "2023-07-20T12:12:19.268Z"
   },
   {
    "duration": 15,
    "start_time": "2023-07-20T12:12:19.280Z"
   },
   {
    "duration": 25,
    "start_time": "2023-07-20T12:12:19.296Z"
   },
   {
    "duration": 31,
    "start_time": "2023-07-20T12:12:19.322Z"
   },
   {
    "duration": 6,
    "start_time": "2023-07-20T12:12:19.355Z"
   },
   {
    "duration": 30,
    "start_time": "2023-07-20T12:12:19.363Z"
   },
   {
    "duration": 250,
    "start_time": "2023-07-20T12:12:19.395Z"
   },
   {
    "duration": 326,
    "start_time": "2023-07-20T12:12:19.646Z"
   },
   {
    "duration": 8,
    "start_time": "2023-07-20T12:12:19.974Z"
   },
   {
    "duration": 1068,
    "start_time": "2023-07-20T12:12:19.984Z"
   },
   {
    "duration": 149,
    "start_time": "2023-07-20T12:12:21.053Z"
   },
   {
    "duration": 620,
    "start_time": "2023-07-20T12:12:21.203Z"
   },
   {
    "duration": 22,
    "start_time": "2023-07-20T12:12:21.825Z"
   },
   {
    "duration": 284,
    "start_time": "2023-07-20T12:12:21.848Z"
   },
   {
    "duration": 180,
    "start_time": "2023-07-20T12:12:22.134Z"
   },
   {
    "duration": 170,
    "start_time": "2023-07-20T12:12:22.315Z"
   },
   {
    "duration": 169,
    "start_time": "2023-07-20T12:12:22.486Z"
   },
   {
    "duration": 175,
    "start_time": "2023-07-20T12:12:22.658Z"
   },
   {
    "duration": 209,
    "start_time": "2023-07-20T12:12:22.835Z"
   },
   {
    "duration": 225,
    "start_time": "2023-07-20T12:12:23.046Z"
   },
   {
    "duration": 25,
    "start_time": "2023-07-20T12:12:23.273Z"
   },
   {
    "duration": 26,
    "start_time": "2023-07-20T12:12:23.300Z"
   },
   {
    "duration": 695,
    "start_time": "2023-07-20T12:12:23.328Z"
   },
   {
    "duration": 25,
    "start_time": "2023-07-20T12:12:24.025Z"
   },
   {
    "duration": 17,
    "start_time": "2023-07-20T12:12:24.052Z"
   },
   {
    "duration": 674,
    "start_time": "2023-07-20T12:12:24.071Z"
   },
   {
    "duration": 240,
    "start_time": "2023-07-20T12:12:24.747Z"
   },
   {
    "duration": 7,
    "start_time": "2023-07-20T12:12:24.989Z"
   },
   {
    "duration": 28,
    "start_time": "2023-07-20T12:12:24.997Z"
   },
   {
    "duration": 24,
    "start_time": "2023-07-20T12:12:25.027Z"
   },
   {
    "duration": 0,
    "start_time": "2023-07-20T12:12:25.052Z"
   },
   {
    "duration": 4,
    "start_time": "2023-07-20T12:12:43.086Z"
   },
   {
    "duration": 69,
    "start_time": "2023-07-20T12:12:43.093Z"
   },
   {
    "duration": 16,
    "start_time": "2023-07-20T12:12:43.164Z"
   },
   {
    "duration": 42,
    "start_time": "2023-07-20T12:12:43.181Z"
   },
   {
    "duration": 11,
    "start_time": "2023-07-20T12:12:43.225Z"
   },
   {
    "duration": 22,
    "start_time": "2023-07-20T12:12:43.238Z"
   },
   {
    "duration": 12,
    "start_time": "2023-07-20T12:12:43.262Z"
   },
   {
    "duration": 9,
    "start_time": "2023-07-20T12:12:43.276Z"
   },
   {
    "duration": 39,
    "start_time": "2023-07-20T12:12:43.286Z"
   },
   {
    "duration": 17,
    "start_time": "2023-07-20T12:12:43.327Z"
   },
   {
    "duration": 16,
    "start_time": "2023-07-20T12:12:43.346Z"
   },
   {
    "duration": 8,
    "start_time": "2023-07-20T12:12:43.363Z"
   },
   {
    "duration": 11,
    "start_time": "2023-07-20T12:12:43.373Z"
   },
   {
    "duration": 13,
    "start_time": "2023-07-20T12:12:43.387Z"
   },
   {
    "duration": 16,
    "start_time": "2023-07-20T12:12:43.420Z"
   },
   {
    "duration": 6,
    "start_time": "2023-07-20T12:12:43.438Z"
   },
   {
    "duration": 23,
    "start_time": "2023-07-20T12:12:43.446Z"
   },
   {
    "duration": 6,
    "start_time": "2023-07-20T12:12:43.470Z"
   },
   {
    "duration": 14,
    "start_time": "2023-07-20T12:12:43.478Z"
   },
   {
    "duration": 282,
    "start_time": "2023-07-20T12:12:43.494Z"
   },
   {
    "duration": 359,
    "start_time": "2023-07-20T12:12:43.778Z"
   },
   {
    "duration": 9,
    "start_time": "2023-07-20T12:12:44.138Z"
   },
   {
    "duration": 1095,
    "start_time": "2023-07-20T12:12:44.148Z"
   },
   {
    "duration": 159,
    "start_time": "2023-07-20T12:12:45.245Z"
   },
   {
    "duration": 668,
    "start_time": "2023-07-20T12:12:45.406Z"
   },
   {
    "duration": 24,
    "start_time": "2023-07-20T12:12:46.075Z"
   },
   {
    "duration": 304,
    "start_time": "2023-07-20T12:12:46.101Z"
   },
   {
    "duration": 180,
    "start_time": "2023-07-20T12:12:46.407Z"
   },
   {
    "duration": 181,
    "start_time": "2023-07-20T12:12:46.588Z"
   },
   {
    "duration": 188,
    "start_time": "2023-07-20T12:12:46.771Z"
   },
   {
    "duration": 179,
    "start_time": "2023-07-20T12:12:46.961Z"
   },
   {
    "duration": 177,
    "start_time": "2023-07-20T12:12:47.143Z"
   },
   {
    "duration": 177,
    "start_time": "2023-07-20T12:12:47.322Z"
   },
   {
    "duration": 38,
    "start_time": "2023-07-20T12:12:47.501Z"
   },
   {
    "duration": 18,
    "start_time": "2023-07-20T12:12:47.541Z"
   },
   {
    "duration": 859,
    "start_time": "2023-07-20T12:12:47.561Z"
   },
   {
    "duration": 25,
    "start_time": "2023-07-20T12:12:48.422Z"
   },
   {
    "duration": 131,
    "start_time": "2023-07-20T12:12:48.449Z"
   },
   {
    "duration": 815,
    "start_time": "2023-07-20T12:12:48.582Z"
   },
   {
    "duration": 54,
    "start_time": "2023-07-20T12:12:49.399Z"
   },
   {
    "duration": 110,
    "start_time": "2023-07-20T12:12:49.454Z"
   },
   {
    "duration": 73,
    "start_time": "2023-07-20T12:12:49.566Z"
   },
   {
    "duration": 84,
    "start_time": "2023-07-20T12:12:49.641Z"
   },
   {
    "duration": 10,
    "start_time": "2023-07-20T12:13:15.369Z"
   },
   {
    "duration": 12,
    "start_time": "2023-07-20T12:13:29.218Z"
   },
   {
    "duration": 3,
    "start_time": "2023-07-20T12:13:51.880Z"
   },
   {
    "duration": 115,
    "start_time": "2023-07-20T12:13:51.885Z"
   },
   {
    "duration": 17,
    "start_time": "2023-07-20T12:13:52.002Z"
   },
   {
    "duration": 64,
    "start_time": "2023-07-20T12:13:52.021Z"
   },
   {
    "duration": 20,
    "start_time": "2023-07-20T12:13:52.087Z"
   },
   {
    "duration": 28,
    "start_time": "2023-07-20T12:13:52.109Z"
   },
   {
    "duration": 41,
    "start_time": "2023-07-20T12:13:52.139Z"
   },
   {
    "duration": 5,
    "start_time": "2023-07-20T12:13:52.392Z"
   },
   {
    "duration": 153,
    "start_time": "2023-07-20T12:13:52.398Z"
   },
   {
    "duration": 41,
    "start_time": "2023-07-20T12:13:52.553Z"
   },
   {
    "duration": 39,
    "start_time": "2023-07-20T12:13:52.595Z"
   },
   {
    "duration": 62,
    "start_time": "2023-07-20T12:13:52.636Z"
   },
   {
    "duration": 40,
    "start_time": "2023-07-20T12:13:52.700Z"
   },
   {
    "duration": 47,
    "start_time": "2023-07-20T12:13:52.741Z"
   },
   {
    "duration": 44,
    "start_time": "2023-07-20T12:13:52.791Z"
   },
   {
    "duration": 25,
    "start_time": "2023-07-20T12:13:52.837Z"
   },
   {
    "duration": 50,
    "start_time": "2023-07-20T12:13:52.864Z"
   },
   {
    "duration": 23,
    "start_time": "2023-07-20T12:13:52.916Z"
   },
   {
    "duration": 40,
    "start_time": "2023-07-20T12:13:52.940Z"
   },
   {
    "duration": 280,
    "start_time": "2023-07-20T12:13:52.982Z"
   },
   {
    "duration": 326,
    "start_time": "2023-07-20T12:13:53.263Z"
   },
   {
    "duration": 8,
    "start_time": "2023-07-20T12:13:53.591Z"
   },
   {
    "duration": 929,
    "start_time": "2023-07-20T12:13:53.601Z"
   },
   {
    "duration": 161,
    "start_time": "2023-07-20T12:13:54.532Z"
   },
   {
    "duration": 710,
    "start_time": "2023-07-20T12:13:54.696Z"
   },
   {
    "duration": 39,
    "start_time": "2023-07-20T12:13:55.408Z"
   },
   {
    "duration": 281,
    "start_time": "2023-07-20T12:13:55.448Z"
   },
   {
    "duration": 319,
    "start_time": "2023-07-20T12:13:55.731Z"
   },
   {
    "duration": 158,
    "start_time": "2023-07-20T12:13:56.052Z"
   },
   {
    "duration": 152,
    "start_time": "2023-07-20T12:13:56.212Z"
   },
   {
    "duration": 179,
    "start_time": "2023-07-20T12:13:56.366Z"
   },
   {
    "duration": 186,
    "start_time": "2023-07-20T12:13:56.548Z"
   },
   {
    "duration": 193,
    "start_time": "2023-07-20T12:13:56.736Z"
   },
   {
    "duration": 27,
    "start_time": "2023-07-20T12:13:56.931Z"
   },
   {
    "duration": 42,
    "start_time": "2023-07-20T12:13:56.959Z"
   },
   {
    "duration": 691,
    "start_time": "2023-07-20T12:13:57.003Z"
   },
   {
    "duration": 36,
    "start_time": "2023-07-20T12:13:57.696Z"
   },
   {
    "duration": 7,
    "start_time": "2023-07-20T12:13:57.734Z"
   },
   {
    "duration": 712,
    "start_time": "2023-07-20T12:13:57.743Z"
   },
   {
    "duration": 66,
    "start_time": "2023-07-20T12:13:58.456Z"
   },
   {
    "duration": 7,
    "start_time": "2023-07-20T12:13:58.523Z"
   },
   {
    "duration": 39,
    "start_time": "2023-07-20T12:13:58.532Z"
   },
   {
    "duration": 27,
    "start_time": "2023-07-20T12:13:58.573Z"
   },
   {
    "duration": 2,
    "start_time": "2023-07-20T12:14:14.244Z"
   },
   {
    "duration": 98,
    "start_time": "2023-07-20T12:14:14.257Z"
   },
   {
    "duration": 15,
    "start_time": "2023-07-20T12:14:14.357Z"
   },
   {
    "duration": 32,
    "start_time": "2023-07-20T12:14:14.374Z"
   },
   {
    "duration": 18,
    "start_time": "2023-07-20T12:14:14.408Z"
   },
   {
    "duration": 24,
    "start_time": "2023-07-20T12:14:14.428Z"
   },
   {
    "duration": 16,
    "start_time": "2023-07-20T12:14:14.453Z"
   },
   {
    "duration": 9,
    "start_time": "2023-07-20T12:14:14.470Z"
   },
   {
    "duration": 20,
    "start_time": "2023-07-20T12:14:14.481Z"
   },
   {
    "duration": 40,
    "start_time": "2023-07-20T12:14:14.503Z"
   },
   {
    "duration": 36,
    "start_time": "2023-07-20T12:14:14.544Z"
   },
   {
    "duration": 16,
    "start_time": "2023-07-20T12:14:14.582Z"
   },
   {
    "duration": 50,
    "start_time": "2023-07-20T12:14:14.600Z"
   },
   {
    "duration": 50,
    "start_time": "2023-07-20T12:14:14.652Z"
   },
   {
    "duration": 45,
    "start_time": "2023-07-20T12:14:14.704Z"
   },
   {
    "duration": 6,
    "start_time": "2023-07-20T12:14:14.750Z"
   },
   {
    "duration": 21,
    "start_time": "2023-07-20T12:14:14.861Z"
   },
   {
    "duration": 19,
    "start_time": "2023-07-20T12:14:14.886Z"
   },
   {
    "duration": 29,
    "start_time": "2023-07-20T12:14:14.908Z"
   },
   {
    "duration": 235,
    "start_time": "2023-07-20T12:14:14.939Z"
   },
   {
    "duration": 329,
    "start_time": "2023-07-20T12:14:15.177Z"
   },
   {
    "duration": 13,
    "start_time": "2023-07-20T12:14:15.507Z"
   },
   {
    "duration": 1063,
    "start_time": "2023-07-20T12:14:15.522Z"
   },
   {
    "duration": 171,
    "start_time": "2023-07-20T12:14:16.587Z"
   },
   {
    "duration": 612,
    "start_time": "2023-07-20T12:14:16.760Z"
   },
   {
    "duration": 21,
    "start_time": "2023-07-20T12:14:17.373Z"
   },
   {
    "duration": 327,
    "start_time": "2023-07-20T12:14:17.395Z"
   },
   {
    "duration": 169,
    "start_time": "2023-07-20T12:14:17.724Z"
   },
   {
    "duration": 162,
    "start_time": "2023-07-20T12:14:17.895Z"
   },
   {
    "duration": 158,
    "start_time": "2023-07-20T12:14:18.059Z"
   },
   {
    "duration": 152,
    "start_time": "2023-07-20T12:14:18.221Z"
   },
   {
    "duration": 214,
    "start_time": "2023-07-20T12:14:18.374Z"
   },
   {
    "duration": 191,
    "start_time": "2023-07-20T12:14:18.590Z"
   },
   {
    "duration": 43,
    "start_time": "2023-07-20T12:14:18.782Z"
   },
   {
    "duration": 10,
    "start_time": "2023-07-20T12:14:18.827Z"
   },
   {
    "duration": 739,
    "start_time": "2023-07-20T12:14:18.838Z"
   },
   {
    "duration": 26,
    "start_time": "2023-07-20T12:14:19.579Z"
   },
   {
    "duration": 46,
    "start_time": "2023-07-20T12:14:19.621Z"
   },
   {
    "duration": 705,
    "start_time": "2023-07-20T12:14:19.669Z"
   },
   {
    "duration": 66,
    "start_time": "2023-07-20T12:14:20.376Z"
   },
   {
    "duration": 23,
    "start_time": "2023-07-20T12:14:20.444Z"
   },
   {
    "duration": 97,
    "start_time": "2023-07-20T12:14:20.468Z"
   },
   {
    "duration": 126,
    "start_time": "2023-07-20T12:14:20.566Z"
   },
   {
    "duration": 92,
    "start_time": "2023-07-21T04:51:33.479Z"
   },
   {
    "duration": 60,
    "start_time": "2023-07-21T08:50:53.654Z"
   },
   {
    "duration": 1477,
    "start_time": "2023-07-21T08:51:11.733Z"
   },
   {
    "duration": 199,
    "start_time": "2023-07-21T08:51:13.212Z"
   },
   {
    "duration": 17,
    "start_time": "2023-07-21T08:51:13.413Z"
   },
   {
    "duration": 47,
    "start_time": "2023-07-21T08:51:13.432Z"
   },
   {
    "duration": 14,
    "start_time": "2023-07-21T08:51:13.481Z"
   },
   {
    "duration": 24,
    "start_time": "2023-07-21T08:51:13.497Z"
   },
   {
    "duration": 12,
    "start_time": "2023-07-21T08:51:13.522Z"
   },
   {
    "duration": 9,
    "start_time": "2023-07-21T08:51:13.536Z"
   },
   {
    "duration": 29,
    "start_time": "2023-07-21T08:51:13.547Z"
   },
   {
    "duration": 6,
    "start_time": "2023-07-21T08:51:13.579Z"
   },
   {
    "duration": 17,
    "start_time": "2023-07-21T08:51:13.586Z"
   },
   {
    "duration": 7,
    "start_time": "2023-07-21T08:51:13.605Z"
   },
   {
    "duration": 8,
    "start_time": "2023-07-21T08:51:13.614Z"
   },
   {
    "duration": 14,
    "start_time": "2023-07-21T08:51:13.624Z"
   },
   {
    "duration": 41,
    "start_time": "2023-07-21T08:51:13.639Z"
   },
   {
    "duration": 11,
    "start_time": "2023-07-21T08:51:13.681Z"
   },
   {
    "duration": 21,
    "start_time": "2023-07-21T08:51:13.693Z"
   },
   {
    "duration": 5,
    "start_time": "2023-07-21T08:51:13.716Z"
   },
   {
    "duration": 17,
    "start_time": "2023-07-21T08:51:13.723Z"
   },
   {
    "duration": 322,
    "start_time": "2023-07-21T08:51:13.741Z"
   },
   {
    "duration": 377,
    "start_time": "2023-07-21T08:51:14.070Z"
   },
   {
    "duration": 8,
    "start_time": "2023-07-21T08:51:14.449Z"
   },
   {
    "duration": 977,
    "start_time": "2023-07-21T08:51:14.467Z"
   },
   {
    "duration": 177,
    "start_time": "2023-07-21T08:51:15.446Z"
   },
   {
    "duration": 709,
    "start_time": "2023-07-21T08:51:15.625Z"
   },
   {
    "duration": 37,
    "start_time": "2023-07-21T08:51:16.336Z"
   },
   {
    "duration": 422,
    "start_time": "2023-07-21T08:51:16.375Z"
   },
   {
    "duration": 186,
    "start_time": "2023-07-21T08:51:16.801Z"
   },
   {
    "duration": 190,
    "start_time": "2023-07-21T08:51:16.989Z"
   },
   {
    "duration": 212,
    "start_time": "2023-07-21T08:51:17.182Z"
   },
   {
    "duration": 187,
    "start_time": "2023-07-21T08:51:17.396Z"
   },
   {
    "duration": 249,
    "start_time": "2023-07-21T08:51:17.585Z"
   },
   {
    "duration": 238,
    "start_time": "2023-07-21T08:51:17.836Z"
   },
   {
    "duration": 30,
    "start_time": "2023-07-21T08:51:18.076Z"
   },
   {
    "duration": 24,
    "start_time": "2023-07-21T08:51:18.108Z"
   },
   {
    "duration": 1085,
    "start_time": "2023-07-21T08:51:18.134Z"
   },
   {
    "duration": 135,
    "start_time": "2023-07-21T08:51:19.221Z"
   },
   {
    "duration": 11,
    "start_time": "2023-07-21T08:51:19.358Z"
   },
   {
    "duration": 843,
    "start_time": "2023-07-21T08:51:19.370Z"
   },
   {
    "duration": 68,
    "start_time": "2023-07-21T08:51:20.215Z"
   },
   {
    "duration": 10,
    "start_time": "2023-07-21T08:51:20.284Z"
   },
   {
    "duration": 97,
    "start_time": "2023-07-21T08:51:20.296Z"
   },
   {
    "duration": 0,
    "start_time": "2023-07-21T08:51:20.395Z"
   },
   {
    "duration": 4,
    "start_time": "2023-07-21T08:52:25.422Z"
   },
   {
    "duration": 67,
    "start_time": "2023-07-21T08:52:25.428Z"
   },
   {
    "duration": 16,
    "start_time": "2023-07-21T08:52:25.497Z"
   },
   {
    "duration": 58,
    "start_time": "2023-07-21T08:52:25.515Z"
   },
   {
    "duration": 9,
    "start_time": "2023-07-21T08:52:25.576Z"
   },
   {
    "duration": 24,
    "start_time": "2023-07-21T08:52:25.587Z"
   },
   {
    "duration": 16,
    "start_time": "2023-07-21T08:52:25.613Z"
   },
   {
    "duration": 20,
    "start_time": "2023-07-21T08:52:25.631Z"
   },
   {
    "duration": 27,
    "start_time": "2023-07-21T08:52:25.653Z"
   },
   {
    "duration": 3,
    "start_time": "2023-07-21T08:52:25.681Z"
   },
   {
    "duration": 39,
    "start_time": "2023-07-21T08:52:25.687Z"
   },
   {
    "duration": 38,
    "start_time": "2023-07-21T08:52:25.728Z"
   },
   {
    "duration": 36,
    "start_time": "2023-07-21T08:52:25.767Z"
   },
   {
    "duration": 25,
    "start_time": "2023-07-21T08:52:25.805Z"
   },
   {
    "duration": 29,
    "start_time": "2023-07-21T08:52:25.832Z"
   },
   {
    "duration": 18,
    "start_time": "2023-07-21T08:52:25.863Z"
   },
   {
    "duration": 27,
    "start_time": "2023-07-21T08:52:25.883Z"
   },
   {
    "duration": 6,
    "start_time": "2023-07-21T08:52:25.911Z"
   },
   {
    "duration": 23,
    "start_time": "2023-07-21T08:52:25.918Z"
   },
   {
    "duration": 264,
    "start_time": "2023-07-21T08:52:25.943Z"
   },
   {
    "duration": 360,
    "start_time": "2023-07-21T08:52:26.209Z"
   },
   {
    "duration": 7,
    "start_time": "2023-07-21T08:52:26.571Z"
   },
   {
    "duration": 942,
    "start_time": "2023-07-21T08:52:26.580Z"
   },
   {
    "duration": 159,
    "start_time": "2023-07-21T08:52:27.524Z"
   },
   {
    "duration": 618,
    "start_time": "2023-07-21T08:52:27.685Z"
   },
   {
    "duration": 22,
    "start_time": "2023-07-21T08:52:28.305Z"
   },
   {
    "duration": 455,
    "start_time": "2023-07-21T08:52:28.329Z"
   },
   {
    "duration": 196,
    "start_time": "2023-07-21T08:52:28.787Z"
   },
   {
    "duration": 182,
    "start_time": "2023-07-21T08:52:28.988Z"
   },
   {
    "duration": 181,
    "start_time": "2023-07-21T08:52:29.172Z"
   },
   {
    "duration": 191,
    "start_time": "2023-07-21T08:52:29.355Z"
   },
   {
    "duration": 193,
    "start_time": "2023-07-21T08:52:29.548Z"
   },
   {
    "duration": 201,
    "start_time": "2023-07-21T08:52:29.743Z"
   },
   {
    "duration": 39,
    "start_time": "2023-07-21T08:52:29.946Z"
   },
   {
    "duration": 10,
    "start_time": "2023-07-21T08:52:29.986Z"
   },
   {
    "duration": 995,
    "start_time": "2023-07-21T08:52:29.997Z"
   },
   {
    "duration": 30,
    "start_time": "2023-07-21T08:52:30.995Z"
   },
   {
    "duration": 30,
    "start_time": "2023-07-21T08:52:31.027Z"
   },
   {
    "duration": 1174,
    "start_time": "2023-07-21T08:52:31.059Z"
   },
   {
    "duration": 78,
    "start_time": "2023-07-21T08:52:32.236Z"
   },
   {
    "duration": 10,
    "start_time": "2023-07-21T08:52:32.316Z"
   },
   {
    "duration": 58,
    "start_time": "2023-07-21T08:52:32.328Z"
   },
   {
    "duration": 0,
    "start_time": "2023-07-21T08:52:32.388Z"
   },
   {
    "duration": 16,
    "start_time": "2023-07-21T08:53:53.732Z"
   },
   {
    "duration": 4,
    "start_time": "2023-07-21T08:53:56.936Z"
   },
   {
    "duration": 76,
    "start_time": "2023-07-21T08:53:56.941Z"
   },
   {
    "duration": 17,
    "start_time": "2023-07-21T08:53:57.019Z"
   },
   {
    "duration": 50,
    "start_time": "2023-07-21T08:53:57.039Z"
   },
   {
    "duration": 10,
    "start_time": "2023-07-21T08:53:57.090Z"
   },
   {
    "duration": 24,
    "start_time": "2023-07-21T08:53:57.102Z"
   },
   {
    "duration": 13,
    "start_time": "2023-07-21T08:53:57.127Z"
   },
   {
    "duration": 31,
    "start_time": "2023-07-21T08:53:57.142Z"
   },
   {
    "duration": 21,
    "start_time": "2023-07-21T08:53:57.175Z"
   },
   {
    "duration": 3,
    "start_time": "2023-07-21T08:53:57.198Z"
   },
   {
    "duration": 21,
    "start_time": "2023-07-21T08:53:57.203Z"
   },
   {
    "duration": 16,
    "start_time": "2023-07-21T08:53:57.226Z"
   },
   {
    "duration": 12,
    "start_time": "2023-07-21T08:53:57.244Z"
   },
   {
    "duration": 30,
    "start_time": "2023-07-21T08:53:57.258Z"
   },
   {
    "duration": 28,
    "start_time": "2023-07-21T08:53:57.289Z"
   },
   {
    "duration": 7,
    "start_time": "2023-07-21T08:53:57.319Z"
   },
   {
    "duration": 31,
    "start_time": "2023-07-21T08:53:57.327Z"
   },
   {
    "duration": 15,
    "start_time": "2023-07-21T08:53:57.360Z"
   },
   {
    "duration": 14,
    "start_time": "2023-07-21T08:53:57.377Z"
   },
   {
    "duration": 264,
    "start_time": "2023-07-21T08:53:57.392Z"
   },
   {
    "duration": 363,
    "start_time": "2023-07-21T08:53:57.658Z"
   },
   {
    "duration": 8,
    "start_time": "2023-07-21T08:53:58.023Z"
   },
   {
    "duration": 988,
    "start_time": "2023-07-21T08:53:58.033Z"
   },
   {
    "duration": 174,
    "start_time": "2023-07-21T08:53:59.023Z"
   },
   {
    "duration": 739,
    "start_time": "2023-07-21T08:53:59.199Z"
   },
   {
    "duration": 42,
    "start_time": "2023-07-21T08:53:59.940Z"
   },
   {
    "duration": 315,
    "start_time": "2023-07-21T08:53:59.984Z"
   },
   {
    "duration": 194,
    "start_time": "2023-07-21T08:54:00.304Z"
   },
   {
    "duration": 183,
    "start_time": "2023-07-21T08:54:00.500Z"
   },
   {
    "duration": 198,
    "start_time": "2023-07-21T08:54:00.685Z"
   },
   {
    "duration": 170,
    "start_time": "2023-07-21T08:54:00.885Z"
   },
   {
    "duration": 222,
    "start_time": "2023-07-21T08:54:01.057Z"
   },
   {
    "duration": 210,
    "start_time": "2023-07-21T08:54:01.281Z"
   },
   {
    "duration": 30,
    "start_time": "2023-07-21T08:54:01.493Z"
   },
   {
    "duration": 124,
    "start_time": "2023-07-21T08:54:01.525Z"
   },
   {
    "duration": 1473,
    "start_time": "2023-07-21T08:54:01.651Z"
   },
   {
    "duration": 41,
    "start_time": "2023-07-21T08:54:03.126Z"
   },
   {
    "duration": 17,
    "start_time": "2023-07-21T08:54:03.169Z"
   },
   {
    "duration": 1196,
    "start_time": "2023-07-21T08:54:03.188Z"
   },
   {
    "duration": 49,
    "start_time": "2023-07-21T08:54:04.389Z"
   },
   {
    "duration": 35,
    "start_time": "2023-07-21T08:54:04.440Z"
   },
   {
    "duration": 18,
    "start_time": "2023-07-21T08:54:04.477Z"
   },
   {
    "duration": 0,
    "start_time": "2023-07-21T08:54:04.497Z"
   },
   {
    "duration": 3,
    "start_time": "2023-07-21T08:54:33.040Z"
   },
   {
    "duration": 76,
    "start_time": "2023-07-21T08:54:33.045Z"
   },
   {
    "duration": 17,
    "start_time": "2023-07-21T08:54:33.123Z"
   },
   {
    "duration": 57,
    "start_time": "2023-07-21T08:54:33.142Z"
   },
   {
    "duration": 12,
    "start_time": "2023-07-21T08:54:33.201Z"
   },
   {
    "duration": 38,
    "start_time": "2023-07-21T08:54:33.215Z"
   },
   {
    "duration": 17,
    "start_time": "2023-07-21T08:54:33.255Z"
   },
   {
    "duration": 22,
    "start_time": "2023-07-21T08:54:33.274Z"
   },
   {
    "duration": 34,
    "start_time": "2023-07-21T08:54:33.298Z"
   },
   {
    "duration": 36,
    "start_time": "2023-07-21T08:54:33.335Z"
   },
   {
    "duration": 18,
    "start_time": "2023-07-21T08:54:33.374Z"
   },
   {
    "duration": 8,
    "start_time": "2023-07-21T08:54:33.394Z"
   },
   {
    "duration": 24,
    "start_time": "2023-07-21T08:54:33.404Z"
   },
   {
    "duration": 13,
    "start_time": "2023-07-21T08:54:33.430Z"
   },
   {
    "duration": 24,
    "start_time": "2023-07-21T08:54:33.444Z"
   },
   {
    "duration": 14,
    "start_time": "2023-07-21T08:54:33.470Z"
   },
   {
    "duration": 18,
    "start_time": "2023-07-21T08:54:33.486Z"
   },
   {
    "duration": 6,
    "start_time": "2023-07-21T08:54:33.506Z"
   },
   {
    "duration": 20,
    "start_time": "2023-07-21T08:54:33.513Z"
   },
   {
    "duration": 263,
    "start_time": "2023-07-21T08:54:33.535Z"
   },
   {
    "duration": 399,
    "start_time": "2023-07-21T08:54:33.799Z"
   },
   {
    "duration": 8,
    "start_time": "2023-07-21T08:54:34.199Z"
   },
   {
    "duration": 1020,
    "start_time": "2023-07-21T08:54:34.209Z"
   },
   {
    "duration": 161,
    "start_time": "2023-07-21T08:54:35.231Z"
   },
   {
    "duration": 726,
    "start_time": "2023-07-21T08:54:35.394Z"
   },
   {
    "duration": 24,
    "start_time": "2023-07-21T08:54:36.122Z"
   },
   {
    "duration": 442,
    "start_time": "2023-07-21T08:54:36.149Z"
   },
   {
    "duration": 179,
    "start_time": "2023-07-21T08:54:36.596Z"
   },
   {
    "duration": 180,
    "start_time": "2023-07-21T08:54:36.778Z"
   },
   {
    "duration": 173,
    "start_time": "2023-07-21T08:54:36.959Z"
   },
   {
    "duration": 195,
    "start_time": "2023-07-21T08:54:37.134Z"
   },
   {
    "duration": 211,
    "start_time": "2023-07-21T08:54:37.332Z"
   },
   {
    "duration": 197,
    "start_time": "2023-07-21T08:54:37.545Z"
   },
   {
    "duration": 35,
    "start_time": "2023-07-21T08:54:37.744Z"
   },
   {
    "duration": 8,
    "start_time": "2023-07-21T08:54:37.782Z"
   },
   {
    "duration": 972,
    "start_time": "2023-07-21T08:54:37.792Z"
   },
   {
    "duration": 27,
    "start_time": "2023-07-21T08:54:38.767Z"
   },
   {
    "duration": 10,
    "start_time": "2023-07-21T08:54:38.796Z"
   },
   {
    "duration": 1131,
    "start_time": "2023-07-21T08:54:38.808Z"
   },
   {
    "duration": 60,
    "start_time": "2023-07-21T08:54:39.941Z"
   },
   {
    "duration": 8,
    "start_time": "2023-07-21T08:54:40.003Z"
   },
   {
    "duration": 35,
    "start_time": "2023-07-21T08:54:40.013Z"
   },
   {
    "duration": 0,
    "start_time": "2023-07-21T08:54:40.050Z"
   },
   {
    "duration": 4,
    "start_time": "2023-07-21T08:55:58.712Z"
   },
   {
    "duration": 65,
    "start_time": "2023-07-21T08:55:58.719Z"
   },
   {
    "duration": 17,
    "start_time": "2023-07-21T08:55:58.785Z"
   },
   {
    "duration": 29,
    "start_time": "2023-07-21T08:55:58.804Z"
   },
   {
    "duration": 33,
    "start_time": "2023-07-21T08:55:58.835Z"
   },
   {
    "duration": 16,
    "start_time": "2023-07-21T08:55:58.870Z"
   },
   {
    "duration": 16,
    "start_time": "2023-07-21T08:55:58.888Z"
   },
   {
    "duration": 17,
    "start_time": "2023-07-21T08:55:58.906Z"
   },
   {
    "duration": 21,
    "start_time": "2023-07-21T08:55:58.925Z"
   },
   {
    "duration": 2,
    "start_time": "2023-07-21T08:55:58.949Z"
   },
   {
    "duration": 15,
    "start_time": "2023-07-21T08:55:58.966Z"
   },
   {
    "duration": 7,
    "start_time": "2023-07-21T08:55:58.983Z"
   },
   {
    "duration": 11,
    "start_time": "2023-07-21T08:55:58.992Z"
   },
   {
    "duration": 9,
    "start_time": "2023-07-21T08:55:59.005Z"
   },
   {
    "duration": 25,
    "start_time": "2023-07-21T08:55:59.016Z"
   },
   {
    "duration": 29,
    "start_time": "2023-07-21T08:55:59.043Z"
   },
   {
    "duration": 30,
    "start_time": "2023-07-21T08:55:59.073Z"
   },
   {
    "duration": 5,
    "start_time": "2023-07-21T08:55:59.105Z"
   },
   {
    "duration": 12,
    "start_time": "2023-07-21T08:55:59.112Z"
   },
   {
    "duration": 256,
    "start_time": "2023-07-21T08:55:59.126Z"
   },
   {
    "duration": 346,
    "start_time": "2023-07-21T08:55:59.383Z"
   },
   {
    "duration": 9,
    "start_time": "2023-07-21T08:55:59.731Z"
   },
   {
    "duration": 956,
    "start_time": "2023-07-21T08:55:59.742Z"
   },
   {
    "duration": 157,
    "start_time": "2023-07-21T08:56:00.700Z"
   },
   {
    "duration": 775,
    "start_time": "2023-07-21T08:56:00.860Z"
   },
   {
    "duration": 31,
    "start_time": "2023-07-21T08:56:01.637Z"
   },
   {
    "duration": 355,
    "start_time": "2023-07-21T08:56:01.670Z"
   },
   {
    "duration": 191,
    "start_time": "2023-07-21T08:56:02.029Z"
   },
   {
    "duration": 226,
    "start_time": "2023-07-21T08:56:02.222Z"
   },
   {
    "duration": 192,
    "start_time": "2023-07-21T08:56:02.450Z"
   },
   {
    "duration": 170,
    "start_time": "2023-07-21T08:56:02.645Z"
   },
   {
    "duration": 203,
    "start_time": "2023-07-21T08:56:02.817Z"
   },
   {
    "duration": 217,
    "start_time": "2023-07-21T08:56:03.022Z"
   },
   {
    "duration": 35,
    "start_time": "2023-07-21T08:56:03.241Z"
   },
   {
    "duration": 8,
    "start_time": "2023-07-21T08:56:03.278Z"
   },
   {
    "duration": 1028,
    "start_time": "2023-07-21T08:56:03.287Z"
   },
   {
    "duration": 28,
    "start_time": "2023-07-21T08:56:04.317Z"
   },
   {
    "duration": 28,
    "start_time": "2023-07-21T08:56:04.347Z"
   },
   {
    "duration": 1089,
    "start_time": "2023-07-21T08:56:04.376Z"
   },
   {
    "duration": 48,
    "start_time": "2023-07-21T08:56:05.467Z"
   },
   {
    "duration": 7,
    "start_time": "2023-07-21T08:56:05.516Z"
   },
   {
    "duration": 41,
    "start_time": "2023-07-21T08:56:05.525Z"
   },
   {
    "duration": 0,
    "start_time": "2023-07-21T08:56:05.567Z"
   },
   {
    "duration": 11,
    "start_time": "2023-07-21T08:56:18.204Z"
   },
   {
    "duration": 18,
    "start_time": "2023-07-21T08:57:00.099Z"
   },
   {
    "duration": 20,
    "start_time": "2023-07-21T08:57:15.483Z"
   },
   {
    "duration": 15,
    "start_time": "2023-07-21T08:58:25.219Z"
   },
   {
    "duration": 3,
    "start_time": "2023-07-21T09:00:04.646Z"
   },
   {
    "duration": 84,
    "start_time": "2023-07-21T09:00:04.651Z"
   },
   {
    "duration": 16,
    "start_time": "2023-07-21T09:00:04.737Z"
   },
   {
    "duration": 35,
    "start_time": "2023-07-21T09:00:04.755Z"
   },
   {
    "duration": 10,
    "start_time": "2023-07-21T09:00:04.792Z"
   },
   {
    "duration": 51,
    "start_time": "2023-07-21T09:00:04.804Z"
   },
   {
    "duration": 30,
    "start_time": "2023-07-21T09:00:04.857Z"
   },
   {
    "duration": 29,
    "start_time": "2023-07-21T09:00:04.889Z"
   },
   {
    "duration": 29,
    "start_time": "2023-07-21T09:00:04.920Z"
   },
   {
    "duration": 8,
    "start_time": "2023-07-21T09:00:04.951Z"
   },
   {
    "duration": 38,
    "start_time": "2023-07-21T09:00:04.961Z"
   },
   {
    "duration": 22,
    "start_time": "2023-07-21T09:00:05.001Z"
   },
   {
    "duration": 31,
    "start_time": "2023-07-21T09:00:05.027Z"
   },
   {
    "duration": 23,
    "start_time": "2023-07-21T09:00:05.060Z"
   },
   {
    "duration": 30,
    "start_time": "2023-07-21T09:00:05.085Z"
   },
   {
    "duration": 6,
    "start_time": "2023-07-21T09:00:05.116Z"
   },
   {
    "duration": 67,
    "start_time": "2023-07-21T09:00:05.124Z"
   },
   {
    "duration": 7,
    "start_time": "2023-07-21T09:00:05.193Z"
   },
   {
    "duration": 18,
    "start_time": "2023-07-21T09:00:05.202Z"
   },
   {
    "duration": 241,
    "start_time": "2023-07-21T09:00:05.222Z"
   },
   {
    "duration": 349,
    "start_time": "2023-07-21T09:00:05.465Z"
   },
   {
    "duration": 7,
    "start_time": "2023-07-21T09:00:05.816Z"
   },
   {
    "duration": 964,
    "start_time": "2023-07-21T09:00:05.825Z"
   },
   {
    "duration": 168,
    "start_time": "2023-07-21T09:00:06.791Z"
   },
   {
    "duration": 620,
    "start_time": "2023-07-21T09:00:06.960Z"
   },
   {
    "duration": 24,
    "start_time": "2023-07-21T09:00:07.581Z"
   },
   {
    "duration": 322,
    "start_time": "2023-07-21T09:00:07.607Z"
   },
   {
    "duration": 306,
    "start_time": "2023-07-21T09:00:07.931Z"
   },
   {
    "duration": 172,
    "start_time": "2023-07-21T09:00:08.239Z"
   },
   {
    "duration": 180,
    "start_time": "2023-07-21T09:00:08.413Z"
   },
   {
    "duration": 175,
    "start_time": "2023-07-21T09:00:08.595Z"
   },
   {
    "duration": 209,
    "start_time": "2023-07-21T09:00:08.771Z"
   },
   {
    "duration": 202,
    "start_time": "2023-07-21T09:00:08.982Z"
   },
   {
    "duration": 27,
    "start_time": "2023-07-21T09:00:09.186Z"
   },
   {
    "duration": 11,
    "start_time": "2023-07-21T09:00:09.214Z"
   },
   {
    "duration": 960,
    "start_time": "2023-07-21T09:00:09.227Z"
   },
   {
    "duration": 29,
    "start_time": "2023-07-21T09:00:10.192Z"
   },
   {
    "duration": 84,
    "start_time": "2023-07-21T09:00:10.223Z"
   },
   {
    "duration": 980,
    "start_time": "2023-07-21T09:00:10.309Z"
   },
   {
    "duration": 210,
    "start_time": "2023-07-21T09:00:11.291Z"
   },
   {
    "duration": 7,
    "start_time": "2023-07-21T09:00:11.503Z"
   },
   {
    "duration": 56,
    "start_time": "2023-07-21T09:00:11.512Z"
   },
   {
    "duration": 18,
    "start_time": "2023-07-21T09:01:15.971Z"
   },
   {
    "duration": 18,
    "start_time": "2023-07-21T09:01:57.428Z"
   },
   {
    "duration": 22,
    "start_time": "2023-07-21T09:04:02.287Z"
   },
   {
    "duration": 3,
    "start_time": "2023-07-21T09:04:39.057Z"
   },
   {
    "duration": 88,
    "start_time": "2023-07-21T09:04:39.061Z"
   },
   {
    "duration": 25,
    "start_time": "2023-07-21T09:04:39.151Z"
   },
   {
    "duration": 29,
    "start_time": "2023-07-21T09:04:39.179Z"
   },
   {
    "duration": 9,
    "start_time": "2023-07-21T09:04:39.210Z"
   },
   {
    "duration": 28,
    "start_time": "2023-07-21T09:04:39.221Z"
   },
   {
    "duration": 30,
    "start_time": "2023-07-21T09:04:39.251Z"
   },
   {
    "duration": 22,
    "start_time": "2023-07-21T09:04:39.285Z"
   },
   {
    "duration": 25,
    "start_time": "2023-07-21T09:04:39.309Z"
   },
   {
    "duration": 3,
    "start_time": "2023-07-21T09:04:39.338Z"
   },
   {
    "duration": 74,
    "start_time": "2023-07-21T09:04:39.343Z"
   },
   {
    "duration": 24,
    "start_time": "2023-07-21T09:04:39.419Z"
   },
   {
    "duration": 15,
    "start_time": "2023-07-21T09:04:39.445Z"
   },
   {
    "duration": 39,
    "start_time": "2023-07-21T09:04:39.461Z"
   },
   {
    "duration": 37,
    "start_time": "2023-07-21T09:04:39.502Z"
   },
   {
    "duration": 21,
    "start_time": "2023-07-21T09:04:39.541Z"
   },
   {
    "duration": 39,
    "start_time": "2023-07-21T09:04:39.564Z"
   },
   {
    "duration": 8,
    "start_time": "2023-07-21T09:04:39.605Z"
   },
   {
    "duration": 31,
    "start_time": "2023-07-21T09:04:39.615Z"
   },
   {
    "duration": 342,
    "start_time": "2023-07-21T09:04:39.648Z"
   },
   {
    "duration": 394,
    "start_time": "2023-07-21T09:04:39.993Z"
   },
   {
    "duration": 7,
    "start_time": "2023-07-21T09:04:40.390Z"
   },
   {
    "duration": 1048,
    "start_time": "2023-07-21T09:04:40.399Z"
   },
   {
    "duration": 191,
    "start_time": "2023-07-21T09:04:41.450Z"
   },
   {
    "duration": 695,
    "start_time": "2023-07-21T09:04:41.642Z"
   },
   {
    "duration": 48,
    "start_time": "2023-07-21T09:04:42.340Z"
   },
   {
    "duration": 305,
    "start_time": "2023-07-21T09:04:42.390Z"
   },
   {
    "duration": 196,
    "start_time": "2023-07-21T09:04:42.699Z"
   },
   {
    "duration": 346,
    "start_time": "2023-07-21T09:04:42.896Z"
   },
   {
    "duration": 190,
    "start_time": "2023-07-21T09:04:43.244Z"
   },
   {
    "duration": 181,
    "start_time": "2023-07-21T09:04:43.436Z"
   },
   {
    "duration": 204,
    "start_time": "2023-07-21T09:04:43.619Z"
   },
   {
    "duration": 266,
    "start_time": "2023-07-21T09:04:43.825Z"
   },
   {
    "duration": 36,
    "start_time": "2023-07-21T09:04:44.093Z"
   },
   {
    "duration": 10,
    "start_time": "2023-07-21T09:04:44.131Z"
   },
   {
    "duration": 1157,
    "start_time": "2023-07-21T09:04:44.143Z"
   },
   {
    "duration": 29,
    "start_time": "2023-07-21T09:04:45.302Z"
   },
   {
    "duration": 43,
    "start_time": "2023-07-21T09:04:45.332Z"
   },
   {
    "duration": 1180,
    "start_time": "2023-07-21T09:04:45.377Z"
   },
   {
    "duration": 65,
    "start_time": "2023-07-21T09:04:46.559Z"
   },
   {
    "duration": 10,
    "start_time": "2023-07-21T09:04:46.626Z"
   },
   {
    "duration": 45,
    "start_time": "2023-07-21T09:04:46.637Z"
   },
   {
    "duration": 0,
    "start_time": "2023-07-21T09:04:46.685Z"
   },
   {
    "duration": 18,
    "start_time": "2023-07-21T09:06:10.040Z"
   },
   {
    "duration": 9,
    "start_time": "2023-07-21T09:08:09.063Z"
   },
   {
    "duration": 71,
    "start_time": "2023-07-21T09:08:09.076Z"
   },
   {
    "duration": 16,
    "start_time": "2023-07-21T09:08:09.148Z"
   },
   {
    "duration": 43,
    "start_time": "2023-07-21T09:08:09.170Z"
   },
   {
    "duration": 23,
    "start_time": "2023-07-21T09:08:09.216Z"
   },
   {
    "duration": 40,
    "start_time": "2023-07-21T09:08:09.241Z"
   },
   {
    "duration": 17,
    "start_time": "2023-07-21T09:08:09.283Z"
   },
   {
    "duration": 8,
    "start_time": "2023-07-21T09:08:09.302Z"
   },
   {
    "duration": 35,
    "start_time": "2023-07-21T09:08:09.312Z"
   },
   {
    "duration": 2,
    "start_time": "2023-07-21T09:08:09.350Z"
   },
   {
    "duration": 25,
    "start_time": "2023-07-21T09:08:09.354Z"
   },
   {
    "duration": 15,
    "start_time": "2023-07-21T09:08:09.382Z"
   },
   {
    "duration": 15,
    "start_time": "2023-07-21T09:08:09.399Z"
   },
   {
    "duration": 17,
    "start_time": "2023-07-21T09:08:09.416Z"
   },
   {
    "duration": 24,
    "start_time": "2023-07-21T09:08:09.436Z"
   },
   {
    "duration": 9,
    "start_time": "2023-07-21T09:08:09.462Z"
   },
   {
    "duration": 20,
    "start_time": "2023-07-21T09:08:09.477Z"
   },
   {
    "duration": 5,
    "start_time": "2023-07-21T09:08:09.499Z"
   },
   {
    "duration": 12,
    "start_time": "2023-07-21T09:08:09.506Z"
   },
   {
    "duration": 291,
    "start_time": "2023-07-21T09:08:09.520Z"
   },
   {
    "duration": 537,
    "start_time": "2023-07-21T09:08:09.813Z"
   },
   {
    "duration": 31,
    "start_time": "2023-07-21T09:08:10.352Z"
   },
   {
    "duration": 994,
    "start_time": "2023-07-21T09:08:10.385Z"
   },
   {
    "duration": 171,
    "start_time": "2023-07-21T09:08:11.385Z"
   },
   {
    "duration": 672,
    "start_time": "2023-07-21T09:08:11.557Z"
   },
   {
    "duration": 22,
    "start_time": "2023-07-21T09:08:12.232Z"
   },
   {
    "duration": 326,
    "start_time": "2023-07-21T09:08:12.256Z"
   },
   {
    "duration": 197,
    "start_time": "2023-07-21T09:08:12.586Z"
   },
   {
    "duration": 188,
    "start_time": "2023-07-21T09:08:12.785Z"
   },
   {
    "duration": 182,
    "start_time": "2023-07-21T09:08:12.975Z"
   },
   {
    "duration": 195,
    "start_time": "2023-07-21T09:08:13.158Z"
   },
   {
    "duration": 354,
    "start_time": "2023-07-21T09:08:13.355Z"
   },
   {
    "duration": 231,
    "start_time": "2023-07-21T09:08:13.711Z"
   },
   {
    "duration": 47,
    "start_time": "2023-07-21T09:08:13.944Z"
   },
   {
    "duration": 15,
    "start_time": "2023-07-21T09:08:13.993Z"
   },
   {
    "duration": 1112,
    "start_time": "2023-07-21T09:08:14.010Z"
   },
   {
    "duration": 45,
    "start_time": "2023-07-21T09:08:15.124Z"
   },
   {
    "duration": 10,
    "start_time": "2023-07-21T09:08:15.181Z"
   },
   {
    "duration": 1163,
    "start_time": "2023-07-21T09:08:15.193Z"
   },
   {
    "duration": 71,
    "start_time": "2023-07-21T09:08:16.358Z"
   },
   {
    "duration": 8,
    "start_time": "2023-07-21T09:08:16.431Z"
   },
   {
    "duration": 62,
    "start_time": "2023-07-21T09:08:16.441Z"
   },
   {
    "duration": 0,
    "start_time": "2023-07-21T09:08:16.505Z"
   },
   {
    "duration": 17,
    "start_time": "2023-07-21T09:09:13.106Z"
   },
   {
    "duration": 11,
    "start_time": "2023-07-21T09:09:29.055Z"
   },
   {
    "duration": 3,
    "start_time": "2023-07-21T09:09:39.359Z"
   },
   {
    "duration": 84,
    "start_time": "2023-07-21T09:09:39.365Z"
   },
   {
    "duration": 23,
    "start_time": "2023-07-21T09:09:39.451Z"
   },
   {
    "duration": 35,
    "start_time": "2023-07-21T09:09:39.476Z"
   },
   {
    "duration": 10,
    "start_time": "2023-07-21T09:09:39.515Z"
   },
   {
    "duration": 40,
    "start_time": "2023-07-21T09:09:39.527Z"
   },
   {
    "duration": 23,
    "start_time": "2023-07-21T09:09:39.570Z"
   },
   {
    "duration": 11,
    "start_time": "2023-07-21T09:09:39.597Z"
   },
   {
    "duration": 51,
    "start_time": "2023-07-21T09:09:39.610Z"
   },
   {
    "duration": 8,
    "start_time": "2023-07-21T09:09:39.663Z"
   },
   {
    "duration": 42,
    "start_time": "2023-07-21T09:09:39.673Z"
   },
   {
    "duration": 11,
    "start_time": "2023-07-21T09:09:39.717Z"
   },
   {
    "duration": 14,
    "start_time": "2023-07-21T09:09:39.730Z"
   },
   {
    "duration": 15,
    "start_time": "2023-07-21T09:09:39.747Z"
   },
   {
    "duration": 30,
    "start_time": "2023-07-21T09:09:39.764Z"
   },
   {
    "duration": 6,
    "start_time": "2023-07-21T09:09:39.796Z"
   },
   {
    "duration": 34,
    "start_time": "2023-07-21T09:09:39.803Z"
   },
   {
    "duration": 6,
    "start_time": "2023-07-21T09:09:39.839Z"
   },
   {
    "duration": 24,
    "start_time": "2023-07-21T09:09:39.846Z"
   },
   {
    "duration": 285,
    "start_time": "2023-07-21T09:09:39.872Z"
   },
   {
    "duration": 547,
    "start_time": "2023-07-21T09:09:40.159Z"
   },
   {
    "duration": 7,
    "start_time": "2023-07-21T09:09:40.708Z"
   },
   {
    "duration": 1087,
    "start_time": "2023-07-21T09:09:40.717Z"
   },
   {
    "duration": 186,
    "start_time": "2023-07-21T09:09:41.806Z"
   },
   {
    "duration": 667,
    "start_time": "2023-07-21T09:09:41.994Z"
   },
   {
    "duration": 31,
    "start_time": "2023-07-21T09:09:42.666Z"
   },
   {
    "duration": 346,
    "start_time": "2023-07-21T09:09:42.699Z"
   },
   {
    "duration": 214,
    "start_time": "2023-07-21T09:09:43.046Z"
   },
   {
    "duration": 196,
    "start_time": "2023-07-21T09:09:43.266Z"
   },
   {
    "duration": 207,
    "start_time": "2023-07-21T09:09:43.467Z"
   },
   {
    "duration": 184,
    "start_time": "2023-07-21T09:09:43.677Z"
   },
   {
    "duration": 287,
    "start_time": "2023-07-21T09:09:43.867Z"
   },
   {
    "duration": 291,
    "start_time": "2023-07-21T09:09:44.157Z"
   },
   {
    "duration": 42,
    "start_time": "2023-07-21T09:09:44.449Z"
   },
   {
    "duration": 10,
    "start_time": "2023-07-21T09:09:44.493Z"
   },
   {
    "duration": 1294,
    "start_time": "2023-07-21T09:09:44.505Z"
   },
   {
    "duration": 30,
    "start_time": "2023-07-21T09:09:45.801Z"
   },
   {
    "duration": 11,
    "start_time": "2023-07-21T09:09:45.833Z"
   },
   {
    "duration": 1143,
    "start_time": "2023-07-21T09:09:45.872Z"
   },
   {
    "duration": 73,
    "start_time": "2023-07-21T09:09:47.017Z"
   },
   {
    "duration": 9,
    "start_time": "2023-07-21T09:09:47.096Z"
   },
   {
    "duration": 27,
    "start_time": "2023-07-21T09:09:47.106Z"
   },
   {
    "duration": 52,
    "start_time": "2023-07-21T09:09:47.135Z"
   },
   {
    "duration": 3,
    "start_time": "2023-07-21T09:11:07.252Z"
   },
   {
    "duration": 97,
    "start_time": "2023-07-21T09:11:07.257Z"
   },
   {
    "duration": 31,
    "start_time": "2023-07-21T09:11:07.356Z"
   },
   {
    "duration": 28,
    "start_time": "2023-07-21T09:11:07.392Z"
   },
   {
    "duration": 9,
    "start_time": "2023-07-21T09:11:07.422Z"
   },
   {
    "duration": 18,
    "start_time": "2023-07-21T09:11:07.432Z"
   },
   {
    "duration": 30,
    "start_time": "2023-07-21T09:11:07.451Z"
   },
   {
    "duration": 13,
    "start_time": "2023-07-21T09:11:07.484Z"
   },
   {
    "duration": 16,
    "start_time": "2023-07-21T09:11:07.500Z"
   },
   {
    "duration": 2,
    "start_time": "2023-07-21T09:11:07.518Z"
   },
   {
    "duration": 17,
    "start_time": "2023-07-21T09:11:07.522Z"
   },
   {
    "duration": 11,
    "start_time": "2023-07-21T09:11:07.541Z"
   },
   {
    "duration": 34,
    "start_time": "2023-07-21T09:11:07.554Z"
   },
   {
    "duration": 10,
    "start_time": "2023-07-21T09:11:07.592Z"
   },
   {
    "duration": 20,
    "start_time": "2023-07-21T09:11:07.603Z"
   },
   {
    "duration": 5,
    "start_time": "2023-07-21T09:11:07.625Z"
   },
   {
    "duration": 32,
    "start_time": "2023-07-21T09:11:07.632Z"
   },
   {
    "duration": 14,
    "start_time": "2023-07-21T09:11:07.665Z"
   },
   {
    "duration": 24,
    "start_time": "2023-07-21T09:11:07.681Z"
   },
   {
    "duration": 286,
    "start_time": "2023-07-21T09:11:07.707Z"
   },
   {
    "duration": 369,
    "start_time": "2023-07-21T09:11:07.996Z"
   },
   {
    "duration": 23,
    "start_time": "2023-07-21T09:11:08.369Z"
   },
   {
    "duration": 1028,
    "start_time": "2023-07-21T09:11:08.395Z"
   },
   {
    "duration": 182,
    "start_time": "2023-07-21T09:11:09.427Z"
   },
   {
    "duration": 822,
    "start_time": "2023-07-21T09:11:09.612Z"
   },
   {
    "duration": 23,
    "start_time": "2023-07-21T09:11:10.435Z"
   },
   {
    "duration": 314,
    "start_time": "2023-07-21T09:11:10.472Z"
   },
   {
    "duration": 205,
    "start_time": "2023-07-21T09:11:10.788Z"
   },
   {
    "duration": 193,
    "start_time": "2023-07-21T09:11:10.997Z"
   },
   {
    "duration": 193,
    "start_time": "2023-07-21T09:11:11.192Z"
   },
   {
    "duration": 189,
    "start_time": "2023-07-21T09:11:11.389Z"
   },
   {
    "duration": 225,
    "start_time": "2023-07-21T09:11:11.580Z"
   },
   {
    "duration": 220,
    "start_time": "2023-07-21T09:11:11.807Z"
   },
   {
    "duration": 27,
    "start_time": "2023-07-21T09:11:12.029Z"
   },
   {
    "duration": 23,
    "start_time": "2023-07-21T09:11:12.067Z"
   },
   {
    "duration": 1107,
    "start_time": "2023-07-21T09:11:12.093Z"
   },
   {
    "duration": 33,
    "start_time": "2023-07-21T09:11:13.203Z"
   },
   {
    "duration": 30,
    "start_time": "2023-07-21T09:11:13.238Z"
   },
   {
    "duration": 1155,
    "start_time": "2023-07-21T09:11:13.270Z"
   },
   {
    "duration": 259,
    "start_time": "2023-07-21T09:11:14.427Z"
   },
   {
    "duration": 9,
    "start_time": "2023-07-21T09:11:14.689Z"
   },
   {
    "duration": 25,
    "start_time": "2023-07-21T09:11:14.700Z"
   },
   {
    "duration": 20,
    "start_time": "2023-07-21T09:11:14.727Z"
   },
   {
    "duration": 11,
    "start_time": "2023-07-21T09:13:33.622Z"
   },
   {
    "duration": 14,
    "start_time": "2023-07-21T09:14:11.565Z"
   },
   {
    "duration": 4,
    "start_time": "2023-07-21T09:14:53.939Z"
   },
   {
    "duration": 160,
    "start_time": "2023-07-21T09:14:53.946Z"
   },
   {
    "duration": 20,
    "start_time": "2023-07-21T09:14:54.109Z"
   },
   {
    "duration": 80,
    "start_time": "2023-07-21T09:14:54.132Z"
   },
   {
    "duration": 13,
    "start_time": "2023-07-21T09:14:54.214Z"
   },
   {
    "duration": 62,
    "start_time": "2023-07-21T09:14:54.229Z"
   },
   {
    "duration": 35,
    "start_time": "2023-07-21T09:14:54.294Z"
   },
   {
    "duration": 20,
    "start_time": "2023-07-21T09:14:54.331Z"
   },
   {
    "duration": 18,
    "start_time": "2023-07-21T09:14:54.353Z"
   },
   {
    "duration": 13,
    "start_time": "2023-07-21T09:14:54.374Z"
   },
   {
    "duration": 54,
    "start_time": "2023-07-21T09:14:54.389Z"
   },
   {
    "duration": 46,
    "start_time": "2023-07-21T09:14:54.445Z"
   },
   {
    "duration": 37,
    "start_time": "2023-07-21T09:14:54.497Z"
   },
   {
    "duration": 48,
    "start_time": "2023-07-21T09:14:54.536Z"
   },
   {
    "duration": 36,
    "start_time": "2023-07-21T09:14:54.586Z"
   },
   {
    "duration": 15,
    "start_time": "2023-07-21T09:14:54.624Z"
   },
   {
    "duration": 15,
    "start_time": "2023-07-21T09:14:54.642Z"
   },
   {
    "duration": 6,
    "start_time": "2023-07-21T09:14:54.658Z"
   },
   {
    "duration": 52,
    "start_time": "2023-07-21T09:14:54.666Z"
   },
   {
    "duration": 304,
    "start_time": "2023-07-21T09:14:54.720Z"
   },
   {
    "duration": 446,
    "start_time": "2023-07-21T09:14:55.026Z"
   },
   {
    "duration": 26,
    "start_time": "2023-07-21T09:14:55.474Z"
   },
   {
    "duration": 1060,
    "start_time": "2023-07-21T09:14:55.502Z"
   },
   {
    "duration": 199,
    "start_time": "2023-07-21T09:14:56.566Z"
   },
   {
    "duration": 712,
    "start_time": "2023-07-21T09:14:56.766Z"
   },
   {
    "duration": 32,
    "start_time": "2023-07-21T09:14:57.483Z"
   },
   {
    "duration": 342,
    "start_time": "2023-07-21T09:14:57.517Z"
   },
   {
    "duration": 223,
    "start_time": "2023-07-21T09:14:57.868Z"
   },
   {
    "duration": 211,
    "start_time": "2023-07-21T09:14:58.093Z"
   },
   {
    "duration": 213,
    "start_time": "2023-07-21T09:14:58.306Z"
   },
   {
    "duration": 204,
    "start_time": "2023-07-21T09:14:58.521Z"
   },
   {
    "duration": 403,
    "start_time": "2023-07-21T09:14:58.726Z"
   },
   {
    "duration": 239,
    "start_time": "2023-07-21T09:14:59.131Z"
   },
   {
    "duration": 35,
    "start_time": "2023-07-21T09:14:59.373Z"
   },
   {
    "duration": 9,
    "start_time": "2023-07-21T09:14:59.410Z"
   },
   {
    "duration": 1179,
    "start_time": "2023-07-21T09:14:59.421Z"
   },
   {
    "duration": 31,
    "start_time": "2023-07-21T09:15:00.602Z"
   },
   {
    "duration": 68,
    "start_time": "2023-07-21T09:15:00.635Z"
   },
   {
    "duration": 1173,
    "start_time": "2023-07-21T09:15:00.705Z"
   },
   {
    "duration": 57,
    "start_time": "2023-07-21T09:15:01.881Z"
   },
   {
    "duration": 174,
    "start_time": "2023-07-21T09:15:01.940Z"
   },
   {
    "duration": 227,
    "start_time": "2023-07-21T09:15:02.116Z"
   },
   {
    "duration": 0,
    "start_time": "2023-07-21T09:15:02.345Z"
   },
   {
    "duration": 4,
    "start_time": "2023-07-21T09:15:30.803Z"
   },
   {
    "duration": 273,
    "start_time": "2023-07-21T09:15:30.809Z"
   },
   {
    "duration": 75,
    "start_time": "2023-07-21T09:15:31.084Z"
   },
   {
    "duration": 122,
    "start_time": "2023-07-21T09:15:31.162Z"
   },
   {
    "duration": 21,
    "start_time": "2023-07-21T09:15:31.288Z"
   },
   {
    "duration": 104,
    "start_time": "2023-07-21T09:15:31.312Z"
   },
   {
    "duration": 46,
    "start_time": "2023-07-21T09:15:31.418Z"
   },
   {
    "duration": 90,
    "start_time": "2023-07-21T09:15:31.467Z"
   },
   {
    "duration": 78,
    "start_time": "2023-07-21T09:15:31.559Z"
   },
   {
    "duration": 72,
    "start_time": "2023-07-21T09:15:31.639Z"
   },
   {
    "duration": 55,
    "start_time": "2023-07-21T09:15:31.713Z"
   },
   {
    "duration": 50,
    "start_time": "2023-07-21T09:15:31.774Z"
   },
   {
    "duration": 43,
    "start_time": "2023-07-21T09:15:31.826Z"
   },
   {
    "duration": 67,
    "start_time": "2023-07-21T09:15:31.873Z"
   },
   {
    "duration": 71,
    "start_time": "2023-07-21T09:15:31.942Z"
   },
   {
    "duration": 22,
    "start_time": "2023-07-21T09:15:32.015Z"
   },
   {
    "duration": 51,
    "start_time": "2023-07-21T09:15:32.039Z"
   },
   {
    "duration": 8,
    "start_time": "2023-07-21T09:15:32.091Z"
   },
   {
    "duration": 35,
    "start_time": "2023-07-21T09:15:32.100Z"
   },
   {
    "duration": 324,
    "start_time": "2023-07-21T09:15:32.137Z"
   },
   {
    "duration": 421,
    "start_time": "2023-07-21T09:15:32.464Z"
   },
   {
    "duration": 18,
    "start_time": "2023-07-21T09:15:32.890Z"
   },
   {
    "duration": 1377,
    "start_time": "2023-07-21T09:15:32.911Z"
   },
   {
    "duration": 185,
    "start_time": "2023-07-21T09:15:34.290Z"
   },
   {
    "duration": 712,
    "start_time": "2023-07-21T09:15:34.478Z"
   },
   {
    "duration": 23,
    "start_time": "2023-07-21T09:15:35.197Z"
   },
   {
    "duration": 331,
    "start_time": "2023-07-21T09:15:35.221Z"
   },
   {
    "duration": 200,
    "start_time": "2023-07-21T09:15:35.554Z"
   },
   {
    "duration": 219,
    "start_time": "2023-07-21T09:15:35.756Z"
   },
   {
    "duration": 200,
    "start_time": "2023-07-21T09:15:35.977Z"
   },
   {
    "duration": 190,
    "start_time": "2023-07-21T09:15:36.179Z"
   },
   {
    "duration": 218,
    "start_time": "2023-07-21T09:15:36.373Z"
   },
   {
    "duration": 241,
    "start_time": "2023-07-21T09:15:36.593Z"
   },
   {
    "duration": 40,
    "start_time": "2023-07-21T09:15:36.836Z"
   },
   {
    "duration": 22,
    "start_time": "2023-07-21T09:15:36.882Z"
   },
   {
    "duration": 1156,
    "start_time": "2023-07-21T09:15:36.907Z"
   },
   {
    "duration": 42,
    "start_time": "2023-07-21T09:15:38.064Z"
   },
   {
    "duration": 9,
    "start_time": "2023-07-21T09:15:38.108Z"
   },
   {
    "duration": 1514,
    "start_time": "2023-07-21T09:15:38.119Z"
   },
   {
    "duration": 73,
    "start_time": "2023-07-21T09:15:39.635Z"
   },
   {
    "duration": 11,
    "start_time": "2023-07-21T09:15:39.712Z"
   },
   {
    "duration": 13,
    "start_time": "2023-07-21T09:15:39.725Z"
   },
   {
    "duration": 57,
    "start_time": "2023-07-21T09:15:39.741Z"
   },
   {
    "duration": 5,
    "start_time": "2023-07-21T09:16:39.517Z"
   },
   {
    "duration": 88,
    "start_time": "2023-07-21T09:16:39.529Z"
   },
   {
    "duration": 17,
    "start_time": "2023-07-21T09:16:39.619Z"
   },
   {
    "duration": 33,
    "start_time": "2023-07-21T09:16:39.638Z"
   },
   {
    "duration": 10,
    "start_time": "2023-07-21T09:16:39.673Z"
   },
   {
    "duration": 25,
    "start_time": "2023-07-21T09:16:39.685Z"
   },
   {
    "duration": 22,
    "start_time": "2023-07-21T09:16:39.712Z"
   },
   {
    "duration": 29,
    "start_time": "2023-07-21T09:16:39.736Z"
   },
   {
    "duration": 35,
    "start_time": "2023-07-21T09:16:39.768Z"
   },
   {
    "duration": 4,
    "start_time": "2023-07-21T09:16:39.807Z"
   },
   {
    "duration": 56,
    "start_time": "2023-07-21T09:16:39.812Z"
   },
   {
    "duration": 21,
    "start_time": "2023-07-21T09:16:39.871Z"
   },
   {
    "duration": 35,
    "start_time": "2023-07-21T09:16:39.894Z"
   },
   {
    "duration": 18,
    "start_time": "2023-07-21T09:16:39.932Z"
   },
   {
    "duration": 45,
    "start_time": "2023-07-21T09:16:39.952Z"
   },
   {
    "duration": 9,
    "start_time": "2023-07-21T09:16:40.000Z"
   },
   {
    "duration": 56,
    "start_time": "2023-07-21T09:16:40.012Z"
   },
   {
    "duration": 21,
    "start_time": "2023-07-21T09:16:40.071Z"
   },
   {
    "duration": 35,
    "start_time": "2023-07-21T09:16:40.094Z"
   },
   {
    "duration": 250,
    "start_time": "2023-07-21T09:16:40.131Z"
   },
   {
    "duration": 368,
    "start_time": "2023-07-21T09:16:40.384Z"
   },
   {
    "duration": 14,
    "start_time": "2023-07-21T09:16:40.754Z"
   },
   {
    "duration": 1045,
    "start_time": "2023-07-21T09:16:40.770Z"
   },
   {
    "duration": 176,
    "start_time": "2023-07-21T09:16:41.816Z"
   },
   {
    "duration": 694,
    "start_time": "2023-07-21T09:16:41.994Z"
   },
   {
    "duration": 31,
    "start_time": "2023-07-21T09:16:42.690Z"
   },
   {
    "duration": 349,
    "start_time": "2023-07-21T09:16:42.724Z"
   },
   {
    "duration": 219,
    "start_time": "2023-07-21T09:16:43.079Z"
   },
   {
    "duration": 192,
    "start_time": "2023-07-21T09:16:43.300Z"
   },
   {
    "duration": 386,
    "start_time": "2023-07-21T09:16:43.494Z"
   },
   {
    "duration": 233,
    "start_time": "2023-07-21T09:16:43.883Z"
   },
   {
    "duration": 247,
    "start_time": "2023-07-21T09:16:44.118Z"
   },
   {
    "duration": 208,
    "start_time": "2023-07-21T09:16:44.368Z"
   },
   {
    "duration": 29,
    "start_time": "2023-07-21T09:16:44.579Z"
   },
   {
    "duration": 8,
    "start_time": "2023-07-21T09:16:44.610Z"
   },
   {
    "duration": 1094,
    "start_time": "2023-07-21T09:16:44.619Z"
   },
   {
    "duration": 28,
    "start_time": "2023-07-21T09:16:45.716Z"
   },
   {
    "duration": 39,
    "start_time": "2023-07-21T09:16:45.746Z"
   },
   {
    "duration": 1102,
    "start_time": "2023-07-21T09:16:45.788Z"
   },
   {
    "duration": 81,
    "start_time": "2023-07-21T09:16:46.893Z"
   },
   {
    "duration": 13,
    "start_time": "2023-07-21T09:16:46.978Z"
   },
   {
    "duration": 37,
    "start_time": "2023-07-21T09:16:46.993Z"
   },
   {
    "duration": 18,
    "start_time": "2023-07-21T09:16:47.032Z"
   },
   {
    "duration": 5,
    "start_time": "2023-07-21T09:19:21.375Z"
   },
   {
    "duration": 76,
    "start_time": "2023-07-21T09:19:21.382Z"
   },
   {
    "duration": 18,
    "start_time": "2023-07-21T09:19:21.461Z"
   },
   {
    "duration": 43,
    "start_time": "2023-07-21T09:19:21.482Z"
   },
   {
    "duration": 11,
    "start_time": "2023-07-21T09:19:21.527Z"
   },
   {
    "duration": 42,
    "start_time": "2023-07-21T09:19:21.539Z"
   },
   {
    "duration": 16,
    "start_time": "2023-07-21T09:19:21.583Z"
   },
   {
    "duration": 14,
    "start_time": "2023-07-21T09:19:21.601Z"
   },
   {
    "duration": 26,
    "start_time": "2023-07-21T09:19:21.617Z"
   },
   {
    "duration": 6,
    "start_time": "2023-07-21T09:19:21.647Z"
   },
   {
    "duration": 17,
    "start_time": "2023-07-21T09:19:21.666Z"
   },
   {
    "duration": 9,
    "start_time": "2023-07-21T09:19:21.685Z"
   },
   {
    "duration": 18,
    "start_time": "2023-07-21T09:19:21.696Z"
   },
   {
    "duration": 13,
    "start_time": "2023-07-21T09:19:21.717Z"
   },
   {
    "duration": 44,
    "start_time": "2023-07-21T09:19:21.732Z"
   },
   {
    "duration": 25,
    "start_time": "2023-07-21T09:19:21.779Z"
   },
   {
    "duration": 28,
    "start_time": "2023-07-21T09:19:21.807Z"
   },
   {
    "duration": 7,
    "start_time": "2023-07-21T09:19:21.838Z"
   },
   {
    "duration": 26,
    "start_time": "2023-07-21T09:19:21.847Z"
   },
   {
    "duration": 279,
    "start_time": "2023-07-21T09:19:21.875Z"
   },
   {
    "duration": 376,
    "start_time": "2023-07-21T09:19:22.157Z"
   },
   {
    "duration": 8,
    "start_time": "2023-07-21T09:19:22.536Z"
   },
   {
    "duration": 1316,
    "start_time": "2023-07-21T09:19:22.546Z"
   },
   {
    "duration": 231,
    "start_time": "2023-07-21T09:19:23.864Z"
   },
   {
    "duration": 790,
    "start_time": "2023-07-21T09:19:24.097Z"
   },
   {
    "duration": 27,
    "start_time": "2023-07-21T09:19:24.889Z"
   },
   {
    "duration": 322,
    "start_time": "2023-07-21T09:19:24.918Z"
   },
   {
    "duration": 208,
    "start_time": "2023-07-21T09:19:25.244Z"
   },
   {
    "duration": 201,
    "start_time": "2023-07-21T09:19:25.454Z"
   },
   {
    "duration": 209,
    "start_time": "2023-07-21T09:19:25.658Z"
   },
   {
    "duration": 193,
    "start_time": "2023-07-21T09:19:25.869Z"
   },
   {
    "duration": 213,
    "start_time": "2023-07-21T09:19:26.067Z"
   },
   {
    "duration": 224,
    "start_time": "2023-07-21T09:19:26.282Z"
   },
   {
    "duration": 41,
    "start_time": "2023-07-21T09:19:26.508Z"
   },
   {
    "duration": 13,
    "start_time": "2023-07-21T09:19:26.566Z"
   },
   {
    "duration": 1066,
    "start_time": "2023-07-21T09:19:26.581Z"
   },
   {
    "duration": 37,
    "start_time": "2023-07-21T09:19:27.649Z"
   },
   {
    "duration": 11,
    "start_time": "2023-07-21T09:19:27.688Z"
   },
   {
    "duration": 1059,
    "start_time": "2023-07-21T09:19:27.701Z"
   },
   {
    "duration": 305,
    "start_time": "2023-07-21T09:19:28.762Z"
   },
   {
    "duration": 8,
    "start_time": "2023-07-21T09:19:29.069Z"
   },
   {
    "duration": 27,
    "start_time": "2023-07-21T09:19:29.078Z"
   },
   {
    "duration": 33,
    "start_time": "2023-07-21T09:19:29.107Z"
   },
   {
    "duration": 4,
    "start_time": "2023-07-21T09:20:02.156Z"
   },
   {
    "duration": 142,
    "start_time": "2023-07-21T09:20:02.163Z"
   },
   {
    "duration": 34,
    "start_time": "2023-07-21T09:20:02.307Z"
   },
   {
    "duration": 140,
    "start_time": "2023-07-21T09:20:02.347Z"
   },
   {
    "duration": 103,
    "start_time": "2023-07-21T09:20:02.490Z"
   },
   {
    "duration": 92,
    "start_time": "2023-07-21T09:20:02.596Z"
   },
   {
    "duration": 57,
    "start_time": "2023-07-21T09:20:02.691Z"
   },
   {
    "duration": 93,
    "start_time": "2023-07-21T09:20:02.750Z"
   },
   {
    "duration": 35,
    "start_time": "2023-07-21T09:20:02.846Z"
   },
   {
    "duration": 26,
    "start_time": "2023-07-21T09:20:02.884Z"
   },
   {
    "duration": 33,
    "start_time": "2023-07-21T09:20:02.912Z"
   },
   {
    "duration": 24,
    "start_time": "2023-07-21T09:20:02.947Z"
   },
   {
    "duration": 39,
    "start_time": "2023-07-21T09:20:02.975Z"
   },
   {
    "duration": 32,
    "start_time": "2023-07-21T09:20:03.018Z"
   },
   {
    "duration": 23,
    "start_time": "2023-07-21T09:20:03.053Z"
   },
   {
    "duration": 8,
    "start_time": "2023-07-21T09:20:03.078Z"
   },
   {
    "duration": 37,
    "start_time": "2023-07-21T09:20:03.089Z"
   },
   {
    "duration": 8,
    "start_time": "2023-07-21T09:20:03.128Z"
   },
   {
    "duration": 35,
    "start_time": "2023-07-21T09:20:03.138Z"
   },
   {
    "duration": 286,
    "start_time": "2023-07-21T09:20:03.175Z"
   },
   {
    "duration": 439,
    "start_time": "2023-07-21T09:20:03.463Z"
   },
   {
    "duration": 17,
    "start_time": "2023-07-21T09:20:03.904Z"
   },
   {
    "duration": 1303,
    "start_time": "2023-07-21T09:20:03.923Z"
   },
   {
    "duration": 190,
    "start_time": "2023-07-21T09:20:05.228Z"
   },
   {
    "duration": 753,
    "start_time": "2023-07-21T09:20:05.420Z"
   },
   {
    "duration": 25,
    "start_time": "2023-07-21T09:20:06.176Z"
   },
   {
    "duration": 321,
    "start_time": "2023-07-21T09:20:06.203Z"
   },
   {
    "duration": 187,
    "start_time": "2023-07-21T09:20:06.526Z"
   },
   {
    "duration": 200,
    "start_time": "2023-07-21T09:20:06.715Z"
   },
   {
    "duration": 183,
    "start_time": "2023-07-21T09:20:06.917Z"
   },
   {
    "duration": 185,
    "start_time": "2023-07-21T09:20:07.102Z"
   },
   {
    "duration": 209,
    "start_time": "2023-07-21T09:20:07.289Z"
   },
   {
    "duration": 222,
    "start_time": "2023-07-21T09:20:07.500Z"
   },
   {
    "duration": 59,
    "start_time": "2023-07-21T09:20:07.725Z"
   },
   {
    "duration": 11,
    "start_time": "2023-07-21T09:20:07.787Z"
   },
   {
    "duration": 1259,
    "start_time": "2023-07-21T09:20:07.801Z"
   },
   {
    "duration": 39,
    "start_time": "2023-07-21T09:20:09.066Z"
   },
   {
    "duration": 10,
    "start_time": "2023-07-21T09:20:09.107Z"
   },
   {
    "duration": 1088,
    "start_time": "2023-07-21T09:20:09.119Z"
   },
   {
    "duration": 78,
    "start_time": "2023-07-21T09:20:10.209Z"
   },
   {
    "duration": 8,
    "start_time": "2023-07-21T09:20:10.290Z"
   },
   {
    "duration": 26,
    "start_time": "2023-07-21T09:20:10.299Z"
   },
   {
    "duration": 20,
    "start_time": "2023-07-21T09:20:10.327Z"
   },
   {
    "duration": 3,
    "start_time": "2023-07-21T09:20:23.928Z"
   },
   {
    "duration": 4,
    "start_time": "2023-07-21T09:22:52.324Z"
   },
   {
    "duration": 89,
    "start_time": "2023-07-21T09:22:52.331Z"
   },
   {
    "duration": 19,
    "start_time": "2023-07-21T09:22:52.422Z"
   },
   {
    "duration": 70,
    "start_time": "2023-07-21T09:22:52.443Z"
   },
   {
    "duration": 16,
    "start_time": "2023-07-21T09:22:52.516Z"
   },
   {
    "duration": 24,
    "start_time": "2023-07-21T09:22:52.535Z"
   },
   {
    "duration": 17,
    "start_time": "2023-07-21T09:22:52.569Z"
   },
   {
    "duration": 8,
    "start_time": "2023-07-21T09:22:52.588Z"
   },
   {
    "duration": 35,
    "start_time": "2023-07-21T09:22:52.598Z"
   },
   {
    "duration": 11,
    "start_time": "2023-07-21T09:22:52.635Z"
   },
   {
    "duration": 33,
    "start_time": "2023-07-21T09:22:52.652Z"
   },
   {
    "duration": 15,
    "start_time": "2023-07-21T09:22:52.688Z"
   },
   {
    "duration": 12,
    "start_time": "2023-07-21T09:22:52.706Z"
   },
   {
    "duration": 16,
    "start_time": "2023-07-21T09:22:52.722Z"
   },
   {
    "duration": 48,
    "start_time": "2023-07-21T09:22:52.741Z"
   },
   {
    "duration": 7,
    "start_time": "2023-07-21T09:22:52.792Z"
   },
   {
    "duration": 35,
    "start_time": "2023-07-21T09:22:52.802Z"
   },
   {
    "duration": 36,
    "start_time": "2023-07-21T09:22:52.839Z"
   },
   {
    "duration": 24,
    "start_time": "2023-07-21T09:22:52.879Z"
   },
   {
    "duration": 339,
    "start_time": "2023-07-21T09:22:52.905Z"
   },
   {
    "duration": 414,
    "start_time": "2023-07-21T09:22:53.246Z"
   },
   {
    "duration": 15,
    "start_time": "2023-07-21T09:22:53.662Z"
   },
   {
    "duration": 1181,
    "start_time": "2023-07-21T09:22:53.679Z"
   },
   {
    "duration": 191,
    "start_time": "2023-07-21T09:22:54.862Z"
   },
   {
    "duration": 885,
    "start_time": "2023-07-21T09:22:55.056Z"
   },
   {
    "duration": 40,
    "start_time": "2023-07-21T09:22:55.944Z"
   },
   {
    "duration": 308,
    "start_time": "2023-07-21T09:22:55.987Z"
   },
   {
    "duration": 202,
    "start_time": "2023-07-21T09:22:56.297Z"
   },
   {
    "duration": 183,
    "start_time": "2023-07-21T09:22:56.502Z"
   },
   {
    "duration": 197,
    "start_time": "2023-07-21T09:22:56.687Z"
   },
   {
    "duration": 195,
    "start_time": "2023-07-21T09:22:56.887Z"
   },
   {
    "duration": 207,
    "start_time": "2023-07-21T09:22:57.085Z"
   },
   {
    "duration": 224,
    "start_time": "2023-07-21T09:22:57.295Z"
   },
   {
    "duration": 29,
    "start_time": "2023-07-21T09:22:57.521Z"
   },
   {
    "duration": 33,
    "start_time": "2023-07-21T09:22:57.553Z"
   },
   {
    "duration": 1046,
    "start_time": "2023-07-21T09:22:57.588Z"
   },
   {
    "duration": 47,
    "start_time": "2023-07-21T09:22:58.636Z"
   },
   {
    "duration": 9,
    "start_time": "2023-07-21T09:22:58.685Z"
   },
   {
    "duration": 1061,
    "start_time": "2023-07-21T09:22:58.696Z"
   },
   {
    "duration": 59,
    "start_time": "2023-07-21T09:22:59.766Z"
   },
   {
    "duration": 3,
    "start_time": "2023-07-21T09:22:59.831Z"
   },
   {
    "duration": 39,
    "start_time": "2023-07-21T09:22:59.837Z"
   },
   {
    "duration": 15,
    "start_time": "2023-07-21T09:22:59.878Z"
   },
   {
    "duration": 1216,
    "start_time": "2023-07-22T06:02:57.796Z"
   },
   {
    "duration": 192,
    "start_time": "2023-07-22T06:02:59.014Z"
   },
   {
    "duration": 13,
    "start_time": "2023-07-22T06:02:59.208Z"
   },
   {
    "duration": 28,
    "start_time": "2023-07-22T06:02:59.223Z"
   },
   {
    "duration": 8,
    "start_time": "2023-07-22T06:02:59.252Z"
   },
   {
    "duration": 13,
    "start_time": "2023-07-22T06:02:59.261Z"
   },
   {
    "duration": 9,
    "start_time": "2023-07-22T06:02:59.276Z"
   },
   {
    "duration": 4,
    "start_time": "2023-07-22T06:02:59.306Z"
   },
   {
    "duration": 9,
    "start_time": "2023-07-22T06:02:59.311Z"
   },
   {
    "duration": 5,
    "start_time": "2023-07-22T06:02:59.322Z"
   },
   {
    "duration": 17,
    "start_time": "2023-07-22T06:02:59.328Z"
   },
   {
    "duration": 5,
    "start_time": "2023-07-22T06:02:59.346Z"
   },
   {
    "duration": 10,
    "start_time": "2023-07-22T06:02:59.352Z"
   },
   {
    "duration": 13,
    "start_time": "2023-07-22T06:02:59.363Z"
   },
   {
    "duration": 29,
    "start_time": "2023-07-22T06:02:59.378Z"
   },
   {
    "duration": 4,
    "start_time": "2023-07-22T06:02:59.408Z"
   },
   {
    "duration": 22,
    "start_time": "2023-07-22T06:02:59.413Z"
   },
   {
    "duration": 17,
    "start_time": "2023-07-22T06:02:59.436Z"
   },
   {
    "duration": 20,
    "start_time": "2023-07-22T06:02:59.455Z"
   },
   {
    "duration": 252,
    "start_time": "2023-07-22T06:02:59.477Z"
   },
   {
    "duration": 312,
    "start_time": "2023-07-22T06:02:59.730Z"
   },
   {
    "duration": 7,
    "start_time": "2023-07-22T06:03:00.043Z"
   },
   {
    "duration": 936,
    "start_time": "2023-07-22T06:03:00.052Z"
   },
   {
    "duration": 154,
    "start_time": "2023-07-22T06:03:00.989Z"
   },
   {
    "duration": 551,
    "start_time": "2023-07-22T06:03:01.145Z"
   },
   {
    "duration": 21,
    "start_time": "2023-07-22T06:03:01.698Z"
   },
   {
    "duration": 319,
    "start_time": "2023-07-22T06:03:01.721Z"
   },
   {
    "duration": 182,
    "start_time": "2023-07-22T06:03:02.044Z"
   },
   {
    "duration": 149,
    "start_time": "2023-07-22T06:03:02.228Z"
   },
   {
    "duration": 173,
    "start_time": "2023-07-22T06:03:02.379Z"
   },
   {
    "duration": 185,
    "start_time": "2023-07-22T06:03:02.554Z"
   },
   {
    "duration": 185,
    "start_time": "2023-07-22T06:03:02.741Z"
   },
   {
    "duration": 162,
    "start_time": "2023-07-22T06:03:02.928Z"
   },
   {
    "duration": 32,
    "start_time": "2023-07-22T06:03:03.092Z"
   },
   {
    "duration": 10,
    "start_time": "2023-07-22T06:03:03.128Z"
   },
   {
    "duration": 814,
    "start_time": "2023-07-22T06:03:03.139Z"
   },
   {
    "duration": 91,
    "start_time": "2023-07-22T06:03:03.955Z"
   },
   {
    "duration": 6,
    "start_time": "2023-07-22T06:03:04.047Z"
   },
   {
    "duration": 829,
    "start_time": "2023-07-22T06:03:04.055Z"
   },
   {
    "duration": 46,
    "start_time": "2023-07-22T06:03:04.885Z"
   },
   {
    "duration": 5,
    "start_time": "2023-07-22T06:03:04.932Z"
   },
   {
    "duration": 9,
    "start_time": "2023-07-22T06:03:04.939Z"
   },
   {
    "duration": 29,
    "start_time": "2023-07-22T06:03:04.949Z"
   },
   {
    "duration": 3,
    "start_time": "2023-07-22T06:04:19.543Z"
   },
   {
    "duration": 70,
    "start_time": "2023-07-22T06:04:19.548Z"
   },
   {
    "duration": 14,
    "start_time": "2023-07-22T06:04:19.619Z"
   },
   {
    "duration": 29,
    "start_time": "2023-07-22T06:04:19.634Z"
   },
   {
    "duration": 15,
    "start_time": "2023-07-22T06:04:19.665Z"
   },
   {
    "duration": 27,
    "start_time": "2023-07-22T06:04:19.682Z"
   },
   {
    "duration": 17,
    "start_time": "2023-07-22T06:04:19.710Z"
   },
   {
    "duration": 22,
    "start_time": "2023-07-22T06:04:19.729Z"
   },
   {
    "duration": 14,
    "start_time": "2023-07-22T06:04:19.753Z"
   },
   {
    "duration": 5,
    "start_time": "2023-07-22T06:04:19.768Z"
   },
   {
    "duration": 38,
    "start_time": "2023-07-22T06:04:19.775Z"
   },
   {
    "duration": 7,
    "start_time": "2023-07-22T06:04:19.814Z"
   },
   {
    "duration": 15,
    "start_time": "2023-07-22T06:04:19.822Z"
   },
   {
    "duration": 10,
    "start_time": "2023-07-22T06:04:19.838Z"
   },
   {
    "duration": 35,
    "start_time": "2023-07-22T06:04:19.849Z"
   },
   {
    "duration": 23,
    "start_time": "2023-07-22T06:04:19.885Z"
   },
   {
    "duration": 21,
    "start_time": "2023-07-22T06:04:19.909Z"
   },
   {
    "duration": 5,
    "start_time": "2023-07-22T06:04:19.931Z"
   },
   {
    "duration": 13,
    "start_time": "2023-07-22T06:04:19.937Z"
   },
   {
    "duration": 212,
    "start_time": "2023-07-22T06:04:19.951Z"
   },
   {
    "duration": 284,
    "start_time": "2023-07-22T06:04:20.164Z"
   },
   {
    "duration": 6,
    "start_time": "2023-07-22T06:04:20.450Z"
   },
   {
    "duration": 836,
    "start_time": "2023-07-22T06:04:20.457Z"
   },
   {
    "duration": 136,
    "start_time": "2023-07-22T06:04:21.297Z"
   },
   {
    "duration": 598,
    "start_time": "2023-07-22T06:04:21.435Z"
   },
   {
    "duration": 20,
    "start_time": "2023-07-22T06:04:22.034Z"
   },
   {
    "duration": 243,
    "start_time": "2023-07-22T06:04:22.055Z"
   },
   {
    "duration": 155,
    "start_time": "2023-07-22T06:04:22.299Z"
   },
   {
    "duration": 165,
    "start_time": "2023-07-22T06:04:22.455Z"
   },
   {
    "duration": 177,
    "start_time": "2023-07-22T06:04:22.622Z"
   },
   {
    "duration": 151,
    "start_time": "2023-07-22T06:04:22.801Z"
   },
   {
    "duration": 167,
    "start_time": "2023-07-22T06:04:22.954Z"
   },
   {
    "duration": 157,
    "start_time": "2023-07-22T06:04:23.122Z"
   },
   {
    "duration": 34,
    "start_time": "2023-07-22T06:04:23.280Z"
   },
   {
    "duration": 8,
    "start_time": "2023-07-22T06:04:23.315Z"
   },
   {
    "duration": 775,
    "start_time": "2023-07-22T06:04:23.324Z"
   },
   {
    "duration": 22,
    "start_time": "2023-07-22T06:04:24.105Z"
   },
   {
    "duration": 6,
    "start_time": "2023-07-22T06:04:24.129Z"
   },
   {
    "duration": 945,
    "start_time": "2023-07-22T06:04:24.136Z"
   },
   {
    "duration": 50,
    "start_time": "2023-07-22T06:04:25.083Z"
   },
   {
    "duration": 6,
    "start_time": "2023-07-22T06:04:25.135Z"
   },
   {
    "duration": 12,
    "start_time": "2023-07-22T06:04:25.142Z"
   },
   {
    "duration": 9,
    "start_time": "2023-07-22T06:04:25.156Z"
   },
   {
    "duration": 127,
    "start_time": "2023-07-23T06:22:34.541Z"
   }
  ],
  "kernelspec": {
   "display_name": "Python 3 (ipykernel)",
   "language": "python",
   "name": "python3"
  },
  "language_info": {
   "codemirror_mode": {
    "name": "ipython",
    "version": 3
   },
   "file_extension": ".py",
   "mimetype": "text/x-python",
   "name": "python",
   "nbconvert_exporter": "python",
   "pygments_lexer": "ipython3",
   "version": "3.11.4"
  },
  "toc": {
   "base_numbering": 1,
   "nav_menu": {},
   "number_sections": true,
   "sideBar": true,
   "skip_h1_title": true,
   "title_cell": "Table of Contents",
   "title_sidebar": "Contents",
   "toc_cell": false,
   "toc_position": {},
   "toc_section_display": true,
   "toc_window_display": false
  }
 },
 "nbformat": 4,
 "nbformat_minor": 2
}
