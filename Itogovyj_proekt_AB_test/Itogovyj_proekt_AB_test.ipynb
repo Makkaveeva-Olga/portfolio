{
 "cells": [
  {
   "cell_type": "markdown",
   "metadata": {},
   "source": [
    "# Финальный проект по А/B-тестированию"
   ]
  },
  {
   "cell_type": "markdown",
   "metadata": {},
   "source": [
    "<div  style=\"border-radius: 10px; box-shadow: 2px 2px 2px; border: 1px solid; padding: 10px \">\n",
    "    Цель проекта\n",
    "\n",
    "Провести оценку результатов A/B-теста на основании датасетов с действиями пользователей.\n",
    "Оценить корректность проведения теста и проанализировать результаты.\n",
    "Необходимо удостовериться, что нет пересечений с конкурирующим тестом и нет пользователей, участвующих в двух группах теста одновременно, проверить равномерность распределения пользователей по тестовым группам и правильность их формирования.\n",
    "</div>"
   ]
  },
  {
   "cell_type": "markdown",
   "metadata": {},
   "source": [
    "<div  style=\"border-radius: 10px; box-shadow: 2px 2px 2px; border: 1px solid; padding: 10px \">\n",
    "    Техническое задание\n",
    "\n",
    "Название теста: recommender_system_test;  \n",
    "Группы: А (контрольная), B (новая платёжная воронка);  \n",
    "Дата запуска: 2020-12-07;  \n",
    "Дата остановки набора новых пользователей: 2020-12-21;\n",
    "Дата остановки: 2021-01-04;  \n",
    "Ожидаемое количество участников теста: 15% новых пользователей из региона EU;  \n",
    "Назначение теста: тестирование изменений, связанных с внедрением улучшенной рекомендательной системы;  \n",
    "Ожидаемый эффект: за 14 дней с момента регистрации в системе пользователи покажут улучшение каждой метрики не менее, чем на 5 процентных пунктов:\n",
    "* конверсии в просмотр карточек товаров — событие product_page\n",
    "* просмотры корзины — product_cart\n",
    "* покупки — purchase.\n",
    "Проверить корректность проведения теста и проанализировать полученные результаты.\n",
    "</div>"
   ]
  },
  {
   "cell_type": "markdown",
   "metadata": {},
   "source": [
    "<div  style=\"border-radius: 10px; box-shadow: 2px 2px 2px; border: 1px solid; padding: 10px \">\n",
    "    Описание данных:\n",
    "\n",
    "Календарь маркетинговых событий на 2020 год (ab_project_marketing_events)\n",
    "* name — название маркетингового события;\n",
    "* regions — регионы, в которых будет проводиться рекламная кампания;\n",
    "* start_dt — дата начала кампании;\n",
    "* finish_dt — дата завершения кампании.\n",
    "\n",
    "Пользователи, зарегистрировавшиеся в интернет-магазине в период с 7 по 21 декабря 2020 года (final_ab_new_users)\n",
    "* user_id — идентификатор пользователя;\n",
    "* first_date — дата регистрации;\n",
    "* region — регион пользователя;\n",
    "* device — устройство, с которого происходила регистрация.\n",
    "\n",
    "События новых пользователей в период с 7 декабря 2020 по 4 января 2021 года (final_ab_events)\n",
    "* user_id — идентификатор пользователя;\n",
    "* event_dt — дата и время события;\n",
    "* event_name — тип события;\n",
    "* details — дополнительные данные о событии. Например, для покупок, purchase, в этом поле хранится стоимость покупки в долларах.\n",
    "\n",
    "Таблица участников тестов (final_ab_participants)\n",
    "* user_id — идентификатор пользователя;\n",
    "* ab_test — название теста;\n",
    "* group — группа пользователя.\n",
    "</div>"
   ]
  },
  {
   "cell_type": "markdown",
   "metadata": {},
   "source": [
    "<div  style=\"border-radius: 10px; box-shadow: 2px 2px 2px; border: 1px solid; padding: 10px \">\n",
    "    План работы\n",
    "    \n",
    "1. Предобработка данных.  \n",
    "2. Оцените корректность проведения теста:  \n",
    "    2.1. Период набора пользователей в тест  \n",
    "    2.2. Регион регистрации пользователей  \n",
    "    2.3. Равномерность распределения пользователей по группам теста и динамика набора пользоваталей в группы  \n",
    "    2.4. Пересечений с конкурирующим тестом  и поиск пользователей, участвующих в двух группах теста одновременно  \n",
    "    2.5. Даты совершения событий участниками теста и соответствие техническому заданию  \n",
    "    2.6. Активность пользователей: все ли зарегистрированные пользователи прошли авторизацию и совершали переход по продуктовой воронке  \n",
    "    2.7. Горизонт анализа: рассчитайте лайфтайм совершения события 14 дней\n",
    "3. Проведите исследовательский анализ данных:  \n",
    "    3.1. Распределение количества событий на пользователя в разрезе групп теста  \n",
    "    3.2. Динамика количества событий в группах теста по дням   \n",
    "    3.3. Влияние маркетинговых активностей на тест  \n",
    "    3.4. Продуктовые воронки для двух групп теста \n",
    "4. Проверка статистической разницы долей z-критерием  \n",
    "5. Общий вывод\n",
    "</div>"
   ]
  },
  {
   "cell_type": "markdown",
   "metadata": {},
   "source": [
    "## 1. Предобработка данных"
   ]
  },
  {
   "cell_type": "code",
   "execution_count": 67,
   "metadata": {},
   "outputs": [],
   "source": [
    "# Загрузка библиотек\n",
    "import pandas as pd\n",
    "from scipy import stats as st\n",
    "import math as mth\n",
    "import datetime as dt\n",
    "import seaborn as sns\n",
    "import matplotlib.pyplot as plt\n",
    "\n",
    "import plotly.graph_objects as go\n",
    "from plotly.subplots import make_subplots\n",
    "\n",
    "import warnings\n",
    "warnings.simplefilter('ignore')"
   ]
  },
  {
   "cell_type": "code",
   "execution_count": null,
   "metadata": {},
   "outputs": [],
   "source": [
    "# Открытие датасетов\n",
    "try:\n",
    "    marketing_events = pd.read_csv('https://code.s3.yandex.net/datasets/ab_project_marketing_events.csv')\n",
    "    new_users = pd.read_csv('https://code.s3.yandex.net/datasets/final_ab_new_users.csv')\n",
    "    events = pd.read_csv('https://code.s3.yandex.net/datasets/final_ab_events.csv')\n",
    "    participants = pd.read_csv('https://code.s3.yandex.net/datasets/final_ab_participants.csv')\n",
    "except:\n",
    "    marketing_events = pd.read_csv('C:/Users/COVIDisLIE/Downloads/ab_project_marketing_events.csv')\n",
    "    new_users = pd.read_csv('C:/Users/COVIDisLIE/Downloads/final_ab_new_users.csv')\n",
    "    events = pd.read_csv('C:/Users/COVIDisLIE/Downloads/final_ab_events.csv')\n",
    "    participants = pd.read_csv('C:/Users/COVIDisLIE/Downloads/final_ab_participants.csv')"
   ]
  },
  {
   "cell_type": "code",
   "execution_count": null,
   "metadata": {
    "scrolled": true
   },
   "outputs": [],
   "source": [
    "display(marketing_events.head(5))\n",
    "display(marketing_events.shape)"
   ]
  },
  {
   "cell_type": "code",
   "execution_count": null,
   "metadata": {},
   "outputs": [],
   "source": [
    "display(new_users.head(5))\n",
    "display(new_users.shape)"
   ]
  },
  {
   "cell_type": "code",
   "execution_count": null,
   "metadata": {},
   "outputs": [],
   "source": [
    "display(events.head(5))\n",
    "display(events.shape)"
   ]
  },
  {
   "cell_type": "code",
   "execution_count": null,
   "metadata": {},
   "outputs": [],
   "source": [
    "display(participants.head(5))\n",
    "display(participants.shape)"
   ]
  },
  {
   "cell_type": "code",
   "execution_count": null,
   "metadata": {},
   "outputs": [],
   "source": [
    "# Выводим общюю информацию\n",
    "print(marketing_events.info(), new_users.info(), events.info(), participants.info())"
   ]
  },
  {
   "cell_type": "code",
   "execution_count": null,
   "metadata": {},
   "outputs": [],
   "source": [
    "# Преобразование формата времени\n",
    "marketing_events['start_dt'] = pd.to_datetime(marketing_events['start_dt'])\n",
    "marketing_events['finish_dt'] = pd.to_datetime(marketing_events['finish_dt'])\n",
    "new_users['first_date'] = pd.to_datetime(new_users['first_date'])\n",
    "events['event_dt'] = pd.to_datetime(events['event_dt'])"
   ]
  },
  {
   "cell_type": "code",
   "execution_count": null,
   "metadata": {},
   "outputs": [],
   "source": [
    "# Проверим данные на пропуски \n",
    "print(\"Пропуски данных:\", marketing_events.isna().sum(), \n",
    "     new_users.isna().sum(),\n",
    "     events.isna().sum(),\n",
    "     participants.isna().sum())"
   ]
  },
  {
   "cell_type": "code",
   "execution_count": null,
   "metadata": {},
   "outputs": [],
   "source": [
    "# Проверим данные на полные дубликаты\n",
    "print(\"Полные дубликаты данных:\", marketing_events.duplicated().sum(), \n",
    "      new_users.duplicated().sum(), \n",
    "      events.duplicated().sum(), \n",
    "      participants.duplicated().sum())"
   ]
  },
  {
   "cell_type": "code",
   "execution_count": null,
   "metadata": {},
   "outputs": [],
   "source": [
    "# Узнаем какие маркетингового события проводились, какие регионы учувствовали\n",
    "print(\"Наименование маркетингового события:\", marketing_events['name'].unique())\n",
    "print(\"Регион:\", marketing_events['regions'].unique() )"
   ]
  },
  {
   "cell_type": "code",
   "execution_count": null,
   "metadata": {},
   "outputs": [],
   "source": [
    "# Узнаем Наименование девайсов, какие регионы учувствовали\n",
    "print(\"Наименование девайсов:\", new_users['device'].unique())\n",
    "print(\"Регион:\", new_users['region'].unique())\n",
    "print(\"Количество пользователей\", new_users['user_id'].nunique())"
   ]
  },
  {
   "cell_type": "code",
   "execution_count": null,
   "metadata": {},
   "outputs": [],
   "source": [
    "# Узнаем сколько дней велась регистрация \n",
    "print(min(new_users['first_date']))\n",
    "print(max(new_users['first_date']))"
   ]
  },
  {
   "cell_type": "markdown",
   "metadata": {},
   "source": [
    "Увидели, что наименование Датасета \"Пользователи, зарегистрировавшиеся в интернет-магазине в период с 7 по 21 декабря 2020 года\" не соответсвует его содержимому. Регистрация велась 22 декабря 2020 года, о чем не указано в ТЗ."
   ]
  },
  {
   "cell_type": "code",
   "execution_count": null,
   "metadata": {},
   "outputs": [],
   "source": [
    "# Узнаем Наименованиетипа событий\n",
    "print(\"Наименование типа событий:\", events['event_name'].unique())\n",
    "print(\"Количество пользователей\", events['user_id'].nunique())"
   ]
  },
  {
   "cell_type": "code",
   "execution_count": null,
   "metadata": {},
   "outputs": [],
   "source": [
    "# Узнаем сколько дней велась регистрация \n",
    "print(min(events['event_dt']))\n",
    "print(max(events['event_dt']))"
   ]
  },
  {
   "cell_type": "markdown",
   "metadata": {},
   "source": [
    "Увидели, что наименование Датасета \"События новых пользователей в период с 7 декабря 2020 по 4 января 2021 года\" не соответсвует его содержимому. В датасете отражены события с 7 по 30 декабря 2020 года."
   ]
  },
  {
   "cell_type": "code",
   "execution_count": null,
   "metadata": {},
   "outputs": [],
   "source": [
    "# Узнаем Наименованиетипа теста и количество пользователей\n",
    "print(\"Наименование теста:\", participants['ab_test'].unique())\n",
    "print(\"Количество пользователей\", participants['user_id'].nunique())\n",
    "print(\"Количество пользователей по группам\", participants['group'].value_counts())"
   ]
  },
  {
   "cell_type": "markdown",
   "metadata": {},
   "source": [
    "## 1. Вывод\n",
    "1. В датасете \"Календарь маркетинговых событий на 2020 год\" данные полные и не имеют дубликатов. Всего было проведено 14 маркетинговых событий в 6 группах регионов. Данные столбцов start_dt и  finish_dt  преобразованы формата времени datetime.  \n",
    "2. В датасете \"Пользователи, зарегистрировавшиеся в интернет-магазине в период с 7 по 21 декабря 2020 \" данные полные, и не имеют дубликатов. Всего зарегистрировано 61733 пользователя из 4 регионов. Пользователи использовали для регистрации 4 вида девайсов. Регистрация велась с 7 по 22 декабря 2020 года. В ТЗ было заявлено о регистрации с 7 по 21 декабря 2020 года.  \n",
    "3. В датасете \"События новых пользователей в период с 7 декабря 2020 по 4 января 2021 года\" данные не имеют дубликатов. В данных представлена информация о 58703 пользователях которые совершали 4 типа событий в период с 7 по 22 декабря 2020 года. В столбце details  377577, данные пропуски не требуют обработки так ка являются дополнительным комментарием о данных.  \n",
    "4. В датасете \"таблица участников тестов\" данные полные и не имеют дубликатов. В данных представлена информация о 16666 пользователях которые учувствуют в тесте интерфейса и тесте системы. В группе А 9655 пользователей, в группе В 8613 пользователя.\n",
    "\n",
    "Так же проведено преобразование формата времени в тип данных datetime."
   ]
  },
  {
   "cell_type": "markdown",
   "metadata": {},
   "source": [
    "## 2. Оценка корректности проведения теста"
   ]
  },
  {
   "cell_type": "markdown",
   "metadata": {},
   "source": [
    "### 2.1. Период набора пользователей в тест"
   ]
  },
  {
   "cell_type": "markdown",
   "metadata": {},
   "source": [
    "Ранее мы выяснили, что регистрация пользователей проходила до 23 декабря 2020 года.\n",
    "Выясним сколько пользователей зарегистрировались, во временной промежуток не входящий в ТЗ.\n",
    "И сколько пользователей подходят под описание ТЗ и должны войти в тест."
   ]
  },
  {
   "cell_type": "code",
   "execution_count": null,
   "metadata": {},
   "outputs": [],
   "source": [
    "# Сколько пользоваталей не по ТЗ\n",
    "users_not_tz = new_users.query('first_date == \"2020-12-22\" or first_date == \"2020-12-23\"')['user_id']\n",
    "print('Пользователеи зарегестрированные после 2020-12-21:', users_not_tz.nunique())"
   ]
  },
  {
   "cell_type": "code",
   "execution_count": null,
   "metadata": {},
   "outputs": [],
   "source": [
    "# Сколько пользоваталей по ТЗ\n",
    "users_tz = new_users.query('first_date >= \"2020-12-07\" and first_date <= \"2020-12-21\"')['user_id']                                                                     \n",
    "print('Пользователи зарегестрированные по ТЗ:', users_tz.nunique())"
   ]
  },
  {
   "cell_type": "code",
   "execution_count": null,
   "metadata": {},
   "outputs": [],
   "source": [
    "# Ищем пересечение этих групп пользователей\n",
    "pd.Series(list(set(users_tz).intersection(set(users_not_tz))))"
   ]
  },
  {
   "cell_type": "markdown",
   "metadata": {},
   "source": [
    "Для того, что бы тест был проведен по ТЗ пользователей, которые зарегистрировались после 21 декабря 2020, нажно убрать из таблиц new_users, events и participants."
   ]
  },
  {
   "cell_type": "code",
   "execution_count": null,
   "metadata": {},
   "outputs": [],
   "source": [
    "# Удаляем пользоваталей не соответсвующих ТЗ\n",
    "new_users = new_users.query('first_date >= \"2020-12-07\" and first_date <= \"2020-12-21\"')\n",
    "events = events.query('user_id not in @users_not_tz')\n",
    "participants = participants.query('user_id not in @users_not_tz')"
   ]
  },
  {
   "cell_type": "markdown",
   "metadata": {},
   "source": [
    "В соответсвии с ТЗ необходимо избавиться от 'interface_eu_test' в таблице participants"
   ]
  },
  {
   "cell_type": "code",
   "execution_count": null,
   "metadata": {},
   "outputs": [],
   "source": [
    "# Удаляем 'interface_eu_test' в таблице participants\n",
    "participants_test = participants.loc[participants['ab_test'] == 'recommender_system_test']\n"
   ]
  },
  {
   "cell_type": "markdown",
   "metadata": {},
   "source": [
    "### 2.2. Регион регистрации пользователей"
   ]
  },
  {
   "cell_type": "markdown",
   "metadata": {},
   "source": [
    "В соответсвии с ТЗ исследуем только пользователей из EU региона и уточним сколько таких пользоваталей"
   ]
  },
  {
   "cell_type": "code",
   "execution_count": null,
   "metadata": {},
   "outputs": [],
   "source": [
    "# Удаляем 'N.America' 'APAC' 'CIS' в таблице new_users\n",
    "new_users_eu = new_users.loc[new_users['region'] == 'EU']\n",
    "display(new_users_eu.shape) "
   ]
  },
  {
   "cell_type": "code",
   "execution_count": null,
   "metadata": {},
   "outputs": [],
   "source": [
    "# Объеденим participants и events по 'user_id'\n",
    "ab_test = participants_test.merge(events, on = 'user_id', how='left')"
   ]
  },
  {
   "cell_type": "code",
   "execution_count": null,
   "metadata": {},
   "outputs": [],
   "source": [
    "# Избавимся от пользоваталей которые не совершали  действия ('event_name')\n",
    "#ab_test = ab_test.dropna(subset=['event_name'])"
   ]
  },
  {
   "cell_type": "code",
   "execution_count": null,
   "metadata": {},
   "outputs": [],
   "source": [
    "# Объеденим ab_test и new_users по 'user_id'\n",
    "ab_test = ab_test.merge(new_users_eu, on = 'user_id', how='left')"
   ]
  },
  {
   "cell_type": "code",
   "execution_count": null,
   "metadata": {
    "scrolled": true
   },
   "outputs": [],
   "source": [
    "# Избавимся от пользоваталей которые не имеют региона ('region')\n",
    "ab_test = ab_test.dropna(subset=['region'])\n",
    "ab_test['first_date'] = pd.to_datetime(ab_test['first_date']). dt.date\n",
    "ab_test['event_dt'] = pd.to_datetime(ab_test['event_dt']). dt.date\n",
    "ab_test.sample(5)"
   ]
  },
  {
   "cell_type": "code",
   "execution_count": null,
   "metadata": {
    "scrolled": true
   },
   "outputs": [],
   "source": [
    "# Ищем % новых пользователей из региона EU\n",
    "\n",
    "participants_test = participants_test.merge(new_users, on='user_id', how = 'inner')\n",
    "\n",
    "print('Доля новых пользователей из региона EU составляет:',\\\n",
    "round(participants_test.query('region == \"EU\"')['user_id']\\\n",
    ".nunique() / new_users.query('region == \"EU\"')['user_id'].nunique()*100),'%'\n",
    ")"
   ]
  },
  {
   "cell_type": "markdown",
   "metadata": {},
   "source": [
    "### 2.3. Равномерность распределения пользователей по группам теста и динамика набора пользоваталей в группы"
   ]
  },
  {
   "cell_type": "code",
   "execution_count": null,
   "metadata": {},
   "outputs": [],
   "source": [
    "# Ищем количество пользоваталей по группам\n",
    "print(\"Количество пользователей по группам\", ab_test.groupby('group')['user_id'].nunique())"
   ]
  },
  {
   "cell_type": "code",
   "execution_count": null,
   "metadata": {},
   "outputs": [],
   "source": [
    "# Визуализация динамики набора пользователей по группам\n",
    "plot=ab_test.groupby(['first_date', 'group'])['user_id'].count().reset_index()\n",
    "plot.index = plot['first_date']\n",
    "\n",
    "plt.figure(figsize = (15, 10))\n",
    "plt.grid(True)\n",
    "plt.title('Динамика набора пользователей по группам', size=12)\n",
    "sns.barplot(data = plot, x = plot['first_date'], y = 'user_id', hue = 'group')\n",
    "plt.ylabel('Количество пользоваталей')\n",
    "plt.xlabel('Дата')\n",
    "plt.xticks(rotation = 45)\n",
    "plt.show()"
   ]
  },
  {
   "cell_type": "markdown",
   "metadata": {},
   "source": [
    "Выясним сколько пользователей зарегистрировались, во временной промежуток не входящий в ТЗ.\n",
    "И сколько пользователей п\n",
    "На графике \"Динамика набора пользователей по группам\" мы видим превышение количество пользователей группы А к группе В в разы.\n",
    "По данным изученным выше мы знаем, что в три раза превышает размер группы А к размеру группы В. \n",
    "Имеется два пика набора пользователей в группу В 07 и 16 декабря.\n",
    "Набор пользователей в группу А резко возрос на второй неделе периода регистрации."
   ]
  },
  {
   "cell_type": "markdown",
   "metadata": {},
   "source": [
    "### 2.4. Пересечений с конкурирующим тестом  и поиск пользователей, участвующих в двух группах теста одновременно"
   ]
  },
  {
   "cell_type": "code",
   "execution_count": null,
   "metadata": {
    "scrolled": true
   },
   "outputs": [],
   "source": [
    "# Ищем пересечения с конкурирующим тестом \n",
    "users_two_test = participants.groupby('user_id').agg({'ab_test': ['nunique', 'unique']})\n",
    "users_two_test.columns = ['num_groups', 'group_names']\n",
    "users_two_test = users_two_test.query('num_groups > 1').reset_index()\n",
    "display(users_two_test.sample(2))\n",
    "users_two_test.count()"
   ]
  },
  {
   "cell_type": "code",
   "execution_count": null,
   "metadata": {},
   "outputs": [],
   "source": [
    "# Избавимся от пользоваталей из группы В участвующей в interface_eu_test\n",
    "index_names = participants[ (participants['group'] ==  \"B\") & (participants['ab_test'] == \"interface_eu_test\")].index\n",
    "ab_test.drop(index_names, inplace = True) "
   ]
  },
  {
   "cell_type": "code",
   "execution_count": null,
   "metadata": {},
   "outputs": [],
   "source": [
    "# Ищем пользоваталей участвующих в двух группах теста одновременно\n",
    "not_unique_users = participants.groupby(['user_id', 'group']).size().reset_index()\n",
    "not_unique_users.columns = ['user_id', 'group', 'count']\n",
    "not_unique_users = not_unique_users.query('count > 1').sort_values(by='user_id')\n",
    "print(not_unique_users.shape)\n",
    "print(not_unique_users.sample(2))"
   ]
  },
  {
   "cell_type": "markdown",
   "metadata": {},
   "source": [
    "В данных нет пользователей участвующих в двух группах теста одновременно. Пользователи участвующих тесте согласно ТЗ и пользователей из группы А участвующих в конкурирующем тесте одновременно 482 пользователя."
   ]
  },
  {
   "cell_type": "markdown",
   "metadata": {},
   "source": [
    "По ТЗ мы знаем, что группа А это контрольная группа в тестах, то есть функциональность не изменена, можно предположить, что контрольная группа теста interface_eu_test может быть использована в нашем тесте условно \"безопасно\" и можно оставить этих пользователей."
   ]
  },
  {
   "cell_type": "markdown",
   "metadata": {},
   "source": [
    "### 2.5. Даты совершения событий участниками теста и соответствие техническому заданию"
   ]
  },
  {
   "cell_type": "code",
   "execution_count": null,
   "metadata": {},
   "outputs": [],
   "source": [
    "# Разделим на группы для визуализации\n",
    "group_A = ab_test.query('group == \"A\"')\n",
    "group_B = ab_test.query('group == \"B\"')"
   ]
  },
  {
   "cell_type": "code",
   "execution_count": null,
   "metadata": {},
   "outputs": [],
   "source": [
    "# Строим графики каличества событий по дням\n",
    "plt.figure(figsize=(7, 14))\n",
    "\n",
    "ax = group_A.pivot_table(index='event_dt', values='user_id', columns='event_name', aggfunc='count').plot.bar(stacked=True, ylim=(0, 2000))\n",
    "ax.set_title(\"Группа A\")\n",
    "plt.xlabel('Дата')\n",
    "plt.ylabel('Количество событий');\n",
    "\n",
    "ax = group_B.pivot_table(index='event_dt', values='user_id', columns='event_name', aggfunc='count').plot.bar(stacked=True, ylim=(0, 2000))\n",
    "ax.set_title(\"Группа B\")\n",
    "plt.xlabel('Дата')\n",
    "plt.ylabel('Количество событий');\n",
    "\n",
    "plt.show()"
   ]
  },
  {
   "cell_type": "markdown",
   "metadata": {},
   "source": [
    "В группе А видим пик около 21 декабря. Так же видим резкий рост и относительную стабилизацию 14 декабря. \n",
    "В группе В наблюдаем снижение активности и последующее ее затухание после 21 декабря.\n",
    "Графики так же явно отражают, насколько группа В малочисленнее группы А.\n",
    "В ТЗ заявлено окончание теста 4 января на самом деле данные заканчиваются уже 30 декабря."
   ]
  },
  {
   "cell_type": "markdown",
   "metadata": {},
   "source": [
    "В связи с тем, что сбор данных закончился раньше определенногов ТЗ срока, мы можем предположить что, либо имеет место сбой при сборе данных, либо тест по какой - то причине закончили раньше.  \n",
    "Явно имеем технические проблемы при распределении пользователей по группам в связи с перекосом численности и вероятно при сборе информации. "
   ]
  },
  {
   "cell_type": "markdown",
   "metadata": {},
   "source": [
    "### 2.6. Активность пользователей: все ли зарегистрированные пользователи прошли авторизацию и совершали переход по продуктовой воронке"
   ]
  },
  {
   "cell_type": "code",
   "execution_count": null,
   "metadata": {},
   "outputs": [],
   "source": [
    "# считаем активность пользователей групп А и В\n",
    "ab_test['day'] = pd.to_datetime(ab_test['event_dt']). dt.date\n",
    "\n",
    "# Рассмотрим среднее количество событий в день на пользователя\n",
    "events_by_day = (ab_test.groupby(['group','day']).agg({'event_dt':'count', 'user_id':'nunique'}).reset_index())\n",
    "events_by_day.columns = ['group','day','events','n_users']\n",
    "events_by_day['events_per_users'] = round(events_by_day['events'] / events_by_day['n_users'],2)"
   ]
  },
  {
   "cell_type": "code",
   "execution_count": null,
   "metadata": {},
   "outputs": [],
   "source": [
    "# проверим удален ли из датасета тест 'interface_eu_test' согласно ТЗ\n",
    "ab_test['ab_test'].unique()"
   ]
  },
  {
   "cell_type": "code",
   "execution_count": null,
   "metadata": {},
   "outputs": [],
   "source": [
    "# Выведем количество пользоваталей без действий\n",
    "print(\"Количество пользователей, которые не совершали действий поле регистрации:\",ab_test['event_name'].isna().sum())"
   ]
  },
  {
   "cell_type": "code",
   "execution_count": null,
   "metadata": {},
   "outputs": [],
   "source": [
    "# Выведем количество пользоваталей без действий по группам теста \n",
    "print(\"Количество пользователей, которые не совершали действий поле регистрации в группе А:\",  ab_test.query('group == \"A\"')['event_name'].isna().sum()) \n",
    "print(\"Количество пользователей, которые не совершали действий поле регистрации в группе В:\", ab_test.query('group == \"B\"')['event_name'].isna().sum())"
   ]
  },
  {
   "cell_type": "code",
   "execution_count": null,
   "metadata": {},
   "outputs": [],
   "source": [
    "# Разделим на группы для визуализации\n",
    "events_by_day_users_a = events_by_day.query('group == \"A\"')\n",
    "events_by_day_users_b = events_by_day.query('group == \"B\"')"
   ]
  },
  {
   "cell_type": "code",
   "execution_count": null,
   "metadata": {},
   "outputs": [],
   "source": [
    "# Строим графи Распределение среднего количества событий по дням\n",
    "fig = go.Figure(data=[\n",
    "    go.Bar(name='Cреднее количество событий в группе А', x=events_by_day_users_a['events_per_users'], y=events_by_day_users_a['day'], orientation='h'),\n",
    "    go.Bar(name='Cреднее количество событий в группе B', x=events_by_day_users_b['events_per_users'], y=events_by_day_users_b['day'], orientation='h')\n",
    "])\n",
    "fig.update_layout(barmode='stack', title='Распределение среднего количества событий по дням', xaxis_title='Среднее количество событий', yaxis_title='Дата')\n",
    "fig.show()"
   ]
  },
  {
   "cell_type": "markdown",
   "metadata": {},
   "source": [
    "Избавившись от разницы между размерами групп сравниваем их не по абсолютному значению, а по  распределению среднего количества событий по дням на пользователей.\n",
    "В среднем количество событий на пользователя одинаково в обеих группах. Меньше всего событий совершали 11 - 13 декабря."
   ]
  },
  {
   "cell_type": "code",
   "execution_count": null,
   "metadata": {},
   "outputs": [],
   "source": [
    "# Количество разных событий\n",
    "events['event_name'].value_counts()"
   ]
  },
  {
   "cell_type": "markdown",
   "metadata": {},
   "source": [
    "Действия пользователя: login (вход) -> product_page(страница товара) -> product_cart (корзина) -> purchase (покупка). Странно, что покупок больше, чем просмотров корзины вероятно, в приложении есть быстрая покупка и корзина не нужна.\n",
    "Уже на этом этапе мы видим, что существуют пользоватали, которые не совершали действий после авторизации. И таких сабытий было около 60 тысяч."
   ]
  },
  {
   "cell_type": "code",
   "execution_count": null,
   "metadata": {
    "scrolled": false
   },
   "outputs": [],
   "source": [
    "# Строим воронку событий\n",
    "funnel = events.groupby('event_name').agg({'user_id': 'nunique'}).reset_index()\n",
    "funnel = funnel.reindex([0,2,1,3])\n",
    "\n",
    "\n",
    "fig = go.Figure(go.Funnel(y = funnel['event_name'], x = funnel['user_id'], textinfo = \"value+percent initial+percent previous\"))\n",
    "fig.update_layout(title='Воронка событий пользователей', xaxis_title='Количество событий')\n",
    "fig.show()"
   ]
  },
  {
   "cell_type": "markdown",
   "metadata": {},
   "source": [
    "Конверсия в просмотр страницы составляет (product_page) 66%.\n",
    "Просматривают корзину (product_cart) - 33% от всех пользователей или 49% от тех, кто посмотрел страницу продукта.\n",
    "Конверсия в целевое действие (purchase) составляет 32%."
   ]
  },
  {
   "cell_type": "markdown",
   "metadata": {},
   "source": [
    "Мы выяснили, что существует 2870 пользователей которые после регистрации, не совершали никаких действий. Из них в группе А: 1030 пользователей, в группе В: 1840 пользователей.  \n",
    "Что бы провести дальнейший тест данные пользователи нам нужны для вывода о том, что не все пользователи авторизуются и совершают действия, но для построения воронки они нам не нужны, так как их конверсия в дальнейшие действия не произошла."
   ]
  },
  {
   "cell_type": "markdown",
   "metadata": {},
   "source": [
    "### 2.7. Горизонт анализа: рассчитайте лайфтайм совершения события 14 дней"
   ]
  },
  {
   "cell_type": "code",
   "execution_count": null,
   "metadata": {
    "scrolled": false
   },
   "outputs": [],
   "source": [
    "# Избавимся от событий с лайфтаймом больше, чем горизонт событий (14 дней)\n",
    "ab_test['delta'] = ab_test['event_dt'] - ab_test['first_date']\n",
    "\n",
    "horizon_14 = pd.Timedelta(days=14)\n",
    "ab_test1 = ab_test[ab_test['delta'] <= horizon_14]\n",
    "ab_test1.sample(5)"
   ]
  },
  {
   "cell_type": "markdown",
   "metadata": {},
   "source": [
    "По ТЗ ожидаемый эффект должен быть достигнут за 14 дней с момента регистрации в системе пользователи"
   ]
  },
  {
   "cell_type": "code",
   "execution_count": null,
   "metadata": {},
   "outputs": [],
   "source": [
    "# проверим сколько пользоваталей в датасете совершали события за преедлами лайфтайма\n",
    "after_garizont=ab_test[ab_test['delta'] > horizon_14]\n",
    "display(after_garizont.shape)"
   ]
  },
  {
   "cell_type": "markdown",
   "metadata": {},
   "source": [
    "Получили, что 592 пользователя вышли за горизонт событий и не соответствуют ТЗ."
   ]
  },
  {
   "cell_type": "code",
   "execution_count": null,
   "metadata": {
    "scrolled": true
   },
   "outputs": [],
   "source": [
    "# первое и последнее действие + delta событий\n",
    "events_min_max = ab_test1.groupby('user_id').agg({'event_dt':['min', 'max']}).reset_index()\n",
    "events_min_max['time_event']=ab_test['event_dt'] - ab_test['first_date']\n",
    "events_min_max['time_event1']=events_min_max['time_event'].dt.days\n",
    "events_min_max.sample(6)\n"
   ]
  },
  {
   "cell_type": "code",
   "execution_count": null,
   "metadata": {
    "scrolled": false
   },
   "outputs": [],
   "source": [
    "plt.figure(figsize=(15, 6))\n",
    "ax = sns.histplot(data=events_min_max, x='time_event1',  kde=True, bins=25)\n",
    "plt.title('Гистограмма распределения количества дней до достижения события')\n",
    "plt.xlabel('Количество дней')\n",
    "plt.ylabel('Частота')\n",
    "plt.show()"
   ]
  },
  {
   "cell_type": "markdown",
   "metadata": {},
   "source": [
    "Проведем расчеты и узнаем сколько времени в среднем в днях потребовалось пользователям для достижения каждого из видов действий"
   ]
  },
  {
   "cell_type": "code",
   "execution_count": null,
   "metadata": {},
   "outputs": [],
   "source": [
    "event_login=ab_test1.query('event_name == \"login\"')['delta'].mean()\n",
    "event_product_page=ab_test1.query('event_name == \"product_page\"')['delta'].mean()\n",
    "event_product_cart=ab_test1.query('event_name == \"product_cart\"')['delta'].mean()\n",
    "event_purchase=ab_test1.query('event_name == \"purchase\"')['delta'].mean()\n",
    "delta=ab_test1['delta'].mean()\n",
    "event_login"
   ]
  },
  {
   "cell_type": "code",
   "execution_count": null,
   "metadata": {},
   "outputs": [],
   "source": [
    "print(\"Количество дней за которое пользователь в среднем доходил до авторизации:\",event_login)\n",
    "print(\"Количество дней за которое пользователь в среднем доходил до просмотр страницы:\",event_product_page)\n",
    "print(\"Количество дней за которое пользователь в среднем доходил до корзины:\",event_product_cart)\n",
    "print(\"Количество дней за которое пользователь в среднем доходил до покупки:\",event_purchase)\n",
    "print(\"Количество дней с среднем до соврешения любогшо из дейсвий:\",event_purchase)"
   ]
  },
  {
   "cell_type": "markdown",
   "metadata": {},
   "source": [
    "Мы можем увидеть, что в среднем с момента регистрации и до каких- либо действий от пользователя проходило около трех дней.\n",
    "При более подробном рассмотрении мы понимаем, что при движении пользователя по воронке время до действий сокращалось, это может говорить о том, что на каждом этапе воронки оставались более целеустремленные пользователи."
   ]
  },
  {
   "cell_type": "markdown",
   "metadata": {},
   "source": [
    "## 2. Вывод\n",
    "Данные не соответствуют условиям теста и в нем недостаточное количество участников. Число новых пользователей, участвовавших в событиях, меньше ожидаемого - 3481 вместо 6000.  Имеется 2870 пользоваталей которые ничего не делали после регистрации. Из них 1030 пользователей находятся в группе А, а 1840 - в группе В. \n",
    "Были обнаружены пользователи(482), принявшие участие одновременно в двух тестах. Так как группа А это контрольная группа в тестах, то есть функциональность не изменена, можно оставить этих пользователей.  \n",
    "Распределение пользователей по группам непропорциональное, контрольная группа почти в 3 раза больше тестовой.  \n",
    "В связи с тем, что сбор данных закончился раньше определенного в ТЗ срока, мы можем предположить что, либо имеет место сбой при сборе данных, либо тест по какой - то причине закончили раньше.  \n",
    "Доля новых пользователей из Европы, попавших в тест - удовлетворяет техническому заданию и составляет 15%.   \n",
    "События в собранных данных обрываются раньше установленного времени.  \n",
    "Так же можно заметить нюанс, что имеются пользователи, которые совершили платёж не заходя в корзину. Вероятнее всего, они купили только 1 товар. Это может говорить о том, что на платформе нестрогая воронка продаж и можно приобрести продукт минуя некоторые этапы.  \n",
    "Мы можем увидеть, что в среднем с момента регистрации и до каких- либо действий от пользователя проходило около трех дней.\n",
    "Исходя из базового показателя конверсии в 50% данный уровень не достигается.\n",
    "Таким образом, не все условия, указанные в ТЗ были выполнены. Корректность проведения А/В теста не соблюдается."
   ]
  },
  {
   "cell_type": "markdown",
   "metadata": {},
   "source": [
    "## 3. Исследовательский анализ данных"
   ]
  },
  {
   "cell_type": "markdown",
   "metadata": {},
   "source": [
    "### 3.1. Распределение количества событий на пользователя в разрезе групп теста"
   ]
  },
  {
   "cell_type": "markdown",
   "metadata": {},
   "source": [
    "Распределение количества событий на пользователя в разрезе групп теста: постройте гистограмму распределения этой величины в разрезе групп и сравните её средние значения между собой у групп теста;"
   ]
  },
  {
   "cell_type": "code",
   "execution_count": null,
   "metadata": {},
   "outputs": [],
   "source": [
    "#количество событий по пользователями и событиям  \n",
    "users_events = (ab_test.groupby(['user_id'], as_index=False)['event_name'].count()\n",
    "                              .rename(columns={'event_name':'events_count'})\n",
    "                              .merge(ab_test[['user_id', 'group']], on='user_id')\n",
    "                              .drop_duplicates())\n",
    "\n",
    "users_events.sample(5)"
   ]
  },
  {
   "cell_type": "code",
   "execution_count": null,
   "metadata": {},
   "outputs": [],
   "source": [
    "print ('Усредненное количество событий на пользователя ', \\\n",
    "    round (users_events['events_count'].mean() ))"
   ]
  },
  {
   "cell_type": "code",
   "execution_count": null,
   "metadata": {},
   "outputs": [],
   "source": [
    "print ('Усредненное количество событий на пользователя в группе А = ', \\\n",
    "    round (users_events.query('group == \"A\"')['events_count'].mean()) )"
   ]
  },
  {
   "cell_type": "code",
   "execution_count": null,
   "metadata": {},
   "outputs": [],
   "source": [
    "print ('Усредненное количество событий на пользователя в группе B = ', \\\n",
    "    round (users_events.query('group == \"B\"')['events_count'].mean()) )"
   ]
  },
  {
   "cell_type": "code",
   "execution_count": null,
   "metadata": {},
   "outputs": [],
   "source": [
    "# избавимся от пользоватлеей без событий длля построения гистаграммы\n",
    "users_events=users_events[users_events['events_count']!=0]\n"
   ]
  },
  {
   "cell_type": "code",
   "execution_count": null,
   "metadata": {},
   "outputs": [],
   "source": [
    "# Строим Гистограмму распределения количества событий по пользователям и событиям в группах\n",
    "plt.figure(figsize=(15, 6))\n",
    "ax = sns.histplot(data=users_events, x='events_count', hue='group', kde=True, bins=28)\n",
    "plt.title('Гистограмма распределения количества событий по пользователям и событиям в группах')\n",
    "plt.xlabel('Количество событий')\n",
    "plt.ylabel('Частота')\n",
    "plt.legend(labels=users_events['group'].unique(), title=\"Группы\", fontsize=\"x-large\", title_fontsize=\"large\")\n",
    "plt.show()"
   ]
  },
  {
   "cell_type": "markdown",
   "metadata": {},
   "source": [
    "По графику видно, что динамика распределения событий в группах А и В совпадает, но за счет численности групп имеет разное количество событий.\n",
    "Среднее количество событий на пользователя - 7 событий. А именно по группе А - 7 событий, по группе В- 6 событий.\n",
    "Что так же говорит, о том, что группы примерно равны друг другу по поведению пользователей."
   ]
  },
  {
   "cell_type": "markdown",
   "metadata": {},
   "source": [
    "### 3.2. Динамика количества событий в группах теста по дням"
   ]
  },
  {
   "cell_type": "code",
   "execution_count": null,
   "metadata": {},
   "outputs": [],
   "source": [
    "# создаем DataFrame event_by_date, на основнаии которого будем строить гарфик\n",
    "event_by_date = ab_test.groupby(['event_dt', 'group'])['user_id'].count().reset_index()"
   ]
  },
  {
   "cell_type": "code",
   "execution_count": null,
   "metadata": {
    "scrolled": false
   },
   "outputs": [],
   "source": [
    "# строим график\n",
    "plt.figure(figsize=(15, 4))\n",
    "sns.set_style(\"whitegrid\")\n",
    "ax = sns.lineplot(data=event_by_date, x='event_dt', y='user_id', hue='group')\n",
    "ax.set_xticks(event_by_date['event_dt'])\n",
    "ax.set_title('Распределение количества событий в группах по дням')\n",
    "plt.xlabel(\"Дата события\")\n",
    "plt.ylabel(\"Количество событий\")\n",
    "plt.xticks(rotation=45)\n",
    "plt.show();"
   ]
  },
  {
   "cell_type": "markdown",
   "metadata": {},
   "source": [
    "По графику мы видим, что наблюдается резкий рост числа событий в группе А в период с 13 по 21 декабря;\n",
    "Группа В ведет себя походим образом, но за счет ее численности количество событий пропорционально меньше."
   ]
  },
  {
   "cell_type": "markdown",
   "metadata": {},
   "source": [
    "### 3.3. Влияние маркетинговых активностей на тест "
   ]
  },
  {
   "cell_type": "code",
   "execution_count": null,
   "metadata": {
    "scrolled": true
   },
   "outputs": [],
   "source": [
    "# удаляем все события и регионы которые не соответсвуют ТЗ\n",
    "marketing_events1 = marketing_events[marketing_events['regions'].str.contains(\"EU\")]\n",
    "marketing_events1 = marketing_events1.query('start_dt >= \"2020-12-07\" and start_dt <= \"2021-01-03\"')\n",
    "marketing_events1"
   ]
  },
  {
   "cell_type": "code",
   "execution_count": null,
   "metadata": {},
   "outputs": [],
   "source": [
    "# Избавимся от пользоваталей которые не совершали  действия ('event_name')\n",
    "ab_test_events = ab_test.dropna(subset=['event_name'])\n",
    "\n",
    "plt.figure(figsize=(15, 7))\n",
    "sns.histplot(x='event_dt', data=ab_test_events, palette='crest')\n",
    "plt.title('Распределение событий по времени')\n",
    "plt.xlabel('Дата')\n",
    "plt.ylabel('Количество событий')\n",
    "plt.show()"
   ]
  },
  {
   "cell_type": "markdown",
   "metadata": {},
   "source": [
    "Мы проверили какие маркетинговые события проходили во время проведения теста и узнали, что с 25 декабря 2020 началась акция Christmas&New Year Promo Построили визуализацию распределения событий по датам и увидели, что данная акция не повлияла на количество событий, так как снижения количества событий началось до начала акции."
   ]
  },
  {
   "cell_type": "markdown",
   "metadata": {},
   "source": [
    "### 3.4. Продуктовые воронки для двух групп теста "
   ]
  },
  {
   "cell_type": "code",
   "execution_count": null,
   "metadata": {},
   "outputs": [],
   "source": [
    "# определяем переменные для создания воронки\n",
    "funnel_A = ab_test[ab_test['group']==\"A\"].groupby('event_name').agg({'event_name':'count', 'user_id':'nunique'})\n",
    "funnel_A.columns = ['event_count','user_count']\n",
    "funnel_A = funnel_A.sort_values(by = 'event_count', ascending = False).reset_index().reindex([0,1,3,2])\n",
    "\n",
    "funnel_B = ab_test[ab_test['group']==\"B\"].groupby('event_name').agg({'event_name':'count', 'user_id':'nunique'})\n",
    "funnel_B.columns = ['event_count','user_count']\n",
    "funnel_B = funnel_B.sort_values(by = 'event_count', ascending = False).reset_index().reindex([0,1,3,2])"
   ]
  },
  {
   "cell_type": "code",
   "execution_count": null,
   "metadata": {},
   "outputs": [],
   "source": [
    "funnel_A"
   ]
  },
  {
   "cell_type": "code",
   "execution_count": null,
   "metadata": {
    "scrolled": true
   },
   "outputs": [],
   "source": [
    "funnel_B"
   ]
  },
  {
   "cell_type": "code",
   "execution_count": null,
   "metadata": {
    "scrolled": false
   },
   "outputs": [],
   "source": [
    "fig = go.Figure()\n",
    "\n",
    "fig.add_trace(go.Funnel(\n",
    "    name = 'Group A',\n",
    "    y = funnel_A['event_name'],\n",
    "    x = funnel_A['user_count'],\n",
    "    textinfo = \"value+percent initial\"))\n",
    "fig.update_layout(\n",
    "    title = {\n",
    "        'text' : 'Конверсия событий по группе А',\n",
    "        'x':0.5\n",
    "    }\n",
    ")\n",
    "fig.show()"
   ]
  },
  {
   "cell_type": "markdown",
   "metadata": {},
   "source": [
    "Для группы А конверсия в просмотр страницы составляет (product_page) 65%. Просматривают корзину (product_cart) - 30%/ Конверсия в целевое действие (purchase) составляет 32%"
   ]
  },
  {
   "cell_type": "code",
   "execution_count": null,
   "metadata": {},
   "outputs": [],
   "source": [
    "fig = go.Figure()\n",
    "\n",
    "\n",
    "fig.add_trace(go.Funnel(\n",
    "    name = 'Group B',\n",
    "    y = funnel_B['event_name'],\n",
    "    x = funnel_B['user_count'],\n",
    "    textinfo = \"value+percent initial\"))\n",
    "fig.update_layout(\n",
    "    title = {\n",
    "        'text' : 'Конверсия событий по группе В',\n",
    "        'x':0.5\n",
    "    }\n",
    ")\n",
    "\n",
    "fig.show()\n",
    "\n"
   ]
  },
  {
   "cell_type": "markdown",
   "metadata": {},
   "source": [
    "Для группы В конверсия в просмотр страницы составляет (product_page) 56%. Просматривают корзину (product_cart) - 28%/ Конверсия в целевое действие (purchase) составляет 28%"
   ]
  },
  {
   "cell_type": "markdown",
   "metadata": {},
   "source": [
    "## 3. Вывод \n",
    "Динамика распределения событий в группах А и В совпадает, но за счет численности групп имеет разное количество событий.\n",
    "Среднее количество событий на пользователя - 7 событий. А именно по группе А - 7 событий, по группе В- 6 событий.\n",
    "Что так же говорит, о том, что группы примерно равны друг другу по поведению пользователей.\n",
    "Наблюдается резкий рост числа событий в группе А в период с 13 по 21 декабря. Группа В ведет себя походим образом, но за счет ее численности количество событий пропорционально меньше.  \n",
    "С 25 декабря 2020 началась акция Christmas&New Year Promo, которая  не повлияла на количество событий, так как снижения количества событий началось до начала акции (21.12.2020).  \n",
    "Для группы А конверсия в просмотр страницы составляет (product_page) 65%. Просматривают корзину (product_cart) - 30%/ Конверсия в целевое действие (purchase) составляет 32%  \n",
    "Для группы В конверсия в просмотр страницы составляет (product_page) 56%. Просматривают корзину (product_cart) - 28%/ Конверсия в целевое действие (purchase) составляет 28%\n",
    "Можно заметить, что имеются пользователи, которые совершили платёж не заходя в корзину, что говорит о том на платформе нестрогая воронка продаж и можно приобрести товары через быструю покупку.\n",
    "А группа (контрольная) показала рост конверсии на всех этапах воронки, однако целевое действие увеличилось только на 2%."
   ]
  },
  {
   "cell_type": "markdown",
   "metadata": {},
   "source": [
    "## 4. Проверка статистической разницы долей z-критерием"
   ]
  },
  {
   "cell_type": "markdown",
   "metadata": {},
   "source": [
    "Проверим гипотезу: Конверсия в действия у групп пользователей различаються\n",
    "\n",
    "H_0: Доли не имеют статистических различий\n",
    "\n",
    "H_1: Доли имеют статистические различия\n",
    "\n",
    "alpha = 0.05"
   ]
  },
  {
   "cell_type": "code",
   "execution_count": null,
   "metadata": {},
   "outputs": [],
   "source": [
    "#создаем табличку по столбцам 'delta', 'group', 'event_name' и с кол-вом событий\n",
    "conversion = (ab_test.groupby(['delta', 'group', 'event_name'], as_index=False)['user_id'].count()\n",
    "                  .rename(columns={'user_id':'events_count'}))\n",
    "conversion.head(5)"
   ]
  },
  {
   "cell_type": "code",
   "execution_count": null,
   "metadata": {},
   "outputs": [],
   "source": [
    "# функция проверки Z - критерием\n",
    "def z_test(successes, trials, alpha):\n",
    "    # пропорция успехов в первой группе:\n",
    "    p1 = successes[0]/trials[0]\n",
    "    \n",
    "    # пропорция успехов во второй группе:\n",
    "    p2 = successes[1]/trials[1]\n",
    "\n",
    "    # пропорция успехов в комбинированном датасете:\n",
    "    p_combined = (successes[0] + successes[1]) / (trials[0] + trials[1])\n",
    "\n",
    "    # разница пропорций в датасетах\n",
    "    difference = p1 - p2\n",
    "\n",
    "    # считаем статистику в ст.отклонениях стандартного нормального распределения\n",
    "    z_value = abs(difference / mth.sqrt(p_combined * (1 - p_combined) * (1/trials[0] + 1/trials[1])))\n",
    "\n",
    "    # задаем стандартное нормальное распределение (среднее 0, ст.отклонение 1)\n",
    "    distr = st.norm(0, 1)\n",
    "\n",
    "    p_value = (1 - distr.cdf(abs(z_value))) * 2\n",
    "\n",
    "    print('p-значение: ', p_value)\n",
    "\n",
    "    if (p_value < alpha):\n",
    "        print(\"Отвергаем нулевую гипотезу\")\n",
    "    else:\n",
    "        print(\"Не получилось отвергнуть нулевую гипотезу\")"
   ]
  },
  {
   "cell_type": "code",
   "execution_count": null,
   "metadata": {},
   "outputs": [],
   "source": [
    "a_count = ab_test.query('group == \"A\"')['user_id'].nunique()\n",
    "b_count = ab_test.query('group == \"B\"')['user_id'].nunique()\n",
    "\n",
    "product_cart_a = conversion.query('event_name == \"product_cart\" & group == \"A\"')['events_count'].values[0]\n",
    "product_cart_b = conversion.query('event_name == \"product_cart\" & group == \"B\"')['events_count'].values[0]\n",
    "\n",
    "product_page_a = conversion.query('event_name == \"product_page\" & group == \"A\"')['events_count'].values[0]\n",
    "product_page_b = conversion.query('event_name == \"product_page\" & group == \"B\"')['events_count'].values[0]\n",
    "\n",
    "purchase_a = conversion.query('event_name == \"purchase\" & group == \"A\"')['events_count'].values[0]\n",
    "purchase_b = conversion.query('event_name == \"purchase\" & group == \"B\"')['events_count'].values[0]\n",
    "\n",
    "alpha = 0.05\n",
    "trials = [a_count, b_count]\n",
    "\n",
    "s = {'product_cart':[product_cart_a,product_cart_b], 'product_page':[product_page_a,product_page_b], 'purchase':[purchase_a,purchase_b]}\n",
    "for ev in ['product_cart', 'product_page', 'purchase']:\n",
    "    successes = s[ev]\n",
    "    print(f'Тестируем событие \"{ev}\" / successes = {s[ev]}')\n",
    "    z_test(successes, trials, alpha)\n",
    "    print()"
   ]
  },
  {
   "cell_type": "markdown",
   "metadata": {},
   "source": [
    "## 4. Вывод\n",
    "По метрике - product_cart  доли не имеют статистических различий.  \n",
    "По метрике - product_page  доли  имеют статистических различий.  \n",
    "По метрике - purchase  доли  имеют статистических различий.  \n",
    "В связи с тем, что целевое действие purchase  то мы можем сказать, что ожидаемый эффект в изменении конверсии был достигнут."
   ]
  },
  {
   "cell_type": "markdown",
   "metadata": {},
   "source": [
    "## 5. Общий вывод\n",
    "\n"
   ]
  },
  {
   "cell_type": "markdown",
   "metadata": {},
   "source": [
    "В датасете \"Календарь маркетинговых событий на 2020 год\" содержатся полные данные без дубликатов, охватывающие 14 маркетинговых событий, разделенных на 6 групп регионов. Также столбцы start_dt и finish_dt преобразованы в формат времени datetime.  \n",
    "В датасете \"Пользователи, зарегистрировавшиеся в интернет-магазине в период с 7 по 21 декабря 2020\" имеются полные данные без дубликатов о 61733 зарегистрированных пользователях из 4 регионов. Пользователи использовали 4 различных типа устройств для регистрации. Регистрация проходила с 7 по 22 декабря 2020, что не соответствует указанному периоду с 7 по 21 декабря 2020 в ТЗ.  В датасете \"События новых пользователей в период с 7 декабря 2020 по 4 января 2021\" отсутствуют дубликаты. Данные содержат информацию о 58703 пользователях, которые выполнили 4 типа событий в период с 7 по 22 декабря 2020. Столбец details содержит 377577 пропущенных значений, которые не требуют обработки, так как являются дополнительным комментарием к данным.\n",
    "В датасете \"таблица участников тестов\" имеются полные данные без дубликатов о 16666 пользователях, участвующих в тесте интерфейса и тесте системы. В группе А находится 9655 пользователей, а в группе В - 8613 пользователей.  \n",
    "Данные не соответствуют условиям теста и имеют недостаточное количество участников - всего 3481 новых пользователей приняли участие вместо запланированных 6000. Было обнаружено около 2870 пользователей, которые после регистрации больше никак не взаимодействовали с нашим продуктом.  Из них 1030 пользователей находятся в группе А, а 1840 - в группе В.  \n",
    "Было обнаружено 482 пользователя, которые участвовали одновременно в двух тестах. Но так как группа А является контрольной группой и не изменяет функциональность, этих пользователей можно оставить.  \n",
    "Распределение пользователей по группам неравномерное, контрольная группа превышает размер тестовой группы почти в 3 раза.  \n",
    "В связи с завершением сбора данных раньше указанного срока в ТЗ, можно предположить наличие ошибки при сборе данных или причины, приведшие к преждевременному завершению теста.  \n",
    "Доля новых пользователей из Европы, участвующих в тестировании, соответствует требованиям ТЗ и составляет 15%.  \n",
    "События в собранных данных прекращаются раньше заданного времени.  \n",
    "Также отмечается наличие пользователей, которые совершили платеж без посещения корзины. Вероятно, они приобрели только один товар, что может указывать на нестрогую воронку продаж и возможность приобретения продукта, минуя некоторые этапы.  \n",
    "В среднем, после регистрации пользователя проходит около трех дней до того, как он совершает какие-либо действия. Однако этот уровень не достигается базовым показателем конверсии в 50%, что означает, что не все условия, указанные в ТЗ, были выполнены. Проведение А/В теста не было корректным.  \n",
    "Динамика распределения событий в группах А и В одинакова, но из-за различного числа участников в группах, количество событий различается. В среднем, каждый пользователь совершает 7 событий. В группе А этот показатель также составляет 7 событий, в то время как в группе В - 6 событий. Это говорит о том, что поведение пользователей в двух группах примерно одинаковое.  \n",
    "В группе А наблюдается резкий рост числа событий в период с 13 по 21 декабря. Группа В также проявляет схожее поведение, но из-за различной численности количество событий пропорционально меньше.  \n",
    "Начиная с 25 декабря 2020 года, стартовала акция Christmas&New Year Promo, которая не повлияла на количество событий, так как снижение числа событий началось до ее начала (21.12.2020).  \n",
    "В группе А конверсия в просмотр страницы составляет 65%, просмотр корзины - 30%, а конверсия в целевое действие (покупку) - 32%. В группе В конверсия в просмотр страницы составляет 56%, просмотр корзины - 28%, а конверсия в целевое действие - 28%.  \n",
    "Также можно заметить, что есть пользователи, которые совершают покупки, не заходя в корзину, что указывает на то, что платформа имеет нестрогую воронку продаж и позволяет приобретать товары через быструю покупку. Контрольная группа показала рост конверсии на всех этапах воронки, но увеличение целевого действия составило всего лишь 2%.  \n",
    "По метрике \"просмотр корзины\" доли групп А и В не имеют статистических различий. По метрике \"просмотр страницы\" доли имеют статистические различия. По метрике \"покупка\" доли также имеют статистические различия. \n",
    "\n",
    "Рекомендации:\n",
    "\n",
    "Нужно подумать о \"клиентском пути\" на сайте, дополнительно проанализировать действия и время нахождения клиента на сайте. Довольно странно, что авторизовавшись половина клиентов даже не посмотрела товар. Возможно есть технические проблемы.\n",
    "\n",
    "Новая платёжная воронка прилично снижает конверсии (на 4%), вместо ожидаемого повышения. Необходимо еще раз запустить тест с соблюдением ТЗ и проанализивровать результаты.\n",
    "\n",
    "\n"
   ]
  }
 ],
 "metadata": {
  "ExecuteTimeLog": [
   {
    "duration": 46,
    "start_time": "2023-11-25T03:17:40.262Z"
   },
   {
    "duration": 1390,
    "start_time": "2023-11-25T03:17:43.242Z"
   },
   {
    "duration": 1402,
    "start_time": "2023-11-25T03:17:44.634Z"
   },
   {
    "duration": 12,
    "start_time": "2023-11-25T03:17:46.037Z"
   },
   {
    "duration": 13,
    "start_time": "2023-11-25T03:17:46.051Z"
   },
   {
    "duration": 11,
    "start_time": "2023-11-25T03:17:46.066Z"
   },
   {
    "duration": 8,
    "start_time": "2023-11-25T03:17:46.078Z"
   },
   {
    "duration": 100,
    "start_time": "2023-11-25T03:20:29.571Z"
   },
   {
    "duration": 10,
    "start_time": "2023-11-25T03:24:02.601Z"
   },
   {
    "duration": 5,
    "start_time": "2023-11-25T03:24:04.208Z"
   },
   {
    "duration": 10,
    "start_time": "2023-11-25T03:24:31.503Z"
   },
   {
    "duration": 17,
    "start_time": "2023-11-25T03:24:34.248Z"
   },
   {
    "duration": 4,
    "start_time": "2023-11-25T03:24:35.544Z"
   },
   {
    "duration": 5,
    "start_time": "2023-11-25T03:26:12.021Z"
   },
   {
    "duration": 13,
    "start_time": "2023-11-25T03:26:12.166Z"
   },
   {
    "duration": 1786,
    "start_time": "2023-11-25T03:30:33.550Z"
   },
   {
    "duration": 8,
    "start_time": "2023-11-25T03:30:42.550Z"
   },
   {
    "duration": 81,
    "start_time": "2023-11-25T03:32:00.852Z"
   },
   {
    "duration": 81,
    "start_time": "2023-11-25T03:32:08.561Z"
   },
   {
    "duration": 5,
    "start_time": "2023-11-25T03:32:18.230Z"
   },
   {
    "duration": 6,
    "start_time": "2023-11-25T03:32:23.649Z"
   },
   {
    "duration": 4,
    "start_time": "2023-11-25T03:32:43.605Z"
   },
   {
    "duration": 18,
    "start_time": "2023-11-25T03:36:48.186Z"
   },
   {
    "duration": 54,
    "start_time": "2023-11-25T03:39:04.834Z"
   },
   {
    "duration": 1831,
    "start_time": "2023-11-25T03:42:13.749Z"
   },
   {
    "duration": 19,
    "start_time": "2023-11-25T03:42:25.960Z"
   },
   {
    "duration": 12,
    "start_time": "2023-11-25T03:43:33.926Z"
   },
   {
    "duration": 124,
    "start_time": "2023-11-25T03:49:55.304Z"
   },
   {
    "duration": 10,
    "start_time": "2023-11-25T03:50:58.984Z"
   },
   {
    "duration": 9,
    "start_time": "2023-11-25T03:50:59.141Z"
   },
   {
    "duration": 8,
    "start_time": "2023-11-25T03:50:59.287Z"
   },
   {
    "duration": 8,
    "start_time": "2023-11-25T03:51:00.342Z"
   },
   {
    "duration": 109,
    "start_time": "2023-11-25T03:51:02.938Z"
   },
   {
    "duration": 151,
    "start_time": "2023-11-25T03:51:03.069Z"
   },
   {
    "duration": 19,
    "start_time": "2023-11-25T03:51:11.823Z"
   },
   {
    "duration": 111,
    "start_time": "2023-11-25T03:51:12.251Z"
   },
   {
    "duration": 109,
    "start_time": "2023-11-25T03:52:38.416Z"
   },
   {
    "duration": 45,
    "start_time": "2023-11-25T03:52:44.281Z"
   },
   {
    "duration": 44,
    "start_time": "2023-11-25T03:53:06.269Z"
   },
   {
    "duration": 292,
    "start_time": "2023-11-25T03:55:02.876Z"
   },
   {
    "duration": 75,
    "start_time": "2023-11-25T03:55:38.958Z"
   },
   {
    "duration": 207,
    "start_time": "2023-11-25T03:55:39.428Z"
   },
   {
    "duration": 39,
    "start_time": "2023-11-25T03:58:34.379Z"
   },
   {
    "duration": 160,
    "start_time": "2023-11-25T04:01:25.577Z"
   },
   {
    "duration": 118,
    "start_time": "2023-11-25T04:06:57.695Z"
   },
   {
    "duration": 1266,
    "start_time": "2023-11-25T04:08:28.077Z"
   },
   {
    "duration": 19,
    "start_time": "2023-11-25T04:15:50.285Z"
   },
   {
    "duration": 4,
    "start_time": "2023-11-25T04:22:15.215Z"
   },
   {
    "duration": 1415,
    "start_time": "2023-11-25T04:22:15.384Z"
   },
   {
    "duration": 11,
    "start_time": "2023-11-25T04:22:16.802Z"
   },
   {
    "duration": 11,
    "start_time": "2023-11-25T04:22:16.815Z"
   },
   {
    "duration": 8,
    "start_time": "2023-11-25T04:22:16.828Z"
   },
   {
    "duration": 11,
    "start_time": "2023-11-25T04:22:16.838Z"
   },
   {
    "duration": 130,
    "start_time": "2023-11-25T04:22:16.854Z"
   },
   {
    "duration": 122,
    "start_time": "2023-11-25T04:22:16.987Z"
   },
   {
    "duration": 87,
    "start_time": "2023-11-25T04:22:17.110Z"
   },
   {
    "duration": 247,
    "start_time": "2023-11-25T04:22:17.199Z"
   },
   {
    "duration": 11,
    "start_time": "2023-11-25T04:22:17.451Z"
   },
   {
    "duration": 36,
    "start_time": "2023-11-25T04:22:17.468Z"
   },
   {
    "duration": 160,
    "start_time": "2023-11-25T04:22:17.506Z"
   },
   {
    "duration": 100,
    "start_time": "2023-11-25T04:22:17.668Z"
   },
   {
    "duration": 1156,
    "start_time": "2023-11-25T04:22:17.770Z"
   },
   {
    "duration": 8,
    "start_time": "2023-11-25T04:22:18.928Z"
   },
   {
    "duration": 100,
    "start_time": "2023-11-25T04:22:33.218Z"
   },
   {
    "duration": 16,
    "start_time": "2023-11-25T04:24:15.004Z"
   },
   {
    "duration": 23,
    "start_time": "2023-11-25T04:24:40.151Z"
   },
   {
    "duration": 16,
    "start_time": "2023-11-25T04:24:48.980Z"
   },
   {
    "duration": 12,
    "start_time": "2023-11-25T05:33:01.277Z"
   },
   {
    "duration": 9,
    "start_time": "2023-11-25T05:33:09.836Z"
   },
   {
    "duration": 9,
    "start_time": "2023-11-25T05:33:29.873Z"
   },
   {
    "duration": 132,
    "start_time": "2023-11-25T05:35:15.735Z"
   },
   {
    "duration": 8,
    "start_time": "2023-11-25T05:35:41.815Z"
   },
   {
    "duration": 24,
    "start_time": "2023-11-25T05:35:49.820Z"
   },
   {
    "duration": 21,
    "start_time": "2023-11-25T05:36:58.694Z"
   },
   {
    "duration": 9,
    "start_time": "2023-11-25T05:38:29.486Z"
   },
   {
    "duration": 9,
    "start_time": "2023-11-25T05:39:33.861Z"
   },
   {
    "duration": 20,
    "start_time": "2023-11-25T05:39:34.300Z"
   },
   {
    "duration": 13,
    "start_time": "2023-11-25T05:39:34.926Z"
   },
   {
    "duration": 9,
    "start_time": "2023-11-25T05:43:40.310Z"
   },
   {
    "duration": 25,
    "start_time": "2023-11-25T05:43:40.459Z"
   },
   {
    "duration": 12,
    "start_time": "2023-11-25T05:43:41.178Z"
   },
   {
    "duration": 8,
    "start_time": "2023-11-25T05:43:42.194Z"
   },
   {
    "duration": 35,
    "start_time": "2023-11-25T05:44:00.308Z"
   },
   {
    "duration": 219,
    "start_time": "2023-11-25T05:45:00.808Z"
   },
   {
    "duration": 9,
    "start_time": "2023-11-25T05:50:24.782Z"
   },
   {
    "duration": 21,
    "start_time": "2023-11-25T05:50:25.196Z"
   },
   {
    "duration": 19,
    "start_time": "2023-11-25T05:50:25.749Z"
   },
   {
    "duration": 82,
    "start_time": "2023-11-25T05:50:27.615Z"
   },
   {
    "duration": 59,
    "start_time": "2023-11-25T05:50:36.212Z"
   },
   {
    "duration": 11,
    "start_time": "2023-11-25T05:54:33.574Z"
   },
   {
    "duration": 21,
    "start_time": "2023-11-25T05:54:51.937Z"
   },
   {
    "duration": 7,
    "start_time": "2023-11-25T05:55:18.933Z"
   },
   {
    "duration": 66,
    "start_time": "2023-11-25T05:55:23.494Z"
   },
   {
    "duration": 66,
    "start_time": "2023-11-25T05:55:34.219Z"
   },
   {
    "duration": 5,
    "start_time": "2023-11-25T05:55:35.069Z"
   },
   {
    "duration": 6,
    "start_time": "2023-11-25T05:55:35.562Z"
   },
   {
    "duration": 5,
    "start_time": "2023-11-25T05:55:46.061Z"
   },
   {
    "duration": 6,
    "start_time": "2023-11-25T05:55:52.031Z"
   },
   {
    "duration": 26,
    "start_time": "2023-11-25T05:58:01.637Z"
   },
   {
    "duration": 19,
    "start_time": "2023-11-25T05:58:32.449Z"
   },
   {
    "duration": 8,
    "start_time": "2023-11-25T05:59:17.673Z"
   },
   {
    "duration": 114,
    "start_time": "2023-11-25T06:05:12.719Z"
   },
   {
    "duration": 21,
    "start_time": "2023-11-25T06:05:23.123Z"
   },
   {
    "duration": 111,
    "start_time": "2023-11-25T06:05:30.903Z"
   },
   {
    "duration": 15,
    "start_time": "2023-11-25T06:05:31.499Z"
   },
   {
    "duration": 187,
    "start_time": "2023-11-25T06:06:41.117Z"
   },
   {
    "duration": 18,
    "start_time": "2023-11-25T06:06:42.236Z"
   },
   {
    "duration": 113,
    "start_time": "2023-11-25T06:08:35.874Z"
   },
   {
    "duration": 11,
    "start_time": "2023-11-25T06:08:35.998Z"
   },
   {
    "duration": 46,
    "start_time": "2023-11-25T06:10:48.578Z"
   },
   {
    "duration": 20,
    "start_time": "2023-11-25T06:11:52.423Z"
   },
   {
    "duration": 16,
    "start_time": "2023-11-25T06:11:52.995Z"
   },
   {
    "duration": 50,
    "start_time": "2023-11-25T06:12:21.630Z"
   },
   {
    "duration": 99,
    "start_time": "2023-11-25T06:12:39.437Z"
   },
   {
    "duration": 19,
    "start_time": "2023-11-25T06:12:46.922Z"
   },
   {
    "duration": 11,
    "start_time": "2023-11-25T06:12:54.728Z"
   },
   {
    "duration": 99,
    "start_time": "2023-11-25T06:12:56.183Z"
   },
   {
    "duration": 182,
    "start_time": "2023-11-25T06:13:04.324Z"
   },
   {
    "duration": 7,
    "start_time": "2023-11-25T06:13:16.302Z"
   },
   {
    "duration": 11,
    "start_time": "2023-11-25T06:13:17.040Z"
   },
   {
    "duration": 113,
    "start_time": "2023-11-25T06:13:18.428Z"
   },
   {
    "duration": 20,
    "start_time": "2023-11-25T06:13:19.580Z"
   },
   {
    "duration": 127,
    "start_time": "2023-11-25T06:13:59.039Z"
   },
   {
    "duration": 104,
    "start_time": "2023-11-25T06:14:08.375Z"
   },
   {
    "duration": 20,
    "start_time": "2023-11-25T06:14:10.360Z"
   },
   {
    "duration": 22,
    "start_time": "2023-11-25T06:14:13.565Z"
   },
   {
    "duration": 14,
    "start_time": "2023-11-25T06:14:31.725Z"
   },
   {
    "duration": 11,
    "start_time": "2023-11-25T06:14:49.765Z"
   },
   {
    "duration": 29,
    "start_time": "2023-11-25T06:14:50.522Z"
   },
   {
    "duration": 32,
    "start_time": "2023-11-25T06:15:42.412Z"
   },
   {
    "duration": 9,
    "start_time": "2023-11-25T06:15:42.984Z"
   },
   {
    "duration": 27,
    "start_time": "2023-11-25T06:16:25.503Z"
   },
   {
    "duration": 26,
    "start_time": "2023-11-25T06:16:36.741Z"
   },
   {
    "duration": 1922,
    "start_time": "2023-11-25T06:17:34.200Z"
   },
   {
    "duration": 1412,
    "start_time": "2023-11-25T06:17:36.124Z"
   },
   {
    "duration": 11,
    "start_time": "2023-11-25T06:17:37.538Z"
   },
   {
    "duration": 18,
    "start_time": "2023-11-25T06:17:37.551Z"
   },
   {
    "duration": 10,
    "start_time": "2023-11-25T06:17:37.572Z"
   },
   {
    "duration": 7,
    "start_time": "2023-11-25T06:17:37.584Z"
   },
   {
    "duration": 111,
    "start_time": "2023-11-25T06:17:37.592Z"
   },
   {
    "duration": 128,
    "start_time": "2023-11-25T06:17:37.704Z"
   },
   {
    "duration": 76,
    "start_time": "2023-11-25T06:17:37.833Z"
   },
   {
    "duration": 194,
    "start_time": "2023-11-25T06:17:37.910Z"
   },
   {
    "duration": 4,
    "start_time": "2023-11-25T06:17:38.105Z"
   },
   {
    "duration": 50,
    "start_time": "2023-11-25T06:17:38.111Z"
   },
   {
    "duration": 148,
    "start_time": "2023-11-25T06:17:38.164Z"
   },
   {
    "duration": 116,
    "start_time": "2023-11-25T06:17:38.314Z"
   },
   {
    "duration": 1158,
    "start_time": "2023-11-25T06:17:38.431Z"
   },
   {
    "duration": 10,
    "start_time": "2023-11-25T06:17:39.591Z"
   },
   {
    "duration": 9,
    "start_time": "2023-11-25T06:17:39.602Z"
   },
   {
    "duration": 65,
    "start_time": "2023-11-25T06:17:39.612Z"
   },
   {
    "duration": 102,
    "start_time": "2023-11-25T06:17:39.681Z"
   },
   {
    "duration": 0,
    "start_time": "2023-11-25T06:17:39.785Z"
   },
   {
    "duration": 0,
    "start_time": "2023-11-25T06:17:39.786Z"
   },
   {
    "duration": 0,
    "start_time": "2023-11-25T06:17:39.787Z"
   },
   {
    "duration": 0,
    "start_time": "2023-11-25T06:17:39.788Z"
   },
   {
    "duration": 0,
    "start_time": "2023-11-25T06:17:39.789Z"
   },
   {
    "duration": 0,
    "start_time": "2023-11-25T06:17:39.790Z"
   },
   {
    "duration": 0,
    "start_time": "2023-11-25T06:17:39.791Z"
   },
   {
    "duration": 4,
    "start_time": "2023-11-25T06:17:49.024Z"
   },
   {
    "duration": 1114,
    "start_time": "2023-11-25T06:17:49.031Z"
   },
   {
    "duration": 24,
    "start_time": "2023-11-25T06:17:50.147Z"
   },
   {
    "duration": 10,
    "start_time": "2023-11-25T06:17:50.172Z"
   },
   {
    "duration": 8,
    "start_time": "2023-11-25T06:17:50.185Z"
   },
   {
    "duration": 7,
    "start_time": "2023-11-25T06:17:50.194Z"
   },
   {
    "duration": 115,
    "start_time": "2023-11-25T06:17:50.202Z"
   },
   {
    "duration": 114,
    "start_time": "2023-11-25T06:17:50.318Z"
   },
   {
    "duration": 77,
    "start_time": "2023-11-25T06:17:50.433Z"
   },
   {
    "duration": 197,
    "start_time": "2023-11-25T06:17:50.511Z"
   },
   {
    "duration": 4,
    "start_time": "2023-11-25T06:17:50.709Z"
   },
   {
    "duration": 47,
    "start_time": "2023-11-25T06:17:50.714Z"
   },
   {
    "duration": 208,
    "start_time": "2023-11-25T06:17:50.769Z"
   },
   {
    "duration": 96,
    "start_time": "2023-11-25T06:17:50.983Z"
   },
   {
    "duration": 1117,
    "start_time": "2023-11-25T06:17:51.082Z"
   },
   {
    "duration": 11,
    "start_time": "2023-11-25T06:17:52.201Z"
   },
   {
    "duration": 25,
    "start_time": "2023-11-25T06:17:52.214Z"
   },
   {
    "duration": 37,
    "start_time": "2023-11-25T06:17:52.245Z"
   },
   {
    "duration": 8,
    "start_time": "2023-11-25T06:17:52.284Z"
   },
   {
    "duration": 0,
    "start_time": "2023-11-25T06:17:52.295Z"
   },
   {
    "duration": 0,
    "start_time": "2023-11-25T06:17:52.296Z"
   },
   {
    "duration": 0,
    "start_time": "2023-11-25T06:17:52.298Z"
   },
   {
    "duration": 0,
    "start_time": "2023-11-25T06:17:52.299Z"
   },
   {
    "duration": 0,
    "start_time": "2023-11-25T06:17:52.300Z"
   },
   {
    "duration": 0,
    "start_time": "2023-11-25T06:17:52.301Z"
   },
   {
    "duration": 0,
    "start_time": "2023-11-25T06:17:52.303Z"
   },
   {
    "duration": 9,
    "start_time": "2023-11-25T06:18:35.307Z"
   },
   {
    "duration": 20,
    "start_time": "2023-11-25T06:18:35.730Z"
   },
   {
    "duration": 14,
    "start_time": "2023-11-25T06:18:36.620Z"
   },
   {
    "duration": 11,
    "start_time": "2023-11-25T06:18:40.549Z"
   },
   {
    "duration": 921,
    "start_time": "2023-11-25T06:18:40.565Z"
   },
   {
    "duration": 8,
    "start_time": "2023-11-25T06:18:41.487Z"
   },
   {
    "duration": 8,
    "start_time": "2023-11-25T06:18:41.496Z"
   },
   {
    "duration": 8,
    "start_time": "2023-11-25T06:18:41.505Z"
   },
   {
    "duration": 12,
    "start_time": "2023-11-25T06:18:41.514Z"
   },
   {
    "duration": 107,
    "start_time": "2023-11-25T06:18:41.528Z"
   },
   {
    "duration": 131,
    "start_time": "2023-11-25T06:18:41.637Z"
   },
   {
    "duration": 56,
    "start_time": "2023-11-25T06:18:41.779Z"
   },
   {
    "duration": 201,
    "start_time": "2023-11-25T06:18:41.837Z"
   },
   {
    "duration": 4,
    "start_time": "2023-11-25T06:18:42.040Z"
   },
   {
    "duration": 39,
    "start_time": "2023-11-25T06:18:42.052Z"
   },
   {
    "duration": 175,
    "start_time": "2023-11-25T06:18:42.093Z"
   },
   {
    "duration": 106,
    "start_time": "2023-11-25T06:18:42.270Z"
   },
   {
    "duration": 1147,
    "start_time": "2023-11-25T06:18:42.381Z"
   },
   {
    "duration": 11,
    "start_time": "2023-11-25T06:18:43.529Z"
   },
   {
    "duration": 18,
    "start_time": "2023-11-25T06:18:43.556Z"
   },
   {
    "duration": 20,
    "start_time": "2023-11-25T06:18:43.580Z"
   },
   {
    "duration": 11,
    "start_time": "2023-11-25T06:18:43.602Z"
   },
   {
    "duration": 80,
    "start_time": "2023-11-25T06:18:43.615Z"
   },
   {
    "duration": 7,
    "start_time": "2023-11-25T06:18:43.697Z"
   },
   {
    "duration": 11,
    "start_time": "2023-11-25T06:18:43.705Z"
   },
   {
    "duration": 107,
    "start_time": "2023-11-25T06:18:43.717Z"
   },
   {
    "duration": 8,
    "start_time": "2023-11-25T06:18:43.825Z"
   },
   {
    "duration": 47,
    "start_time": "2023-11-25T06:18:43.834Z"
   },
   {
    "duration": 11,
    "start_time": "2023-11-25T06:18:43.883Z"
   },
   {
    "duration": 17,
    "start_time": "2023-11-25T06:19:16.692Z"
   },
   {
    "duration": 32,
    "start_time": "2023-11-25T06:19:34.164Z"
   },
   {
    "duration": 16,
    "start_time": "2023-11-25T06:21:17.427Z"
   },
   {
    "duration": 17,
    "start_time": "2023-11-25T06:24:09.874Z"
   },
   {
    "duration": 5,
    "start_time": "2023-11-25T06:24:10.613Z"
   },
   {
    "duration": 18,
    "start_time": "2023-11-25T06:24:11.431Z"
   },
   {
    "duration": 17,
    "start_time": "2023-11-25T06:27:05.607Z"
   },
   {
    "duration": 20,
    "start_time": "2023-11-25T06:27:38.941Z"
   },
   {
    "duration": 9,
    "start_time": "2023-11-25T06:29:31.839Z"
   },
   {
    "duration": 153,
    "start_time": "2023-11-25T06:31:24.629Z"
   },
   {
    "duration": 4,
    "start_time": "2023-11-25T06:31:33.573Z"
   },
   {
    "duration": 3,
    "start_time": "2023-11-25T06:31:44.840Z"
   },
   {
    "duration": 9,
    "start_time": "2023-11-25T06:32:45.313Z"
   },
   {
    "duration": 80,
    "start_time": "2023-11-25T06:34:09.716Z"
   },
   {
    "duration": 88,
    "start_time": "2023-11-25T06:34:23.861Z"
   },
   {
    "duration": 87,
    "start_time": "2023-11-25T06:34:31.277Z"
   },
   {
    "duration": 24,
    "start_time": "2023-11-25T06:35:47.270Z"
   },
   {
    "duration": 9,
    "start_time": "2023-11-25T06:36:11.413Z"
   },
   {
    "duration": 9,
    "start_time": "2023-11-25T06:36:53.122Z"
   },
   {
    "duration": 9,
    "start_time": "2023-11-25T06:40:55.041Z"
   },
   {
    "duration": 28,
    "start_time": "2023-11-25T06:41:43.462Z"
   },
   {
    "duration": 18,
    "start_time": "2023-11-25T06:42:06.999Z"
   },
   {
    "duration": 14,
    "start_time": "2023-11-25T06:42:53.450Z"
   },
   {
    "duration": 210,
    "start_time": "2023-11-25T06:43:40.673Z"
   },
   {
    "duration": 8,
    "start_time": "2023-11-25T06:43:47.100Z"
   },
   {
    "duration": 28,
    "start_time": "2023-11-25T06:46:12.222Z"
   },
   {
    "duration": 30,
    "start_time": "2023-11-25T06:47:06.232Z"
   },
   {
    "duration": 36,
    "start_time": "2023-11-25T06:47:06.851Z"
   },
   {
    "duration": 8,
    "start_time": "2023-11-25T06:48:10.638Z"
   },
   {
    "duration": 9,
    "start_time": "2023-11-25T06:48:10.782Z"
   },
   {
    "duration": 31,
    "start_time": "2023-11-25T06:50:46.284Z"
   },
   {
    "duration": 38,
    "start_time": "2023-11-25T06:51:07.456Z"
   },
   {
    "duration": 19,
    "start_time": "2023-11-25T06:51:38.518Z"
   },
   {
    "duration": 90,
    "start_time": "2023-11-25T06:51:50.490Z"
   },
   {
    "duration": 10,
    "start_time": "2023-11-25T06:57:35.077Z"
   },
   {
    "duration": 8,
    "start_time": "2023-11-25T06:57:45.008Z"
   },
   {
    "duration": 49,
    "start_time": "2023-11-25T06:57:53.129Z"
   },
   {
    "duration": 9,
    "start_time": "2023-11-25T06:57:58.197Z"
   },
   {
    "duration": 21,
    "start_time": "2023-11-25T06:58:52.378Z"
   },
   {
    "duration": 24,
    "start_time": "2023-11-25T07:02:25.905Z"
   },
   {
    "duration": 204,
    "start_time": "2023-11-25T07:04:15.485Z"
   },
   {
    "duration": 24,
    "start_time": "2023-11-25T07:04:21.206Z"
   },
   {
    "duration": 1183,
    "start_time": "2023-11-25T07:04:38.314Z"
   },
   {
    "duration": 0,
    "start_time": "2023-11-25T07:04:43.283Z"
   },
   {
    "duration": 0,
    "start_time": "2023-11-25T07:04:43.284Z"
   },
   {
    "duration": 0,
    "start_time": "2023-11-25T07:04:43.285Z"
   },
   {
    "duration": 0,
    "start_time": "2023-11-25T07:04:43.286Z"
   },
   {
    "duration": 0,
    "start_time": "2023-11-25T07:04:43.286Z"
   },
   {
    "duration": 0,
    "start_time": "2023-11-25T07:04:43.287Z"
   },
   {
    "duration": 0,
    "start_time": "2023-11-25T07:04:43.288Z"
   },
   {
    "duration": 0,
    "start_time": "2023-11-25T07:04:43.290Z"
   },
   {
    "duration": 0,
    "start_time": "2023-11-25T07:04:43.291Z"
   },
   {
    "duration": 0,
    "start_time": "2023-11-25T07:04:43.292Z"
   },
   {
    "duration": 0,
    "start_time": "2023-11-25T07:04:43.293Z"
   },
   {
    "duration": 0,
    "start_time": "2023-11-25T07:04:43.294Z"
   },
   {
    "duration": 0,
    "start_time": "2023-11-25T07:04:43.295Z"
   },
   {
    "duration": 0,
    "start_time": "2023-11-25T07:04:43.296Z"
   },
   {
    "duration": 0,
    "start_time": "2023-11-25T07:04:43.297Z"
   },
   {
    "duration": 0,
    "start_time": "2023-11-25T07:04:43.299Z"
   },
   {
    "duration": 0,
    "start_time": "2023-11-25T07:04:43.300Z"
   },
   {
    "duration": 0,
    "start_time": "2023-11-25T07:04:43.301Z"
   },
   {
    "duration": 0,
    "start_time": "2023-11-25T07:04:43.302Z"
   },
   {
    "duration": 0,
    "start_time": "2023-11-25T07:04:43.303Z"
   },
   {
    "duration": 0,
    "start_time": "2023-11-25T07:04:43.304Z"
   },
   {
    "duration": 0,
    "start_time": "2023-11-25T07:04:43.305Z"
   },
   {
    "duration": 0,
    "start_time": "2023-11-25T07:04:43.306Z"
   },
   {
    "duration": 0,
    "start_time": "2023-11-25T07:04:43.353Z"
   },
   {
    "duration": 0,
    "start_time": "2023-11-25T07:04:43.354Z"
   },
   {
    "duration": 0,
    "start_time": "2023-11-25T07:04:43.355Z"
   },
   {
    "duration": 0,
    "start_time": "2023-11-25T07:04:43.355Z"
   },
   {
    "duration": 0,
    "start_time": "2023-11-25T07:04:43.356Z"
   },
   {
    "duration": 0,
    "start_time": "2023-11-25T07:04:43.358Z"
   },
   {
    "duration": 0,
    "start_time": "2023-11-25T07:04:43.358Z"
   },
   {
    "duration": 0,
    "start_time": "2023-11-25T07:04:43.359Z"
   },
   {
    "duration": 0,
    "start_time": "2023-11-25T07:04:43.360Z"
   },
   {
    "duration": 4,
    "start_time": "2023-11-25T07:04:53.373Z"
   },
   {
    "duration": 1189,
    "start_time": "2023-11-25T07:04:53.379Z"
   },
   {
    "duration": 8,
    "start_time": "2023-11-25T07:04:54.570Z"
   },
   {
    "duration": 9,
    "start_time": "2023-11-25T07:04:54.579Z"
   },
   {
    "duration": 8,
    "start_time": "2023-11-25T07:04:54.589Z"
   },
   {
    "duration": 18,
    "start_time": "2023-11-25T07:04:54.598Z"
   },
   {
    "duration": 107,
    "start_time": "2023-11-25T07:04:54.618Z"
   },
   {
    "duration": 116,
    "start_time": "2023-11-25T07:04:54.726Z"
   },
   {
    "duration": 67,
    "start_time": "2023-11-25T07:04:54.844Z"
   },
   {
    "duration": 221,
    "start_time": "2023-11-25T07:04:54.912Z"
   },
   {
    "duration": 3,
    "start_time": "2023-11-25T07:04:55.135Z"
   },
   {
    "duration": 42,
    "start_time": "2023-11-25T07:04:55.141Z"
   },
   {
    "duration": 201,
    "start_time": "2023-11-25T07:04:55.185Z"
   },
   {
    "duration": 111,
    "start_time": "2023-11-25T07:04:55.389Z"
   },
   {
    "duration": 1045,
    "start_time": "2023-11-25T07:04:55.501Z"
   },
   {
    "duration": 12,
    "start_time": "2023-11-25T07:04:56.560Z"
   },
   {
    "duration": 8,
    "start_time": "2023-11-25T07:04:56.574Z"
   },
   {
    "duration": 25,
    "start_time": "2023-11-25T07:04:56.583Z"
   },
   {
    "duration": 12,
    "start_time": "2023-11-25T07:04:56.610Z"
   },
   {
    "duration": 76,
    "start_time": "2023-11-25T07:04:56.624Z"
   },
   {
    "duration": 5,
    "start_time": "2023-11-25T07:04:56.702Z"
   },
   {
    "duration": 11,
    "start_time": "2023-11-25T07:04:56.709Z"
   },
   {
    "duration": 3,
    "start_time": "2023-11-25T07:04:56.722Z"
   },
   {
    "duration": 103,
    "start_time": "2023-11-25T07:04:56.727Z"
   },
   {
    "duration": 9,
    "start_time": "2023-11-25T07:04:56.831Z"
   },
   {
    "duration": 35,
    "start_time": "2023-11-25T07:04:56.841Z"
   },
   {
    "duration": 18,
    "start_time": "2023-11-25T07:04:56.878Z"
   },
   {
    "duration": 16,
    "start_time": "2023-11-25T07:04:56.897Z"
   },
   {
    "duration": 41,
    "start_time": "2023-11-25T07:04:56.915Z"
   },
   {
    "duration": 7,
    "start_time": "2023-11-25T07:04:56.966Z"
   },
   {
    "duration": 24,
    "start_time": "2023-11-25T07:04:56.974Z"
   },
   {
    "duration": 0,
    "start_time": "2023-11-25T07:04:57.000Z"
   },
   {
    "duration": 12,
    "start_time": "2023-11-25T07:05:37.822Z"
   },
   {
    "duration": 28,
    "start_time": "2023-11-25T07:06:15.970Z"
   },
   {
    "duration": 9,
    "start_time": "2023-11-25T07:06:41.699Z"
   },
   {
    "duration": 45,
    "start_time": "2023-11-25T07:06:51.720Z"
   },
   {
    "duration": 58,
    "start_time": "2023-11-25T07:07:49.585Z"
   },
   {
    "duration": 38,
    "start_time": "2023-11-25T07:07:56.884Z"
   },
   {
    "duration": 10,
    "start_time": "2023-11-25T07:08:03.145Z"
   },
   {
    "duration": 51,
    "start_time": "2023-11-25T07:08:03.274Z"
   },
   {
    "duration": 1264,
    "start_time": "2023-11-25T07:08:13.244Z"
   },
   {
    "duration": 3,
    "start_time": "2023-11-25T07:08:18.222Z"
   },
   {
    "duration": 939,
    "start_time": "2023-11-25T07:08:18.226Z"
   },
   {
    "duration": 12,
    "start_time": "2023-11-25T07:08:19.167Z"
   },
   {
    "duration": 12,
    "start_time": "2023-11-25T07:08:19.181Z"
   },
   {
    "duration": 12,
    "start_time": "2023-11-25T07:08:19.195Z"
   },
   {
    "duration": 12,
    "start_time": "2023-11-25T07:08:19.209Z"
   },
   {
    "duration": 157,
    "start_time": "2023-11-25T07:08:19.223Z"
   },
   {
    "duration": 132,
    "start_time": "2023-11-25T07:08:19.382Z"
   },
   {
    "duration": 84,
    "start_time": "2023-11-25T07:08:19.515Z"
   },
   {
    "duration": 206,
    "start_time": "2023-11-25T07:08:19.604Z"
   },
   {
    "duration": 4,
    "start_time": "2023-11-25T07:08:19.812Z"
   },
   {
    "duration": 43,
    "start_time": "2023-11-25T07:08:19.818Z"
   },
   {
    "duration": 231,
    "start_time": "2023-11-25T07:08:19.863Z"
   },
   {
    "duration": 116,
    "start_time": "2023-11-25T07:08:20.096Z"
   },
   {
    "duration": 1136,
    "start_time": "2023-11-25T07:08:20.213Z"
   },
   {
    "duration": 19,
    "start_time": "2023-11-25T07:08:21.351Z"
   },
   {
    "duration": 10,
    "start_time": "2023-11-25T07:08:21.372Z"
   },
   {
    "duration": 21,
    "start_time": "2023-11-25T07:08:21.384Z"
   },
   {
    "duration": 12,
    "start_time": "2023-11-25T07:08:21.406Z"
   },
   {
    "duration": 99,
    "start_time": "2023-11-25T07:08:21.419Z"
   },
   {
    "duration": 5,
    "start_time": "2023-11-25T07:08:21.519Z"
   },
   {
    "duration": 14,
    "start_time": "2023-11-25T07:08:21.526Z"
   },
   {
    "duration": 16,
    "start_time": "2023-11-25T07:08:21.542Z"
   },
   {
    "duration": 110,
    "start_time": "2023-11-25T07:08:21.559Z"
   },
   {
    "duration": 8,
    "start_time": "2023-11-25T07:08:21.671Z"
   },
   {
    "duration": 20,
    "start_time": "2023-11-25T07:08:21.680Z"
   },
   {
    "duration": 18,
    "start_time": "2023-11-25T07:08:21.701Z"
   },
   {
    "duration": 52,
    "start_time": "2023-11-25T07:08:21.720Z"
   },
   {
    "duration": 16,
    "start_time": "2023-11-25T07:08:21.774Z"
   },
   {
    "duration": 7,
    "start_time": "2023-11-25T07:08:21.791Z"
   },
   {
    "duration": 61,
    "start_time": "2023-11-25T07:08:21.799Z"
   },
   {
    "duration": 1180,
    "start_time": "2023-11-25T07:09:22.124Z"
   },
   {
    "duration": 894,
    "start_time": "2023-11-25T07:09:23.306Z"
   },
   {
    "duration": 12,
    "start_time": "2023-11-25T07:09:24.202Z"
   },
   {
    "duration": 7,
    "start_time": "2023-11-25T07:09:24.215Z"
   },
   {
    "duration": 13,
    "start_time": "2023-11-25T07:09:24.224Z"
   },
   {
    "duration": 8,
    "start_time": "2023-11-25T07:09:24.239Z"
   },
   {
    "duration": 137,
    "start_time": "2023-11-25T07:09:24.249Z"
   },
   {
    "duration": 123,
    "start_time": "2023-11-25T07:09:24.387Z"
   },
   {
    "duration": 68,
    "start_time": "2023-11-25T07:09:24.512Z"
   },
   {
    "duration": 204,
    "start_time": "2023-11-25T07:09:24.582Z"
   },
   {
    "duration": 4,
    "start_time": "2023-11-25T07:09:24.787Z"
   },
   {
    "duration": 24,
    "start_time": "2023-11-25T07:09:24.793Z"
   },
   {
    "duration": 154,
    "start_time": "2023-11-25T07:09:24.819Z"
   },
   {
    "duration": 111,
    "start_time": "2023-11-25T07:09:24.975Z"
   },
   {
    "duration": 3,
    "start_time": "2023-11-25T07:09:26.678Z"
   },
   {
    "duration": 980,
    "start_time": "2023-11-25T07:09:26.683Z"
   },
   {
    "duration": 12,
    "start_time": "2023-11-25T07:09:27.670Z"
   },
   {
    "duration": 10,
    "start_time": "2023-11-25T07:09:27.683Z"
   },
   {
    "duration": 12,
    "start_time": "2023-11-25T07:09:27.694Z"
   },
   {
    "duration": 10,
    "start_time": "2023-11-25T07:09:27.707Z"
   },
   {
    "duration": 111,
    "start_time": "2023-11-25T07:09:27.718Z"
   },
   {
    "duration": 116,
    "start_time": "2023-11-25T07:09:27.831Z"
   },
   {
    "duration": 63,
    "start_time": "2023-11-25T07:09:27.949Z"
   },
   {
    "duration": 161,
    "start_time": "2023-11-25T07:09:28.013Z"
   },
   {
    "duration": 4,
    "start_time": "2023-11-25T07:09:28.176Z"
   },
   {
    "duration": 24,
    "start_time": "2023-11-25T07:09:28.181Z"
   },
   {
    "duration": 214,
    "start_time": "2023-11-25T07:09:28.207Z"
   },
   {
    "duration": 109,
    "start_time": "2023-11-25T07:09:28.423Z"
   },
   {
    "duration": 1097,
    "start_time": "2023-11-25T07:09:28.533Z"
   },
   {
    "duration": 24,
    "start_time": "2023-11-25T07:09:29.632Z"
   },
   {
    "duration": 18,
    "start_time": "2023-11-25T07:09:29.658Z"
   },
   {
    "duration": 23,
    "start_time": "2023-11-25T07:09:29.678Z"
   },
   {
    "duration": 14,
    "start_time": "2023-11-25T07:09:29.703Z"
   },
   {
    "duration": 78,
    "start_time": "2023-11-25T07:09:29.719Z"
   },
   {
    "duration": 5,
    "start_time": "2023-11-25T07:09:29.799Z"
   },
   {
    "duration": 17,
    "start_time": "2023-11-25T07:09:29.805Z"
   },
   {
    "duration": 3,
    "start_time": "2023-11-25T07:09:29.824Z"
   },
   {
    "duration": 105,
    "start_time": "2023-11-25T07:09:29.829Z"
   },
   {
    "duration": 7,
    "start_time": "2023-11-25T07:09:29.936Z"
   },
   {
    "duration": 45,
    "start_time": "2023-11-25T07:09:29.945Z"
   },
   {
    "duration": 18,
    "start_time": "2023-11-25T07:09:29.992Z"
   },
   {
    "duration": 16,
    "start_time": "2023-11-25T07:09:30.012Z"
   },
   {
    "duration": 63,
    "start_time": "2023-11-25T07:09:30.030Z"
   },
   {
    "duration": 17,
    "start_time": "2023-11-25T07:09:30.095Z"
   },
   {
    "duration": 22,
    "start_time": "2023-11-25T07:09:30.113Z"
   },
   {
    "duration": 2331,
    "start_time": "2023-11-25T07:16:05.251Z"
   },
   {
    "duration": 370,
    "start_time": "2023-11-25T07:16:28.912Z"
   },
   {
    "duration": 385,
    "start_time": "2023-11-25T07:17:22.047Z"
   },
   {
    "duration": 23,
    "start_time": "2023-11-25T07:20:27.413Z"
   },
   {
    "duration": 0,
    "start_time": "2023-11-25T07:20:42.193Z"
   },
   {
    "duration": 0,
    "start_time": "2023-11-25T07:20:42.194Z"
   },
   {
    "duration": 0,
    "start_time": "2023-11-25T07:20:42.195Z"
   },
   {
    "duration": 0,
    "start_time": "2023-11-25T07:20:42.196Z"
   },
   {
    "duration": 0,
    "start_time": "2023-11-25T07:20:42.197Z"
   },
   {
    "duration": 0,
    "start_time": "2023-11-25T07:20:42.199Z"
   },
   {
    "duration": 0,
    "start_time": "2023-11-25T07:20:42.199Z"
   },
   {
    "duration": 0,
    "start_time": "2023-11-25T07:20:42.200Z"
   },
   {
    "duration": 0,
    "start_time": "2023-11-25T07:20:42.201Z"
   },
   {
    "duration": 0,
    "start_time": "2023-11-25T07:20:42.202Z"
   },
   {
    "duration": 0,
    "start_time": "2023-11-25T07:20:42.203Z"
   },
   {
    "duration": 0,
    "start_time": "2023-11-25T07:20:42.204Z"
   },
   {
    "duration": 0,
    "start_time": "2023-11-25T07:20:42.257Z"
   },
   {
    "duration": 0,
    "start_time": "2023-11-25T07:20:42.257Z"
   },
   {
    "duration": 0,
    "start_time": "2023-11-25T07:20:42.258Z"
   },
   {
    "duration": 0,
    "start_time": "2023-11-25T07:20:42.264Z"
   },
   {
    "duration": 0,
    "start_time": "2023-11-25T07:20:42.265Z"
   },
   {
    "duration": 0,
    "start_time": "2023-11-25T07:20:42.267Z"
   },
   {
    "duration": 0,
    "start_time": "2023-11-25T07:20:42.267Z"
   },
   {
    "duration": 0,
    "start_time": "2023-11-25T07:20:42.268Z"
   },
   {
    "duration": 0,
    "start_time": "2023-11-25T07:20:42.269Z"
   },
   {
    "duration": 0,
    "start_time": "2023-11-25T07:20:42.270Z"
   },
   {
    "duration": 0,
    "start_time": "2023-11-25T07:20:42.271Z"
   },
   {
    "duration": 0,
    "start_time": "2023-11-25T07:20:42.272Z"
   },
   {
    "duration": 0,
    "start_time": "2023-11-25T07:20:42.273Z"
   },
   {
    "duration": 0,
    "start_time": "2023-11-25T07:20:42.274Z"
   },
   {
    "duration": 0,
    "start_time": "2023-11-25T07:20:42.275Z"
   },
   {
    "duration": 0,
    "start_time": "2023-11-25T07:20:42.275Z"
   },
   {
    "duration": 0,
    "start_time": "2023-11-25T07:20:42.276Z"
   },
   {
    "duration": 0,
    "start_time": "2023-11-25T07:20:42.277Z"
   },
   {
    "duration": 0,
    "start_time": "2023-11-25T07:20:42.278Z"
   },
   {
    "duration": 0,
    "start_time": "2023-11-25T07:20:42.279Z"
   },
   {
    "duration": 4,
    "start_time": "2023-11-25T07:20:54.748Z"
   },
   {
    "duration": 1048,
    "start_time": "2023-11-25T07:20:54.753Z"
   },
   {
    "duration": 9,
    "start_time": "2023-11-25T07:20:55.802Z"
   },
   {
    "duration": 8,
    "start_time": "2023-11-25T07:20:55.812Z"
   },
   {
    "duration": 7,
    "start_time": "2023-11-25T07:20:55.823Z"
   },
   {
    "duration": 6,
    "start_time": "2023-11-25T07:20:55.831Z"
   },
   {
    "duration": 96,
    "start_time": "2023-11-25T07:20:55.839Z"
   },
   {
    "duration": 27,
    "start_time": "2023-11-25T07:20:55.937Z"
   },
   {
    "duration": 0,
    "start_time": "2023-11-25T07:20:55.966Z"
   },
   {
    "duration": 0,
    "start_time": "2023-11-25T07:20:55.967Z"
   },
   {
    "duration": 0,
    "start_time": "2023-11-25T07:20:55.968Z"
   },
   {
    "duration": 0,
    "start_time": "2023-11-25T07:20:55.969Z"
   },
   {
    "duration": 0,
    "start_time": "2023-11-25T07:20:55.971Z"
   },
   {
    "duration": 0,
    "start_time": "2023-11-25T07:20:55.972Z"
   },
   {
    "duration": 0,
    "start_time": "2023-11-25T07:20:55.974Z"
   },
   {
    "duration": 0,
    "start_time": "2023-11-25T07:20:55.974Z"
   },
   {
    "duration": 0,
    "start_time": "2023-11-25T07:20:55.975Z"
   },
   {
    "duration": 0,
    "start_time": "2023-11-25T07:20:55.976Z"
   },
   {
    "duration": 0,
    "start_time": "2023-11-25T07:20:55.977Z"
   },
   {
    "duration": 0,
    "start_time": "2023-11-25T07:20:55.978Z"
   },
   {
    "duration": 0,
    "start_time": "2023-11-25T07:20:55.979Z"
   },
   {
    "duration": 0,
    "start_time": "2023-11-25T07:20:55.980Z"
   },
   {
    "duration": 0,
    "start_time": "2023-11-25T07:20:55.981Z"
   },
   {
    "duration": 0,
    "start_time": "2023-11-25T07:20:55.982Z"
   },
   {
    "duration": 0,
    "start_time": "2023-11-25T07:20:55.983Z"
   },
   {
    "duration": 0,
    "start_time": "2023-11-25T07:20:55.984Z"
   },
   {
    "duration": 0,
    "start_time": "2023-11-25T07:20:55.984Z"
   },
   {
    "duration": 0,
    "start_time": "2023-11-25T07:20:55.985Z"
   },
   {
    "duration": 0,
    "start_time": "2023-11-25T07:20:55.986Z"
   },
   {
    "duration": 0,
    "start_time": "2023-11-25T07:20:55.987Z"
   },
   {
    "duration": 0,
    "start_time": "2023-11-25T07:20:55.988Z"
   },
   {
    "duration": 0,
    "start_time": "2023-11-25T07:20:55.989Z"
   },
   {
    "duration": 18,
    "start_time": "2023-11-25T07:21:06.878Z"
   },
   {
    "duration": 26,
    "start_time": "2023-11-25T07:21:15.869Z"
   },
   {
    "duration": 114,
    "start_time": "2023-11-25T07:21:22.987Z"
   },
   {
    "duration": 4,
    "start_time": "2023-11-25T07:21:25.385Z"
   },
   {
    "duration": 1135,
    "start_time": "2023-11-25T07:21:25.392Z"
   },
   {
    "duration": 8,
    "start_time": "2023-11-25T07:21:26.529Z"
   },
   {
    "duration": 9,
    "start_time": "2023-11-25T07:21:26.539Z"
   },
   {
    "duration": 12,
    "start_time": "2023-11-25T07:21:26.550Z"
   },
   {
    "duration": 8,
    "start_time": "2023-11-25T07:21:26.565Z"
   },
   {
    "duration": 114,
    "start_time": "2023-11-25T07:21:26.575Z"
   },
   {
    "duration": 115,
    "start_time": "2023-11-25T07:21:26.691Z"
   },
   {
    "duration": 72,
    "start_time": "2023-11-25T07:21:26.808Z"
   },
   {
    "duration": 201,
    "start_time": "2023-11-25T07:21:26.881Z"
   },
   {
    "duration": 4,
    "start_time": "2023-11-25T07:21:27.084Z"
   },
   {
    "duration": 29,
    "start_time": "2023-11-25T07:21:27.090Z"
   },
   {
    "duration": 179,
    "start_time": "2023-11-25T07:21:27.120Z"
   },
   {
    "duration": 121,
    "start_time": "2023-11-25T07:21:27.302Z"
   },
   {
    "duration": 1151,
    "start_time": "2023-11-25T07:21:27.424Z"
   },
   {
    "duration": 12,
    "start_time": "2023-11-25T07:21:28.577Z"
   },
   {
    "duration": 10,
    "start_time": "2023-11-25T07:21:28.590Z"
   },
   {
    "duration": 22,
    "start_time": "2023-11-25T07:21:28.601Z"
   },
   {
    "duration": 46,
    "start_time": "2023-11-25T07:21:28.624Z"
   },
   {
    "duration": 66,
    "start_time": "2023-11-25T07:21:28.671Z"
   },
   {
    "duration": 4,
    "start_time": "2023-11-25T07:21:28.739Z"
   },
   {
    "duration": 27,
    "start_time": "2023-11-25T07:21:28.745Z"
   },
   {
    "duration": 6,
    "start_time": "2023-11-25T07:21:28.773Z"
   },
   {
    "duration": 96,
    "start_time": "2023-11-25T07:21:28.780Z"
   },
   {
    "duration": 7,
    "start_time": "2023-11-25T07:21:28.878Z"
   },
   {
    "duration": 23,
    "start_time": "2023-11-25T07:21:28.887Z"
   },
   {
    "duration": 15,
    "start_time": "2023-11-25T07:21:28.911Z"
   },
   {
    "duration": 49,
    "start_time": "2023-11-25T07:21:28.928Z"
   },
   {
    "duration": 41,
    "start_time": "2023-11-25T07:21:28.979Z"
   },
   {
    "duration": 16,
    "start_time": "2023-11-25T07:21:29.022Z"
   },
   {
    "duration": 28,
    "start_time": "2023-11-25T07:21:29.040Z"
   },
   {
    "duration": 396,
    "start_time": "2023-11-25T07:21:29.069Z"
   },
   {
    "duration": 447,
    "start_time": "2023-11-25T07:22:34.449Z"
   },
   {
    "duration": 12,
    "start_time": "2023-11-25T07:22:43.719Z"
   },
   {
    "duration": 349,
    "start_time": "2023-11-25T07:23:54.073Z"
   },
   {
    "duration": 34,
    "start_time": "2023-11-25T07:36:15.966Z"
   },
   {
    "duration": 330,
    "start_time": "2023-11-25T07:37:02.379Z"
   },
   {
    "duration": 11,
    "start_time": "2023-11-25T07:42:15.174Z"
   },
   {
    "duration": 813,
    "start_time": "2023-11-25T07:42:28.101Z"
   },
   {
    "duration": 812,
    "start_time": "2023-11-25T07:43:27.098Z"
   },
   {
    "duration": 48,
    "start_time": "2023-12-01T07:54:36.257Z"
   },
   {
    "duration": 6,
    "start_time": "2023-12-01T07:54:36.420Z"
   },
   {
    "duration": 4,
    "start_time": "2023-12-01T07:54:59.685Z"
   },
   {
    "duration": 1121,
    "start_time": "2023-12-01T07:54:59.691Z"
   },
   {
    "duration": 11,
    "start_time": "2023-12-01T07:55:00.813Z"
   },
   {
    "duration": 54,
    "start_time": "2023-12-01T07:55:00.825Z"
   },
   {
    "duration": 41,
    "start_time": "2023-12-01T07:55:00.885Z"
   },
   {
    "duration": 36,
    "start_time": "2023-12-01T07:55:00.927Z"
   },
   {
    "duration": 129,
    "start_time": "2023-12-01T07:55:00.965Z"
   },
   {
    "duration": 114,
    "start_time": "2023-12-01T07:55:01.096Z"
   },
   {
    "duration": 59,
    "start_time": "2023-12-01T07:55:01.211Z"
   },
   {
    "duration": 201,
    "start_time": "2023-12-01T07:55:01.272Z"
   },
   {
    "duration": 5,
    "start_time": "2023-12-01T07:55:01.474Z"
   },
   {
    "duration": 77,
    "start_time": "2023-12-01T07:55:01.481Z"
   },
   {
    "duration": 188,
    "start_time": "2023-12-01T07:55:01.560Z"
   },
   {
    "duration": 113,
    "start_time": "2023-12-01T07:55:01.750Z"
   },
   {
    "duration": 1230,
    "start_time": "2023-12-01T07:55:01.865Z"
   },
   {
    "duration": 22,
    "start_time": "2023-12-01T07:55:03.097Z"
   },
   {
    "duration": 9,
    "start_time": "2023-12-01T07:55:03.120Z"
   },
   {
    "duration": 24,
    "start_time": "2023-12-01T07:55:03.130Z"
   },
   {
    "duration": 14,
    "start_time": "2023-12-01T07:55:03.155Z"
   },
   {
    "duration": 91,
    "start_time": "2023-12-01T07:55:03.171Z"
   },
   {
    "duration": 5,
    "start_time": "2023-12-01T07:55:03.264Z"
   },
   {
    "duration": 13,
    "start_time": "2023-12-01T07:55:03.270Z"
   },
   {
    "duration": 22,
    "start_time": "2023-12-01T07:55:03.285Z"
   },
   {
    "duration": 124,
    "start_time": "2023-12-01T07:55:03.308Z"
   },
   {
    "duration": 8,
    "start_time": "2023-12-01T07:55:03.434Z"
   },
   {
    "duration": 64,
    "start_time": "2023-12-01T07:55:03.444Z"
   },
   {
    "duration": 18,
    "start_time": "2023-12-01T07:55:03.510Z"
   },
   {
    "duration": 17,
    "start_time": "2023-12-01T07:55:03.529Z"
   },
   {
    "duration": 45,
    "start_time": "2023-12-01T07:55:03.547Z"
   },
   {
    "duration": 24,
    "start_time": "2023-12-01T07:55:03.593Z"
   },
   {
    "duration": 357,
    "start_time": "2023-12-01T07:55:03.619Z"
   },
   {
    "duration": 836,
    "start_time": "2023-12-01T07:55:03.978Z"
   },
   {
    "duration": 18,
    "start_time": "2023-12-01T07:55:04.816Z"
   },
   {
    "duration": 10,
    "start_time": "2023-12-01T07:55:04.835Z"
   },
   {
    "duration": 15,
    "start_time": "2023-12-01T07:55:04.847Z"
   },
   {
    "duration": 819,
    "start_time": "2023-12-01T07:55:04.864Z"
   },
   {
    "duration": 778,
    "start_time": "2023-12-01T07:56:02.028Z"
   },
   {
    "duration": 46,
    "start_time": "2023-12-01T08:17:15.416Z"
   },
   {
    "duration": 110,
    "start_time": "2023-12-01T08:18:23.690Z"
   },
   {
    "duration": 15,
    "start_time": "2023-12-01T08:20:53.050Z"
   },
   {
    "duration": 27,
    "start_time": "2023-12-01T08:21:40.032Z"
   },
   {
    "duration": 140,
    "start_time": "2023-12-01T08:22:45.018Z"
   },
   {
    "duration": 80,
    "start_time": "2023-12-01T08:24:33.044Z"
   },
   {
    "duration": 66,
    "start_time": "2023-12-01T08:24:59.225Z"
   },
   {
    "duration": 36,
    "start_time": "2023-12-01T08:25:21.067Z"
   },
   {
    "duration": 27,
    "start_time": "2023-12-01T08:26:06.556Z"
   },
   {
    "duration": 7,
    "start_time": "2023-12-01T08:26:06.945Z"
   },
   {
    "duration": 240,
    "start_time": "2023-12-01T08:26:07.452Z"
   },
   {
    "duration": 25,
    "start_time": "2023-12-01T08:39:18.504Z"
   },
   {
    "duration": 137,
    "start_time": "2023-12-01T08:43:23.717Z"
   },
   {
    "duration": 11,
    "start_time": "2023-12-01T08:43:50.132Z"
   },
   {
    "duration": 131,
    "start_time": "2023-12-01T08:45:23.345Z"
   },
   {
    "duration": 13,
    "start_time": "2023-12-01T08:47:43.245Z"
   },
   {
    "duration": 13,
    "start_time": "2023-12-01T08:49:56.674Z"
   },
   {
    "duration": 19,
    "start_time": "2023-12-01T08:50:35.550Z"
   },
   {
    "duration": 24,
    "start_time": "2023-12-01T08:52:01.011Z"
   },
   {
    "duration": 11,
    "start_time": "2023-12-01T08:52:17.371Z"
   },
   {
    "duration": 19,
    "start_time": "2023-12-01T08:52:56.970Z"
   },
   {
    "duration": 11,
    "start_time": "2023-12-01T08:52:57.130Z"
   },
   {
    "duration": 15,
    "start_time": "2023-12-01T08:52:57.708Z"
   },
   {
    "duration": 12,
    "start_time": "2023-12-01T08:53:26.906Z"
   },
   {
    "duration": 14,
    "start_time": "2023-12-01T08:53:27.069Z"
   },
   {
    "duration": 14,
    "start_time": "2023-12-01T08:53:29.135Z"
   },
   {
    "duration": 20,
    "start_time": "2023-12-01T08:53:51.792Z"
   },
   {
    "duration": 9,
    "start_time": "2023-12-01T08:54:42.524Z"
   },
   {
    "duration": 210,
    "start_time": "2023-12-01T08:55:14.649Z"
   },
   {
    "duration": 22,
    "start_time": "2023-12-01T08:55:42.531Z"
   },
   {
    "duration": 14,
    "start_time": "2023-12-01T08:56:45.800Z"
   },
   {
    "duration": 7,
    "start_time": "2023-12-01T08:57:04.202Z"
   },
   {
    "duration": 11,
    "start_time": "2023-12-01T08:57:04.364Z"
   },
   {
    "duration": 12,
    "start_time": "2023-12-01T08:57:04.772Z"
   },
   {
    "duration": 12,
    "start_time": "2023-12-01T08:57:05.580Z"
   },
   {
    "duration": 11,
    "start_time": "2023-12-01T08:58:41.428Z"
   },
   {
    "duration": 49,
    "start_time": "2023-12-01T09:00:23.557Z"
   },
   {
    "duration": 21,
    "start_time": "2023-12-01T09:00:29.042Z"
   },
   {
    "duration": 4,
    "start_time": "2023-12-01T09:00:29.186Z"
   },
   {
    "duration": 11,
    "start_time": "2023-12-01T09:00:30.051Z"
   },
   {
    "duration": 12,
    "start_time": "2023-12-01T09:00:30.444Z"
   },
   {
    "duration": 11,
    "start_time": "2023-12-01T09:00:31.340Z"
   },
   {
    "duration": 11,
    "start_time": "2023-12-01T09:01:21.659Z"
   },
   {
    "duration": 24,
    "start_time": "2023-12-01T09:01:31.052Z"
   },
   {
    "duration": 5,
    "start_time": "2023-12-01T09:01:31.195Z"
   },
   {
    "duration": 11,
    "start_time": "2023-12-01T09:01:31.326Z"
   },
   {
    "duration": 11,
    "start_time": "2023-12-01T09:01:31.468Z"
   },
   {
    "duration": 10,
    "start_time": "2023-12-01T09:01:31.884Z"
   },
   {
    "duration": 12,
    "start_time": "2023-12-01T09:01:55.797Z"
   },
   {
    "duration": 10,
    "start_time": "2023-12-01T09:02:10.883Z"
   },
   {
    "duration": 73,
    "start_time": "2023-12-01T09:03:25.872Z"
   },
   {
    "duration": 1466,
    "start_time": "2023-12-01T09:11:48.920Z"
   },
   {
    "duration": 10,
    "start_time": "2023-12-01T09:12:11.820Z"
   },
   {
    "duration": 13,
    "start_time": "2023-12-01T09:12:14.688Z"
   },
   {
    "duration": 12,
    "start_time": "2023-12-01T09:12:32.829Z"
   },
   {
    "duration": 14,
    "start_time": "2023-12-01T09:12:32.987Z"
   },
   {
    "duration": 16,
    "start_time": "2023-12-01T09:12:33.133Z"
   },
   {
    "duration": 11,
    "start_time": "2023-12-01T09:12:33.277Z"
   },
   {
    "duration": 23,
    "start_time": "2023-12-01T09:12:33.405Z"
   },
   {
    "duration": 6,
    "start_time": "2023-12-01T09:12:33.558Z"
   },
   {
    "duration": 11,
    "start_time": "2023-12-01T09:12:33.693Z"
   },
   {
    "duration": 13,
    "start_time": "2023-12-01T09:12:34.245Z"
   },
   {
    "duration": 9,
    "start_time": "2023-12-01T09:12:35.674Z"
   },
   {
    "duration": 21,
    "start_time": "2023-12-01T09:12:38.853Z"
   },
   {
    "duration": 5,
    "start_time": "2023-12-01T09:12:38.998Z"
   },
   {
    "duration": 11,
    "start_time": "2023-12-01T09:12:39.141Z"
   },
   {
    "duration": 11,
    "start_time": "2023-12-01T09:12:39.269Z"
   },
   {
    "duration": 11,
    "start_time": "2023-12-01T09:12:39.417Z"
   },
   {
    "duration": 1318,
    "start_time": "2023-12-01T09:16:05.819Z"
   },
   {
    "duration": 12,
    "start_time": "2023-12-01T09:16:21.803Z"
   },
   {
    "duration": 15,
    "start_time": "2023-12-01T09:16:22.032Z"
   },
   {
    "duration": 14,
    "start_time": "2023-12-01T09:16:22.893Z"
   },
   {
    "duration": 4,
    "start_time": "2023-12-01T09:18:50.883Z"
   },
   {
    "duration": 4,
    "start_time": "2023-12-01T09:18:51.042Z"
   },
   {
    "duration": 4,
    "start_time": "2023-12-01T09:18:51.950Z"
   },
   {
    "duration": 4,
    "start_time": "2023-12-01T09:19:03.997Z"
   },
   {
    "duration": 6,
    "start_time": "2023-12-01T09:19:04.474Z"
   },
   {
    "duration": 11,
    "start_time": "2023-12-01T09:19:05.084Z"
   },
   {
    "duration": 12,
    "start_time": "2023-12-01T09:19:05.557Z"
   },
   {
    "duration": 10,
    "start_time": "2023-12-01T09:19:06.574Z"
   },
   {
    "duration": 10,
    "start_time": "2023-12-01T09:20:07.212Z"
   },
   {
    "duration": 9,
    "start_time": "2023-12-01T09:20:07.373Z"
   },
   {
    "duration": 12,
    "start_time": "2023-12-01T09:20:08.587Z"
   },
   {
    "duration": 13,
    "start_time": "2023-12-01T09:20:58.542Z"
   },
   {
    "duration": 12,
    "start_time": "2023-12-01T09:20:59.141Z"
   },
   {
    "duration": 12,
    "start_time": "2023-12-01T09:21:47.696Z"
   },
   {
    "duration": 12,
    "start_time": "2023-12-01T09:21:47.840Z"
   },
   {
    "duration": 7,
    "start_time": "2023-12-01T09:22:21.005Z"
   },
   {
    "duration": 12,
    "start_time": "2023-12-01T09:22:21.487Z"
   },
   {
    "duration": 10,
    "start_time": "2023-12-01T09:22:25.516Z"
   },
   {
    "duration": 5,
    "start_time": "2023-12-01T09:22:52.188Z"
   },
   {
    "duration": 12,
    "start_time": "2023-12-01T09:22:52.331Z"
   },
   {
    "duration": 10,
    "start_time": "2023-12-01T09:22:53.398Z"
   },
   {
    "duration": 52,
    "start_time": "2023-12-02T03:10:34.778Z"
   },
   {
    "duration": 6,
    "start_time": "2023-12-02T03:10:34.915Z"
   },
   {
    "duration": 8,
    "start_time": "2023-12-02T03:10:35.666Z"
   },
   {
    "duration": 1422,
    "start_time": "2023-12-02T03:10:46.074Z"
   },
   {
    "duration": 0,
    "start_time": "2023-12-02T03:10:53.846Z"
   },
   {
    "duration": 0,
    "start_time": "2023-12-02T03:10:53.847Z"
   },
   {
    "duration": 0,
    "start_time": "2023-12-02T03:10:53.848Z"
   },
   {
    "duration": 0,
    "start_time": "2023-12-02T03:10:53.849Z"
   },
   {
    "duration": 0,
    "start_time": "2023-12-02T03:10:53.850Z"
   },
   {
    "duration": 0,
    "start_time": "2023-12-02T03:10:53.851Z"
   },
   {
    "duration": 0,
    "start_time": "2023-12-02T03:10:53.852Z"
   },
   {
    "duration": 0,
    "start_time": "2023-12-02T03:10:53.853Z"
   },
   {
    "duration": 0,
    "start_time": "2023-12-02T03:10:53.854Z"
   },
   {
    "duration": 0,
    "start_time": "2023-12-02T03:10:53.855Z"
   },
   {
    "duration": 0,
    "start_time": "2023-12-02T03:10:53.855Z"
   },
   {
    "duration": 0,
    "start_time": "2023-12-02T03:10:53.856Z"
   },
   {
    "duration": 0,
    "start_time": "2023-12-02T03:10:53.857Z"
   },
   {
    "duration": 0,
    "start_time": "2023-12-02T03:10:53.858Z"
   },
   {
    "duration": 0,
    "start_time": "2023-12-02T03:10:53.859Z"
   },
   {
    "duration": 0,
    "start_time": "2023-12-02T03:10:53.860Z"
   },
   {
    "duration": 0,
    "start_time": "2023-12-02T03:10:53.861Z"
   },
   {
    "duration": 0,
    "start_time": "2023-12-02T03:10:53.862Z"
   },
   {
    "duration": 0,
    "start_time": "2023-12-02T03:10:53.862Z"
   },
   {
    "duration": 0,
    "start_time": "2023-12-02T03:10:53.863Z"
   },
   {
    "duration": 0,
    "start_time": "2023-12-02T03:10:53.864Z"
   },
   {
    "duration": 0,
    "start_time": "2023-12-02T03:10:53.865Z"
   },
   {
    "duration": 0,
    "start_time": "2023-12-02T03:10:53.866Z"
   },
   {
    "duration": 0,
    "start_time": "2023-12-02T03:10:53.867Z"
   },
   {
    "duration": 0,
    "start_time": "2023-12-02T03:10:53.868Z"
   },
   {
    "duration": 0,
    "start_time": "2023-12-02T03:10:53.869Z"
   },
   {
    "duration": 0,
    "start_time": "2023-12-02T03:10:53.870Z"
   },
   {
    "duration": 0,
    "start_time": "2023-12-02T03:10:53.871Z"
   },
   {
    "duration": 0,
    "start_time": "2023-12-02T03:10:53.872Z"
   },
   {
    "duration": 0,
    "start_time": "2023-12-02T03:10:53.873Z"
   },
   {
    "duration": 0,
    "start_time": "2023-12-02T03:10:53.873Z"
   },
   {
    "duration": 0,
    "start_time": "2023-12-02T03:10:53.874Z"
   },
   {
    "duration": 0,
    "start_time": "2023-12-02T03:10:53.875Z"
   },
   {
    "duration": 0,
    "start_time": "2023-12-02T03:10:53.876Z"
   },
   {
    "duration": 0,
    "start_time": "2023-12-02T03:10:53.877Z"
   },
   {
    "duration": 0,
    "start_time": "2023-12-02T03:10:53.878Z"
   },
   {
    "duration": 0,
    "start_time": "2023-12-02T03:10:53.878Z"
   },
   {
    "duration": 0,
    "start_time": "2023-12-02T03:10:53.880Z"
   },
   {
    "duration": 0,
    "start_time": "2023-12-02T03:10:53.881Z"
   },
   {
    "duration": 0,
    "start_time": "2023-12-02T03:10:53.943Z"
   },
   {
    "duration": 0,
    "start_time": "2023-12-02T03:10:53.944Z"
   },
   {
    "duration": 0,
    "start_time": "2023-12-02T03:10:53.945Z"
   },
   {
    "duration": 0,
    "start_time": "2023-12-02T03:10:53.946Z"
   },
   {
    "duration": 0,
    "start_time": "2023-12-02T03:10:53.947Z"
   },
   {
    "duration": 0,
    "start_time": "2023-12-02T03:10:53.948Z"
   },
   {
    "duration": 0,
    "start_time": "2023-12-02T03:10:53.949Z"
   },
   {
    "duration": 0,
    "start_time": "2023-12-02T03:10:53.950Z"
   },
   {
    "duration": 0,
    "start_time": "2023-12-02T03:10:53.951Z"
   },
   {
    "duration": 3,
    "start_time": "2023-12-02T03:11:06.466Z"
   },
   {
    "duration": 942,
    "start_time": "2023-12-02T03:11:06.471Z"
   },
   {
    "duration": 10,
    "start_time": "2023-12-02T03:11:07.415Z"
   },
   {
    "duration": 23,
    "start_time": "2023-12-02T03:11:07.426Z"
   },
   {
    "duration": 12,
    "start_time": "2023-12-02T03:11:07.451Z"
   },
   {
    "duration": 10,
    "start_time": "2023-12-02T03:11:07.464Z"
   },
   {
    "duration": 122,
    "start_time": "2023-12-02T03:11:07.475Z"
   },
   {
    "duration": 114,
    "start_time": "2023-12-02T03:11:07.598Z"
   },
   {
    "duration": 80,
    "start_time": "2023-12-02T03:11:07.713Z"
   },
   {
    "duration": 205,
    "start_time": "2023-12-02T03:11:07.795Z"
   },
   {
    "duration": 4,
    "start_time": "2023-12-02T03:11:08.002Z"
   },
   {
    "duration": 38,
    "start_time": "2023-12-02T03:11:08.008Z"
   },
   {
    "duration": 249,
    "start_time": "2023-12-02T03:11:08.047Z"
   },
   {
    "duration": 121,
    "start_time": "2023-12-02T03:11:08.299Z"
   },
   {
    "duration": 1254,
    "start_time": "2023-12-02T03:11:08.421Z"
   },
   {
    "duration": 13,
    "start_time": "2023-12-02T03:11:09.676Z"
   },
   {
    "duration": 22,
    "start_time": "2023-12-02T03:11:09.691Z"
   },
   {
    "duration": 35,
    "start_time": "2023-12-02T03:11:09.715Z"
   },
   {
    "duration": 15,
    "start_time": "2023-12-02T03:11:09.752Z"
   },
   {
    "duration": 86,
    "start_time": "2023-12-02T03:11:09.769Z"
   },
   {
    "duration": 5,
    "start_time": "2023-12-02T03:11:09.857Z"
   },
   {
    "duration": 17,
    "start_time": "2023-12-02T03:11:09.864Z"
   },
   {
    "duration": 22,
    "start_time": "2023-12-02T03:11:09.882Z"
   },
   {
    "duration": 113,
    "start_time": "2023-12-02T03:11:09.906Z"
   },
   {
    "duration": 8,
    "start_time": "2023-12-02T03:11:10.021Z"
   },
   {
    "duration": 46,
    "start_time": "2023-12-02T03:11:10.031Z"
   },
   {
    "duration": 17,
    "start_time": "2023-12-02T03:11:10.079Z"
   },
   {
    "duration": 44,
    "start_time": "2023-12-02T03:11:10.098Z"
   },
   {
    "duration": 8,
    "start_time": "2023-12-02T03:11:10.144Z"
   },
   {
    "duration": 370,
    "start_time": "2023-12-02T03:11:10.154Z"
   },
   {
    "duration": 864,
    "start_time": "2023-12-02T03:11:10.526Z"
   },
   {
    "duration": 18,
    "start_time": "2023-12-02T03:11:11.392Z"
   },
   {
    "duration": 37,
    "start_time": "2023-12-02T03:11:11.411Z"
   },
   {
    "duration": 45,
    "start_time": "2023-12-02T03:11:11.450Z"
   },
   {
    "duration": 807,
    "start_time": "2023-12-02T03:11:11.496Z"
   },
   {
    "duration": 121,
    "start_time": "2023-12-02T03:11:12.305Z"
   },
   {
    "duration": 21,
    "start_time": "2023-12-02T03:11:12.427Z"
   },
   {
    "duration": 20,
    "start_time": "2023-12-02T03:11:12.450Z"
   },
   {
    "duration": 93,
    "start_time": "2023-12-02T03:11:12.472Z"
   },
   {
    "duration": 0,
    "start_time": "2023-12-02T03:11:12.567Z"
   },
   {
    "duration": 0,
    "start_time": "2023-12-02T03:11:12.568Z"
   },
   {
    "duration": 0,
    "start_time": "2023-12-02T03:11:12.569Z"
   },
   {
    "duration": 0,
    "start_time": "2023-12-02T03:11:12.570Z"
   },
   {
    "duration": 0,
    "start_time": "2023-12-02T03:11:12.571Z"
   },
   {
    "duration": 0,
    "start_time": "2023-12-02T03:11:12.572Z"
   },
   {
    "duration": 0,
    "start_time": "2023-12-02T03:11:12.573Z"
   },
   {
    "duration": 0,
    "start_time": "2023-12-02T03:11:12.574Z"
   },
   {
    "duration": 0,
    "start_time": "2023-12-02T03:11:12.575Z"
   },
   {
    "duration": 40,
    "start_time": "2023-12-02T03:11:38.126Z"
   },
   {
    "duration": 140,
    "start_time": "2023-12-02T03:11:38.395Z"
   },
   {
    "duration": 111,
    "start_time": "2023-12-02T03:11:38.779Z"
   },
   {
    "duration": 0,
    "start_time": "2023-12-02T03:11:38.891Z"
   },
   {
    "duration": 10,
    "start_time": "2023-12-02T03:11:39.021Z"
   },
   {
    "duration": 11,
    "start_time": "2023-12-02T03:11:39.274Z"
   },
   {
    "duration": 8,
    "start_time": "2023-12-02T03:11:39.402Z"
   },
   {
    "duration": 9,
    "start_time": "2023-12-02T03:11:39.530Z"
   },
   {
    "duration": 68,
    "start_time": "2023-12-02T03:11:40.046Z"
   },
   {
    "duration": 36,
    "start_time": "2023-12-02T03:11:48.143Z"
   },
   {
    "duration": 7,
    "start_time": "2023-12-02T03:11:48.288Z"
   },
   {
    "duration": 13,
    "start_time": "2023-12-02T03:11:48.432Z"
   },
   {
    "duration": 41,
    "start_time": "2023-12-02T03:11:48.687Z"
   },
   {
    "duration": 137,
    "start_time": "2023-12-02T03:11:48.963Z"
   },
   {
    "duration": 11,
    "start_time": "2023-12-02T03:11:49.344Z"
   },
   {
    "duration": 9,
    "start_time": "2023-12-02T03:11:49.490Z"
   },
   {
    "duration": 9,
    "start_time": "2023-12-02T03:11:49.618Z"
   },
   {
    "duration": 10,
    "start_time": "2023-12-02T03:11:49.890Z"
   },
   {
    "duration": 8,
    "start_time": "2023-12-02T03:11:50.034Z"
   },
   {
    "duration": 10,
    "start_time": "2023-12-02T03:11:50.167Z"
   },
   {
    "duration": 66,
    "start_time": "2023-12-02T03:11:50.797Z"
   },
   {
    "duration": 14,
    "start_time": "2023-12-02T03:12:02.282Z"
   },
   {
    "duration": 132,
    "start_time": "2023-12-02T03:24:29.669Z"
   },
   {
    "duration": 13,
    "start_time": "2023-12-02T03:38:26.629Z"
   },
   {
    "duration": 1265,
    "start_time": "2023-12-02T03:39:42.025Z"
   },
   {
    "duration": 938,
    "start_time": "2023-12-02T03:39:43.292Z"
   },
   {
    "duration": 11,
    "start_time": "2023-12-02T03:39:44.232Z"
   },
   {
    "duration": 56,
    "start_time": "2023-12-02T03:39:44.245Z"
   },
   {
    "duration": 67,
    "start_time": "2023-12-02T03:39:44.303Z"
   },
   {
    "duration": 31,
    "start_time": "2023-12-02T03:39:44.371Z"
   },
   {
    "duration": 141,
    "start_time": "2023-12-02T03:39:44.404Z"
   },
   {
    "duration": 126,
    "start_time": "2023-12-02T03:39:44.547Z"
   },
   {
    "duration": 66,
    "start_time": "2023-12-02T03:39:44.676Z"
   },
   {
    "duration": 212,
    "start_time": "2023-12-02T03:39:44.745Z"
   },
   {
    "duration": 3,
    "start_time": "2023-12-02T03:39:44.959Z"
   },
   {
    "duration": 47,
    "start_time": "2023-12-02T03:39:44.964Z"
   },
   {
    "duration": 146,
    "start_time": "2023-12-02T03:39:45.013Z"
   },
   {
    "duration": 101,
    "start_time": "2023-12-02T03:39:45.161Z"
   },
   {
    "duration": 0,
    "start_time": "2023-12-02T03:39:49.695Z"
   },
   {
    "duration": 0,
    "start_time": "2023-12-02T03:39:49.697Z"
   },
   {
    "duration": 0,
    "start_time": "2023-12-02T03:39:49.698Z"
   },
   {
    "duration": 0,
    "start_time": "2023-12-02T03:39:49.699Z"
   },
   {
    "duration": 0,
    "start_time": "2023-12-02T03:39:49.700Z"
   },
   {
    "duration": 0,
    "start_time": "2023-12-02T03:39:49.701Z"
   },
   {
    "duration": 0,
    "start_time": "2023-12-02T03:39:49.702Z"
   },
   {
    "duration": 0,
    "start_time": "2023-12-02T03:39:49.743Z"
   },
   {
    "duration": 0,
    "start_time": "2023-12-02T03:39:49.745Z"
   },
   {
    "duration": 0,
    "start_time": "2023-12-02T03:39:49.747Z"
   },
   {
    "duration": 0,
    "start_time": "2023-12-02T03:39:49.748Z"
   },
   {
    "duration": 0,
    "start_time": "2023-12-02T03:39:49.750Z"
   },
   {
    "duration": 0,
    "start_time": "2023-12-02T03:39:49.751Z"
   },
   {
    "duration": 0,
    "start_time": "2023-12-02T03:39:49.752Z"
   },
   {
    "duration": 0,
    "start_time": "2023-12-02T03:39:49.753Z"
   },
   {
    "duration": 0,
    "start_time": "2023-12-02T03:39:49.754Z"
   },
   {
    "duration": 0,
    "start_time": "2023-12-02T03:39:49.756Z"
   },
   {
    "duration": 0,
    "start_time": "2023-12-02T03:39:49.757Z"
   },
   {
    "duration": 0,
    "start_time": "2023-12-02T03:39:49.758Z"
   },
   {
    "duration": 0,
    "start_time": "2023-12-02T03:39:49.760Z"
   },
   {
    "duration": 0,
    "start_time": "2023-12-02T03:39:49.761Z"
   },
   {
    "duration": 0,
    "start_time": "2023-12-02T03:39:49.762Z"
   },
   {
    "duration": 0,
    "start_time": "2023-12-02T03:39:49.763Z"
   },
   {
    "duration": 0,
    "start_time": "2023-12-02T03:39:49.764Z"
   },
   {
    "duration": 0,
    "start_time": "2023-12-02T03:39:49.766Z"
   },
   {
    "duration": 0,
    "start_time": "2023-12-02T03:39:49.767Z"
   },
   {
    "duration": 0,
    "start_time": "2023-12-02T03:39:49.768Z"
   },
   {
    "duration": 0,
    "start_time": "2023-12-02T03:39:49.769Z"
   },
   {
    "duration": 0,
    "start_time": "2023-12-02T03:39:49.770Z"
   },
   {
    "duration": 0,
    "start_time": "2023-12-02T03:39:49.771Z"
   },
   {
    "duration": 0,
    "start_time": "2023-12-02T03:39:49.772Z"
   },
   {
    "duration": 0,
    "start_time": "2023-12-02T03:39:49.774Z"
   },
   {
    "duration": 0,
    "start_time": "2023-12-02T03:39:49.775Z"
   },
   {
    "duration": 0,
    "start_time": "2023-12-02T03:39:49.777Z"
   },
   {
    "duration": 0,
    "start_time": "2023-12-02T03:39:49.778Z"
   },
   {
    "duration": 0,
    "start_time": "2023-12-02T03:39:49.779Z"
   },
   {
    "duration": 0,
    "start_time": "2023-12-02T03:39:49.780Z"
   },
   {
    "duration": 0,
    "start_time": "2023-12-02T03:39:49.781Z"
   },
   {
    "duration": 0,
    "start_time": "2023-12-02T03:39:49.842Z"
   },
   {
    "duration": 0,
    "start_time": "2023-12-02T03:39:49.844Z"
   },
   {
    "duration": 0,
    "start_time": "2023-12-02T03:39:49.845Z"
   },
   {
    "duration": 0,
    "start_time": "2023-12-02T03:39:49.846Z"
   },
   {
    "duration": 0,
    "start_time": "2023-12-02T03:39:49.848Z"
   },
   {
    "duration": 0,
    "start_time": "2023-12-02T03:39:49.849Z"
   },
   {
    "duration": 0,
    "start_time": "2023-12-02T03:39:49.850Z"
   },
   {
    "duration": 0,
    "start_time": "2023-12-02T03:39:49.851Z"
   },
   {
    "duration": 0,
    "start_time": "2023-12-02T03:39:49.852Z"
   },
   {
    "duration": 3,
    "start_time": "2023-12-02T03:39:57.933Z"
   },
   {
    "duration": 915,
    "start_time": "2023-12-02T03:39:57.938Z"
   },
   {
    "duration": 11,
    "start_time": "2023-12-02T03:39:58.854Z"
   },
   {
    "duration": 8,
    "start_time": "2023-12-02T03:39:58.867Z"
   },
   {
    "duration": 12,
    "start_time": "2023-12-02T03:39:58.876Z"
   },
   {
    "duration": 14,
    "start_time": "2023-12-02T03:39:58.890Z"
   },
   {
    "duration": 115,
    "start_time": "2023-12-02T03:39:58.905Z"
   },
   {
    "duration": 122,
    "start_time": "2023-12-02T03:39:59.022Z"
   },
   {
    "duration": 79,
    "start_time": "2023-12-02T03:39:59.146Z"
   },
   {
    "duration": 204,
    "start_time": "2023-12-02T03:39:59.227Z"
   },
   {
    "duration": 10,
    "start_time": "2023-12-02T03:39:59.433Z"
   },
   {
    "duration": 38,
    "start_time": "2023-12-02T03:39:59.445Z"
   },
   {
    "duration": 239,
    "start_time": "2023-12-02T03:39:59.484Z"
   },
   {
    "duration": 126,
    "start_time": "2023-12-02T03:39:59.725Z"
   },
   {
    "duration": 1201,
    "start_time": "2023-12-02T03:39:59.853Z"
   },
   {
    "duration": 12,
    "start_time": "2023-12-02T03:40:01.056Z"
   },
   {
    "duration": 77,
    "start_time": "2023-12-02T03:40:01.069Z"
   },
   {
    "duration": 43,
    "start_time": "2023-12-02T03:40:01.148Z"
   },
   {
    "duration": 17,
    "start_time": "2023-12-02T03:40:01.193Z"
   },
   {
    "duration": 93,
    "start_time": "2023-12-02T03:40:01.212Z"
   },
   {
    "duration": 5,
    "start_time": "2023-12-02T03:40:01.306Z"
   },
   {
    "duration": 51,
    "start_time": "2023-12-02T03:40:01.312Z"
   },
   {
    "duration": 98,
    "start_time": "2023-12-02T03:40:01.365Z"
   },
   {
    "duration": 139,
    "start_time": "2023-12-02T03:40:01.465Z"
   },
   {
    "duration": 8,
    "start_time": "2023-12-02T03:40:01.606Z"
   },
   {
    "duration": 51,
    "start_time": "2023-12-02T03:40:01.615Z"
   },
   {
    "duration": 19,
    "start_time": "2023-12-02T03:40:01.668Z"
   },
   {
    "duration": 53,
    "start_time": "2023-12-02T03:40:01.691Z"
   },
   {
    "duration": 9,
    "start_time": "2023-12-02T03:40:01.746Z"
   },
   {
    "duration": 428,
    "start_time": "2023-12-02T03:40:01.756Z"
   },
   {
    "duration": 899,
    "start_time": "2023-12-02T03:40:02.187Z"
   },
   {
    "duration": 18,
    "start_time": "2023-12-02T03:40:03.087Z"
   },
   {
    "duration": 9,
    "start_time": "2023-12-02T03:40:03.106Z"
   },
   {
    "duration": 30,
    "start_time": "2023-12-02T03:40:03.117Z"
   },
   {
    "duration": 793,
    "start_time": "2023-12-02T03:40:03.149Z"
   },
   {
    "duration": 126,
    "start_time": "2023-12-02T03:40:03.944Z"
   },
   {
    "duration": 255,
    "start_time": "2023-12-02T03:40:04.071Z"
   },
   {
    "duration": 26,
    "start_time": "2023-12-02T03:40:04.327Z"
   },
   {
    "duration": 46,
    "start_time": "2023-12-02T03:40:04.355Z"
   },
   {
    "duration": 144,
    "start_time": "2023-12-02T03:40:04.403Z"
   },
   {
    "duration": 12,
    "start_time": "2023-12-02T03:40:04.548Z"
   },
   {
    "duration": 0,
    "start_time": "2023-12-02T03:40:04.562Z"
   },
   {
    "duration": 0,
    "start_time": "2023-12-02T03:40:04.563Z"
   },
   {
    "duration": 0,
    "start_time": "2023-12-02T03:40:04.564Z"
   },
   {
    "duration": 0,
    "start_time": "2023-12-02T03:40:04.565Z"
   },
   {
    "duration": 0,
    "start_time": "2023-12-02T03:40:04.566Z"
   },
   {
    "duration": 0,
    "start_time": "2023-12-02T03:40:04.567Z"
   },
   {
    "duration": 68,
    "start_time": "2023-12-02T03:46:43.313Z"
   },
   {
    "duration": 52,
    "start_time": "2023-12-02T03:49:22.243Z"
   },
   {
    "duration": 56,
    "start_time": "2023-12-02T03:49:48.861Z"
   },
   {
    "duration": 378,
    "start_time": "2023-12-02T03:50:05.983Z"
   },
   {
    "duration": 61,
    "start_time": "2023-12-02T03:51:11.792Z"
   },
   {
    "duration": 54,
    "start_time": "2023-12-02T03:54:24.041Z"
   },
   {
    "duration": 95,
    "start_time": "2023-12-02T03:54:25.811Z"
   },
   {
    "duration": 8,
    "start_time": "2023-12-02T03:54:43.238Z"
   },
   {
    "duration": 508,
    "start_time": "2023-12-02T03:56:26.076Z"
   },
   {
    "duration": 512,
    "start_time": "2023-12-02T03:56:37.454Z"
   },
   {
    "duration": 557,
    "start_time": "2023-12-02T03:56:52.175Z"
   },
   {
    "duration": 560,
    "start_time": "2023-12-02T03:57:01.414Z"
   },
   {
    "duration": 857,
    "start_time": "2023-12-02T03:57:37.665Z"
   },
   {
    "duration": 877,
    "start_time": "2023-12-02T03:57:43.771Z"
   },
   {
    "duration": 591,
    "start_time": "2023-12-02T03:58:14.798Z"
   },
   {
    "duration": 60,
    "start_time": "2023-12-02T03:59:35.182Z"
   },
   {
    "duration": 599,
    "start_time": "2023-12-02T03:59:35.342Z"
   },
   {
    "duration": 8,
    "start_time": "2023-12-02T03:59:49.835Z"
   },
   {
    "duration": 1249,
    "start_time": "2023-12-02T03:59:57.865Z"
   },
   {
    "duration": 1190,
    "start_time": "2023-12-02T03:59:59.116Z"
   },
   {
    "duration": 19,
    "start_time": "2023-12-02T04:00:00.308Z"
   },
   {
    "duration": 35,
    "start_time": "2023-12-02T04:00:00.330Z"
   },
   {
    "duration": 27,
    "start_time": "2023-12-02T04:00:00.367Z"
   },
   {
    "duration": 42,
    "start_time": "2023-12-02T04:00:00.396Z"
   },
   {
    "duration": 150,
    "start_time": "2023-12-02T04:00:00.440Z"
   },
   {
    "duration": 149,
    "start_time": "2023-12-02T04:00:00.591Z"
   },
   {
    "duration": 59,
    "start_time": "2023-12-02T04:00:00.741Z"
   },
   {
    "duration": 0,
    "start_time": "2023-12-02T04:00:05.643Z"
   },
   {
    "duration": 0,
    "start_time": "2023-12-02T04:00:05.644Z"
   },
   {
    "duration": 0,
    "start_time": "2023-12-02T04:00:05.644Z"
   },
   {
    "duration": 0,
    "start_time": "2023-12-02T04:00:05.646Z"
   },
   {
    "duration": 0,
    "start_time": "2023-12-02T04:00:05.647Z"
   },
   {
    "duration": 0,
    "start_time": "2023-12-02T04:00:05.649Z"
   },
   {
    "duration": 0,
    "start_time": "2023-12-02T04:00:05.650Z"
   },
   {
    "duration": 0,
    "start_time": "2023-12-02T04:00:05.651Z"
   },
   {
    "duration": 0,
    "start_time": "2023-12-02T04:00:05.653Z"
   },
   {
    "duration": 0,
    "start_time": "2023-12-02T04:00:05.654Z"
   },
   {
    "duration": 0,
    "start_time": "2023-12-02T04:00:05.655Z"
   },
   {
    "duration": 0,
    "start_time": "2023-12-02T04:00:05.656Z"
   },
   {
    "duration": 0,
    "start_time": "2023-12-02T04:00:05.657Z"
   },
   {
    "duration": 0,
    "start_time": "2023-12-02T04:00:05.658Z"
   },
   {
    "duration": 0,
    "start_time": "2023-12-02T04:00:05.659Z"
   },
   {
    "duration": 0,
    "start_time": "2023-12-02T04:00:05.660Z"
   },
   {
    "duration": 0,
    "start_time": "2023-12-02T04:00:05.661Z"
   },
   {
    "duration": 0,
    "start_time": "2023-12-02T04:00:05.663Z"
   },
   {
    "duration": 0,
    "start_time": "2023-12-02T04:00:05.663Z"
   },
   {
    "duration": 0,
    "start_time": "2023-12-02T04:00:05.664Z"
   },
   {
    "duration": 1,
    "start_time": "2023-12-02T04:00:05.665Z"
   },
   {
    "duration": 0,
    "start_time": "2023-12-02T04:00:05.666Z"
   },
   {
    "duration": 0,
    "start_time": "2023-12-02T04:00:05.667Z"
   },
   {
    "duration": 0,
    "start_time": "2023-12-02T04:00:05.668Z"
   },
   {
    "duration": 0,
    "start_time": "2023-12-02T04:00:05.670Z"
   },
   {
    "duration": 0,
    "start_time": "2023-12-02T04:00:05.670Z"
   },
   {
    "duration": 0,
    "start_time": "2023-12-02T04:00:05.672Z"
   },
   {
    "duration": 0,
    "start_time": "2023-12-02T04:00:05.672Z"
   },
   {
    "duration": 0,
    "start_time": "2023-12-02T04:00:05.674Z"
   },
   {
    "duration": 0,
    "start_time": "2023-12-02T04:00:05.675Z"
   },
   {
    "duration": 0,
    "start_time": "2023-12-02T04:00:05.676Z"
   },
   {
    "duration": 0,
    "start_time": "2023-12-02T04:00:05.677Z"
   },
   {
    "duration": 0,
    "start_time": "2023-12-02T04:00:05.678Z"
   },
   {
    "duration": 0,
    "start_time": "2023-12-02T04:00:05.679Z"
   },
   {
    "duration": 0,
    "start_time": "2023-12-02T04:00:05.681Z"
   },
   {
    "duration": 0,
    "start_time": "2023-12-02T04:00:05.744Z"
   },
   {
    "duration": 0,
    "start_time": "2023-12-02T04:00:05.745Z"
   },
   {
    "duration": 0,
    "start_time": "2023-12-02T04:00:05.746Z"
   },
   {
    "duration": 0,
    "start_time": "2023-12-02T04:00:05.747Z"
   },
   {
    "duration": 0,
    "start_time": "2023-12-02T04:00:05.748Z"
   },
   {
    "duration": 0,
    "start_time": "2023-12-02T04:00:05.749Z"
   },
   {
    "duration": 0,
    "start_time": "2023-12-02T04:00:05.751Z"
   },
   {
    "duration": 0,
    "start_time": "2023-12-02T04:00:05.752Z"
   },
   {
    "duration": 0,
    "start_time": "2023-12-02T04:00:05.753Z"
   },
   {
    "duration": 0,
    "start_time": "2023-12-02T04:00:05.754Z"
   },
   {
    "duration": 0,
    "start_time": "2023-12-02T04:00:05.755Z"
   },
   {
    "duration": 0,
    "start_time": "2023-12-02T04:00:05.756Z"
   },
   {
    "duration": 0,
    "start_time": "2023-12-02T04:00:05.757Z"
   },
   {
    "duration": 0,
    "start_time": "2023-12-02T04:00:05.758Z"
   },
   {
    "duration": 0,
    "start_time": "2023-12-02T04:00:05.759Z"
   },
   {
    "duration": 6,
    "start_time": "2023-12-02T04:00:35.747Z"
   },
   {
    "duration": 1153,
    "start_time": "2023-12-02T04:00:35.755Z"
   },
   {
    "duration": 9,
    "start_time": "2023-12-02T04:00:36.909Z"
   },
   {
    "duration": 18,
    "start_time": "2023-12-02T04:00:36.920Z"
   },
   {
    "duration": 10,
    "start_time": "2023-12-02T04:00:36.939Z"
   },
   {
    "duration": 9,
    "start_time": "2023-12-02T04:00:36.951Z"
   },
   {
    "duration": 116,
    "start_time": "2023-12-02T04:00:36.962Z"
   },
   {
    "duration": 113,
    "start_time": "2023-12-02T04:00:37.079Z"
   },
   {
    "duration": 66,
    "start_time": "2023-12-02T04:00:37.195Z"
   },
   {
    "duration": 221,
    "start_time": "2023-12-02T04:00:37.263Z"
   },
   {
    "duration": 4,
    "start_time": "2023-12-02T04:00:37.486Z"
   },
   {
    "duration": 35,
    "start_time": "2023-12-02T04:00:37.491Z"
   },
   {
    "duration": 166,
    "start_time": "2023-12-02T04:00:37.528Z"
   },
   {
    "duration": 120,
    "start_time": "2023-12-02T04:00:37.695Z"
   },
   {
    "duration": 1135,
    "start_time": "2023-12-02T04:00:37.817Z"
   },
   {
    "duration": 12,
    "start_time": "2023-12-02T04:00:38.954Z"
   },
   {
    "duration": 22,
    "start_time": "2023-12-02T04:00:38.967Z"
   },
   {
    "duration": 43,
    "start_time": "2023-12-02T04:00:38.991Z"
   },
   {
    "duration": 16,
    "start_time": "2023-12-02T04:00:39.035Z"
   },
   {
    "duration": 71,
    "start_time": "2023-12-02T04:00:39.053Z"
   },
   {
    "duration": 5,
    "start_time": "2023-12-02T04:00:39.125Z"
   },
   {
    "duration": 23,
    "start_time": "2023-12-02T04:00:39.131Z"
   },
   {
    "duration": 3,
    "start_time": "2023-12-02T04:00:39.156Z"
   },
   {
    "duration": 113,
    "start_time": "2023-12-02T04:00:39.162Z"
   },
   {
    "duration": 8,
    "start_time": "2023-12-02T04:00:39.277Z"
   },
   {
    "duration": 42,
    "start_time": "2023-12-02T04:00:39.287Z"
   },
   {
    "duration": 49,
    "start_time": "2023-12-02T04:00:39.330Z"
   },
   {
    "duration": 45,
    "start_time": "2023-12-02T04:00:39.381Z"
   },
   {
    "duration": 39,
    "start_time": "2023-12-02T04:00:39.427Z"
   },
   {
    "duration": 454,
    "start_time": "2023-12-02T04:00:39.467Z"
   },
   {
    "duration": 870,
    "start_time": "2023-12-02T04:00:39.923Z"
   },
   {
    "duration": 20,
    "start_time": "2023-12-02T04:00:40.795Z"
   },
   {
    "duration": 27,
    "start_time": "2023-12-02T04:00:40.817Z"
   },
   {
    "duration": 0,
    "start_time": "2023-12-02T04:00:40.846Z"
   },
   {
    "duration": 0,
    "start_time": "2023-12-02T04:00:40.847Z"
   },
   {
    "duration": 0,
    "start_time": "2023-12-02T04:00:40.848Z"
   },
   {
    "duration": 0,
    "start_time": "2023-12-02T04:00:40.849Z"
   },
   {
    "duration": 0,
    "start_time": "2023-12-02T04:00:40.850Z"
   },
   {
    "duration": 0,
    "start_time": "2023-12-02T04:00:40.851Z"
   },
   {
    "duration": 0,
    "start_time": "2023-12-02T04:00:40.852Z"
   },
   {
    "duration": 0,
    "start_time": "2023-12-02T04:00:40.853Z"
   },
   {
    "duration": 0,
    "start_time": "2023-12-02T04:00:40.854Z"
   },
   {
    "duration": 0,
    "start_time": "2023-12-02T04:00:40.855Z"
   },
   {
    "duration": 0,
    "start_time": "2023-12-02T04:00:40.856Z"
   },
   {
    "duration": 0,
    "start_time": "2023-12-02T04:00:40.858Z"
   },
   {
    "duration": 0,
    "start_time": "2023-12-02T04:00:40.858Z"
   },
   {
    "duration": 0,
    "start_time": "2023-12-02T04:00:40.860Z"
   },
   {
    "duration": 0,
    "start_time": "2023-12-02T04:00:40.861Z"
   },
   {
    "duration": 0,
    "start_time": "2023-12-02T04:00:40.862Z"
   },
   {
    "duration": 0,
    "start_time": "2023-12-02T04:00:40.863Z"
   },
   {
    "duration": 3,
    "start_time": "2023-12-02T04:01:04.361Z"
   },
   {
    "duration": 921,
    "start_time": "2023-12-02T04:01:04.367Z"
   },
   {
    "duration": 9,
    "start_time": "2023-12-02T04:01:05.290Z"
   },
   {
    "duration": 9,
    "start_time": "2023-12-02T04:01:05.301Z"
   },
   {
    "duration": 11,
    "start_time": "2023-12-02T04:01:05.311Z"
   },
   {
    "duration": 8,
    "start_time": "2023-12-02T04:01:05.323Z"
   },
   {
    "duration": 113,
    "start_time": "2023-12-02T04:01:05.342Z"
   },
   {
    "duration": 122,
    "start_time": "2023-12-02T04:01:05.457Z"
   },
   {
    "duration": 80,
    "start_time": "2023-12-02T04:01:05.581Z"
   },
   {
    "duration": 230,
    "start_time": "2023-12-02T04:01:05.664Z"
   },
   {
    "duration": 4,
    "start_time": "2023-12-02T04:01:05.895Z"
   },
   {
    "duration": 43,
    "start_time": "2023-12-02T04:01:05.901Z"
   },
   {
    "duration": 175,
    "start_time": "2023-12-02T04:01:05.946Z"
   },
   {
    "duration": 129,
    "start_time": "2023-12-02T04:01:06.123Z"
   },
   {
    "duration": 1173,
    "start_time": "2023-12-02T04:01:06.254Z"
   },
   {
    "duration": 22,
    "start_time": "2023-12-02T04:01:07.428Z"
   },
   {
    "duration": 8,
    "start_time": "2023-12-02T04:01:07.452Z"
   },
   {
    "duration": 38,
    "start_time": "2023-12-02T04:01:07.462Z"
   },
   {
    "duration": 24,
    "start_time": "2023-12-02T04:01:07.502Z"
   },
   {
    "duration": 76,
    "start_time": "2023-12-02T04:01:07.528Z"
   },
   {
    "duration": 4,
    "start_time": "2023-12-02T04:01:07.606Z"
   },
   {
    "duration": 31,
    "start_time": "2023-12-02T04:01:07.612Z"
   },
   {
    "duration": 5,
    "start_time": "2023-12-02T04:01:07.645Z"
   },
   {
    "duration": 121,
    "start_time": "2023-12-02T04:01:07.652Z"
   },
   {
    "duration": 10,
    "start_time": "2023-12-02T04:01:07.775Z"
   },
   {
    "duration": 24,
    "start_time": "2023-12-02T04:01:07.787Z"
   },
   {
    "duration": 65,
    "start_time": "2023-12-02T04:01:07.813Z"
   },
   {
    "duration": 48,
    "start_time": "2023-12-02T04:01:07.881Z"
   },
   {
    "duration": 10,
    "start_time": "2023-12-02T04:01:07.943Z"
   },
   {
    "duration": 440,
    "start_time": "2023-12-02T04:01:07.955Z"
   },
   {
    "duration": 856,
    "start_time": "2023-12-02T04:01:08.396Z"
   },
   {
    "duration": 20,
    "start_time": "2023-12-02T04:01:09.254Z"
   },
   {
    "duration": 14,
    "start_time": "2023-12-02T04:01:09.275Z"
   },
   {
    "duration": 1,
    "start_time": "2023-12-02T04:01:09.290Z"
   },
   {
    "duration": 0,
    "start_time": "2023-12-02T04:01:09.292Z"
   },
   {
    "duration": 0,
    "start_time": "2023-12-02T04:01:09.293Z"
   },
   {
    "duration": 0,
    "start_time": "2023-12-02T04:01:09.294Z"
   },
   {
    "duration": 0,
    "start_time": "2023-12-02T04:01:09.295Z"
   },
   {
    "duration": 0,
    "start_time": "2023-12-02T04:01:09.296Z"
   },
   {
    "duration": 0,
    "start_time": "2023-12-02T04:01:09.297Z"
   },
   {
    "duration": 0,
    "start_time": "2023-12-02T04:01:09.298Z"
   },
   {
    "duration": 0,
    "start_time": "2023-12-02T04:01:09.299Z"
   },
   {
    "duration": 0,
    "start_time": "2023-12-02T04:01:09.301Z"
   },
   {
    "duration": 0,
    "start_time": "2023-12-02T04:01:09.302Z"
   },
   {
    "duration": 0,
    "start_time": "2023-12-02T04:01:09.303Z"
   },
   {
    "duration": 0,
    "start_time": "2023-12-02T04:01:09.304Z"
   },
   {
    "duration": 0,
    "start_time": "2023-12-02T04:01:09.306Z"
   },
   {
    "duration": 0,
    "start_time": "2023-12-02T04:01:09.343Z"
   },
   {
    "duration": 0,
    "start_time": "2023-12-02T04:01:09.344Z"
   },
   {
    "duration": 0,
    "start_time": "2023-12-02T04:01:09.346Z"
   },
   {
    "duration": 3,
    "start_time": "2023-12-02T04:01:53.390Z"
   },
   {
    "duration": 9,
    "start_time": "2023-12-02T04:01:53.814Z"
   },
   {
    "duration": 22,
    "start_time": "2023-12-02T04:01:54.592Z"
   },
   {
    "duration": 3,
    "start_time": "2023-12-02T04:03:27.190Z"
   },
   {
    "duration": 10,
    "start_time": "2023-12-02T04:03:27.675Z"
   },
   {
    "duration": 810,
    "start_time": "2023-12-02T04:03:28.227Z"
   },
   {
    "duration": 4,
    "start_time": "2023-12-02T04:03:43.357Z"
   },
   {
    "duration": 995,
    "start_time": "2023-12-02T04:03:43.362Z"
   },
   {
    "duration": 10,
    "start_time": "2023-12-02T04:03:44.358Z"
   },
   {
    "duration": 9,
    "start_time": "2023-12-02T04:03:44.370Z"
   },
   {
    "duration": 30,
    "start_time": "2023-12-02T04:03:44.380Z"
   },
   {
    "duration": 13,
    "start_time": "2023-12-02T04:03:44.412Z"
   },
   {
    "duration": 106,
    "start_time": "2023-12-02T04:03:44.427Z"
   },
   {
    "duration": 113,
    "start_time": "2023-12-02T04:03:44.534Z"
   },
   {
    "duration": 59,
    "start_time": "2023-12-02T04:03:44.649Z"
   },
   {
    "duration": 204,
    "start_time": "2023-12-02T04:03:44.710Z"
   },
   {
    "duration": 4,
    "start_time": "2023-12-02T04:03:44.916Z"
   },
   {
    "duration": 42,
    "start_time": "2023-12-02T04:03:44.922Z"
   },
   {
    "duration": 209,
    "start_time": "2023-12-02T04:03:44.965Z"
   },
   {
    "duration": 140,
    "start_time": "2023-12-02T04:03:45.176Z"
   },
   {
    "duration": 1299,
    "start_time": "2023-12-02T04:03:45.317Z"
   },
   {
    "duration": 11,
    "start_time": "2023-12-02T04:03:46.618Z"
   },
   {
    "duration": 9,
    "start_time": "2023-12-02T04:03:46.642Z"
   },
   {
    "duration": 24,
    "start_time": "2023-12-02T04:03:46.652Z"
   },
   {
    "duration": 13,
    "start_time": "2023-12-02T04:03:46.677Z"
   },
   {
    "duration": 90,
    "start_time": "2023-12-02T04:03:46.692Z"
   },
   {
    "duration": 5,
    "start_time": "2023-12-02T04:03:46.784Z"
   },
   {
    "duration": 20,
    "start_time": "2023-12-02T04:03:46.790Z"
   },
   {
    "duration": 17,
    "start_time": "2023-12-02T04:03:46.811Z"
   },
   {
    "duration": 120,
    "start_time": "2023-12-02T04:03:46.831Z"
   },
   {
    "duration": 8,
    "start_time": "2023-12-02T04:03:46.952Z"
   },
   {
    "duration": 22,
    "start_time": "2023-12-02T04:03:46.962Z"
   },
   {
    "duration": 68,
    "start_time": "2023-12-02T04:03:46.986Z"
   },
   {
    "duration": 46,
    "start_time": "2023-12-02T04:03:47.056Z"
   },
   {
    "duration": 8,
    "start_time": "2023-12-02T04:03:47.103Z"
   },
   {
    "duration": 376,
    "start_time": "2023-12-02T04:03:47.112Z"
   },
   {
    "duration": 832,
    "start_time": "2023-12-02T04:03:47.489Z"
   },
   {
    "duration": 27,
    "start_time": "2023-12-02T04:03:48.322Z"
   },
   {
    "duration": 2,
    "start_time": "2023-12-02T04:03:48.350Z"
   },
   {
    "duration": 12,
    "start_time": "2023-12-02T04:03:48.354Z"
   },
   {
    "duration": 809,
    "start_time": "2023-12-02T04:03:48.367Z"
   },
   {
    "duration": 29,
    "start_time": "2023-12-02T04:03:49.179Z"
   },
   {
    "duration": 15,
    "start_time": "2023-12-02T04:03:49.209Z"
   },
   {
    "duration": 164,
    "start_time": "2023-12-02T04:03:49.226Z"
   },
   {
    "duration": 53,
    "start_time": "2023-12-02T04:03:49.391Z"
   },
   {
    "duration": 176,
    "start_time": "2023-12-02T04:03:49.445Z"
   },
   {
    "duration": 6,
    "start_time": "2023-12-02T04:03:49.622Z"
   },
   {
    "duration": 70,
    "start_time": "2023-12-02T04:03:49.642Z"
   },
   {
    "duration": 570,
    "start_time": "2023-12-02T04:03:49.714Z"
   },
   {
    "duration": 7,
    "start_time": "2023-12-02T04:03:50.286Z"
   },
   {
    "duration": 21,
    "start_time": "2023-12-02T04:03:50.295Z"
   },
   {
    "duration": 0,
    "start_time": "2023-12-02T04:03:50.318Z"
   },
   {
    "duration": 0,
    "start_time": "2023-12-02T04:03:50.319Z"
   },
   {
    "duration": 0,
    "start_time": "2023-12-02T04:03:50.320Z"
   },
   {
    "duration": 0,
    "start_time": "2023-12-02T04:03:50.342Z"
   },
   {
    "duration": 0,
    "start_time": "2023-12-02T04:03:50.343Z"
   },
   {
    "duration": 145,
    "start_time": "2023-12-02T04:09:30.803Z"
   },
   {
    "duration": 16,
    "start_time": "2023-12-02T04:09:45.640Z"
   },
   {
    "duration": 15,
    "start_time": "2023-12-02T04:10:25.549Z"
   },
   {
    "duration": 15,
    "start_time": "2023-12-02T04:10:38.833Z"
   },
   {
    "duration": 88,
    "start_time": "2023-12-02T04:13:34.388Z"
   },
   {
    "duration": 14,
    "start_time": "2023-12-02T04:16:27.412Z"
   },
   {
    "duration": 690,
    "start_time": "2023-12-02T04:16:27.964Z"
   },
   {
    "duration": 12,
    "start_time": "2023-12-02T04:17:18.888Z"
   },
   {
    "duration": 1395,
    "start_time": "2023-12-02T04:19:42.035Z"
   },
   {
    "duration": 0,
    "start_time": "2023-12-02T04:19:43.432Z"
   },
   {
    "duration": 16,
    "start_time": "2023-12-02T04:21:20.701Z"
   },
   {
    "duration": 9,
    "start_time": "2023-12-02T04:22:03.895Z"
   },
   {
    "duration": 16,
    "start_time": "2023-12-02T04:22:15.323Z"
   },
   {
    "duration": 29,
    "start_time": "2023-12-02T04:22:35.497Z"
   },
   {
    "duration": 14,
    "start_time": "2023-12-02T04:22:55.675Z"
   },
   {
    "duration": 1236,
    "start_time": "2023-12-02T04:22:56.190Z"
   },
   {
    "duration": 10,
    "start_time": "2023-12-02T04:25:02.731Z"
   },
   {
    "duration": 551,
    "start_time": "2023-12-02T04:25:02.891Z"
   },
   {
    "duration": 23,
    "start_time": "2023-12-02T04:27:56.940Z"
   },
   {
    "duration": 53,
    "start_time": "2023-12-02T04:28:31.344Z"
   },
   {
    "duration": 59,
    "start_time": "2023-12-02T04:28:45.140Z"
   },
   {
    "duration": 55,
    "start_time": "2023-12-02T04:29:04.048Z"
   },
   {
    "duration": 3,
    "start_time": "2023-12-02T04:29:04.155Z"
   },
   {
    "duration": 9,
    "start_time": "2023-12-02T04:29:50.488Z"
   },
   {
    "duration": 20,
    "start_time": "2023-12-02T04:31:56.262Z"
   },
   {
    "duration": 228,
    "start_time": "2023-12-02T04:32:10.748Z"
   },
   {
    "duration": 210,
    "start_time": "2023-12-02T04:32:36.003Z"
   },
   {
    "duration": 19,
    "start_time": "2023-12-02T04:32:55.792Z"
   },
   {
    "duration": 224,
    "start_time": "2023-12-02T04:33:02.582Z"
   },
   {
    "duration": 202,
    "start_time": "2023-12-02T04:33:40.530Z"
   },
   {
    "duration": 399,
    "start_time": "2023-12-02T04:34:18.640Z"
   },
   {
    "duration": 10,
    "start_time": "2023-12-02T04:35:33.059Z"
   },
   {
    "duration": 11,
    "start_time": "2023-12-02T04:36:35.299Z"
   },
   {
    "duration": 82,
    "start_time": "2023-12-02T04:36:35.686Z"
   },
   {
    "duration": 1573,
    "start_time": "2023-12-02T04:37:55.889Z"
   },
   {
    "duration": 1413,
    "start_time": "2023-12-02T04:40:39.178Z"
   },
   {
    "duration": 1394,
    "start_time": "2023-12-02T04:41:39.436Z"
   },
   {
    "duration": 11,
    "start_time": "2023-12-02T04:42:43.030Z"
   },
   {
    "duration": 12,
    "start_time": "2023-12-02T04:43:33.868Z"
   },
   {
    "duration": 415,
    "start_time": "2023-12-02T04:44:27.939Z"
   },
   {
    "duration": 1263,
    "start_time": "2023-12-02T04:46:56.513Z"
   },
   {
    "duration": 1183,
    "start_time": "2023-12-02T04:46:57.778Z"
   },
   {
    "duration": 12,
    "start_time": "2023-12-02T04:46:58.962Z"
   },
   {
    "duration": 8,
    "start_time": "2023-12-02T04:46:58.976Z"
   },
   {
    "duration": 9,
    "start_time": "2023-12-02T04:46:58.986Z"
   },
   {
    "duration": 7,
    "start_time": "2023-12-02T04:46:58.997Z"
   },
   {
    "duration": 119,
    "start_time": "2023-12-02T04:46:59.005Z"
   },
   {
    "duration": 124,
    "start_time": "2023-12-02T04:46:59.126Z"
   },
   {
    "duration": 58,
    "start_time": "2023-12-02T04:46:59.251Z"
   },
   {
    "duration": 230,
    "start_time": "2023-12-02T04:46:59.311Z"
   },
   {
    "duration": 4,
    "start_time": "2023-12-02T04:46:59.543Z"
   },
   {
    "duration": 28,
    "start_time": "2023-12-02T04:46:59.548Z"
   },
   {
    "duration": 0,
    "start_time": "2023-12-02T04:48:27.646Z"
   },
   {
    "duration": 0,
    "start_time": "2023-12-02T04:48:27.649Z"
   },
   {
    "duration": 0,
    "start_time": "2023-12-02T04:48:27.650Z"
   },
   {
    "duration": 0,
    "start_time": "2023-12-02T04:48:27.652Z"
   },
   {
    "duration": 0,
    "start_time": "2023-12-02T04:48:27.654Z"
   },
   {
    "duration": 0,
    "start_time": "2023-12-02T04:48:27.655Z"
   },
   {
    "duration": 0,
    "start_time": "2023-12-02T04:48:27.656Z"
   },
   {
    "duration": 0,
    "start_time": "2023-12-02T04:48:27.658Z"
   },
   {
    "duration": 0,
    "start_time": "2023-12-02T04:48:27.659Z"
   },
   {
    "duration": 0,
    "start_time": "2023-12-02T04:48:27.661Z"
   },
   {
    "duration": 0,
    "start_time": "2023-12-02T04:48:27.662Z"
   },
   {
    "duration": 0,
    "start_time": "2023-12-02T04:48:27.664Z"
   },
   {
    "duration": 0,
    "start_time": "2023-12-02T04:48:27.665Z"
   },
   {
    "duration": 1,
    "start_time": "2023-12-02T04:48:27.666Z"
   },
   {
    "duration": 0,
    "start_time": "2023-12-02T04:48:27.668Z"
   },
   {
    "duration": 0,
    "start_time": "2023-12-02T04:48:27.670Z"
   },
   {
    "duration": 0,
    "start_time": "2023-12-02T04:48:27.671Z"
   },
   {
    "duration": 0,
    "start_time": "2023-12-02T04:48:27.674Z"
   },
   {
    "duration": 0,
    "start_time": "2023-12-02T04:48:27.676Z"
   },
   {
    "duration": 0,
    "start_time": "2023-12-02T04:48:27.679Z"
   },
   {
    "duration": 0,
    "start_time": "2023-12-02T04:48:27.741Z"
   },
   {
    "duration": 0,
    "start_time": "2023-12-02T04:48:27.743Z"
   },
   {
    "duration": 0,
    "start_time": "2023-12-02T04:48:27.745Z"
   },
   {
    "duration": 0,
    "start_time": "2023-12-02T04:48:27.746Z"
   },
   {
    "duration": 0,
    "start_time": "2023-12-02T04:48:27.747Z"
   },
   {
    "duration": 0,
    "start_time": "2023-12-02T04:48:27.748Z"
   },
   {
    "duration": 0,
    "start_time": "2023-12-02T04:48:27.749Z"
   },
   {
    "duration": 0,
    "start_time": "2023-12-02T04:48:27.750Z"
   },
   {
    "duration": 0,
    "start_time": "2023-12-02T04:48:27.751Z"
   },
   {
    "duration": 0,
    "start_time": "2023-12-02T04:48:27.752Z"
   },
   {
    "duration": 0,
    "start_time": "2023-12-02T04:48:27.753Z"
   },
   {
    "duration": 0,
    "start_time": "2023-12-02T04:48:27.754Z"
   },
   {
    "duration": 0,
    "start_time": "2023-12-02T04:48:27.756Z"
   },
   {
    "duration": 0,
    "start_time": "2023-12-02T04:48:27.757Z"
   },
   {
    "duration": 0,
    "start_time": "2023-12-02T04:48:27.758Z"
   },
   {
    "duration": 0,
    "start_time": "2023-12-02T04:48:27.760Z"
   },
   {
    "duration": 0,
    "start_time": "2023-12-02T04:48:27.761Z"
   },
   {
    "duration": 0,
    "start_time": "2023-12-02T04:48:27.763Z"
   },
   {
    "duration": 0,
    "start_time": "2023-12-02T04:48:27.764Z"
   },
   {
    "duration": 0,
    "start_time": "2023-12-02T04:48:27.765Z"
   },
   {
    "duration": 0,
    "start_time": "2023-12-02T04:48:27.767Z"
   },
   {
    "duration": 0,
    "start_time": "2023-12-02T04:48:27.768Z"
   },
   {
    "duration": 1,
    "start_time": "2023-12-02T04:48:27.769Z"
   },
   {
    "duration": 0,
    "start_time": "2023-12-02T04:48:27.771Z"
   },
   {
    "duration": 0,
    "start_time": "2023-12-02T04:48:27.772Z"
   },
   {
    "duration": 0,
    "start_time": "2023-12-02T04:48:27.773Z"
   },
   {
    "duration": 0,
    "start_time": "2023-12-02T04:48:27.774Z"
   },
   {
    "duration": 0,
    "start_time": "2023-12-02T04:48:27.775Z"
   },
   {
    "duration": 0,
    "start_time": "2023-12-02T04:48:27.776Z"
   },
   {
    "duration": 0,
    "start_time": "2023-12-02T04:48:27.777Z"
   },
   {
    "duration": 0,
    "start_time": "2023-12-02T04:48:27.778Z"
   },
   {
    "duration": 0,
    "start_time": "2023-12-02T04:48:27.779Z"
   },
   {
    "duration": 0,
    "start_time": "2023-12-02T04:48:27.843Z"
   },
   {
    "duration": 0,
    "start_time": "2023-12-02T04:48:27.844Z"
   },
   {
    "duration": 0,
    "start_time": "2023-12-02T04:48:27.845Z"
   },
   {
    "duration": 0,
    "start_time": "2023-12-02T04:48:27.846Z"
   },
   {
    "duration": 0,
    "start_time": "2023-12-02T04:48:27.847Z"
   },
   {
    "duration": 0,
    "start_time": "2023-12-02T04:48:27.848Z"
   },
   {
    "duration": 0,
    "start_time": "2023-12-02T04:48:27.848Z"
   },
   {
    "duration": 4,
    "start_time": "2023-12-02T04:52:33.706Z"
   },
   {
    "duration": 1156,
    "start_time": "2023-12-02T04:52:33.711Z"
   },
   {
    "duration": 10,
    "start_time": "2023-12-02T04:52:34.869Z"
   },
   {
    "duration": 8,
    "start_time": "2023-12-02T04:52:34.881Z"
   },
   {
    "duration": 9,
    "start_time": "2023-12-02T04:52:34.891Z"
   },
   {
    "duration": 8,
    "start_time": "2023-12-02T04:52:34.901Z"
   },
   {
    "duration": 115,
    "start_time": "2023-12-02T04:52:34.910Z"
   },
   {
    "duration": 109,
    "start_time": "2023-12-02T04:52:35.027Z"
   },
   {
    "duration": 60,
    "start_time": "2023-12-02T04:52:35.137Z"
   },
   {
    "duration": 192,
    "start_time": "2023-12-02T04:52:35.198Z"
   },
   {
    "duration": 4,
    "start_time": "2023-12-02T04:52:35.393Z"
   },
   {
    "duration": 28,
    "start_time": "2023-12-02T04:52:35.398Z"
   },
   {
    "duration": 114,
    "start_time": "2023-12-02T04:52:35.428Z"
   },
   {
    "duration": 131,
    "start_time": "2023-12-02T04:52:35.544Z"
   },
   {
    "duration": 1636,
    "start_time": "2023-12-02T04:52:35.677Z"
   },
   {
    "duration": 12,
    "start_time": "2023-12-02T04:52:37.315Z"
   },
   {
    "duration": 19,
    "start_time": "2023-12-02T04:52:37.329Z"
   },
   {
    "duration": 23,
    "start_time": "2023-12-02T04:52:37.350Z"
   },
   {
    "duration": 14,
    "start_time": "2023-12-02T04:52:37.374Z"
   },
   {
    "duration": 87,
    "start_time": "2023-12-02T04:52:37.389Z"
   },
   {
    "duration": 5,
    "start_time": "2023-12-02T04:52:37.478Z"
   },
   {
    "duration": 12,
    "start_time": "2023-12-02T04:52:37.484Z"
   },
   {
    "duration": 5,
    "start_time": "2023-12-02T04:52:37.497Z"
   },
   {
    "duration": 102,
    "start_time": "2023-12-02T04:52:37.504Z"
   },
   {
    "duration": 7,
    "start_time": "2023-12-02T04:52:37.608Z"
   },
   {
    "duration": 34,
    "start_time": "2023-12-02T04:52:37.617Z"
   },
   {
    "duration": 48,
    "start_time": "2023-12-02T04:52:37.653Z"
   },
   {
    "duration": 59,
    "start_time": "2023-12-02T04:52:37.703Z"
   },
   {
    "duration": 8,
    "start_time": "2023-12-02T04:52:37.766Z"
   },
   {
    "duration": 446,
    "start_time": "2023-12-02T04:52:37.776Z"
   },
   {
    "duration": 865,
    "start_time": "2023-12-02T04:52:38.224Z"
   },
   {
    "duration": 23,
    "start_time": "2023-12-02T04:52:39.091Z"
   },
   {
    "duration": 3,
    "start_time": "2023-12-02T04:52:39.115Z"
   },
   {
    "duration": 27,
    "start_time": "2023-12-02T04:52:39.119Z"
   },
   {
    "duration": 898,
    "start_time": "2023-12-02T04:52:39.148Z"
   },
   {
    "duration": 27,
    "start_time": "2023-12-02T04:52:40.048Z"
   },
   {
    "duration": 9,
    "start_time": "2023-12-02T04:52:40.077Z"
   },
   {
    "duration": 21,
    "start_time": "2023-12-02T04:52:40.088Z"
   },
   {
    "duration": 72,
    "start_time": "2023-12-02T04:52:40.110Z"
   },
   {
    "duration": 137,
    "start_time": "2023-12-02T04:52:40.184Z"
   },
   {
    "duration": 66,
    "start_time": "2023-12-02T04:52:40.323Z"
   },
   {
    "duration": 508,
    "start_time": "2023-12-02T04:52:40.391Z"
   },
   {
    "duration": 75,
    "start_time": "2023-12-02T04:52:40.901Z"
   },
   {
    "duration": 4,
    "start_time": "2023-12-02T04:52:40.978Z"
   },
   {
    "duration": 14,
    "start_time": "2023-12-02T04:52:40.983Z"
   },
   {
    "duration": 11,
    "start_time": "2023-12-02T04:52:40.999Z"
   },
   {
    "duration": 11,
    "start_time": "2023-12-02T04:54:01.642Z"
   },
   {
    "duration": 16,
    "start_time": "2023-12-02T04:54:02.203Z"
   },
   {
    "duration": 1211,
    "start_time": "2023-12-02T04:54:02.221Z"
   },
   {
    "duration": 0,
    "start_time": "2023-12-02T04:54:03.434Z"
   },
   {
    "duration": 0,
    "start_time": "2023-12-02T04:54:03.435Z"
   },
   {
    "duration": 0,
    "start_time": "2023-12-02T04:54:03.436Z"
   },
   {
    "duration": 0,
    "start_time": "2023-12-02T04:54:03.437Z"
   },
   {
    "duration": 0,
    "start_time": "2023-12-02T04:54:03.439Z"
   },
   {
    "duration": 0,
    "start_time": "2023-12-02T04:54:03.440Z"
   },
   {
    "duration": 0,
    "start_time": "2023-12-02T04:54:03.441Z"
   },
   {
    "duration": 0,
    "start_time": "2023-12-02T04:54:03.442Z"
   },
   {
    "duration": 0,
    "start_time": "2023-12-02T04:54:03.443Z"
   },
   {
    "duration": 0,
    "start_time": "2023-12-02T04:54:03.444Z"
   },
   {
    "duration": 281,
    "start_time": "2023-12-02T04:55:46.715Z"
   },
   {
    "duration": 91,
    "start_time": "2023-12-02T04:56:24.263Z"
   },
   {
    "duration": 80119,
    "start_time": "2023-12-02T04:56:45.412Z"
   },
   {
    "duration": 10,
    "start_time": "2023-12-02T04:58:05.533Z"
   },
   {
    "duration": 545,
    "start_time": "2023-12-02T04:58:05.545Z"
   },
   {
    "duration": 0,
    "start_time": "2023-12-02T05:01:29.753Z"
   },
   {
    "duration": 0,
    "start_time": "2023-12-02T05:01:29.756Z"
   },
   {
    "duration": 213,
    "start_time": "2023-12-02T05:01:31.671Z"
   },
   {
    "duration": 0,
    "start_time": "2023-12-02T05:01:31.885Z"
   },
   {
    "duration": 4,
    "start_time": "2023-12-02T05:02:21.458Z"
   },
   {
    "duration": 39147,
    "start_time": "2023-12-02T05:03:39.924Z"
   },
   {
    "duration": 10,
    "start_time": "2023-12-02T05:04:19.073Z"
   },
   {
    "duration": 546,
    "start_time": "2023-12-02T05:04:19.085Z"
   },
   {
    "duration": 397,
    "start_time": "2023-12-02T05:07:14.703Z"
   },
   {
    "duration": 398,
    "start_time": "2023-12-02T05:08:08.763Z"
   },
   {
    "duration": 395,
    "start_time": "2023-12-02T05:08:51.979Z"
   },
   {
    "duration": 416,
    "start_time": "2023-12-02T05:09:13.526Z"
   },
   {
    "duration": 405,
    "start_time": "2023-12-02T05:09:24.702Z"
   },
   {
    "duration": 207,
    "start_time": "2023-12-02T05:10:08.691Z"
   },
   {
    "duration": 185,
    "start_time": "2023-12-02T05:10:34.960Z"
   },
   {
    "duration": 163,
    "start_time": "2023-12-02T05:10:44.613Z"
   },
   {
    "duration": 390,
    "start_time": "2023-12-02T05:12:45.192Z"
   },
   {
    "duration": 386,
    "start_time": "2023-12-02T05:19:56.129Z"
   },
   {
    "duration": 9,
    "start_time": "2023-12-02T05:22:44.526Z"
   },
   {
    "duration": 9,
    "start_time": "2023-12-02T05:22:52.647Z"
   },
   {
    "duration": 8,
    "start_time": "2023-12-02T05:23:10.877Z"
   },
   {
    "duration": 5,
    "start_time": "2023-12-02T05:26:03.152Z"
   },
   {
    "duration": 10,
    "start_time": "2023-12-02T05:29:34.973Z"
   },
   {
    "duration": 9,
    "start_time": "2023-12-02T05:29:43.059Z"
   },
   {
    "duration": 12,
    "start_time": "2023-12-02T05:35:21.270Z"
   },
   {
    "duration": 16,
    "start_time": "2023-12-02T05:38:27.968Z"
   },
   {
    "duration": 4,
    "start_time": "2023-12-02T05:39:12.295Z"
   },
   {
    "duration": 1494,
    "start_time": "2023-12-02T05:39:33.655Z"
   },
   {
    "duration": 1588,
    "start_time": "2023-12-02T05:59:07.937Z"
   },
   {
    "duration": 10,
    "start_time": "2023-12-02T05:59:34.670Z"
   },
   {
    "duration": 77,
    "start_time": "2023-12-02T06:03:22.579Z"
   },
   {
    "duration": 8,
    "start_time": "2023-12-02T06:03:40.890Z"
   },
   {
    "duration": 9,
    "start_time": "2023-12-02T06:03:52.626Z"
   },
   {
    "duration": 17,
    "start_time": "2023-12-02T06:06:13.444Z"
   },
   {
    "duration": 10,
    "start_time": "2023-12-02T06:06:28.864Z"
   },
   {
    "duration": 13,
    "start_time": "2023-12-02T06:07:45.054Z"
   },
   {
    "duration": 10,
    "start_time": "2023-12-02T06:07:58.858Z"
   },
   {
    "duration": 34,
    "start_time": "2023-12-02T06:09:52.801Z"
   },
   {
    "duration": 13,
    "start_time": "2023-12-02T06:10:06.742Z"
   },
   {
    "duration": 12,
    "start_time": "2023-12-02T06:10:18.567Z"
   },
   {
    "duration": 21,
    "start_time": "2023-12-02T06:13:17.879Z"
   },
   {
    "duration": 303,
    "start_time": "2023-12-02T06:14:12.015Z"
   },
   {
    "duration": 9,
    "start_time": "2023-12-02T06:15:38.383Z"
   },
   {
    "duration": 11,
    "start_time": "2023-12-02T06:22:47.874Z"
   },
   {
    "duration": 12,
    "start_time": "2023-12-02T06:23:13.923Z"
   },
   {
    "duration": 12,
    "start_time": "2023-12-02T06:23:37.835Z"
   },
   {
    "duration": 8,
    "start_time": "2023-12-02T06:23:44.421Z"
   },
   {
    "duration": 9,
    "start_time": "2023-12-02T06:24:27.966Z"
   },
   {
    "duration": 16,
    "start_time": "2023-12-02T06:26:47.023Z"
   },
   {
    "duration": 12,
    "start_time": "2023-12-02T06:26:47.472Z"
   },
   {
    "duration": 17,
    "start_time": "2023-12-02T06:27:45.498Z"
   },
   {
    "duration": 10,
    "start_time": "2023-12-02T06:27:45.955Z"
   },
   {
    "duration": 40,
    "start_time": "2023-12-02T06:29:01.247Z"
   },
   {
    "duration": 12,
    "start_time": "2023-12-02T06:29:01.419Z"
   },
   {
    "duration": 421,
    "start_time": "2023-12-02T06:29:02.860Z"
   },
   {
    "duration": 11,
    "start_time": "2023-12-02T06:33:47.514Z"
   },
   {
    "duration": 13,
    "start_time": "2023-12-02T06:33:47.689Z"
   },
   {
    "duration": 11,
    "start_time": "2023-12-02T06:33:47.975Z"
   },
   {
    "duration": 11,
    "start_time": "2023-12-02T06:33:50.863Z"
   },
   {
    "duration": 12,
    "start_time": "2023-12-02T06:39:09.220Z"
   },
   {
    "duration": 21,
    "start_time": "2023-12-02T06:39:44.702Z"
   },
   {
    "duration": 27,
    "start_time": "2023-12-02T06:40:11.343Z"
   },
   {
    "duration": 76,
    "start_time": "2023-12-02T06:42:26.448Z"
   },
   {
    "duration": 27,
    "start_time": "2023-12-02T06:42:32.511Z"
   },
   {
    "duration": 77,
    "start_time": "2023-12-02T06:47:34.279Z"
   },
   {
    "duration": 486,
    "start_time": "2023-12-02T06:47:40.107Z"
   },
   {
    "duration": 42,
    "start_time": "2023-12-02T06:47:40.696Z"
   },
   {
    "duration": 423,
    "start_time": "2023-12-02T06:47:40.827Z"
   },
   {
    "duration": 17,
    "start_time": "2023-12-02T06:47:41.253Z"
   },
   {
    "duration": 39,
    "start_time": "2023-12-02T06:47:41.272Z"
   },
   {
    "duration": 9,
    "start_time": "2023-12-02T06:47:41.533Z"
   },
   {
    "duration": 526,
    "start_time": "2023-12-02T06:47:41.659Z"
   },
   {
    "duration": 12,
    "start_time": "2023-12-02T06:47:42.283Z"
   },
   {
    "duration": 300,
    "start_time": "2023-12-02T06:47:42.410Z"
   },
   {
    "duration": 11,
    "start_time": "2023-12-02T06:47:42.843Z"
   },
   {
    "duration": 18,
    "start_time": "2023-12-02T06:49:17.466Z"
   },
   {
    "duration": 24,
    "start_time": "2023-12-02T06:51:19.400Z"
   },
   {
    "duration": 24,
    "start_time": "2023-12-02T06:51:28.025Z"
   },
   {
    "duration": 13,
    "start_time": "2023-12-02T06:52:34.121Z"
   },
   {
    "duration": 13,
    "start_time": "2023-12-02T06:52:46.508Z"
   },
   {
    "duration": 12,
    "start_time": "2023-12-02T06:53:39.281Z"
   },
   {
    "duration": 1206,
    "start_time": "2023-12-02T06:54:15.562Z"
   },
   {
    "duration": 13,
    "start_time": "2023-12-02T06:54:47.148Z"
   },
   {
    "duration": 10,
    "start_time": "2023-12-02T06:55:48.009Z"
   },
   {
    "duration": 13,
    "start_time": "2023-12-02T06:56:12.706Z"
   },
   {
    "duration": 11,
    "start_time": "2023-12-02T06:56:19.572Z"
   },
   {
    "duration": 12,
    "start_time": "2023-12-02T06:56:51.116Z"
   },
   {
    "duration": 10,
    "start_time": "2023-12-02T06:57:21.769Z"
   },
   {
    "duration": 10,
    "start_time": "2023-12-02T06:57:32.360Z"
   },
   {
    "duration": 10,
    "start_time": "2023-12-02T06:57:34.842Z"
   },
   {
    "duration": 26,
    "start_time": "2023-12-02T06:58:28.004Z"
   },
   {
    "duration": 11,
    "start_time": "2023-12-02T06:59:45.824Z"
   },
   {
    "duration": 4,
    "start_time": "2023-12-02T07:00:10.984Z"
   },
   {
    "duration": 10,
    "start_time": "2023-12-02T07:00:25.556Z"
   },
   {
    "duration": 78,
    "start_time": "2023-12-02T07:01:18.223Z"
   },
   {
    "duration": 14,
    "start_time": "2023-12-02T07:01:52.465Z"
   },
   {
    "duration": 11,
    "start_time": "2023-12-02T07:02:10.938Z"
   },
   {
    "duration": 28,
    "start_time": "2023-12-02T07:04:47.419Z"
   },
   {
    "duration": 28,
    "start_time": "2023-12-02T07:04:57.527Z"
   },
   {
    "duration": 24,
    "start_time": "2023-12-02T07:05:19.339Z"
   },
   {
    "duration": 7,
    "start_time": "2023-12-02T07:05:19.478Z"
   },
   {
    "duration": 6,
    "start_time": "2023-12-02T07:05:20.610Z"
   },
   {
    "duration": 11,
    "start_time": "2023-12-02T07:06:32.722Z"
   },
   {
    "duration": 10,
    "start_time": "2023-12-02T07:06:43.666Z"
   },
   {
    "duration": 24,
    "start_time": "2023-12-02T07:07:24.663Z"
   },
   {
    "duration": 6,
    "start_time": "2023-12-02T07:07:24.822Z"
   },
   {
    "duration": 7,
    "start_time": "2023-12-02T07:07:24.965Z"
   },
   {
    "duration": 10,
    "start_time": "2023-12-02T07:07:25.344Z"
   },
   {
    "duration": 8,
    "start_time": "2023-12-02T07:07:26.327Z"
   },
   {
    "duration": 12,
    "start_time": "2023-12-02T07:07:27.403Z"
   },
   {
    "duration": 10,
    "start_time": "2023-12-02T07:07:28.325Z"
   },
   {
    "duration": 10,
    "start_time": "2023-12-02T07:08:31.022Z"
   },
   {
    "duration": 10,
    "start_time": "2023-12-02T07:08:48.050Z"
   },
   {
    "duration": 9,
    "start_time": "2023-12-02T07:08:49.092Z"
   },
   {
    "duration": 1198,
    "start_time": "2023-12-02T07:09:48.176Z"
   },
   {
    "duration": 1177,
    "start_time": "2023-12-02T07:09:49.376Z"
   },
   {
    "duration": 11,
    "start_time": "2023-12-02T07:09:50.555Z"
   },
   {
    "duration": 62,
    "start_time": "2023-12-02T07:09:50.568Z"
   },
   {
    "duration": 10,
    "start_time": "2023-12-02T07:09:50.631Z"
   },
   {
    "duration": 21,
    "start_time": "2023-12-02T07:09:50.643Z"
   },
   {
    "duration": 93,
    "start_time": "2023-12-02T07:09:50.665Z"
   },
   {
    "duration": 117,
    "start_time": "2023-12-02T07:09:50.759Z"
   },
   {
    "duration": 87,
    "start_time": "2023-12-02T07:09:50.878Z"
   },
   {
    "duration": 228,
    "start_time": "2023-12-02T07:09:50.971Z"
   },
   {
    "duration": 5,
    "start_time": "2023-12-02T07:09:51.201Z"
   },
   {
    "duration": 42,
    "start_time": "2023-12-02T07:09:51.207Z"
   },
   {
    "duration": 150,
    "start_time": "2023-12-02T07:09:51.250Z"
   },
   {
    "duration": 113,
    "start_time": "2023-12-02T07:09:51.402Z"
   },
   {
    "duration": 1128,
    "start_time": "2023-12-02T07:09:51.516Z"
   },
   {
    "duration": 12,
    "start_time": "2023-12-02T07:09:52.646Z"
   },
   {
    "duration": 10,
    "start_time": "2023-12-02T07:09:52.660Z"
   },
   {
    "duration": 22,
    "start_time": "2023-12-02T07:09:52.671Z"
   },
   {
    "duration": 13,
    "start_time": "2023-12-02T07:09:52.695Z"
   },
   {
    "duration": 97,
    "start_time": "2023-12-02T07:09:52.710Z"
   },
   {
    "duration": 5,
    "start_time": "2023-12-02T07:09:52.809Z"
   },
   {
    "duration": 10,
    "start_time": "2023-12-02T07:09:52.815Z"
   },
   {
    "duration": 18,
    "start_time": "2023-12-02T07:09:52.827Z"
   },
   {
    "duration": 116,
    "start_time": "2023-12-02T07:09:52.846Z"
   },
   {
    "duration": 10,
    "start_time": "2023-12-02T07:09:52.963Z"
   },
   {
    "duration": 37,
    "start_time": "2023-12-02T07:09:52.975Z"
   },
   {
    "duration": 113,
    "start_time": "2023-12-02T07:09:53.013Z"
   },
   {
    "duration": 46,
    "start_time": "2023-12-02T07:09:53.131Z"
   },
   {
    "duration": 10,
    "start_time": "2023-12-02T07:09:53.178Z"
   },
   {
    "duration": 380,
    "start_time": "2023-12-02T07:09:53.190Z"
   },
   {
    "duration": 843,
    "start_time": "2023-12-02T07:09:53.572Z"
   },
   {
    "duration": 25,
    "start_time": "2023-12-02T07:09:54.417Z"
   },
   {
    "duration": 3,
    "start_time": "2023-12-02T07:09:54.443Z"
   },
   {
    "duration": 20,
    "start_time": "2023-12-02T07:09:54.447Z"
   },
   {
    "duration": 807,
    "start_time": "2023-12-02T07:09:54.468Z"
   },
   {
    "duration": 28,
    "start_time": "2023-12-02T07:09:55.277Z"
   },
   {
    "duration": 11,
    "start_time": "2023-12-02T07:09:55.306Z"
   },
   {
    "duration": 0,
    "start_time": "2023-12-02T07:09:59.397Z"
   },
   {
    "duration": 0,
    "start_time": "2023-12-02T07:09:59.399Z"
   },
   {
    "duration": 0,
    "start_time": "2023-12-02T07:09:59.400Z"
   },
   {
    "duration": 0,
    "start_time": "2023-12-02T07:09:59.401Z"
   },
   {
    "duration": 0,
    "start_time": "2023-12-02T07:09:59.403Z"
   },
   {
    "duration": 0,
    "start_time": "2023-12-02T07:09:59.405Z"
   },
   {
    "duration": 0,
    "start_time": "2023-12-02T07:09:59.406Z"
   },
   {
    "duration": 0,
    "start_time": "2023-12-02T07:09:59.406Z"
   },
   {
    "duration": 0,
    "start_time": "2023-12-02T07:09:59.408Z"
   },
   {
    "duration": 0,
    "start_time": "2023-12-02T07:09:59.409Z"
   },
   {
    "duration": 0,
    "start_time": "2023-12-02T07:09:59.410Z"
   },
   {
    "duration": 0,
    "start_time": "2023-12-02T07:09:59.411Z"
   },
   {
    "duration": 0,
    "start_time": "2023-12-02T07:09:59.412Z"
   },
   {
    "duration": 0,
    "start_time": "2023-12-02T07:09:59.413Z"
   },
   {
    "duration": 0,
    "start_time": "2023-12-02T07:09:59.414Z"
   },
   {
    "duration": 0,
    "start_time": "2023-12-02T07:09:59.415Z"
   },
   {
    "duration": 0,
    "start_time": "2023-12-02T07:09:59.416Z"
   },
   {
    "duration": 0,
    "start_time": "2023-12-02T07:09:59.417Z"
   },
   {
    "duration": 0,
    "start_time": "2023-12-02T07:09:59.418Z"
   },
   {
    "duration": 0,
    "start_time": "2023-12-02T07:09:59.419Z"
   },
   {
    "duration": 0,
    "start_time": "2023-12-02T07:09:59.421Z"
   },
   {
    "duration": 0,
    "start_time": "2023-12-02T07:09:59.421Z"
   },
   {
    "duration": 0,
    "start_time": "2023-12-02T07:09:59.422Z"
   },
   {
    "duration": 0,
    "start_time": "2023-12-02T07:09:59.423Z"
   },
   {
    "duration": 0,
    "start_time": "2023-12-02T07:09:59.424Z"
   },
   {
    "duration": 0,
    "start_time": "2023-12-02T07:09:59.425Z"
   },
   {
    "duration": 0,
    "start_time": "2023-12-02T07:09:59.426Z"
   },
   {
    "duration": 0,
    "start_time": "2023-12-02T07:09:59.427Z"
   },
   {
    "duration": 0,
    "start_time": "2023-12-02T07:09:59.427Z"
   },
   {
    "duration": 0,
    "start_time": "2023-12-02T07:09:59.428Z"
   },
   {
    "duration": 0,
    "start_time": "2023-12-02T07:09:59.429Z"
   },
   {
    "duration": 1,
    "start_time": "2023-12-02T07:09:59.430Z"
   },
   {
    "duration": 0,
    "start_time": "2023-12-02T07:09:59.431Z"
   },
   {
    "duration": 0,
    "start_time": "2023-12-02T07:09:59.442Z"
   },
   {
    "duration": 0,
    "start_time": "2023-12-02T07:09:59.443Z"
   },
   {
    "duration": 0,
    "start_time": "2023-12-02T07:09:59.444Z"
   },
   {
    "duration": 0,
    "start_time": "2023-12-02T07:09:59.445Z"
   },
   {
    "duration": 0,
    "start_time": "2023-12-02T07:09:59.446Z"
   },
   {
    "duration": 0,
    "start_time": "2023-12-02T07:09:59.447Z"
   },
   {
    "duration": 0,
    "start_time": "2023-12-02T07:09:59.448Z"
   },
   {
    "duration": 0,
    "start_time": "2023-12-02T07:09:59.449Z"
   },
   {
    "duration": 0,
    "start_time": "2023-12-02T07:09:59.450Z"
   },
   {
    "duration": 0,
    "start_time": "2023-12-02T07:09:59.451Z"
   },
   {
    "duration": 0,
    "start_time": "2023-12-02T07:09:59.452Z"
   },
   {
    "duration": 0,
    "start_time": "2023-12-02T07:09:59.453Z"
   },
   {
    "duration": 0,
    "start_time": "2023-12-02T07:09:59.454Z"
   },
   {
    "duration": 0,
    "start_time": "2023-12-02T07:09:59.455Z"
   },
   {
    "duration": 0,
    "start_time": "2023-12-02T07:09:59.456Z"
   },
   {
    "duration": 0,
    "start_time": "2023-12-02T07:09:59.457Z"
   },
   {
    "duration": 0,
    "start_time": "2023-12-02T07:09:59.458Z"
   },
   {
    "duration": 0,
    "start_time": "2023-12-02T07:09:59.459Z"
   },
   {
    "duration": 0,
    "start_time": "2023-12-02T07:09:59.460Z"
   },
   {
    "duration": 0,
    "start_time": "2023-12-02T07:09:59.461Z"
   },
   {
    "duration": 0,
    "start_time": "2023-12-02T07:09:59.462Z"
   },
   {
    "duration": 0,
    "start_time": "2023-12-02T07:09:59.462Z"
   },
   {
    "duration": 0,
    "start_time": "2023-12-02T07:09:59.463Z"
   },
   {
    "duration": 0,
    "start_time": "2023-12-02T07:09:59.464Z"
   },
   {
    "duration": 3,
    "start_time": "2023-12-02T07:18:25.526Z"
   },
   {
    "duration": 1093,
    "start_time": "2023-12-02T07:18:25.531Z"
   },
   {
    "duration": 10,
    "start_time": "2023-12-02T07:18:26.626Z"
   },
   {
    "duration": 10,
    "start_time": "2023-12-02T07:18:26.638Z"
   },
   {
    "duration": 10,
    "start_time": "2023-12-02T07:18:26.650Z"
   },
   {
    "duration": 9,
    "start_time": "2023-12-02T07:18:26.662Z"
   },
   {
    "duration": 123,
    "start_time": "2023-12-02T07:18:26.673Z"
   },
   {
    "duration": 123,
    "start_time": "2023-12-02T07:18:26.798Z"
   },
   {
    "duration": 68,
    "start_time": "2023-12-02T07:18:26.922Z"
   },
   {
    "duration": 207,
    "start_time": "2023-12-02T07:18:26.993Z"
   },
   {
    "duration": 4,
    "start_time": "2023-12-02T07:18:27.202Z"
   },
   {
    "duration": 40,
    "start_time": "2023-12-02T07:18:27.208Z"
   },
   {
    "duration": 172,
    "start_time": "2023-12-02T07:18:27.250Z"
   },
   {
    "duration": 118,
    "start_time": "2023-12-02T07:18:27.424Z"
   },
   {
    "duration": 1251,
    "start_time": "2023-12-02T07:18:27.544Z"
   },
   {
    "duration": 12,
    "start_time": "2023-12-02T07:18:28.797Z"
   },
   {
    "duration": 8,
    "start_time": "2023-12-02T07:18:28.811Z"
   },
   {
    "duration": 39,
    "start_time": "2023-12-02T07:18:28.821Z"
   },
   {
    "duration": 14,
    "start_time": "2023-12-02T07:18:28.862Z"
   },
   {
    "duration": 79,
    "start_time": "2023-12-02T07:18:28.877Z"
   },
   {
    "duration": 5,
    "start_time": "2023-12-02T07:18:28.957Z"
   },
   {
    "duration": 13,
    "start_time": "2023-12-02T07:18:28.963Z"
   },
   {
    "duration": 3,
    "start_time": "2023-12-02T07:18:28.977Z"
   },
   {
    "duration": 113,
    "start_time": "2023-12-02T07:18:28.982Z"
   },
   {
    "duration": 9,
    "start_time": "2023-12-02T07:18:29.097Z"
   },
   {
    "duration": 35,
    "start_time": "2023-12-02T07:18:29.107Z"
   },
   {
    "duration": 50,
    "start_time": "2023-12-02T07:18:29.143Z"
   },
   {
    "duration": 57,
    "start_time": "2023-12-02T07:18:29.197Z"
   },
   {
    "duration": 8,
    "start_time": "2023-12-02T07:18:29.256Z"
   },
   {
    "duration": 451,
    "start_time": "2023-12-02T07:18:29.266Z"
   },
   {
    "duration": 931,
    "start_time": "2023-12-02T07:18:29.719Z"
   },
   {
    "duration": 19,
    "start_time": "2023-12-02T07:18:30.651Z"
   },
   {
    "duration": 17,
    "start_time": "2023-12-02T07:18:30.672Z"
   },
   {
    "duration": 48,
    "start_time": "2023-12-02T07:18:30.690Z"
   },
   {
    "duration": 992,
    "start_time": "2023-12-02T07:18:30.740Z"
   },
   {
    "duration": 31,
    "start_time": "2023-12-02T07:18:31.742Z"
   },
   {
    "duration": 7,
    "start_time": "2023-12-02T07:18:31.775Z"
   },
   {
    "duration": 16,
    "start_time": "2023-12-02T07:18:31.784Z"
   },
   {
    "duration": 74,
    "start_time": "2023-12-02T07:18:31.802Z"
   },
   {
    "duration": 145,
    "start_time": "2023-12-02T07:18:31.878Z"
   },
   {
    "duration": 75,
    "start_time": "2023-12-02T07:18:32.025Z"
   },
   {
    "duration": 550,
    "start_time": "2023-12-02T07:18:32.102Z"
   },
   {
    "duration": 38,
    "start_time": "2023-12-02T07:18:32.654Z"
   },
   {
    "duration": 449,
    "start_time": "2023-12-02T07:18:32.694Z"
   },
   {
    "duration": 16,
    "start_time": "2023-12-02T07:18:33.145Z"
   },
   {
    "duration": 26,
    "start_time": "2023-12-02T07:18:33.162Z"
   },
   {
    "duration": 25,
    "start_time": "2023-12-02T07:18:33.189Z"
   },
   {
    "duration": 553,
    "start_time": "2023-12-02T07:18:33.216Z"
   },
   {
    "duration": 13,
    "start_time": "2023-12-02T07:18:33.771Z"
   },
   {
    "duration": 313,
    "start_time": "2023-12-02T07:18:33.786Z"
   },
   {
    "duration": 23,
    "start_time": "2023-12-02T07:18:34.102Z"
   },
   {
    "duration": 20,
    "start_time": "2023-12-02T07:18:34.127Z"
   },
   {
    "duration": 42,
    "start_time": "2023-12-02T07:18:34.149Z"
   },
   {
    "duration": 11,
    "start_time": "2023-12-02T07:18:34.193Z"
   },
   {
    "duration": 9,
    "start_time": "2023-12-02T07:18:34.205Z"
   },
   {
    "duration": 1202,
    "start_time": "2023-12-02T07:18:34.216Z"
   },
   {
    "duration": 0,
    "start_time": "2023-12-02T07:18:35.420Z"
   },
   {
    "duration": 1316,
    "start_time": "2023-12-02T07:19:01.027Z"
   },
   {
    "duration": 22,
    "start_time": "2023-12-02T07:19:25.145Z"
   },
   {
    "duration": 7,
    "start_time": "2023-12-02T07:19:25.284Z"
   },
   {
    "duration": 7,
    "start_time": "2023-12-02T07:19:25.434Z"
   },
   {
    "duration": 9,
    "start_time": "2023-12-02T07:19:25.557Z"
   },
   {
    "duration": 9,
    "start_time": "2023-12-02T07:19:25.684Z"
   },
   {
    "duration": 1199,
    "start_time": "2023-12-02T07:19:25.813Z"
   },
   {
    "duration": 0,
    "start_time": "2023-12-02T07:19:27.014Z"
   },
   {
    "duration": 11,
    "start_time": "2023-12-02T07:19:54.443Z"
   },
   {
    "duration": 12,
    "start_time": "2023-12-02T07:20:12.377Z"
   },
   {
    "duration": 11,
    "start_time": "2023-12-02T07:20:42.754Z"
   },
   {
    "duration": 22,
    "start_time": "2023-12-02T07:21:20.551Z"
   },
   {
    "duration": 6,
    "start_time": "2023-12-02T07:21:20.707Z"
   },
   {
    "duration": 6,
    "start_time": "2023-12-02T07:21:20.866Z"
   },
   {
    "duration": 6,
    "start_time": "2023-12-02T07:21:21.186Z"
   },
   {
    "duration": 5,
    "start_time": "2023-12-02T07:21:21.362Z"
   },
   {
    "duration": 11,
    "start_time": "2023-12-02T07:21:21.958Z"
   },
   {
    "duration": 11,
    "start_time": "2023-12-02T07:21:22.669Z"
   },
   {
    "duration": 4,
    "start_time": "2023-12-02T07:22:34.529Z"
   },
   {
    "duration": 5,
    "start_time": "2023-12-02T07:22:35.443Z"
   },
   {
    "duration": 5,
    "start_time": "2023-12-02T07:22:35.941Z"
   },
   {
    "duration": 10,
    "start_time": "2023-12-02T07:22:36.797Z"
   },
   {
    "duration": 11,
    "start_time": "2023-12-02T07:22:37.351Z"
   },
   {
    "duration": 4,
    "start_time": "2023-12-02T07:23:11.886Z"
   },
   {
    "duration": 9,
    "start_time": "2023-12-02T07:23:12.064Z"
   },
   {
    "duration": 8,
    "start_time": "2023-12-02T07:23:12.576Z"
   },
   {
    "duration": 10,
    "start_time": "2023-12-02T07:23:30.112Z"
   },
   {
    "duration": 10,
    "start_time": "2023-12-02T07:23:53.951Z"
   },
   {
    "duration": 10,
    "start_time": "2023-12-02T07:23:55.979Z"
   },
   {
    "duration": 10,
    "start_time": "2023-12-02T07:25:36.119Z"
   },
   {
    "duration": 10,
    "start_time": "2023-12-02T07:25:46.982Z"
   },
   {
    "duration": 9,
    "start_time": "2023-12-02T07:25:49.081Z"
   },
   {
    "duration": 9,
    "start_time": "2023-12-02T07:25:58.877Z"
   },
   {
    "duration": 10,
    "start_time": "2023-12-02T07:26:16.818Z"
   },
   {
    "duration": 11,
    "start_time": "2023-12-02T07:26:36.869Z"
   },
   {
    "duration": 10,
    "start_time": "2023-12-02T07:39:56.217Z"
   },
   {
    "duration": 27,
    "start_time": "2023-12-02T08:55:33.021Z"
   },
   {
    "duration": 37,
    "start_time": "2023-12-02T08:58:38.508Z"
   },
   {
    "duration": 18,
    "start_time": "2023-12-02T09:01:26.511Z"
   },
   {
    "duration": 7,
    "start_time": "2023-12-02T09:01:59.392Z"
   },
   {
    "duration": 12,
    "start_time": "2023-12-02T09:02:03.487Z"
   },
   {
    "duration": 38,
    "start_time": "2023-12-02T09:02:11.847Z"
   },
   {
    "duration": 1300,
    "start_time": "2023-12-02T09:03:26.405Z"
   },
   {
    "duration": 13,
    "start_time": "2023-12-02T09:05:12.761Z"
   },
   {
    "duration": 20,
    "start_time": "2023-12-02T09:05:49.259Z"
   },
   {
    "duration": 18,
    "start_time": "2023-12-02T09:05:53.154Z"
   },
   {
    "duration": 6,
    "start_time": "2023-12-02T09:06:01.161Z"
   },
   {
    "duration": 28,
    "start_time": "2023-12-02T09:06:06.217Z"
   },
   {
    "duration": 11,
    "start_time": "2023-12-02T09:07:12.429Z"
   },
   {
    "duration": 11,
    "start_time": "2023-12-02T09:07:25.211Z"
   },
   {
    "duration": 20,
    "start_time": "2023-12-02T09:07:41.080Z"
   },
   {
    "duration": 17,
    "start_time": "2023-12-02T09:08:10.352Z"
   },
   {
    "duration": 19,
    "start_time": "2023-12-02T09:08:50.181Z"
   },
   {
    "duration": 19,
    "start_time": "2023-12-02T09:09:01.564Z"
   },
   {
    "duration": 31,
    "start_time": "2023-12-02T09:09:04.858Z"
   },
   {
    "duration": 25,
    "start_time": "2023-12-02T09:09:39.737Z"
   },
   {
    "duration": 1447,
    "start_time": "2023-12-02T09:09:41.148Z"
   },
   {
    "duration": 1291,
    "start_time": "2023-12-02T09:09:45.772Z"
   },
   {
    "duration": 24,
    "start_time": "2023-12-02T09:12:51.000Z"
   },
   {
    "duration": 1569,
    "start_time": "2023-12-02T09:14:23.111Z"
   },
   {
    "duration": 13,
    "start_time": "2023-12-02T09:14:37.886Z"
   },
   {
    "duration": 24,
    "start_time": "2023-12-02T09:14:39.200Z"
   },
   {
    "duration": 3,
    "start_time": "2023-12-02T09:15:30.716Z"
   },
   {
    "duration": 10,
    "start_time": "2023-12-02T09:16:33.142Z"
   },
   {
    "duration": 9,
    "start_time": "2023-12-02T09:16:36.854Z"
   },
   {
    "duration": 14,
    "start_time": "2023-12-02T09:18:40.277Z"
   },
   {
    "duration": 20,
    "start_time": "2023-12-02T09:20:12.284Z"
   },
   {
    "duration": 5,
    "start_time": "2023-12-02T09:20:12.902Z"
   },
   {
    "duration": 1182,
    "start_time": "2023-12-02T09:20:55.743Z"
   },
   {
    "duration": 34,
    "start_time": "2023-12-02T09:21:45.192Z"
   },
   {
    "duration": 23,
    "start_time": "2023-12-02T09:22:01.544Z"
   },
   {
    "duration": 6,
    "start_time": "2023-12-02T09:22:01.708Z"
   },
   {
    "duration": 50,
    "start_time": "2023-12-02T09:22:01.832Z"
   },
   {
    "duration": 6,
    "start_time": "2023-12-02T09:22:17.650Z"
   },
   {
    "duration": 45,
    "start_time": "2023-12-02T09:22:18.154Z"
   },
   {
    "duration": 4,
    "start_time": "2023-12-02T09:24:58.978Z"
   },
   {
    "duration": 4,
    "start_time": "2023-12-02T09:25:04.298Z"
   },
   {
    "duration": 20,
    "start_time": "2023-12-02T09:25:16.148Z"
   },
   {
    "duration": 5,
    "start_time": "2023-12-02T09:25:16.921Z"
   },
   {
    "duration": 45,
    "start_time": "2023-12-02T09:25:18.247Z"
   },
   {
    "duration": 1471,
    "start_time": "2023-12-02T09:25:25.743Z"
   },
   {
    "duration": 4,
    "start_time": "2023-12-02T09:25:27.441Z"
   },
   {
    "duration": 4,
    "start_time": "2023-12-02T09:26:27.012Z"
   },
   {
    "duration": 41,
    "start_time": "2023-12-02T09:26:27.159Z"
   },
   {
    "duration": 4,
    "start_time": "2023-12-02T09:26:47.711Z"
   },
   {
    "duration": 43,
    "start_time": "2023-12-02T09:26:47.858Z"
   },
   {
    "duration": 35,
    "start_time": "2023-12-02T09:27:06.513Z"
   },
   {
    "duration": 18,
    "start_time": "2023-12-02T09:27:14.970Z"
   },
   {
    "duration": 4,
    "start_time": "2023-12-02T09:27:15.466Z"
   },
   {
    "duration": 32,
    "start_time": "2023-12-02T09:27:16.226Z"
   },
   {
    "duration": 5,
    "start_time": "2023-12-02T09:28:14.126Z"
   },
   {
    "duration": 42,
    "start_time": "2023-12-02T09:28:17.215Z"
   },
   {
    "duration": 46,
    "start_time": "2023-12-02T09:28:38.153Z"
   },
   {
    "duration": 12,
    "start_time": "2023-12-02T09:30:48.748Z"
   },
   {
    "duration": 5,
    "start_time": "2023-12-02T09:31:28.047Z"
   },
   {
    "duration": 41,
    "start_time": "2023-12-02T09:31:28.542Z"
   },
   {
    "duration": 5,
    "start_time": "2023-12-02T09:37:03.681Z"
   },
   {
    "duration": 84,
    "start_time": "2023-12-02T09:37:03.689Z"
   },
   {
    "duration": 0,
    "start_time": "2023-12-02T09:38:00.084Z"
   },
   {
    "duration": 0,
    "start_time": "2023-12-02T09:38:00.085Z"
   },
   {
    "duration": 0,
    "start_time": "2023-12-02T09:38:00.086Z"
   },
   {
    "duration": 0,
    "start_time": "2023-12-02T09:38:00.087Z"
   },
   {
    "duration": 0,
    "start_time": "2023-12-02T09:38:00.087Z"
   },
   {
    "duration": 0,
    "start_time": "2023-12-02T09:38:00.088Z"
   },
   {
    "duration": 0,
    "start_time": "2023-12-02T09:38:00.090Z"
   },
   {
    "duration": 0,
    "start_time": "2023-12-02T09:38:00.091Z"
   },
   {
    "duration": 0,
    "start_time": "2023-12-02T09:38:00.092Z"
   },
   {
    "duration": 0,
    "start_time": "2023-12-02T09:38:00.094Z"
   },
   {
    "duration": 0,
    "start_time": "2023-12-02T09:38:00.095Z"
   },
   {
    "duration": 0,
    "start_time": "2023-12-02T09:38:00.096Z"
   },
   {
    "duration": 0,
    "start_time": "2023-12-02T09:38:00.097Z"
   },
   {
    "duration": 0,
    "start_time": "2023-12-02T09:38:00.098Z"
   },
   {
    "duration": 0,
    "start_time": "2023-12-02T09:38:00.099Z"
   },
   {
    "duration": 0,
    "start_time": "2023-12-02T09:38:00.100Z"
   },
   {
    "duration": 0,
    "start_time": "2023-12-02T09:38:00.102Z"
   },
   {
    "duration": 0,
    "start_time": "2023-12-02T09:38:00.103Z"
   },
   {
    "duration": 0,
    "start_time": "2023-12-02T09:38:00.104Z"
   },
   {
    "duration": 0,
    "start_time": "2023-12-02T09:38:00.105Z"
   },
   {
    "duration": 0,
    "start_time": "2023-12-02T09:38:00.143Z"
   },
   {
    "duration": 0,
    "start_time": "2023-12-02T09:38:00.145Z"
   },
   {
    "duration": 0,
    "start_time": "2023-12-02T09:38:00.146Z"
   },
   {
    "duration": 0,
    "start_time": "2023-12-02T09:38:00.147Z"
   },
   {
    "duration": 0,
    "start_time": "2023-12-02T09:38:00.148Z"
   },
   {
    "duration": 0,
    "start_time": "2023-12-02T09:38:00.149Z"
   },
   {
    "duration": 0,
    "start_time": "2023-12-02T09:38:00.150Z"
   },
   {
    "duration": 0,
    "start_time": "2023-12-02T09:38:00.152Z"
   },
   {
    "duration": 0,
    "start_time": "2023-12-02T09:38:00.152Z"
   },
   {
    "duration": 0,
    "start_time": "2023-12-02T09:38:00.154Z"
   },
   {
    "duration": 0,
    "start_time": "2023-12-02T09:38:00.155Z"
   },
   {
    "duration": 0,
    "start_time": "2023-12-02T09:38:00.156Z"
   },
   {
    "duration": 0,
    "start_time": "2023-12-02T09:38:00.157Z"
   },
   {
    "duration": 0,
    "start_time": "2023-12-02T09:38:00.158Z"
   },
   {
    "duration": 0,
    "start_time": "2023-12-02T09:38:00.159Z"
   },
   {
    "duration": 0,
    "start_time": "2023-12-02T09:38:00.161Z"
   },
   {
    "duration": 0,
    "start_time": "2023-12-02T09:38:00.162Z"
   },
   {
    "duration": 0,
    "start_time": "2023-12-02T09:38:00.163Z"
   },
   {
    "duration": 0,
    "start_time": "2023-12-02T09:38:00.165Z"
   },
   {
    "duration": 0,
    "start_time": "2023-12-02T09:38:00.166Z"
   },
   {
    "duration": 0,
    "start_time": "2023-12-02T09:38:00.167Z"
   },
   {
    "duration": 0,
    "start_time": "2023-12-02T09:38:00.168Z"
   },
   {
    "duration": 0,
    "start_time": "2023-12-02T09:38:00.169Z"
   },
   {
    "duration": 0,
    "start_time": "2023-12-02T09:38:00.170Z"
   },
   {
    "duration": 0,
    "start_time": "2023-12-02T09:38:00.172Z"
   },
   {
    "duration": 0,
    "start_time": "2023-12-02T09:38:00.173Z"
   },
   {
    "duration": 0,
    "start_time": "2023-12-02T09:38:00.174Z"
   },
   {
    "duration": 0,
    "start_time": "2023-12-02T09:38:00.176Z"
   },
   {
    "duration": 0,
    "start_time": "2023-12-02T09:38:00.177Z"
   },
   {
    "duration": 0,
    "start_time": "2023-12-02T09:38:00.178Z"
   },
   {
    "duration": 0,
    "start_time": "2023-12-02T09:38:00.180Z"
   },
   {
    "duration": 0,
    "start_time": "2023-12-02T09:38:00.180Z"
   },
   {
    "duration": 0,
    "start_time": "2023-12-02T09:38:00.243Z"
   },
   {
    "duration": 0,
    "start_time": "2023-12-02T09:38:00.244Z"
   },
   {
    "duration": 0,
    "start_time": "2023-12-02T09:38:00.245Z"
   },
   {
    "duration": 0,
    "start_time": "2023-12-02T09:38:00.247Z"
   },
   {
    "duration": 0,
    "start_time": "2023-12-02T09:38:00.248Z"
   },
   {
    "duration": 0,
    "start_time": "2023-12-02T09:38:00.249Z"
   },
   {
    "duration": 0,
    "start_time": "2023-12-02T09:38:00.250Z"
   },
   {
    "duration": 0,
    "start_time": "2023-12-02T09:38:00.251Z"
   },
   {
    "duration": 4,
    "start_time": "2023-12-02T09:39:04.231Z"
   },
   {
    "duration": 1072,
    "start_time": "2023-12-02T09:39:04.237Z"
   },
   {
    "duration": 10,
    "start_time": "2023-12-02T09:39:05.311Z"
   },
   {
    "duration": 21,
    "start_time": "2023-12-02T09:39:05.322Z"
   },
   {
    "duration": 11,
    "start_time": "2023-12-02T09:39:05.345Z"
   },
   {
    "duration": 12,
    "start_time": "2023-12-02T09:39:05.358Z"
   },
   {
    "duration": 116,
    "start_time": "2023-12-02T09:39:05.372Z"
   },
   {
    "duration": 130,
    "start_time": "2023-12-02T09:39:05.490Z"
   },
   {
    "duration": 63,
    "start_time": "2023-12-02T09:39:05.622Z"
   },
   {
    "duration": 212,
    "start_time": "2023-12-02T09:39:05.688Z"
   },
   {
    "duration": 5,
    "start_time": "2023-12-02T09:39:05.902Z"
   },
   {
    "duration": 45,
    "start_time": "2023-12-02T09:39:05.908Z"
   },
   {
    "duration": 187,
    "start_time": "2023-12-02T09:39:05.955Z"
   },
   {
    "duration": 116,
    "start_time": "2023-12-02T09:39:06.145Z"
   },
   {
    "duration": 1287,
    "start_time": "2023-12-02T09:39:06.263Z"
   },
   {
    "duration": 14,
    "start_time": "2023-12-02T09:39:07.551Z"
   },
   {
    "duration": 10,
    "start_time": "2023-12-02T09:39:07.568Z"
   },
   {
    "duration": 26,
    "start_time": "2023-12-02T09:39:07.580Z"
   },
   {
    "duration": 46,
    "start_time": "2023-12-02T09:39:07.607Z"
   },
   {
    "duration": 74,
    "start_time": "2023-12-02T09:39:07.655Z"
   },
   {
    "duration": 16,
    "start_time": "2023-12-02T09:39:07.731Z"
   },
   {
    "duration": 22,
    "start_time": "2023-12-02T09:39:07.749Z"
   },
   {
    "duration": 4,
    "start_time": "2023-12-02T09:39:07.773Z"
   },
   {
    "duration": 133,
    "start_time": "2023-12-02T09:39:07.778Z"
   },
   {
    "duration": 9,
    "start_time": "2023-12-02T09:39:07.913Z"
   },
   {
    "duration": 40,
    "start_time": "2023-12-02T09:39:07.923Z"
   },
   {
    "duration": 57,
    "start_time": "2023-12-02T09:39:07.964Z"
   },
   {
    "duration": 64,
    "start_time": "2023-12-02T09:39:08.026Z"
   },
   {
    "duration": 11,
    "start_time": "2023-12-02T09:39:08.092Z"
   },
   {
    "duration": 522,
    "start_time": "2023-12-02T09:39:08.105Z"
   },
   {
    "duration": 888,
    "start_time": "2023-12-02T09:39:08.628Z"
   },
   {
    "duration": 29,
    "start_time": "2023-12-02T09:39:09.517Z"
   },
   {
    "duration": 3,
    "start_time": "2023-12-02T09:39:09.547Z"
   },
   {
    "duration": 29,
    "start_time": "2023-12-02T09:39:09.551Z"
   },
   {
    "duration": 952,
    "start_time": "2023-12-02T09:39:09.582Z"
   },
   {
    "duration": 32,
    "start_time": "2023-12-02T09:39:10.536Z"
   },
   {
    "duration": 6,
    "start_time": "2023-12-02T09:39:10.570Z"
   },
   {
    "duration": 14,
    "start_time": "2023-12-02T09:39:10.578Z"
   },
   {
    "duration": 68,
    "start_time": "2023-12-02T09:39:10.593Z"
   },
   {
    "duration": 148,
    "start_time": "2023-12-02T09:39:10.663Z"
   },
   {
    "duration": 69,
    "start_time": "2023-12-02T09:39:10.813Z"
   },
   {
    "duration": 540,
    "start_time": "2023-12-02T09:39:10.883Z"
   },
   {
    "duration": 50,
    "start_time": "2023-12-02T09:39:11.424Z"
   },
   {
    "duration": 448,
    "start_time": "2023-12-02T09:39:11.475Z"
   },
   {
    "duration": 22,
    "start_time": "2023-12-02T09:39:11.925Z"
   },
   {
    "duration": 13,
    "start_time": "2023-12-02T09:39:11.948Z"
   },
   {
    "duration": 10,
    "start_time": "2023-12-02T09:39:11.962Z"
   },
   {
    "duration": 570,
    "start_time": "2023-12-02T09:39:11.974Z"
   },
   {
    "duration": 12,
    "start_time": "2023-12-02T09:39:12.546Z"
   },
   {
    "duration": 390,
    "start_time": "2023-12-02T09:39:12.560Z"
   },
   {
    "duration": 25,
    "start_time": "2023-12-02T09:39:12.951Z"
   },
   {
    "duration": 7,
    "start_time": "2023-12-02T09:39:12.978Z"
   },
   {
    "duration": 34,
    "start_time": "2023-12-02T09:39:12.986Z"
   },
   {
    "duration": 21,
    "start_time": "2023-12-02T09:39:13.022Z"
   },
   {
    "duration": 13,
    "start_time": "2023-12-02T09:39:13.044Z"
   },
   {
    "duration": 21,
    "start_time": "2023-12-02T09:39:13.058Z"
   },
   {
    "duration": 20,
    "start_time": "2023-12-02T09:39:13.081Z"
   },
   {
    "duration": 6,
    "start_time": "2023-12-02T09:39:13.103Z"
   },
   {
    "duration": 21,
    "start_time": "2023-12-02T09:39:13.110Z"
   },
   {
    "duration": 62,
    "start_time": "2023-12-02T09:39:13.142Z"
   },
   {
    "duration": 1331,
    "start_time": "2023-12-04T10:39:18.143Z"
   },
   {
    "duration": 1207,
    "start_time": "2023-12-04T10:39:19.476Z"
   },
   {
    "duration": 10,
    "start_time": "2023-12-04T10:39:20.685Z"
   },
   {
    "duration": 14,
    "start_time": "2023-12-04T10:39:20.697Z"
   },
   {
    "duration": 25,
    "start_time": "2023-12-04T10:39:20.713Z"
   },
   {
    "duration": 12,
    "start_time": "2023-12-04T10:39:20.739Z"
   },
   {
    "duration": 94,
    "start_time": "2023-12-04T10:39:20.753Z"
   },
   {
    "duration": 116,
    "start_time": "2023-12-04T10:39:20.848Z"
   },
   {
    "duration": 64,
    "start_time": "2023-12-04T10:39:20.965Z"
   },
   {
    "duration": 208,
    "start_time": "2023-12-04T10:39:21.030Z"
   },
   {
    "duration": 4,
    "start_time": "2023-12-04T10:39:21.240Z"
   },
   {
    "duration": 31,
    "start_time": "2023-12-04T10:39:21.246Z"
   },
   {
    "duration": 144,
    "start_time": "2023-12-04T10:39:21.282Z"
   },
   {
    "duration": 115,
    "start_time": "2023-12-04T10:39:21.430Z"
   },
   {
    "duration": 1039,
    "start_time": "2023-12-04T10:39:21.547Z"
   },
   {
    "duration": 11,
    "start_time": "2023-12-04T10:39:22.587Z"
   },
   {
    "duration": 27,
    "start_time": "2023-12-04T10:39:22.600Z"
   },
   {
    "duration": 29,
    "start_time": "2023-12-04T10:39:22.629Z"
   },
   {
    "duration": 25,
    "start_time": "2023-12-04T10:39:22.659Z"
   },
   {
    "duration": 79,
    "start_time": "2023-12-04T10:39:22.685Z"
   },
   {
    "duration": 4,
    "start_time": "2023-12-04T10:39:22.765Z"
   },
   {
    "duration": 17,
    "start_time": "2023-12-04T10:39:22.771Z"
   },
   {
    "duration": 6,
    "start_time": "2023-12-04T10:39:22.789Z"
   },
   {
    "duration": 91,
    "start_time": "2023-12-04T10:39:22.796Z"
   },
   {
    "duration": 8,
    "start_time": "2023-12-04T10:39:22.888Z"
   },
   {
    "duration": 27,
    "start_time": "2023-12-04T10:39:22.897Z"
   },
   {
    "duration": 106,
    "start_time": "2023-12-04T10:39:22.925Z"
   },
   {
    "duration": 55,
    "start_time": "2023-12-04T10:39:23.032Z"
   },
   {
    "duration": 8,
    "start_time": "2023-12-04T10:39:23.089Z"
   },
   {
    "duration": 375,
    "start_time": "2023-12-04T10:39:23.098Z"
   },
   {
    "duration": 829,
    "start_time": "2023-12-04T10:39:23.474Z"
   },
   {
    "duration": 18,
    "start_time": "2023-12-04T10:39:24.305Z"
   },
   {
    "duration": 2,
    "start_time": "2023-12-04T10:39:24.325Z"
   },
   {
    "duration": 16,
    "start_time": "2023-12-04T10:39:24.328Z"
   },
   {
    "duration": 868,
    "start_time": "2023-12-04T10:39:24.345Z"
   },
   {
    "duration": 39,
    "start_time": "2023-12-04T10:39:25.214Z"
   },
   {
    "duration": 7,
    "start_time": "2023-12-04T10:39:25.254Z"
   },
   {
    "duration": 0,
    "start_time": "2023-12-04T10:39:28.227Z"
   },
   {
    "duration": 0,
    "start_time": "2023-12-04T10:39:28.228Z"
   },
   {
    "duration": 0,
    "start_time": "2023-12-04T10:39:28.229Z"
   },
   {
    "duration": 0,
    "start_time": "2023-12-04T10:39:28.231Z"
   },
   {
    "duration": 0,
    "start_time": "2023-12-04T10:39:28.232Z"
   },
   {
    "duration": 0,
    "start_time": "2023-12-04T10:39:28.233Z"
   },
   {
    "duration": 0,
    "start_time": "2023-12-04T10:39:28.234Z"
   },
   {
    "duration": 0,
    "start_time": "2023-12-04T10:39:28.235Z"
   },
   {
    "duration": 0,
    "start_time": "2023-12-04T10:39:28.237Z"
   },
   {
    "duration": 0,
    "start_time": "2023-12-04T10:39:28.238Z"
   },
   {
    "duration": 0,
    "start_time": "2023-12-04T10:39:28.239Z"
   },
   {
    "duration": 0,
    "start_time": "2023-12-04T10:39:28.240Z"
   },
   {
    "duration": 0,
    "start_time": "2023-12-04T10:39:28.241Z"
   },
   {
    "duration": 0,
    "start_time": "2023-12-04T10:39:28.243Z"
   },
   {
    "duration": 0,
    "start_time": "2023-12-04T10:39:28.244Z"
   },
   {
    "duration": 0,
    "start_time": "2023-12-04T10:39:28.283Z"
   },
   {
    "duration": 0,
    "start_time": "2023-12-04T10:39:28.284Z"
   },
   {
    "duration": 0,
    "start_time": "2023-12-04T10:39:28.285Z"
   },
   {
    "duration": 0,
    "start_time": "2023-12-04T10:39:28.286Z"
   },
   {
    "duration": 0,
    "start_time": "2023-12-04T10:39:28.287Z"
   },
   {
    "duration": 0,
    "start_time": "2023-12-04T10:39:28.289Z"
   },
   {
    "duration": 0,
    "start_time": "2023-12-04T10:39:28.290Z"
   },
   {
    "duration": 0,
    "start_time": "2023-12-04T10:39:28.292Z"
   },
   {
    "duration": 0,
    "start_time": "2023-12-04T10:39:28.293Z"
   },
   {
    "duration": 0,
    "start_time": "2023-12-04T10:39:28.294Z"
   },
   {
    "duration": 0,
    "start_time": "2023-12-04T10:39:28.297Z"
   },
   {
    "duration": 0,
    "start_time": "2023-12-04T10:39:28.299Z"
   },
   {
    "duration": 0,
    "start_time": "2023-12-04T10:39:28.300Z"
   },
   {
    "duration": 0,
    "start_time": "2023-12-04T10:39:28.301Z"
   },
   {
    "duration": 0,
    "start_time": "2023-12-04T10:39:28.303Z"
   },
   {
    "duration": 0,
    "start_time": "2023-12-04T10:39:28.304Z"
   },
   {
    "duration": 0,
    "start_time": "2023-12-04T10:39:28.305Z"
   },
   {
    "duration": 0,
    "start_time": "2023-12-04T10:39:28.306Z"
   },
   {
    "duration": 0,
    "start_time": "2023-12-04T10:39:28.308Z"
   },
   {
    "duration": 0,
    "start_time": "2023-12-04T10:39:28.309Z"
   },
   {
    "duration": 0,
    "start_time": "2023-12-04T10:39:28.310Z"
   },
   {
    "duration": 0,
    "start_time": "2023-12-04T10:39:28.311Z"
   },
   {
    "duration": 0,
    "start_time": "2023-12-04T10:39:28.312Z"
   },
   {
    "duration": 0,
    "start_time": "2023-12-04T10:39:28.313Z"
   },
   {
    "duration": 0,
    "start_time": "2023-12-04T10:39:28.314Z"
   },
   {
    "duration": 0,
    "start_time": "2023-12-04T10:39:28.315Z"
   },
   {
    "duration": 0,
    "start_time": "2023-12-04T10:39:28.316Z"
   },
   {
    "duration": 0,
    "start_time": "2023-12-04T10:39:28.317Z"
   },
   {
    "duration": 0,
    "start_time": "2023-12-04T10:39:28.318Z"
   },
   {
    "duration": 0,
    "start_time": "2023-12-04T10:39:28.319Z"
   },
   {
    "duration": 0,
    "start_time": "2023-12-04T10:39:28.320Z"
   },
   {
    "duration": 0,
    "start_time": "2023-12-04T10:39:28.382Z"
   },
   {
    "duration": 0,
    "start_time": "2023-12-04T10:39:28.383Z"
   },
   {
    "duration": 0,
    "start_time": "2023-12-04T10:39:28.384Z"
   },
   {
    "duration": 0,
    "start_time": "2023-12-04T10:39:28.385Z"
   },
   {
    "duration": 0,
    "start_time": "2023-12-04T10:39:28.386Z"
   },
   {
    "duration": 0,
    "start_time": "2023-12-04T10:39:28.387Z"
   },
   {
    "duration": 0,
    "start_time": "2023-12-04T10:39:28.388Z"
   },
   {
    "duration": 0,
    "start_time": "2023-12-04T10:39:28.389Z"
   },
   {
    "duration": 0,
    "start_time": "2023-12-04T10:39:28.390Z"
   },
   {
    "duration": 0,
    "start_time": "2023-12-04T10:39:28.391Z"
   },
   {
    "duration": 0,
    "start_time": "2023-12-04T10:39:28.392Z"
   },
   {
    "duration": 0,
    "start_time": "2023-12-04T10:39:28.393Z"
   },
   {
    "duration": 0,
    "start_time": "2023-12-04T10:39:28.394Z"
   },
   {
    "duration": 0,
    "start_time": "2023-12-04T10:39:28.395Z"
   },
   {
    "duration": 0,
    "start_time": "2023-12-04T10:39:28.396Z"
   },
   {
    "duration": 4,
    "start_time": "2023-12-04T10:40:00.707Z"
   },
   {
    "duration": 4,
    "start_time": "2023-12-04T11:38:33.313Z"
   },
   {
    "duration": 1228,
    "start_time": "2023-12-04T11:38:33.319Z"
   },
   {
    "duration": 10,
    "start_time": "2023-12-04T11:38:34.548Z"
   },
   {
    "duration": 10,
    "start_time": "2023-12-04T11:38:34.560Z"
   },
   {
    "duration": 11,
    "start_time": "2023-12-04T11:38:34.572Z"
   },
   {
    "duration": 20,
    "start_time": "2023-12-04T11:38:34.584Z"
   },
   {
    "duration": 95,
    "start_time": "2023-12-04T11:38:34.606Z"
   },
   {
    "duration": 126,
    "start_time": "2023-12-04T11:38:34.703Z"
   },
   {
    "duration": 81,
    "start_time": "2023-12-04T11:38:34.831Z"
   },
   {
    "duration": 198,
    "start_time": "2023-12-04T11:38:34.915Z"
   },
   {
    "duration": 4,
    "start_time": "2023-12-04T11:38:35.115Z"
   },
   {
    "duration": 32,
    "start_time": "2023-12-04T11:38:35.121Z"
   },
   {
    "duration": 175,
    "start_time": "2023-12-04T11:38:35.154Z"
   },
   {
    "duration": 128,
    "start_time": "2023-12-04T11:38:35.331Z"
   },
   {
    "duration": 1172,
    "start_time": "2023-12-04T11:38:35.460Z"
   },
   {
    "duration": 11,
    "start_time": "2023-12-04T11:38:36.634Z"
   },
   {
    "duration": 8,
    "start_time": "2023-12-04T11:38:36.647Z"
   },
   {
    "duration": 41,
    "start_time": "2023-12-04T11:38:36.656Z"
   },
   {
    "duration": 14,
    "start_time": "2023-12-04T11:38:36.698Z"
   },
   {
    "duration": 74,
    "start_time": "2023-12-04T11:38:36.713Z"
   },
   {
    "duration": 6,
    "start_time": "2023-12-04T11:38:36.788Z"
   },
   {
    "duration": 12,
    "start_time": "2023-12-04T11:38:36.795Z"
   },
   {
    "duration": 4,
    "start_time": "2023-12-04T11:38:36.808Z"
   },
   {
    "duration": 105,
    "start_time": "2023-12-04T11:38:36.813Z"
   },
   {
    "duration": 8,
    "start_time": "2023-12-04T11:38:36.919Z"
   },
   {
    "duration": 20,
    "start_time": "2023-12-04T11:38:36.928Z"
   },
   {
    "duration": 65,
    "start_time": "2023-12-04T11:38:36.950Z"
   },
   {
    "duration": 39,
    "start_time": "2023-12-04T11:38:37.018Z"
   },
   {
    "duration": 23,
    "start_time": "2023-12-04T11:38:37.059Z"
   },
   {
    "duration": 396,
    "start_time": "2023-12-04T11:38:37.084Z"
   },
   {
    "duration": 809,
    "start_time": "2023-12-04T11:38:37.482Z"
   },
   {
    "duration": 17,
    "start_time": "2023-12-04T11:38:38.293Z"
   },
   {
    "duration": 2,
    "start_time": "2023-12-04T11:38:38.311Z"
   },
   {
    "duration": 19,
    "start_time": "2023-12-04T11:38:38.314Z"
   },
   {
    "duration": 838,
    "start_time": "2023-12-04T11:38:38.334Z"
   },
   {
    "duration": 29,
    "start_time": "2023-12-04T11:38:39.174Z"
   },
   {
    "duration": 6,
    "start_time": "2023-12-04T11:38:39.204Z"
   },
   {
    "duration": 12,
    "start_time": "2023-12-04T11:38:39.212Z"
   },
   {
    "duration": 60,
    "start_time": "2023-12-04T11:38:39.225Z"
   },
   {
    "duration": 126,
    "start_time": "2023-12-04T11:38:39.287Z"
   },
   {
    "duration": 52,
    "start_time": "2023-12-04T11:38:39.415Z"
   },
   {
    "duration": 504,
    "start_time": "2023-12-04T11:38:39.469Z"
   },
   {
    "duration": 39,
    "start_time": "2023-12-04T11:38:39.975Z"
   },
   {
    "duration": 371,
    "start_time": "2023-12-04T11:38:40.016Z"
   },
   {
    "duration": 15,
    "start_time": "2023-12-04T11:38:40.388Z"
   },
   {
    "duration": 11,
    "start_time": "2023-12-04T11:38:40.405Z"
   },
   {
    "duration": 21,
    "start_time": "2023-12-04T11:38:40.418Z"
   },
   {
    "duration": 510,
    "start_time": "2023-12-04T11:38:40.440Z"
   },
   {
    "duration": 12,
    "start_time": "2023-12-04T11:38:40.952Z"
   },
   {
    "duration": 286,
    "start_time": "2023-12-04T11:38:40.965Z"
   },
   {
    "duration": 29,
    "start_time": "2023-12-04T11:38:41.253Z"
   },
   {
    "duration": 6,
    "start_time": "2023-12-04T11:38:41.283Z"
   },
   {
    "duration": 22,
    "start_time": "2023-12-04T11:38:41.291Z"
   },
   {
    "duration": 26,
    "start_time": "2023-12-04T11:38:41.314Z"
   },
   {
    "duration": 23,
    "start_time": "2023-12-04T11:38:41.342Z"
   },
   {
    "duration": 15,
    "start_time": "2023-12-04T11:38:41.367Z"
   },
   {
    "duration": 23,
    "start_time": "2023-12-04T11:38:41.383Z"
   },
   {
    "duration": 5,
    "start_time": "2023-12-04T11:38:41.408Z"
   },
   {
    "duration": 43,
    "start_time": "2023-12-04T11:38:41.414Z"
   },
   {
    "duration": 0,
    "start_time": "2023-12-04T11:38:41.458Z"
   },
   {
    "duration": 0,
    "start_time": "2023-12-04T11:38:41.459Z"
   },
   {
    "duration": 5,
    "start_time": "2023-12-04T11:40:31.733Z"
   },
   {
    "duration": 43,
    "start_time": "2023-12-04T11:40:32.071Z"
   },
   {
    "duration": 5,
    "start_time": "2023-12-04T11:41:18.428Z"
   },
   {
    "duration": 53,
    "start_time": "2023-12-04T11:41:18.578Z"
   },
   {
    "duration": 7,
    "start_time": "2023-12-04T11:45:34.464Z"
   },
   {
    "duration": 6,
    "start_time": "2023-12-04T11:45:34.628Z"
   },
   {
    "duration": 5,
    "start_time": "2023-12-04T11:46:03.207Z"
   },
   {
    "duration": 1213,
    "start_time": "2023-12-04T11:46:03.350Z"
   },
   {
    "duration": 1214,
    "start_time": "2023-12-04T11:55:17.188Z"
   },
   {
    "duration": 41,
    "start_time": "2023-12-04T11:55:19.753Z"
   },
   {
    "duration": 4,
    "start_time": "2023-12-04T11:55:25.766Z"
   },
   {
    "duration": 1292,
    "start_time": "2023-12-04T11:55:25.903Z"
   },
   {
    "duration": 4,
    "start_time": "2023-12-04T11:55:43.299Z"
   },
   {
    "duration": 1153,
    "start_time": "2023-12-04T11:55:43.425Z"
   },
   {
    "duration": 6,
    "start_time": "2023-12-04T11:56:33.921Z"
   },
   {
    "duration": 7,
    "start_time": "2023-12-04T11:56:34.041Z"
   },
   {
    "duration": 5,
    "start_time": "2023-12-04T11:56:34.947Z"
   },
   {
    "duration": 1202,
    "start_time": "2023-12-04T11:56:41.237Z"
   },
   {
    "duration": 6,
    "start_time": "2023-12-04T12:03:07.915Z"
   },
   {
    "duration": 44,
    "start_time": "2023-12-04T12:03:08.057Z"
   },
   {
    "duration": 4,
    "start_time": "2023-12-04T12:05:36.160Z"
   },
   {
    "duration": 33,
    "start_time": "2023-12-04T12:05:36.289Z"
   },
   {
    "duration": 5,
    "start_time": "2023-12-04T12:07:01.251Z"
   },
   {
    "duration": 43,
    "start_time": "2023-12-04T12:07:01.394Z"
   },
   {
    "duration": 39,
    "start_time": "2023-12-04T12:07:04.599Z"
   },
   {
    "duration": 4,
    "start_time": "2023-12-04T12:07:49.853Z"
   },
   {
    "duration": 32,
    "start_time": "2023-12-04T12:07:56.029Z"
   },
   {
    "duration": 5,
    "start_time": "2023-12-04T12:08:50.071Z"
   },
   {
    "duration": 43,
    "start_time": "2023-12-04T12:08:50.512Z"
   },
   {
    "duration": 40,
    "start_time": "2023-12-04T12:09:00.224Z"
   },
   {
    "duration": 4,
    "start_time": "2023-12-04T12:09:54.632Z"
   },
   {
    "duration": 5,
    "start_time": "2023-12-04T12:18:22.150Z"
   },
   {
    "duration": 27,
    "start_time": "2023-12-04T12:18:22.359Z"
   },
   {
    "duration": 17,
    "start_time": "2023-12-04T12:24:13.019Z"
   },
   {
    "duration": 17,
    "start_time": "2023-12-04T12:24:20.536Z"
   },
   {
    "duration": 17,
    "start_time": "2023-12-04T12:24:35.768Z"
   },
   {
    "duration": 51,
    "start_time": "2023-12-04T12:30:31.997Z"
   },
   {
    "duration": 36,
    "start_time": "2023-12-04T12:31:15.943Z"
   },
   {
    "duration": 36,
    "start_time": "2023-12-04T12:31:41.450Z"
   },
   {
    "duration": 41,
    "start_time": "2023-12-04T12:32:05.001Z"
   },
   {
    "duration": 43,
    "start_time": "2023-12-04T12:32:20.773Z"
   },
   {
    "duration": 98,
    "start_time": "2023-12-04T12:32:36.732Z"
   },
   {
    "duration": 40,
    "start_time": "2023-12-04T12:32:49.422Z"
   },
   {
    "duration": 42,
    "start_time": "2023-12-04T12:33:23.501Z"
   },
   {
    "duration": 38,
    "start_time": "2023-12-04T12:33:31.501Z"
   },
   {
    "duration": 236,
    "start_time": "2023-12-04T12:34:19.628Z"
   },
   {
    "duration": 436,
    "start_time": "2023-12-04T12:37:21.357Z"
   },
   {
    "duration": 37,
    "start_time": "2023-12-04T12:42:34.278Z"
   },
   {
    "duration": 305,
    "start_time": "2023-12-04T12:42:34.997Z"
   },
   {
    "duration": 503,
    "start_time": "2023-12-04T12:46:04.894Z"
   },
   {
    "duration": 491,
    "start_time": "2023-12-04T12:46:37.741Z"
   },
   {
    "duration": 487,
    "start_time": "2023-12-04T12:47:01.305Z"
   },
   {
    "duration": 14,
    "start_time": "2023-12-04T12:47:24.801Z"
   },
   {
    "duration": 25,
    "start_time": "2023-12-04T12:48:23.287Z"
   },
   {
    "duration": 7,
    "start_time": "2023-12-04T12:48:24.065Z"
   },
   {
    "duration": 7,
    "start_time": "2023-12-04T12:48:24.568Z"
   },
   {
    "duration": 23,
    "start_time": "2023-12-04T12:48:34.775Z"
   },
   {
    "duration": 6,
    "start_time": "2023-12-04T12:48:35.374Z"
   },
   {
    "duration": 7,
    "start_time": "2023-12-04T12:48:35.903Z"
   },
   {
    "duration": 366,
    "start_time": "2023-12-04T12:50:43.473Z"
   },
   {
    "duration": 50,
    "start_time": "2023-12-04T12:51:30.850Z"
   },
   {
    "duration": 71,
    "start_time": "2023-12-04T12:53:26.138Z"
   },
   {
    "duration": 8,
    "start_time": "2023-12-04T12:53:35.524Z"
   },
   {
    "duration": 332,
    "start_time": "2023-12-04T12:53:55.777Z"
   },
   {
    "duration": 11,
    "start_time": "2023-12-04T12:54:33.073Z"
   },
   {
    "duration": 92,
    "start_time": "2023-12-04T12:55:53.088Z"
   },
   {
    "duration": 78,
    "start_time": "2023-12-04T12:56:22.650Z"
   },
   {
    "duration": 39,
    "start_time": "2023-12-04T12:59:40.247Z"
   },
   {
    "duration": 7,
    "start_time": "2023-12-04T12:59:54.531Z"
   },
   {
    "duration": 7,
    "start_time": "2023-12-04T13:00:16.793Z"
   },
   {
    "duration": 28,
    "start_time": "2023-12-04T13:06:27.450Z"
   },
   {
    "duration": 103,
    "start_time": "2023-12-04T13:06:27.577Z"
   },
   {
    "duration": 36,
    "start_time": "2023-12-04T13:06:28.139Z"
   },
   {
    "duration": 17,
    "start_time": "2023-12-04T13:11:29.623Z"
   },
   {
    "duration": 1230,
    "start_time": "2023-12-04T13:19:38.453Z"
   },
   {
    "duration": 1327,
    "start_time": "2023-12-04T13:19:39.685Z"
   },
   {
    "duration": 12,
    "start_time": "2023-12-04T13:19:41.013Z"
   },
   {
    "duration": 8,
    "start_time": "2023-12-04T13:19:41.026Z"
   },
   {
    "duration": 11,
    "start_time": "2023-12-04T13:19:41.035Z"
   },
   {
    "duration": 10,
    "start_time": "2023-12-04T13:19:41.047Z"
   },
   {
    "duration": 100,
    "start_time": "2023-12-04T13:19:41.058Z"
   },
   {
    "duration": 119,
    "start_time": "2023-12-04T13:19:41.159Z"
   },
   {
    "duration": 55,
    "start_time": "2023-12-04T13:19:41.279Z"
   },
   {
    "duration": 203,
    "start_time": "2023-12-04T13:19:41.336Z"
   },
   {
    "duration": 4,
    "start_time": "2023-12-04T13:19:41.540Z"
   },
   {
    "duration": 53,
    "start_time": "2023-12-04T13:19:41.545Z"
   },
   {
    "duration": 140,
    "start_time": "2023-12-04T13:19:41.599Z"
   },
   {
    "duration": 111,
    "start_time": "2023-12-04T13:19:41.741Z"
   },
   {
    "duration": 1072,
    "start_time": "2023-12-04T13:19:41.854Z"
   },
   {
    "duration": 12,
    "start_time": "2023-12-04T13:19:42.928Z"
   },
   {
    "duration": 10,
    "start_time": "2023-12-04T13:19:42.941Z"
   },
   {
    "duration": 46,
    "start_time": "2023-12-04T13:19:42.953Z"
   },
   {
    "duration": 13,
    "start_time": "2023-12-04T13:19:43.001Z"
   },
   {
    "duration": 74,
    "start_time": "2023-12-04T13:19:43.015Z"
   },
   {
    "duration": 5,
    "start_time": "2023-12-04T13:19:43.091Z"
   },
   {
    "duration": 12,
    "start_time": "2023-12-04T13:19:43.097Z"
   },
   {
    "duration": 6,
    "start_time": "2023-12-04T13:19:43.110Z"
   },
   {
    "duration": 107,
    "start_time": "2023-12-04T13:19:43.118Z"
   },
   {
    "duration": 8,
    "start_time": "2023-12-04T13:19:43.227Z"
   },
   {
    "duration": 20,
    "start_time": "2023-12-04T13:19:43.236Z"
   },
   {
    "duration": 118,
    "start_time": "2023-12-04T13:19:43.258Z"
   },
   {
    "duration": 46,
    "start_time": "2023-12-04T13:19:43.377Z"
   },
   {
    "duration": 8,
    "start_time": "2023-12-04T13:19:43.424Z"
   },
   {
    "duration": 354,
    "start_time": "2023-12-04T13:19:43.434Z"
   },
   {
    "duration": 796,
    "start_time": "2023-12-04T13:19:43.789Z"
   },
   {
    "duration": 17,
    "start_time": "2023-12-04T13:19:44.586Z"
   },
   {
    "duration": 10,
    "start_time": "2023-12-04T13:19:44.604Z"
   },
   {
    "duration": 15,
    "start_time": "2023-12-04T13:19:44.616Z"
   },
   {
    "duration": 760,
    "start_time": "2023-12-04T13:19:44.632Z"
   },
   {
    "duration": 26,
    "start_time": "2023-12-04T13:19:45.394Z"
   },
   {
    "duration": 6,
    "start_time": "2023-12-04T13:19:45.422Z"
   },
   {
    "duration": 184,
    "start_time": "2023-12-04T13:19:45.429Z"
   },
   {
    "duration": 102,
    "start_time": "2023-12-04T13:19:45.615Z"
   },
   {
    "duration": 241,
    "start_time": "2023-12-04T13:19:45.718Z"
   },
   {
    "duration": 67,
    "start_time": "2023-12-04T13:19:45.964Z"
   },
   {
    "duration": 603,
    "start_time": "2023-12-04T13:19:46.033Z"
   },
   {
    "duration": 52,
    "start_time": "2023-12-04T13:19:46.637Z"
   },
   {
    "duration": 6,
    "start_time": "2023-12-04T13:19:46.691Z"
   },
   {
    "duration": 21,
    "start_time": "2023-12-04T13:19:46.699Z"
   },
   {
    "duration": 331,
    "start_time": "2023-12-04T13:19:46.721Z"
   },
   {
    "duration": 11,
    "start_time": "2023-12-04T13:19:47.053Z"
   },
   {
    "duration": 653,
    "start_time": "2023-12-04T13:19:47.065Z"
   },
   {
    "duration": 12,
    "start_time": "2023-12-04T13:19:47.720Z"
   },
   {
    "duration": 411,
    "start_time": "2023-12-04T13:19:47.733Z"
   },
   {
    "duration": 23,
    "start_time": "2023-12-04T13:19:48.145Z"
   },
   {
    "duration": 13,
    "start_time": "2023-12-04T13:19:48.170Z"
   },
   {
    "duration": 7,
    "start_time": "2023-12-04T13:19:48.184Z"
   },
   {
    "duration": 21,
    "start_time": "2023-12-04T13:19:48.192Z"
   },
   {
    "duration": 11,
    "start_time": "2023-12-04T13:19:48.215Z"
   },
   {
    "duration": 18,
    "start_time": "2023-12-04T13:19:48.228Z"
   },
   {
    "duration": 37,
    "start_time": "2023-12-04T13:19:48.248Z"
   },
   {
    "duration": 50,
    "start_time": "2023-12-04T13:19:48.286Z"
   },
   {
    "duration": 1272,
    "start_time": "2023-12-04T13:20:31.157Z"
   },
   {
    "duration": 1019,
    "start_time": "2023-12-04T13:20:32.431Z"
   },
   {
    "duration": 13,
    "start_time": "2023-12-04T13:20:33.451Z"
   },
   {
    "duration": 9,
    "start_time": "2023-12-04T13:20:33.466Z"
   },
   {
    "duration": 11,
    "start_time": "2023-12-04T13:20:33.482Z"
   },
   {
    "duration": 7,
    "start_time": "2023-12-04T13:20:33.494Z"
   },
   {
    "duration": 117,
    "start_time": "2023-12-04T13:20:33.502Z"
   },
   {
    "duration": 118,
    "start_time": "2023-12-04T13:20:33.621Z"
   },
   {
    "duration": 64,
    "start_time": "2023-12-04T13:20:33.740Z"
   },
   {
    "duration": 3,
    "start_time": "2023-12-04T13:20:40.857Z"
   },
   {
    "duration": 865,
    "start_time": "2023-12-04T13:20:40.861Z"
   },
   {
    "duration": 8,
    "start_time": "2023-12-04T13:20:41.727Z"
   },
   {
    "duration": 26,
    "start_time": "2023-12-04T13:20:41.737Z"
   },
   {
    "duration": 13,
    "start_time": "2023-12-04T13:20:41.765Z"
   },
   {
    "duration": 19,
    "start_time": "2023-12-04T13:20:41.779Z"
   },
   {
    "duration": 104,
    "start_time": "2023-12-04T13:20:41.799Z"
   },
   {
    "duration": 112,
    "start_time": "2023-12-04T13:20:41.904Z"
   },
   {
    "duration": 65,
    "start_time": "2023-12-04T13:20:42.017Z"
   },
   {
    "duration": 182,
    "start_time": "2023-12-04T13:20:42.084Z"
   },
   {
    "duration": 14,
    "start_time": "2023-12-04T13:20:42.268Z"
   },
   {
    "duration": 25,
    "start_time": "2023-12-04T13:20:42.283Z"
   },
   {
    "duration": 169,
    "start_time": "2023-12-04T13:20:42.310Z"
   },
   {
    "duration": 114,
    "start_time": "2023-12-04T13:20:42.480Z"
   },
   {
    "duration": 1191,
    "start_time": "2023-12-04T13:20:42.595Z"
   },
   {
    "duration": 11,
    "start_time": "2023-12-04T13:20:43.788Z"
   },
   {
    "duration": 11,
    "start_time": "2023-12-04T13:20:43.800Z"
   },
   {
    "duration": 24,
    "start_time": "2023-12-04T13:20:43.812Z"
   },
   {
    "duration": 18,
    "start_time": "2023-12-04T13:20:43.837Z"
   },
   {
    "duration": 83,
    "start_time": "2023-12-04T13:20:43.856Z"
   },
   {
    "duration": 5,
    "start_time": "2023-12-04T13:20:43.941Z"
   },
   {
    "duration": 11,
    "start_time": "2023-12-04T13:20:43.948Z"
   },
   {
    "duration": 23,
    "start_time": "2023-12-04T13:20:43.960Z"
   },
   {
    "duration": 95,
    "start_time": "2023-12-04T13:20:43.989Z"
   },
   {
    "duration": 8,
    "start_time": "2023-12-04T13:20:44.086Z"
   },
   {
    "duration": 29,
    "start_time": "2023-12-04T13:20:44.096Z"
   },
   {
    "duration": 68,
    "start_time": "2023-12-04T13:20:44.127Z"
   },
   {
    "duration": 44,
    "start_time": "2023-12-04T13:20:44.197Z"
   },
   {
    "duration": 9,
    "start_time": "2023-12-04T13:20:44.243Z"
   },
   {
    "duration": 459,
    "start_time": "2023-12-04T13:20:44.254Z"
   },
   {
    "duration": 816,
    "start_time": "2023-12-04T13:20:44.715Z"
   },
   {
    "duration": 19,
    "start_time": "2023-12-04T13:20:45.532Z"
   },
   {
    "duration": 1,
    "start_time": "2023-12-04T13:20:45.553Z"
   },
   {
    "duration": 26,
    "start_time": "2023-12-04T13:20:45.556Z"
   },
   {
    "duration": 937,
    "start_time": "2023-12-04T13:20:45.583Z"
   },
   {
    "duration": 27,
    "start_time": "2023-12-04T13:20:46.522Z"
   },
   {
    "duration": 6,
    "start_time": "2023-12-04T13:20:46.551Z"
   },
   {
    "duration": 29,
    "start_time": "2023-12-04T13:20:46.559Z"
   },
   {
    "duration": 43,
    "start_time": "2023-12-04T13:20:46.590Z"
   },
   {
    "duration": 153,
    "start_time": "2023-12-04T13:20:46.635Z"
   },
   {
    "duration": 62,
    "start_time": "2023-12-04T13:20:46.789Z"
   },
   {
    "duration": 595,
    "start_time": "2023-12-04T13:20:46.853Z"
   },
   {
    "duration": 77,
    "start_time": "2023-12-04T13:20:47.450Z"
   },
   {
    "duration": 8,
    "start_time": "2023-12-04T13:20:47.529Z"
   },
   {
    "duration": 7,
    "start_time": "2023-12-04T13:20:47.538Z"
   },
   {
    "duration": 407,
    "start_time": "2023-12-04T13:20:47.547Z"
   },
   {
    "duration": 10,
    "start_time": "2023-12-04T13:20:47.955Z"
   },
   {
    "duration": 595,
    "start_time": "2023-12-04T13:20:47.967Z"
   },
   {
    "duration": 12,
    "start_time": "2023-12-04T13:20:48.563Z"
   },
   {
    "duration": 322,
    "start_time": "2023-12-04T13:20:48.582Z"
   },
   {
    "duration": 29,
    "start_time": "2023-12-04T13:20:48.906Z"
   },
   {
    "duration": 13,
    "start_time": "2023-12-04T13:20:48.937Z"
   },
   {
    "duration": 25,
    "start_time": "2023-12-04T13:20:48.951Z"
   },
   {
    "duration": 25,
    "start_time": "2023-12-04T13:20:48.977Z"
   },
   {
    "duration": 13,
    "start_time": "2023-12-04T13:20:49.004Z"
   },
   {
    "duration": 19,
    "start_time": "2023-12-04T13:20:49.019Z"
   },
   {
    "duration": 6,
    "start_time": "2023-12-04T13:20:49.040Z"
   },
   {
    "duration": 60,
    "start_time": "2023-12-04T13:20:49.047Z"
   },
   {
    "duration": 1236,
    "start_time": "2023-12-05T02:57:10.942Z"
   },
   {
    "duration": 1099,
    "start_time": "2023-12-05T02:57:12.179Z"
   },
   {
    "duration": 11,
    "start_time": "2023-12-05T02:57:13.280Z"
   },
   {
    "duration": 7,
    "start_time": "2023-12-05T02:57:13.293Z"
   },
   {
    "duration": 10,
    "start_time": "2023-12-05T02:57:13.302Z"
   },
   {
    "duration": 9,
    "start_time": "2023-12-05T02:57:13.313Z"
   },
   {
    "duration": 76,
    "start_time": "2023-12-05T02:57:13.323Z"
   },
   {
    "duration": 108,
    "start_time": "2023-12-05T02:57:13.400Z"
   },
   {
    "duration": 39,
    "start_time": "2023-12-05T02:57:13.514Z"
   },
   {
    "duration": 161,
    "start_time": "2023-12-05T02:57:13.555Z"
   },
   {
    "duration": 3,
    "start_time": "2023-12-05T02:57:13.717Z"
   },
   {
    "duration": 35,
    "start_time": "2023-12-05T02:57:13.722Z"
   },
   {
    "duration": 112,
    "start_time": "2023-12-05T02:57:13.758Z"
   },
   {
    "duration": 84,
    "start_time": "2023-12-05T02:57:13.871Z"
   },
   {
    "duration": 807,
    "start_time": "2023-12-05T02:57:13.956Z"
   },
   {
    "duration": 8,
    "start_time": "2023-12-05T02:57:14.765Z"
   },
   {
    "duration": 23,
    "start_time": "2023-12-05T02:57:14.774Z"
   },
   {
    "duration": 18,
    "start_time": "2023-12-05T02:57:14.798Z"
   },
   {
    "duration": 10,
    "start_time": "2023-12-05T02:57:14.818Z"
   },
   {
    "duration": 56,
    "start_time": "2023-12-05T02:57:14.829Z"
   },
   {
    "duration": 4,
    "start_time": "2023-12-05T02:57:14.886Z"
   },
   {
    "duration": 9,
    "start_time": "2023-12-05T02:57:14.891Z"
   },
   {
    "duration": 2,
    "start_time": "2023-12-05T02:57:14.915Z"
   },
   {
    "duration": 80,
    "start_time": "2023-12-05T02:57:14.918Z"
   },
   {
    "duration": 7,
    "start_time": "2023-12-05T02:57:14.999Z"
   },
   {
    "duration": 85,
    "start_time": "2023-12-05T02:57:15.008Z"
   },
   {
    "duration": 77,
    "start_time": "2023-12-05T02:57:15.095Z"
   },
   {
    "duration": 44,
    "start_time": "2023-12-05T02:57:15.175Z"
   },
   {
    "duration": 6,
    "start_time": "2023-12-05T02:57:15.220Z"
   },
   {
    "duration": 305,
    "start_time": "2023-12-05T02:57:15.227Z"
   },
   {
    "duration": 811,
    "start_time": "2023-12-05T02:57:15.534Z"
   },
   {
    "duration": 15,
    "start_time": "2023-12-05T02:57:16.347Z"
   },
   {
    "duration": 2,
    "start_time": "2023-12-05T02:57:16.363Z"
   },
   {
    "duration": 21,
    "start_time": "2023-12-05T02:57:16.367Z"
   },
   {
    "duration": 626,
    "start_time": "2023-12-05T02:57:16.389Z"
   },
   {
    "duration": 24,
    "start_time": "2023-12-05T02:57:17.017Z"
   },
   {
    "duration": 6,
    "start_time": "2023-12-05T02:57:17.042Z"
   },
   {
    "duration": 485,
    "start_time": "2023-12-05T02:57:17.049Z"
   },
   {
    "duration": 28,
    "start_time": "2023-12-05T02:57:17.535Z"
   },
   {
    "duration": 173,
    "start_time": "2023-12-05T02:57:17.565Z"
   },
   {
    "duration": 50,
    "start_time": "2023-12-05T02:57:17.739Z"
   },
   {
    "duration": 502,
    "start_time": "2023-12-05T02:57:17.790Z"
   },
   {
    "duration": 42,
    "start_time": "2023-12-05T02:57:18.293Z"
   },
   {
    "duration": 6,
    "start_time": "2023-12-05T02:57:18.336Z"
   },
   {
    "duration": 31,
    "start_time": "2023-12-05T02:57:18.343Z"
   },
   {
    "duration": 281,
    "start_time": "2023-12-05T02:57:18.375Z"
   },
   {
    "duration": 8,
    "start_time": "2023-12-05T02:57:18.657Z"
   },
   {
    "duration": 499,
    "start_time": "2023-12-05T02:57:18.667Z"
   },
   {
    "duration": 14,
    "start_time": "2023-12-05T02:57:19.168Z"
   },
   {
    "duration": 335,
    "start_time": "2023-12-05T02:57:19.183Z"
   },
   {
    "duration": 20,
    "start_time": "2023-12-05T02:57:19.520Z"
   },
   {
    "duration": 5,
    "start_time": "2023-12-05T02:57:19.541Z"
   },
   {
    "duration": 9,
    "start_time": "2023-12-05T02:57:19.548Z"
   },
   {
    "duration": 30,
    "start_time": "2023-12-05T02:57:19.559Z"
   },
   {
    "duration": 9,
    "start_time": "2023-12-05T02:57:19.590Z"
   },
   {
    "duration": 27,
    "start_time": "2023-12-05T02:57:19.600Z"
   },
   {
    "duration": 4,
    "start_time": "2023-12-05T02:57:19.628Z"
   },
   {
    "duration": 28,
    "start_time": "2023-12-05T02:57:19.634Z"
   },
   {
    "duration": 3,
    "start_time": "2023-12-05T03:18:41.885Z"
   },
   {
    "duration": 43,
    "start_time": "2023-12-06T01:01:23.338Z"
   },
   {
    "duration": 1230,
    "start_time": "2023-12-06T01:01:30.791Z"
   },
   {
    "duration": 1268,
    "start_time": "2023-12-06T01:01:32.022Z"
   },
   {
    "duration": 12,
    "start_time": "2023-12-06T01:01:33.291Z"
   },
   {
    "duration": 8,
    "start_time": "2023-12-06T01:01:33.305Z"
   },
   {
    "duration": 8,
    "start_time": "2023-12-06T01:01:33.315Z"
   },
   {
    "duration": 9,
    "start_time": "2023-12-06T01:01:33.324Z"
   },
   {
    "duration": 85,
    "start_time": "2023-12-06T01:01:33.334Z"
   },
   {
    "duration": 105,
    "start_time": "2023-12-06T01:01:33.420Z"
   },
   {
    "duration": 38,
    "start_time": "2023-12-06T01:01:33.526Z"
   },
   {
    "duration": 170,
    "start_time": "2023-12-06T01:01:33.567Z"
   },
   {
    "duration": 4,
    "start_time": "2023-12-06T01:01:33.738Z"
   },
   {
    "duration": 39,
    "start_time": "2023-12-06T01:01:33.743Z"
   },
   {
    "duration": 104,
    "start_time": "2023-12-06T01:01:33.784Z"
   },
   {
    "duration": 81,
    "start_time": "2023-12-06T01:01:33.890Z"
   },
   {
    "duration": 0,
    "start_time": "2023-12-06T01:01:39.272Z"
   },
   {
    "duration": 0,
    "start_time": "2023-12-06T01:01:39.273Z"
   },
   {
    "duration": 0,
    "start_time": "2023-12-06T01:01:39.275Z"
   },
   {
    "duration": 0,
    "start_time": "2023-12-06T01:01:39.276Z"
   },
   {
    "duration": 0,
    "start_time": "2023-12-06T01:01:39.277Z"
   },
   {
    "duration": 0,
    "start_time": "2023-12-06T01:01:39.279Z"
   },
   {
    "duration": 0,
    "start_time": "2023-12-06T01:01:39.280Z"
   },
   {
    "duration": 0,
    "start_time": "2023-12-06T01:01:39.281Z"
   },
   {
    "duration": 0,
    "start_time": "2023-12-06T01:01:39.282Z"
   },
   {
    "duration": 0,
    "start_time": "2023-12-06T01:01:39.284Z"
   },
   {
    "duration": 0,
    "start_time": "2023-12-06T01:01:39.285Z"
   },
   {
    "duration": 0,
    "start_time": "2023-12-06T01:01:39.287Z"
   },
   {
    "duration": 0,
    "start_time": "2023-12-06T01:01:39.288Z"
   },
   {
    "duration": 0,
    "start_time": "2023-12-06T01:01:39.315Z"
   },
   {
    "duration": 0,
    "start_time": "2023-12-06T01:01:39.317Z"
   },
   {
    "duration": 0,
    "start_time": "2023-12-06T01:01:39.318Z"
   },
   {
    "duration": 0,
    "start_time": "2023-12-06T01:01:39.319Z"
   },
   {
    "duration": 0,
    "start_time": "2023-12-06T01:01:39.321Z"
   },
   {
    "duration": 0,
    "start_time": "2023-12-06T01:01:39.322Z"
   },
   {
    "duration": 0,
    "start_time": "2023-12-06T01:01:39.323Z"
   },
   {
    "duration": 0,
    "start_time": "2023-12-06T01:01:39.325Z"
   },
   {
    "duration": 0,
    "start_time": "2023-12-06T01:01:39.326Z"
   },
   {
    "duration": 0,
    "start_time": "2023-12-06T01:01:39.327Z"
   },
   {
    "duration": 0,
    "start_time": "2023-12-06T01:01:39.328Z"
   },
   {
    "duration": 0,
    "start_time": "2023-12-06T01:01:39.330Z"
   },
   {
    "duration": 0,
    "start_time": "2023-12-06T01:01:39.331Z"
   },
   {
    "duration": 0,
    "start_time": "2023-12-06T01:01:39.331Z"
   },
   {
    "duration": 0,
    "start_time": "2023-12-06T01:01:39.332Z"
   },
   {
    "duration": 0,
    "start_time": "2023-12-06T01:01:39.333Z"
   },
   {
    "duration": 0,
    "start_time": "2023-12-06T01:01:39.334Z"
   },
   {
    "duration": 0,
    "start_time": "2023-12-06T01:01:39.334Z"
   },
   {
    "duration": 0,
    "start_time": "2023-12-06T01:01:39.335Z"
   },
   {
    "duration": 0,
    "start_time": "2023-12-06T01:01:39.336Z"
   },
   {
    "duration": 0,
    "start_time": "2023-12-06T01:01:39.337Z"
   },
   {
    "duration": 0,
    "start_time": "2023-12-06T01:01:39.337Z"
   },
   {
    "duration": 0,
    "start_time": "2023-12-06T01:01:39.338Z"
   },
   {
    "duration": 0,
    "start_time": "2023-12-06T01:01:39.339Z"
   },
   {
    "duration": 0,
    "start_time": "2023-12-06T01:01:39.340Z"
   },
   {
    "duration": 0,
    "start_time": "2023-12-06T01:01:39.341Z"
   },
   {
    "duration": 0,
    "start_time": "2023-12-06T01:01:39.342Z"
   },
   {
    "duration": 0,
    "start_time": "2023-12-06T01:01:39.342Z"
   },
   {
    "duration": 0,
    "start_time": "2023-12-06T01:01:39.343Z"
   },
   {
    "duration": 0,
    "start_time": "2023-12-06T01:01:39.344Z"
   },
   {
    "duration": 0,
    "start_time": "2023-12-06T01:01:39.345Z"
   },
   {
    "duration": 0,
    "start_time": "2023-12-06T01:01:39.346Z"
   },
   {
    "duration": 0,
    "start_time": "2023-12-06T01:01:39.347Z"
   },
   {
    "duration": 0,
    "start_time": "2023-12-06T01:01:39.348Z"
   },
   {
    "duration": 0,
    "start_time": "2023-12-06T01:01:39.348Z"
   },
   {
    "duration": 0,
    "start_time": "2023-12-06T01:01:39.349Z"
   },
   {
    "duration": 0,
    "start_time": "2023-12-06T01:01:39.350Z"
   },
   {
    "duration": 0,
    "start_time": "2023-12-06T01:01:39.351Z"
   },
   {
    "duration": 0,
    "start_time": "2023-12-06T01:01:39.352Z"
   },
   {
    "duration": 0,
    "start_time": "2023-12-06T01:01:39.353Z"
   },
   {
    "duration": 0,
    "start_time": "2023-12-06T01:01:39.353Z"
   },
   {
    "duration": 0,
    "start_time": "2023-12-06T01:01:39.415Z"
   },
   {
    "duration": 0,
    "start_time": "2023-12-06T01:01:39.416Z"
   },
   {
    "duration": 0,
    "start_time": "2023-12-06T01:01:39.417Z"
   },
   {
    "duration": 0,
    "start_time": "2023-12-06T01:01:39.418Z"
   },
   {
    "duration": 3,
    "start_time": "2023-12-06T01:03:01.294Z"
   },
   {
    "duration": 1532,
    "start_time": "2023-12-06T01:03:01.299Z"
   },
   {
    "duration": 8,
    "start_time": "2023-12-06T01:03:02.832Z"
   },
   {
    "duration": 12,
    "start_time": "2023-12-06T01:03:02.841Z"
   },
   {
    "duration": 19,
    "start_time": "2023-12-06T01:03:02.854Z"
   },
   {
    "duration": 15,
    "start_time": "2023-12-06T01:03:02.875Z"
   },
   {
    "duration": 94,
    "start_time": "2023-12-06T01:03:02.891Z"
   },
   {
    "duration": 96,
    "start_time": "2023-12-06T01:03:02.986Z"
   },
   {
    "duration": 41,
    "start_time": "2023-12-06T01:03:03.083Z"
   },
   {
    "duration": 150,
    "start_time": "2023-12-06T01:03:03.126Z"
   },
   {
    "duration": 4,
    "start_time": "2023-12-06T01:03:03.277Z"
   },
   {
    "duration": 37,
    "start_time": "2023-12-06T01:03:03.282Z"
   },
   {
    "duration": 122,
    "start_time": "2023-12-06T01:03:03.320Z"
   },
   {
    "duration": 86,
    "start_time": "2023-12-06T01:03:03.443Z"
   },
   {
    "duration": 843,
    "start_time": "2023-12-06T01:03:03.530Z"
   },
   {
    "duration": 10,
    "start_time": "2023-12-06T01:03:04.374Z"
   },
   {
    "duration": 7,
    "start_time": "2023-12-06T01:03:04.385Z"
   },
   {
    "duration": 33,
    "start_time": "2023-12-06T01:03:04.394Z"
   },
   {
    "duration": 12,
    "start_time": "2023-12-06T01:03:04.428Z"
   },
   {
    "duration": 56,
    "start_time": "2023-12-06T01:03:04.441Z"
   },
   {
    "duration": 4,
    "start_time": "2023-12-06T01:03:04.499Z"
   },
   {
    "duration": 10,
    "start_time": "2023-12-06T01:03:04.515Z"
   },
   {
    "duration": 4,
    "start_time": "2023-12-06T01:03:04.526Z"
   },
   {
    "duration": 84,
    "start_time": "2023-12-06T01:03:04.532Z"
   },
   {
    "duration": 9,
    "start_time": "2023-12-06T01:03:04.617Z"
   },
   {
    "duration": 28,
    "start_time": "2023-12-06T01:03:04.627Z"
   },
   {
    "duration": 47,
    "start_time": "2023-12-06T01:03:04.656Z"
   },
   {
    "duration": 36,
    "start_time": "2023-12-06T01:03:04.714Z"
   },
   {
    "duration": 8,
    "start_time": "2023-12-06T01:03:04.752Z"
   },
   {
    "duration": 371,
    "start_time": "2023-12-06T01:03:04.761Z"
   },
   {
    "duration": 809,
    "start_time": "2023-12-06T01:03:05.134Z"
   },
   {
    "duration": 15,
    "start_time": "2023-12-06T01:03:05.945Z"
   },
   {
    "duration": 2,
    "start_time": "2023-12-06T01:03:05.962Z"
   },
   {
    "duration": 20,
    "start_time": "2023-12-06T01:03:05.966Z"
   },
   {
    "duration": 722,
    "start_time": "2023-12-06T01:03:05.987Z"
   },
   {
    "duration": 24,
    "start_time": "2023-12-06T01:03:06.711Z"
   },
   {
    "duration": 5,
    "start_time": "2023-12-06T01:03:06.737Z"
   },
   {
    "duration": 16,
    "start_time": "2023-12-06T01:03:06.744Z"
   },
   {
    "duration": 29,
    "start_time": "2023-12-06T01:03:06.762Z"
   },
   {
    "duration": 122,
    "start_time": "2023-12-06T01:03:06.793Z"
   },
   {
    "duration": 54,
    "start_time": "2023-12-06T01:03:06.916Z"
   },
   {
    "duration": 489,
    "start_time": "2023-12-06T01:03:06.971Z"
   },
   {
    "duration": 33,
    "start_time": "2023-12-06T01:03:07.462Z"
   },
   {
    "duration": 5,
    "start_time": "2023-12-06T01:03:07.496Z"
   },
   {
    "duration": 5,
    "start_time": "2023-12-06T01:03:07.515Z"
   },
   {
    "duration": 294,
    "start_time": "2023-12-06T01:03:07.521Z"
   },
   {
    "duration": 9,
    "start_time": "2023-12-06T01:03:07.816Z"
   },
   {
    "duration": 434,
    "start_time": "2023-12-06T01:03:07.826Z"
   },
   {
    "duration": 10,
    "start_time": "2023-12-06T01:03:08.262Z"
   },
   {
    "duration": 254,
    "start_time": "2023-12-06T01:03:08.273Z"
   },
   {
    "duration": 20,
    "start_time": "2023-12-06T01:03:08.528Z"
   },
   {
    "duration": 9,
    "start_time": "2023-12-06T01:03:08.549Z"
   },
   {
    "duration": 7,
    "start_time": "2023-12-06T01:03:08.559Z"
   },
   {
    "duration": 28,
    "start_time": "2023-12-06T01:03:08.567Z"
   },
   {
    "duration": 12,
    "start_time": "2023-12-06T01:03:08.597Z"
   },
   {
    "duration": 17,
    "start_time": "2023-12-06T01:03:08.610Z"
   },
   {
    "duration": 7,
    "start_time": "2023-12-06T01:03:08.628Z"
   },
   {
    "duration": 40,
    "start_time": "2023-12-06T01:03:08.636Z"
   },
   {
    "duration": 3,
    "start_time": "2023-12-06T01:03:42.387Z"
   },
   {
    "duration": 5,
    "start_time": "2023-12-06T01:03:48.733Z"
   },
   {
    "duration": 27,
    "start_time": "2023-12-06T01:03:48.893Z"
   },
   {
    "duration": 37,
    "start_time": "2023-12-06T01:05:25.718Z"
   },
   {
    "duration": 6,
    "start_time": "2023-12-06T01:05:35.418Z"
   },
   {
    "duration": 6,
    "start_time": "2023-12-06T01:05:35.545Z"
   },
   {
    "duration": 1033,
    "start_time": "2023-12-06T01:07:19.972Z"
   },
   {
    "duration": 1253,
    "start_time": "2023-12-06T01:07:21.007Z"
   },
   {
    "duration": 10,
    "start_time": "2023-12-06T01:07:22.262Z"
   },
   {
    "duration": 15,
    "start_time": "2023-12-06T01:07:22.273Z"
   },
   {
    "duration": 22,
    "start_time": "2023-12-06T01:07:22.290Z"
   },
   {
    "duration": 15,
    "start_time": "2023-12-06T01:07:22.313Z"
   },
   {
    "duration": 67,
    "start_time": "2023-12-06T01:07:22.329Z"
   },
   {
    "duration": 104,
    "start_time": "2023-12-06T01:07:22.398Z"
   },
   {
    "duration": 43,
    "start_time": "2023-12-06T01:07:22.504Z"
   },
   {
    "duration": 168,
    "start_time": "2023-12-06T01:07:22.548Z"
   },
   {
    "duration": 3,
    "start_time": "2023-12-06T01:07:22.717Z"
   },
   {
    "duration": 31,
    "start_time": "2023-12-06T01:07:22.722Z"
   },
   {
    "duration": 115,
    "start_time": "2023-12-06T01:07:22.755Z"
   },
   {
    "duration": 84,
    "start_time": "2023-12-06T01:07:22.872Z"
   },
   {
    "duration": 760,
    "start_time": "2023-12-06T01:07:22.957Z"
   },
   {
    "duration": 9,
    "start_time": "2023-12-06T01:07:23.718Z"
   },
   {
    "duration": 7,
    "start_time": "2023-12-06T01:07:23.728Z"
   },
   {
    "duration": 38,
    "start_time": "2023-12-06T01:07:23.736Z"
   },
   {
    "duration": 10,
    "start_time": "2023-12-06T01:07:23.775Z"
   },
   {
    "duration": 64,
    "start_time": "2023-12-06T01:07:23.786Z"
   },
   {
    "duration": 3,
    "start_time": "2023-12-06T01:07:23.852Z"
   },
   {
    "duration": 62,
    "start_time": "2023-12-06T01:07:23.856Z"
   },
   {
    "duration": 3,
    "start_time": "2023-12-06T01:07:23.919Z"
   },
   {
    "duration": 75,
    "start_time": "2023-12-06T01:07:23.924Z"
   },
   {
    "duration": 8,
    "start_time": "2023-12-06T01:07:24.001Z"
   },
   {
    "duration": 20,
    "start_time": "2023-12-06T01:07:24.010Z"
   },
   {
    "duration": 40,
    "start_time": "2023-12-06T01:07:24.031Z"
   },
   {
    "duration": 48,
    "start_time": "2023-12-06T01:07:24.073Z"
   },
   {
    "duration": 8,
    "start_time": "2023-12-06T01:07:24.122Z"
   },
   {
    "duration": 337,
    "start_time": "2023-12-06T01:07:24.132Z"
   },
   {
    "duration": 809,
    "start_time": "2023-12-06T01:07:24.471Z"
   },
   {
    "duration": 20,
    "start_time": "2023-12-06T01:07:25.281Z"
   },
   {
    "duration": 13,
    "start_time": "2023-12-06T01:07:25.303Z"
   },
   {
    "duration": 12,
    "start_time": "2023-12-06T01:07:25.317Z"
   },
   {
    "duration": 635,
    "start_time": "2023-12-06T01:07:25.331Z"
   },
   {
    "duration": 22,
    "start_time": "2023-12-06T01:07:25.967Z"
   },
   {
    "duration": 5,
    "start_time": "2023-12-06T01:07:25.991Z"
   },
   {
    "duration": 148,
    "start_time": "2023-12-06T01:07:25.997Z"
   },
   {
    "duration": 28,
    "start_time": "2023-12-06T01:07:26.147Z"
   },
   {
    "duration": 161,
    "start_time": "2023-12-06T01:07:26.176Z"
   },
   {
    "duration": 74,
    "start_time": "2023-12-06T01:07:26.342Z"
   },
   {
    "duration": 499,
    "start_time": "2023-12-06T01:07:26.417Z"
   },
   {
    "duration": 36,
    "start_time": "2023-12-06T01:07:26.917Z"
   },
   {
    "duration": 4,
    "start_time": "2023-12-06T01:07:26.955Z"
   },
   {
    "duration": 7,
    "start_time": "2023-12-06T01:07:26.961Z"
   },
   {
    "duration": 277,
    "start_time": "2023-12-06T01:07:26.969Z"
   },
   {
    "duration": 8,
    "start_time": "2023-12-06T01:07:27.247Z"
   },
   {
    "duration": 498,
    "start_time": "2023-12-06T01:07:27.256Z"
   },
   {
    "duration": 10,
    "start_time": "2023-12-06T01:07:27.756Z"
   },
   {
    "duration": 307,
    "start_time": "2023-12-06T01:07:27.767Z"
   },
   {
    "duration": 20,
    "start_time": "2023-12-06T01:07:28.076Z"
   },
   {
    "duration": 11,
    "start_time": "2023-12-06T01:07:28.097Z"
   },
   {
    "duration": 27,
    "start_time": "2023-12-06T01:07:28.109Z"
   },
   {
    "duration": 29,
    "start_time": "2023-12-06T01:07:28.137Z"
   },
   {
    "duration": 51,
    "start_time": "2023-12-06T01:07:28.167Z"
   },
   {
    "duration": 46,
    "start_time": "2023-12-06T01:07:28.219Z"
   },
   {
    "duration": 27,
    "start_time": "2023-12-06T01:07:28.266Z"
   },
   {
    "duration": 32,
    "start_time": "2023-12-06T01:07:28.294Z"
   },
   {
    "duration": 13,
    "start_time": "2023-12-06T01:09:00.392Z"
   },
   {
    "duration": 85,
    "start_time": "2023-12-06T01:19:23.894Z"
   },
   {
    "duration": 37,
    "start_time": "2023-12-06T01:23:44.080Z"
   },
   {
    "duration": 28,
    "start_time": "2023-12-06T01:24:01.307Z"
   },
   {
    "duration": 15,
    "start_time": "2023-12-06T01:24:16.053Z"
   },
   {
    "duration": 82,
    "start_time": "2023-12-06T01:24:22.150Z"
   },
   {
    "duration": 15,
    "start_time": "2023-12-06T01:25:01.623Z"
   },
   {
    "duration": 92,
    "start_time": "2023-12-06T01:25:10.655Z"
   },
   {
    "duration": 14,
    "start_time": "2023-12-06T01:25:11.622Z"
   },
   {
    "duration": 9,
    "start_time": "2023-12-06T01:25:52.732Z"
   },
   {
    "duration": 3,
    "start_time": "2023-12-06T01:26:26.329Z"
   },
   {
    "duration": 14,
    "start_time": "2023-12-06T01:26:30.175Z"
   },
   {
    "duration": 3,
    "start_time": "2023-12-06T01:26:37.792Z"
   },
   {
    "duration": 68,
    "start_time": "2023-12-06T01:26:38.603Z"
   },
   {
    "duration": 13,
    "start_time": "2023-12-06T01:26:40.120Z"
   },
   {
    "duration": 54,
    "start_time": "2023-12-06T01:27:41.281Z"
   },
   {
    "duration": 4,
    "start_time": "2023-12-06T01:27:42.224Z"
   },
   {
    "duration": 14,
    "start_time": "2023-12-06T01:27:44.372Z"
   },
   {
    "duration": 3,
    "start_time": "2023-12-06T01:27:45.680Z"
   },
   {
    "duration": 68,
    "start_time": "2023-12-06T01:28:11.857Z"
   },
   {
    "duration": 13,
    "start_time": "2023-12-06T01:28:13.116Z"
   },
   {
    "duration": 19,
    "start_time": "2023-12-06T01:28:53.051Z"
   },
   {
    "duration": 10,
    "start_time": "2023-12-06T01:28:54.230Z"
   },
   {
    "duration": 45,
    "start_time": "2023-12-06T01:28:56.578Z"
   },
   {
    "duration": 51,
    "start_time": "2023-12-06T01:29:04.981Z"
   },
   {
    "duration": 3,
    "start_time": "2023-12-06T01:29:06.060Z"
   },
   {
    "duration": 14,
    "start_time": "2023-12-06T01:29:07.876Z"
   },
   {
    "duration": 3,
    "start_time": "2023-12-06T01:29:17.826Z"
   },
   {
    "duration": 68,
    "start_time": "2023-12-06T01:29:19.583Z"
   },
   {
    "duration": 4,
    "start_time": "2023-12-06T01:29:22.609Z"
   },
   {
    "duration": 23,
    "start_time": "2023-12-06T01:29:23.096Z"
   },
   {
    "duration": 40,
    "start_time": "2023-12-06T01:29:26.188Z"
   },
   {
    "duration": 34,
    "start_time": "2023-12-06T01:29:33.854Z"
   },
   {
    "duration": 10,
    "start_time": "2023-12-06T01:29:36.041Z"
   },
   {
    "duration": 3,
    "start_time": "2023-12-06T01:30:28.296Z"
   },
   {
    "duration": 27,
    "start_time": "2023-12-06T01:30:28.625Z"
   },
   {
    "duration": 99,
    "start_time": "2023-12-06T01:30:28.801Z"
   },
   {
    "duration": 41,
    "start_time": "2023-12-06T01:30:28.961Z"
   },
   {
    "duration": 8,
    "start_time": "2023-12-06T01:30:29.409Z"
   },
   {
    "duration": 11,
    "start_time": "2023-12-06T01:30:32.293Z"
   },
   {
    "duration": 7,
    "start_time": "2023-12-06T01:31:12.209Z"
   },
   {
    "duration": 19,
    "start_time": "2023-12-06T01:31:12.968Z"
   },
   {
    "duration": 9,
    "start_time": "2023-12-06T01:31:13.546Z"
   },
   {
    "duration": 30,
    "start_time": "2023-12-06T01:31:17.377Z"
   },
   {
    "duration": 4,
    "start_time": "2023-12-06T01:31:20.407Z"
   },
   {
    "duration": 11,
    "start_time": "2023-12-06T01:31:34.413Z"
   },
   {
    "duration": 15,
    "start_time": "2023-12-06T01:31:39.565Z"
   },
   {
    "duration": 3,
    "start_time": "2023-12-06T01:31:42.650Z"
   },
   {
    "duration": 91,
    "start_time": "2023-12-06T01:31:44.919Z"
   },
   {
    "duration": 3,
    "start_time": "2023-12-06T01:31:45.887Z"
   },
   {
    "duration": 250,
    "start_time": "2023-12-06T01:32:15.993Z"
   },
   {
    "duration": 3,
    "start_time": "2023-12-06T01:32:28.432Z"
   },
   {
    "duration": 221,
    "start_time": "2023-12-06T01:32:29.937Z"
   },
   {
    "duration": 419,
    "start_time": "2023-12-06T01:32:31.646Z"
   },
   {
    "duration": 35,
    "start_time": "2023-12-06T01:32:33.377Z"
   },
   {
    "duration": 61,
    "start_time": "2023-12-06T01:32:36.661Z"
   },
   {
    "duration": 7,
    "start_time": "2023-12-06T01:33:22.528Z"
   },
   {
    "duration": 19,
    "start_time": "2023-12-06T01:33:22.672Z"
   },
   {
    "duration": 9,
    "start_time": "2023-12-06T01:33:23.229Z"
   },
   {
    "duration": 31,
    "start_time": "2023-12-06T01:33:25.257Z"
   },
   {
    "duration": 96,
    "start_time": "2023-12-06T01:33:26.948Z"
   },
   {
    "duration": 69,
    "start_time": "2023-12-06T01:33:36.761Z"
   },
   {
    "duration": 3,
    "start_time": "2023-12-06T01:33:38.292Z"
   },
   {
    "duration": 199,
    "start_time": "2023-12-06T01:33:40.466Z"
   },
   {
    "duration": 188,
    "start_time": "2023-12-06T01:35:02.073Z"
   },
   {
    "duration": 87,
    "start_time": "2023-12-06T01:35:02.456Z"
   },
   {
    "duration": 231,
    "start_time": "2023-12-06T01:35:03.458Z"
   },
   {
    "duration": 301,
    "start_time": "2023-12-06T01:35:04.300Z"
   },
   {
    "duration": 42,
    "start_time": "2023-12-06T01:35:08.853Z"
   },
   {
    "duration": 184,
    "start_time": "2023-12-06T01:36:13.357Z"
   },
   {
    "duration": 187,
    "start_time": "2023-12-06T01:36:26.437Z"
   },
   {
    "duration": 54,
    "start_time": "2023-12-06T01:36:26.934Z"
   },
   {
    "duration": 228,
    "start_time": "2023-12-06T01:36:32.857Z"
   },
   {
    "duration": 219,
    "start_time": "2023-12-06T01:36:42.911Z"
   },
   {
    "duration": 1025,
    "start_time": "2023-12-06T01:37:08.143Z"
   },
   {
    "duration": 1111,
    "start_time": "2023-12-06T01:37:09.170Z"
   },
   {
    "duration": 12,
    "start_time": "2023-12-06T01:37:10.283Z"
   },
   {
    "duration": 34,
    "start_time": "2023-12-06T01:37:10.296Z"
   },
   {
    "duration": 9,
    "start_time": "2023-12-06T01:37:10.332Z"
   },
   {
    "duration": 7,
    "start_time": "2023-12-06T01:37:10.343Z"
   },
   {
    "duration": 90,
    "start_time": "2023-12-06T01:37:10.352Z"
   },
   {
    "duration": 106,
    "start_time": "2023-12-06T01:37:10.443Z"
   },
   {
    "duration": 40,
    "start_time": "2023-12-06T01:37:10.551Z"
   },
   {
    "duration": 173,
    "start_time": "2023-12-06T01:37:10.593Z"
   },
   {
    "duration": 4,
    "start_time": "2023-12-06T01:37:10.767Z"
   },
   {
    "duration": 24,
    "start_time": "2023-12-06T01:37:10.772Z"
   },
   {
    "duration": 137,
    "start_time": "2023-12-06T01:37:10.798Z"
   },
   {
    "duration": 83,
    "start_time": "2023-12-06T01:37:10.937Z"
   },
   {
    "duration": 790,
    "start_time": "2023-12-06T01:37:11.022Z"
   },
   {
    "duration": 15,
    "start_time": "2023-12-06T01:37:11.815Z"
   },
   {
    "duration": 10,
    "start_time": "2023-12-06T01:37:11.831Z"
   },
   {
    "duration": 18,
    "start_time": "2023-12-06T01:37:11.842Z"
   },
   {
    "duration": 10,
    "start_time": "2023-12-06T01:37:11.861Z"
   },
   {
    "duration": 74,
    "start_time": "2023-12-06T01:37:11.872Z"
   },
   {
    "duration": 4,
    "start_time": "2023-12-06T01:37:11.947Z"
   },
   {
    "duration": 9,
    "start_time": "2023-12-06T01:37:11.953Z"
   },
   {
    "duration": 3,
    "start_time": "2023-12-06T01:37:11.964Z"
   },
   {
    "duration": 216,
    "start_time": "2023-12-06T01:37:11.969Z"
   },
   {
    "duration": 80,
    "start_time": "2023-12-06T01:37:12.187Z"
   },
   {
    "duration": 256,
    "start_time": "2023-12-06T01:37:12.269Z"
   },
   {
    "duration": 298,
    "start_time": "2023-12-06T01:37:12.526Z"
   },
   {
    "duration": 51,
    "start_time": "2023-12-06T01:37:12.827Z"
   },
   {
    "duration": 79,
    "start_time": "2023-12-06T01:37:12.879Z"
   },
   {
    "duration": 379,
    "start_time": "2023-12-06T01:37:12.959Z"
   },
   {
    "duration": 793,
    "start_time": "2023-12-06T01:37:13.339Z"
   },
   {
    "duration": 14,
    "start_time": "2023-12-06T01:37:14.133Z"
   },
   {
    "duration": 18,
    "start_time": "2023-12-06T01:37:14.148Z"
   },
   {
    "duration": 42,
    "start_time": "2023-12-06T01:37:14.167Z"
   },
   {
    "duration": 671,
    "start_time": "2023-12-06T01:37:14.210Z"
   },
   {
    "duration": 218,
    "start_time": "2023-12-06T01:37:14.883Z"
   },
   {
    "duration": 6,
    "start_time": "2023-12-06T01:37:15.102Z"
   },
   {
    "duration": 161,
    "start_time": "2023-12-06T01:37:15.115Z"
   },
   {
    "duration": 39,
    "start_time": "2023-12-06T01:37:15.277Z"
   },
   {
    "duration": 146,
    "start_time": "2023-12-06T01:37:15.317Z"
   },
   {
    "duration": 563,
    "start_time": "2023-12-06T01:37:15.465Z"
   },
   {
    "duration": 5448,
    "start_time": "2023-12-06T01:37:16.029Z"
   },
   {
    "duration": 434,
    "start_time": "2023-12-06T01:37:21.479Z"
   },
   {
    "duration": 8,
    "start_time": "2023-12-06T01:37:21.915Z"
   },
   {
    "duration": 8,
    "start_time": "2023-12-06T01:37:21.924Z"
   },
   {
    "duration": 3,
    "start_time": "2023-12-06T01:37:24.215Z"
   },
   {
    "duration": 999,
    "start_time": "2023-12-06T01:37:24.220Z"
   },
   {
    "duration": 7,
    "start_time": "2023-12-06T01:37:25.221Z"
   },
   {
    "duration": 17,
    "start_time": "2023-12-06T01:37:25.229Z"
   },
   {
    "duration": 26,
    "start_time": "2023-12-06T01:37:25.247Z"
   },
   {
    "duration": 9,
    "start_time": "2023-12-06T01:37:25.274Z"
   },
   {
    "duration": 72,
    "start_time": "2023-12-06T01:37:25.284Z"
   },
   {
    "duration": 95,
    "start_time": "2023-12-06T01:37:25.357Z"
   },
   {
    "duration": 41,
    "start_time": "2023-12-06T01:37:25.453Z"
   },
   {
    "duration": 142,
    "start_time": "2023-12-06T01:37:25.495Z"
   },
   {
    "duration": 3,
    "start_time": "2023-12-06T01:37:25.639Z"
   },
   {
    "duration": 24,
    "start_time": "2023-12-06T01:37:25.644Z"
   },
   {
    "duration": 141,
    "start_time": "2023-12-06T01:37:25.669Z"
   },
   {
    "duration": 78,
    "start_time": "2023-12-06T01:37:25.812Z"
   },
   {
    "duration": 866,
    "start_time": "2023-12-06T01:37:25.891Z"
   },
   {
    "duration": 9,
    "start_time": "2023-12-06T01:37:26.758Z"
   },
   {
    "duration": 8,
    "start_time": "2023-12-06T01:37:26.768Z"
   },
   {
    "duration": 38,
    "start_time": "2023-12-06T01:37:26.777Z"
   },
   {
    "duration": 15,
    "start_time": "2023-12-06T01:37:26.817Z"
   },
   {
    "duration": 57,
    "start_time": "2023-12-06T01:37:26.833Z"
   },
   {
    "duration": 4,
    "start_time": "2023-12-06T01:37:26.892Z"
   },
   {
    "duration": 23,
    "start_time": "2023-12-06T01:37:26.897Z"
   },
   {
    "duration": 3,
    "start_time": "2023-12-06T01:37:26.921Z"
   },
   {
    "duration": 206,
    "start_time": "2023-12-06T01:37:26.925Z"
   },
   {
    "duration": 54,
    "start_time": "2023-12-06T01:37:27.132Z"
   },
   {
    "duration": 256,
    "start_time": "2023-12-06T01:37:27.188Z"
   },
   {
    "duration": 292,
    "start_time": "2023-12-06T01:37:27.445Z"
   },
   {
    "duration": 37,
    "start_time": "2023-12-06T01:37:27.738Z"
   },
   {
    "duration": 111,
    "start_time": "2023-12-06T01:37:27.776Z"
   },
   {
    "duration": 403,
    "start_time": "2023-12-06T01:37:27.888Z"
   },
   {
    "duration": 812,
    "start_time": "2023-12-06T01:37:28.293Z"
   },
   {
    "duration": 17,
    "start_time": "2023-12-06T01:37:29.107Z"
   },
   {
    "duration": 16,
    "start_time": "2023-12-06T01:37:29.125Z"
   },
   {
    "duration": 41,
    "start_time": "2023-12-06T01:37:29.142Z"
   },
   {
    "duration": 748,
    "start_time": "2023-12-06T01:37:29.184Z"
   },
   {
    "duration": 232,
    "start_time": "2023-12-06T01:37:29.934Z"
   },
   {
    "duration": 6,
    "start_time": "2023-12-06T01:37:30.167Z"
   },
   {
    "duration": 53,
    "start_time": "2023-12-06T01:37:30.174Z"
   },
   {
    "duration": 53,
    "start_time": "2023-12-06T01:37:30.228Z"
   },
   {
    "duration": 129,
    "start_time": "2023-12-06T01:37:30.282Z"
   },
   {
    "duration": 574,
    "start_time": "2023-12-06T01:37:30.413Z"
   },
   {
    "duration": 5407,
    "start_time": "2023-12-06T01:37:30.988Z"
   },
   {
    "duration": 404,
    "start_time": "2023-12-06T01:37:36.397Z"
   },
   {
    "duration": 13,
    "start_time": "2023-12-06T01:37:36.802Z"
   },
   {
    "duration": 6,
    "start_time": "2023-12-06T01:37:36.817Z"
   },
   {
    "duration": 760,
    "start_time": "2023-12-06T01:37:36.824Z"
   },
   {
    "duration": 54,
    "start_time": "2023-12-06T01:37:37.585Z"
   },
   {
    "duration": 415,
    "start_time": "2023-12-06T01:37:37.640Z"
   },
   {
    "duration": 10,
    "start_time": "2023-12-06T01:37:38.056Z"
   },
   {
    "duration": 565,
    "start_time": "2023-12-06T01:37:38.067Z"
   },
   {
    "duration": 68,
    "start_time": "2023-12-06T01:37:38.633Z"
   },
   {
    "duration": 16,
    "start_time": "2023-12-06T01:37:38.702Z"
   },
   {
    "duration": 7,
    "start_time": "2023-12-06T01:37:38.719Z"
   },
   {
    "duration": 8,
    "start_time": "2023-12-06T01:37:38.727Z"
   },
   {
    "duration": 7,
    "start_time": "2023-12-06T01:37:38.737Z"
   },
   {
    "duration": 83,
    "start_time": "2023-12-06T01:37:38.746Z"
   },
   {
    "duration": 4,
    "start_time": "2023-12-06T01:37:38.830Z"
   },
   {
    "duration": 65,
    "start_time": "2023-12-06T01:37:38.836Z"
   },
   {
    "duration": 227,
    "start_time": "2023-12-06T01:38:21.023Z"
   },
   {
    "duration": 188,
    "start_time": "2023-12-06T01:38:30.634Z"
   },
   {
    "duration": 84,
    "start_time": "2023-12-06T01:38:34.895Z"
   },
   {
    "duration": 281,
    "start_time": "2023-12-06T01:38:36.402Z"
   },
   {
    "duration": 98,
    "start_time": "2023-12-06T01:38:41.902Z"
   },
   {
    "duration": 191,
    "start_time": "2023-12-06T01:46:29.063Z"
   },
   {
    "duration": 92,
    "start_time": "2023-12-06T01:46:45.437Z"
   },
   {
    "duration": 15,
    "start_time": "2023-12-06T01:46:48.826Z"
   },
   {
    "duration": 87,
    "start_time": "2023-12-06T01:47:21.151Z"
   },
   {
    "duration": 8,
    "start_time": "2023-12-06T01:47:28.256Z"
   },
   {
    "duration": 12,
    "start_time": "2023-12-06T01:47:38.464Z"
   },
   {
    "duration": 43,
    "start_time": "2023-12-06T01:47:42.522Z"
   },
   {
    "duration": 9,
    "start_time": "2023-12-06T01:47:47.642Z"
   },
   {
    "duration": 1076,
    "start_time": "2023-12-06T01:47:59.798Z"
   },
   {
    "duration": 963,
    "start_time": "2023-12-06T01:48:00.875Z"
   },
   {
    "duration": 11,
    "start_time": "2023-12-06T01:48:01.840Z"
   },
   {
    "duration": 29,
    "start_time": "2023-12-06T01:48:01.853Z"
   },
   {
    "duration": 21,
    "start_time": "2023-12-06T01:48:01.883Z"
   },
   {
    "duration": 43,
    "start_time": "2023-12-06T01:48:01.906Z"
   },
   {
    "duration": 95,
    "start_time": "2023-12-06T01:48:01.950Z"
   },
   {
    "duration": 3,
    "start_time": "2023-12-06T01:48:07.929Z"
   },
   {
    "duration": 1065,
    "start_time": "2023-12-06T01:48:07.933Z"
   },
   {
    "duration": 8,
    "start_time": "2023-12-06T01:48:08.999Z"
   },
   {
    "duration": 8,
    "start_time": "2023-12-06T01:48:09.008Z"
   },
   {
    "duration": 9,
    "start_time": "2023-12-06T01:48:09.017Z"
   },
   {
    "duration": 7,
    "start_time": "2023-12-06T01:48:09.028Z"
   },
   {
    "duration": 105,
    "start_time": "2023-12-06T01:48:09.037Z"
   },
   {
    "duration": 96,
    "start_time": "2023-12-06T01:48:09.144Z"
   },
   {
    "duration": 42,
    "start_time": "2023-12-06T01:48:09.242Z"
   },
   {
    "duration": 144,
    "start_time": "2023-12-06T01:48:09.286Z"
   },
   {
    "duration": 4,
    "start_time": "2023-12-06T01:48:09.431Z"
   },
   {
    "duration": 26,
    "start_time": "2023-12-06T01:48:09.437Z"
   },
   {
    "duration": 124,
    "start_time": "2023-12-06T01:48:09.465Z"
   },
   {
    "duration": 82,
    "start_time": "2023-12-06T01:48:09.590Z"
   },
   {
    "duration": 873,
    "start_time": "2023-12-06T01:48:09.674Z"
   },
   {
    "duration": 11,
    "start_time": "2023-12-06T01:48:10.549Z"
   },
   {
    "duration": 9,
    "start_time": "2023-12-06T01:48:10.561Z"
   },
   {
    "duration": 51,
    "start_time": "2023-12-06T01:48:10.572Z"
   },
   {
    "duration": 15,
    "start_time": "2023-12-06T01:48:10.624Z"
   },
   {
    "duration": 76,
    "start_time": "2023-12-06T01:48:10.640Z"
   },
   {
    "duration": 5,
    "start_time": "2023-12-06T01:48:10.717Z"
   },
   {
    "duration": 11,
    "start_time": "2023-12-06T01:48:10.723Z"
   },
   {
    "duration": 3,
    "start_time": "2023-12-06T01:48:10.735Z"
   },
   {
    "duration": 87,
    "start_time": "2023-12-06T01:48:10.743Z"
   },
   {
    "duration": 13,
    "start_time": "2023-12-06T01:48:10.831Z"
   },
   {
    "duration": 34,
    "start_time": "2023-12-06T01:48:10.845Z"
   },
   {
    "duration": 62,
    "start_time": "2023-12-06T01:48:10.880Z"
   },
   {
    "duration": 33,
    "start_time": "2023-12-06T01:48:10.943Z"
   },
   {
    "duration": 6,
    "start_time": "2023-12-06T01:48:10.978Z"
   },
   {
    "duration": 373,
    "start_time": "2023-12-06T01:48:10.986Z"
   },
   {
    "duration": 771,
    "start_time": "2023-12-06T01:48:11.360Z"
   },
   {
    "duration": 15,
    "start_time": "2023-12-06T01:48:12.132Z"
   },
   {
    "duration": 2,
    "start_time": "2023-12-06T01:48:12.147Z"
   },
   {
    "duration": 8,
    "start_time": "2023-12-06T01:48:12.151Z"
   },
   {
    "duration": 746,
    "start_time": "2023-12-06T01:48:12.160Z"
   },
   {
    "duration": 21,
    "start_time": "2023-12-06T01:48:12.907Z"
   },
   {
    "duration": 5,
    "start_time": "2023-12-06T01:48:12.929Z"
   },
   {
    "duration": 12,
    "start_time": "2023-12-06T01:48:12.935Z"
   },
   {
    "duration": 27,
    "start_time": "2023-12-06T01:48:12.948Z"
   },
   {
    "duration": 128,
    "start_time": "2023-12-06T01:48:12.976Z"
   },
   {
    "duration": 53,
    "start_time": "2023-12-06T01:48:13.105Z"
   },
   {
    "duration": 555,
    "start_time": "2023-12-06T01:48:13.159Z"
   },
   {
    "duration": 38,
    "start_time": "2023-12-06T01:48:13.715Z"
   },
   {
    "duration": 5,
    "start_time": "2023-12-06T01:48:13.754Z"
   },
   {
    "duration": 18,
    "start_time": "2023-12-06T01:48:13.760Z"
   },
   {
    "duration": 288,
    "start_time": "2023-12-06T01:48:13.779Z"
   },
   {
    "duration": 8,
    "start_time": "2023-12-06T01:48:14.068Z"
   },
   {
    "duration": 436,
    "start_time": "2023-12-06T01:48:14.077Z"
   },
   {
    "duration": 10,
    "start_time": "2023-12-06T01:48:14.515Z"
   },
   {
    "duration": 258,
    "start_time": "2023-12-06T01:48:14.526Z"
   },
   {
    "duration": 19,
    "start_time": "2023-12-06T01:48:14.785Z"
   },
   {
    "duration": 11,
    "start_time": "2023-12-06T01:48:14.806Z"
   },
   {
    "duration": 6,
    "start_time": "2023-12-06T01:48:14.819Z"
   },
   {
    "duration": 8,
    "start_time": "2023-12-06T01:48:14.826Z"
   },
   {
    "duration": 8,
    "start_time": "2023-12-06T01:48:14.835Z"
   },
   {
    "duration": 14,
    "start_time": "2023-12-06T01:48:14.845Z"
   },
   {
    "duration": 4,
    "start_time": "2023-12-06T01:48:14.861Z"
   },
   {
    "duration": 59,
    "start_time": "2023-12-06T01:48:14.866Z"
   },
   {
    "duration": 1071,
    "start_time": "2023-12-06T01:48:43.195Z"
   },
   {
    "duration": 844,
    "start_time": "2023-12-06T01:48:44.268Z"
   },
   {
    "duration": 11,
    "start_time": "2023-12-06T01:48:45.113Z"
   },
   {
    "duration": 10,
    "start_time": "2023-12-06T01:48:45.126Z"
   },
   {
    "duration": 24,
    "start_time": "2023-12-06T01:48:45.137Z"
   },
   {
    "duration": 7,
    "start_time": "2023-12-06T01:48:45.163Z"
   },
   {
    "duration": 95,
    "start_time": "2023-12-06T01:48:45.171Z"
   },
   {
    "duration": 104,
    "start_time": "2023-12-06T01:48:45.267Z"
   },
   {
    "duration": 46,
    "start_time": "2023-12-06T01:48:45.372Z"
   },
   {
    "duration": 160,
    "start_time": "2023-12-06T01:48:45.420Z"
   },
   {
    "duration": 3,
    "start_time": "2023-12-06T01:48:45.582Z"
   },
   {
    "duration": 34,
    "start_time": "2023-12-06T01:48:45.586Z"
   },
   {
    "duration": 112,
    "start_time": "2023-12-06T01:48:45.621Z"
   },
   {
    "duration": 82,
    "start_time": "2023-12-06T01:48:45.734Z"
   },
   {
    "duration": 746,
    "start_time": "2023-12-06T01:48:45.817Z"
   },
   {
    "duration": 9,
    "start_time": "2023-12-06T01:48:46.564Z"
   },
   {
    "duration": 8,
    "start_time": "2023-12-06T01:48:46.574Z"
   },
   {
    "duration": 32,
    "start_time": "2023-12-06T01:48:46.583Z"
   },
   {
    "duration": 10,
    "start_time": "2023-12-06T01:48:46.617Z"
   },
   {
    "duration": 55,
    "start_time": "2023-12-06T01:48:46.629Z"
   },
   {
    "duration": 3,
    "start_time": "2023-12-06T01:48:46.686Z"
   },
   {
    "duration": 24,
    "start_time": "2023-12-06T01:48:46.691Z"
   },
   {
    "duration": 3,
    "start_time": "2023-12-06T01:48:46.716Z"
   },
   {
    "duration": 67,
    "start_time": "2023-12-06T01:48:46.720Z"
   },
   {
    "duration": 7,
    "start_time": "2023-12-06T01:48:46.789Z"
   },
   {
    "duration": 50,
    "start_time": "2023-12-06T01:48:46.797Z"
   },
   {
    "duration": 41,
    "start_time": "2023-12-06T01:48:46.848Z"
   },
   {
    "duration": 42,
    "start_time": "2023-12-06T01:48:46.892Z"
   },
   {
    "duration": 7,
    "start_time": "2023-12-06T01:48:46.936Z"
   },
   {
    "duration": 345,
    "start_time": "2023-12-06T01:48:46.944Z"
   },
   {
    "duration": 804,
    "start_time": "2023-12-06T01:48:47.290Z"
   },
   {
    "duration": 21,
    "start_time": "2023-12-06T01:48:48.095Z"
   },
   {
    "duration": 2,
    "start_time": "2023-12-06T01:48:48.117Z"
   },
   {
    "duration": 8,
    "start_time": "2023-12-06T01:48:48.120Z"
   },
   {
    "duration": 630,
    "start_time": "2023-12-06T01:48:48.130Z"
   },
   {
    "duration": 24,
    "start_time": "2023-12-06T01:48:48.761Z"
   },
   {
    "duration": 5,
    "start_time": "2023-12-06T01:48:48.787Z"
   },
   {
    "duration": 147,
    "start_time": "2023-12-06T01:48:48.793Z"
   },
   {
    "duration": 28,
    "start_time": "2023-12-06T01:48:48.941Z"
   },
   {
    "duration": 164,
    "start_time": "2023-12-06T01:48:48.970Z"
   },
   {
    "duration": 89,
    "start_time": "2023-12-06T01:48:49.135Z"
   },
   {
    "duration": 480,
    "start_time": "2023-12-06T01:48:49.225Z"
   },
   {
    "duration": 45,
    "start_time": "2023-12-06T01:48:49.707Z"
   },
   {
    "duration": 5,
    "start_time": "2023-12-06T01:48:49.754Z"
   },
   {
    "duration": 4,
    "start_time": "2023-12-06T01:48:49.760Z"
   },
   {
    "duration": 273,
    "start_time": "2023-12-06T01:48:49.765Z"
   },
   {
    "duration": 12,
    "start_time": "2023-12-06T01:48:50.040Z"
   },
   {
    "duration": 525,
    "start_time": "2023-12-06T01:48:50.053Z"
   },
   {
    "duration": 10,
    "start_time": "2023-12-06T01:48:50.579Z"
   },
   {
    "duration": 349,
    "start_time": "2023-12-06T01:48:50.591Z"
   },
   {
    "duration": 0,
    "start_time": "2023-12-06T01:48:50.941Z"
   },
   {
    "duration": 0,
    "start_time": "2023-12-06T01:48:50.942Z"
   },
   {
    "duration": 0,
    "start_time": "2023-12-06T01:48:50.943Z"
   },
   {
    "duration": 0,
    "start_time": "2023-12-06T01:48:50.944Z"
   },
   {
    "duration": 0,
    "start_time": "2023-12-06T01:48:50.944Z"
   },
   {
    "duration": 0,
    "start_time": "2023-12-06T01:48:50.945Z"
   },
   {
    "duration": 0,
    "start_time": "2023-12-06T01:48:50.946Z"
   },
   {
    "duration": 0,
    "start_time": "2023-12-06T01:48:50.946Z"
   },
   {
    "duration": 3,
    "start_time": "2023-12-06T01:49:00.996Z"
   },
   {
    "duration": 840,
    "start_time": "2023-12-06T01:49:01.001Z"
   },
   {
    "duration": 8,
    "start_time": "2023-12-06T01:49:01.843Z"
   },
   {
    "duration": 31,
    "start_time": "2023-12-06T01:49:01.852Z"
   },
   {
    "duration": 40,
    "start_time": "2023-12-06T01:49:01.884Z"
   },
   {
    "duration": 39,
    "start_time": "2023-12-06T01:49:01.926Z"
   },
   {
    "duration": 97,
    "start_time": "2023-12-06T01:49:01.967Z"
   },
   {
    "duration": 99,
    "start_time": "2023-12-06T01:49:02.066Z"
   },
   {
    "duration": 48,
    "start_time": "2023-12-06T01:49:02.167Z"
   },
   {
    "duration": 169,
    "start_time": "2023-12-06T01:49:02.217Z"
   },
   {
    "duration": 4,
    "start_time": "2023-12-06T01:49:02.387Z"
   },
   {
    "duration": 60,
    "start_time": "2023-12-06T01:49:02.392Z"
   },
   {
    "duration": 111,
    "start_time": "2023-12-06T01:49:02.453Z"
   },
   {
    "duration": 76,
    "start_time": "2023-12-06T01:49:02.566Z"
   },
   {
    "duration": 820,
    "start_time": "2023-12-06T01:49:02.644Z"
   },
   {
    "duration": 9,
    "start_time": "2023-12-06T01:49:03.465Z"
   },
   {
    "duration": 7,
    "start_time": "2023-12-06T01:49:03.476Z"
   },
   {
    "duration": 32,
    "start_time": "2023-12-06T01:49:03.484Z"
   },
   {
    "duration": 10,
    "start_time": "2023-12-06T01:49:03.518Z"
   },
   {
    "duration": 56,
    "start_time": "2023-12-06T01:49:03.529Z"
   },
   {
    "duration": 3,
    "start_time": "2023-12-06T01:49:03.587Z"
   },
   {
    "duration": 24,
    "start_time": "2023-12-06T01:49:03.592Z"
   },
   {
    "duration": 7,
    "start_time": "2023-12-06T01:49:03.617Z"
   },
   {
    "duration": 74,
    "start_time": "2023-12-06T01:49:03.625Z"
   },
   {
    "duration": 19,
    "start_time": "2023-12-06T01:49:03.700Z"
   },
   {
    "duration": 34,
    "start_time": "2023-12-06T01:49:03.721Z"
   },
   {
    "duration": 39,
    "start_time": "2023-12-06T01:49:03.756Z"
   },
   {
    "duration": 34,
    "start_time": "2023-12-06T01:49:03.814Z"
   },
   {
    "duration": 7,
    "start_time": "2023-12-06T01:49:03.849Z"
   },
   {
    "duration": 319,
    "start_time": "2023-12-06T01:49:03.857Z"
   },
   {
    "duration": 802,
    "start_time": "2023-12-06T01:49:04.177Z"
   },
   {
    "duration": 15,
    "start_time": "2023-12-06T01:49:04.980Z"
   },
   {
    "duration": 2,
    "start_time": "2023-12-06T01:49:04.996Z"
   },
   {
    "duration": 23,
    "start_time": "2023-12-06T01:49:04.999Z"
   },
   {
    "duration": 766,
    "start_time": "2023-12-06T01:49:05.024Z"
   },
   {
    "duration": 30,
    "start_time": "2023-12-06T01:49:05.791Z"
   },
   {
    "duration": 6,
    "start_time": "2023-12-06T01:49:05.822Z"
   },
   {
    "duration": 18,
    "start_time": "2023-12-06T01:49:05.829Z"
   },
   {
    "duration": 37,
    "start_time": "2023-12-06T01:49:05.849Z"
   },
   {
    "duration": 97,
    "start_time": "2023-12-06T01:49:05.888Z"
   },
   {
    "duration": 61,
    "start_time": "2023-12-06T01:49:05.986Z"
   },
   {
    "duration": 476,
    "start_time": "2023-12-06T01:49:06.048Z"
   },
   {
    "duration": 60,
    "start_time": "2023-12-06T01:49:06.525Z"
   },
   {
    "duration": 5,
    "start_time": "2023-12-06T01:49:06.586Z"
   },
   {
    "duration": 5,
    "start_time": "2023-12-06T01:49:06.592Z"
   },
   {
    "duration": 304,
    "start_time": "2023-12-06T01:49:06.598Z"
   },
   {
    "duration": 11,
    "start_time": "2023-12-06T01:49:06.904Z"
   },
   {
    "duration": 435,
    "start_time": "2023-12-06T01:49:06.916Z"
   },
   {
    "duration": 11,
    "start_time": "2023-12-06T01:49:07.352Z"
   },
   {
    "duration": 214,
    "start_time": "2023-12-06T01:49:07.364Z"
   },
   {
    "duration": 0,
    "start_time": "2023-12-06T01:49:07.580Z"
   },
   {
    "duration": 0,
    "start_time": "2023-12-06T01:49:07.581Z"
   },
   {
    "duration": 0,
    "start_time": "2023-12-06T01:49:07.582Z"
   },
   {
    "duration": 0,
    "start_time": "2023-12-06T01:49:07.583Z"
   },
   {
    "duration": 0,
    "start_time": "2023-12-06T01:49:07.584Z"
   },
   {
    "duration": 0,
    "start_time": "2023-12-06T01:49:07.586Z"
   },
   {
    "duration": 0,
    "start_time": "2023-12-06T01:49:07.587Z"
   },
   {
    "duration": 0,
    "start_time": "2023-12-06T01:49:07.589Z"
   },
   {
    "duration": 66,
    "start_time": "2023-12-06T01:51:03.374Z"
   },
   {
    "duration": 2,
    "start_time": "2023-12-06T01:51:04.136Z"
   },
   {
    "duration": 18,
    "start_time": "2023-12-06T01:51:12.565Z"
   },
   {
    "duration": 10,
    "start_time": "2023-12-06T01:51:19.226Z"
   },
   {
    "duration": 1058,
    "start_time": "2023-12-06T01:51:31.795Z"
   },
   {
    "duration": 812,
    "start_time": "2023-12-06T01:51:32.855Z"
   },
   {
    "duration": 10,
    "start_time": "2023-12-06T01:51:33.668Z"
   },
   {
    "duration": 11,
    "start_time": "2023-12-06T01:51:33.680Z"
   },
   {
    "duration": 16,
    "start_time": "2023-12-06T01:51:33.692Z"
   },
   {
    "duration": 7,
    "start_time": "2023-12-06T01:51:33.709Z"
   },
   {
    "duration": 71,
    "start_time": "2023-12-06T01:51:33.717Z"
   },
   {
    "duration": 100,
    "start_time": "2023-12-06T01:51:33.790Z"
   },
   {
    "duration": 46,
    "start_time": "2023-12-06T01:51:33.892Z"
   },
   {
    "duration": 156,
    "start_time": "2023-12-06T01:51:33.939Z"
   },
   {
    "duration": 3,
    "start_time": "2023-12-06T01:51:34.096Z"
   },
   {
    "duration": 30,
    "start_time": "2023-12-06T01:51:34.101Z"
   },
   {
    "duration": 120,
    "start_time": "2023-12-06T01:51:34.133Z"
   },
   {
    "duration": 82,
    "start_time": "2023-12-06T01:51:34.254Z"
   },
   {
    "duration": 770,
    "start_time": "2023-12-06T01:51:34.337Z"
   },
   {
    "duration": 11,
    "start_time": "2023-12-06T01:51:35.108Z"
   },
   {
    "duration": 25,
    "start_time": "2023-12-06T01:51:35.121Z"
   },
   {
    "duration": 29,
    "start_time": "2023-12-06T01:51:35.150Z"
   },
   {
    "duration": 16,
    "start_time": "2023-12-06T01:51:35.181Z"
   },
   {
    "duration": 63,
    "start_time": "2023-12-06T01:51:35.198Z"
   },
   {
    "duration": 4,
    "start_time": "2023-12-06T01:51:35.262Z"
   },
   {
    "duration": 10,
    "start_time": "2023-12-06T01:51:35.267Z"
   },
   {
    "duration": 7,
    "start_time": "2023-12-06T01:51:35.278Z"
   },
   {
    "duration": 77,
    "start_time": "2023-12-06T01:51:35.286Z"
   },
   {
    "duration": 1,
    "start_time": "2023-12-06T01:51:35.365Z"
   },
   {
    "duration": 29,
    "start_time": "2023-12-06T01:51:35.367Z"
   },
   {
    "duration": 40,
    "start_time": "2023-12-06T01:51:35.397Z"
   },
   {
    "duration": 33,
    "start_time": "2023-12-06T01:51:35.439Z"
   },
   {
    "duration": 7,
    "start_time": "2023-12-06T01:51:35.473Z"
   },
   {
    "duration": 338,
    "start_time": "2023-12-06T01:51:35.481Z"
   },
   {
    "duration": 796,
    "start_time": "2023-12-06T01:51:35.821Z"
   },
   {
    "duration": 16,
    "start_time": "2023-12-06T01:51:36.618Z"
   },
   {
    "duration": 2,
    "start_time": "2023-12-06T01:51:36.635Z"
   },
   {
    "duration": 10,
    "start_time": "2023-12-06T01:51:36.638Z"
   },
   {
    "duration": 636,
    "start_time": "2023-12-06T01:51:36.649Z"
   },
   {
    "duration": 31,
    "start_time": "2023-12-06T01:51:37.286Z"
   },
   {
    "duration": 9,
    "start_time": "2023-12-06T01:51:37.318Z"
   },
   {
    "duration": 153,
    "start_time": "2023-12-06T01:51:37.328Z"
   },
   {
    "duration": 39,
    "start_time": "2023-12-06T01:51:37.482Z"
   },
   {
    "duration": 149,
    "start_time": "2023-12-06T01:51:37.523Z"
   },
   {
    "duration": 65,
    "start_time": "2023-12-06T01:51:37.673Z"
   },
   {
    "duration": 496,
    "start_time": "2023-12-06T01:51:37.738Z"
   },
   {
    "duration": 40,
    "start_time": "2023-12-06T01:51:38.235Z"
   },
   {
    "duration": 5,
    "start_time": "2023-12-06T01:51:38.277Z"
   },
   {
    "duration": 6,
    "start_time": "2023-12-06T01:51:38.283Z"
   },
   {
    "duration": 270,
    "start_time": "2023-12-06T01:51:38.290Z"
   },
   {
    "duration": 8,
    "start_time": "2023-12-06T01:51:38.562Z"
   },
   {
    "duration": 485,
    "start_time": "2023-12-06T01:51:38.571Z"
   },
   {
    "duration": 10,
    "start_time": "2023-12-06T01:51:39.057Z"
   },
   {
    "duration": 362,
    "start_time": "2023-12-06T01:51:39.068Z"
   },
   {
    "duration": 0,
    "start_time": "2023-12-06T01:51:39.431Z"
   },
   {
    "duration": 0,
    "start_time": "2023-12-06T01:51:39.432Z"
   },
   {
    "duration": 1,
    "start_time": "2023-12-06T01:51:39.432Z"
   },
   {
    "duration": 0,
    "start_time": "2023-12-06T01:51:39.433Z"
   },
   {
    "duration": 0,
    "start_time": "2023-12-06T01:51:39.434Z"
   },
   {
    "duration": 0,
    "start_time": "2023-12-06T01:51:39.435Z"
   },
   {
    "duration": 0,
    "start_time": "2023-12-06T01:51:39.436Z"
   },
   {
    "duration": 0,
    "start_time": "2023-12-06T01:51:39.436Z"
   },
   {
    "duration": 4,
    "start_time": "2023-12-06T01:51:40.016Z"
   },
   {
    "duration": 744,
    "start_time": "2023-12-06T01:51:40.231Z"
   },
   {
    "duration": 7,
    "start_time": "2023-12-06T01:51:40.977Z"
   },
   {
    "duration": 7,
    "start_time": "2023-12-06T01:51:40.985Z"
   },
   {
    "duration": 23,
    "start_time": "2023-12-06T01:51:40.993Z"
   },
   {
    "duration": 9,
    "start_time": "2023-12-06T01:51:41.018Z"
   },
   {
    "duration": 72,
    "start_time": "2023-12-06T01:51:41.028Z"
   },
   {
    "duration": 120,
    "start_time": "2023-12-06T01:51:41.101Z"
   },
   {
    "duration": 42,
    "start_time": "2023-12-06T01:51:41.223Z"
   },
   {
    "duration": 144,
    "start_time": "2023-12-06T01:51:41.267Z"
   },
   {
    "duration": 4,
    "start_time": "2023-12-06T01:51:41.415Z"
   },
   {
    "duration": 24,
    "start_time": "2023-12-06T01:51:41.420Z"
   },
   {
    "duration": 122,
    "start_time": "2023-12-06T01:51:41.445Z"
   },
   {
    "duration": 81,
    "start_time": "2023-12-06T01:51:41.569Z"
   },
   {
    "duration": 816,
    "start_time": "2023-12-06T01:51:41.653Z"
   },
   {
    "duration": 9,
    "start_time": "2023-12-06T01:51:42.470Z"
   },
   {
    "duration": 8,
    "start_time": "2023-12-06T01:51:42.481Z"
   },
   {
    "duration": 31,
    "start_time": "2023-12-06T01:51:42.490Z"
   },
   {
    "duration": 12,
    "start_time": "2023-12-06T01:51:42.523Z"
   },
   {
    "duration": 69,
    "start_time": "2023-12-06T01:51:42.536Z"
   },
   {
    "duration": 4,
    "start_time": "2023-12-06T01:51:42.606Z"
   },
   {
    "duration": 16,
    "start_time": "2023-12-06T01:51:42.611Z"
   },
   {
    "duration": 3,
    "start_time": "2023-12-06T01:51:42.628Z"
   },
   {
    "duration": 86,
    "start_time": "2023-12-06T01:51:42.633Z"
   },
   {
    "duration": 3,
    "start_time": "2023-12-06T01:51:42.720Z"
   },
   {
    "duration": 18,
    "start_time": "2023-12-06T01:51:42.724Z"
   },
   {
    "duration": 40,
    "start_time": "2023-12-06T01:51:42.744Z"
   },
   {
    "duration": 52,
    "start_time": "2023-12-06T01:51:42.786Z"
   },
   {
    "duration": 7,
    "start_time": "2023-12-06T01:51:42.840Z"
   },
   {
    "duration": 308,
    "start_time": "2023-12-06T01:51:42.848Z"
   },
   {
    "duration": 797,
    "start_time": "2023-12-06T01:51:43.157Z"
   },
   {
    "duration": 15,
    "start_time": "2023-12-06T01:51:43.955Z"
   },
   {
    "duration": 2,
    "start_time": "2023-12-06T01:51:43.971Z"
   },
   {
    "duration": 45,
    "start_time": "2023-12-06T01:51:43.974Z"
   },
   {
    "duration": 737,
    "start_time": "2023-12-06T01:51:44.020Z"
   },
   {
    "duration": 25,
    "start_time": "2023-12-06T01:51:44.758Z"
   },
   {
    "duration": 5,
    "start_time": "2023-12-06T01:51:44.784Z"
   },
   {
    "duration": 26,
    "start_time": "2023-12-06T01:51:44.791Z"
   },
   {
    "duration": 29,
    "start_time": "2023-12-06T01:51:44.818Z"
   },
   {
    "duration": 163,
    "start_time": "2023-12-06T01:51:44.848Z"
   },
   {
    "duration": 57,
    "start_time": "2023-12-06T01:51:45.015Z"
   },
   {
    "duration": 527,
    "start_time": "2023-12-06T01:51:45.076Z"
   },
   {
    "duration": 47,
    "start_time": "2023-12-06T01:51:45.604Z"
   },
   {
    "duration": 4,
    "start_time": "2023-12-06T01:51:45.653Z"
   },
   {
    "duration": 13,
    "start_time": "2023-12-06T01:51:45.659Z"
   },
   {
    "duration": 312,
    "start_time": "2023-12-06T01:51:45.673Z"
   },
   {
    "duration": 8,
    "start_time": "2023-12-06T01:51:45.986Z"
   },
   {
    "duration": 443,
    "start_time": "2023-12-06T01:51:45.996Z"
   },
   {
    "duration": 10,
    "start_time": "2023-12-06T01:51:46.440Z"
   },
   {
    "duration": 208,
    "start_time": "2023-12-06T01:51:46.451Z"
   },
   {
    "duration": 0,
    "start_time": "2023-12-06T01:51:46.660Z"
   },
   {
    "duration": 0,
    "start_time": "2023-12-06T01:51:46.661Z"
   },
   {
    "duration": 0,
    "start_time": "2023-12-06T01:51:46.662Z"
   },
   {
    "duration": 0,
    "start_time": "2023-12-06T01:51:46.664Z"
   },
   {
    "duration": 0,
    "start_time": "2023-12-06T01:51:46.665Z"
   },
   {
    "duration": 1,
    "start_time": "2023-12-06T01:51:46.665Z"
   },
   {
    "duration": 0,
    "start_time": "2023-12-06T01:51:46.666Z"
   },
   {
    "duration": 0,
    "start_time": "2023-12-06T01:51:46.667Z"
   },
   {
    "duration": 195,
    "start_time": "2023-12-06T01:58:50.827Z"
   },
   {
    "duration": 10,
    "start_time": "2023-12-06T01:59:34.867Z"
   },
   {
    "duration": 2,
    "start_time": "2023-12-06T02:00:21.244Z"
   },
   {
    "duration": 253,
    "start_time": "2023-12-06T02:01:25.238Z"
   },
   {
    "duration": 3,
    "start_time": "2023-12-06T02:01:36.032Z"
   },
   {
    "duration": 1217,
    "start_time": "2023-12-06T02:01:36.037Z"
   },
   {
    "duration": 7,
    "start_time": "2023-12-06T02:01:37.256Z"
   },
   {
    "duration": 12,
    "start_time": "2023-12-06T02:01:37.264Z"
   },
   {
    "duration": 13,
    "start_time": "2023-12-06T02:01:37.278Z"
   },
   {
    "duration": 18,
    "start_time": "2023-12-06T02:01:37.292Z"
   },
   {
    "duration": 82,
    "start_time": "2023-12-06T02:01:37.311Z"
   },
   {
    "duration": 151,
    "start_time": "2023-12-06T02:01:37.395Z"
   },
   {
    "duration": 39,
    "start_time": "2023-12-06T02:01:37.547Z"
   },
   {
    "duration": 143,
    "start_time": "2023-12-06T02:01:37.588Z"
   },
   {
    "duration": 4,
    "start_time": "2023-12-06T02:01:37.733Z"
   },
   {
    "duration": 24,
    "start_time": "2023-12-06T02:01:37.738Z"
   },
   {
    "duration": 126,
    "start_time": "2023-12-06T02:01:37.764Z"
   },
   {
    "duration": 81,
    "start_time": "2023-12-06T02:01:37.892Z"
   },
   {
    "duration": 805,
    "start_time": "2023-12-06T02:01:37.975Z"
   },
   {
    "duration": 10,
    "start_time": "2023-12-06T02:01:38.781Z"
   },
   {
    "duration": 7,
    "start_time": "2023-12-06T02:01:38.792Z"
   },
   {
    "duration": 31,
    "start_time": "2023-12-06T02:01:38.800Z"
   },
   {
    "duration": 10,
    "start_time": "2023-12-06T02:01:38.833Z"
   },
   {
    "duration": 70,
    "start_time": "2023-12-06T02:01:38.845Z"
   },
   {
    "duration": 4,
    "start_time": "2023-12-06T02:01:38.916Z"
   },
   {
    "duration": 9,
    "start_time": "2023-12-06T02:01:38.922Z"
   },
   {
    "duration": 3,
    "start_time": "2023-12-06T02:01:38.932Z"
   },
   {
    "duration": 84,
    "start_time": "2023-12-06T02:01:38.936Z"
   },
   {
    "duration": 2,
    "start_time": "2023-12-06T02:01:39.021Z"
   },
   {
    "duration": 23,
    "start_time": "2023-12-06T02:01:39.024Z"
   },
   {
    "duration": 40,
    "start_time": "2023-12-06T02:01:39.048Z"
   },
   {
    "duration": 44,
    "start_time": "2023-12-06T02:01:39.089Z"
   },
   {
    "duration": 7,
    "start_time": "2023-12-06T02:01:39.135Z"
   },
   {
    "duration": 322,
    "start_time": "2023-12-06T02:01:39.143Z"
   },
   {
    "duration": 788,
    "start_time": "2023-12-06T02:01:39.466Z"
   },
   {
    "duration": 16,
    "start_time": "2023-12-06T02:01:40.255Z"
   },
   {
    "duration": 9,
    "start_time": "2023-12-06T02:01:40.272Z"
   },
   {
    "duration": 776,
    "start_time": "2023-12-06T02:01:40.283Z"
   },
   {
    "duration": 23,
    "start_time": "2023-12-06T02:01:41.061Z"
   },
   {
    "duration": 5,
    "start_time": "2023-12-06T02:01:41.086Z"
   },
   {
    "duration": 23,
    "start_time": "2023-12-06T02:01:41.092Z"
   },
   {
    "duration": 27,
    "start_time": "2023-12-06T02:01:41.116Z"
   },
   {
    "duration": 114,
    "start_time": "2023-12-06T02:01:41.144Z"
   },
   {
    "duration": 58,
    "start_time": "2023-12-06T02:01:41.259Z"
   },
   {
    "duration": 531,
    "start_time": "2023-12-06T02:01:41.320Z"
   },
   {
    "duration": 42,
    "start_time": "2023-12-06T02:01:41.852Z"
   },
   {
    "duration": 5,
    "start_time": "2023-12-06T02:01:41.895Z"
   },
   {
    "duration": 5,
    "start_time": "2023-12-06T02:01:41.914Z"
   },
   {
    "duration": 296,
    "start_time": "2023-12-06T02:01:41.920Z"
   },
   {
    "duration": 10,
    "start_time": "2023-12-06T02:01:42.218Z"
   },
   {
    "duration": 430,
    "start_time": "2023-12-06T02:01:42.229Z"
   },
   {
    "duration": 10,
    "start_time": "2023-12-06T02:01:42.661Z"
   },
   {
    "duration": 265,
    "start_time": "2023-12-06T02:01:42.673Z"
   },
   {
    "duration": 19,
    "start_time": "2023-12-06T02:01:42.940Z"
   },
   {
    "duration": 6,
    "start_time": "2023-12-06T02:01:42.961Z"
   },
   {
    "duration": 9,
    "start_time": "2023-12-06T02:01:42.968Z"
   },
   {
    "duration": 25,
    "start_time": "2023-12-06T02:01:42.978Z"
   },
   {
    "duration": 13,
    "start_time": "2023-12-06T02:01:43.005Z"
   },
   {
    "duration": 14,
    "start_time": "2023-12-06T02:01:43.019Z"
   },
   {
    "duration": 4,
    "start_time": "2023-12-06T02:01:43.034Z"
   },
   {
    "duration": 29,
    "start_time": "2023-12-06T02:01:43.039Z"
   },
   {
    "duration": 4,
    "start_time": "2023-12-06T06:39:53.269Z"
   },
   {
    "duration": 995,
    "start_time": "2023-12-06T06:39:53.275Z"
   },
   {
    "duration": 10,
    "start_time": "2023-12-06T06:39:54.271Z"
   },
   {
    "duration": 10,
    "start_time": "2023-12-06T06:39:54.284Z"
   },
   {
    "duration": 14,
    "start_time": "2023-12-06T06:39:54.296Z"
   },
   {
    "duration": 11,
    "start_time": "2023-12-06T06:39:54.311Z"
   },
   {
    "duration": 128,
    "start_time": "2023-12-06T06:39:54.323Z"
   },
   {
    "duration": 117,
    "start_time": "2023-12-06T06:39:54.453Z"
   },
   {
    "duration": 69,
    "start_time": "2023-12-06T06:39:54.572Z"
   },
   {
    "duration": 223,
    "start_time": "2023-12-06T06:39:54.644Z"
   },
   {
    "duration": 4,
    "start_time": "2023-12-06T06:39:54.869Z"
   },
   {
    "duration": 41,
    "start_time": "2023-12-06T06:39:54.874Z"
   },
   {
    "duration": 217,
    "start_time": "2023-12-06T06:39:54.917Z"
   },
   {
    "duration": 142,
    "start_time": "2023-12-06T06:39:55.136Z"
   },
   {
    "duration": 1391,
    "start_time": "2023-12-06T06:39:55.280Z"
   },
   {
    "duration": 12,
    "start_time": "2023-12-06T06:39:56.673Z"
   },
   {
    "duration": 25,
    "start_time": "2023-12-06T06:39:56.686Z"
   },
   {
    "duration": 35,
    "start_time": "2023-12-06T06:39:56.713Z"
   },
   {
    "duration": 13,
    "start_time": "2023-12-06T06:39:56.750Z"
   },
   {
    "duration": 80,
    "start_time": "2023-12-06T06:39:56.765Z"
   },
   {
    "duration": 6,
    "start_time": "2023-12-06T06:39:56.847Z"
   },
   {
    "duration": 12,
    "start_time": "2023-12-06T06:39:56.854Z"
   },
   {
    "duration": 3,
    "start_time": "2023-12-06T06:39:56.867Z"
   },
   {
    "duration": 124,
    "start_time": "2023-12-06T06:39:56.872Z"
   },
   {
    "duration": 3,
    "start_time": "2023-12-06T06:39:57.000Z"
   },
   {
    "duration": 30,
    "start_time": "2023-12-06T06:39:57.005Z"
   },
   {
    "duration": 50,
    "start_time": "2023-12-06T06:39:57.037Z"
   },
   {
    "duration": 50,
    "start_time": "2023-12-06T06:39:57.098Z"
   },
   {
    "duration": 9,
    "start_time": "2023-12-06T06:39:57.149Z"
   },
   {
    "duration": 478,
    "start_time": "2023-12-06T06:39:57.160Z"
   },
   {
    "duration": 866,
    "start_time": "2023-12-06T06:39:57.640Z"
   },
   {
    "duration": 18,
    "start_time": "2023-12-06T06:39:58.508Z"
   },
   {
    "duration": 9,
    "start_time": "2023-12-06T06:39:58.528Z"
   },
   {
    "duration": 934,
    "start_time": "2023-12-06T06:39:58.539Z"
   },
   {
    "duration": 41,
    "start_time": "2023-12-06T06:39:59.475Z"
   },
   {
    "duration": 10,
    "start_time": "2023-12-06T06:39:59.519Z"
   },
   {
    "duration": 17,
    "start_time": "2023-12-06T06:39:59.530Z"
   },
   {
    "duration": 39,
    "start_time": "2023-12-06T06:39:59.549Z"
   },
   {
    "duration": 137,
    "start_time": "2023-12-06T06:39:59.599Z"
   },
   {
    "duration": 70,
    "start_time": "2023-12-06T06:39:59.737Z"
   },
   {
    "duration": 536,
    "start_time": "2023-12-06T06:39:59.809Z"
   },
   {
    "duration": 55,
    "start_time": "2023-12-06T06:40:00.346Z"
   },
   {
    "duration": 9,
    "start_time": "2023-12-06T06:40:00.403Z"
   },
   {
    "duration": 29,
    "start_time": "2023-12-06T06:40:00.414Z"
   },
   {
    "duration": 458,
    "start_time": "2023-12-06T06:40:00.444Z"
   },
   {
    "duration": 11,
    "start_time": "2023-12-06T06:40:00.904Z"
   },
   {
    "duration": 592,
    "start_time": "2023-12-06T06:40:00.918Z"
   },
   {
    "duration": 15,
    "start_time": "2023-12-06T06:40:01.512Z"
   },
   {
    "duration": 463,
    "start_time": "2023-12-06T06:40:01.529Z"
   },
   {
    "duration": 40,
    "start_time": "2023-12-06T06:40:01.994Z"
   },
   {
    "duration": 50,
    "start_time": "2023-12-06T06:40:02.036Z"
   },
   {
    "duration": 40,
    "start_time": "2023-12-06T06:40:02.088Z"
   },
   {
    "duration": 54,
    "start_time": "2023-12-06T06:40:02.130Z"
   },
   {
    "duration": 48,
    "start_time": "2023-12-06T06:40:02.186Z"
   },
   {
    "duration": 90,
    "start_time": "2023-12-06T06:40:02.236Z"
   },
   {
    "duration": 10,
    "start_time": "2023-12-06T06:40:02.328Z"
   },
   {
    "duration": 65,
    "start_time": "2023-12-06T06:40:02.340Z"
   },
   {
    "duration": 20,
    "start_time": "2023-12-06T06:44:19.242Z"
   },
   {
    "duration": 15,
    "start_time": "2023-12-06T06:46:01.955Z"
   },
   {
    "duration": 6,
    "start_time": "2023-12-06T06:47:04.869Z"
   },
   {
    "duration": 13,
    "start_time": "2023-12-06T06:49:00.745Z"
   },
   {
    "duration": 7,
    "start_time": "2023-12-06T06:51:28.528Z"
   },
   {
    "duration": 10,
    "start_time": "2023-12-06T06:52:52.515Z"
   },
   {
    "duration": 10,
    "start_time": "2023-12-06T06:54:34.340Z"
   },
   {
    "duration": 110,
    "start_time": "2023-12-06T06:54:46.111Z"
   },
   {
    "duration": 8,
    "start_time": "2023-12-06T06:54:53.033Z"
   },
   {
    "duration": 12,
    "start_time": "2023-12-06T06:55:28.500Z"
   },
   {
    "duration": 57,
    "start_time": "2023-12-06T06:56:00.318Z"
   },
   {
    "duration": 796,
    "start_time": "2023-12-06T06:56:04.788Z"
   },
   {
    "duration": 9,
    "start_time": "2023-12-06T06:56:46.563Z"
   },
   {
    "duration": 8,
    "start_time": "2023-12-06T06:58:51.000Z"
   },
   {
    "duration": 54,
    "start_time": "2023-12-06T07:00:13.986Z"
   },
   {
    "duration": 6,
    "start_time": "2023-12-06T07:00:18.544Z"
   },
   {
    "duration": 14,
    "start_time": "2023-12-06T07:01:45.874Z"
   },
   {
    "duration": 17,
    "start_time": "2023-12-06T07:02:06.908Z"
   },
   {
    "duration": 23,
    "start_time": "2023-12-06T07:02:28.700Z"
   },
   {
    "duration": 5,
    "start_time": "2023-12-06T07:03:32.924Z"
   },
   {
    "duration": 14,
    "start_time": "2023-12-06T07:03:34.337Z"
   },
   {
    "duration": 9,
    "start_time": "2023-12-06T07:05:30.972Z"
   },
   {
    "duration": 50,
    "start_time": "2023-12-06T07:14:42.175Z"
   },
   {
    "duration": 7,
    "start_time": "2023-12-06T07:14:47.813Z"
   },
   {
    "duration": 7,
    "start_time": "2023-12-06T07:14:48.671Z"
   },
   {
    "duration": 337,
    "start_time": "2023-12-06T07:15:07.558Z"
   },
   {
    "duration": 6,
    "start_time": "2023-12-06T07:18:40.760Z"
   },
   {
    "duration": 14,
    "start_time": "2023-12-06T07:19:34.844Z"
   },
   {
    "duration": 4,
    "start_time": "2023-12-06T07:19:41.477Z"
   },
   {
    "duration": 7,
    "start_time": "2023-12-06T07:19:59.626Z"
   },
   {
    "duration": 6,
    "start_time": "2023-12-06T07:20:13.348Z"
   },
   {
    "duration": 336,
    "start_time": "2023-12-06T07:20:25.398Z"
   },
   {
    "duration": 36,
    "start_time": "2023-12-06T07:21:54.811Z"
   },
   {
    "duration": 5,
    "start_time": "2023-12-06T07:21:57.241Z"
   },
   {
    "duration": 8,
    "start_time": "2023-12-06T07:21:57.385Z"
   },
   {
    "duration": 6,
    "start_time": "2023-12-06T07:21:59.879Z"
   },
   {
    "duration": 54,
    "start_time": "2023-12-06T07:25:44.162Z"
   },
   {
    "duration": 60,
    "start_time": "2023-12-06T07:25:56.825Z"
   },
   {
    "duration": 25,
    "start_time": "2023-12-06T07:28:46.940Z"
   },
   {
    "duration": 41,
    "start_time": "2023-12-06T07:29:07.289Z"
   },
   {
    "duration": 33,
    "start_time": "2023-12-06T07:30:06.924Z"
   },
   {
    "duration": 5,
    "start_time": "2023-12-06T07:30:07.393Z"
   },
   {
    "duration": 8,
    "start_time": "2023-12-06T07:30:07.827Z"
   },
   {
    "duration": 7,
    "start_time": "2023-12-06T07:30:08.340Z"
   },
   {
    "duration": 7,
    "start_time": "2023-12-06T07:30:11.353Z"
   },
   {
    "duration": 7,
    "start_time": "2023-12-06T07:30:12.523Z"
   },
   {
    "duration": 374,
    "start_time": "2023-12-06T07:30:13.670Z"
   },
   {
    "duration": 299,
    "start_time": "2023-12-06T07:30:55.658Z"
   },
   {
    "duration": 379,
    "start_time": "2023-12-06T07:31:08.344Z"
   },
   {
    "duration": 429,
    "start_time": "2023-12-06T07:31:48.845Z"
   },
   {
    "duration": 327,
    "start_time": "2023-12-06T07:31:56.245Z"
   },
   {
    "duration": 36,
    "start_time": "2023-12-06T07:35:44.728Z"
   },
   {
    "duration": 5,
    "start_time": "2023-12-06T07:35:46.103Z"
   },
   {
    "duration": 10,
    "start_time": "2023-12-06T07:35:46.841Z"
   },
   {
    "duration": 7,
    "start_time": "2023-12-06T07:35:47.475Z"
   },
   {
    "duration": 327,
    "start_time": "2023-12-06T07:40:03.840Z"
   },
   {
    "duration": 423,
    "start_time": "2023-12-06T07:42:21.271Z"
   },
   {
    "duration": 359,
    "start_time": "2023-12-06T07:42:58.718Z"
   },
   {
    "duration": 398,
    "start_time": "2023-12-06T07:43:12.588Z"
   },
   {
    "duration": 491,
    "start_time": "2023-12-06T07:43:20.767Z"
   },
   {
    "duration": 28,
    "start_time": "2023-12-06T07:45:54.269Z"
   },
   {
    "duration": 13,
    "start_time": "2023-12-06T07:47:20.321Z"
   },
   {
    "duration": 368,
    "start_time": "2023-12-06T07:47:23.950Z"
   },
   {
    "duration": 331,
    "start_time": "2023-12-06T07:47:39.984Z"
   },
   {
    "duration": 339,
    "start_time": "2023-12-06T07:47:52.549Z"
   },
   {
    "duration": 23,
    "start_time": "2023-12-06T07:52:01.191Z"
   },
   {
    "duration": 6,
    "start_time": "2023-12-06T07:52:55.985Z"
   },
   {
    "duration": 19,
    "start_time": "2023-12-06T07:54:11.768Z"
   },
   {
    "duration": 20,
    "start_time": "2023-12-06T07:59:08.409Z"
   },
   {
    "duration": 704,
    "start_time": "2023-12-06T08:12:30.059Z"
   },
   {
    "duration": 590,
    "start_time": "2023-12-06T08:12:58.230Z"
   },
   {
    "duration": 25,
    "start_time": "2023-12-06T08:13:30.559Z"
   },
   {
    "duration": 267,
    "start_time": "2023-12-06T08:13:45.888Z"
   },
   {
    "duration": 41939,
    "start_time": "2023-12-06T08:16:10.050Z"
   },
   {
    "duration": 267,
    "start_time": "2023-12-06T08:17:35.291Z"
   },
   {
    "duration": 622,
    "start_time": "2023-12-06T08:18:57.578Z"
   },
   {
    "duration": 660,
    "start_time": "2023-12-06T08:21:16.044Z"
   },
   {
    "duration": 578,
    "start_time": "2023-12-06T08:21:42.799Z"
   },
   {
    "duration": 561,
    "start_time": "2023-12-06T08:22:35.210Z"
   },
   {
    "duration": 641,
    "start_time": "2023-12-06T08:23:31.035Z"
   },
   {
    "duration": 10,
    "start_time": "2023-12-06T08:23:36.100Z"
   },
   {
    "duration": 13,
    "start_time": "2023-12-06T08:24:10.074Z"
   },
   {
    "duration": 60,
    "start_time": "2023-12-06T08:25:30.607Z"
   },
   {
    "duration": 632,
    "start_time": "2023-12-06T08:25:35.278Z"
   },
   {
    "duration": 258,
    "start_time": "2023-12-06T08:25:54.075Z"
   },
   {
    "duration": 7128,
    "start_time": "2023-12-06T08:27:56.890Z"
   },
   {
    "duration": 774,
    "start_time": "2023-12-06T08:38:43.893Z"
   },
   {
    "duration": 114,
    "start_time": "2023-12-06T08:38:54.101Z"
   },
   {
    "duration": 112,
    "start_time": "2023-12-06T08:38:57.195Z"
   },
   {
    "duration": 117,
    "start_time": "2023-12-06T08:39:05.879Z"
   },
   {
    "duration": 59,
    "start_time": "2023-12-06T08:40:03.784Z"
   },
   {
    "duration": 24,
    "start_time": "2023-12-06T08:41:09.355Z"
   },
   {
    "duration": 9,
    "start_time": "2023-12-06T08:42:02.322Z"
   },
   {
    "duration": 10,
    "start_time": "2023-12-06T08:42:06.464Z"
   },
   {
    "duration": 14,
    "start_time": "2023-12-06T08:42:17.999Z"
   },
   {
    "duration": 8,
    "start_time": "2023-12-06T08:42:27.247Z"
   },
   {
    "duration": 8,
    "start_time": "2023-12-06T08:44:22.179Z"
   },
   {
    "duration": 5,
    "start_time": "2023-12-06T08:45:03.926Z"
   },
   {
    "duration": 548,
    "start_time": "2023-12-06T08:50:34.221Z"
   },
   {
    "duration": 556,
    "start_time": "2023-12-06T08:51:15.417Z"
   },
   {
    "duration": 250,
    "start_time": "2023-12-06T08:51:51.333Z"
   },
   {
    "duration": 222,
    "start_time": "2023-12-06T08:52:55.444Z"
   },
   {
    "duration": 218,
    "start_time": "2023-12-06T08:53:06.854Z"
   },
   {
    "duration": 20,
    "start_time": "2023-12-06T08:53:56.708Z"
   },
   {
    "duration": 16,
    "start_time": "2023-12-06T08:55:07.686Z"
   },
   {
    "duration": 13,
    "start_time": "2023-12-06T08:56:00.796Z"
   },
   {
    "duration": 12,
    "start_time": "2023-12-06T08:57:15.219Z"
   },
   {
    "duration": 14,
    "start_time": "2023-12-06T08:57:31.021Z"
   },
   {
    "duration": 17,
    "start_time": "2023-12-06T08:57:49.846Z"
   },
   {
    "duration": 527,
    "start_time": "2023-12-06T08:57:55.737Z"
   },
   {
    "duration": 220,
    "start_time": "2023-12-06T08:57:56.266Z"
   },
   {
    "duration": 253,
    "start_time": "2023-12-06T08:59:03.508Z"
   },
   {
    "duration": 17,
    "start_time": "2023-12-06T09:15:37.303Z"
   },
   {
    "duration": 5,
    "start_time": "2023-12-06T09:15:40.088Z"
   },
   {
    "duration": 45,
    "start_time": "2023-12-06T09:25:36.377Z"
   },
   {
    "duration": 4,
    "start_time": "2023-12-06T09:25:42.111Z"
   },
   {
    "duration": 5,
    "start_time": "2023-12-06T09:25:53.482Z"
   },
   {
    "duration": 8,
    "start_time": "2023-12-06T09:25:56.485Z"
   },
   {
    "duration": 7,
    "start_time": "2023-12-06T09:25:57.162Z"
   },
   {
    "duration": 4,
    "start_time": "2023-12-06T09:26:05.341Z"
   },
   {
    "duration": 6,
    "start_time": "2023-12-06T09:26:06.151Z"
   },
   {
    "duration": 6,
    "start_time": "2023-12-06T09:26:06.726Z"
   },
   {
    "duration": 4,
    "start_time": "2023-12-06T09:26:26.378Z"
   },
   {
    "duration": 33,
    "start_time": "2023-12-06T09:30:41.792Z"
   },
   {
    "duration": 7,
    "start_time": "2023-12-06T09:33:24.947Z"
   },
   {
    "duration": 6,
    "start_time": "2023-12-06T09:38:02.072Z"
   },
   {
    "duration": 6,
    "start_time": "2023-12-06T09:39:42.905Z"
   },
   {
    "duration": 1156,
    "start_time": "2023-12-06T10:04:09.301Z"
   },
   {
    "duration": 1402,
    "start_time": "2023-12-06T10:04:10.459Z"
   },
   {
    "duration": 15,
    "start_time": "2023-12-06T10:04:11.863Z"
   },
   {
    "duration": 15,
    "start_time": "2023-12-06T10:04:11.881Z"
   },
   {
    "duration": 17,
    "start_time": "2023-12-06T10:04:11.898Z"
   },
   {
    "duration": 13,
    "start_time": "2023-12-06T10:04:11.917Z"
   },
   {
    "duration": 103,
    "start_time": "2023-12-06T10:04:11.931Z"
   },
   {
    "duration": 123,
    "start_time": "2023-12-06T10:04:12.036Z"
   },
   {
    "duration": 62,
    "start_time": "2023-12-06T10:04:12.161Z"
   },
   {
    "duration": 211,
    "start_time": "2023-12-06T10:04:12.226Z"
   },
   {
    "duration": 4,
    "start_time": "2023-12-06T10:04:12.439Z"
   },
   {
    "duration": 26,
    "start_time": "2023-12-06T10:04:12.444Z"
   },
   {
    "duration": 173,
    "start_time": "2023-12-06T10:04:12.471Z"
   },
   {
    "duration": 112,
    "start_time": "2023-12-06T10:04:12.645Z"
   },
   {
    "duration": 1143,
    "start_time": "2023-12-06T10:04:12.759Z"
   },
   {
    "duration": 12,
    "start_time": "2023-12-06T10:04:13.904Z"
   },
   {
    "duration": 14,
    "start_time": "2023-12-06T10:04:13.917Z"
   },
   {
    "duration": 23,
    "start_time": "2023-12-06T10:04:13.932Z"
   },
   {
    "duration": 14,
    "start_time": "2023-12-06T10:04:13.956Z"
   },
   {
    "duration": 95,
    "start_time": "2023-12-06T10:04:13.972Z"
   },
   {
    "duration": 5,
    "start_time": "2023-12-06T10:04:14.068Z"
   },
   {
    "duration": 11,
    "start_time": "2023-12-06T10:04:14.074Z"
   },
   {
    "duration": 4,
    "start_time": "2023-12-06T10:04:14.099Z"
   },
   {
    "duration": 113,
    "start_time": "2023-12-06T10:04:14.105Z"
   },
   {
    "duration": 3,
    "start_time": "2023-12-06T10:04:14.220Z"
   },
   {
    "duration": 31,
    "start_time": "2023-12-06T10:04:14.224Z"
   },
   {
    "duration": 57,
    "start_time": "2023-12-06T10:04:14.256Z"
   },
   {
    "duration": 43,
    "start_time": "2023-12-06T10:04:14.316Z"
   },
   {
    "duration": 9,
    "start_time": "2023-12-06T10:04:14.361Z"
   },
   {
    "duration": 427,
    "start_time": "2023-12-06T10:04:14.372Z"
   },
   {
    "duration": 4,
    "start_time": "2023-12-06T10:04:19.607Z"
   },
   {
    "duration": 918,
    "start_time": "2023-12-06T10:04:19.612Z"
   },
   {
    "duration": 10,
    "start_time": "2023-12-06T10:04:20.531Z"
   },
   {
    "duration": 11,
    "start_time": "2023-12-06T10:04:20.542Z"
   },
   {
    "duration": 15,
    "start_time": "2023-12-06T10:04:20.555Z"
   },
   {
    "duration": 34,
    "start_time": "2023-12-06T10:04:20.572Z"
   },
   {
    "duration": 107,
    "start_time": "2023-12-06T10:04:20.608Z"
   },
   {
    "duration": 120,
    "start_time": "2023-12-06T10:04:20.717Z"
   },
   {
    "duration": 71,
    "start_time": "2023-12-06T10:04:20.839Z"
   },
   {
    "duration": 217,
    "start_time": "2023-12-06T10:04:20.911Z"
   },
   {
    "duration": 5,
    "start_time": "2023-12-06T10:04:21.129Z"
   },
   {
    "duration": 76,
    "start_time": "2023-12-06T10:04:21.136Z"
   },
   {
    "duration": 189,
    "start_time": "2023-12-06T10:04:21.214Z"
   },
   {
    "duration": 135,
    "start_time": "2023-12-06T10:04:21.404Z"
   },
   {
    "duration": 1374,
    "start_time": "2023-12-06T10:04:21.541Z"
   },
   {
    "duration": 14,
    "start_time": "2023-12-06T10:04:22.917Z"
   },
   {
    "duration": 9,
    "start_time": "2023-12-06T10:04:22.932Z"
   },
   {
    "duration": 41,
    "start_time": "2023-12-06T10:04:22.943Z"
   },
   {
    "duration": 40,
    "start_time": "2023-12-06T10:04:22.986Z"
   },
   {
    "duration": 74,
    "start_time": "2023-12-06T10:04:23.028Z"
   },
   {
    "duration": 8,
    "start_time": "2023-12-06T10:04:23.104Z"
   },
   {
    "duration": 14,
    "start_time": "2023-12-06T10:04:23.114Z"
   },
   {
    "duration": 15,
    "start_time": "2023-12-06T10:04:23.129Z"
   },
   {
    "duration": 124,
    "start_time": "2023-12-06T10:04:23.145Z"
   },
   {
    "duration": 2,
    "start_time": "2023-12-06T10:04:23.271Z"
   },
   {
    "duration": 36,
    "start_time": "2023-12-06T10:04:23.274Z"
   },
   {
    "duration": 135,
    "start_time": "2023-12-06T10:04:23.313Z"
   },
   {
    "duration": 67,
    "start_time": "2023-12-06T10:04:23.450Z"
   },
   {
    "duration": 11,
    "start_time": "2023-12-06T10:04:23.519Z"
   },
   {
    "duration": 404,
    "start_time": "2023-12-06T10:04:23.531Z"
   },
   {
    "duration": 951,
    "start_time": "2023-12-06T10:04:23.937Z"
   },
   {
    "duration": 36,
    "start_time": "2023-12-06T10:04:24.890Z"
   },
   {
    "duration": 10,
    "start_time": "2023-12-06T10:04:24.927Z"
   },
   {
    "duration": 971,
    "start_time": "2023-12-06T10:04:24.938Z"
   },
   {
    "duration": 30,
    "start_time": "2023-12-06T10:04:25.912Z"
   },
   {
    "duration": 5,
    "start_time": "2023-12-06T10:04:25.943Z"
   },
   {
    "duration": 11,
    "start_time": "2023-12-06T10:04:25.950Z"
   },
   {
    "duration": 19,
    "start_time": "2023-12-06T10:04:25.962Z"
   },
   {
    "duration": 8,
    "start_time": "2023-12-06T10:04:25.999Z"
   },
   {
    "duration": 38,
    "start_time": "2023-12-06T10:04:26.009Z"
   },
   {
    "duration": 42,
    "start_time": "2023-12-06T10:04:26.048Z"
   },
   {
    "duration": 145,
    "start_time": "2023-12-06T10:04:26.091Z"
   },
   {
    "duration": 65,
    "start_time": "2023-12-06T10:04:26.238Z"
   },
   {
    "duration": 8,
    "start_time": "2023-12-06T10:04:26.304Z"
   },
   {
    "duration": 642,
    "start_time": "2023-12-06T10:04:26.314Z"
   },
   {
    "duration": 241,
    "start_time": "2023-12-06T10:04:26.958Z"
   },
   {
    "duration": 23,
    "start_time": "2023-12-06T10:04:27.201Z"
   },
   {
    "duration": 5,
    "start_time": "2023-12-06T10:04:27.226Z"
   },
   {
    "duration": 42,
    "start_time": "2023-12-06T10:04:27.233Z"
   },
   {
    "duration": 3,
    "start_time": "2023-12-06T10:04:27.277Z"
   },
   {
    "duration": 9,
    "start_time": "2023-12-06T10:04:27.300Z"
   },
   {
    "duration": 43,
    "start_time": "2023-12-06T10:04:27.312Z"
   },
   {
    "duration": 29,
    "start_time": "2023-12-06T10:04:27.357Z"
   },
   {
    "duration": 4,
    "start_time": "2023-12-06T10:04:29.054Z"
   },
   {
    "duration": 1274,
    "start_time": "2023-12-06T10:04:29.059Z"
   },
   {
    "duration": 10,
    "start_time": "2023-12-06T10:04:30.334Z"
   },
   {
    "duration": 49,
    "start_time": "2023-12-06T10:04:30.345Z"
   },
   {
    "duration": 28,
    "start_time": "2023-12-06T10:04:30.395Z"
   },
   {
    "duration": 27,
    "start_time": "2023-12-06T10:04:30.424Z"
   },
   {
    "duration": 137,
    "start_time": "2023-12-06T10:04:30.453Z"
   },
   {
    "duration": 109,
    "start_time": "2023-12-06T10:04:30.592Z"
   },
   {
    "duration": 58,
    "start_time": "2023-12-06T10:04:30.703Z"
   },
   {
    "duration": 207,
    "start_time": "2023-12-06T10:04:30.763Z"
   },
   {
    "duration": 4,
    "start_time": "2023-12-06T10:04:30.972Z"
   },
   {
    "duration": 113,
    "start_time": "2023-12-06T10:04:30.978Z"
   },
   {
    "duration": 194,
    "start_time": "2023-12-06T10:04:31.093Z"
   },
   {
    "duration": 112,
    "start_time": "2023-12-06T10:04:31.289Z"
   },
   {
    "duration": 1295,
    "start_time": "2023-12-06T10:04:31.402Z"
   },
   {
    "duration": 11,
    "start_time": "2023-12-06T10:04:32.699Z"
   },
   {
    "duration": 29,
    "start_time": "2023-12-06T10:04:32.711Z"
   },
   {
    "duration": 39,
    "start_time": "2023-12-06T10:04:32.742Z"
   },
   {
    "duration": 38,
    "start_time": "2023-12-06T10:04:32.783Z"
   },
   {
    "duration": 79,
    "start_time": "2023-12-06T10:04:32.823Z"
   },
   {
    "duration": 5,
    "start_time": "2023-12-06T10:04:32.904Z"
   },
   {
    "duration": 40,
    "start_time": "2023-12-06T10:04:32.910Z"
   },
   {
    "duration": 13,
    "start_time": "2023-12-06T10:04:32.952Z"
   },
   {
    "duration": 128,
    "start_time": "2023-12-06T10:04:32.966Z"
   },
   {
    "duration": 5,
    "start_time": "2023-12-06T10:04:33.096Z"
   },
   {
    "duration": 53,
    "start_time": "2023-12-06T10:04:33.103Z"
   },
   {
    "duration": 59,
    "start_time": "2023-12-06T10:04:33.157Z"
   },
   {
    "duration": 58,
    "start_time": "2023-12-06T10:04:33.217Z"
   },
   {
    "duration": 9,
    "start_time": "2023-12-06T10:04:33.276Z"
   },
   {
    "duration": 429,
    "start_time": "2023-12-06T10:04:33.299Z"
   },
   {
    "duration": 826,
    "start_time": "2023-12-06T10:04:33.729Z"
   },
   {
    "duration": 18,
    "start_time": "2023-12-06T10:04:34.557Z"
   },
   {
    "duration": 25,
    "start_time": "2023-12-06T10:04:34.576Z"
   },
   {
    "duration": 950,
    "start_time": "2023-12-06T10:04:34.602Z"
   },
   {
    "duration": 31,
    "start_time": "2023-12-06T10:04:35.553Z"
   },
   {
    "duration": 18,
    "start_time": "2023-12-06T10:04:35.585Z"
   },
   {
    "duration": 11,
    "start_time": "2023-12-06T10:04:35.605Z"
   },
   {
    "duration": 18,
    "start_time": "2023-12-06T10:04:35.618Z"
   },
   {
    "duration": 7,
    "start_time": "2023-12-06T10:04:35.638Z"
   },
   {
    "duration": 25,
    "start_time": "2023-12-06T10:04:35.646Z"
   },
   {
    "duration": 94,
    "start_time": "2023-12-06T10:04:35.673Z"
   },
   {
    "duration": 159,
    "start_time": "2023-12-06T10:04:35.769Z"
   },
   {
    "duration": 57,
    "start_time": "2023-12-06T10:04:35.929Z"
   },
   {
    "duration": 15,
    "start_time": "2023-12-06T10:04:35.988Z"
   },
   {
    "duration": 577,
    "start_time": "2023-12-06T10:04:36.005Z"
   },
   {
    "duration": 230,
    "start_time": "2023-12-06T10:04:36.584Z"
   },
   {
    "duration": 21,
    "start_time": "2023-12-06T10:04:36.815Z"
   },
   {
    "duration": 5,
    "start_time": "2023-12-06T10:04:36.838Z"
   },
   {
    "duration": 58,
    "start_time": "2023-12-06T10:04:36.844Z"
   },
   {
    "duration": 4,
    "start_time": "2023-12-06T10:04:36.904Z"
   },
   {
    "duration": 36,
    "start_time": "2023-12-06T10:04:36.910Z"
   },
   {
    "duration": 34,
    "start_time": "2023-12-06T10:04:36.948Z"
   },
   {
    "duration": 33,
    "start_time": "2023-12-06T10:04:36.983Z"
   },
   {
    "duration": 342,
    "start_time": "2023-12-06T10:04:37.018Z"
   },
   {
    "duration": 10,
    "start_time": "2023-12-06T10:04:37.362Z"
   },
   {
    "duration": 545,
    "start_time": "2023-12-06T10:04:37.374Z"
   },
   {
    "duration": 12,
    "start_time": "2023-12-06T10:04:37.920Z"
   },
   {
    "duration": 303,
    "start_time": "2023-12-06T10:04:37.934Z"
   },
   {
    "duration": 25,
    "start_time": "2023-12-06T10:04:38.238Z"
   },
   {
    "duration": 6,
    "start_time": "2023-12-06T10:04:38.264Z"
   },
   {
    "duration": 15,
    "start_time": "2023-12-06T10:04:38.272Z"
   },
   {
    "duration": 19,
    "start_time": "2023-12-06T10:04:38.288Z"
   },
   {
    "duration": 12,
    "start_time": "2023-12-06T10:04:38.309Z"
   },
   {
    "duration": 20,
    "start_time": "2023-12-06T10:04:38.322Z"
   },
   {
    "duration": 5,
    "start_time": "2023-12-06T10:04:38.344Z"
   },
   {
    "duration": 66,
    "start_time": "2023-12-06T10:04:38.351Z"
   },
   {
    "duration": 1190,
    "start_time": "2023-12-06T11:46:08.137Z"
   },
   {
    "duration": 1896,
    "start_time": "2023-12-06T11:46:09.329Z"
   },
   {
    "duration": 14,
    "start_time": "2023-12-06T11:46:11.226Z"
   },
   {
    "duration": 108,
    "start_time": "2023-12-06T11:46:11.242Z"
   },
   {
    "duration": 18,
    "start_time": "2023-12-06T11:46:11.351Z"
   },
   {
    "duration": 16,
    "start_time": "2023-12-06T11:46:11.371Z"
   },
   {
    "duration": 108,
    "start_time": "2023-12-06T11:46:11.389Z"
   },
   {
    "duration": 125,
    "start_time": "2023-12-06T11:46:11.498Z"
   },
   {
    "duration": 69,
    "start_time": "2023-12-06T11:46:11.625Z"
   },
   {
    "duration": 217,
    "start_time": "2023-12-06T11:46:11.698Z"
   },
   {
    "duration": 5,
    "start_time": "2023-12-06T11:46:11.917Z"
   },
   {
    "duration": 47,
    "start_time": "2023-12-06T11:46:11.924Z"
   },
   {
    "duration": 166,
    "start_time": "2023-12-06T11:46:11.973Z"
   },
   {
    "duration": 167,
    "start_time": "2023-12-06T11:46:12.141Z"
   },
   {
    "duration": 1118,
    "start_time": "2023-12-06T11:46:12.310Z"
   },
   {
    "duration": 12,
    "start_time": "2023-12-06T11:46:13.430Z"
   },
   {
    "duration": 22,
    "start_time": "2023-12-06T11:46:13.444Z"
   },
   {
    "duration": 24,
    "start_time": "2023-12-06T11:46:13.467Z"
   },
   {
    "duration": 14,
    "start_time": "2023-12-06T11:46:13.492Z"
   },
   {
    "duration": 91,
    "start_time": "2023-12-06T11:46:13.508Z"
   },
   {
    "duration": 5,
    "start_time": "2023-12-06T11:46:13.600Z"
   },
   {
    "duration": 11,
    "start_time": "2023-12-06T11:46:13.607Z"
   },
   {
    "duration": 4,
    "start_time": "2023-12-06T11:46:13.619Z"
   },
   {
    "duration": 117,
    "start_time": "2023-12-06T11:46:13.624Z"
   },
   {
    "duration": 3,
    "start_time": "2023-12-06T11:46:13.742Z"
   },
   {
    "duration": 32,
    "start_time": "2023-12-06T11:46:13.746Z"
   },
   {
    "duration": 53,
    "start_time": "2023-12-06T11:46:13.779Z"
   },
   {
    "duration": 62,
    "start_time": "2023-12-06T11:46:13.836Z"
   },
   {
    "duration": 9,
    "start_time": "2023-12-06T11:46:13.899Z"
   },
   {
    "duration": 431,
    "start_time": "2023-12-06T11:46:13.909Z"
   },
   {
    "duration": 886,
    "start_time": "2023-12-06T11:46:14.342Z"
   },
   {
    "duration": 30,
    "start_time": "2023-12-06T11:46:15.229Z"
   },
   {
    "duration": 9,
    "start_time": "2023-12-06T11:46:15.261Z"
   },
   {
    "duration": 835,
    "start_time": "2023-12-06T11:46:15.272Z"
   },
   {
    "duration": 40,
    "start_time": "2023-12-06T11:46:16.109Z"
   },
   {
    "duration": 9,
    "start_time": "2023-12-06T11:46:16.151Z"
   },
   {
    "duration": 5,
    "start_time": "2023-12-06T11:46:16.161Z"
   },
   {
    "duration": 17,
    "start_time": "2023-12-06T11:46:16.168Z"
   },
   {
    "duration": 7,
    "start_time": "2023-12-06T11:46:16.186Z"
   },
   {
    "duration": 549,
    "start_time": "2023-12-06T11:46:16.195Z"
   },
   {
    "duration": 42,
    "start_time": "2023-12-06T11:46:16.745Z"
   },
   {
    "duration": 218,
    "start_time": "2023-12-06T11:46:16.789Z"
   },
   {
    "duration": 73,
    "start_time": "2023-12-06T11:46:17.010Z"
   },
   {
    "duration": 6,
    "start_time": "2023-12-06T11:46:17.085Z"
   },
   {
    "duration": 591,
    "start_time": "2023-12-06T11:46:17.092Z"
   },
   {
    "duration": 217,
    "start_time": "2023-12-06T11:46:17.685Z"
   },
   {
    "duration": 20,
    "start_time": "2023-12-06T11:46:17.904Z"
   },
   {
    "duration": 5,
    "start_time": "2023-12-06T11:46:17.926Z"
   },
   {
    "duration": 50,
    "start_time": "2023-12-06T11:46:17.932Z"
   },
   {
    "duration": 4,
    "start_time": "2023-12-06T11:46:17.984Z"
   },
   {
    "duration": 10,
    "start_time": "2023-12-06T11:46:17.989Z"
   },
   {
    "duration": 6,
    "start_time": "2023-12-06T11:46:18.001Z"
   },
   {
    "duration": 4,
    "start_time": "2023-12-06T11:46:18.009Z"
   },
   {
    "duration": 344,
    "start_time": "2023-12-06T11:46:18.014Z"
   },
   {
    "duration": 11,
    "start_time": "2023-12-06T11:46:18.360Z"
   },
   {
    "duration": 706,
    "start_time": "2023-12-06T11:46:18.373Z"
   },
   {
    "duration": 12,
    "start_time": "2023-12-06T11:46:19.080Z"
   },
   {
    "duration": 332,
    "start_time": "2023-12-06T11:46:19.094Z"
   },
   {
    "duration": 34,
    "start_time": "2023-12-06T11:46:19.428Z"
   },
   {
    "duration": 8,
    "start_time": "2023-12-06T11:46:19.463Z"
   },
   {
    "duration": 18,
    "start_time": "2023-12-06T11:46:19.473Z"
   },
   {
    "duration": 34,
    "start_time": "2023-12-06T11:46:19.493Z"
   },
   {
    "duration": 39,
    "start_time": "2023-12-06T11:46:19.529Z"
   },
   {
    "duration": 43,
    "start_time": "2023-12-06T11:46:19.570Z"
   },
   {
    "duration": 5,
    "start_time": "2023-12-06T11:46:19.614Z"
   },
   {
    "duration": 48,
    "start_time": "2023-12-06T11:46:19.621Z"
   },
   {
    "duration": 48,
    "start_time": "2023-12-07T05:34:49.131Z"
   },
   {
    "duration": 4,
    "start_time": "2023-12-07T05:35:19.360Z"
   },
   {
    "duration": 919,
    "start_time": "2023-12-07T05:35:19.366Z"
   },
   {
    "duration": 9,
    "start_time": "2023-12-07T05:35:20.287Z"
   },
   {
    "duration": 16,
    "start_time": "2023-12-07T05:35:20.297Z"
   },
   {
    "duration": 17,
    "start_time": "2023-12-07T05:35:20.314Z"
   },
   {
    "duration": 39,
    "start_time": "2023-12-07T05:35:20.332Z"
   },
   {
    "duration": 104,
    "start_time": "2023-12-07T05:35:20.373Z"
   },
   {
    "duration": 110,
    "start_time": "2023-12-07T05:35:20.479Z"
   },
   {
    "duration": 70,
    "start_time": "2023-12-07T05:35:20.591Z"
   },
   {
    "duration": 194,
    "start_time": "2023-12-07T05:35:20.663Z"
   },
   {
    "duration": 4,
    "start_time": "2023-12-07T05:35:20.859Z"
   },
   {
    "duration": 76,
    "start_time": "2023-12-07T05:35:20.864Z"
   },
   {
    "duration": 168,
    "start_time": "2023-12-07T05:35:20.941Z"
   },
   {
    "duration": 103,
    "start_time": "2023-12-07T05:35:21.110Z"
   },
   {
    "duration": 1249,
    "start_time": "2023-12-07T05:35:21.223Z"
   },
   {
    "duration": 12,
    "start_time": "2023-12-07T05:35:22.473Z"
   },
   {
    "duration": 8,
    "start_time": "2023-12-07T05:35:22.486Z"
   },
   {
    "duration": 39,
    "start_time": "2023-12-07T05:35:22.495Z"
   },
   {
    "duration": 15,
    "start_time": "2023-12-07T05:35:22.536Z"
   },
   {
    "duration": 95,
    "start_time": "2023-12-07T05:35:22.553Z"
   },
   {
    "duration": 5,
    "start_time": "2023-12-07T05:35:22.649Z"
   },
   {
    "duration": 13,
    "start_time": "2023-12-07T05:35:22.656Z"
   },
   {
    "duration": 8,
    "start_time": "2023-12-07T05:35:22.671Z"
   },
   {
    "duration": 107,
    "start_time": "2023-12-07T05:35:22.681Z"
   },
   {
    "duration": 2,
    "start_time": "2023-12-07T05:35:22.790Z"
   },
   {
    "duration": 29,
    "start_time": "2023-12-07T05:35:22.793Z"
   },
   {
    "duration": 53,
    "start_time": "2023-12-07T05:35:22.823Z"
   },
   {
    "duration": 55,
    "start_time": "2023-12-07T05:35:22.878Z"
   },
   {
    "duration": 9,
    "start_time": "2023-12-07T05:35:22.934Z"
   },
   {
    "duration": 385,
    "start_time": "2023-12-07T05:35:22.944Z"
   },
   {
    "duration": 849,
    "start_time": "2023-12-07T05:35:23.331Z"
   },
   {
    "duration": 19,
    "start_time": "2023-12-07T05:35:24.182Z"
   },
   {
    "duration": 29,
    "start_time": "2023-12-07T05:35:24.202Z"
   },
   {
    "duration": 14,
    "start_time": "2023-12-07T05:35:24.232Z"
   },
   {
    "duration": 1001,
    "start_time": "2023-12-07T05:35:24.247Z"
   },
   {
    "duration": 31,
    "start_time": "2023-12-07T05:35:25.250Z"
   },
   {
    "duration": 5,
    "start_time": "2023-12-07T05:35:25.282Z"
   },
   {
    "duration": 27,
    "start_time": "2023-12-07T05:35:25.288Z"
   },
   {
    "duration": 42,
    "start_time": "2023-12-07T05:35:25.317Z"
   },
   {
    "duration": 16,
    "start_time": "2023-12-07T05:35:25.360Z"
   },
   {
    "duration": 35,
    "start_time": "2023-12-07T05:35:25.378Z"
   },
   {
    "duration": 48,
    "start_time": "2023-12-07T05:35:25.415Z"
   },
   {
    "duration": 136,
    "start_time": "2023-12-07T05:35:25.465Z"
   },
   {
    "duration": 65,
    "start_time": "2023-12-07T05:35:25.603Z"
   },
   {
    "duration": 5,
    "start_time": "2023-12-07T05:35:25.670Z"
   },
   {
    "duration": 592,
    "start_time": "2023-12-07T05:35:25.676Z"
   },
   {
    "duration": 241,
    "start_time": "2023-12-07T05:35:26.269Z"
   },
   {
    "duration": 21,
    "start_time": "2023-12-07T05:35:26.521Z"
   },
   {
    "duration": 4,
    "start_time": "2023-12-07T05:35:26.544Z"
   },
   {
    "duration": 34,
    "start_time": "2023-12-07T05:35:26.550Z"
   },
   {
    "duration": 3,
    "start_time": "2023-12-07T05:35:26.586Z"
   },
   {
    "duration": 32,
    "start_time": "2023-12-07T05:35:26.591Z"
   },
   {
    "duration": 6,
    "start_time": "2023-12-07T05:35:26.624Z"
   },
   {
    "duration": 6,
    "start_time": "2023-12-07T05:35:26.632Z"
   },
   {
    "duration": 376,
    "start_time": "2023-12-07T05:35:26.640Z"
   },
   {
    "duration": 12,
    "start_time": "2023-12-07T05:35:27.018Z"
   },
   {
    "duration": 526,
    "start_time": "2023-12-07T05:35:27.032Z"
   },
   {
    "duration": 11,
    "start_time": "2023-12-07T05:35:27.559Z"
   },
   {
    "duration": 308,
    "start_time": "2023-12-07T05:35:27.571Z"
   },
   {
    "duration": 26,
    "start_time": "2023-12-07T05:35:27.881Z"
   },
   {
    "duration": 17,
    "start_time": "2023-12-07T05:35:27.909Z"
   },
   {
    "duration": 8,
    "start_time": "2023-12-07T05:35:27.927Z"
   },
   {
    "duration": 15,
    "start_time": "2023-12-07T05:35:27.937Z"
   },
   {
    "duration": 16,
    "start_time": "2023-12-07T05:35:27.954Z"
   },
   {
    "duration": 20,
    "start_time": "2023-12-07T05:35:27.972Z"
   },
   {
    "duration": 4,
    "start_time": "2023-12-07T05:35:27.994Z"
   },
   {
    "duration": 35,
    "start_time": "2023-12-07T05:35:28.022Z"
   },
   {
    "duration": 77,
    "start_time": "2023-12-07T05:36:37.942Z"
   },
   {
    "duration": 110,
    "start_time": "2023-12-07T05:36:42.222Z"
   },
   {
    "duration": 8,
    "start_time": "2023-12-07T05:37:13.740Z"
   },
   {
    "duration": 8,
    "start_time": "2023-12-07T05:37:30.004Z"
   },
   {
    "duration": 76,
    "start_time": "2023-12-07T05:39:21.043Z"
   },
   {
    "duration": 38,
    "start_time": "2023-12-07T05:39:30.401Z"
   },
   {
    "duration": 12,
    "start_time": "2023-12-07T05:40:06.647Z"
   },
   {
    "duration": 12,
    "start_time": "2023-12-07T05:41:17.501Z"
   },
   {
    "duration": 10,
    "start_time": "2023-12-07T05:41:31.834Z"
   },
   {
    "duration": 5,
    "start_time": "2023-12-07T05:42:05.193Z"
   },
   {
    "duration": 5,
    "start_time": "2023-12-07T05:42:07.293Z"
   },
   {
    "duration": 21,
    "start_time": "2023-12-07T05:44:31.911Z"
   },
   {
    "duration": 9,
    "start_time": "2023-12-07T05:46:55.927Z"
   },
   {
    "duration": 12,
    "start_time": "2023-12-07T05:48:19.676Z"
   },
   {
    "duration": 10,
    "start_time": "2023-12-07T05:49:01.271Z"
   },
   {
    "duration": 12,
    "start_time": "2023-12-07T05:49:22.355Z"
   },
   {
    "duration": 15,
    "start_time": "2023-12-07T05:49:54.309Z"
   },
   {
    "duration": 12,
    "start_time": "2023-12-07T05:50:48.264Z"
   },
   {
    "duration": 14,
    "start_time": "2023-12-07T05:51:31.757Z"
   },
   {
    "duration": 10,
    "start_time": "2023-12-07T05:52:17.550Z"
   },
   {
    "duration": 13,
    "start_time": "2023-12-07T05:53:36.452Z"
   },
   {
    "duration": 12,
    "start_time": "2023-12-07T05:53:57.966Z"
   },
   {
    "duration": 7,
    "start_time": "2023-12-07T05:55:14.242Z"
   },
   {
    "duration": 7,
    "start_time": "2023-12-07T05:55:58.235Z"
   },
   {
    "duration": 14,
    "start_time": "2023-12-07T05:56:25.975Z"
   },
   {
    "duration": 16,
    "start_time": "2023-12-07T05:56:54.083Z"
   },
   {
    "duration": 16,
    "start_time": "2023-12-07T05:57:08.623Z"
   },
   {
    "duration": 15,
    "start_time": "2023-12-07T05:57:22.767Z"
   },
   {
    "duration": 7,
    "start_time": "2023-12-07T05:57:31.348Z"
   },
   {
    "duration": 8,
    "start_time": "2023-12-07T05:57:55.205Z"
   },
   {
    "duration": 12,
    "start_time": "2023-12-07T05:58:49.236Z"
   },
   {
    "duration": 16,
    "start_time": "2023-12-07T05:59:11.105Z"
   },
   {
    "duration": 13,
    "start_time": "2023-12-07T06:01:46.699Z"
   },
   {
    "duration": 7,
    "start_time": "2023-12-07T06:04:58.776Z"
   },
   {
    "duration": 8,
    "start_time": "2023-12-07T06:05:06.147Z"
   },
   {
    "duration": 9,
    "start_time": "2023-12-07T06:05:35.111Z"
   },
   {
    "duration": 12,
    "start_time": "2023-12-07T06:05:54.239Z"
   },
   {
    "duration": 12,
    "start_time": "2023-12-07T06:07:50.948Z"
   },
   {
    "duration": 18,
    "start_time": "2023-12-07T06:10:13.369Z"
   },
   {
    "duration": 17,
    "start_time": "2023-12-07T06:13:47.478Z"
   },
   {
    "duration": 17,
    "start_time": "2023-12-07T06:14:55.450Z"
   },
   {
    "duration": 630,
    "start_time": "2023-12-07T06:15:26.596Z"
   },
   {
    "duration": 6,
    "start_time": "2023-12-07T06:15:27.427Z"
   },
   {
    "duration": 10,
    "start_time": "2023-12-07T06:15:35.567Z"
   },
   {
    "duration": 19,
    "start_time": "2023-12-07T06:15:37.475Z"
   },
   {
    "duration": 18,
    "start_time": "2023-12-07T06:15:38.805Z"
   },
   {
    "duration": 18,
    "start_time": "2023-12-07T06:15:40.364Z"
   },
   {
    "duration": 32,
    "start_time": "2023-12-07T06:15:48.166Z"
   },
   {
    "duration": 20,
    "start_time": "2023-12-07T06:17:09.565Z"
   },
   {
    "duration": 31,
    "start_time": "2023-12-07T06:17:20.654Z"
   },
   {
    "duration": 31,
    "start_time": "2023-12-07T06:18:04.294Z"
   },
   {
    "duration": 1284,
    "start_time": "2023-12-07T06:18:46.839Z"
   },
   {
    "duration": 1444,
    "start_time": "2023-12-07T06:18:48.125Z"
   },
   {
    "duration": 12,
    "start_time": "2023-12-07T06:18:49.571Z"
   },
   {
    "duration": 9,
    "start_time": "2023-12-07T06:18:49.586Z"
   },
   {
    "duration": 37,
    "start_time": "2023-12-07T06:18:58.627Z"
   },
   {
    "duration": 1107,
    "start_time": "2023-12-07T06:18:58.665Z"
   },
   {
    "duration": 9,
    "start_time": "2023-12-07T06:18:59.773Z"
   },
   {
    "duration": 14,
    "start_time": "2023-12-07T06:18:59.784Z"
   },
   {
    "duration": 12,
    "start_time": "2023-12-07T06:18:59.799Z"
   },
   {
    "duration": 11,
    "start_time": "2023-12-07T06:18:59.812Z"
   },
   {
    "duration": 110,
    "start_time": "2023-12-07T06:18:59.825Z"
   },
   {
    "duration": 119,
    "start_time": "2023-12-07T06:18:59.936Z"
   },
   {
    "duration": 69,
    "start_time": "2023-12-07T06:19:00.057Z"
   },
   {
    "duration": 232,
    "start_time": "2023-12-07T06:19:00.128Z"
   },
   {
    "duration": 4,
    "start_time": "2023-12-07T06:19:00.362Z"
   },
   {
    "duration": 70,
    "start_time": "2023-12-07T06:19:00.368Z"
   },
   {
    "duration": 186,
    "start_time": "2023-12-07T06:19:00.445Z"
   },
   {
    "duration": 151,
    "start_time": "2023-12-07T06:19:00.633Z"
   },
   {
    "duration": 1328,
    "start_time": "2023-12-07T06:19:00.786Z"
   },
   {
    "duration": 16,
    "start_time": "2023-12-07T06:19:02.115Z"
   },
   {
    "duration": 55,
    "start_time": "2023-12-07T06:19:02.133Z"
   },
   {
    "duration": 27,
    "start_time": "2023-12-07T06:19:02.190Z"
   },
   {
    "duration": 63,
    "start_time": "2023-12-07T06:19:02.218Z"
   },
   {
    "duration": 141,
    "start_time": "2023-12-07T06:19:02.283Z"
   },
   {
    "duration": 5,
    "start_time": "2023-12-07T06:19:02.426Z"
   },
   {
    "duration": 27,
    "start_time": "2023-12-07T06:19:02.433Z"
   },
   {
    "duration": 61,
    "start_time": "2023-12-07T06:19:02.461Z"
   },
   {
    "duration": 168,
    "start_time": "2023-12-07T06:19:02.524Z"
   },
   {
    "duration": 2,
    "start_time": "2023-12-07T06:19:02.694Z"
   },
   {
    "duration": 64,
    "start_time": "2023-12-07T06:19:02.698Z"
   },
   {
    "duration": 133,
    "start_time": "2023-12-07T06:19:02.763Z"
   },
   {
    "duration": 58,
    "start_time": "2023-12-07T06:19:02.898Z"
   },
   {
    "duration": 28,
    "start_time": "2023-12-07T06:19:02.958Z"
   },
   {
    "duration": 421,
    "start_time": "2023-12-07T06:19:02.988Z"
   },
   {
    "duration": 916,
    "start_time": "2023-12-07T06:19:03.411Z"
   },
   {
    "duration": 8,
    "start_time": "2023-12-07T06:19:04.329Z"
   },
   {
    "duration": 40,
    "start_time": "2023-12-07T06:19:04.339Z"
   },
   {
    "duration": 30,
    "start_time": "2023-12-07T06:19:04.381Z"
   },
   {
    "duration": 22,
    "start_time": "2023-12-07T06:19:04.413Z"
   },
   {
    "duration": 11,
    "start_time": "2023-12-07T06:19:04.437Z"
   },
   {
    "duration": 1009,
    "start_time": "2023-12-07T06:19:04.449Z"
   },
   {
    "duration": 32,
    "start_time": "2023-12-07T06:19:05.459Z"
   },
   {
    "duration": 34,
    "start_time": "2023-12-07T06:19:05.493Z"
   },
   {
    "duration": 22,
    "start_time": "2023-12-07T06:19:05.528Z"
   },
   {
    "duration": 33,
    "start_time": "2023-12-07T06:19:05.551Z"
   },
   {
    "duration": 8,
    "start_time": "2023-12-07T06:19:05.585Z"
   },
   {
    "duration": 24,
    "start_time": "2023-12-07T06:19:05.595Z"
   },
   {
    "duration": 50,
    "start_time": "2023-12-07T06:19:05.620Z"
   },
   {
    "duration": 183,
    "start_time": "2023-12-07T06:19:05.671Z"
   },
   {
    "duration": 71,
    "start_time": "2023-12-07T06:19:05.855Z"
   },
   {
    "duration": 6,
    "start_time": "2023-12-07T06:19:05.928Z"
   },
   {
    "duration": 675,
    "start_time": "2023-12-07T06:19:05.935Z"
   },
   {
    "duration": 241,
    "start_time": "2023-12-07T06:19:06.612Z"
   },
   {
    "duration": 19,
    "start_time": "2023-12-07T06:19:06.855Z"
   },
   {
    "duration": 6,
    "start_time": "2023-12-07T06:19:06.876Z"
   },
   {
    "duration": 50,
    "start_time": "2023-12-07T06:19:06.884Z"
   },
   {
    "duration": 3,
    "start_time": "2023-12-07T06:19:06.936Z"
   },
   {
    "duration": 9,
    "start_time": "2023-12-07T06:19:06.941Z"
   },
   {
    "duration": 7,
    "start_time": "2023-12-07T06:19:06.952Z"
   },
   {
    "duration": 4,
    "start_time": "2023-12-07T06:19:06.961Z"
   },
   {
    "duration": 407,
    "start_time": "2023-12-07T06:19:06.966Z"
   },
   {
    "duration": 11,
    "start_time": "2023-12-07T06:19:07.375Z"
   },
   {
    "duration": 593,
    "start_time": "2023-12-07T06:19:07.388Z"
   },
   {
    "duration": 13,
    "start_time": "2023-12-07T06:19:07.983Z"
   },
   {
    "duration": 447,
    "start_time": "2023-12-07T06:19:07.998Z"
   },
   {
    "duration": 29,
    "start_time": "2023-12-07T06:19:08.447Z"
   },
   {
    "duration": 21,
    "start_time": "2023-12-07T06:19:08.478Z"
   },
   {
    "duration": 17,
    "start_time": "2023-12-07T06:19:08.501Z"
   },
   {
    "duration": 17,
    "start_time": "2023-12-07T06:19:08.520Z"
   },
   {
    "duration": 12,
    "start_time": "2023-12-07T06:19:08.539Z"
   },
   {
    "duration": 28,
    "start_time": "2023-12-07T06:19:08.553Z"
   },
   {
    "duration": 5,
    "start_time": "2023-12-07T06:19:08.583Z"
   },
   {
    "duration": 63,
    "start_time": "2023-12-07T06:19:08.590Z"
   },
   {
    "duration": 8,
    "start_time": "2023-12-07T06:20:35.553Z"
   },
   {
    "duration": 20,
    "start_time": "2023-12-07T06:21:03.177Z"
   },
   {
    "duration": 31,
    "start_time": "2023-12-07T06:21:16.313Z"
   },
   {
    "duration": 26,
    "start_time": "2023-12-07T06:22:10.944Z"
   },
   {
    "duration": 27,
    "start_time": "2023-12-07T06:22:40.847Z"
   },
   {
    "duration": 24,
    "start_time": "2023-12-07T06:23:01.056Z"
   },
   {
    "duration": 3,
    "start_time": "2023-12-07T06:28:11.893Z"
   },
   {
    "duration": 974,
    "start_time": "2023-12-07T06:28:11.898Z"
   },
   {
    "duration": 9,
    "start_time": "2023-12-07T06:28:12.874Z"
   },
   {
    "duration": 12,
    "start_time": "2023-12-07T06:28:12.885Z"
   },
   {
    "duration": 12,
    "start_time": "2023-12-07T06:28:12.899Z"
   },
   {
    "duration": 14,
    "start_time": "2023-12-07T06:28:12.913Z"
   },
   {
    "duration": 110,
    "start_time": "2023-12-07T06:28:12.929Z"
   },
   {
    "duration": 118,
    "start_time": "2023-12-07T06:28:13.041Z"
   },
   {
    "duration": 74,
    "start_time": "2023-12-07T06:28:13.161Z"
   },
   {
    "duration": 238,
    "start_time": "2023-12-07T06:28:13.236Z"
   },
   {
    "duration": 4,
    "start_time": "2023-12-07T06:28:13.476Z"
   },
   {
    "duration": 46,
    "start_time": "2023-12-07T06:28:13.482Z"
   },
   {
    "duration": 176,
    "start_time": "2023-12-07T06:28:13.530Z"
   },
   {
    "duration": 132,
    "start_time": "2023-12-07T06:28:13.708Z"
   },
   {
    "duration": 1321,
    "start_time": "2023-12-07T06:28:13.842Z"
   },
   {
    "duration": 13,
    "start_time": "2023-12-07T06:28:15.165Z"
   },
   {
    "duration": 86,
    "start_time": "2023-12-07T06:28:15.180Z"
   },
   {
    "duration": 50,
    "start_time": "2023-12-07T06:28:15.269Z"
   },
   {
    "duration": 38,
    "start_time": "2023-12-07T06:28:15.321Z"
   },
   {
    "duration": 111,
    "start_time": "2023-12-07T06:28:15.361Z"
   },
   {
    "duration": 7,
    "start_time": "2023-12-07T06:28:15.474Z"
   },
   {
    "duration": 42,
    "start_time": "2023-12-07T06:28:15.482Z"
   },
   {
    "duration": 20,
    "start_time": "2023-12-07T06:28:15.526Z"
   },
   {
    "duration": 130,
    "start_time": "2023-12-07T06:28:15.548Z"
   },
   {
    "duration": 3,
    "start_time": "2023-12-07T06:28:15.679Z"
   },
   {
    "duration": 67,
    "start_time": "2023-12-07T06:28:15.683Z"
   },
   {
    "duration": 82,
    "start_time": "2023-12-07T06:28:15.751Z"
   },
   {
    "duration": 49,
    "start_time": "2023-12-07T06:28:15.834Z"
   },
   {
    "duration": 24,
    "start_time": "2023-12-07T06:28:15.885Z"
   },
   {
    "duration": 424,
    "start_time": "2023-12-07T06:28:15.911Z"
   },
   {
    "duration": 898,
    "start_time": "2023-12-07T06:28:16.336Z"
   },
   {
    "duration": 8,
    "start_time": "2023-12-07T06:28:17.236Z"
   },
   {
    "duration": 54,
    "start_time": "2023-12-07T06:28:17.246Z"
   },
   {
    "duration": 78,
    "start_time": "2023-12-07T06:28:17.302Z"
   },
   {
    "duration": 31,
    "start_time": "2023-12-07T06:28:17.382Z"
   },
   {
    "duration": 1068,
    "start_time": "2023-12-07T06:28:17.414Z"
   },
   {
    "duration": 39,
    "start_time": "2023-12-07T06:28:18.483Z"
   },
   {
    "duration": 5,
    "start_time": "2023-12-07T06:28:18.524Z"
   },
   {
    "duration": 10,
    "start_time": "2023-12-07T06:28:18.531Z"
   },
   {
    "duration": 18,
    "start_time": "2023-12-07T06:28:18.543Z"
   },
   {
    "duration": 7,
    "start_time": "2023-12-07T06:28:18.562Z"
   },
   {
    "duration": 18,
    "start_time": "2023-12-07T06:28:18.571Z"
   },
   {
    "duration": 65,
    "start_time": "2023-12-07T06:28:18.590Z"
   },
   {
    "duration": 152,
    "start_time": "2023-12-07T06:28:18.657Z"
   },
   {
    "duration": 68,
    "start_time": "2023-12-07T06:28:18.811Z"
   },
   {
    "duration": 5,
    "start_time": "2023-12-07T06:28:18.881Z"
   },
   {
    "duration": 596,
    "start_time": "2023-12-07T06:28:18.887Z"
   },
   {
    "duration": 249,
    "start_time": "2023-12-07T06:28:19.485Z"
   },
   {
    "duration": 20,
    "start_time": "2023-12-07T06:28:19.736Z"
   },
   {
    "duration": 12,
    "start_time": "2023-12-07T06:28:19.758Z"
   },
   {
    "duration": 36,
    "start_time": "2023-12-07T06:28:19.771Z"
   },
   {
    "duration": 4,
    "start_time": "2023-12-07T06:28:19.823Z"
   },
   {
    "duration": 9,
    "start_time": "2023-12-07T06:28:19.828Z"
   },
   {
    "duration": 7,
    "start_time": "2023-12-07T06:28:19.839Z"
   },
   {
    "duration": 15,
    "start_time": "2023-12-07T06:28:19.847Z"
   },
   {
    "duration": 380,
    "start_time": "2023-12-07T06:28:19.863Z"
   },
   {
    "duration": 12,
    "start_time": "2023-12-07T06:28:20.244Z"
   },
   {
    "duration": 597,
    "start_time": "2023-12-07T06:28:20.258Z"
   },
   {
    "duration": 13,
    "start_time": "2023-12-07T06:28:20.856Z"
   },
   {
    "duration": 339,
    "start_time": "2023-12-07T06:28:20.871Z"
   },
   {
    "duration": 33,
    "start_time": "2023-12-07T06:28:21.211Z"
   },
   {
    "duration": 7,
    "start_time": "2023-12-07T06:28:21.246Z"
   },
   {
    "duration": 9,
    "start_time": "2023-12-07T06:28:21.254Z"
   },
   {
    "duration": 11,
    "start_time": "2023-12-07T06:28:21.264Z"
   },
   {
    "duration": 18,
    "start_time": "2023-12-07T06:28:21.276Z"
   },
   {
    "duration": 45,
    "start_time": "2023-12-07T06:28:21.295Z"
   },
   {
    "duration": 5,
    "start_time": "2023-12-07T06:28:21.341Z"
   },
   {
    "duration": 38,
    "start_time": "2023-12-07T06:28:21.347Z"
   },
   {
    "duration": 652,
    "start_time": "2023-12-07T06:29:45.655Z"
   },
   {
    "duration": 4,
    "start_time": "2023-12-07T06:29:46.309Z"
   },
   {
    "duration": 8,
    "start_time": "2023-12-07T06:29:46.586Z"
   },
   {
    "duration": 25,
    "start_time": "2023-12-07T06:29:47.240Z"
   },
   {
    "duration": 32,
    "start_time": "2023-12-07T06:30:28.154Z"
   },
   {
    "duration": 1307,
    "start_time": "2023-12-07T08:04:41.840Z"
   },
   {
    "duration": 1438,
    "start_time": "2023-12-07T08:04:43.149Z"
   },
   {
    "duration": 13,
    "start_time": "2023-12-07T08:04:44.589Z"
   },
   {
    "duration": 8,
    "start_time": "2023-12-07T08:04:44.604Z"
   },
   {
    "duration": 14,
    "start_time": "2023-12-07T08:04:44.613Z"
   },
   {
    "duration": 10,
    "start_time": "2023-12-07T08:04:44.628Z"
   },
   {
    "duration": 102,
    "start_time": "2023-12-07T08:04:44.639Z"
   },
   {
    "duration": 117,
    "start_time": "2023-12-07T08:04:44.743Z"
   },
   {
    "duration": 53,
    "start_time": "2023-12-07T08:04:44.862Z"
   },
   {
    "duration": 213,
    "start_time": "2023-12-07T08:04:44.918Z"
   },
   {
    "duration": 4,
    "start_time": "2023-12-07T08:04:45.133Z"
   },
   {
    "duration": 30,
    "start_time": "2023-12-07T08:04:45.138Z"
   },
   {
    "duration": 162,
    "start_time": "2023-12-07T08:04:45.169Z"
   },
   {
    "duration": 102,
    "start_time": "2023-12-07T08:04:45.332Z"
   },
   {
    "duration": 1064,
    "start_time": "2023-12-07T08:04:45.435Z"
   },
   {
    "duration": 11,
    "start_time": "2023-12-07T08:04:46.501Z"
   },
   {
    "duration": 17,
    "start_time": "2023-12-07T08:04:46.513Z"
   },
   {
    "duration": 21,
    "start_time": "2023-12-07T08:04:46.532Z"
   },
   {
    "duration": 13,
    "start_time": "2023-12-07T08:04:46.555Z"
   },
   {
    "duration": 89,
    "start_time": "2023-12-07T08:04:46.570Z"
   },
   {
    "duration": 5,
    "start_time": "2023-12-07T08:04:46.660Z"
   },
   {
    "duration": 12,
    "start_time": "2023-12-07T08:04:46.666Z"
   },
   {
    "duration": 13,
    "start_time": "2023-12-07T08:04:46.679Z"
   },
   {
    "duration": 112,
    "start_time": "2023-12-07T08:04:46.694Z"
   },
   {
    "duration": 3,
    "start_time": "2023-12-07T08:04:46.807Z"
   },
   {
    "duration": 32,
    "start_time": "2023-12-07T08:04:46.811Z"
   },
   {
    "duration": 50,
    "start_time": "2023-12-07T08:04:46.845Z"
   },
   {
    "duration": 54,
    "start_time": "2023-12-07T08:04:46.898Z"
   },
   {
    "duration": 11,
    "start_time": "2023-12-07T08:04:46.954Z"
   },
   {
    "duration": 418,
    "start_time": "2023-12-07T08:04:46.967Z"
   },
   {
    "duration": 826,
    "start_time": "2023-12-07T08:04:47.386Z"
   },
   {
    "duration": 16,
    "start_time": "2023-12-07T08:04:48.214Z"
   },
   {
    "duration": 25,
    "start_time": "2023-12-07T08:04:48.232Z"
   },
   {
    "duration": 9,
    "start_time": "2023-12-07T08:04:48.259Z"
   },
   {
    "duration": 779,
    "start_time": "2023-12-07T08:04:48.270Z"
   },
   {
    "duration": 30,
    "start_time": "2023-12-07T08:04:49.050Z"
   },
   {
    "duration": 5,
    "start_time": "2023-12-07T08:04:49.082Z"
   },
   {
    "duration": 14,
    "start_time": "2023-12-07T08:04:49.090Z"
   },
   {
    "duration": 37,
    "start_time": "2023-12-07T08:04:49.106Z"
   },
   {
    "duration": 6,
    "start_time": "2023-12-07T08:04:49.146Z"
   },
   {
    "duration": 474,
    "start_time": "2023-12-07T08:04:49.154Z"
   },
   {
    "duration": 47,
    "start_time": "2023-12-07T08:04:49.630Z"
   },
   {
    "duration": 164,
    "start_time": "2023-12-07T08:04:49.730Z"
   },
   {
    "duration": 66,
    "start_time": "2023-12-07T08:04:49.895Z"
   },
   {
    "duration": 6,
    "start_time": "2023-12-07T08:04:49.963Z"
   },
   {
    "duration": 517,
    "start_time": "2023-12-07T08:04:49.971Z"
   },
   {
    "duration": 198,
    "start_time": "2023-12-07T08:04:50.490Z"
   },
   {
    "duration": 23,
    "start_time": "2023-12-07T08:04:50.690Z"
   },
   {
    "duration": 5,
    "start_time": "2023-12-07T08:04:50.730Z"
   },
   {
    "duration": 49,
    "start_time": "2023-12-07T08:04:50.737Z"
   },
   {
    "duration": 5,
    "start_time": "2023-12-07T08:04:50.788Z"
   },
   {
    "duration": 21,
    "start_time": "2023-12-07T08:04:50.795Z"
   },
   {
    "duration": 14,
    "start_time": "2023-12-07T08:04:50.818Z"
   },
   {
    "duration": 19,
    "start_time": "2023-12-07T08:04:50.834Z"
   },
   {
    "duration": 303,
    "start_time": "2023-12-07T08:04:50.855Z"
   },
   {
    "duration": 11,
    "start_time": "2023-12-07T08:04:51.160Z"
   },
   {
    "duration": 694,
    "start_time": "2023-12-07T08:04:51.172Z"
   },
   {
    "duration": 13,
    "start_time": "2023-12-07T08:04:51.867Z"
   },
   {
    "duration": 294,
    "start_time": "2023-12-07T08:04:51.881Z"
   },
   {
    "duration": 24,
    "start_time": "2023-12-07T08:04:52.176Z"
   },
   {
    "duration": 13,
    "start_time": "2023-12-07T08:04:52.202Z"
   },
   {
    "duration": 27,
    "start_time": "2023-12-07T08:04:52.216Z"
   },
   {
    "duration": 16,
    "start_time": "2023-12-07T08:04:52.245Z"
   },
   {
    "duration": 27,
    "start_time": "2023-12-07T08:04:52.262Z"
   },
   {
    "duration": 45,
    "start_time": "2023-12-07T08:04:52.290Z"
   },
   {
    "duration": 5,
    "start_time": "2023-12-07T08:04:52.336Z"
   },
   {
    "duration": 42,
    "start_time": "2023-12-07T08:04:52.342Z"
   },
   {
    "duration": 20,
    "start_time": "2023-12-07T08:05:51.293Z"
   },
   {
    "duration": 8,
    "start_time": "2023-12-07T08:05:58.958Z"
   },
   {
    "duration": 45,
    "start_time": "2023-12-07T09:11:45.627Z"
   },
   {
    "duration": 1279,
    "start_time": "2023-12-07T09:11:51.119Z"
   },
   {
    "duration": 1217,
    "start_time": "2023-12-07T09:11:52.400Z"
   },
   {
    "duration": 16,
    "start_time": "2023-12-07T09:11:53.618Z"
   },
   {
    "duration": 8,
    "start_time": "2023-12-07T09:11:53.636Z"
   },
   {
    "duration": 25,
    "start_time": "2023-12-07T09:11:53.646Z"
   },
   {
    "duration": 12,
    "start_time": "2023-12-07T09:11:53.673Z"
   },
   {
    "duration": 78,
    "start_time": "2023-12-07T09:11:53.686Z"
   },
   {
    "duration": 118,
    "start_time": "2023-12-07T09:11:53.766Z"
   },
   {
    "duration": 53,
    "start_time": "2023-12-07T09:11:53.886Z"
   },
   {
    "duration": 195,
    "start_time": "2023-12-07T09:11:53.941Z"
   },
   {
    "duration": 4,
    "start_time": "2023-12-07T09:11:54.137Z"
   },
   {
    "duration": 23,
    "start_time": "2023-12-07T09:11:54.142Z"
   },
   {
    "duration": 133,
    "start_time": "2023-12-07T09:11:54.166Z"
   },
   {
    "duration": 96,
    "start_time": "2023-12-07T09:11:54.301Z"
   },
   {
    "duration": 957,
    "start_time": "2023-12-07T09:11:54.399Z"
   },
   {
    "duration": 11,
    "start_time": "2023-12-07T09:11:55.357Z"
   },
   {
    "duration": 16,
    "start_time": "2023-12-07T09:11:55.369Z"
   },
   {
    "duration": 46,
    "start_time": "2023-12-07T09:11:55.386Z"
   },
   {
    "duration": 18,
    "start_time": "2023-12-07T09:11:55.433Z"
   },
   {
    "duration": 66,
    "start_time": "2023-12-07T09:11:55.452Z"
   },
   {
    "duration": 5,
    "start_time": "2023-12-07T09:11:55.521Z"
   },
   {
    "duration": 32,
    "start_time": "2023-12-07T09:11:55.527Z"
   },
   {
    "duration": 7,
    "start_time": "2023-12-07T09:11:55.560Z"
   },
   {
    "duration": 1236,
    "start_time": "2023-12-07T09:12:00.309Z"
   },
   {
    "duration": 978,
    "start_time": "2023-12-07T09:12:01.546Z"
   },
   {
    "duration": 13,
    "start_time": "2023-12-07T09:12:02.527Z"
   },
   {
    "duration": 20,
    "start_time": "2023-12-07T09:12:02.542Z"
   },
   {
    "duration": 26,
    "start_time": "2023-12-07T09:12:02.563Z"
   },
   {
    "duration": 21,
    "start_time": "2023-12-07T09:12:02.590Z"
   },
   {
    "duration": 85,
    "start_time": "2023-12-07T09:12:02.612Z"
   },
   {
    "duration": 99,
    "start_time": "2023-12-07T09:12:02.698Z"
   },
   {
    "duration": 40,
    "start_time": "2023-12-07T09:12:02.798Z"
   },
   {
    "duration": 204,
    "start_time": "2023-12-07T09:12:02.841Z"
   },
   {
    "duration": 4,
    "start_time": "2023-12-07T09:12:03.046Z"
   },
   {
    "duration": 31,
    "start_time": "2023-12-07T09:12:03.052Z"
   },
   {
    "duration": 149,
    "start_time": "2023-12-07T09:12:03.084Z"
   },
   {
    "duration": 103,
    "start_time": "2023-12-07T09:12:03.235Z"
   },
   {
    "duration": 878,
    "start_time": "2023-12-07T09:12:03.340Z"
   },
   {
    "duration": 11,
    "start_time": "2023-12-07T09:12:04.219Z"
   },
   {
    "duration": 15,
    "start_time": "2023-12-07T09:12:04.232Z"
   },
   {
    "duration": 20,
    "start_time": "2023-12-07T09:12:04.249Z"
   },
   {
    "duration": 12,
    "start_time": "2023-12-07T09:12:04.270Z"
   },
   {
    "duration": 87,
    "start_time": "2023-12-07T09:12:04.284Z"
   },
   {
    "duration": 5,
    "start_time": "2023-12-07T09:12:04.372Z"
   },
   {
    "duration": 9,
    "start_time": "2023-12-07T09:12:04.378Z"
   },
   {
    "duration": 10,
    "start_time": "2023-12-07T09:12:04.388Z"
   },
   {
    "duration": 88,
    "start_time": "2023-12-07T09:12:04.399Z"
   },
   {
    "duration": 2,
    "start_time": "2023-12-07T09:12:04.488Z"
   },
   {
    "duration": 54,
    "start_time": "2023-12-07T09:12:04.491Z"
   },
   {
    "duration": 43,
    "start_time": "2023-12-07T09:12:04.546Z"
   },
   {
    "duration": 50,
    "start_time": "2023-12-07T09:12:04.592Z"
   },
   {
    "duration": 7,
    "start_time": "2023-12-07T09:12:04.644Z"
   },
   {
    "duration": 381,
    "start_time": "2023-12-07T09:12:04.652Z"
   },
   {
    "duration": 841,
    "start_time": "2023-12-07T09:12:05.035Z"
   },
   {
    "duration": 9,
    "start_time": "2023-12-07T09:12:05.878Z"
   },
   {
    "duration": 52,
    "start_time": "2023-12-07T09:12:05.888Z"
   },
   {
    "duration": 6,
    "start_time": "2023-12-07T09:12:05.941Z"
   },
   {
    "duration": 31,
    "start_time": "2023-12-07T09:12:05.948Z"
   },
   {
    "duration": 666,
    "start_time": "2023-12-07T09:12:05.980Z"
   },
   {
    "duration": 21,
    "start_time": "2023-12-07T09:12:06.648Z"
   },
   {
    "duration": 4,
    "start_time": "2023-12-07T09:12:06.670Z"
   },
   {
    "duration": 5,
    "start_time": "2023-12-07T09:12:06.675Z"
   },
   {
    "duration": 13,
    "start_time": "2023-12-07T09:12:06.681Z"
   },
   {
    "duration": 22,
    "start_time": "2023-12-07T09:12:06.696Z"
   },
   {
    "duration": 3,
    "start_time": "2023-12-07T09:12:18.584Z"
   },
   {
    "duration": 878,
    "start_time": "2023-12-07T09:12:18.589Z"
   },
   {
    "duration": 8,
    "start_time": "2023-12-07T09:12:19.468Z"
   },
   {
    "duration": 17,
    "start_time": "2023-12-07T09:12:19.478Z"
   },
   {
    "duration": 14,
    "start_time": "2023-12-07T09:12:19.497Z"
   },
   {
    "duration": 21,
    "start_time": "2023-12-07T09:12:19.513Z"
   },
   {
    "duration": 76,
    "start_time": "2023-12-07T09:12:19.535Z"
   },
   {
    "duration": 90,
    "start_time": "2023-12-07T09:12:19.612Z"
   },
   {
    "duration": 44,
    "start_time": "2023-12-07T09:12:19.703Z"
   },
   {
    "duration": 148,
    "start_time": "2023-12-07T09:12:19.748Z"
   },
   {
    "duration": 4,
    "start_time": "2023-12-07T09:12:19.897Z"
   },
   {
    "duration": 62,
    "start_time": "2023-12-07T09:12:19.902Z"
   },
   {
    "duration": 126,
    "start_time": "2023-12-07T09:12:19.965Z"
   },
   {
    "duration": 95,
    "start_time": "2023-12-07T09:12:20.094Z"
   },
   {
    "duration": 920,
    "start_time": "2023-12-07T09:12:20.191Z"
   },
   {
    "duration": 11,
    "start_time": "2023-12-07T09:12:21.115Z"
   },
   {
    "duration": 8,
    "start_time": "2023-12-07T09:12:21.128Z"
   },
   {
    "duration": 25,
    "start_time": "2023-12-07T09:12:21.137Z"
   },
   {
    "duration": 13,
    "start_time": "2023-12-07T09:12:21.163Z"
   },
   {
    "duration": 93,
    "start_time": "2023-12-07T09:12:21.177Z"
   },
   {
    "duration": 4,
    "start_time": "2023-12-07T09:12:21.272Z"
   },
   {
    "duration": 38,
    "start_time": "2023-12-07T09:12:21.277Z"
   },
   {
    "duration": 10,
    "start_time": "2023-12-07T09:12:21.317Z"
   },
   {
    "duration": 67,
    "start_time": "2023-12-07T09:12:21.328Z"
   },
   {
    "duration": 3,
    "start_time": "2023-12-07T09:12:21.396Z"
   },
   {
    "duration": 26,
    "start_time": "2023-12-07T09:12:21.400Z"
   },
   {
    "duration": 42,
    "start_time": "2023-12-07T09:12:21.427Z"
   },
   {
    "duration": 62,
    "start_time": "2023-12-07T09:12:21.470Z"
   },
   {
    "duration": 8,
    "start_time": "2023-12-07T09:12:21.534Z"
   },
   {
    "duration": 386,
    "start_time": "2023-12-07T09:12:21.543Z"
   },
   {
    "duration": 853,
    "start_time": "2023-12-07T09:12:21.931Z"
   },
   {
    "duration": 9,
    "start_time": "2023-12-07T09:12:22.785Z"
   },
   {
    "duration": 35,
    "start_time": "2023-12-07T09:12:22.795Z"
   },
   {
    "duration": 6,
    "start_time": "2023-12-07T09:12:22.831Z"
   },
   {
    "duration": 21,
    "start_time": "2023-12-07T09:12:22.838Z"
   },
   {
    "duration": 745,
    "start_time": "2023-12-07T09:12:22.860Z"
   },
   {
    "duration": 25,
    "start_time": "2023-12-07T09:12:23.607Z"
   },
   {
    "duration": 6,
    "start_time": "2023-12-07T09:12:23.634Z"
   },
   {
    "duration": 19,
    "start_time": "2023-12-07T09:12:23.642Z"
   },
   {
    "duration": 41,
    "start_time": "2023-12-07T09:12:23.662Z"
   },
   {
    "duration": 23,
    "start_time": "2023-12-07T09:12:23.707Z"
   },
   {
    "duration": 27,
    "start_time": "2023-12-07T09:12:23.731Z"
   },
   {
    "duration": 28,
    "start_time": "2023-12-07T09:12:23.759Z"
   },
   {
    "duration": 125,
    "start_time": "2023-12-07T09:12:23.788Z"
   },
   {
    "duration": 54,
    "start_time": "2023-12-07T09:12:23.915Z"
   },
   {
    "duration": 4,
    "start_time": "2023-12-07T09:12:23.970Z"
   },
   {
    "duration": 601,
    "start_time": "2023-12-07T09:12:23.975Z"
   },
   {
    "duration": 207,
    "start_time": "2023-12-07T09:12:24.578Z"
   },
   {
    "duration": 16,
    "start_time": "2023-12-07T09:12:24.787Z"
   },
   {
    "duration": 11,
    "start_time": "2023-12-07T09:12:24.805Z"
   },
   {
    "duration": 35,
    "start_time": "2023-12-07T09:12:24.819Z"
   },
   {
    "duration": 3,
    "start_time": "2023-12-07T09:12:24.855Z"
   },
   {
    "duration": 5,
    "start_time": "2023-12-07T09:12:24.860Z"
   },
   {
    "duration": 6,
    "start_time": "2023-12-07T09:12:24.866Z"
   },
   {
    "duration": 8,
    "start_time": "2023-12-07T09:12:24.873Z"
   },
   {
    "duration": 307,
    "start_time": "2023-12-07T09:12:24.882Z"
   },
   {
    "duration": 8,
    "start_time": "2023-12-07T09:12:25.191Z"
   },
   {
    "duration": 485,
    "start_time": "2023-12-07T09:12:25.200Z"
   },
   {
    "duration": 10,
    "start_time": "2023-12-07T09:12:25.686Z"
   },
   {
    "duration": 283,
    "start_time": "2023-12-07T09:12:25.697Z"
   },
   {
    "duration": 20,
    "start_time": "2023-12-07T09:12:25.981Z"
   },
   {
    "duration": 17,
    "start_time": "2023-12-07T09:12:26.002Z"
   },
   {
    "duration": 9,
    "start_time": "2023-12-07T09:12:26.021Z"
   },
   {
    "duration": 92,
    "start_time": "2023-12-07T09:12:26.032Z"
   },
   {
    "duration": 12,
    "start_time": "2023-12-07T09:12:26.126Z"
   },
   {
    "duration": 18,
    "start_time": "2023-12-07T09:12:26.140Z"
   },
   {
    "duration": 4,
    "start_time": "2023-12-07T09:12:26.160Z"
   },
   {
    "duration": 36,
    "start_time": "2023-12-07T09:12:26.165Z"
   },
   {
    "duration": 1212,
    "start_time": "2023-12-07T10:18:53.915Z"
   },
   {
    "duration": 1219,
    "start_time": "2023-12-07T10:18:55.129Z"
   },
   {
    "duration": 11,
    "start_time": "2023-12-07T10:18:56.350Z"
   },
   {
    "duration": 7,
    "start_time": "2023-12-07T10:18:56.362Z"
   },
   {
    "duration": 9,
    "start_time": "2023-12-07T10:18:56.370Z"
   },
   {
    "duration": 19,
    "start_time": "2023-12-07T10:18:56.380Z"
   },
   {
    "duration": 87,
    "start_time": "2023-12-07T10:18:56.401Z"
   },
   {
    "duration": 101,
    "start_time": "2023-12-07T10:18:56.489Z"
   },
   {
    "duration": 43,
    "start_time": "2023-12-07T10:18:56.592Z"
   },
   {
    "duration": 191,
    "start_time": "2023-12-07T10:18:56.637Z"
   },
   {
    "duration": 4,
    "start_time": "2023-12-07T10:18:56.829Z"
   },
   {
    "duration": 36,
    "start_time": "2023-12-07T10:18:56.834Z"
   },
   {
    "duration": 122,
    "start_time": "2023-12-07T10:18:56.871Z"
   },
   {
    "duration": 88,
    "start_time": "2023-12-07T10:18:56.995Z"
   },
   {
    "duration": 814,
    "start_time": "2023-12-07T10:18:57.085Z"
   },
   {
    "duration": 9,
    "start_time": "2023-12-07T10:18:57.901Z"
   },
   {
    "duration": 24,
    "start_time": "2023-12-07T10:18:57.911Z"
   },
   {
    "duration": 46,
    "start_time": "2023-12-07T10:18:57.936Z"
   },
   {
    "duration": 18,
    "start_time": "2023-12-07T10:18:57.983Z"
   },
   {
    "duration": 69,
    "start_time": "2023-12-07T10:18:58.002Z"
   },
   {
    "duration": 4,
    "start_time": "2023-12-07T10:18:58.072Z"
   },
   {
    "duration": 17,
    "start_time": "2023-12-07T10:18:58.077Z"
   },
   {
    "duration": 5,
    "start_time": "2023-12-07T10:18:58.095Z"
   },
   {
    "duration": 85,
    "start_time": "2023-12-07T10:18:58.101Z"
   },
   {
    "duration": 2,
    "start_time": "2023-12-07T10:18:58.187Z"
   },
   {
    "duration": 21,
    "start_time": "2023-12-07T10:18:58.190Z"
   },
   {
    "duration": 44,
    "start_time": "2023-12-07T10:18:58.213Z"
   },
   {
    "duration": 34,
    "start_time": "2023-12-07T10:18:58.271Z"
   },
   {
    "duration": 15,
    "start_time": "2023-12-07T10:18:58.306Z"
   },
   {
    "duration": 353,
    "start_time": "2023-12-07T10:18:58.322Z"
   },
   {
    "duration": 826,
    "start_time": "2023-12-07T10:18:58.677Z"
   },
   {
    "duration": 10,
    "start_time": "2023-12-07T10:18:59.504Z"
   },
   {
    "duration": 63,
    "start_time": "2023-12-07T10:18:59.515Z"
   },
   {
    "duration": 18,
    "start_time": "2023-12-07T10:18:59.580Z"
   },
   {
    "duration": 50,
    "start_time": "2023-12-07T10:18:59.599Z"
   },
   {
    "duration": 725,
    "start_time": "2023-12-07T10:18:59.650Z"
   },
   {
    "duration": 27,
    "start_time": "2023-12-07T10:19:00.377Z"
   },
   {
    "duration": 139,
    "start_time": "2023-12-07T10:19:00.406Z"
   },
   {
    "duration": 37,
    "start_time": "2023-12-07T10:19:00.546Z"
   },
   {
    "duration": 47,
    "start_time": "2023-12-07T10:19:00.584Z"
   },
   {
    "duration": 48,
    "start_time": "2023-12-07T10:19:00.633Z"
   },
   {
    "duration": 590,
    "start_time": "2023-12-07T10:19:00.682Z"
   },
   {
    "duration": 28,
    "start_time": "2023-12-07T10:19:01.273Z"
   },
   {
    "duration": 330,
    "start_time": "2023-12-07T10:19:01.303Z"
   },
   {
    "duration": 155,
    "start_time": "2023-12-07T10:19:01.634Z"
   },
   {
    "duration": 110,
    "start_time": "2023-12-07T10:19:01.790Z"
   },
   {
    "duration": 596,
    "start_time": "2023-12-07T10:19:01.902Z"
   },
   {
    "duration": 181,
    "start_time": "2023-12-07T10:19:02.499Z"
   },
   {
    "duration": 16,
    "start_time": "2023-12-07T10:19:02.682Z"
   },
   {
    "duration": 11,
    "start_time": "2023-12-07T10:19:02.700Z"
   },
   {
    "duration": 38,
    "start_time": "2023-12-07T10:19:02.713Z"
   },
   {
    "duration": 4,
    "start_time": "2023-12-07T10:19:02.752Z"
   },
   {
    "duration": 16,
    "start_time": "2023-12-07T10:19:02.757Z"
   },
   {
    "duration": 17,
    "start_time": "2023-12-07T10:19:02.774Z"
   },
   {
    "duration": 25,
    "start_time": "2023-12-07T10:19:02.792Z"
   },
   {
    "duration": 267,
    "start_time": "2023-12-07T10:19:02.818Z"
   },
   {
    "duration": 8,
    "start_time": "2023-12-07T10:19:03.086Z"
   },
   {
    "duration": 573,
    "start_time": "2023-12-07T10:19:03.096Z"
   },
   {
    "duration": 10,
    "start_time": "2023-12-07T10:19:03.670Z"
   },
   {
    "duration": 271,
    "start_time": "2023-12-07T10:19:03.682Z"
   },
   {
    "duration": 22,
    "start_time": "2023-12-07T10:19:03.954Z"
   },
   {
    "duration": 8,
    "start_time": "2023-12-07T10:19:03.978Z"
   },
   {
    "duration": 42,
    "start_time": "2023-12-07T10:19:03.987Z"
   },
   {
    "duration": 24,
    "start_time": "2023-12-07T10:19:04.031Z"
   },
   {
    "duration": 34,
    "start_time": "2023-12-07T10:19:04.056Z"
   },
   {
    "duration": 27,
    "start_time": "2023-12-07T10:19:04.091Z"
   },
   {
    "duration": 21,
    "start_time": "2023-12-07T10:19:04.119Z"
   },
   {
    "duration": 66,
    "start_time": "2023-12-07T10:19:04.141Z"
   }
  ],
  "kernelspec": {
   "display_name": "Python 3 (ipykernel)",
   "language": "python",
   "name": "python3"
  },
  "language_info": {
   "codemirror_mode": {
    "name": "ipython",
    "version": 3
   },
   "file_extension": ".py",
   "mimetype": "text/x-python",
   "name": "python",
   "nbconvert_exporter": "python",
   "pygments_lexer": "ipython3",
   "version": "3.11.4"
  },
  "toc": {
   "base_numbering": 1,
   "nav_menu": {},
   "number_sections": true,
   "sideBar": true,
   "skip_h1_title": true,
   "title_cell": "Table of Contents",
   "title_sidebar": "Contents",
   "toc_cell": false,
   "toc_position": {},
   "toc_section_display": true,
   "toc_window_display": false
  }
 },
 "nbformat": 4,
 "nbformat_minor": 2
}
