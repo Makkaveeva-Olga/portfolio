{
 "cells": [
  {
   "cell_type": "markdown",
   "id": "f66215c7",
   "metadata": {},
   "source": [
    "# Анализ сервиса аренды самокатов GoFast"
   ]
  },
  {
   "cell_type": "markdown",
   "id": "13fce120",
   "metadata": {},
   "source": [
    "<div style=\"border:solid Chocolate 2px; padding: 40px\">\n",
    "    \n",
    "    \n",
    "**Описание проекта**  \n",
    "    Имеем информацию сервиса аренды самокатов GoFast.Известны данные о некоторых пользователях из нескольких городов, а также об их поездках. Проанализируйем данные и проверем некоторые гипотезы, которые могут помочь бизнесу вырасти.\n",
    "\n",
    "Чтобы совершать поездки по городу, пользователи сервиса GoFast пользуются мобильным приложением. Сервисом можно пользоваться:\n",
    "\n",
    "без подписки\n",
    "абонентская плата отсутствует;\n",
    "стоимость одной минуты поездки — 8 рублей;\n",
    "стоимость старта (начала поездки) — 50 рублей;\n",
    "с подпиской Ultra\n",
    "абонентская плата — 199 рублей в месяц;\n",
    "стоимость одной минуты поездки — 6 рублей;\n",
    "стоимость старта — бесплатно.\n"
   ]
  },
  {
   "cell_type": "markdown",
   "id": "2a282811",
   "metadata": {},
   "source": [
    "<div style=\"border:solid Chocolate 2px; padding: 40px\">\n",
    "    \n",
    "    \n",
    "**Описание данных**\n",
    "\n",
    "Пользователи — users_go.csv\n",
    "\n",
    "user_id — уникальный идентификатор пользователя  \n",
    "name — имя пользователя  \n",
    "age — возраст  \n",
    "city — город  \n",
    "subscription_type — тип подписки (free, ultra)\n",
    "\n",
    "Поeздки — rides_go.csv\n",
    "\n",
    "user_id — уникальный идентификатор пользователя  \n",
    "distance — расстояние, которое пользователь проехал в текущей сессии (в метрах)  \n",
    "duration — продолжительность сессии (в минутах) — время с того момента, как пользователь нажал кнопку «Начать поездку» до момента, как он нажал кнопку «Завершить поездку»  \n",
    "date — дата совершения поездки\n",
    "\n",
    "Подписки — subscriptions_go.csv\n",
    "\n",
    "subscription_type — тип подписки  \n",
    "minute_price — стоимость одной минуты поездки по данной подписке  \n",
    "start_ride_price — стоимость начала поездки  \n",
    "subscription_fee — стоимость ежемесячного платежа"
   ]
  },
  {
   "cell_type": "markdown",
   "id": "9058c9f9",
   "metadata": {},
   "source": [
    "<div style=\"border:solid Chocolate 2px; padding: 40px\">\n",
    "    \n",
    "    \n",
    "**План работы**\n",
    "    \n",
    "1. Загрузка данных и изучение данных\n",
    "2. Предобработка данных  \n",
    "    2.1 Приведите столбец date к типу даты pandas.  \n",
    "    2.2 Создайте новый столбец с номером месяца на основе столбца date.  \n",
    "    2.3 Проверьте наличие пропущенных значений и дубликатов в датафреймах. Обработайте их, если такие значения присутствуют.\n",
    "3. Исследовательский анализ данных  \n",
    "Опишите и визуализируйте общую информацию о пользователях и поездках:  \n",
    "    3.1 частота встречаемости городов;  \n",
    "    3.2 соотношение пользователей с подпиской и без подписки;  \n",
    "    3.3 возраст пользователей;  \n",
    "    3.4 расстояние, которое пользователь преодолел за одну поездку;  \n",
    "    3.5 продолжительность поездок.\n",
    "4. Объединение данных  \n",
    "    4.1 Объедините датафреймов  \n",
    "    4.2 Создание датафрейма c данными о пользователях без подписки  \n",
    "    4.3 Создание датафрейма c данными о пользователях с подпиской  \n",
    "    4.4 Информация о расстоянии и времени поездок для пользователей без подписоки  \n",
    "    4.5 Информация о расстоянии и времени поездок для пользователей без подписокой\n",
    "5. Подсчёт выручки  \n",
    "    5.1 Информация о расстоянии, количестве поездок и времени для каждого пользователя за каждый месяц  \n",
    "    5.2 Информация с помесячной выручкой, которую принёс каждый пользователь\n",
    "6. Проверка гипотез  \n",
    "Продакт-менеджеры сервиса хотят увеличить количество пользователей с подпиской. Для этого они будут проводить различные акции, но сначала нужно выяснить несколько важных моментов  \n",
    "    6.1 Тратят ли пользователи с подпиской больше времени на поездки  \n",
    "    6.2 Расстояние, которое проезжают пользователи с подпиской за одну поездку, не превышает 3130 метров  \n",
    "    6.3 Выручка от пользователей с подпиской по месяцам выше, чем выручка от пользователей без подписки  \n",
    "    6.4 Мобильное приложение снизило количество обращений в техподдержку  \n",
    "7. Общий вывод\n"
   ]
  },
  {
   "cell_type": "code",
   "execution_count": 1,
   "id": "bd11d6d0",
   "metadata": {},
   "outputs": [],
   "source": [
    "import pandas as pd\n",
    "import matplotlib.pyplot as plt\n",
    "import seaborn as sns\n",
    "import plotly.express as px\n",
    "import numpy as np\n",
    "from scipy import stats as st\n",
    "import glob"
   ]
  },
  {
   "cell_type": "markdown",
   "id": "116b4c57",
   "metadata": {},
   "source": [
    "## 1. Загрузка данных и изучение данных"
   ]
  },
  {
   "cell_type": "code",
   "execution_count": 2,
   "id": "223d8029",
   "metadata": {},
   "outputs": [
    {
     "data": {
      "text/html": [
       "<div>\n",
       "<style scoped>\n",
       "    .dataframe tbody tr th:only-of-type {\n",
       "        vertical-align: middle;\n",
       "    }\n",
       "\n",
       "    .dataframe tbody tr th {\n",
       "        vertical-align: top;\n",
       "    }\n",
       "\n",
       "    .dataframe thead th {\n",
       "        text-align: right;\n",
       "    }\n",
       "</style>\n",
       "<table border=\"1\" class=\"dataframe\">\n",
       "  <thead>\n",
       "    <tr style=\"text-align: right;\">\n",
       "      <th></th>\n",
       "      <th>user_id</th>\n",
       "      <th>name</th>\n",
       "      <th>age</th>\n",
       "      <th>city</th>\n",
       "      <th>subscription_type</th>\n",
       "    </tr>\n",
       "  </thead>\n",
       "  <tbody>\n",
       "    <tr>\n",
       "      <th>0</th>\n",
       "      <td>1</td>\n",
       "      <td>Кира</td>\n",
       "      <td>22</td>\n",
       "      <td>Тюмень</td>\n",
       "      <td>ultra</td>\n",
       "    </tr>\n",
       "    <tr>\n",
       "      <th>1</th>\n",
       "      <td>2</td>\n",
       "      <td>Станислав</td>\n",
       "      <td>31</td>\n",
       "      <td>Омск</td>\n",
       "      <td>ultra</td>\n",
       "    </tr>\n",
       "    <tr>\n",
       "      <th>2</th>\n",
       "      <td>3</td>\n",
       "      <td>Алексей</td>\n",
       "      <td>20</td>\n",
       "      <td>Москва</td>\n",
       "      <td>ultra</td>\n",
       "    </tr>\n",
       "    <tr>\n",
       "      <th>3</th>\n",
       "      <td>4</td>\n",
       "      <td>Константин</td>\n",
       "      <td>26</td>\n",
       "      <td>Ростов-на-Дону</td>\n",
       "      <td>ultra</td>\n",
       "    </tr>\n",
       "    <tr>\n",
       "      <th>4</th>\n",
       "      <td>5</td>\n",
       "      <td>Адель</td>\n",
       "      <td>28</td>\n",
       "      <td>Омск</td>\n",
       "      <td>ultra</td>\n",
       "    </tr>\n",
       "    <tr>\n",
       "      <th>5</th>\n",
       "      <td>6</td>\n",
       "      <td>Регина</td>\n",
       "      <td>25</td>\n",
       "      <td>Краснодар</td>\n",
       "      <td>ultra</td>\n",
       "    </tr>\n",
       "    <tr>\n",
       "      <th>6</th>\n",
       "      <td>7</td>\n",
       "      <td>Игорь</td>\n",
       "      <td>23</td>\n",
       "      <td>Омск</td>\n",
       "      <td>ultra</td>\n",
       "    </tr>\n",
       "    <tr>\n",
       "      <th>7</th>\n",
       "      <td>8</td>\n",
       "      <td>Юрий</td>\n",
       "      <td>23</td>\n",
       "      <td>Краснодар</td>\n",
       "      <td>ultra</td>\n",
       "    </tr>\n",
       "    <tr>\n",
       "      <th>8</th>\n",
       "      <td>9</td>\n",
       "      <td>Ян</td>\n",
       "      <td>21</td>\n",
       "      <td>Пятигорск</td>\n",
       "      <td>ultra</td>\n",
       "    </tr>\n",
       "    <tr>\n",
       "      <th>9</th>\n",
       "      <td>10</td>\n",
       "      <td>Валерий</td>\n",
       "      <td>18</td>\n",
       "      <td>Екатеринбург</td>\n",
       "      <td>ultra</td>\n",
       "    </tr>\n",
       "  </tbody>\n",
       "</table>\n",
       "</div>"
      ],
      "text/plain": [
       "   user_id        name  age            city subscription_type\n",
       "0        1        Кира   22          Тюмень             ultra\n",
       "1        2   Станислав   31            Омск             ultra\n",
       "2        3     Алексей   20          Москва             ultra\n",
       "3        4  Константин   26  Ростов-на-Дону             ultra\n",
       "4        5       Адель   28            Омск             ultra\n",
       "5        6      Регина   25       Краснодар             ultra\n",
       "6        7       Игорь   23            Омск             ultra\n",
       "7        8        Юрий   23       Краснодар             ultra\n",
       "8        9          Ян   21       Пятигорск             ultra\n",
       "9       10     Валерий   18    Екатеринбург             ultra"
      ]
     },
     "metadata": {},
     "output_type": "display_data"
    }
   ],
   "source": [
    "data_users = pd.read_csv('/datasets/users_go.csv') # cчитаем CSV-файлы с данными\n",
    "display(data_users.head(10)) # выведем первые строки "
   ]
  },
  {
   "cell_type": "code",
   "execution_count": 3,
   "id": "d738f71e",
   "metadata": {},
   "outputs": [
    {
     "name": "stdout",
     "output_type": "stream",
     "text": [
      "<class 'pandas.core.frame.DataFrame'>\n",
      "RangeIndex: 1565 entries, 0 to 1564\n",
      "Data columns (total 5 columns):\n",
      " #   Column             Non-Null Count  Dtype \n",
      "---  ------             --------------  ----- \n",
      " 0   user_id            1565 non-null   int64 \n",
      " 1   name               1565 non-null   object\n",
      " 2   age                1565 non-null   int64 \n",
      " 3   city               1565 non-null   object\n",
      " 4   subscription_type  1565 non-null   object\n",
      "dtypes: int64(2), object(3)\n",
      "memory usage: 61.3+ KB\n"
     ]
    },
    {
     "data": {
      "text/plain": [
       "(1565, 5)"
      ]
     },
     "metadata": {},
     "output_type": "display_data"
    }
   ],
   "source": [
    "data_users.info() # выведем общую информацию \n",
    "data_users.isna().sum() # проверим пропуски данных\n",
    "shape = data_users.shape\n",
    "display(shape)"
   ]
  },
  {
   "cell_type": "code",
   "execution_count": 4,
   "id": "0cdee72e",
   "metadata": {},
   "outputs": [
    {
     "data": {
      "text/html": [
       "<div>\n",
       "<style scoped>\n",
       "    .dataframe tbody tr th:only-of-type {\n",
       "        vertical-align: middle;\n",
       "    }\n",
       "\n",
       "    .dataframe tbody tr th {\n",
       "        vertical-align: top;\n",
       "    }\n",
       "\n",
       "    .dataframe thead th {\n",
       "        text-align: right;\n",
       "    }\n",
       "</style>\n",
       "<table border=\"1\" class=\"dataframe\">\n",
       "  <thead>\n",
       "    <tr style=\"text-align: right;\">\n",
       "      <th></th>\n",
       "      <th>user_id</th>\n",
       "      <th>distance</th>\n",
       "      <th>duration</th>\n",
       "      <th>date</th>\n",
       "    </tr>\n",
       "  </thead>\n",
       "  <tbody>\n",
       "    <tr>\n",
       "      <th>7054</th>\n",
       "      <td>738</td>\n",
       "      <td>4828.653765</td>\n",
       "      <td>22.042307</td>\n",
       "      <td>2021-06-16</td>\n",
       "    </tr>\n",
       "    <tr>\n",
       "      <th>13815</th>\n",
       "      <td>1232</td>\n",
       "      <td>3721.625615</td>\n",
       "      <td>15.149888</td>\n",
       "      <td>2021-12-11</td>\n",
       "    </tr>\n",
       "    <tr>\n",
       "      <th>13355</th>\n",
       "      <td>1201</td>\n",
       "      <td>3774.782937</td>\n",
       "      <td>28.177641</td>\n",
       "      <td>2021-12-27</td>\n",
       "    </tr>\n",
       "    <tr>\n",
       "      <th>6092</th>\n",
       "      <td>653</td>\n",
       "      <td>4344.006660</td>\n",
       "      <td>16.308586</td>\n",
       "      <td>2021-02-28</td>\n",
       "    </tr>\n",
       "    <tr>\n",
       "      <th>16485</th>\n",
       "      <td>1422</td>\n",
       "      <td>695.869436</td>\n",
       "      <td>12.739674</td>\n",
       "      <td>2021-02-14</td>\n",
       "    </tr>\n",
       "    <tr>\n",
       "      <th>3730</th>\n",
       "      <td>401</td>\n",
       "      <td>2768.854486</td>\n",
       "      <td>10.551421</td>\n",
       "      <td>2021-10-06</td>\n",
       "    </tr>\n",
       "    <tr>\n",
       "      <th>9934</th>\n",
       "      <td>953</td>\n",
       "      <td>2800.217732</td>\n",
       "      <td>21.400653</td>\n",
       "      <td>2021-02-26</td>\n",
       "    </tr>\n",
       "    <tr>\n",
       "      <th>9628</th>\n",
       "      <td>932</td>\n",
       "      <td>3375.789240</td>\n",
       "      <td>28.413396</td>\n",
       "      <td>2021-02-19</td>\n",
       "    </tr>\n",
       "    <tr>\n",
       "      <th>1179</th>\n",
       "      <td>127</td>\n",
       "      <td>3795.931451</td>\n",
       "      <td>22.387794</td>\n",
       "      <td>2021-02-08</td>\n",
       "    </tr>\n",
       "    <tr>\n",
       "      <th>4374</th>\n",
       "      <td>470</td>\n",
       "      <td>4106.293040</td>\n",
       "      <td>23.198981</td>\n",
       "      <td>2021-11-20</td>\n",
       "    </tr>\n",
       "  </tbody>\n",
       "</table>\n",
       "</div>"
      ],
      "text/plain": [
       "       user_id     distance   duration        date\n",
       "7054       738  4828.653765  22.042307  2021-06-16\n",
       "13815     1232  3721.625615  15.149888  2021-12-11\n",
       "13355     1201  3774.782937  28.177641  2021-12-27\n",
       "6092       653  4344.006660  16.308586  2021-02-28\n",
       "16485     1422   695.869436  12.739674  2021-02-14\n",
       "3730       401  2768.854486  10.551421  2021-10-06\n",
       "9934       953  2800.217732  21.400653  2021-02-26\n",
       "9628       932  3375.789240  28.413396  2021-02-19\n",
       "1179       127  3795.931451  22.387794  2021-02-08\n",
       "4374       470  4106.293040  23.198981  2021-11-20"
      ]
     },
     "execution_count": 4,
     "metadata": {},
     "output_type": "execute_result"
    }
   ],
   "source": [
    "data_riders = pd.read_csv('/datasets/rides_go.csv') # cчитаем CSV-файлы с данными\n",
    "data_riders.sample(10) # выведем случайные строки (так как вывод первых показал данные только по 1 user)"
   ]
  },
  {
   "cell_type": "code",
   "execution_count": 5,
   "id": "e51b7e20",
   "metadata": {},
   "outputs": [
    {
     "name": "stdout",
     "output_type": "stream",
     "text": [
      "<class 'pandas.core.frame.DataFrame'>\n",
      "RangeIndex: 18068 entries, 0 to 18067\n",
      "Data columns (total 4 columns):\n",
      " #   Column    Non-Null Count  Dtype  \n",
      "---  ------    --------------  -----  \n",
      " 0   user_id   18068 non-null  int64  \n",
      " 1   distance  18068 non-null  float64\n",
      " 2   duration  18068 non-null  float64\n",
      " 3   date      18068 non-null  object \n",
      "dtypes: float64(2), int64(1), object(1)\n",
      "memory usage: 564.8+ KB\n",
      "(18068, 4)\n"
     ]
    }
   ],
   "source": [
    "data_riders.info() # выведем общую информацию \n",
    "data_riders.isna().sum() # проверим пропуски данных\n",
    "shape = data_riders.shape\n",
    "print(shape)"
   ]
  },
  {
   "cell_type": "code",
   "execution_count": 6,
   "id": "aebd4b23",
   "metadata": {},
   "outputs": [
    {
     "data": {
      "text/html": [
       "<div>\n",
       "<style scoped>\n",
       "    .dataframe tbody tr th:only-of-type {\n",
       "        vertical-align: middle;\n",
       "    }\n",
       "\n",
       "    .dataframe tbody tr th {\n",
       "        vertical-align: top;\n",
       "    }\n",
       "\n",
       "    .dataframe thead th {\n",
       "        text-align: right;\n",
       "    }\n",
       "</style>\n",
       "<table border=\"1\" class=\"dataframe\">\n",
       "  <thead>\n",
       "    <tr style=\"text-align: right;\">\n",
       "      <th></th>\n",
       "      <th>subscription_type</th>\n",
       "      <th>minute_price</th>\n",
       "      <th>start_ride_price</th>\n",
       "      <th>subscription_fee</th>\n",
       "    </tr>\n",
       "  </thead>\n",
       "  <tbody>\n",
       "    <tr>\n",
       "      <th>0</th>\n",
       "      <td>free</td>\n",
       "      <td>8</td>\n",
       "      <td>50</td>\n",
       "      <td>0</td>\n",
       "    </tr>\n",
       "    <tr>\n",
       "      <th>1</th>\n",
       "      <td>ultra</td>\n",
       "      <td>6</td>\n",
       "      <td>0</td>\n",
       "      <td>199</td>\n",
       "    </tr>\n",
       "  </tbody>\n",
       "</table>\n",
       "</div>"
      ],
      "text/plain": [
       "  subscription_type  minute_price  start_ride_price  subscription_fee\n",
       "0              free             8                50                 0\n",
       "1             ultra             6                 0               199"
      ]
     },
     "metadata": {},
     "output_type": "display_data"
    },
    {
     "name": "stdout",
     "output_type": "stream",
     "text": [
      "(2, 4)\n"
     ]
    }
   ],
   "source": [
    "data_sub = pd.read_csv('/datasets/subscriptions_go.csv') # cчитаем CSV-файлы с данными\n",
    "display(data_sub) # выводим таблицу полностью, так как она состоит из малого количества данных\n",
    "shape = data_sub.shape\n",
    "print(shape)"
   ]
  },
  {
   "cell_type": "markdown",
   "id": "f1d258b3",
   "metadata": {},
   "source": [
    "## 1. Вывод \n",
    "\n",
    "Загрузили и рассмотрели данные.\n",
    "Выявили столбцы данных с которыми нужно провести предобработку:\n",
    "1. В таблице с пользователями данные соответствуют необходимым типам. Данные выглядят объективно и понятно.\n",
    "2. В таблице с поездками видим в столбце date тип object. Предобработем его в следующем шаге. Так же видим большое количество знаков после запятой в столбцах distance  и duration, возможно нужно будет округлить данные.\n",
    "3. В таблице подписок сразу видим весь объем данных. Он нам полностью подходит для проведения дальнейшей работы.\n",
    "4. Узнали, что в таблицах с данными отсутствуют пропуски.\n"
   ]
  },
  {
   "cell_type": "markdown",
   "id": "cb4f8b0a",
   "metadata": {},
   "source": [
    "## 2. Предобработка данных"
   ]
  },
  {
   "cell_type": "markdown",
   "id": "64c49cd5",
   "metadata": {},
   "source": [
    "### 2.1. Приведем тип  date к типу дата"
   ]
  },
  {
   "cell_type": "code",
   "execution_count": 7,
   "id": "9ea5f13c",
   "metadata": {
    "scrolled": false
   },
   "outputs": [
    {
     "name": "stdout",
     "output_type": "stream",
     "text": [
      "<class 'pandas.core.frame.DataFrame'>\n",
      "RangeIndex: 18068 entries, 0 to 18067\n",
      "Data columns (total 4 columns):\n",
      " #   Column    Non-Null Count  Dtype         \n",
      "---  ------    --------------  -----         \n",
      " 0   user_id   18068 non-null  int64         \n",
      " 1   distance  18068 non-null  float64       \n",
      " 2   duration  18068 non-null  float64       \n",
      " 3   date      18068 non-null  datetime64[ns]\n",
      "dtypes: datetime64[ns](1), float64(2), int64(1)\n",
      "memory usage: 564.8 KB\n"
     ]
    }
   ],
   "source": [
    "data_riders['date'] = pd.to_datetime(data_riders['date'], format = '%Y-%m-%d') # приведем тип  date в типу дата\n",
    "data_riders.info() # выведем общую информацию \n"
   ]
  },
  {
   "cell_type": "markdown",
   "id": "875bca70",
   "metadata": {},
   "source": [
    "### 2.2. Создаем новый столбец с номером месяца"
   ]
  },
  {
   "cell_type": "code",
   "execution_count": 8,
   "id": "e8dc45f9",
   "metadata": {},
   "outputs": [
    {
     "data": {
      "text/plain": [
       "array([2021])"
      ]
     },
     "execution_count": 8,
     "metadata": {},
     "output_type": "execute_result"
    }
   ],
   "source": [
    "data_riders['date'].dt.year.unique()"
   ]
  },
  {
   "cell_type": "code",
   "execution_count": 9,
   "id": "4205db68",
   "metadata": {
    "scrolled": true
   },
   "outputs": [
    {
     "data": {
      "text/plain": [
       "149       4\n",
       "5701      6\n",
       "7745      6\n",
       "15654    11\n",
       "11232    10\n",
       "7094     10\n",
       "2276     11\n",
       "17058     1\n",
       "12754    12\n",
       "4524      3\n",
       "Name: month, dtype: int64"
      ]
     },
     "execution_count": 9,
     "metadata": {},
     "output_type": "execute_result"
    }
   ],
   "source": [
    "data_riders['month'] = data_riders['date'].dt.month\n",
    "data_riders['month'].sample(10)"
   ]
  },
  {
   "cell_type": "markdown",
   "id": "f39a4dd6",
   "metadata": {},
   "source": [
    "### 2.3. Обработка дубликатов "
   ]
  },
  {
   "cell_type": "code",
   "execution_count": 10,
   "id": "2a6719cd",
   "metadata": {},
   "outputs": [],
   "source": [
    "data_users.duplicated().sum()  \n",
    "data_users.drop_duplicates(inplace=True) # удалим дубликаты"
   ]
  },
  {
   "cell_type": "code",
   "execution_count": 11,
   "id": "8989613d",
   "metadata": {},
   "outputs": [
    {
     "data": {
      "text/plain": [
       "(1534, 5)"
      ]
     },
     "metadata": {},
     "output_type": "display_data"
    }
   ],
   "source": [
    "shape = data_users.shape\n",
    "display(shape)"
   ]
  },
  {
   "cell_type": "code",
   "execution_count": 12,
   "id": "2eac9af5",
   "metadata": {},
   "outputs": [
    {
     "data": {
      "text/plain": [
       "0"
      ]
     },
     "execution_count": 12,
     "metadata": {},
     "output_type": "execute_result"
    }
   ],
   "source": [
    "data_riders.duplicated().sum() "
   ]
  },
  {
   "cell_type": "code",
   "execution_count": 13,
   "id": "971de17c",
   "metadata": {
    "scrolled": true
   },
   "outputs": [
    {
     "data": {
      "text/plain": [
       "0"
      ]
     },
     "execution_count": 13,
     "metadata": {},
     "output_type": "execute_result"
    }
   ],
   "source": [
    "data_sub.duplicated().sum() "
   ]
  },
  {
   "cell_type": "markdown",
   "id": "419c1b9f",
   "metadata": {},
   "source": [
    "## 2. Вывод\n",
    "\n",
    "Предобработали данные.\n",
    "1. Сменили тип объекта по столбцу date на тип datetime64\n",
    "2. Узнали, что данные приведены за 2021 год и добавили столбец month  с номером месяца в таблицу поездок.\n",
    "3. В таблицах с поездками и подписками дубликаты отсутствуют.\n",
    "4. В таблице с пользователями избавились от дубликатов. Проверили объем таблицы Удален 31 дубликат. \n"
   ]
  },
  {
   "cell_type": "markdown",
   "id": "463113e2",
   "metadata": {},
   "source": [
    "## 3. Исследовательский анализ данных"
   ]
  },
  {
   "cell_type": "markdown",
   "id": "48e9a627",
   "metadata": {},
   "source": [
    "### 3.1. Частота встречаемости городов"
   ]
  },
  {
   "cell_type": "code",
   "execution_count": 14,
   "id": "051b677c",
   "metadata": {},
   "outputs": [
    {
     "name": "stdout",
     "output_type": "stream",
     "text": [
      "Пятигорск         219\n",
      "Екатеринбург      204\n",
      "Ростов-на-Дону    198\n",
      "Краснодар         193\n",
      "Сочи              189\n",
      "Омск              183\n",
      "Тюмень            180\n",
      "Москва            168\n",
      "Name: city, dtype: int64\n"
     ]
    }
   ],
   "source": [
    "count_city = data_users['city'].value_counts()\n",
    "print(count_city)"
   ]
  },
  {
   "cell_type": "code",
   "execution_count": 15,
   "id": "19af5728",
   "metadata": {},
   "outputs": [
    {
     "data": {
      "text/plain": [
       "Пятигорск         14.0\n",
       "Екатеринбург      13.0\n",
       "Ростов-на-Дону    13.0\n",
       "Краснодар         13.0\n",
       "Сочи              12.0\n",
       "Омск              12.0\n",
       "Тюмень            12.0\n",
       "Москва            11.0\n",
       "Name: city, dtype: float64"
      ]
     },
     "metadata": {},
     "output_type": "display_data"
    }
   ],
   "source": [
    "count_city['rate'] = round(data_users['city'].value_counts() / count_city.sum(), 2) * 100\n",
    "display(count_city['rate'])"
   ]
  },
  {
   "cell_type": "code",
   "execution_count": 16,
   "id": "0f10b274",
   "metadata": {
    "scrolled": false
   },
   "outputs": [
    {
     "data": {
      "image/png": "[encoded data removed]",
      "text/plain": [
       "<Figure size 504x504 with 1 Axes>"
      ]
     },
     "metadata": {},
     "output_type": "display_data"
    }
   ],
   "source": [
    "data_users['city'].value_counts().plot(\n",
    "    kind = 'pie', \n",
    "    y = count_city,\n",
    "    autopct = '%1.0f%%',\n",
    "    figsize=(7,7), \n",
    "    title = 'Распределение пользователей по городам');"
   ]
  },
  {
   "cell_type": "markdown",
   "id": "59ff1111",
   "metadata": {},
   "source": [
    "### 3.2. Cоотношение пользователей с подпиской и без подписки"
   ]
  },
  {
   "cell_type": "code",
   "execution_count": 17,
   "id": "ba689f03",
   "metadata": {},
   "outputs": [],
   "source": [
    "count_sub = data_users['subscription_type'].value_counts()\n"
   ]
  },
  {
   "cell_type": "code",
   "execution_count": 18,
   "id": "3d44262b",
   "metadata": {},
   "outputs": [
    {
     "data": {
      "text/plain": [
       "free     835\n",
       "ultra    699\n",
       "Name: subscription_type, dtype: int64"
      ]
     },
     "execution_count": 18,
     "metadata": {},
     "output_type": "execute_result"
    }
   ],
   "source": [
    "count_sub"
   ]
  },
  {
   "cell_type": "code",
   "execution_count": 19,
   "id": "10d5bb33",
   "metadata": {},
   "outputs": [
    {
     "data": {
      "image/png": "[encoded data removed]",
      "text/plain": [
       "<Figure size 360x360 with 1 Axes>"
      ]
     },
     "metadata": {},
     "output_type": "display_data"
    }
   ],
   "source": [
    "data_users['subscription_type'].value_counts().plot(\n",
    "    kind = 'pie', \n",
    "    y = None, \n",
    "    autopct = '%1.0f%%', \n",
    "    figsize=(5,5),\n",
    "    title = 'Процентное соотношение пользователей в зависимости от тарифа');"
   ]
  },
  {
   "cell_type": "markdown",
   "id": "c71ee48a",
   "metadata": {},
   "source": [
    "### 3.3. Возраст пользователей"
   ]
  },
  {
   "cell_type": "code",
   "execution_count": 20,
   "id": "895d242c",
   "metadata": {},
   "outputs": [
    {
     "name": "stdout",
     "output_type": "stream",
     "text": [
      "25    145\n",
      "24    132\n",
      "26    131\n",
      "23    129\n",
      "27    119\n",
      "22    119\n",
      "28    112\n",
      "21     93\n",
      "20     71\n",
      "30     68\n",
      "29     68\n",
      "31     48\n",
      "19     47\n",
      "18     46\n",
      "32     41\n",
      "33     39\n",
      "17     26\n",
      "34     19\n",
      "16     19\n",
      "35     15\n",
      "15     13\n",
      "14      9\n",
      "13      8\n",
      "36      6\n",
      "12      4\n",
      "38      3\n",
      "37      2\n",
      "39      1\n",
      "43      1\n",
      "Name: age, dtype: int64\n"
     ]
    }
   ],
   "source": [
    "count_age = data_users['age'].value_counts()\n",
    "print(count_age)"
   ]
  },
  {
   "cell_type": "code",
   "execution_count": 21,
   "id": "870a012e",
   "metadata": {
    "scrolled": true
   },
   "outputs": [
    {
     "data": {
      "image/png": "[encoded data removed]",
      "text/plain": [
       "<Figure size 432x288 with 1 Axes>"
      ]
     },
     "metadata": {
      "needs_background": "light"
     },
     "output_type": "display_data"
    }
   ],
   "source": [
    "plt.hist(data_users['age'], bins = 32)\n",
    "plt.title('Возраст пользователей')\n",
    "plt.xlabel('Возраст')\n",
    "plt.ylabel('Количество пользователей')\n",
    "plt.grid()\n",
    "plt.show()"
   ]
  },
  {
   "cell_type": "code",
   "execution_count": 22,
   "id": "e08e11d4",
   "metadata": {},
   "outputs": [
    {
     "data": {
      "text/plain": [
       "count    1534.000000\n",
       "mean       24.903520\n",
       "std         4.572367\n",
       "min        12.000000\n",
       "25%        22.000000\n",
       "50%        25.000000\n",
       "75%        28.000000\n",
       "max        43.000000\n",
       "Name: age, dtype: float64"
      ]
     },
     "execution_count": 22,
     "metadata": {},
     "output_type": "execute_result"
    }
   ],
   "source": [
    "data_users['age']. describe ()"
   ]
  },
  {
   "cell_type": "markdown",
   "id": "93f0ecbf",
   "metadata": {},
   "source": [
    "### 3.4. Расстояние, которое пользователь преодолел за одну поездку"
   ]
  },
  {
   "cell_type": "code",
   "execution_count": 23,
   "id": "4787b2f1",
   "metadata": {},
   "outputs": [
    {
     "data": {
      "text/plain": [
       "11555       0.86\n",
       "9541        2.57\n",
       "13690       4.33\n",
       "8658        6.78\n",
       "7841        7.10\n",
       "          ...   \n",
       "17242    6724.93\n",
       "17171    6760.94\n",
       "15580    6908.49\n",
       "16484    7066.00\n",
       "16309    7211.01\n",
       "Name: distance, Length: 18068, dtype: float64"
      ]
     },
     "execution_count": 23,
     "metadata": {},
     "output_type": "execute_result"
    }
   ],
   "source": [
    "round(data_riders['distance'].sort_values(), 2)"
   ]
  },
  {
   "cell_type": "code",
   "execution_count": 24,
   "id": "389578eb",
   "metadata": {},
   "outputs": [
    {
     "data": {
      "image/png": "[encoded data removed]",
      "text/plain": [
       "<Figure size 432x288 with 1 Axes>"
      ]
     },
     "metadata": {
      "needs_background": "light"
     },
     "output_type": "display_data"
    }
   ],
   "source": [
    "plt.hist(data_riders['distance'], bins = 30)\n",
    "plt.title('Расстояние, преодоленное за одну поездку')\n",
    "plt.xlabel('Расстояние, м')\n",
    "plt.ylabel('Количество пользователей')\n",
    "plt.grid()\n",
    "plt.show()"
   ]
  },
  {
   "cell_type": "markdown",
   "id": "3cf8aad6",
   "metadata": {},
   "source": [
    "### 3.5.  Продолжительность поездок"
   ]
  },
  {
   "cell_type": "code",
   "execution_count": 25,
   "id": "928a4e8a",
   "metadata": {
    "scrolled": true
   },
   "outputs": [
    {
     "data": {
      "text/plain": [
       "12013     0.500000\n",
       "17314     0.500000\n",
       "15029     0.500000\n",
       "7437      0.500000\n",
       "12967     0.500000\n",
       "           ...    \n",
       "6453     38.265229\n",
       "1998     38.352763\n",
       "2623     39.526602\n",
       "4709     39.873856\n",
       "4215     40.823963\n",
       "Name: duration, Length: 18068, dtype: float64"
      ]
     },
     "execution_count": 25,
     "metadata": {},
     "output_type": "execute_result"
    }
   ],
   "source": [
    "data_riders['duration'].sort_values()"
   ]
  },
  {
   "cell_type": "code",
   "execution_count": 26,
   "id": "eb18c70d",
   "metadata": {},
   "outputs": [
    {
     "data": {
      "image/png": "[encoded data removed]",
      "text/plain": [
       "<Figure size 432x288 with 1 Axes>"
      ]
     },
     "metadata": {
      "needs_background": "light"
     },
     "output_type": "display_data"
    }
   ],
   "source": [
    "plt.hist(data_riders['duration'], bins = 30) \n",
    "plt.title('Время поездки')\n",
    "plt.xlabel('Минуты')\n",
    "plt.ylabel('Количество пользователей')\n",
    "plt.grid()\n",
    "plt.show()"
   ]
  },
  {
   "cell_type": "markdown",
   "id": "e780348e",
   "metadata": {},
   "source": [
    "## 3. Вывод \n",
    "Исследовали данные \n",
    "\n",
    "1. Количество пользователей в различных городах\n",
    "\n",
    "Распределение пользователей по городам примерно одинаково, нет высоких значений. Самым популярным городом среди пользователей является Пятигорск с 219 пользователями. Наименьшее количество пользователей можно обнаружить в Москве - 168. Вероятно, такое распределение связано с разницей в размере этих городов. В Пятигорске более удобно использовать самокаты для перемещения.\n",
    "\n",
    "2. Соотношение пользователей с подпиской и без подписки\n",
    "\n",
    "Большая часть пользователей (835 человек) использует бесплатную подписку, что составляет около 54% от общего числа пользователей. Платную подписку использует 699 пользователей, что составляет примерно 46%.\n",
    "\n",
    "3. Возраст пользователей\n",
    "\n",
    "Наиболее молодыми пользователями являются те, кто имеет возраст 12 и 13 лет. Самой старшей возрастной группой являются пользователи в возрасте 43 и 39 лет. В целом, основная аудитория приложения состоит в возрасте от 20 до 30 лет.\n",
    "\n",
    "4. Пройденное пользователем расстояние за одну поездку\n",
    "\n",
    "Наиболее короткое расстояние составляет 0,86 км, в то время как самое большое - 7,2 км. Обычно пользователи проезжают от 2,5 км до 4 км.\n",
    "\n",
    "5. Продолжительность поездок\n",
    "\n",
    "Наиболее короткие поездки длительностью полминуты выглядят очень странно. Возможно, пользователи просто изменили свои планы или возникли проблемы с самокатом. Самая долгая поездка длилась 40 минут. В большинстве случаев продолжительность поездки составляет от 13 до 22 минут."
   ]
  },
  {
   "cell_type": "markdown",
   "id": "36bbcdfd",
   "metadata": {},
   "source": [
    "## 4. Объединение данных"
   ]
  },
  {
   "cell_type": "markdown",
   "id": "d1ae7d3c",
   "metadata": {},
   "source": [
    "### 4.1.  Объедините датафреймов"
   ]
  },
  {
   "cell_type": "code",
   "execution_count": 27,
   "id": "5bfa324e",
   "metadata": {
    "scrolled": false
   },
   "outputs": [
    {
     "data": {
      "text/html": [
       "<div>\n",
       "<style scoped>\n",
       "    .dataframe tbody tr th:only-of-type {\n",
       "        vertical-align: middle;\n",
       "    }\n",
       "\n",
       "    .dataframe tbody tr th {\n",
       "        vertical-align: top;\n",
       "    }\n",
       "\n",
       "    .dataframe thead th {\n",
       "        text-align: right;\n",
       "    }\n",
       "</style>\n",
       "<table border=\"1\" class=\"dataframe\">\n",
       "  <thead>\n",
       "    <tr style=\"text-align: right;\">\n",
       "      <th></th>\n",
       "      <th>user_id</th>\n",
       "      <th>name</th>\n",
       "      <th>age</th>\n",
       "      <th>city</th>\n",
       "      <th>subscription_type</th>\n",
       "      <th>distance</th>\n",
       "      <th>duration</th>\n",
       "      <th>date</th>\n",
       "      <th>month</th>\n",
       "      <th>minute_price</th>\n",
       "      <th>start_ride_price</th>\n",
       "      <th>subscription_fee</th>\n",
       "    </tr>\n",
       "  </thead>\n",
       "  <tbody>\n",
       "    <tr>\n",
       "      <th>0</th>\n",
       "      <td>1</td>\n",
       "      <td>Кира</td>\n",
       "      <td>22</td>\n",
       "      <td>Тюмень</td>\n",
       "      <td>ultra</td>\n",
       "      <td>4409.919140</td>\n",
       "      <td>25.599769</td>\n",
       "      <td>2021-01-01</td>\n",
       "      <td>1</td>\n",
       "      <td>6</td>\n",
       "      <td>0</td>\n",
       "      <td>199</td>\n",
       "    </tr>\n",
       "    <tr>\n",
       "      <th>1</th>\n",
       "      <td>1</td>\n",
       "      <td>Кира</td>\n",
       "      <td>22</td>\n",
       "      <td>Тюмень</td>\n",
       "      <td>ultra</td>\n",
       "      <td>2617.592153</td>\n",
       "      <td>15.816871</td>\n",
       "      <td>2021-01-18</td>\n",
       "      <td>1</td>\n",
       "      <td>6</td>\n",
       "      <td>0</td>\n",
       "      <td>199</td>\n",
       "    </tr>\n",
       "    <tr>\n",
       "      <th>2</th>\n",
       "      <td>1</td>\n",
       "      <td>Кира</td>\n",
       "      <td>22</td>\n",
       "      <td>Тюмень</td>\n",
       "      <td>ultra</td>\n",
       "      <td>754.159807</td>\n",
       "      <td>6.232113</td>\n",
       "      <td>2021-04-20</td>\n",
       "      <td>4</td>\n",
       "      <td>6</td>\n",
       "      <td>0</td>\n",
       "      <td>199</td>\n",
       "    </tr>\n",
       "    <tr>\n",
       "      <th>3</th>\n",
       "      <td>1</td>\n",
       "      <td>Кира</td>\n",
       "      <td>22</td>\n",
       "      <td>Тюмень</td>\n",
       "      <td>ultra</td>\n",
       "      <td>2694.783254</td>\n",
       "      <td>18.511000</td>\n",
       "      <td>2021-08-11</td>\n",
       "      <td>8</td>\n",
       "      <td>6</td>\n",
       "      <td>0</td>\n",
       "      <td>199</td>\n",
       "    </tr>\n",
       "    <tr>\n",
       "      <th>4</th>\n",
       "      <td>1</td>\n",
       "      <td>Кира</td>\n",
       "      <td>22</td>\n",
       "      <td>Тюмень</td>\n",
       "      <td>ultra</td>\n",
       "      <td>4028.687306</td>\n",
       "      <td>26.265803</td>\n",
       "      <td>2021-08-28</td>\n",
       "      <td>8</td>\n",
       "      <td>6</td>\n",
       "      <td>0</td>\n",
       "      <td>199</td>\n",
       "    </tr>\n",
       "    <tr>\n",
       "      <th>...</th>\n",
       "      <td>...</td>\n",
       "      <td>...</td>\n",
       "      <td>...</td>\n",
       "      <td>...</td>\n",
       "      <td>...</td>\n",
       "      <td>...</td>\n",
       "      <td>...</td>\n",
       "      <td>...</td>\n",
       "      <td>...</td>\n",
       "      <td>...</td>\n",
       "      <td>...</td>\n",
       "      <td>...</td>\n",
       "    </tr>\n",
       "    <tr>\n",
       "      <th>18063</th>\n",
       "      <td>1534</td>\n",
       "      <td>Альберт</td>\n",
       "      <td>25</td>\n",
       "      <td>Краснодар</td>\n",
       "      <td>free</td>\n",
       "      <td>3781.098080</td>\n",
       "      <td>19.822962</td>\n",
       "      <td>2021-11-04</td>\n",
       "      <td>11</td>\n",
       "      <td>8</td>\n",
       "      <td>50</td>\n",
       "      <td>0</td>\n",
       "    </tr>\n",
       "    <tr>\n",
       "      <th>18064</th>\n",
       "      <td>1534</td>\n",
       "      <td>Альберт</td>\n",
       "      <td>25</td>\n",
       "      <td>Краснодар</td>\n",
       "      <td>free</td>\n",
       "      <td>2840.423057</td>\n",
       "      <td>21.409799</td>\n",
       "      <td>2021-11-16</td>\n",
       "      <td>11</td>\n",
       "      <td>8</td>\n",
       "      <td>50</td>\n",
       "      <td>0</td>\n",
       "    </tr>\n",
       "    <tr>\n",
       "      <th>18065</th>\n",
       "      <td>1534</td>\n",
       "      <td>Альберт</td>\n",
       "      <td>25</td>\n",
       "      <td>Краснодар</td>\n",
       "      <td>free</td>\n",
       "      <td>3826.185507</td>\n",
       "      <td>18.435051</td>\n",
       "      <td>2021-11-18</td>\n",
       "      <td>11</td>\n",
       "      <td>8</td>\n",
       "      <td>50</td>\n",
       "      <td>0</td>\n",
       "    </tr>\n",
       "    <tr>\n",
       "      <th>18066</th>\n",
       "      <td>1534</td>\n",
       "      <td>Альберт</td>\n",
       "      <td>25</td>\n",
       "      <td>Краснодар</td>\n",
       "      <td>free</td>\n",
       "      <td>2902.308661</td>\n",
       "      <td>16.674362</td>\n",
       "      <td>2021-11-27</td>\n",
       "      <td>11</td>\n",
       "      <td>8</td>\n",
       "      <td>50</td>\n",
       "      <td>0</td>\n",
       "    </tr>\n",
       "    <tr>\n",
       "      <th>18067</th>\n",
       "      <td>1534</td>\n",
       "      <td>Альберт</td>\n",
       "      <td>25</td>\n",
       "      <td>Краснодар</td>\n",
       "      <td>free</td>\n",
       "      <td>2371.711192</td>\n",
       "      <td>15.893917</td>\n",
       "      <td>2021-12-29</td>\n",
       "      <td>12</td>\n",
       "      <td>8</td>\n",
       "      <td>50</td>\n",
       "      <td>0</td>\n",
       "    </tr>\n",
       "  </tbody>\n",
       "</table>\n",
       "<p>18068 rows × 12 columns</p>\n",
       "</div>"
      ],
      "text/plain": [
       "       user_id     name  age       city subscription_type     distance  \\\n",
       "0            1     Кира   22     Тюмень             ultra  4409.919140   \n",
       "1            1     Кира   22     Тюмень             ultra  2617.592153   \n",
       "2            1     Кира   22     Тюмень             ultra   754.159807   \n",
       "3            1     Кира   22     Тюмень             ultra  2694.783254   \n",
       "4            1     Кира   22     Тюмень             ultra  4028.687306   \n",
       "...        ...      ...  ...        ...               ...          ...   \n",
       "18063     1534  Альберт   25  Краснодар              free  3781.098080   \n",
       "18064     1534  Альберт   25  Краснодар              free  2840.423057   \n",
       "18065     1534  Альберт   25  Краснодар              free  3826.185507   \n",
       "18066     1534  Альберт   25  Краснодар              free  2902.308661   \n",
       "18067     1534  Альберт   25  Краснодар              free  2371.711192   \n",
       "\n",
       "        duration       date  month  minute_price  start_ride_price  \\\n",
       "0      25.599769 2021-01-01      1             6                 0   \n",
       "1      15.816871 2021-01-18      1             6                 0   \n",
       "2       6.232113 2021-04-20      4             6                 0   \n",
       "3      18.511000 2021-08-11      8             6                 0   \n",
       "4      26.265803 2021-08-28      8             6                 0   \n",
       "...          ...        ...    ...           ...               ...   \n",
       "18063  19.822962 2021-11-04     11             8                50   \n",
       "18064  21.409799 2021-11-16     11             8                50   \n",
       "18065  18.435051 2021-11-18     11             8                50   \n",
       "18066  16.674362 2021-11-27     11             8                50   \n",
       "18067  15.893917 2021-12-29     12             8                50   \n",
       "\n",
       "       subscription_fee  \n",
       "0                   199  \n",
       "1                   199  \n",
       "2                   199  \n",
       "3                   199  \n",
       "4                   199  \n",
       "...                 ...  \n",
       "18063                 0  \n",
       "18064                 0  \n",
       "18065                 0  \n",
       "18066                 0  \n",
       "18067                 0  \n",
       "\n",
       "[18068 rows x 12 columns]"
      ]
     },
     "metadata": {},
     "output_type": "display_data"
    }
   ],
   "source": [
    "full_data = data_users.merge(data_riders)\n",
    "full_data = full_data.merge(data_sub)\n",
    "display(full_data)"
   ]
  },
  {
   "cell_type": "code",
   "execution_count": 28,
   "id": "684ba144",
   "metadata": {},
   "outputs": [
    {
     "data": {
      "text/plain": [
       "(18068, 5)"
      ]
     },
     "metadata": {},
     "output_type": "display_data"
    }
   ],
   "source": [
    "shape = data_riders.shape\n",
    "display(shape)"
   ]
  },
  {
   "cell_type": "markdown",
   "id": "b1f7845e",
   "metadata": {},
   "source": [
    "### 4.2.  Создание датафрейма c данными о пользователях без подписки"
   ]
  },
  {
   "cell_type": "code",
   "execution_count": 29,
   "id": "c995efd4",
   "metadata": {},
   "outputs": [
    {
     "data": {
      "text/html": [
       "<div>\n",
       "<style scoped>\n",
       "    .dataframe tbody tr th:only-of-type {\n",
       "        vertical-align: middle;\n",
       "    }\n",
       "\n",
       "    .dataframe tbody tr th {\n",
       "        vertical-align: top;\n",
       "    }\n",
       "\n",
       "    .dataframe thead th {\n",
       "        text-align: right;\n",
       "    }\n",
       "</style>\n",
       "<table border=\"1\" class=\"dataframe\">\n",
       "  <thead>\n",
       "    <tr style=\"text-align: right;\">\n",
       "      <th></th>\n",
       "      <th>user_id</th>\n",
       "      <th>name</th>\n",
       "      <th>age</th>\n",
       "      <th>city</th>\n",
       "      <th>subscription_type</th>\n",
       "      <th>distance</th>\n",
       "      <th>duration</th>\n",
       "      <th>date</th>\n",
       "      <th>month</th>\n",
       "      <th>minute_price</th>\n",
       "      <th>start_ride_price</th>\n",
       "      <th>subscription_fee</th>\n",
       "    </tr>\n",
       "  </thead>\n",
       "  <tbody>\n",
       "    <tr>\n",
       "      <th>6500</th>\n",
       "      <td>700</td>\n",
       "      <td>Айдар</td>\n",
       "      <td>22</td>\n",
       "      <td>Омск</td>\n",
       "      <td>free</td>\n",
       "      <td>2515.690719</td>\n",
       "      <td>14.944286</td>\n",
       "      <td>2021-01-02</td>\n",
       "      <td>1</td>\n",
       "      <td>8</td>\n",
       "      <td>50</td>\n",
       "      <td>0</td>\n",
       "    </tr>\n",
       "    <tr>\n",
       "      <th>6501</th>\n",
       "      <td>700</td>\n",
       "      <td>Айдар</td>\n",
       "      <td>22</td>\n",
       "      <td>Омск</td>\n",
       "      <td>free</td>\n",
       "      <td>846.932642</td>\n",
       "      <td>16.234663</td>\n",
       "      <td>2021-02-01</td>\n",
       "      <td>2</td>\n",
       "      <td>8</td>\n",
       "      <td>50</td>\n",
       "      <td>0</td>\n",
       "    </tr>\n",
       "    <tr>\n",
       "      <th>6502</th>\n",
       "      <td>700</td>\n",
       "      <td>Айдар</td>\n",
       "      <td>22</td>\n",
       "      <td>Омск</td>\n",
       "      <td>free</td>\n",
       "      <td>4004.434142</td>\n",
       "      <td>20.016628</td>\n",
       "      <td>2021-02-04</td>\n",
       "      <td>2</td>\n",
       "      <td>8</td>\n",
       "      <td>50</td>\n",
       "      <td>0</td>\n",
       "    </tr>\n",
       "    <tr>\n",
       "      <th>6503</th>\n",
       "      <td>700</td>\n",
       "      <td>Айдар</td>\n",
       "      <td>22</td>\n",
       "      <td>Омск</td>\n",
       "      <td>free</td>\n",
       "      <td>1205.911290</td>\n",
       "      <td>9.782872</td>\n",
       "      <td>2021-02-10</td>\n",
       "      <td>2</td>\n",
       "      <td>8</td>\n",
       "      <td>50</td>\n",
       "      <td>0</td>\n",
       "    </tr>\n",
       "    <tr>\n",
       "      <th>6504</th>\n",
       "      <td>700</td>\n",
       "      <td>Айдар</td>\n",
       "      <td>22</td>\n",
       "      <td>Омск</td>\n",
       "      <td>free</td>\n",
       "      <td>3047.379435</td>\n",
       "      <td>17.427673</td>\n",
       "      <td>2021-02-14</td>\n",
       "      <td>2</td>\n",
       "      <td>8</td>\n",
       "      <td>50</td>\n",
       "      <td>0</td>\n",
       "    </tr>\n",
       "    <tr>\n",
       "      <th>...</th>\n",
       "      <td>...</td>\n",
       "      <td>...</td>\n",
       "      <td>...</td>\n",
       "      <td>...</td>\n",
       "      <td>...</td>\n",
       "      <td>...</td>\n",
       "      <td>...</td>\n",
       "      <td>...</td>\n",
       "      <td>...</td>\n",
       "      <td>...</td>\n",
       "      <td>...</td>\n",
       "      <td>...</td>\n",
       "    </tr>\n",
       "    <tr>\n",
       "      <th>18063</th>\n",
       "      <td>1534</td>\n",
       "      <td>Альберт</td>\n",
       "      <td>25</td>\n",
       "      <td>Краснодар</td>\n",
       "      <td>free</td>\n",
       "      <td>3781.098080</td>\n",
       "      <td>19.822962</td>\n",
       "      <td>2021-11-04</td>\n",
       "      <td>11</td>\n",
       "      <td>8</td>\n",
       "      <td>50</td>\n",
       "      <td>0</td>\n",
       "    </tr>\n",
       "    <tr>\n",
       "      <th>18064</th>\n",
       "      <td>1534</td>\n",
       "      <td>Альберт</td>\n",
       "      <td>25</td>\n",
       "      <td>Краснодар</td>\n",
       "      <td>free</td>\n",
       "      <td>2840.423057</td>\n",
       "      <td>21.409799</td>\n",
       "      <td>2021-11-16</td>\n",
       "      <td>11</td>\n",
       "      <td>8</td>\n",
       "      <td>50</td>\n",
       "      <td>0</td>\n",
       "    </tr>\n",
       "    <tr>\n",
       "      <th>18065</th>\n",
       "      <td>1534</td>\n",
       "      <td>Альберт</td>\n",
       "      <td>25</td>\n",
       "      <td>Краснодар</td>\n",
       "      <td>free</td>\n",
       "      <td>3826.185507</td>\n",
       "      <td>18.435051</td>\n",
       "      <td>2021-11-18</td>\n",
       "      <td>11</td>\n",
       "      <td>8</td>\n",
       "      <td>50</td>\n",
       "      <td>0</td>\n",
       "    </tr>\n",
       "    <tr>\n",
       "      <th>18066</th>\n",
       "      <td>1534</td>\n",
       "      <td>Альберт</td>\n",
       "      <td>25</td>\n",
       "      <td>Краснодар</td>\n",
       "      <td>free</td>\n",
       "      <td>2902.308661</td>\n",
       "      <td>16.674362</td>\n",
       "      <td>2021-11-27</td>\n",
       "      <td>11</td>\n",
       "      <td>8</td>\n",
       "      <td>50</td>\n",
       "      <td>0</td>\n",
       "    </tr>\n",
       "    <tr>\n",
       "      <th>18067</th>\n",
       "      <td>1534</td>\n",
       "      <td>Альберт</td>\n",
       "      <td>25</td>\n",
       "      <td>Краснодар</td>\n",
       "      <td>free</td>\n",
       "      <td>2371.711192</td>\n",
       "      <td>15.893917</td>\n",
       "      <td>2021-12-29</td>\n",
       "      <td>12</td>\n",
       "      <td>8</td>\n",
       "      <td>50</td>\n",
       "      <td>0</td>\n",
       "    </tr>\n",
       "  </tbody>\n",
       "</table>\n",
       "<p>11568 rows × 12 columns</p>\n",
       "</div>"
      ],
      "text/plain": [
       "       user_id     name  age       city subscription_type     distance  \\\n",
       "6500       700    Айдар   22       Омск              free  2515.690719   \n",
       "6501       700    Айдар   22       Омск              free   846.932642   \n",
       "6502       700    Айдар   22       Омск              free  4004.434142   \n",
       "6503       700    Айдар   22       Омск              free  1205.911290   \n",
       "6504       700    Айдар   22       Омск              free  3047.379435   \n",
       "...        ...      ...  ...        ...               ...          ...   \n",
       "18063     1534  Альберт   25  Краснодар              free  3781.098080   \n",
       "18064     1534  Альберт   25  Краснодар              free  2840.423057   \n",
       "18065     1534  Альберт   25  Краснодар              free  3826.185507   \n",
       "18066     1534  Альберт   25  Краснодар              free  2902.308661   \n",
       "18067     1534  Альберт   25  Краснодар              free  2371.711192   \n",
       "\n",
       "        duration       date  month  minute_price  start_ride_price  \\\n",
       "6500   14.944286 2021-01-02      1             8                50   \n",
       "6501   16.234663 2021-02-01      2             8                50   \n",
       "6502   20.016628 2021-02-04      2             8                50   \n",
       "6503    9.782872 2021-02-10      2             8                50   \n",
       "6504   17.427673 2021-02-14      2             8                50   \n",
       "...          ...        ...    ...           ...               ...   \n",
       "18063  19.822962 2021-11-04     11             8                50   \n",
       "18064  21.409799 2021-11-16     11             8                50   \n",
       "18065  18.435051 2021-11-18     11             8                50   \n",
       "18066  16.674362 2021-11-27     11             8                50   \n",
       "18067  15.893917 2021-12-29     12             8                50   \n",
       "\n",
       "       subscription_fee  \n",
       "6500                  0  \n",
       "6501                  0  \n",
       "6502                  0  \n",
       "6503                  0  \n",
       "6504                  0  \n",
       "...                 ...  \n",
       "18063                 0  \n",
       "18064                 0  \n",
       "18065                 0  \n",
       "18066                 0  \n",
       "18067                 0  \n",
       "\n",
       "[11568 rows x 12 columns]"
      ]
     },
     "metadata": {},
     "output_type": "display_data"
    }
   ],
   "source": [
    "free_data = full_data.query(\"`subscription_type` == 'free'\")\n",
    "display(free_data)"
   ]
  },
  {
   "cell_type": "markdown",
   "id": "f24405d6",
   "metadata": {},
   "source": [
    "### 4.3.  Создание датафрейма c данными о пользователях с подпиской"
   ]
  },
  {
   "cell_type": "code",
   "execution_count": 30,
   "id": "e82da9f6",
   "metadata": {},
   "outputs": [
    {
     "data": {
      "text/html": [
       "<div>\n",
       "<style scoped>\n",
       "    .dataframe tbody tr th:only-of-type {\n",
       "        vertical-align: middle;\n",
       "    }\n",
       "\n",
       "    .dataframe tbody tr th {\n",
       "        vertical-align: top;\n",
       "    }\n",
       "\n",
       "    .dataframe thead th {\n",
       "        text-align: right;\n",
       "    }\n",
       "</style>\n",
       "<table border=\"1\" class=\"dataframe\">\n",
       "  <thead>\n",
       "    <tr style=\"text-align: right;\">\n",
       "      <th></th>\n",
       "      <th>user_id</th>\n",
       "      <th>name</th>\n",
       "      <th>age</th>\n",
       "      <th>city</th>\n",
       "      <th>subscription_type</th>\n",
       "      <th>distance</th>\n",
       "      <th>duration</th>\n",
       "      <th>date</th>\n",
       "      <th>month</th>\n",
       "      <th>minute_price</th>\n",
       "      <th>start_ride_price</th>\n",
       "      <th>subscription_fee</th>\n",
       "    </tr>\n",
       "  </thead>\n",
       "  <tbody>\n",
       "    <tr>\n",
       "      <th>0</th>\n",
       "      <td>1</td>\n",
       "      <td>Кира</td>\n",
       "      <td>22</td>\n",
       "      <td>Тюмень</td>\n",
       "      <td>ultra</td>\n",
       "      <td>4409.919140</td>\n",
       "      <td>25.599769</td>\n",
       "      <td>2021-01-01</td>\n",
       "      <td>1</td>\n",
       "      <td>6</td>\n",
       "      <td>0</td>\n",
       "      <td>199</td>\n",
       "    </tr>\n",
       "    <tr>\n",
       "      <th>1</th>\n",
       "      <td>1</td>\n",
       "      <td>Кира</td>\n",
       "      <td>22</td>\n",
       "      <td>Тюмень</td>\n",
       "      <td>ultra</td>\n",
       "      <td>2617.592153</td>\n",
       "      <td>15.816871</td>\n",
       "      <td>2021-01-18</td>\n",
       "      <td>1</td>\n",
       "      <td>6</td>\n",
       "      <td>0</td>\n",
       "      <td>199</td>\n",
       "    </tr>\n",
       "    <tr>\n",
       "      <th>2</th>\n",
       "      <td>1</td>\n",
       "      <td>Кира</td>\n",
       "      <td>22</td>\n",
       "      <td>Тюмень</td>\n",
       "      <td>ultra</td>\n",
       "      <td>754.159807</td>\n",
       "      <td>6.232113</td>\n",
       "      <td>2021-04-20</td>\n",
       "      <td>4</td>\n",
       "      <td>6</td>\n",
       "      <td>0</td>\n",
       "      <td>199</td>\n",
       "    </tr>\n",
       "    <tr>\n",
       "      <th>3</th>\n",
       "      <td>1</td>\n",
       "      <td>Кира</td>\n",
       "      <td>22</td>\n",
       "      <td>Тюмень</td>\n",
       "      <td>ultra</td>\n",
       "      <td>2694.783254</td>\n",
       "      <td>18.511000</td>\n",
       "      <td>2021-08-11</td>\n",
       "      <td>8</td>\n",
       "      <td>6</td>\n",
       "      <td>0</td>\n",
       "      <td>199</td>\n",
       "    </tr>\n",
       "    <tr>\n",
       "      <th>4</th>\n",
       "      <td>1</td>\n",
       "      <td>Кира</td>\n",
       "      <td>22</td>\n",
       "      <td>Тюмень</td>\n",
       "      <td>ultra</td>\n",
       "      <td>4028.687306</td>\n",
       "      <td>26.265803</td>\n",
       "      <td>2021-08-28</td>\n",
       "      <td>8</td>\n",
       "      <td>6</td>\n",
       "      <td>0</td>\n",
       "      <td>199</td>\n",
       "    </tr>\n",
       "    <tr>\n",
       "      <th>...</th>\n",
       "      <td>...</td>\n",
       "      <td>...</td>\n",
       "      <td>...</td>\n",
       "      <td>...</td>\n",
       "      <td>...</td>\n",
       "      <td>...</td>\n",
       "      <td>...</td>\n",
       "      <td>...</td>\n",
       "      <td>...</td>\n",
       "      <td>...</td>\n",
       "      <td>...</td>\n",
       "      <td>...</td>\n",
       "    </tr>\n",
       "    <tr>\n",
       "      <th>6495</th>\n",
       "      <td>699</td>\n",
       "      <td>Оксана</td>\n",
       "      <td>22</td>\n",
       "      <td>Москва</td>\n",
       "      <td>ultra</td>\n",
       "      <td>3973.046497</td>\n",
       "      <td>24.671163</td>\n",
       "      <td>2021-08-29</td>\n",
       "      <td>8</td>\n",
       "      <td>6</td>\n",
       "      <td>0</td>\n",
       "      <td>199</td>\n",
       "    </tr>\n",
       "    <tr>\n",
       "      <th>6496</th>\n",
       "      <td>699</td>\n",
       "      <td>Оксана</td>\n",
       "      <td>22</td>\n",
       "      <td>Москва</td>\n",
       "      <td>ultra</td>\n",
       "      <td>3288.702563</td>\n",
       "      <td>15.892886</td>\n",
       "      <td>2021-09-12</td>\n",
       "      <td>9</td>\n",
       "      <td>6</td>\n",
       "      <td>0</td>\n",
       "      <td>199</td>\n",
       "    </tr>\n",
       "    <tr>\n",
       "      <th>6497</th>\n",
       "      <td>699</td>\n",
       "      <td>Оксана</td>\n",
       "      <td>22</td>\n",
       "      <td>Москва</td>\n",
       "      <td>ultra</td>\n",
       "      <td>3076.159348</td>\n",
       "      <td>14.389525</td>\n",
       "      <td>2021-09-26</td>\n",
       "      <td>9</td>\n",
       "      <td>6</td>\n",
       "      <td>0</td>\n",
       "      <td>199</td>\n",
       "    </tr>\n",
       "    <tr>\n",
       "      <th>6498</th>\n",
       "      <td>699</td>\n",
       "      <td>Оксана</td>\n",
       "      <td>22</td>\n",
       "      <td>Москва</td>\n",
       "      <td>ultra</td>\n",
       "      <td>4707.845501</td>\n",
       "      <td>15.839579</td>\n",
       "      <td>2021-10-17</td>\n",
       "      <td>10</td>\n",
       "      <td>6</td>\n",
       "      <td>0</td>\n",
       "      <td>199</td>\n",
       "    </tr>\n",
       "    <tr>\n",
       "      <th>6499</th>\n",
       "      <td>699</td>\n",
       "      <td>Оксана</td>\n",
       "      <td>22</td>\n",
       "      <td>Москва</td>\n",
       "      <td>ultra</td>\n",
       "      <td>3202.890770</td>\n",
       "      <td>25.217345</td>\n",
       "      <td>2021-12-03</td>\n",
       "      <td>12</td>\n",
       "      <td>6</td>\n",
       "      <td>0</td>\n",
       "      <td>199</td>\n",
       "    </tr>\n",
       "  </tbody>\n",
       "</table>\n",
       "<p>6500 rows × 12 columns</p>\n",
       "</div>"
      ],
      "text/plain": [
       "      user_id    name  age    city subscription_type     distance   duration  \\\n",
       "0           1    Кира   22  Тюмень             ultra  4409.919140  25.599769   \n",
       "1           1    Кира   22  Тюмень             ultra  2617.592153  15.816871   \n",
       "2           1    Кира   22  Тюмень             ultra   754.159807   6.232113   \n",
       "3           1    Кира   22  Тюмень             ultra  2694.783254  18.511000   \n",
       "4           1    Кира   22  Тюмень             ultra  4028.687306  26.265803   \n",
       "...       ...     ...  ...     ...               ...          ...        ...   \n",
       "6495      699  Оксана   22  Москва             ultra  3973.046497  24.671163   \n",
       "6496      699  Оксана   22  Москва             ultra  3288.702563  15.892886   \n",
       "6497      699  Оксана   22  Москва             ultra  3076.159348  14.389525   \n",
       "6498      699  Оксана   22  Москва             ultra  4707.845501  15.839579   \n",
       "6499      699  Оксана   22  Москва             ultra  3202.890770  25.217345   \n",
       "\n",
       "           date  month  minute_price  start_ride_price  subscription_fee  \n",
       "0    2021-01-01      1             6                 0               199  \n",
       "1    2021-01-18      1             6                 0               199  \n",
       "2    2021-04-20      4             6                 0               199  \n",
       "3    2021-08-11      8             6                 0               199  \n",
       "4    2021-08-28      8             6                 0               199  \n",
       "...         ...    ...           ...               ...               ...  \n",
       "6495 2021-08-29      8             6                 0               199  \n",
       "6496 2021-09-12      9             6                 0               199  \n",
       "6497 2021-09-26      9             6                 0               199  \n",
       "6498 2021-10-17     10             6                 0               199  \n",
       "6499 2021-12-03     12             6                 0               199  \n",
       "\n",
       "[6500 rows x 12 columns]"
      ]
     },
     "metadata": {},
     "output_type": "display_data"
    }
   ],
   "source": [
    "ultra_data = full_data.query(\"`subscription_type` == 'ultra'\")\n",
    "display(ultra_data)"
   ]
  },
  {
   "cell_type": "markdown",
   "id": "77353631",
   "metadata": {},
   "source": [
    "### 4.4. Информация о расстоянии и времени поездок для пользователей без подписоки"
   ]
  },
  {
   "cell_type": "code",
   "execution_count": 31,
   "id": "aa7f8013",
   "metadata": {},
   "outputs": [
    {
     "data": {
      "image/png": "[encoded data removed]",
      "text/plain": [
       "<Figure size 432x288 with 1 Axes>"
      ]
     },
     "metadata": {
      "needs_background": "light"
     },
     "output_type": "display_data"
    },
    {
     "data": {
      "text/plain": [
       "<Figure size 1440x1440 with 0 Axes>"
      ]
     },
     "metadata": {},
     "output_type": "display_data"
    },
    {
     "data": {
      "image/png": "[encoded data removed]",
      "text/plain": [
       "<Figure size 432x288 with 1 Axes>"
      ]
     },
     "metadata": {
      "needs_background": "light"
     },
     "output_type": "display_data"
    },
    {
     "data": {
      "text/plain": [
       "<Figure size 1440x1440 with 0 Axes>"
      ]
     },
     "metadata": {},
     "output_type": "display_data"
    }
   ],
   "source": [
    "plt.hist(free_data['distance'], bins=40, range = (0, 7000))\n",
    "plt.title('Расстояние, бесплатный тариф')\n",
    "plt.xlabel('Расстояние, м')\n",
    "plt.ylabel('Количество поездок')\n",
    "plt.figure(figsize=(20,20))\n",
    "plt.show()\n",
    "\n",
    "plt.hist(free_data['duration'], bins=30, range = (0, 35))\n",
    "plt.title('Время, бесплатный тариф')\n",
    "plt.xlabel('Время поездки, минуты')\n",
    "plt.ylabel('Количество поездок')\n",
    "plt.figure(figsize=(20,20))\n",
    "plt.show()\n"
   ]
  },
  {
   "cell_type": "markdown",
   "id": "e5be5d5e",
   "metadata": {},
   "source": [
    "### 4.5. Информация о расстоянии и времени поездок для пользователей без подписокой"
   ]
  },
  {
   "cell_type": "code",
   "execution_count": 32,
   "id": "bbabccd3",
   "metadata": {},
   "outputs": [
    {
     "data": {
      "image/png": "[encoded data removed]",
      "text/plain": [
       "<Figure size 432x288 with 1 Axes>"
      ]
     },
     "metadata": {
      "needs_background": "light"
     },
     "output_type": "display_data"
    },
    {
     "data": {
      "text/plain": [
       "<Figure size 1440x1440 with 0 Axes>"
      ]
     },
     "metadata": {},
     "output_type": "display_data"
    },
    {
     "data": {
      "image/png": "[encoded data removed]",
      "text/plain": [
       "<Figure size 432x288 with 1 Axes>"
      ]
     },
     "metadata": {
      "needs_background": "light"
     },
     "output_type": "display_data"
    },
    {
     "data": {
      "text/plain": [
       "<Figure size 1440x1440 with 0 Axes>"
      ]
     },
     "metadata": {},
     "output_type": "display_data"
    }
   ],
   "source": [
    "plt.hist(ultra_data['distance'], bins=20, range = (0, 7500))\n",
    "plt.title('Расстояние, с подписокй')\n",
    "plt.xlabel('Расстояние, м')\n",
    "plt.ylabel('Количество поездок')\n",
    "plt.figure(figsize=(20,20))\n",
    "plt.show()\n",
    "\n",
    "plt.hist(ultra_data['duration'], bins=20, range = (0, 40))\n",
    "plt.title('Время, без подписки')\n",
    "plt.xlabel('Время поездки, минуты')\n",
    "plt.ylabel('Количество поездок')\n",
    "plt.figure(figsize=(20,20))\n",
    "plt.show()"
   ]
  },
  {
   "cell_type": "code",
   "execution_count": 33,
   "id": "8fe9c627",
   "metadata": {},
   "outputs": [
    {
     "data": {
      "image/png": "[encoded data removed]",
      "text/plain": [
       "<Figure size 432x288 with 1 Axes>"
      ]
     },
     "metadata": {
      "needs_background": "light"
     },
     "output_type": "display_data"
    }
   ],
   "source": [
    "# plotting first histogram\n",
    "plt.hist(free_data['distance'], label=free_data['distance'], alpha=.8, edgecolor='red')\n",
    " \n",
    "# plotting second histogram\n",
    "plt.hist(ultra_data['distance'], label=ultra_data['distance'], alpha=0.7, edgecolor='yellow')\n",
    "plt.legend()\n",
    " \n",
    "# Showing the plot using plt.show()\n",
    "plt.show()"
   ]
  },
  {
   "cell_type": "code",
   "execution_count": 34,
   "id": "8e87e675",
   "metadata": {
    "scrolled": true
   },
   "outputs": [
    {
     "data": {
      "image/png": "[encoded data removed]",
      "text/plain": [
       "<Figure size 432x288 with 1 Axes>"
      ]
     },
     "metadata": {
      "needs_background": "light"
     },
     "output_type": "display_data"
    }
   ],
   "source": [
    "# plotting first histogram\n",
    "plt.hist(free_data['duration'], label=free_data['duration'], alpha=.8, edgecolor='red')\n",
    " \n",
    "# plotting second histogram\n",
    "plt.hist(ultra_data['duration'], label=ultra_data['duration'], alpha=0.7, edgecolor='yellow')\n",
    "plt.legend()\n",
    " \n",
    "# Showing the plot using plt.show()\n",
    "plt.show()"
   ]
  },
  {
   "cell_type": "markdown",
   "id": "8ef243c6",
   "metadata": {},
   "source": [
    "## 4. Вывод \n",
    "\n",
    "Объединили данные о пользователях, поездках и тарифах в один датафрейм - full_data.\n",
    "\n",
    "Выделили два датафрейма на основе full_data:\n",
    "\n",
    "free_data - Информация о пользователях с бесплатным тарифом\n",
    "ultra_data - Информация о пользователях с платным тарифом\n",
    "Визуализировали информацию о расстоянии и времени для каждого из тарифов.\n",
    "\n",
    "Для бесплатного тарифа время поездки составляет от 10 до 30 минут, и проезжают от 2 до 5 км, есть пользователи, которые проехали даже 6, 6.5 км.\n",
    "\n",
    "Платный тариф. В основном время укладывается в промежуток от 15 до 25 минут. Пик расстояния приходится на 3км.\n",
    "\n",
    "Таким образом, можно сделать вывод, что пользователи с бесплатным тарифом в целом совершают более долгие поездки, а также проезжают большее расстояние, чем пользователи на платном тарифе."
   ]
  },
  {
   "cell_type": "markdown",
   "id": "67bf1a12",
   "metadata": {},
   "source": [
    "## 5.  Подсчёт выручки"
   ]
  },
  {
   "cell_type": "markdown",
   "id": "2cae8772",
   "metadata": {},
   "source": [
    "### 5.1. Информация о расстоянии, количестве поездок и  времени для каждого пользователя за каждый месяц"
   ]
  },
  {
   "cell_type": "code",
   "execution_count": 35,
   "id": "a58e2fda",
   "metadata": {},
   "outputs": [],
   "source": [
    "full_data['duration'] = np.ceil(full_data['duration'])"
   ]
  },
  {
   "cell_type": "code",
   "execution_count": 36,
   "id": "f6553618",
   "metadata": {},
   "outputs": [
    {
     "data": {
      "text/html": [
       "<div>\n",
       "<style scoped>\n",
       "    .dataframe tbody tr th:only-of-type {\n",
       "        vertical-align: middle;\n",
       "    }\n",
       "\n",
       "    .dataframe tbody tr th {\n",
       "        vertical-align: top;\n",
       "    }\n",
       "\n",
       "    .dataframe thead th {\n",
       "        text-align: right;\n",
       "    }\n",
       "</style>\n",
       "<table border=\"1\" class=\"dataframe\">\n",
       "  <thead>\n",
       "    <tr style=\"text-align: right;\">\n",
       "      <th></th>\n",
       "      <th></th>\n",
       "      <th>distance</th>\n",
       "      <th>duration</th>\n",
       "      <th>count_tips</th>\n",
       "      <th>subscription_type</th>\n",
       "    </tr>\n",
       "    <tr>\n",
       "      <th>month</th>\n",
       "      <th>user_id</th>\n",
       "      <th></th>\n",
       "      <th></th>\n",
       "      <th></th>\n",
       "      <th></th>\n",
       "    </tr>\n",
       "  </thead>\n",
       "  <tbody>\n",
       "    <tr>\n",
       "      <th>9</th>\n",
       "      <th>1503</th>\n",
       "      <td>3239.470175</td>\n",
       "      <td>18.0</td>\n",
       "      <td>1</td>\n",
       "      <td>free</td>\n",
       "    </tr>\n",
       "    <tr>\n",
       "      <th>10</th>\n",
       "      <th>415</th>\n",
       "      <td>5148.282641</td>\n",
       "      <td>33.0</td>\n",
       "      <td>2</td>\n",
       "      <td>ultra</td>\n",
       "    </tr>\n",
       "    <tr>\n",
       "      <th>7</th>\n",
       "      <th>975</th>\n",
       "      <td>7696.219512</td>\n",
       "      <td>34.0</td>\n",
       "      <td>2</td>\n",
       "      <td>free</td>\n",
       "    </tr>\n",
       "    <tr>\n",
       "      <th>2</th>\n",
       "      <th>778</th>\n",
       "      <td>1922.433900</td>\n",
       "      <td>11.0</td>\n",
       "      <td>1</td>\n",
       "      <td>free</td>\n",
       "    </tr>\n",
       "    <tr>\n",
       "      <th>5</th>\n",
       "      <th>892</th>\n",
       "      <td>4099.457249</td>\n",
       "      <td>20.0</td>\n",
       "      <td>1</td>\n",
       "      <td>free</td>\n",
       "    </tr>\n",
       "    <tr>\n",
       "      <th>9</th>\n",
       "      <th>1162</th>\n",
       "      <td>2762.663525</td>\n",
       "      <td>27.0</td>\n",
       "      <td>1</td>\n",
       "      <td>free</td>\n",
       "    </tr>\n",
       "    <tr>\n",
       "      <th>1</th>\n",
       "      <th>88</th>\n",
       "      <td>4413.501500</td>\n",
       "      <td>23.0</td>\n",
       "      <td>1</td>\n",
       "      <td>ultra</td>\n",
       "    </tr>\n",
       "    <tr>\n",
       "      <th rowspan=\"2\" valign=\"top\">4</th>\n",
       "      <th>608</th>\n",
       "      <td>4647.676863</td>\n",
       "      <td>23.0</td>\n",
       "      <td>1</td>\n",
       "      <td>ultra</td>\n",
       "    </tr>\n",
       "    <tr>\n",
       "      <th>733</th>\n",
       "      <td>5640.960089</td>\n",
       "      <td>32.0</td>\n",
       "      <td>2</td>\n",
       "      <td>free</td>\n",
       "    </tr>\n",
       "    <tr>\n",
       "      <th>10</th>\n",
       "      <th>113</th>\n",
       "      <td>4970.204751</td>\n",
       "      <td>38.0</td>\n",
       "      <td>2</td>\n",
       "      <td>ultra</td>\n",
       "    </tr>\n",
       "  </tbody>\n",
       "</table>\n",
       "</div>"
      ],
      "text/plain": [
       "                  distance  duration  count_tips subscription_type\n",
       "month user_id                                                     \n",
       "9     1503     3239.470175      18.0           1              free\n",
       "10    415      5148.282641      33.0           2             ultra\n",
       "7     975      7696.219512      34.0           2              free\n",
       "2     778      1922.433900      11.0           1              free\n",
       "5     892      4099.457249      20.0           1              free\n",
       "9     1162     2762.663525      27.0           1              free\n",
       "1     88       4413.501500      23.0           1             ultra\n",
       "4     608      4647.676863      23.0           1             ultra\n",
       "      733      5640.960089      32.0           2              free\n",
       "10    113      4970.204751      38.0           2             ultra"
      ]
     },
     "execution_count": 36,
     "metadata": {},
     "output_type": "execute_result"
    }
   ],
   "source": [
    "total_data = pd.pivot_table(full_data,\n",
    "                           index=['month', 'user_id'],\n",
    "                           values = ['distance', 'duration', 'name', 'subscription_type'],\n",
    "                           aggfunc = {'distance': sum, \n",
    "                                      'duration' : sum, \n",
    "                                      'name' : len, \n",
    "                                      'subscription_type' : min})\n",
    "total_data.rename(columns = {'name' : 'count_tips'}, inplace = True)\n",
    "\n",
    "total_data.sort_values(by='month').sample(10)"
   ]
  },
  {
   "cell_type": "markdown",
   "id": "b5c42243",
   "metadata": {},
   "source": [
    "### 5.2. Информация с помесячной выручкой, которую принёс каждый пользователь"
   ]
  },
  {
   "cell_type": "code",
   "execution_count": 37,
   "id": "365d5a8b",
   "metadata": {},
   "outputs": [
    {
     "data": {
      "text/plain": [
       "month  user_id\n",
       "12     1339       348.0\n",
       "5      774        284.0\n",
       "1      1371       322.0\n",
       "7      77         433.0\n",
       "6      1210       266.0\n",
       "4      498        247.0\n",
       "       721        146.0\n",
       "7      202        337.0\n",
       "1      318        397.0\n",
       "10     1061       218.0\n",
       "Name: revenue_per_month, dtype: float64"
      ]
     },
     "execution_count": 37,
     "metadata": {},
     "output_type": "execute_result"
    }
   ],
   "source": [
    "def revenue(row):\n",
    "    if row['subscription_type'] == 'ultra':\n",
    "        return 6 * row['duration'] + 199\n",
    "    elif row['subscription_type'] == 'free':\n",
    "        return 8 * row['duration'] + 50 * row['count_tips']\n",
    "    else:\n",
    "        return 'Not such sub'\n",
    "total_data['revenue_per_month'] = total_data.apply(revenue, axis=1)\n",
    "total_data['revenue_per_month'].sample(10)"
   ]
  },
  {
   "cell_type": "markdown",
   "id": "34736e81",
   "metadata": {},
   "source": [
    "## 5. Вывод \n",
    "Создали новый датафрейм с агрегированными данными (total_data) на основе датафрейма с объединенными данными (full_data).\n",
    "\n",
    "Нашли суммарное расстояние, количество поездок и суммарное время для каждого пользователя за каждый месяц. Также добавили столбец с помесячной выручкой, которую принес каждый пользователь."
   ]
  },
  {
   "cell_type": "markdown",
   "id": "4590e591",
   "metadata": {},
   "source": [
    "## 6. Проверка гипотез"
   ]
  },
  {
   "cell_type": "markdown",
   "id": "7e9891fa",
   "metadata": {},
   "source": [
    "### 6.1. Тратят ли пользователи с подпиской больше времени на поездки?"
   ]
  },
  {
   "cell_type": "markdown",
   "id": "d26e9b35",
   "metadata": {},
   "source": [
    "H_0: Время (duration) пользователей на подписке ultra = время (duration) пользователей на подписке free\n",
    "\n",
    "H_1: Время (duration) пользователей на подписке ultra > время (duration) пользователей на подписке free\n",
    "\n",
    "alpha = 0.05"
   ]
  },
  {
   "cell_type": "code",
   "execution_count": 38,
   "id": "daee8cb6",
   "metadata": {},
   "outputs": [
    {
     "name": "stdout",
     "output_type": "stream",
     "text": [
      "1.2804098316645618e-34\n",
      "Отвергаем нулевую гипотезу\n"
     ]
    }
   ],
   "source": [
    "ultra = ultra_data['duration'] \n",
    "\n",
    "free = free_data['duration']\n",
    "\n",
    "results = st.ttest_ind(ultra, free,alternative = 'greater')\n",
    "\n",
    "alpha = .05\n",
    "\n",
    "print(results.pvalue)\n",
    "\n",
    "if results.pvalue < alpha:\n",
    "    print('Отвергаем нулевую гипотезу')\n",
    "else:\n",
    "    print('Не удалось отвергнуть нулевую гипотезу')"
   ]
  },
  {
   "cell_type": "code",
   "execution_count": 39,
   "id": "20c79adb",
   "metadata": {
    "scrolled": true
   },
   "outputs": [
    {
     "name": "stdout",
     "output_type": "stream",
     "text": [
      "17.39090929866399 18.54198516280583\n"
     ]
    }
   ],
   "source": [
    "print(free_data['duration'].mean(), ultra_data['duration'].mean())"
   ]
  },
  {
   "cell_type": "code",
   "execution_count": 40,
   "id": "a26d587d",
   "metadata": {},
   "outputs": [
    {
     "data": {
      "image/png": "[encoded data removed]",
      "text/plain": [
       "<Figure size 432x288 with 1 Axes>"
      ]
     },
     "metadata": {
      "needs_background": "light"
     },
     "output_type": "display_data"
    }
   ],
   "source": [
    "ax = sns.barplot(x = 'month',\n",
    "            y = 'duration',\n",
    "            hue = \"subscription_type\",\n",
    "            data = full_data,\n",
    "            palette = ['green', 'blue'])\n",
    "ax.set_title('Распределение продолжительности поездок по видам подписок и месяцам')\n",
    "ax.set(xlabel='Номер месяца', ylabel='Продолжительность поездок');"
   ]
  },
  {
   "cell_type": "markdown",
   "id": "84d25290",
   "metadata": {},
   "source": [
    "##### Вывод\n",
    "\n",
    "Проверка  нулевой гипотизы о равенстве времени пользователей на подписке ultra и без подписки показало, что мы отвергаем нулевую гипотезу. Пользователи на тарифе ultra  имеют поездки продолжительностью на 1,5 -2 минуты длиннее чем free пользователи. "
   ]
  },
  {
   "cell_type": "markdown",
   "id": "7a2ae19c",
   "metadata": {},
   "source": [
    "### 6.2.  Расстояние, которое проезжают пользователи с подпиской за одну поездку, не превышает 3130 метров? "
   ]
  },
  {
   "cell_type": "markdown",
   "id": "6600a739",
   "metadata": {},
   "source": [
    "Проверим гипотезу: пользователи с подпиской проезжают расстояние, не превышающее 3130 метров за одну поездку.\n",
    "\n",
    "H_0: Расстояние (distance) пользователей на подписке ultra = 3130 метров\n",
    "\n",
    "H_1: Расстояние (distance) пользователей на подписке ultra > 3130 метров\n",
    "\n",
    "alpha = 0.05"
   ]
  },
  {
   "cell_type": "code",
   "execution_count": 41,
   "id": "aaa3e151",
   "metadata": {},
   "outputs": [
    {
     "name": "stdout",
     "output_type": "stream",
     "text": [
      "0.9195368847849785\n",
      "Не удалось отвергнуть нулевую гипотезу\n"
     ]
    }
   ],
   "source": [
    "ultra_dist = ultra_data['distance']\n",
    "\n",
    "interested_value = 3130.0\n",
    "\n",
    "alpha = 0.05\n",
    "\n",
    "results = st.ttest_1samp(\n",
    "    ultra_dist, \n",
    "    interested_value,\n",
    "    alternative='greater')\n",
    "    \n",
    "print(results.pvalue)\n",
    "\n",
    "if (results.pvalue < alpha):\n",
    "    print('Отвергаем нулевую гипотезу')\n",
    "else:\n",
    "    print('Не удалось отвергнуть нулевую гипотезу')"
   ]
  },
  {
   "cell_type": "markdown",
   "id": "429b2aa8",
   "metadata": {},
   "source": [
    "##### Вывод\n",
    "Проверили гипотезу. Среднее расстояние, которое проезжают пользователи на тарифе ultra за поездку статистически значимо не отличается от оптимального расстояния 3130 метров"
   ]
  },
  {
   "cell_type": "markdown",
   "id": "7a15e190",
   "metadata": {},
   "source": [
    "### 6.3.  Выручка от пользователей с подпиской по месяцам выше, чем выручка от пользователей без подписки?"
   ]
  },
  {
   "cell_type": "markdown",
   "id": "aac21cac",
   "metadata": {},
   "source": [
    "H_0: Выручка (revenue_per_month) пользователей на подписке ultra = выручка (revenue_per_month) пользователей на подписке free\n",
    "\n",
    "H_1: Выручка (revenue_per_month) пользователей на подписке ultra > выручка (revenue_per_month) пользователей на подписке free\n",
    "\n",
    "alpha = 0.05"
   ]
  },
  {
   "cell_type": "code",
   "execution_count": 42,
   "id": "386e848d",
   "metadata": {},
   "outputs": [
    {
     "name": "stdout",
     "output_type": "stream",
     "text": [
      "1.8850394384715216e-31\n",
      "Отвергаем нулевую гипотезу\n"
     ]
    }
   ],
   "source": [
    "ultra_per_mnth = total_data.loc[total_data.subscription_type == 'ultra', 'revenue_per_month'] \n",
    "\n",
    "free_per_mnth = total_data.loc[total_data.subscription_type == 'free', 'revenue_per_month'] \n",
    "\n",
    "\n",
    "results = st.ttest_ind(ultra_per_mnth, \n",
    "                       free_per_mnth,\n",
    "                       alternative = 'greater')\n",
    "\n",
    "alpha = .05\n",
    "\n",
    "print(results.pvalue)\n",
    "\n",
    "if results.pvalue < alpha:\n",
    "    print('Отвергаем нулевую гипотезу')\n",
    "else:\n",
    "    print('Не удалось отвергнуть нулевую гипотезу')"
   ]
  },
  {
   "cell_type": "code",
   "execution_count": 43,
   "id": "28ca96b3",
   "metadata": {},
   "outputs": [
    {
     "name": "stdout",
     "output_type": "stream",
     "text": [
      "362.7921906022502 328.6413651073845\n"
     ]
    }
   ],
   "source": [
    "print(ultra_per_mnth.mean(), free_per_mnth.mean())"
   ]
  },
  {
   "cell_type": "markdown",
   "id": "d16eaa20",
   "metadata": {},
   "source": [
    "##### Вывод\n",
    "Проверили гипотезу. Отвергли нулевую гипотизу. Сы можем говорить о том, что выручка с пользователей на подписке ultra превышает выручку с пользователей на подписке free (в среднем на 34 рубля)"
   ]
  },
  {
   "cell_type": "markdown",
   "id": "d283c3c3",
   "metadata": {},
   "source": [
    "### 6.4.  Мобильное приложение снизило количество обращений в техподдержку?"
   ]
  },
  {
   "cell_type": "markdown",
   "id": "ed9e341f",
   "metadata": {},
   "source": [
    "Используем гипотезу о равенстве средних в парных выборках.\n",
    "\n",
    "Гипотеза :\n",
    "\n",
    "H0 : μ1 = μ2\n",
    "\n",
    "H1 : μ1 > μ2\n",
    "\n",
    "μ1 и μ2 - средние количество обращений в техподдержку до и после обновления мобильного приложения.\n",
    "\n",
    "Метод, который нужно использовать при сравнении: scipy.stats.ttest_rel()"
   ]
  },
  {
   "cell_type": "markdown",
   "id": "574fbd8f",
   "metadata": {},
   "source": [
    "## 7. Общий вывод"
   ]
  },
  {
   "cell_type": "markdown",
   "id": "d858f2ca",
   "metadata": {},
   "source": [
    "Загрузили 3 набора данных: информацию о пользователях, о поездках и о подписках.\n",
    "\n",
    "Далее провели проверку данных на наличие пропусков, которых не обнаружилось ни в одной таблице. Изменили тип данных столбца \"date\" в таблице \"data_riders\" на тип \"дата\". Также добавили столбец \"month\" с номером месяца. Удалили дубликаты строк из таблицы с пользователями.\n",
    "\n",
    "Произвели исследовательский анализ данных:\n",
    "\n",
    "Установили, что количество пользователей в разных городах примерно одинаково, нет значительных отклонений. Максимальное количество пользователей зарегистрировано в Пятигорске - 219 человек. Наименьшее количество пользователей в Москве - 168 человек.\n",
    "Большинство пользователей используют бесплатную подписку - 835 человек, что составляет около 54% от общего числа пользователей. Платную подписку используют 699 пользователей, что составляет примерно 46%.\n",
    "Возраст пользователей варьируется в диапазоне от 20 до 30 лет.\n",
    "Обычно пользователи проезжают расстояние от 2,5 до 4 км.\n",
    "Чаще всего длительность поездки составляет от 13 до 22 минут.\n",
    "Объединили данные о пользователях, поездках и подписках в одну таблицу. На основе объединенной таблицы создали еще 2 таблицы:\n",
    "\n",
    "Для пользователей с подпиской \"ultra\".\n",
    "Для пользователей с бесплатной подпиской.\n",
    "Затем визуализировали информацию о расстоянии и времени поездки для пользователей каждой подписки.\n",
    "\n",
    "Для пользователей с бесплатной подпиской время поездки составляет от 10 до 30 минут, а проезжаемое расстояние - от 2 до 5 км. Есть пользователи, которые проехали даже 6 или 6,5 км.\n",
    "Для пользователей с платной подпиской. В основном время поездки укладывается в промежуток от 15 до 25 минут. Максимальное расстояние составляет 3 км.\n",
    "Нашли суммарное расстояние, количество поездок и суммарное время для каждого пользователя за каждый месяц и вывели все данные в отдельную таблицу под названием \"total_data\". Добавили в таблицу \"total_data\" столбец с помесячной выручкой \"revenue_per_month\".\n",
    "\n",
    "Проверили несколько гипотез:\n",
    "\n",
    "Пользователи с подпиской тратят больше времени на поездки, чем пользователи с бесплатным тарифом. Результаты исследования позволили отвергнуть нулевую гипотезу.\n",
    "\n",
    "Пользователи с подпиской проезжают расстояние, не превышающее 3130 метров за одну поездку. Результаты исследования не позволили отвергнуть нулевую гипотезу.\n",
    "\n",
    "Помесячная выручка от пользователей с подпиской выше, чем выручка от пользователей без подписки. Результаты исследования позволили отвергнуть нулевую гипотезу."
   ]
  }
 ],
 "metadata": {
  "ExecuteTimeLog": [
   {
    "duration": 414,
    "start_time": "2023-07-10T06:58:54.468Z"
   },
   {
    "duration": 79,
    "start_time": "2023-07-10T06:58:54.884Z"
   },
   {
    "duration": 3,
    "start_time": "2023-07-10T06:59:02.009Z"
   },
   {
    "duration": 98,
    "start_time": "2023-07-10T06:59:02.015Z"
   },
   {
    "duration": 3,
    "start_time": "2023-07-10T06:59:17.152Z"
   },
   {
    "duration": 47,
    "start_time": "2023-07-10T06:59:17.157Z"
   },
   {
    "duration": 3,
    "start_time": "2023-07-10T06:59:30.953Z"
   },
   {
    "duration": 72,
    "start_time": "2023-07-10T06:59:30.959Z"
   },
   {
    "duration": 3,
    "start_time": "2023-07-10T07:03:28.916Z"
   },
   {
    "duration": 209,
    "start_time": "2023-07-10T07:03:28.920Z"
   },
   {
    "duration": 3,
    "start_time": "2023-07-10T07:03:40.284Z"
   },
   {
    "duration": 124,
    "start_time": "2023-07-10T07:03:40.291Z"
   },
   {
    "duration": 3,
    "start_time": "2023-07-10T07:04:56.728Z"
   },
   {
    "duration": 107,
    "start_time": "2023-07-10T07:04:56.733Z"
   },
   {
    "duration": 2,
    "start_time": "2023-07-10T07:07:30.696Z"
   },
   {
    "duration": 120,
    "start_time": "2023-07-10T07:07:30.700Z"
   },
   {
    "duration": 3,
    "start_time": "2023-07-10T07:09:00.755Z"
   },
   {
    "duration": 164,
    "start_time": "2023-07-10T07:09:00.761Z"
   },
   {
    "duration": 104,
    "start_time": "2023-07-10T07:09:00.927Z"
   },
   {
    "duration": 1313,
    "start_time": "2023-07-10T07:10:10.470Z"
   },
   {
    "duration": 35,
    "start_time": "2023-07-10T07:10:11.786Z"
   },
   {
    "duration": 88,
    "start_time": "2023-07-10T07:10:11.823Z"
   },
   {
    "duration": 4,
    "start_time": "2023-07-10T07:14:10.247Z"
   },
   {
    "duration": 40,
    "start_time": "2023-07-10T07:14:10.253Z"
   },
   {
    "duration": 27,
    "start_time": "2023-07-10T07:14:10.295Z"
   },
   {
    "duration": 3,
    "start_time": "2023-07-10T07:14:39.520Z"
   },
   {
    "duration": 50,
    "start_time": "2023-07-10T07:14:39.525Z"
   },
   {
    "duration": 31,
    "start_time": "2023-07-10T07:14:39.577Z"
   },
   {
    "duration": 3,
    "start_time": "2023-07-10T07:15:11.264Z"
   },
   {
    "duration": 89,
    "start_time": "2023-07-10T07:15:11.269Z"
   },
   {
    "duration": 30,
    "start_time": "2023-07-10T07:15:11.359Z"
   },
   {
    "duration": 4,
    "start_time": "2023-07-10T07:15:18.111Z"
   },
   {
    "duration": 59,
    "start_time": "2023-07-10T07:15:18.117Z"
   },
   {
    "duration": 36,
    "start_time": "2023-07-10T07:15:18.179Z"
   },
   {
    "duration": 4,
    "start_time": "2023-07-10T07:17:48.536Z"
   },
   {
    "duration": 44,
    "start_time": "2023-07-10T07:17:48.543Z"
   },
   {
    "duration": 36,
    "start_time": "2023-07-10T07:17:48.589Z"
   },
   {
    "duration": 20,
    "start_time": "2023-07-10T07:17:48.627Z"
   },
   {
    "duration": 4,
    "start_time": "2023-07-10T07:18:03.811Z"
   },
   {
    "duration": 58,
    "start_time": "2023-07-10T07:18:03.817Z"
   },
   {
    "duration": 38,
    "start_time": "2023-07-10T07:18:03.878Z"
   },
   {
    "duration": 116,
    "start_time": "2023-07-10T07:18:03.919Z"
   },
   {
    "duration": 3,
    "start_time": "2023-07-10T07:18:34.007Z"
   },
   {
    "duration": 34,
    "start_time": "2023-07-10T07:18:34.406Z"
   },
   {
    "duration": 36,
    "start_time": "2023-07-10T07:18:34.442Z"
   },
   {
    "duration": 19,
    "start_time": "2023-07-10T07:18:34.481Z"
   },
   {
    "duration": 4,
    "start_time": "2023-07-10T07:19:14.771Z"
   },
   {
    "duration": 76,
    "start_time": "2023-07-10T07:19:14.799Z"
   },
   {
    "duration": 3,
    "start_time": "2023-07-10T07:20:19.336Z"
   },
   {
    "duration": 113,
    "start_time": "2023-07-10T07:20:19.342Z"
   },
   {
    "duration": 3,
    "start_time": "2023-07-10T07:27:17.768Z"
   },
   {
    "duration": 45,
    "start_time": "2023-07-10T07:27:17.774Z"
   },
   {
    "duration": 41,
    "start_time": "2023-07-10T07:27:17.821Z"
   },
   {
    "duration": 4,
    "start_time": "2023-07-10T07:27:56.618Z"
   },
   {
    "duration": 45,
    "start_time": "2023-07-10T07:27:56.624Z"
   },
   {
    "duration": 45,
    "start_time": "2023-07-10T07:27:56.671Z"
   },
   {
    "duration": 19,
    "start_time": "2023-07-10T07:27:56.718Z"
   },
   {
    "duration": 5,
    "start_time": "2023-07-10T07:29:06.562Z"
   },
   {
    "duration": 80,
    "start_time": "2023-07-10T07:29:06.570Z"
   },
   {
    "duration": 43,
    "start_time": "2023-07-10T07:29:06.652Z"
   },
   {
    "duration": 18,
    "start_time": "2023-07-10T07:29:06.697Z"
   },
   {
    "duration": 15,
    "start_time": "2023-07-10T07:29:06.718Z"
   },
   {
    "duration": 4,
    "start_time": "2023-07-10T07:30:21.720Z"
   },
   {
    "duration": 75,
    "start_time": "2023-07-10T07:30:21.726Z"
   },
   {
    "duration": 47,
    "start_time": "2023-07-10T07:30:21.803Z"
   },
   {
    "duration": 40,
    "start_time": "2023-07-10T07:30:21.853Z"
   },
   {
    "duration": 194,
    "start_time": "2023-07-10T07:30:21.895Z"
   },
   {
    "duration": 3,
    "start_time": "2023-07-10T07:34:53.619Z"
   },
   {
    "duration": 75,
    "start_time": "2023-07-10T07:34:53.624Z"
   },
   {
    "duration": 40,
    "start_time": "2023-07-10T07:34:53.702Z"
   },
   {
    "duration": 27,
    "start_time": "2023-07-10T07:34:53.744Z"
   },
   {
    "duration": 9,
    "start_time": "2023-07-10T07:34:53.773Z"
   },
   {
    "duration": 17,
    "start_time": "2023-07-10T07:34:53.783Z"
   },
   {
    "duration": 3,
    "start_time": "2023-07-10T07:36:25.044Z"
   },
   {
    "duration": 74,
    "start_time": "2023-07-10T07:36:25.049Z"
   },
   {
    "duration": 45,
    "start_time": "2023-07-10T07:36:25.125Z"
   },
   {
    "duration": 20,
    "start_time": "2023-07-10T07:36:25.172Z"
   },
   {
    "duration": 12,
    "start_time": "2023-07-10T07:36:25.193Z"
   },
   {
    "duration": 30,
    "start_time": "2023-07-10T07:36:25.207Z"
   },
   {
    "duration": 3,
    "start_time": "2023-07-10T07:43:01.236Z"
   },
   {
    "duration": 123,
    "start_time": "2023-07-10T07:43:01.242Z"
   },
   {
    "duration": 67,
    "start_time": "2023-07-10T07:43:01.368Z"
   },
   {
    "duration": 67,
    "start_time": "2023-07-10T07:43:01.438Z"
   },
   {
    "duration": 45,
    "start_time": "2023-07-10T07:43:01.541Z"
   },
   {
    "duration": 72,
    "start_time": "2023-07-10T07:43:01.589Z"
   },
   {
    "duration": 4,
    "start_time": "2023-07-10T07:44:35.943Z"
   },
   {
    "duration": 64,
    "start_time": "2023-07-10T07:44:35.950Z"
   },
   {
    "duration": 49,
    "start_time": "2023-07-10T07:44:36.016Z"
   },
   {
    "duration": 19,
    "start_time": "2023-07-10T07:44:36.067Z"
   },
   {
    "duration": 18,
    "start_time": "2023-07-10T07:44:36.089Z"
   },
   {
    "duration": 14,
    "start_time": "2023-07-10T07:44:36.247Z"
   },
   {
    "duration": 3,
    "start_time": "2023-07-10T07:44:49.690Z"
   },
   {
    "duration": 49,
    "start_time": "2023-07-10T07:44:49.697Z"
   },
   {
    "duration": 66,
    "start_time": "2023-07-10T07:44:49.748Z"
   },
   {
    "duration": 29,
    "start_time": "2023-07-10T07:44:49.817Z"
   },
   {
    "duration": 18,
    "start_time": "2023-07-10T07:44:49.848Z"
   },
   {
    "duration": 12,
    "start_time": "2023-07-10T07:44:49.992Z"
   },
   {
    "duration": 4,
    "start_time": "2023-07-10T07:45:10.623Z"
   },
   {
    "duration": 57,
    "start_time": "2023-07-10T07:45:10.629Z"
   },
   {
    "duration": 46,
    "start_time": "2023-07-10T07:45:10.689Z"
   },
   {
    "duration": 20,
    "start_time": "2023-07-10T07:45:10.737Z"
   },
   {
    "duration": 19,
    "start_time": "2023-07-10T07:45:10.759Z"
   },
   {
    "duration": 7,
    "start_time": "2023-07-10T07:45:10.937Z"
   },
   {
    "duration": 3,
    "start_time": "2023-07-10T07:45:47.296Z"
   },
   {
    "duration": 52,
    "start_time": "2023-07-10T07:45:47.301Z"
   },
   {
    "duration": 55,
    "start_time": "2023-07-10T07:45:47.356Z"
   },
   {
    "duration": 37,
    "start_time": "2023-07-10T07:45:47.413Z"
   },
   {
    "duration": 57,
    "start_time": "2023-07-10T07:45:47.455Z"
   },
   {
    "duration": 6,
    "start_time": "2023-07-10T07:45:47.614Z"
   },
   {
    "duration": 18,
    "start_time": "2023-07-10T07:45:47.622Z"
   },
   {
    "duration": 6,
    "start_time": "2023-07-10T07:45:47.642Z"
   },
   {
    "duration": 3,
    "start_time": "2023-07-10T07:46:34.832Z"
   },
   {
    "duration": 71,
    "start_time": "2023-07-10T07:46:34.838Z"
   },
   {
    "duration": 55,
    "start_time": "2023-07-10T07:46:34.911Z"
   },
   {
    "duration": 21,
    "start_time": "2023-07-10T07:46:34.969Z"
   },
   {
    "duration": 17,
    "start_time": "2023-07-10T07:46:34.992Z"
   },
   {
    "duration": 6,
    "start_time": "2023-07-10T07:46:35.134Z"
   },
   {
    "duration": 13,
    "start_time": "2023-07-10T07:46:35.142Z"
   },
   {
    "duration": 28,
    "start_time": "2023-07-10T07:46:35.158Z"
   },
   {
    "duration": 4,
    "start_time": "2023-07-10T07:46:55.247Z"
   },
   {
    "duration": 71,
    "start_time": "2023-07-10T07:46:55.254Z"
   },
   {
    "duration": 55,
    "start_time": "2023-07-10T07:46:55.327Z"
   },
   {
    "duration": 23,
    "start_time": "2023-07-10T07:46:55.385Z"
   },
   {
    "duration": 23,
    "start_time": "2023-07-10T07:46:55.410Z"
   },
   {
    "duration": 8,
    "start_time": "2023-07-10T07:46:55.549Z"
   },
   {
    "duration": 31,
    "start_time": "2023-07-10T07:46:55.559Z"
   },
   {
    "duration": 6,
    "start_time": "2023-07-10T07:46:55.592Z"
   },
   {
    "duration": 4,
    "start_time": "2023-07-10T07:48:04.323Z"
   },
   {
    "duration": 114,
    "start_time": "2023-07-10T07:48:04.329Z"
   },
   {
    "duration": 61,
    "start_time": "2023-07-10T07:48:04.445Z"
   },
   {
    "duration": 22,
    "start_time": "2023-07-10T07:48:04.508Z"
   },
   {
    "duration": 34,
    "start_time": "2023-07-10T07:48:04.533Z"
   },
   {
    "duration": 26,
    "start_time": "2023-07-10T07:48:04.569Z"
   },
   {
    "duration": 30,
    "start_time": "2023-07-10T07:48:04.597Z"
   },
   {
    "duration": 7,
    "start_time": "2023-07-10T07:48:04.629Z"
   },
   {
    "duration": 3,
    "start_time": "2023-07-10T07:48:41.699Z"
   },
   {
    "duration": 47,
    "start_time": "2023-07-10T07:48:41.704Z"
   },
   {
    "duration": 64,
    "start_time": "2023-07-10T07:48:41.752Z"
   },
   {
    "duration": 19,
    "start_time": "2023-07-10T07:48:41.818Z"
   },
   {
    "duration": 19,
    "start_time": "2023-07-10T07:48:41.839Z"
   },
   {
    "duration": 7,
    "start_time": "2023-07-10T07:48:42.000Z"
   },
   {
    "duration": 14,
    "start_time": "2023-07-10T07:48:42.010Z"
   },
   {
    "duration": 6,
    "start_time": "2023-07-10T07:48:42.026Z"
   },
   {
    "duration": 4,
    "start_time": "2023-07-10T07:48:56.502Z"
   },
   {
    "duration": 52,
    "start_time": "2023-07-10T07:48:56.508Z"
   },
   {
    "duration": 50,
    "start_time": "2023-07-10T07:48:56.562Z"
   },
   {
    "duration": 18,
    "start_time": "2023-07-10T07:48:56.614Z"
   },
   {
    "duration": 14,
    "start_time": "2023-07-10T07:48:56.634Z"
   },
   {
    "duration": 10,
    "start_time": "2023-07-10T07:48:56.804Z"
   },
   {
    "duration": 9,
    "start_time": "2023-07-10T07:48:56.816Z"
   },
   {
    "duration": 6,
    "start_time": "2023-07-10T07:48:56.827Z"
   },
   {
    "duration": 4,
    "start_time": "2023-07-10T07:51:40.544Z"
   },
   {
    "duration": 128,
    "start_time": "2023-07-10T07:51:40.551Z"
   },
   {
    "duration": 96,
    "start_time": "2023-07-10T07:51:40.682Z"
   },
   {
    "duration": 22,
    "start_time": "2023-07-10T07:51:40.781Z"
   },
   {
    "duration": 37,
    "start_time": "2023-07-10T07:51:40.805Z"
   },
   {
    "duration": 54,
    "start_time": "2023-07-10T07:51:40.849Z"
   },
   {
    "duration": 184,
    "start_time": "2023-07-10T07:51:40.907Z"
   },
   {
    "duration": 169,
    "start_time": "2023-07-10T07:51:41.093Z"
   },
   {
    "duration": 4,
    "start_time": "2023-07-10T07:56:07.173Z"
   },
   {
    "duration": 48,
    "start_time": "2023-07-10T07:56:07.180Z"
   },
   {
    "duration": 55,
    "start_time": "2023-07-10T07:56:07.231Z"
   },
   {
    "duration": 21,
    "start_time": "2023-07-10T07:56:07.288Z"
   },
   {
    "duration": 22,
    "start_time": "2023-07-10T07:56:07.311Z"
   },
   {
    "duration": 10,
    "start_time": "2023-07-10T07:56:07.477Z"
   },
   {
    "duration": 25,
    "start_time": "2023-07-10T07:56:07.489Z"
   },
   {
    "duration": 13,
    "start_time": "2023-07-10T07:56:07.516Z"
   },
   {
    "duration": 6,
    "start_time": "2023-07-10T07:56:07.530Z"
   },
   {
    "duration": 4,
    "start_time": "2023-07-10T09:28:22.614Z"
   },
   {
    "duration": 76,
    "start_time": "2023-07-10T09:28:22.620Z"
   },
   {
    "duration": 46,
    "start_time": "2023-07-10T09:28:22.698Z"
   },
   {
    "duration": 29,
    "start_time": "2023-07-10T09:28:22.747Z"
   },
   {
    "duration": 31,
    "start_time": "2023-07-10T09:28:22.782Z"
   },
   {
    "duration": 8,
    "start_time": "2023-07-10T09:28:22.917Z"
   },
   {
    "duration": 9,
    "start_time": "2023-07-10T09:28:22.927Z"
   },
   {
    "duration": 37,
    "start_time": "2023-07-10T09:28:22.937Z"
   },
   {
    "duration": 26,
    "start_time": "2023-07-10T09:28:22.976Z"
   },
   {
    "duration": 15,
    "start_time": "2023-07-10T09:28:23.004Z"
   },
   {
    "duration": 4,
    "start_time": "2023-07-10T09:28:41.247Z"
   },
   {
    "duration": 82,
    "start_time": "2023-07-10T09:28:41.253Z"
   },
   {
    "duration": 60,
    "start_time": "2023-07-10T09:28:41.337Z"
   },
   {
    "duration": 19,
    "start_time": "2023-07-10T09:28:41.400Z"
   },
   {
    "duration": 15,
    "start_time": "2023-07-10T09:28:41.421Z"
   },
   {
    "duration": 10,
    "start_time": "2023-07-10T09:28:41.548Z"
   },
   {
    "duration": 44,
    "start_time": "2023-07-10T09:28:41.560Z"
   },
   {
    "duration": 12,
    "start_time": "2023-07-10T09:28:41.606Z"
   },
   {
    "duration": 6,
    "start_time": "2023-07-10T09:28:41.621Z"
   },
   {
    "duration": 7,
    "start_time": "2023-07-10T09:28:41.629Z"
   },
   {
    "duration": 19,
    "start_time": "2023-07-10T09:28:41.638Z"
   },
   {
    "duration": 4,
    "start_time": "2023-07-10T09:29:17.382Z"
   },
   {
    "duration": 51,
    "start_time": "2023-07-10T09:29:17.388Z"
   },
   {
    "duration": 61,
    "start_time": "2023-07-10T09:29:17.441Z"
   },
   {
    "duration": 19,
    "start_time": "2023-07-10T09:29:17.504Z"
   },
   {
    "duration": 15,
    "start_time": "2023-07-10T09:29:17.525Z"
   },
   {
    "duration": 8,
    "start_time": "2023-07-10T09:29:17.690Z"
   },
   {
    "duration": 6,
    "start_time": "2023-07-10T09:29:17.700Z"
   },
   {
    "duration": 7,
    "start_time": "2023-07-10T09:29:17.708Z"
   },
   {
    "duration": 5,
    "start_time": "2023-07-10T09:29:17.717Z"
   },
   {
    "duration": 6,
    "start_time": "2023-07-10T09:29:17.725Z"
   },
   {
    "duration": 10,
    "start_time": "2023-07-10T09:29:17.733Z"
   },
   {
    "duration": 194,
    "start_time": "2023-07-10T09:29:17.745Z"
   },
   {
    "duration": 4,
    "start_time": "2023-07-10T09:31:42.078Z"
   },
   {
    "duration": 63,
    "start_time": "2023-07-10T09:31:42.085Z"
   },
   {
    "duration": 78,
    "start_time": "2023-07-10T09:31:42.150Z"
   },
   {
    "duration": 20,
    "start_time": "2023-07-10T09:31:42.230Z"
   },
   {
    "duration": 27,
    "start_time": "2023-07-10T09:31:42.256Z"
   },
   {
    "duration": 10,
    "start_time": "2023-07-10T09:31:42.381Z"
   },
   {
    "duration": 7,
    "start_time": "2023-07-10T09:31:42.393Z"
   },
   {
    "duration": 9,
    "start_time": "2023-07-10T09:31:42.401Z"
   },
   {
    "duration": 10,
    "start_time": "2023-07-10T09:31:42.413Z"
   },
   {
    "duration": 7,
    "start_time": "2023-07-10T09:31:42.426Z"
   },
   {
    "duration": 22,
    "start_time": "2023-07-10T09:31:42.436Z"
   },
   {
    "duration": 223,
    "start_time": "2023-07-10T09:31:42.460Z"
   },
   {
    "duration": 6,
    "start_time": "2023-07-10T09:31:42.685Z"
   },
   {
    "duration": 122,
    "start_time": "2023-07-10T09:31:42.694Z"
   },
   {
    "duration": 9,
    "start_time": "2023-07-10T09:34:43.354Z"
   },
   {
    "duration": 66,
    "start_time": "2023-07-10T09:34:43.366Z"
   },
   {
    "duration": 53,
    "start_time": "2023-07-10T09:34:43.434Z"
   },
   {
    "duration": 19,
    "start_time": "2023-07-10T09:34:43.489Z"
   },
   {
    "duration": 16,
    "start_time": "2023-07-10T09:34:43.510Z"
   },
   {
    "duration": 10,
    "start_time": "2023-07-10T09:34:43.528Z"
   },
   {
    "duration": 8,
    "start_time": "2023-07-10T09:34:43.675Z"
   },
   {
    "duration": 9,
    "start_time": "2023-07-10T09:34:43.685Z"
   },
   {
    "duration": 6,
    "start_time": "2023-07-10T09:34:43.695Z"
   },
   {
    "duration": 13,
    "start_time": "2023-07-10T09:34:43.702Z"
   },
   {
    "duration": 9,
    "start_time": "2023-07-10T09:34:43.717Z"
   },
   {
    "duration": 186,
    "start_time": "2023-07-10T09:34:43.728Z"
   },
   {
    "duration": 6,
    "start_time": "2023-07-10T09:34:43.915Z"
   },
   {
    "duration": 117,
    "start_time": "2023-07-10T09:34:43.922Z"
   },
   {
    "duration": 4,
    "start_time": "2023-07-10T09:34:44.042Z"
   },
   {
    "duration": 39,
    "start_time": "2023-07-10T09:34:44.048Z"
   },
   {
    "duration": 4,
    "start_time": "2023-07-10T09:35:54.676Z"
   },
   {
    "duration": 53,
    "start_time": "2023-07-10T09:35:54.682Z"
   },
   {
    "duration": 53,
    "start_time": "2023-07-10T09:35:54.737Z"
   },
   {
    "duration": 19,
    "start_time": "2023-07-10T09:35:54.791Z"
   },
   {
    "duration": 17,
    "start_time": "2023-07-10T09:35:54.812Z"
   },
   {
    "duration": 8,
    "start_time": "2023-07-10T09:35:54.831Z"
   },
   {
    "duration": 9,
    "start_time": "2023-07-10T09:35:54.979Z"
   },
   {
    "duration": 16,
    "start_time": "2023-07-10T09:35:54.991Z"
   },
   {
    "duration": 14,
    "start_time": "2023-07-10T09:35:55.009Z"
   },
   {
    "duration": 22,
    "start_time": "2023-07-10T09:35:55.025Z"
   },
   {
    "duration": 39,
    "start_time": "2023-07-10T09:35:55.049Z"
   },
   {
    "duration": 193,
    "start_time": "2023-07-10T09:35:55.090Z"
   },
   {
    "duration": 5,
    "start_time": "2023-07-10T09:35:55.286Z"
   },
   {
    "duration": 223,
    "start_time": "2023-07-10T09:35:55.293Z"
   },
   {
    "duration": 6,
    "start_time": "2023-07-10T09:35:55.519Z"
   },
   {
    "duration": 13,
    "start_time": "2023-07-10T09:35:55.527Z"
   },
   {
    "duration": 5,
    "start_time": "2023-07-10T09:36:21.874Z"
   },
   {
    "duration": 80,
    "start_time": "2023-07-10T09:36:21.882Z"
   },
   {
    "duration": 52,
    "start_time": "2023-07-10T09:36:21.964Z"
   },
   {
    "duration": 20,
    "start_time": "2023-07-10T09:36:22.018Z"
   },
   {
    "duration": 20,
    "start_time": "2023-07-10T09:36:22.040Z"
   },
   {
    "duration": 26,
    "start_time": "2023-07-10T09:36:22.062Z"
   },
   {
    "duration": 7,
    "start_time": "2023-07-10T09:36:22.177Z"
   },
   {
    "duration": 13,
    "start_time": "2023-07-10T09:36:22.187Z"
   },
   {
    "duration": 22,
    "start_time": "2023-07-10T09:36:22.202Z"
   },
   {
    "duration": 23,
    "start_time": "2023-07-10T09:36:22.225Z"
   },
   {
    "duration": 40,
    "start_time": "2023-07-10T09:36:22.250Z"
   },
   {
    "duration": 190,
    "start_time": "2023-07-10T09:36:22.293Z"
   },
   {
    "duration": 5,
    "start_time": "2023-07-10T09:36:22.485Z"
   },
   {
    "duration": 124,
    "start_time": "2023-07-10T09:36:22.492Z"
   },
   {
    "duration": 7,
    "start_time": "2023-07-10T09:36:22.618Z"
   },
   {
    "duration": 8,
    "start_time": "2023-07-10T09:36:22.626Z"
   },
   {
    "duration": 4,
    "start_time": "2023-07-10T09:36:45.102Z"
   },
   {
    "duration": 93,
    "start_time": "2023-07-10T09:36:45.108Z"
   },
   {
    "duration": 44,
    "start_time": "2023-07-10T09:36:45.202Z"
   },
   {
    "duration": 26,
    "start_time": "2023-07-10T09:36:45.248Z"
   },
   {
    "duration": 33,
    "start_time": "2023-07-10T09:36:45.277Z"
   },
   {
    "duration": 14,
    "start_time": "2023-07-10T09:36:45.312Z"
   },
   {
    "duration": 9,
    "start_time": "2023-07-10T09:36:45.405Z"
   },
   {
    "duration": 26,
    "start_time": "2023-07-10T09:36:45.417Z"
   },
   {
    "duration": 19,
    "start_time": "2023-07-10T09:36:45.444Z"
   },
   {
    "duration": 28,
    "start_time": "2023-07-10T09:36:45.466Z"
   },
   {
    "duration": 14,
    "start_time": "2023-07-10T09:36:45.496Z"
   },
   {
    "duration": 200,
    "start_time": "2023-07-10T09:36:45.512Z"
   },
   {
    "duration": 5,
    "start_time": "2023-07-10T09:36:45.714Z"
   },
   {
    "duration": 121,
    "start_time": "2023-07-10T09:36:45.721Z"
   },
   {
    "duration": 8,
    "start_time": "2023-07-10T09:36:45.844Z"
   },
   {
    "duration": 32,
    "start_time": "2023-07-10T09:36:45.854Z"
   },
   {
    "duration": 4,
    "start_time": "2023-07-10T09:47:10.267Z"
   },
   {
    "duration": 127,
    "start_time": "2023-07-10T09:47:10.273Z"
   },
   {
    "duration": 210,
    "start_time": "2023-07-10T09:47:10.402Z"
   },
   {
    "duration": 35,
    "start_time": "2023-07-10T09:47:10.614Z"
   },
   {
    "duration": 112,
    "start_time": "2023-07-10T09:47:10.651Z"
   },
   {
    "duration": 87,
    "start_time": "2023-07-10T09:47:10.765Z"
   },
   {
    "duration": 60,
    "start_time": "2023-07-10T09:47:10.854Z"
   },
   {
    "duration": 110,
    "start_time": "2023-07-10T09:47:10.916Z"
   },
   {
    "duration": 67,
    "start_time": "2023-07-10T09:47:11.028Z"
   },
   {
    "duration": 119,
    "start_time": "2023-07-10T09:47:11.099Z"
   },
   {
    "duration": 82,
    "start_time": "2023-07-10T09:47:11.220Z"
   },
   {
    "duration": 311,
    "start_time": "2023-07-10T09:47:11.304Z"
   },
   {
    "duration": 7,
    "start_time": "2023-07-10T09:47:11.618Z"
   },
   {
    "duration": 197,
    "start_time": "2023-07-10T09:47:11.627Z"
   },
   {
    "duration": 79,
    "start_time": "2023-07-10T09:47:11.826Z"
   },
   {
    "duration": 90,
    "start_time": "2023-07-10T09:47:11.907Z"
   },
   {
    "duration": 99,
    "start_time": "2023-07-10T09:47:11.999Z"
   },
   {
    "duration": 287,
    "start_time": "2023-07-10T09:47:12.100Z"
   },
   {
    "duration": 3,
    "start_time": "2023-07-10T09:55:13.504Z"
   },
   {
    "duration": 166,
    "start_time": "2023-07-10T09:55:13.510Z"
   },
   {
    "duration": 230,
    "start_time": "2023-07-10T09:55:13.678Z"
   },
   {
    "duration": 154,
    "start_time": "2023-07-10T09:55:13.911Z"
   },
   {
    "duration": 163,
    "start_time": "2023-07-10T09:55:14.068Z"
   },
   {
    "duration": 168,
    "start_time": "2023-07-10T09:55:14.234Z"
   },
   {
    "duration": 144,
    "start_time": "2023-07-10T09:55:14.404Z"
   },
   {
    "duration": 158,
    "start_time": "2023-07-10T09:55:14.550Z"
   },
   {
    "duration": 127,
    "start_time": "2023-07-10T09:55:14.710Z"
   },
   {
    "duration": 101,
    "start_time": "2023-07-10T09:55:14.840Z"
   },
   {
    "duration": 118,
    "start_time": "2023-07-10T09:55:14.943Z"
   },
   {
    "duration": 298,
    "start_time": "2023-07-10T09:55:15.064Z"
   },
   {
    "duration": 6,
    "start_time": "2023-07-10T09:55:15.365Z"
   },
   {
    "duration": 316,
    "start_time": "2023-07-10T09:55:15.373Z"
   },
   {
    "duration": 41,
    "start_time": "2023-07-10T09:55:15.692Z"
   },
   {
    "duration": 129,
    "start_time": "2023-07-10T09:55:15.736Z"
   },
   {
    "duration": 155,
    "start_time": "2023-07-10T09:55:15.867Z"
   },
   {
    "duration": 198,
    "start_time": "2023-07-10T09:55:16.024Z"
   },
   {
    "duration": 0,
    "start_time": "2023-07-10T09:55:16.224Z"
   },
   {
    "duration": 4,
    "start_time": "2023-07-10T09:55:29.421Z"
   },
   {
    "duration": 124,
    "start_time": "2023-07-10T09:55:29.427Z"
   },
   {
    "duration": 58,
    "start_time": "2023-07-10T09:55:29.552Z"
   },
   {
    "duration": 32,
    "start_time": "2023-07-10T09:55:29.614Z"
   },
   {
    "duration": 62,
    "start_time": "2023-07-10T09:55:29.649Z"
   },
   {
    "duration": 40,
    "start_time": "2023-07-10T09:55:29.714Z"
   },
   {
    "duration": 82,
    "start_time": "2023-07-10T09:55:29.758Z"
   },
   {
    "duration": 664,
    "start_time": "2023-07-10T09:55:29.843Z"
   },
   {
    "duration": 402,
    "start_time": "2023-07-10T09:55:30.510Z"
   },
   {
    "duration": 355,
    "start_time": "2023-07-10T09:55:30.914Z"
   },
   {
    "duration": 616,
    "start_time": "2023-07-10T09:55:31.271Z"
   },
   {
    "duration": 901,
    "start_time": "2023-07-10T09:55:31.889Z"
   },
   {
    "duration": 422,
    "start_time": "2023-07-10T09:55:32.793Z"
   },
   {
    "duration": 518,
    "start_time": "2023-07-10T09:55:33.217Z"
   },
   {
    "duration": 82,
    "start_time": "2023-07-10T09:55:33.737Z"
   },
   {
    "duration": 172,
    "start_time": "2023-07-10T09:55:33.821Z"
   },
   {
    "duration": 144,
    "start_time": "2023-07-10T09:55:33.995Z"
   },
   {
    "duration": 148,
    "start_time": "2023-07-10T09:55:34.141Z"
   },
   {
    "duration": 0,
    "start_time": "2023-07-10T09:55:34.290Z"
   },
   {
    "duration": 3,
    "start_time": "2023-07-10T09:56:47.311Z"
   },
   {
    "duration": 49,
    "start_time": "2023-07-10T09:56:47.317Z"
   },
   {
    "duration": 43,
    "start_time": "2023-07-10T09:56:47.369Z"
   },
   {
    "duration": 20,
    "start_time": "2023-07-10T09:56:47.416Z"
   },
   {
    "duration": 27,
    "start_time": "2023-07-10T09:56:47.438Z"
   },
   {
    "duration": 33,
    "start_time": "2023-07-10T09:56:47.468Z"
   },
   {
    "duration": 8,
    "start_time": "2023-07-10T09:56:47.619Z"
   },
   {
    "duration": 60,
    "start_time": "2023-07-10T09:56:47.629Z"
   },
   {
    "duration": 11,
    "start_time": "2023-07-10T09:56:47.691Z"
   },
   {
    "duration": 13,
    "start_time": "2023-07-10T09:56:47.704Z"
   },
   {
    "duration": 19,
    "start_time": "2023-07-10T09:56:47.720Z"
   },
   {
    "duration": 283,
    "start_time": "2023-07-10T09:56:47.740Z"
   },
   {
    "duration": 5,
    "start_time": "2023-07-10T09:56:48.026Z"
   },
   {
    "duration": 264,
    "start_time": "2023-07-10T09:56:48.033Z"
   },
   {
    "duration": 10,
    "start_time": "2023-07-10T09:56:48.300Z"
   },
   {
    "duration": 42,
    "start_time": "2023-07-10T09:56:48.313Z"
   },
   {
    "duration": 52,
    "start_time": "2023-07-10T09:56:48.358Z"
   },
   {
    "duration": 58,
    "start_time": "2023-07-10T09:56:48.412Z"
   },
   {
    "duration": 0,
    "start_time": "2023-07-10T09:56:48.472Z"
   },
   {
    "duration": 3,
    "start_time": "2023-07-10T09:57:06.312Z"
   },
   {
    "duration": 474,
    "start_time": "2023-07-10T09:57:06.317Z"
   },
   {
    "duration": 407,
    "start_time": "2023-07-10T09:57:06.793Z"
   },
   {
    "duration": 20,
    "start_time": "2023-07-10T09:57:07.202Z"
   },
   {
    "duration": 21,
    "start_time": "2023-07-10T09:57:07.224Z"
   },
   {
    "duration": 16,
    "start_time": "2023-07-10T09:57:07.247Z"
   },
   {
    "duration": 20,
    "start_time": "2023-07-10T09:57:07.265Z"
   },
   {
    "duration": 36,
    "start_time": "2023-07-10T09:57:07.287Z"
   },
   {
    "duration": 9,
    "start_time": "2023-07-10T09:57:07.325Z"
   },
   {
    "duration": 46,
    "start_time": "2023-07-10T09:57:07.337Z"
   },
   {
    "duration": 86,
    "start_time": "2023-07-10T09:57:07.384Z"
   },
   {
    "duration": 208,
    "start_time": "2023-07-10T09:57:07.473Z"
   },
   {
    "duration": 5,
    "start_time": "2023-07-10T09:57:07.683Z"
   },
   {
    "duration": 120,
    "start_time": "2023-07-10T09:57:07.690Z"
   },
   {
    "duration": 7,
    "start_time": "2023-07-10T09:57:07.812Z"
   },
   {
    "duration": 23,
    "start_time": "2023-07-10T09:57:07.820Z"
   },
   {
    "duration": 27,
    "start_time": "2023-07-10T09:57:07.846Z"
   },
   {
    "duration": 76,
    "start_time": "2023-07-10T09:57:07.876Z"
   },
   {
    "duration": 0,
    "start_time": "2023-07-10T09:57:07.954Z"
   },
   {
    "duration": 3,
    "start_time": "2023-07-10T09:57:29.768Z"
   },
   {
    "duration": 85,
    "start_time": "2023-07-10T09:57:29.784Z"
   },
   {
    "duration": 59,
    "start_time": "2023-07-10T09:57:29.872Z"
   },
   {
    "duration": 20,
    "start_time": "2023-07-10T09:57:29.933Z"
   },
   {
    "duration": 40,
    "start_time": "2023-07-10T09:57:29.955Z"
   },
   {
    "duration": 94,
    "start_time": "2023-07-10T09:57:29.998Z"
   },
   {
    "duration": 64,
    "start_time": "2023-07-10T09:57:30.094Z"
   },
   {
    "duration": 41,
    "start_time": "2023-07-10T09:57:30.160Z"
   },
   {
    "duration": 72,
    "start_time": "2023-07-10T09:57:30.204Z"
   },
   {
    "duration": 34,
    "start_time": "2023-07-10T09:57:30.279Z"
   },
   {
    "duration": 30,
    "start_time": "2023-07-10T09:57:30.315Z"
   },
   {
    "duration": 226,
    "start_time": "2023-07-10T09:57:30.347Z"
   },
   {
    "duration": 6,
    "start_time": "2023-07-10T09:57:30.575Z"
   },
   {
    "duration": 153,
    "start_time": "2023-07-10T09:57:30.583Z"
   },
   {
    "duration": 14,
    "start_time": "2023-07-10T09:57:30.739Z"
   },
   {
    "duration": 78,
    "start_time": "2023-07-10T09:57:30.755Z"
   },
   {
    "duration": 64,
    "start_time": "2023-07-10T09:57:30.835Z"
   },
   {
    "duration": 133,
    "start_time": "2023-07-10T09:57:30.901Z"
   },
   {
    "duration": 0,
    "start_time": "2023-07-10T09:57:31.036Z"
   },
   {
    "duration": 4,
    "start_time": "2023-07-10T09:57:52.988Z"
   },
   {
    "duration": 117,
    "start_time": "2023-07-10T09:57:52.994Z"
   },
   {
    "duration": 64,
    "start_time": "2023-07-10T09:57:53.113Z"
   },
   {
    "duration": 29,
    "start_time": "2023-07-10T09:57:53.179Z"
   },
   {
    "duration": 36,
    "start_time": "2023-07-10T09:57:53.211Z"
   },
   {
    "duration": 61,
    "start_time": "2023-07-10T09:57:53.250Z"
   },
   {
    "duration": 80,
    "start_time": "2023-07-10T09:57:53.313Z"
   },
   {
    "duration": 85,
    "start_time": "2023-07-10T09:57:53.395Z"
   },
   {
    "duration": 51,
    "start_time": "2023-07-10T09:57:53.482Z"
   },
   {
    "duration": 47,
    "start_time": "2023-07-10T09:57:53.535Z"
   },
   {
    "duration": 96,
    "start_time": "2023-07-10T09:57:53.585Z"
   },
   {
    "duration": 216,
    "start_time": "2023-07-10T09:57:53.683Z"
   },
   {
    "duration": 6,
    "start_time": "2023-07-10T09:57:53.901Z"
   },
   {
    "duration": 124,
    "start_time": "2023-07-10T09:57:53.910Z"
   },
   {
    "duration": 18,
    "start_time": "2023-07-10T09:57:54.037Z"
   },
   {
    "duration": 35,
    "start_time": "2023-07-10T09:57:54.057Z"
   },
   {
    "duration": 31,
    "start_time": "2023-07-10T09:57:54.095Z"
   },
   {
    "duration": 238,
    "start_time": "2023-07-10T09:57:54.128Z"
   },
   {
    "duration": 3,
    "start_time": "2023-07-10T10:02:23.192Z"
   },
   {
    "duration": 60,
    "start_time": "2023-07-10T10:02:23.198Z"
   },
   {
    "duration": 41,
    "start_time": "2023-07-10T10:02:23.260Z"
   },
   {
    "duration": 20,
    "start_time": "2023-07-10T10:02:23.303Z"
   },
   {
    "duration": 15,
    "start_time": "2023-07-10T10:02:23.326Z"
   },
   {
    "duration": 16,
    "start_time": "2023-07-10T10:02:23.343Z"
   },
   {
    "duration": 11,
    "start_time": "2023-07-10T10:02:23.361Z"
   },
   {
    "duration": 9,
    "start_time": "2023-07-10T10:02:23.494Z"
   },
   {
    "duration": 5,
    "start_time": "2023-07-10T10:02:23.506Z"
   },
   {
    "duration": 11,
    "start_time": "2023-07-10T10:02:23.513Z"
   },
   {
    "duration": 16,
    "start_time": "2023-07-10T10:02:23.525Z"
   },
   {
    "duration": 160,
    "start_time": "2023-07-10T10:02:23.543Z"
   },
   {
    "duration": 5,
    "start_time": "2023-07-10T10:02:23.705Z"
   },
   {
    "duration": 106,
    "start_time": "2023-07-10T10:02:23.712Z"
   },
   {
    "duration": 6,
    "start_time": "2023-07-10T10:02:23.820Z"
   },
   {
    "duration": 25,
    "start_time": "2023-07-10T10:02:23.828Z"
   },
   {
    "duration": 6,
    "start_time": "2023-07-10T10:02:23.855Z"
   },
   {
    "duration": 9,
    "start_time": "2023-07-10T10:02:23.863Z"
   },
   {
    "duration": 175,
    "start_time": "2023-07-10T10:02:23.873Z"
   },
   {
    "duration": 5,
    "start_time": "2023-07-10T10:04:00.383Z"
   },
   {
    "duration": 262,
    "start_time": "2023-07-10T10:04:00.390Z"
   },
   {
    "duration": 80,
    "start_time": "2023-07-10T10:04:00.654Z"
   },
   {
    "duration": 30,
    "start_time": "2023-07-10T10:04:00.737Z"
   },
   {
    "duration": 77,
    "start_time": "2023-07-10T10:04:00.770Z"
   },
   {
    "duration": 133,
    "start_time": "2023-07-10T10:04:00.849Z"
   },
   {
    "duration": 67,
    "start_time": "2023-07-10T10:04:00.984Z"
   },
   {
    "duration": 173,
    "start_time": "2023-07-10T10:04:01.053Z"
   },
   {
    "duration": 117,
    "start_time": "2023-07-10T10:04:01.228Z"
   },
   {
    "duration": 222,
    "start_time": "2023-07-10T10:04:01.347Z"
   },
   {
    "duration": 104,
    "start_time": "2023-07-10T10:04:01.571Z"
   },
   {
    "duration": 361,
    "start_time": "2023-07-10T10:04:01.677Z"
   },
   {
    "duration": 13,
    "start_time": "2023-07-10T10:04:02.040Z"
   },
   {
    "duration": 229,
    "start_time": "2023-07-10T10:04:02.057Z"
   },
   {
    "duration": 7,
    "start_time": "2023-07-10T10:04:02.288Z"
   },
   {
    "duration": 486,
    "start_time": "2023-07-10T10:04:02.298Z"
   },
   {
    "duration": 4,
    "start_time": "2023-07-10T10:05:37.339Z"
   },
   {
    "duration": 152,
    "start_time": "2023-07-10T10:05:37.346Z"
   },
   {
    "duration": 143,
    "start_time": "2023-07-10T10:05:37.501Z"
   },
   {
    "duration": 50,
    "start_time": "2023-07-10T10:05:37.648Z"
   },
   {
    "duration": 59,
    "start_time": "2023-07-10T10:05:37.700Z"
   },
   {
    "duration": 68,
    "start_time": "2023-07-10T10:05:37.761Z"
   },
   {
    "duration": 43,
    "start_time": "2023-07-10T10:05:37.831Z"
   },
   {
    "duration": 60,
    "start_time": "2023-07-10T10:05:37.876Z"
   },
   {
    "duration": 68,
    "start_time": "2023-07-10T10:05:37.939Z"
   },
   {
    "duration": 101,
    "start_time": "2023-07-10T10:05:38.012Z"
   },
   {
    "duration": 91,
    "start_time": "2023-07-10T10:05:38.115Z"
   },
   {
    "duration": 286,
    "start_time": "2023-07-10T10:05:38.208Z"
   },
   {
    "duration": 9,
    "start_time": "2023-07-10T10:05:38.496Z"
   },
   {
    "duration": 184,
    "start_time": "2023-07-10T10:05:38.507Z"
   },
   {
    "duration": 7,
    "start_time": "2023-07-10T10:05:38.694Z"
   },
   {
    "duration": 293,
    "start_time": "2023-07-10T10:05:38.704Z"
   },
   {
    "duration": 4,
    "start_time": "2023-07-10T10:07:27.436Z"
   },
   {
    "duration": 68,
    "start_time": "2023-07-10T10:07:27.443Z"
   },
   {
    "duration": 44,
    "start_time": "2023-07-10T10:07:27.513Z"
   },
   {
    "duration": 19,
    "start_time": "2023-07-10T10:07:27.560Z"
   },
   {
    "duration": 16,
    "start_time": "2023-07-10T10:07:27.581Z"
   },
   {
    "duration": 63,
    "start_time": "2023-07-10T10:07:27.599Z"
   },
   {
    "duration": 26,
    "start_time": "2023-07-10T10:07:27.664Z"
   },
   {
    "duration": 10,
    "start_time": "2023-07-10T10:07:27.743Z"
   },
   {
    "duration": 6,
    "start_time": "2023-07-10T10:07:27.756Z"
   },
   {
    "duration": 25,
    "start_time": "2023-07-10T10:07:27.764Z"
   },
   {
    "duration": 19,
    "start_time": "2023-07-10T10:07:27.791Z"
   },
   {
    "duration": 183,
    "start_time": "2023-07-10T10:07:27.812Z"
   },
   {
    "duration": 7,
    "start_time": "2023-07-10T10:07:27.996Z"
   },
   {
    "duration": 148,
    "start_time": "2023-07-10T10:07:28.004Z"
   },
   {
    "duration": 8,
    "start_time": "2023-07-10T10:07:28.154Z"
   },
   {
    "duration": 297,
    "start_time": "2023-07-10T10:07:28.166Z"
   },
   {
    "duration": 12,
    "start_time": "2023-07-10T10:07:28.465Z"
   },
   {
    "duration": 4,
    "start_time": "2023-07-10T10:10:52.134Z"
   },
   {
    "duration": 57,
    "start_time": "2023-07-10T10:10:52.141Z"
   },
   {
    "duration": 42,
    "start_time": "2023-07-10T10:10:52.200Z"
   },
   {
    "duration": 19,
    "start_time": "2023-07-10T10:10:52.244Z"
   },
   {
    "duration": 15,
    "start_time": "2023-07-10T10:10:52.265Z"
   },
   {
    "duration": 18,
    "start_time": "2023-07-10T10:10:52.282Z"
   },
   {
    "duration": 12,
    "start_time": "2023-07-10T10:10:52.302Z"
   },
   {
    "duration": 9,
    "start_time": "2023-07-10T10:10:52.438Z"
   },
   {
    "duration": 19,
    "start_time": "2023-07-10T10:10:52.449Z"
   },
   {
    "duration": 14,
    "start_time": "2023-07-10T10:10:52.469Z"
   },
   {
    "duration": 18,
    "start_time": "2023-07-10T10:10:52.485Z"
   },
   {
    "duration": 158,
    "start_time": "2023-07-10T10:10:52.506Z"
   },
   {
    "duration": 5,
    "start_time": "2023-07-10T10:10:52.666Z"
   },
   {
    "duration": 119,
    "start_time": "2023-07-10T10:10:52.673Z"
   },
   {
    "duration": 5,
    "start_time": "2023-07-10T10:10:52.794Z"
   },
   {
    "duration": 311,
    "start_time": "2023-07-10T10:10:52.801Z"
   },
   {
    "duration": 12,
    "start_time": "2023-07-10T10:10:53.113Z"
   },
   {
    "duration": 3,
    "start_time": "2023-07-10T10:11:06.806Z"
   },
   {
    "duration": 199,
    "start_time": "2023-07-10T10:11:06.811Z"
   },
   {
    "duration": 45,
    "start_time": "2023-07-10T10:11:07.012Z"
   },
   {
    "duration": 19,
    "start_time": "2023-07-10T10:11:07.059Z"
   },
   {
    "duration": 15,
    "start_time": "2023-07-10T10:11:07.080Z"
   },
   {
    "duration": 17,
    "start_time": "2023-07-10T10:11:07.097Z"
   },
   {
    "duration": 13,
    "start_time": "2023-07-10T10:11:07.116Z"
   },
   {
    "duration": 24,
    "start_time": "2023-07-10T10:11:07.131Z"
   },
   {
    "duration": 28,
    "start_time": "2023-07-10T10:11:07.157Z"
   },
   {
    "duration": 16,
    "start_time": "2023-07-10T10:11:07.187Z"
   },
   {
    "duration": 19,
    "start_time": "2023-07-10T10:11:07.205Z"
   },
   {
    "duration": 193,
    "start_time": "2023-07-10T10:11:07.226Z"
   },
   {
    "duration": 5,
    "start_time": "2023-07-10T10:11:07.421Z"
   },
   {
    "duration": 108,
    "start_time": "2023-07-10T10:11:07.428Z"
   },
   {
    "duration": 14,
    "start_time": "2023-07-10T10:11:07.538Z"
   },
   {
    "duration": 199,
    "start_time": "2023-07-10T10:11:07.555Z"
   },
   {
    "duration": 9,
    "start_time": "2023-07-10T10:11:07.756Z"
   },
   {
    "duration": 9,
    "start_time": "2023-07-10T10:11:07.767Z"
   },
   {
    "duration": 4,
    "start_time": "2023-07-10T10:12:05.096Z"
   },
   {
    "duration": 171,
    "start_time": "2023-07-10T10:12:05.103Z"
   },
   {
    "duration": 52,
    "start_time": "2023-07-10T10:12:05.276Z"
   },
   {
    "duration": 92,
    "start_time": "2023-07-10T10:12:05.330Z"
   },
   {
    "duration": 185,
    "start_time": "2023-07-10T10:12:05.427Z"
   },
   {
    "duration": 160,
    "start_time": "2023-07-10T10:12:05.614Z"
   },
   {
    "duration": 158,
    "start_time": "2023-07-10T10:12:05.776Z"
   },
   {
    "duration": 124,
    "start_time": "2023-07-10T10:12:05.937Z"
   },
   {
    "duration": 129,
    "start_time": "2023-07-10T10:12:06.063Z"
   },
   {
    "duration": 129,
    "start_time": "2023-07-10T10:12:06.194Z"
   },
   {
    "duration": 269,
    "start_time": "2023-07-10T10:12:06.326Z"
   },
   {
    "duration": 375,
    "start_time": "2023-07-10T10:12:06.597Z"
   },
   {
    "duration": 42,
    "start_time": "2023-07-10T10:12:06.974Z"
   },
   {
    "duration": 253,
    "start_time": "2023-07-10T10:12:07.020Z"
   },
   {
    "duration": 21,
    "start_time": "2023-07-10T10:12:07.275Z"
   },
   {
    "duration": 267,
    "start_time": "2023-07-10T10:12:07.298Z"
   },
   {
    "duration": 9,
    "start_time": "2023-07-10T10:12:07.568Z"
   },
   {
    "duration": 70,
    "start_time": "2023-07-10T10:12:07.580Z"
   },
   {
    "duration": 166,
    "start_time": "2023-07-10T10:12:07.652Z"
   },
   {
    "duration": 4,
    "start_time": "2023-07-10T10:13:53.126Z"
   },
   {
    "duration": 64,
    "start_time": "2023-07-10T10:13:53.132Z"
   },
   {
    "duration": 43,
    "start_time": "2023-07-10T10:13:53.198Z"
   },
   {
    "duration": 20,
    "start_time": "2023-07-10T10:13:53.244Z"
   },
   {
    "duration": 15,
    "start_time": "2023-07-10T10:13:53.265Z"
   },
   {
    "duration": 13,
    "start_time": "2023-07-10T10:13:53.282Z"
   },
   {
    "duration": 7,
    "start_time": "2023-07-10T10:13:53.296Z"
   },
   {
    "duration": 10,
    "start_time": "2023-07-10T10:13:53.429Z"
   },
   {
    "duration": 15,
    "start_time": "2023-07-10T10:13:53.441Z"
   },
   {
    "duration": 17,
    "start_time": "2023-07-10T10:13:53.458Z"
   },
   {
    "duration": 17,
    "start_time": "2023-07-10T10:13:53.477Z"
   },
   {
    "duration": 160,
    "start_time": "2023-07-10T10:13:53.496Z"
   },
   {
    "duration": 5,
    "start_time": "2023-07-10T10:13:53.658Z"
   },
   {
    "duration": 116,
    "start_time": "2023-07-10T10:13:53.665Z"
   },
   {
    "duration": 6,
    "start_time": "2023-07-10T10:13:53.783Z"
   },
   {
    "duration": 199,
    "start_time": "2023-07-10T10:13:53.791Z"
   },
   {
    "duration": 8,
    "start_time": "2023-07-10T10:13:53.992Z"
   },
   {
    "duration": 15,
    "start_time": "2023-07-10T10:13:54.002Z"
   },
   {
    "duration": 245,
    "start_time": "2023-07-10T10:13:54.019Z"
   },
   {
    "duration": 178,
    "start_time": "2023-07-10T10:13:54.266Z"
   },
   {
    "duration": 3,
    "start_time": "2023-07-10T10:14:38.497Z"
   },
   {
    "duration": 48,
    "start_time": "2023-07-10T10:14:38.502Z"
   },
   {
    "duration": 41,
    "start_time": "2023-07-10T10:14:38.552Z"
   },
   {
    "duration": 19,
    "start_time": "2023-07-10T10:14:38.596Z"
   },
   {
    "duration": 19,
    "start_time": "2023-07-10T10:14:38.617Z"
   },
   {
    "duration": 23,
    "start_time": "2023-07-10T10:14:38.638Z"
   },
   {
    "duration": 25,
    "start_time": "2023-07-10T10:14:38.663Z"
   },
   {
    "duration": 11,
    "start_time": "2023-07-10T10:14:38.789Z"
   },
   {
    "duration": 13,
    "start_time": "2023-07-10T10:14:38.803Z"
   },
   {
    "duration": 11,
    "start_time": "2023-07-10T10:14:38.818Z"
   },
   {
    "duration": 20,
    "start_time": "2023-07-10T10:14:38.831Z"
   },
   {
    "duration": 186,
    "start_time": "2023-07-10T10:14:38.853Z"
   },
   {
    "duration": 12,
    "start_time": "2023-07-10T10:14:39.041Z"
   },
   {
    "duration": 105,
    "start_time": "2023-07-10T10:14:39.055Z"
   },
   {
    "duration": 5,
    "start_time": "2023-07-10T10:14:39.162Z"
   },
   {
    "duration": 203,
    "start_time": "2023-07-10T10:14:39.169Z"
   },
   {
    "duration": 8,
    "start_time": "2023-07-10T10:14:39.374Z"
   },
   {
    "duration": 9,
    "start_time": "2023-07-10T10:14:39.384Z"
   },
   {
    "duration": 139,
    "start_time": "2023-07-10T10:14:39.395Z"
   },
   {
    "duration": 181,
    "start_time": "2023-07-10T10:14:39.536Z"
   },
   {
    "duration": 3,
    "start_time": "2023-07-10T10:14:49.218Z"
   },
   {
    "duration": 49,
    "start_time": "2023-07-10T10:14:49.223Z"
   },
   {
    "duration": 45,
    "start_time": "2023-07-10T10:14:49.274Z"
   },
   {
    "duration": 20,
    "start_time": "2023-07-10T10:14:49.322Z"
   },
   {
    "duration": 18,
    "start_time": "2023-07-10T10:14:49.345Z"
   },
   {
    "duration": 9,
    "start_time": "2023-07-10T10:14:49.364Z"
   },
   {
    "duration": 19,
    "start_time": "2023-07-10T10:14:49.375Z"
   },
   {
    "duration": 9,
    "start_time": "2023-07-10T10:14:49.516Z"
   },
   {
    "duration": 8,
    "start_time": "2023-07-10T10:14:49.527Z"
   },
   {
    "duration": 11,
    "start_time": "2023-07-10T10:14:49.537Z"
   },
   {
    "duration": 19,
    "start_time": "2023-07-10T10:14:49.550Z"
   },
   {
    "duration": 172,
    "start_time": "2023-07-10T10:14:49.571Z"
   },
   {
    "duration": 13,
    "start_time": "2023-07-10T10:14:49.744Z"
   },
   {
    "duration": 117,
    "start_time": "2023-07-10T10:14:49.758Z"
   },
   {
    "duration": 5,
    "start_time": "2023-07-10T10:14:49.878Z"
   },
   {
    "duration": 207,
    "start_time": "2023-07-10T10:14:49.885Z"
   },
   {
    "duration": 10,
    "start_time": "2023-07-10T10:14:50.093Z"
   },
   {
    "duration": 23,
    "start_time": "2023-07-10T10:14:50.104Z"
   },
   {
    "duration": 142,
    "start_time": "2023-07-10T10:14:50.129Z"
   },
   {
    "duration": 361,
    "start_time": "2023-07-10T10:14:50.273Z"
   },
   {
    "duration": 3,
    "start_time": "2023-07-10T10:15:43.307Z"
   },
   {
    "duration": 49,
    "start_time": "2023-07-10T10:15:43.312Z"
   },
   {
    "duration": 63,
    "start_time": "2023-07-10T10:15:43.364Z"
   },
   {
    "duration": 20,
    "start_time": "2023-07-10T10:15:43.428Z"
   },
   {
    "duration": 15,
    "start_time": "2023-07-10T10:15:43.450Z"
   },
   {
    "duration": 15,
    "start_time": "2023-07-10T10:15:43.467Z"
   },
   {
    "duration": 7,
    "start_time": "2023-07-10T10:15:43.483Z"
   },
   {
    "duration": 9,
    "start_time": "2023-07-10T10:15:43.609Z"
   },
   {
    "duration": 6,
    "start_time": "2023-07-10T10:15:43.619Z"
   },
   {
    "duration": 10,
    "start_time": "2023-07-10T10:15:43.626Z"
   },
   {
    "duration": 18,
    "start_time": "2023-07-10T10:15:43.639Z"
   },
   {
    "duration": 158,
    "start_time": "2023-07-10T10:15:43.659Z"
   },
   {
    "duration": 7,
    "start_time": "2023-07-10T10:15:43.819Z"
   },
   {
    "duration": 104,
    "start_time": "2023-07-10T10:15:43.828Z"
   },
   {
    "duration": 18,
    "start_time": "2023-07-10T10:15:43.935Z"
   },
   {
    "duration": 189,
    "start_time": "2023-07-10T10:15:43.956Z"
   },
   {
    "duration": 11,
    "start_time": "2023-07-10T10:15:44.147Z"
   },
   {
    "duration": 17,
    "start_time": "2023-07-10T10:15:44.160Z"
   },
   {
    "duration": 200,
    "start_time": "2023-07-10T10:15:44.179Z"
   },
   {
    "duration": 3,
    "start_time": "2023-07-10T10:17:56.564Z"
   },
   {
    "duration": 55,
    "start_time": "2023-07-10T10:17:56.569Z"
   },
   {
    "duration": 42,
    "start_time": "2023-07-10T10:17:56.626Z"
   },
   {
    "duration": 19,
    "start_time": "2023-07-10T10:17:56.670Z"
   },
   {
    "duration": 15,
    "start_time": "2023-07-10T10:17:56.691Z"
   },
   {
    "duration": 8,
    "start_time": "2023-07-10T10:17:56.708Z"
   },
   {
    "duration": 26,
    "start_time": "2023-07-10T10:17:56.718Z"
   },
   {
    "duration": 8,
    "start_time": "2023-07-10T10:17:56.866Z"
   },
   {
    "duration": 26,
    "start_time": "2023-07-10T10:17:56.876Z"
   },
   {
    "duration": 24,
    "start_time": "2023-07-10T10:17:56.904Z"
   },
   {
    "duration": 34,
    "start_time": "2023-07-10T10:17:56.930Z"
   },
   {
    "duration": 157,
    "start_time": "2023-07-10T10:17:56.966Z"
   },
   {
    "duration": 6,
    "start_time": "2023-07-10T10:17:57.124Z"
   },
   {
    "duration": 121,
    "start_time": "2023-07-10T10:17:57.131Z"
   },
   {
    "duration": 5,
    "start_time": "2023-07-10T10:17:57.254Z"
   },
   {
    "duration": 216,
    "start_time": "2023-07-10T10:17:57.261Z"
   },
   {
    "duration": 8,
    "start_time": "2023-07-10T10:17:57.480Z"
   },
   {
    "duration": 214,
    "start_time": "2023-07-10T10:17:57.490Z"
   },
   {
    "duration": 8,
    "start_time": "2023-07-10T10:17:57.705Z"
   },
   {
    "duration": 3,
    "start_time": "2023-07-10T10:21:37.167Z"
   },
   {
    "duration": 119,
    "start_time": "2023-07-10T10:21:37.171Z"
   },
   {
    "duration": 42,
    "start_time": "2023-07-10T10:21:37.468Z"
   },
   {
    "duration": 21,
    "start_time": "2023-07-10T10:21:37.513Z"
   },
   {
    "duration": 23,
    "start_time": "2023-07-10T10:21:37.536Z"
   },
   {
    "duration": 12,
    "start_time": "2023-07-10T10:21:37.562Z"
   },
   {
    "duration": 7,
    "start_time": "2023-07-10T10:21:37.786Z"
   },
   {
    "duration": 8,
    "start_time": "2023-07-10T10:21:37.795Z"
   },
   {
    "duration": 6,
    "start_time": "2023-07-10T10:21:37.804Z"
   },
   {
    "duration": 8,
    "start_time": "2023-07-10T10:21:37.812Z"
   },
   {
    "duration": 11,
    "start_time": "2023-07-10T10:21:37.822Z"
   },
   {
    "duration": 158,
    "start_time": "2023-07-10T10:21:37.834Z"
   },
   {
    "duration": 6,
    "start_time": "2023-07-10T10:21:37.995Z"
   },
   {
    "duration": 111,
    "start_time": "2023-07-10T10:21:38.084Z"
   },
   {
    "duration": 6,
    "start_time": "2023-07-10T10:21:38.197Z"
   },
   {
    "duration": 383,
    "start_time": "2023-07-10T10:21:38.205Z"
   },
   {
    "duration": 9,
    "start_time": "2023-07-10T10:21:38.590Z"
   },
   {
    "duration": 224,
    "start_time": "2023-07-10T10:21:38.601Z"
   },
   {
    "duration": 8,
    "start_time": "2023-07-10T10:21:38.827Z"
   },
   {
    "duration": 223,
    "start_time": "2023-07-10T10:21:38.837Z"
   },
   {
    "duration": 4,
    "start_time": "2023-07-10T10:22:27.251Z"
   },
   {
    "duration": 51,
    "start_time": "2023-07-10T10:22:27.257Z"
   },
   {
    "duration": 55,
    "start_time": "2023-07-10T10:22:27.311Z"
   },
   {
    "duration": 22,
    "start_time": "2023-07-10T10:22:27.368Z"
   },
   {
    "duration": 23,
    "start_time": "2023-07-10T10:22:27.393Z"
   },
   {
    "duration": 11,
    "start_time": "2023-07-10T10:22:27.552Z"
   },
   {
    "duration": 14,
    "start_time": "2023-07-10T10:22:27.566Z"
   },
   {
    "duration": 22,
    "start_time": "2023-07-10T10:22:27.582Z"
   },
   {
    "duration": 8,
    "start_time": "2023-07-10T10:22:27.608Z"
   },
   {
    "duration": 12,
    "start_time": "2023-07-10T10:22:27.618Z"
   },
   {
    "duration": 40,
    "start_time": "2023-07-10T10:22:27.631Z"
   },
   {
    "duration": 172,
    "start_time": "2023-07-10T10:22:27.673Z"
   },
   {
    "duration": 11,
    "start_time": "2023-07-10T10:22:27.856Z"
   },
   {
    "duration": 103,
    "start_time": "2023-07-10T10:22:27.870Z"
   },
   {
    "duration": 6,
    "start_time": "2023-07-10T10:22:27.975Z"
   },
   {
    "duration": 211,
    "start_time": "2023-07-10T10:22:27.983Z"
   },
   {
    "duration": 10,
    "start_time": "2023-07-10T10:22:28.196Z"
   },
   {
    "duration": 305,
    "start_time": "2023-07-10T10:22:28.208Z"
   },
   {
    "duration": 10,
    "start_time": "2023-07-10T10:22:28.515Z"
   },
   {
    "duration": 261,
    "start_time": "2023-07-10T10:22:28.528Z"
   },
   {
    "duration": 4,
    "start_time": "2023-07-10T10:22:47.102Z"
   },
   {
    "duration": 49,
    "start_time": "2023-07-10T10:22:47.108Z"
   },
   {
    "duration": 54,
    "start_time": "2023-07-10T10:22:47.159Z"
   },
   {
    "duration": 22,
    "start_time": "2023-07-10T10:22:47.215Z"
   },
   {
    "duration": 18,
    "start_time": "2023-07-10T10:22:47.241Z"
   },
   {
    "duration": 8,
    "start_time": "2023-07-10T10:22:47.261Z"
   },
   {
    "duration": 8,
    "start_time": "2023-07-10T10:22:47.271Z"
   },
   {
    "duration": 12,
    "start_time": "2023-07-10T10:22:47.280Z"
   },
   {
    "duration": 6,
    "start_time": "2023-07-10T10:22:47.405Z"
   },
   {
    "duration": 10,
    "start_time": "2023-07-10T10:22:47.413Z"
   },
   {
    "duration": 11,
    "start_time": "2023-07-10T10:22:47.424Z"
   },
   {
    "duration": 158,
    "start_time": "2023-07-10T10:22:47.438Z"
   },
   {
    "duration": 5,
    "start_time": "2023-07-10T10:22:47.599Z"
   },
   {
    "duration": 118,
    "start_time": "2023-07-10T10:22:47.605Z"
   },
   {
    "duration": 5,
    "start_time": "2023-07-10T10:22:47.726Z"
   },
   {
    "duration": 204,
    "start_time": "2023-07-10T10:22:47.732Z"
   },
   {
    "duration": 15,
    "start_time": "2023-07-10T10:22:47.938Z"
   },
   {
    "duration": 324,
    "start_time": "2023-07-10T10:22:47.955Z"
   },
   {
    "duration": 8,
    "start_time": "2023-07-10T10:22:48.281Z"
   },
   {
    "duration": 239,
    "start_time": "2023-07-10T10:22:48.291Z"
   },
   {
    "duration": 4,
    "start_time": "2023-07-10T10:25:24.595Z"
   },
   {
    "duration": 219,
    "start_time": "2023-07-10T10:25:24.602Z"
   },
   {
    "duration": 154,
    "start_time": "2023-07-10T10:25:24.823Z"
   },
   {
    "duration": 60,
    "start_time": "2023-07-10T10:25:24.981Z"
   },
   {
    "duration": 57,
    "start_time": "2023-07-10T10:25:25.043Z"
   },
   {
    "duration": 26,
    "start_time": "2023-07-10T10:25:25.102Z"
   },
   {
    "duration": 54,
    "start_time": "2023-07-10T10:25:25.130Z"
   },
   {
    "duration": 50,
    "start_time": "2023-07-10T10:25:25.186Z"
   },
   {
    "duration": 60,
    "start_time": "2023-07-10T10:25:25.238Z"
   },
   {
    "duration": 31,
    "start_time": "2023-07-10T10:25:25.303Z"
   },
   {
    "duration": 59,
    "start_time": "2023-07-10T10:25:25.337Z"
   },
   {
    "duration": 211,
    "start_time": "2023-07-10T10:25:25.398Z"
   },
   {
    "duration": 6,
    "start_time": "2023-07-10T10:25:25.611Z"
   },
   {
    "duration": 153,
    "start_time": "2023-07-10T10:25:25.619Z"
   },
   {
    "duration": 7,
    "start_time": "2023-07-10T10:25:25.775Z"
   },
   {
    "duration": 252,
    "start_time": "2023-07-10T10:25:25.784Z"
   },
   {
    "duration": 529,
    "start_time": "2023-07-10T10:25:26.038Z"
   },
   {
    "duration": 11,
    "start_time": "2023-07-10T10:25:26.569Z"
   },
   {
    "duration": 264,
    "start_time": "2023-07-10T10:25:26.582Z"
   },
   {
    "duration": 14,
    "start_time": "2023-07-10T10:25:26.851Z"
   },
   {
    "duration": 230,
    "start_time": "2023-07-10T10:25:26.867Z"
   },
   {
    "duration": 4,
    "start_time": "2023-07-10T10:26:15.295Z"
   },
   {
    "duration": 99,
    "start_time": "2023-07-10T10:26:15.301Z"
   },
   {
    "duration": 42,
    "start_time": "2023-07-10T10:26:15.403Z"
   },
   {
    "duration": 31,
    "start_time": "2023-07-10T10:26:15.446Z"
   },
   {
    "duration": 27,
    "start_time": "2023-07-10T10:26:15.479Z"
   },
   {
    "duration": 13,
    "start_time": "2023-07-10T10:26:15.508Z"
   },
   {
    "duration": 19,
    "start_time": "2023-07-10T10:26:15.523Z"
   },
   {
    "duration": 42,
    "start_time": "2023-07-10T10:26:15.544Z"
   },
   {
    "duration": 36,
    "start_time": "2023-07-10T10:26:15.588Z"
   },
   {
    "duration": 53,
    "start_time": "2023-07-10T10:26:15.627Z"
   },
   {
    "duration": 35,
    "start_time": "2023-07-10T10:26:15.682Z"
   },
   {
    "duration": 177,
    "start_time": "2023-07-10T10:26:15.719Z"
   },
   {
    "duration": 6,
    "start_time": "2023-07-10T10:26:15.898Z"
   },
   {
    "duration": 152,
    "start_time": "2023-07-10T10:26:15.905Z"
   },
   {
    "duration": 9,
    "start_time": "2023-07-10T10:26:16.060Z"
   },
   {
    "duration": 343,
    "start_time": "2023-07-10T10:26:16.072Z"
   },
   {
    "duration": 502,
    "start_time": "2023-07-10T10:26:16.416Z"
   },
   {
    "duration": 8,
    "start_time": "2023-07-10T10:26:16.921Z"
   },
   {
    "duration": 247,
    "start_time": "2023-07-10T10:26:16.932Z"
   },
   {
    "duration": 8,
    "start_time": "2023-07-10T10:26:17.181Z"
   },
   {
    "duration": 227,
    "start_time": "2023-07-10T10:26:17.191Z"
   },
   {
    "duration": 1552,
    "start_time": "2023-07-11T06:03:03.920Z"
   },
   {
    "duration": 132,
    "start_time": "2023-07-11T06:03:05.474Z"
   },
   {
    "duration": 99,
    "start_time": "2023-07-11T06:03:05.610Z"
   },
   {
    "duration": 60,
    "start_time": "2023-07-11T06:03:05.712Z"
   },
   {
    "duration": 20,
    "start_time": "2023-07-11T06:03:05.775Z"
   },
   {
    "duration": 31,
    "start_time": "2023-07-11T06:03:05.797Z"
   },
   {
    "duration": 10,
    "start_time": "2023-07-11T06:03:05.829Z"
   },
   {
    "duration": 10,
    "start_time": "2023-07-11T06:03:05.840Z"
   },
   {
    "duration": 8,
    "start_time": "2023-07-11T06:03:05.851Z"
   },
   {
    "duration": 59,
    "start_time": "2023-07-11T06:03:05.860Z"
   },
   {
    "duration": 10,
    "start_time": "2023-07-11T06:03:05.921Z"
   },
   {
    "duration": 169,
    "start_time": "2023-07-11T06:03:05.932Z"
   },
   {
    "duration": 6,
    "start_time": "2023-07-11T06:03:06.106Z"
   },
   {
    "duration": 110,
    "start_time": "2023-07-11T06:03:06.116Z"
   },
   {
    "duration": 5,
    "start_time": "2023-07-11T06:03:06.227Z"
   },
   {
    "duration": 270,
    "start_time": "2023-07-11T06:03:06.233Z"
   },
   {
    "duration": 547,
    "start_time": "2023-07-11T06:03:06.505Z"
   },
   {
    "duration": 8,
    "start_time": "2023-07-11T06:03:07.054Z"
   },
   {
    "duration": 256,
    "start_time": "2023-07-11T06:03:07.064Z"
   },
   {
    "duration": 8,
    "start_time": "2023-07-11T06:03:07.321Z"
   },
   {
    "duration": 200,
    "start_time": "2023-07-11T06:03:07.330Z"
   },
   {
    "duration": 87,
    "start_time": "2023-07-11T06:03:07.532Z"
   },
   {
    "duration": 2,
    "start_time": "2023-07-11T06:07:21.556Z"
   },
   {
    "duration": 153,
    "start_time": "2023-07-11T06:07:21.560Z"
   },
   {
    "duration": 48,
    "start_time": "2023-07-11T06:07:21.901Z"
   },
   {
    "duration": 18,
    "start_time": "2023-07-11T06:07:21.951Z"
   },
   {
    "duration": 87,
    "start_time": "2023-07-11T06:07:21.970Z"
   },
   {
    "duration": 80,
    "start_time": "2023-07-11T06:07:22.059Z"
   },
   {
    "duration": 13,
    "start_time": "2023-07-11T06:07:22.201Z"
   },
   {
    "duration": 39,
    "start_time": "2023-07-11T06:07:22.223Z"
   },
   {
    "duration": 41,
    "start_time": "2023-07-11T06:07:22.263Z"
   },
   {
    "duration": 51,
    "start_time": "2023-07-11T06:07:22.306Z"
   },
   {
    "duration": 63,
    "start_time": "2023-07-11T06:07:22.360Z"
   },
   {
    "duration": 308,
    "start_time": "2023-07-11T06:07:22.425Z"
   },
   {
    "duration": 16,
    "start_time": "2023-07-11T06:07:22.734Z"
   },
   {
    "duration": 257,
    "start_time": "2023-07-11T06:07:22.751Z"
   },
   {
    "duration": 5,
    "start_time": "2023-07-11T06:07:23.011Z"
   },
   {
    "duration": 250,
    "start_time": "2023-07-11T06:07:23.019Z"
   },
   {
    "duration": 487,
    "start_time": "2023-07-11T06:07:23.270Z"
   },
   {
    "duration": 18,
    "start_time": "2023-07-11T06:07:23.759Z"
   },
   {
    "duration": 254,
    "start_time": "2023-07-11T06:07:23.778Z"
   },
   {
    "duration": 7,
    "start_time": "2023-07-11T06:07:24.034Z"
   },
   {
    "duration": 197,
    "start_time": "2023-07-11T06:07:24.043Z"
   },
   {
    "duration": 23,
    "start_time": "2023-07-11T06:07:24.241Z"
   },
   {
    "duration": 56,
    "start_time": "2023-07-11T06:07:24.266Z"
   },
   {
    "duration": 32,
    "start_time": "2023-07-11T06:07:24.324Z"
   },
   {
    "duration": 4,
    "start_time": "2023-07-11T06:10:28.918Z"
   },
   {
    "duration": 76,
    "start_time": "2023-07-11T06:10:28.924Z"
   },
   {
    "duration": 40,
    "start_time": "2023-07-11T06:10:29.220Z"
   },
   {
    "duration": 32,
    "start_time": "2023-07-11T06:10:29.262Z"
   },
   {
    "duration": 37,
    "start_time": "2023-07-11T06:10:29.295Z"
   },
   {
    "duration": 13,
    "start_time": "2023-07-11T06:10:29.334Z"
   },
   {
    "duration": 6,
    "start_time": "2023-07-11T06:10:29.530Z"
   },
   {
    "duration": 9,
    "start_time": "2023-07-11T06:10:29.537Z"
   },
   {
    "duration": 25,
    "start_time": "2023-07-11T06:10:29.547Z"
   },
   {
    "duration": 58,
    "start_time": "2023-07-11T06:10:29.574Z"
   },
   {
    "duration": 30,
    "start_time": "2023-07-11T06:10:29.634Z"
   },
   {
    "duration": 189,
    "start_time": "2023-07-11T06:10:29.666Z"
   },
   {
    "duration": 5,
    "start_time": "2023-07-11T06:10:29.857Z"
   },
   {
    "duration": 162,
    "start_time": "2023-07-11T06:10:29.863Z"
   },
   {
    "duration": 5,
    "start_time": "2023-07-11T06:10:30.026Z"
   },
   {
    "duration": 275,
    "start_time": "2023-07-11T06:10:30.033Z"
   },
   {
    "duration": 425,
    "start_time": "2023-07-11T06:10:30.318Z"
   },
   {
    "duration": 8,
    "start_time": "2023-07-11T06:10:30.744Z"
   },
   {
    "duration": 388,
    "start_time": "2023-07-11T06:10:30.753Z"
   },
   {
    "duration": 7,
    "start_time": "2023-07-11T06:10:31.143Z"
   },
   {
    "duration": 295,
    "start_time": "2023-07-11T06:10:31.151Z"
   },
   {
    "duration": 22,
    "start_time": "2023-07-11T06:10:31.447Z"
   },
   {
    "duration": 88,
    "start_time": "2023-07-11T06:10:31.479Z"
   },
   {
    "duration": 253,
    "start_time": "2023-07-11T06:10:31.569Z"
   },
   {
    "duration": 228,
    "start_time": "2023-07-11T06:10:31.824Z"
   },
   {
    "duration": 190,
    "start_time": "2023-07-11T06:10:32.054Z"
   },
   {
    "duration": 3,
    "start_time": "2023-07-11T06:10:53.131Z"
   },
   {
    "duration": 91,
    "start_time": "2023-07-11T06:10:53.136Z"
   },
   {
    "duration": 53,
    "start_time": "2023-07-11T06:10:53.229Z"
   },
   {
    "duration": 38,
    "start_time": "2023-07-11T06:10:53.285Z"
   },
   {
    "duration": 14,
    "start_time": "2023-07-11T06:10:53.324Z"
   },
   {
    "duration": 7,
    "start_time": "2023-07-11T06:10:53.340Z"
   },
   {
    "duration": 6,
    "start_time": "2023-07-11T06:10:53.452Z"
   },
   {
    "duration": 10,
    "start_time": "2023-07-11T06:10:53.460Z"
   },
   {
    "duration": 53,
    "start_time": "2023-07-11T06:10:53.471Z"
   },
   {
    "duration": 34,
    "start_time": "2023-07-11T06:10:53.525Z"
   },
   {
    "duration": 71,
    "start_time": "2023-07-11T06:10:53.562Z"
   },
   {
    "duration": 165,
    "start_time": "2023-07-11T06:10:53.634Z"
   },
   {
    "duration": 6,
    "start_time": "2023-07-11T06:10:53.801Z"
   },
   {
    "duration": 133,
    "start_time": "2023-07-11T06:10:53.809Z"
   },
   {
    "duration": 6,
    "start_time": "2023-07-11T06:10:53.945Z"
   },
   {
    "duration": 218,
    "start_time": "2023-07-11T06:10:53.952Z"
   },
   {
    "duration": 463,
    "start_time": "2023-07-11T06:10:54.172Z"
   },
   {
    "duration": 9,
    "start_time": "2023-07-11T06:10:54.637Z"
   },
   {
    "duration": 224,
    "start_time": "2023-07-11T06:10:54.647Z"
   },
   {
    "duration": 14,
    "start_time": "2023-07-11T06:10:54.873Z"
   },
   {
    "duration": 305,
    "start_time": "2023-07-11T06:10:54.889Z"
   },
   {
    "duration": 37,
    "start_time": "2023-07-11T06:10:55.203Z"
   },
   {
    "duration": 13,
    "start_time": "2023-07-11T06:10:55.242Z"
   },
   {
    "duration": 13,
    "start_time": "2023-07-11T06:10:55.257Z"
   },
   {
    "duration": 223,
    "start_time": "2023-07-11T06:10:55.275Z"
   },
   {
    "duration": 246,
    "start_time": "2023-07-11T06:10:55.505Z"
   },
   {
    "duration": 4,
    "start_time": "2023-07-11T06:11:41.985Z"
   },
   {
    "duration": 81,
    "start_time": "2023-07-11T06:11:41.991Z"
   },
   {
    "duration": 62,
    "start_time": "2023-07-11T06:11:42.074Z"
   },
   {
    "duration": 18,
    "start_time": "2023-07-11T06:11:42.138Z"
   },
   {
    "duration": 12,
    "start_time": "2023-07-11T06:11:42.158Z"
   },
   {
    "duration": 8,
    "start_time": "2023-07-11T06:11:42.313Z"
   },
   {
    "duration": 11,
    "start_time": "2023-07-11T06:11:42.323Z"
   },
   {
    "duration": 8,
    "start_time": "2023-07-11T06:11:42.336Z"
   },
   {
    "duration": 4,
    "start_time": "2023-07-11T06:11:42.346Z"
   },
   {
    "duration": 6,
    "start_time": "2023-07-11T06:11:42.352Z"
   },
   {
    "duration": 8,
    "start_time": "2023-07-11T06:11:42.360Z"
   },
   {
    "duration": 154,
    "start_time": "2023-07-11T06:11:42.370Z"
   },
   {
    "duration": 5,
    "start_time": "2023-07-11T06:11:42.525Z"
   },
   {
    "duration": 101,
    "start_time": "2023-07-11T06:11:42.531Z"
   },
   {
    "duration": 4,
    "start_time": "2023-07-11T06:11:42.634Z"
   },
   {
    "duration": 179,
    "start_time": "2023-07-11T06:11:42.963Z"
   },
   {
    "duration": 438,
    "start_time": "2023-07-11T06:11:43.144Z"
   },
   {
    "duration": 13,
    "start_time": "2023-07-11T06:11:43.584Z"
   },
   {
    "duration": 214,
    "start_time": "2023-07-11T06:11:43.599Z"
   },
   {
    "duration": 9,
    "start_time": "2023-07-11T06:11:43.815Z"
   },
   {
    "duration": 282,
    "start_time": "2023-07-11T06:11:43.826Z"
   },
   {
    "duration": 25,
    "start_time": "2023-07-11T06:11:44.110Z"
   },
   {
    "duration": 28,
    "start_time": "2023-07-11T06:11:44.136Z"
   },
   {
    "duration": 51,
    "start_time": "2023-07-11T06:11:44.165Z"
   },
   {
    "duration": 160,
    "start_time": "2023-07-11T06:11:44.217Z"
   },
   {
    "duration": 175,
    "start_time": "2023-07-11T06:11:44.379Z"
   },
   {
    "duration": 3,
    "start_time": "2023-07-11T06:13:41.088Z"
   },
   {
    "duration": 58,
    "start_time": "2023-07-11T06:13:41.093Z"
   },
   {
    "duration": 44,
    "start_time": "2023-07-11T06:13:41.153Z"
   },
   {
    "duration": 19,
    "start_time": "2023-07-11T06:13:41.199Z"
   },
   {
    "duration": 13,
    "start_time": "2023-07-11T06:13:41.220Z"
   },
   {
    "duration": 15,
    "start_time": "2023-07-11T06:13:41.235Z"
   },
   {
    "duration": 6,
    "start_time": "2023-07-11T06:13:41.252Z"
   },
   {
    "duration": 31,
    "start_time": "2023-07-11T06:13:41.260Z"
   },
   {
    "duration": 9,
    "start_time": "2023-07-11T06:13:41.293Z"
   },
   {
    "duration": 10,
    "start_time": "2023-07-11T06:13:41.303Z"
   },
   {
    "duration": 7,
    "start_time": "2023-07-11T06:13:41.395Z"
   },
   {
    "duration": 150,
    "start_time": "2023-07-11T06:13:41.404Z"
   },
   {
    "duration": 5,
    "start_time": "2023-07-11T06:13:41.556Z"
   },
   {
    "duration": 113,
    "start_time": "2023-07-11T06:13:41.575Z"
   },
   {
    "duration": 6,
    "start_time": "2023-07-11T06:13:41.690Z"
   },
   {
    "duration": 174,
    "start_time": "2023-07-11T06:13:41.697Z"
   },
   {
    "duration": 374,
    "start_time": "2023-07-11T06:13:41.872Z"
   },
   {
    "duration": 7,
    "start_time": "2023-07-11T06:13:42.247Z"
   },
   {
    "duration": 180,
    "start_time": "2023-07-11T06:13:42.256Z"
   },
   {
    "duration": 7,
    "start_time": "2023-07-11T06:13:42.438Z"
   },
   {
    "duration": 157,
    "start_time": "2023-07-11T06:13:42.446Z"
   },
   {
    "duration": 21,
    "start_time": "2023-07-11T06:13:42.604Z"
   },
   {
    "duration": 13,
    "start_time": "2023-07-11T06:13:42.627Z"
   },
   {
    "duration": 38,
    "start_time": "2023-07-11T06:13:42.641Z"
   },
   {
    "duration": 379,
    "start_time": "2023-07-11T06:13:42.681Z"
   },
   {
    "duration": 320,
    "start_time": "2023-07-11T06:13:43.062Z"
   },
   {
    "duration": 3,
    "start_time": "2023-07-11T06:14:18.104Z"
   },
   {
    "duration": 59,
    "start_time": "2023-07-11T06:14:18.108Z"
   },
   {
    "duration": 50,
    "start_time": "2023-07-11T06:14:18.168Z"
   },
   {
    "duration": 18,
    "start_time": "2023-07-11T06:14:18.220Z"
   },
   {
    "duration": 12,
    "start_time": "2023-07-11T06:14:18.239Z"
   },
   {
    "duration": 12,
    "start_time": "2023-07-11T06:14:18.253Z"
   },
   {
    "duration": 32,
    "start_time": "2023-07-11T06:14:18.267Z"
   },
   {
    "duration": 20,
    "start_time": "2023-07-11T06:14:18.301Z"
   },
   {
    "duration": 7,
    "start_time": "2023-07-11T06:14:18.323Z"
   },
   {
    "duration": 18,
    "start_time": "2023-07-11T06:14:18.332Z"
   },
   {
    "duration": 7,
    "start_time": "2023-07-11T06:14:18.402Z"
   },
   {
    "duration": 145,
    "start_time": "2023-07-11T06:14:18.410Z"
   },
   {
    "duration": 4,
    "start_time": "2023-07-11T06:14:18.557Z"
   },
   {
    "duration": 103,
    "start_time": "2023-07-11T06:14:18.562Z"
   },
   {
    "duration": 8,
    "start_time": "2023-07-11T06:14:18.668Z"
   },
   {
    "duration": 194,
    "start_time": "2023-07-11T06:14:18.678Z"
   },
   {
    "duration": 420,
    "start_time": "2023-07-11T06:14:18.873Z"
   },
   {
    "duration": 13,
    "start_time": "2023-07-11T06:14:19.295Z"
   },
   {
    "duration": 193,
    "start_time": "2023-07-11T06:14:19.310Z"
   },
   {
    "duration": 7,
    "start_time": "2023-07-11T06:14:19.505Z"
   },
   {
    "duration": 173,
    "start_time": "2023-07-11T06:14:19.514Z"
   },
   {
    "duration": 29,
    "start_time": "2023-07-11T06:14:19.689Z"
   },
   {
    "duration": 12,
    "start_time": "2023-07-11T06:14:19.720Z"
   },
   {
    "duration": 27,
    "start_time": "2023-07-11T06:14:19.734Z"
   },
   {
    "duration": 335,
    "start_time": "2023-07-11T06:14:19.763Z"
   },
   {
    "duration": 425,
    "start_time": "2023-07-11T06:14:20.101Z"
   },
   {
    "duration": 4,
    "start_time": "2023-07-11T06:19:28.427Z"
   },
   {
    "duration": 54,
    "start_time": "2023-07-11T06:19:28.433Z"
   },
   {
    "duration": 43,
    "start_time": "2023-07-11T06:19:28.489Z"
   },
   {
    "duration": 18,
    "start_time": "2023-07-11T06:19:28.535Z"
   },
   {
    "duration": 13,
    "start_time": "2023-07-11T06:19:28.555Z"
   },
   {
    "duration": 35,
    "start_time": "2023-07-11T06:19:28.569Z"
   },
   {
    "duration": 18,
    "start_time": "2023-07-11T06:19:28.605Z"
   },
   {
    "duration": 15,
    "start_time": "2023-07-11T06:19:28.625Z"
   },
   {
    "duration": 11,
    "start_time": "2023-07-11T06:19:28.642Z"
   },
   {
    "duration": 11,
    "start_time": "2023-07-11T06:19:28.655Z"
   },
   {
    "duration": 7,
    "start_time": "2023-07-11T06:19:28.723Z"
   },
   {
    "duration": 176,
    "start_time": "2023-07-11T06:19:28.732Z"
   },
   {
    "duration": 5,
    "start_time": "2023-07-11T06:19:28.910Z"
   },
   {
    "duration": 114,
    "start_time": "2023-07-11T06:19:28.917Z"
   },
   {
    "duration": 4,
    "start_time": "2023-07-11T06:19:29.033Z"
   },
   {
    "duration": 183,
    "start_time": "2023-07-11T06:19:29.039Z"
   },
   {
    "duration": 405,
    "start_time": "2023-07-11T06:19:29.223Z"
   },
   {
    "duration": 9,
    "start_time": "2023-07-11T06:19:29.630Z"
   },
   {
    "duration": 199,
    "start_time": "2023-07-11T06:19:29.640Z"
   },
   {
    "duration": 6,
    "start_time": "2023-07-11T06:19:29.841Z"
   },
   {
    "duration": 179,
    "start_time": "2023-07-11T06:19:29.849Z"
   },
   {
    "duration": 24,
    "start_time": "2023-07-11T06:19:30.030Z"
   },
   {
    "duration": 66,
    "start_time": "2023-07-11T06:19:30.056Z"
   },
   {
    "duration": 53,
    "start_time": "2023-07-11T06:19:30.125Z"
   },
   {
    "duration": 410,
    "start_time": "2023-07-11T06:19:30.180Z"
   },
   {
    "duration": 420,
    "start_time": "2023-07-11T06:19:30.592Z"
   },
   {
    "duration": 922,
    "start_time": "2023-07-11T06:19:31.014Z"
   },
   {
    "duration": 14,
    "start_time": "2023-07-11T06:19:31.937Z"
   },
   {
    "duration": 4,
    "start_time": "2023-07-11T06:21:06.825Z"
   },
   {
    "duration": 43,
    "start_time": "2023-07-11T06:21:06.831Z"
   },
   {
    "duration": 57,
    "start_time": "2023-07-11T06:21:06.875Z"
   },
   {
    "duration": 19,
    "start_time": "2023-07-11T06:21:06.934Z"
   },
   {
    "duration": 16,
    "start_time": "2023-07-11T06:21:06.955Z"
   },
   {
    "duration": 10,
    "start_time": "2023-07-11T06:21:07.455Z"
   },
   {
    "duration": 51,
    "start_time": "2023-07-11T06:21:07.467Z"
   },
   {
    "duration": 11,
    "start_time": "2023-07-11T06:21:07.520Z"
   },
   {
    "duration": 24,
    "start_time": "2023-07-11T06:21:07.533Z"
   },
   {
    "duration": 18,
    "start_time": "2023-07-11T06:21:07.559Z"
   },
   {
    "duration": 8,
    "start_time": "2023-07-11T06:21:08.119Z"
   },
   {
    "duration": 225,
    "start_time": "2023-07-11T06:21:08.130Z"
   },
   {
    "duration": 5,
    "start_time": "2023-07-11T06:21:08.357Z"
   },
   {
    "duration": 100,
    "start_time": "2023-07-11T06:21:08.375Z"
   },
   {
    "duration": 7,
    "start_time": "2023-07-11T06:21:08.478Z"
   },
   {
    "duration": 177,
    "start_time": "2023-07-11T06:21:08.729Z"
   },
   {
    "duration": 422,
    "start_time": "2023-07-11T06:21:08.908Z"
   },
   {
    "duration": 7,
    "start_time": "2023-07-11T06:21:09.331Z"
   },
   {
    "duration": 214,
    "start_time": "2023-07-11T06:21:09.340Z"
   },
   {
    "duration": 9,
    "start_time": "2023-07-11T06:21:09.556Z"
   },
   {
    "duration": 166,
    "start_time": "2023-07-11T06:21:09.580Z"
   },
   {
    "duration": 49,
    "start_time": "2023-07-11T06:21:09.748Z"
   },
   {
    "duration": 45,
    "start_time": "2023-07-11T06:21:09.800Z"
   },
   {
    "duration": 18,
    "start_time": "2023-07-11T06:21:09.849Z"
   },
   {
    "duration": 382,
    "start_time": "2023-07-11T06:21:09.869Z"
   },
   {
    "duration": 480,
    "start_time": "2023-07-11T06:21:10.253Z"
   },
   {
    "duration": 970,
    "start_time": "2023-07-11T06:21:10.735Z"
   },
   {
    "duration": 16,
    "start_time": "2023-07-11T06:21:11.709Z"
   },
   {
    "duration": 3,
    "start_time": "2023-07-11T06:22:16.843Z"
   },
   {
    "duration": 84,
    "start_time": "2023-07-11T06:22:16.848Z"
   },
   {
    "duration": 45,
    "start_time": "2023-07-11T06:22:17.139Z"
   },
   {
    "duration": 34,
    "start_time": "2023-07-11T06:22:17.186Z"
   },
   {
    "duration": 40,
    "start_time": "2023-07-11T06:22:17.222Z"
   },
   {
    "duration": 46,
    "start_time": "2023-07-11T06:22:17.264Z"
   },
   {
    "duration": 9,
    "start_time": "2023-07-11T06:22:17.444Z"
   },
   {
    "duration": 24,
    "start_time": "2023-07-11T06:22:17.455Z"
   },
   {
    "duration": 67,
    "start_time": "2023-07-11T06:22:17.480Z"
   },
   {
    "duration": 74,
    "start_time": "2023-07-11T06:22:17.549Z"
   },
   {
    "duration": 61,
    "start_time": "2023-07-11T06:22:17.625Z"
   },
   {
    "duration": 220,
    "start_time": "2023-07-11T06:22:17.687Z"
   },
   {
    "duration": 7,
    "start_time": "2023-07-11T06:22:17.909Z"
   },
   {
    "duration": 139,
    "start_time": "2023-07-11T06:22:17.922Z"
   },
   {
    "duration": 53,
    "start_time": "2023-07-11T06:22:18.062Z"
   },
   {
    "duration": 236,
    "start_time": "2023-07-11T06:22:18.116Z"
   },
   {
    "duration": 452,
    "start_time": "2023-07-11T06:22:18.354Z"
   },
   {
    "duration": 11,
    "start_time": "2023-07-11T06:22:18.809Z"
   },
   {
    "duration": 225,
    "start_time": "2023-07-11T06:22:18.822Z"
   },
   {
    "duration": 7,
    "start_time": "2023-07-11T06:22:19.048Z"
   },
   {
    "duration": 277,
    "start_time": "2023-07-11T06:22:19.057Z"
   },
   {
    "duration": 33,
    "start_time": "2023-07-11T06:22:19.336Z"
   },
   {
    "duration": 94,
    "start_time": "2023-07-11T06:22:19.371Z"
   },
   {
    "duration": 18,
    "start_time": "2023-07-11T06:22:19.468Z"
   },
   {
    "duration": 448,
    "start_time": "2023-07-11T06:22:19.490Z"
   },
   {
    "duration": 448,
    "start_time": "2023-07-11T06:22:19.940Z"
   },
   {
    "duration": 967,
    "start_time": "2023-07-11T06:22:20.390Z"
   },
   {
    "duration": 4,
    "start_time": "2023-07-11T06:23:24.610Z"
   },
   {
    "duration": 63,
    "start_time": "2023-07-11T06:23:24.616Z"
   },
   {
    "duration": 48,
    "start_time": "2023-07-11T06:23:24.681Z"
   },
   {
    "duration": 33,
    "start_time": "2023-07-11T06:23:24.732Z"
   },
   {
    "duration": 24,
    "start_time": "2023-07-11T06:23:24.767Z"
   },
   {
    "duration": 42,
    "start_time": "2023-07-11T06:23:24.794Z"
   },
   {
    "duration": 15,
    "start_time": "2023-07-11T06:23:24.838Z"
   },
   {
    "duration": 14,
    "start_time": "2023-07-11T06:23:24.855Z"
   },
   {
    "duration": 58,
    "start_time": "2023-07-11T06:23:24.871Z"
   },
   {
    "duration": 19,
    "start_time": "2023-07-11T06:23:24.931Z"
   },
   {
    "duration": 81,
    "start_time": "2023-07-11T06:23:24.952Z"
   },
   {
    "duration": 151,
    "start_time": "2023-07-11T06:23:25.115Z"
   },
   {
    "duration": 13,
    "start_time": "2023-07-11T06:23:25.268Z"
   },
   {
    "duration": 167,
    "start_time": "2023-07-11T06:23:25.287Z"
   },
   {
    "duration": 4,
    "start_time": "2023-07-11T06:23:25.456Z"
   },
   {
    "duration": 200,
    "start_time": "2023-07-11T06:23:25.463Z"
   },
   {
    "duration": 434,
    "start_time": "2023-07-11T06:23:25.664Z"
   },
   {
    "duration": 19,
    "start_time": "2023-07-11T06:23:26.102Z"
   },
   {
    "duration": 262,
    "start_time": "2023-07-11T06:23:26.123Z"
   },
   {
    "duration": 11,
    "start_time": "2023-07-11T06:23:26.387Z"
   },
   {
    "duration": 259,
    "start_time": "2023-07-11T06:23:26.400Z"
   },
   {
    "duration": 48,
    "start_time": "2023-07-11T06:23:26.662Z"
   },
   {
    "duration": 22,
    "start_time": "2023-07-11T06:23:26.712Z"
   },
   {
    "duration": 50,
    "start_time": "2023-07-11T06:23:26.736Z"
   },
   {
    "duration": 371,
    "start_time": "2023-07-11T06:23:26.789Z"
   },
   {
    "duration": 417,
    "start_time": "2023-07-11T06:23:27.161Z"
   },
   {
    "duration": 944,
    "start_time": "2023-07-11T06:23:27.580Z"
   },
   {
    "duration": 195,
    "start_time": "2023-07-11T06:23:28.526Z"
   },
   {
    "duration": 3,
    "start_time": "2023-07-11T06:30:27.900Z"
   },
   {
    "duration": 63,
    "start_time": "2023-07-11T06:30:27.909Z"
   },
   {
    "duration": 61,
    "start_time": "2023-07-11T06:30:27.974Z"
   },
   {
    "duration": 18,
    "start_time": "2023-07-11T06:30:28.037Z"
   },
   {
    "duration": 35,
    "start_time": "2023-07-11T06:30:28.056Z"
   },
   {
    "duration": 44,
    "start_time": "2023-07-11T06:30:28.094Z"
   },
   {
    "duration": 8,
    "start_time": "2023-07-11T06:30:28.140Z"
   },
   {
    "duration": 10,
    "start_time": "2023-07-11T06:30:28.200Z"
   },
   {
    "duration": 21,
    "start_time": "2023-07-11T06:30:28.213Z"
   },
   {
    "duration": 34,
    "start_time": "2023-07-11T06:30:28.235Z"
   },
   {
    "duration": 59,
    "start_time": "2023-07-11T06:30:28.271Z"
   },
   {
    "duration": 184,
    "start_time": "2023-07-11T06:30:28.332Z"
   },
   {
    "duration": 6,
    "start_time": "2023-07-11T06:30:28.517Z"
   },
   {
    "duration": 133,
    "start_time": "2023-07-11T06:30:28.525Z"
   },
   {
    "duration": 5,
    "start_time": "2023-07-11T06:30:28.661Z"
   },
   {
    "duration": 239,
    "start_time": "2023-07-11T06:30:28.668Z"
   },
   {
    "duration": 512,
    "start_time": "2023-07-11T06:30:28.910Z"
   },
   {
    "duration": 8,
    "start_time": "2023-07-11T06:30:29.424Z"
   },
   {
    "duration": 251,
    "start_time": "2023-07-11T06:30:29.434Z"
   },
   {
    "duration": 7,
    "start_time": "2023-07-11T06:30:29.688Z"
   },
   {
    "duration": 258,
    "start_time": "2023-07-11T06:30:29.697Z"
   },
   {
    "duration": 34,
    "start_time": "2023-07-11T06:30:29.957Z"
   },
   {
    "duration": 20,
    "start_time": "2023-07-11T06:30:29.997Z"
   },
   {
    "duration": 40,
    "start_time": "2023-07-11T06:30:30.019Z"
   },
   {
    "duration": 417,
    "start_time": "2023-07-11T06:30:30.061Z"
   },
   {
    "duration": 437,
    "start_time": "2023-07-11T06:30:30.483Z"
   },
   {
    "duration": 1091,
    "start_time": "2023-07-11T06:30:30.924Z"
   },
   {
    "duration": 170,
    "start_time": "2023-07-11T06:30:32.017Z"
   },
   {
    "duration": 3,
    "start_time": "2023-07-11T09:01:08.828Z"
   },
   {
    "duration": 42,
    "start_time": "2023-07-11T09:01:08.833Z"
   },
   {
    "duration": 38,
    "start_time": "2023-07-11T09:01:08.877Z"
   },
   {
    "duration": 18,
    "start_time": "2023-07-11T09:01:08.917Z"
   },
   {
    "duration": 18,
    "start_time": "2023-07-11T09:01:08.936Z"
   },
   {
    "duration": 7,
    "start_time": "2023-07-11T09:01:08.956Z"
   },
   {
    "duration": 18,
    "start_time": "2023-07-11T09:01:08.964Z"
   },
   {
    "duration": 13,
    "start_time": "2023-07-11T09:01:08.983Z"
   },
   {
    "duration": 4,
    "start_time": "2023-07-11T09:01:08.998Z"
   },
   {
    "duration": 5,
    "start_time": "2023-07-11T09:01:09.006Z"
   },
   {
    "duration": 8,
    "start_time": "2023-07-11T09:01:09.013Z"
   },
   {
    "duration": 156,
    "start_time": "2023-07-11T09:01:09.022Z"
   },
   {
    "duration": 5,
    "start_time": "2023-07-11T09:01:09.179Z"
   },
   {
    "duration": 110,
    "start_time": "2023-07-11T09:01:09.186Z"
   },
   {
    "duration": 5,
    "start_time": "2023-07-11T09:01:09.298Z"
   },
   {
    "duration": 163,
    "start_time": "2023-07-11T09:01:09.304Z"
   },
   {
    "duration": 387,
    "start_time": "2023-07-11T09:01:09.469Z"
   },
   {
    "duration": 7,
    "start_time": "2023-07-11T09:01:09.858Z"
   },
   {
    "duration": 179,
    "start_time": "2023-07-11T09:01:09.875Z"
   },
   {
    "duration": 7,
    "start_time": "2023-07-11T09:01:10.056Z"
   },
   {
    "duration": 177,
    "start_time": "2023-07-11T09:01:10.065Z"
   },
   {
    "duration": 24,
    "start_time": "2023-07-11T09:01:10.243Z"
   },
   {
    "duration": 16,
    "start_time": "2023-07-11T09:01:10.275Z"
   },
   {
    "duration": 13,
    "start_time": "2023-07-11T09:01:10.292Z"
   },
   {
    "duration": 433,
    "start_time": "2023-07-11T09:01:10.306Z"
   },
   {
    "duration": 319,
    "start_time": "2023-07-11T09:01:10.740Z"
   },
   {
    "duration": 915,
    "start_time": "2023-07-11T09:01:11.061Z"
   },
   {
    "duration": 146,
    "start_time": "2023-07-11T09:01:11.979Z"
   },
   {
    "duration": 107,
    "start_time": "2023-07-11T09:01:12.127Z"
   },
   {
    "duration": 1,
    "start_time": "2023-07-11T09:01:12.235Z"
   },
   {
    "duration": 3,
    "start_time": "2023-07-11T09:01:45.098Z"
   },
   {
    "duration": 45,
    "start_time": "2023-07-11T09:01:45.103Z"
   },
   {
    "duration": 40,
    "start_time": "2023-07-11T09:01:45.149Z"
   },
   {
    "duration": 17,
    "start_time": "2023-07-11T09:01:45.190Z"
   },
   {
    "duration": 13,
    "start_time": "2023-07-11T09:01:45.209Z"
   },
   {
    "duration": 14,
    "start_time": "2023-07-11T09:01:45.225Z"
   },
   {
    "duration": 27,
    "start_time": "2023-07-11T09:01:45.241Z"
   },
   {
    "duration": 14,
    "start_time": "2023-07-11T09:01:45.270Z"
   },
   {
    "duration": 16,
    "start_time": "2023-07-11T09:01:45.286Z"
   },
   {
    "duration": 10,
    "start_time": "2023-07-11T09:01:45.304Z"
   },
   {
    "duration": 10,
    "start_time": "2023-07-11T09:01:45.315Z"
   },
   {
    "duration": 136,
    "start_time": "2023-07-11T09:01:45.326Z"
   },
   {
    "duration": 4,
    "start_time": "2023-07-11T09:01:45.464Z"
   },
   {
    "duration": 94,
    "start_time": "2023-07-11T09:01:45.474Z"
   },
   {
    "duration": 7,
    "start_time": "2023-07-11T09:01:45.570Z"
   },
   {
    "duration": 169,
    "start_time": "2023-07-11T09:01:45.579Z"
   },
   {
    "duration": 380,
    "start_time": "2023-07-11T09:01:45.750Z"
   },
   {
    "duration": 8,
    "start_time": "2023-07-11T09:01:46.131Z"
   },
   {
    "duration": 187,
    "start_time": "2023-07-11T09:01:46.140Z"
   },
   {
    "duration": 7,
    "start_time": "2023-07-11T09:01:46.328Z"
   },
   {
    "duration": 181,
    "start_time": "2023-07-11T09:01:46.337Z"
   },
   {
    "duration": 27,
    "start_time": "2023-07-11T09:01:46.520Z"
   },
   {
    "duration": 34,
    "start_time": "2023-07-11T09:01:46.549Z"
   },
   {
    "duration": 17,
    "start_time": "2023-07-11T09:01:46.585Z"
   },
   {
    "duration": 399,
    "start_time": "2023-07-11T09:01:46.603Z"
   },
   {
    "duration": 311,
    "start_time": "2023-07-11T09:01:47.004Z"
   },
   {
    "duration": 822,
    "start_time": "2023-07-11T09:01:47.317Z"
   },
   {
    "duration": 146,
    "start_time": "2023-07-11T09:01:48.140Z"
   },
   {
    "duration": 5,
    "start_time": "2023-07-11T09:01:48.287Z"
   },
   {
    "duration": 782,
    "start_time": "2023-07-11T09:01:48.294Z"
   },
   {
    "duration": 3,
    "start_time": "2023-07-11T09:04:18.796Z"
   },
   {
    "duration": 48,
    "start_time": "2023-07-11T09:04:18.801Z"
   },
   {
    "duration": 36,
    "start_time": "2023-07-11T09:04:18.850Z"
   },
   {
    "duration": 16,
    "start_time": "2023-07-11T09:04:18.887Z"
   },
   {
    "duration": 29,
    "start_time": "2023-07-11T09:04:18.905Z"
   },
   {
    "duration": 10,
    "start_time": "2023-07-11T09:04:18.935Z"
   },
   {
    "duration": 29,
    "start_time": "2023-07-11T09:04:18.947Z"
   },
   {
    "duration": 15,
    "start_time": "2023-07-11T09:04:18.977Z"
   },
   {
    "duration": 22,
    "start_time": "2023-07-11T09:04:18.993Z"
   },
   {
    "duration": 20,
    "start_time": "2023-07-11T09:04:19.016Z"
   },
   {
    "duration": 15,
    "start_time": "2023-07-11T09:04:19.037Z"
   },
   {
    "duration": 141,
    "start_time": "2023-07-11T09:04:19.053Z"
   },
   {
    "duration": 5,
    "start_time": "2023-07-11T09:04:19.196Z"
   },
   {
    "duration": 103,
    "start_time": "2023-07-11T09:04:19.203Z"
   },
   {
    "duration": 6,
    "start_time": "2023-07-11T09:04:19.307Z"
   },
   {
    "duration": 179,
    "start_time": "2023-07-11T09:04:19.315Z"
   },
   {
    "duration": 381,
    "start_time": "2023-07-11T09:04:19.496Z"
   },
   {
    "duration": 7,
    "start_time": "2023-07-11T09:04:19.879Z"
   },
   {
    "duration": 259,
    "start_time": "2023-07-11T09:04:19.887Z"
   },
   {
    "duration": 7,
    "start_time": "2023-07-11T09:04:20.148Z"
   },
   {
    "duration": 165,
    "start_time": "2023-07-11T09:04:20.157Z"
   },
   {
    "duration": 23,
    "start_time": "2023-07-11T09:04:20.324Z"
   },
   {
    "duration": 29,
    "start_time": "2023-07-11T09:04:20.348Z"
   },
   {
    "duration": 19,
    "start_time": "2023-07-11T09:04:20.378Z"
   },
   {
    "duration": 306,
    "start_time": "2023-07-11T09:04:20.398Z"
   },
   {
    "duration": 288,
    "start_time": "2023-07-11T09:04:20.706Z"
   },
   {
    "duration": 811,
    "start_time": "2023-07-11T09:04:20.996Z"
   },
   {
    "duration": 139,
    "start_time": "2023-07-11T09:04:21.809Z"
   },
   {
    "duration": 5,
    "start_time": "2023-07-11T09:04:21.949Z"
   },
   {
    "duration": 765,
    "start_time": "2023-07-11T09:04:21.955Z"
   },
   {
    "duration": 2264,
    "start_time": "2023-07-11T09:04:22.722Z"
   },
   {
    "duration": 3,
    "start_time": "2023-07-11T09:05:22.955Z"
   },
   {
    "duration": 43,
    "start_time": "2023-07-11T09:05:22.960Z"
   },
   {
    "duration": 42,
    "start_time": "2023-07-11T09:05:23.005Z"
   },
   {
    "duration": 17,
    "start_time": "2023-07-11T09:05:23.049Z"
   },
   {
    "duration": 12,
    "start_time": "2023-07-11T09:05:23.068Z"
   },
   {
    "duration": 7,
    "start_time": "2023-07-11T09:05:23.082Z"
   },
   {
    "duration": 8,
    "start_time": "2023-07-11T09:05:23.090Z"
   },
   {
    "duration": 11,
    "start_time": "2023-07-11T09:05:23.100Z"
   },
   {
    "duration": 6,
    "start_time": "2023-07-11T09:05:23.112Z"
   },
   {
    "duration": 8,
    "start_time": "2023-07-11T09:05:23.121Z"
   },
   {
    "duration": 10,
    "start_time": "2023-07-11T09:05:23.131Z"
   },
   {
    "duration": 163,
    "start_time": "2023-07-11T09:05:23.143Z"
   },
   {
    "duration": 4,
    "start_time": "2023-07-11T09:05:23.308Z"
   },
   {
    "duration": 111,
    "start_time": "2023-07-11T09:05:23.314Z"
   },
   {
    "duration": 5,
    "start_time": "2023-07-11T09:05:23.426Z"
   },
   {
    "duration": 200,
    "start_time": "2023-07-11T09:05:23.433Z"
   },
   {
    "duration": 480,
    "start_time": "2023-07-11T09:05:23.635Z"
   },
   {
    "duration": 9,
    "start_time": "2023-07-11T09:05:24.116Z"
   },
   {
    "duration": 182,
    "start_time": "2023-07-11T09:05:24.126Z"
   },
   {
    "duration": 7,
    "start_time": "2023-07-11T09:05:24.309Z"
   },
   {
    "duration": 155,
    "start_time": "2023-07-11T09:05:24.317Z"
   },
   {
    "duration": 23,
    "start_time": "2023-07-11T09:05:24.475Z"
   },
   {
    "duration": 14,
    "start_time": "2023-07-11T09:05:24.500Z"
   },
   {
    "duration": 13,
    "start_time": "2023-07-11T09:05:24.516Z"
   },
   {
    "duration": 356,
    "start_time": "2023-07-11T09:05:24.531Z"
   },
   {
    "duration": 309,
    "start_time": "2023-07-11T09:05:24.889Z"
   },
   {
    "duration": 812,
    "start_time": "2023-07-11T09:05:25.200Z"
   },
   {
    "duration": 138,
    "start_time": "2023-07-11T09:05:26.015Z"
   },
   {
    "duration": 6,
    "start_time": "2023-07-11T09:05:26.154Z"
   },
   {
    "duration": 851,
    "start_time": "2023-07-11T09:05:26.161Z"
   },
   {
    "duration": 9,
    "start_time": "2023-07-11T09:05:27.013Z"
   },
   {
    "duration": 3,
    "start_time": "2023-07-11T09:05:47.604Z"
   },
   {
    "duration": 53,
    "start_time": "2023-07-11T09:05:47.609Z"
   },
   {
    "duration": 38,
    "start_time": "2023-07-11T09:05:47.664Z"
   },
   {
    "duration": 16,
    "start_time": "2023-07-11T09:05:47.704Z"
   },
   {
    "duration": 13,
    "start_time": "2023-07-11T09:05:47.722Z"
   },
   {
    "duration": 9,
    "start_time": "2023-07-11T09:05:47.736Z"
   },
   {
    "duration": 5,
    "start_time": "2023-07-11T09:05:47.746Z"
   },
   {
    "duration": 23,
    "start_time": "2023-07-11T09:05:47.753Z"
   },
   {
    "duration": 5,
    "start_time": "2023-07-11T09:05:47.778Z"
   },
   {
    "duration": 8,
    "start_time": "2023-07-11T09:05:47.785Z"
   },
   {
    "duration": 16,
    "start_time": "2023-07-11T09:05:47.795Z"
   },
   {
    "duration": 141,
    "start_time": "2023-07-11T09:05:47.812Z"
   },
   {
    "duration": 4,
    "start_time": "2023-07-11T09:05:47.955Z"
   },
   {
    "duration": 176,
    "start_time": "2023-07-11T09:05:47.961Z"
   },
   {
    "duration": 5,
    "start_time": "2023-07-11T09:05:48.138Z"
   },
   {
    "duration": 169,
    "start_time": "2023-07-11T09:05:48.144Z"
   },
   {
    "duration": 379,
    "start_time": "2023-07-11T09:05:48.314Z"
   },
   {
    "duration": 7,
    "start_time": "2023-07-11T09:05:48.695Z"
   },
   {
    "duration": 188,
    "start_time": "2023-07-11T09:05:48.704Z"
   },
   {
    "duration": 8,
    "start_time": "2023-07-11T09:05:48.893Z"
   },
   {
    "duration": 159,
    "start_time": "2023-07-11T09:05:48.902Z"
   },
   {
    "duration": 26,
    "start_time": "2023-07-11T09:05:49.063Z"
   },
   {
    "duration": 13,
    "start_time": "2023-07-11T09:05:49.091Z"
   },
   {
    "duration": 18,
    "start_time": "2023-07-11T09:05:49.105Z"
   },
   {
    "duration": 354,
    "start_time": "2023-07-11T09:05:49.125Z"
   },
   {
    "duration": 312,
    "start_time": "2023-07-11T09:05:49.481Z"
   },
   {
    "duration": 803,
    "start_time": "2023-07-11T09:05:49.795Z"
   },
   {
    "duration": 217,
    "start_time": "2023-07-11T09:05:50.600Z"
   },
   {
    "duration": 5,
    "start_time": "2023-07-11T09:05:50.818Z"
   },
   {
    "duration": 776,
    "start_time": "2023-07-11T09:05:50.824Z"
   },
   {
    "duration": 5,
    "start_time": "2023-07-11T09:05:51.602Z"
   },
   {
    "duration": 4,
    "start_time": "2023-07-11T09:06:24.460Z"
   },
   {
    "duration": 51,
    "start_time": "2023-07-11T09:06:24.466Z"
   },
   {
    "duration": 40,
    "start_time": "2023-07-11T09:06:24.519Z"
   },
   {
    "duration": 16,
    "start_time": "2023-07-11T09:06:24.561Z"
   },
   {
    "duration": 13,
    "start_time": "2023-07-11T09:06:24.579Z"
   },
   {
    "duration": 26,
    "start_time": "2023-07-11T09:06:24.593Z"
   },
   {
    "duration": 22,
    "start_time": "2023-07-11T09:06:24.620Z"
   },
   {
    "duration": 30,
    "start_time": "2023-07-11T09:06:24.643Z"
   },
   {
    "duration": 6,
    "start_time": "2023-07-11T09:06:24.675Z"
   },
   {
    "duration": 23,
    "start_time": "2023-07-11T09:06:24.682Z"
   },
   {
    "duration": 11,
    "start_time": "2023-07-11T09:06:24.706Z"
   },
   {
    "duration": 156,
    "start_time": "2023-07-11T09:06:24.718Z"
   },
   {
    "duration": 5,
    "start_time": "2023-07-11T09:06:24.876Z"
   },
   {
    "duration": 98,
    "start_time": "2023-07-11T09:06:24.883Z"
   },
   {
    "duration": 4,
    "start_time": "2023-07-11T09:06:24.983Z"
   },
   {
    "duration": 219,
    "start_time": "2023-07-11T09:06:24.989Z"
   },
   {
    "duration": 402,
    "start_time": "2023-07-11T09:06:25.210Z"
   },
   {
    "duration": 7,
    "start_time": "2023-07-11T09:06:25.614Z"
   },
   {
    "duration": 183,
    "start_time": "2023-07-11T09:06:25.622Z"
   },
   {
    "duration": 8,
    "start_time": "2023-07-11T09:06:25.806Z"
   },
   {
    "duration": 174,
    "start_time": "2023-07-11T09:06:25.816Z"
   },
   {
    "duration": 24,
    "start_time": "2023-07-11T09:06:25.991Z"
   },
   {
    "duration": 13,
    "start_time": "2023-07-11T09:06:26.016Z"
   },
   {
    "duration": 12,
    "start_time": "2023-07-11T09:06:26.031Z"
   },
   {
    "duration": 379,
    "start_time": "2023-07-11T09:06:26.044Z"
   },
   {
    "duration": 395,
    "start_time": "2023-07-11T09:06:26.426Z"
   },
   {
    "duration": 860,
    "start_time": "2023-07-11T09:06:26.823Z"
   },
   {
    "duration": 144,
    "start_time": "2023-07-11T09:06:27.685Z"
   },
   {
    "duration": 6,
    "start_time": "2023-07-11T09:06:27.830Z"
   },
   {
    "duration": 838,
    "start_time": "2023-07-11T09:06:27.837Z"
   },
   {
    "duration": 5,
    "start_time": "2023-07-11T09:06:28.676Z"
   },
   {
    "duration": 19,
    "start_time": "2023-07-11T09:06:28.682Z"
   },
   {
    "duration": 3,
    "start_time": "2023-07-11T09:15:21.299Z"
   },
   {
    "duration": 51,
    "start_time": "2023-07-11T09:15:21.304Z"
   },
   {
    "duration": 38,
    "start_time": "2023-07-11T09:15:21.356Z"
   },
   {
    "duration": 17,
    "start_time": "2023-07-11T09:15:21.396Z"
   },
   {
    "duration": 14,
    "start_time": "2023-07-11T09:15:21.416Z"
   },
   {
    "duration": 11,
    "start_time": "2023-07-11T09:15:21.431Z"
   },
   {
    "duration": 29,
    "start_time": "2023-07-11T09:15:21.443Z"
   },
   {
    "duration": 23,
    "start_time": "2023-07-11T09:15:21.474Z"
   },
   {
    "duration": 6,
    "start_time": "2023-07-11T09:15:21.499Z"
   },
   {
    "duration": 8,
    "start_time": "2023-07-11T09:15:21.506Z"
   },
   {
    "duration": 12,
    "start_time": "2023-07-11T09:15:21.515Z"
   },
   {
    "duration": 143,
    "start_time": "2023-07-11T09:15:21.528Z"
   },
   {
    "duration": 4,
    "start_time": "2023-07-11T09:15:21.676Z"
   },
   {
    "duration": 94,
    "start_time": "2023-07-11T09:15:21.683Z"
   },
   {
    "duration": 4,
    "start_time": "2023-07-11T09:15:21.779Z"
   },
   {
    "duration": 175,
    "start_time": "2023-07-11T09:15:21.784Z"
   },
   {
    "duration": 380,
    "start_time": "2023-07-11T09:15:21.961Z"
   },
   {
    "duration": 8,
    "start_time": "2023-07-11T09:15:22.342Z"
   },
   {
    "duration": 181,
    "start_time": "2023-07-11T09:15:22.351Z"
   },
   {
    "duration": 7,
    "start_time": "2023-07-11T09:15:22.533Z"
   },
   {
    "duration": 167,
    "start_time": "2023-07-11T09:15:22.542Z"
   },
   {
    "duration": 22,
    "start_time": "2023-07-11T09:15:22.711Z"
   },
   {
    "duration": 14,
    "start_time": "2023-07-11T09:15:22.735Z"
   },
   {
    "duration": 28,
    "start_time": "2023-07-11T09:15:22.751Z"
   },
   {
    "duration": 409,
    "start_time": "2023-07-11T09:15:22.780Z"
   },
   {
    "duration": 302,
    "start_time": "2023-07-11T09:15:23.191Z"
   },
   {
    "duration": 805,
    "start_time": "2023-07-11T09:15:23.495Z"
   },
   {
    "duration": 134,
    "start_time": "2023-07-11T09:15:24.302Z"
   },
   {
    "duration": 4,
    "start_time": "2023-07-11T09:15:24.438Z"
   },
   {
    "duration": 814,
    "start_time": "2023-07-11T09:15:24.444Z"
   },
   {
    "duration": 5,
    "start_time": "2023-07-11T09:15:25.259Z"
   },
   {
    "duration": 20,
    "start_time": "2023-07-11T09:15:25.275Z"
   },
   {
    "duration": 2302,
    "start_time": "2023-07-11T14:30:10.155Z"
   },
   {
    "duration": 41,
    "start_time": "2023-07-11T14:30:12.459Z"
   },
   {
    "duration": 79,
    "start_time": "2023-07-11T14:30:12.502Z"
   },
   {
    "duration": 70,
    "start_time": "2023-07-11T14:30:12.584Z"
   },
   {
    "duration": 16,
    "start_time": "2023-07-11T14:30:12.656Z"
   },
   {
    "duration": 22,
    "start_time": "2023-07-11T14:30:12.673Z"
   },
   {
    "duration": 7,
    "start_time": "2023-07-11T14:30:12.755Z"
   },
   {
    "duration": 25,
    "start_time": "2023-07-11T14:30:12.764Z"
   },
   {
    "duration": 64,
    "start_time": "2023-07-11T14:30:12.791Z"
   },
   {
    "duration": 42,
    "start_time": "2023-07-11T14:30:12.858Z"
   },
   {
    "duration": 56,
    "start_time": "2023-07-11T14:30:12.902Z"
   },
   {
    "duration": 395,
    "start_time": "2023-07-11T14:30:12.959Z"
   },
   {
    "duration": 6,
    "start_time": "2023-07-11T14:30:13.356Z"
   },
   {
    "duration": 210,
    "start_time": "2023-07-11T14:30:13.363Z"
   },
   {
    "duration": 5,
    "start_time": "2023-07-11T14:30:13.575Z"
   },
   {
    "duration": 401,
    "start_time": "2023-07-11T14:30:13.582Z"
   },
   {
    "duration": 910,
    "start_time": "2023-07-11T14:30:13.985Z"
   },
   {
    "duration": 64,
    "start_time": "2023-07-11T14:30:14.897Z"
   },
   {
    "duration": 437,
    "start_time": "2023-07-11T14:30:14.963Z"
   },
   {
    "duration": 9,
    "start_time": "2023-07-11T14:30:15.454Z"
   },
   {
    "duration": 330,
    "start_time": "2023-07-11T14:30:15.465Z"
   },
   {
    "duration": 80,
    "start_time": "2023-07-11T14:30:15.796Z"
   },
   {
    "duration": 189,
    "start_time": "2023-07-11T14:30:15.878Z"
   },
   {
    "duration": 14,
    "start_time": "2023-07-11T14:30:16.068Z"
   },
   {
    "duration": 775,
    "start_time": "2023-07-11T14:30:16.084Z"
   },
   {
    "duration": 816,
    "start_time": "2023-07-11T14:30:16.862Z"
   },
   {
    "duration": 1978,
    "start_time": "2023-07-11T14:30:17.680Z"
   },
   {
    "duration": 301,
    "start_time": "2023-07-11T14:30:19.661Z"
   },
   {
    "duration": 6,
    "start_time": "2023-07-11T14:30:19.963Z"
   },
   {
    "duration": 1805,
    "start_time": "2023-07-11T14:30:19.971Z"
   },
   {
    "duration": 5,
    "start_time": "2023-07-11T14:30:21.778Z"
   },
   {
    "duration": 11,
    "start_time": "2023-07-11T14:30:21.785Z"
   },
   {
    "duration": 230,
    "start_time": "2023-07-11T14:35:25.200Z"
   },
   {
    "duration": 8,
    "start_time": "2023-07-11T14:38:17.912Z"
   },
   {
    "duration": 1362,
    "start_time": "2023-07-11T14:40:25.764Z"
   },
   {
    "duration": 94,
    "start_time": "2023-07-11T14:40:27.128Z"
   },
   {
    "duration": 174,
    "start_time": "2023-07-11T14:40:27.224Z"
   },
   {
    "duration": 55,
    "start_time": "2023-07-11T14:40:27.400Z"
   },
   {
    "duration": 15,
    "start_time": "2023-07-11T14:40:27.458Z"
   },
   {
    "duration": 12,
    "start_time": "2023-07-11T14:40:27.475Z"
   },
   {
    "duration": 8,
    "start_time": "2023-07-11T14:40:27.489Z"
   },
   {
    "duration": 10,
    "start_time": "2023-07-11T14:40:27.499Z"
   },
   {
    "duration": 5,
    "start_time": "2023-07-11T14:40:27.511Z"
   },
   {
    "duration": 5,
    "start_time": "2023-07-11T14:40:27.554Z"
   },
   {
    "duration": 21,
    "start_time": "2023-07-11T14:40:27.561Z"
   },
   {
    "duration": 207,
    "start_time": "2023-07-11T14:40:27.584Z"
   },
   {
    "duration": 6,
    "start_time": "2023-07-11T14:40:27.794Z"
   },
   {
    "duration": 136,
    "start_time": "2023-07-11T14:40:27.804Z"
   },
   {
    "duration": 11,
    "start_time": "2023-07-11T14:40:27.943Z"
   },
   {
    "duration": 191,
    "start_time": "2023-07-11T14:40:27.956Z"
   },
   {
    "duration": 449,
    "start_time": "2023-07-11T14:40:28.154Z"
   },
   {
    "duration": 8,
    "start_time": "2023-07-11T14:40:28.605Z"
   },
   {
    "duration": 215,
    "start_time": "2023-07-11T14:40:28.615Z"
   },
   {
    "duration": 9,
    "start_time": "2023-07-11T14:40:28.832Z"
   },
   {
    "duration": 176,
    "start_time": "2023-07-11T14:40:28.854Z"
   },
   {
    "duration": 35,
    "start_time": "2023-07-11T14:40:29.032Z"
   },
   {
    "duration": 98,
    "start_time": "2023-07-11T14:40:29.068Z"
   },
   {
    "duration": 14,
    "start_time": "2023-07-11T14:40:29.168Z"
   },
   {
    "duration": 378,
    "start_time": "2023-07-11T14:40:29.183Z"
   },
   {
    "duration": 337,
    "start_time": "2023-07-11T14:40:29.563Z"
   },
   {
    "duration": 961,
    "start_time": "2023-07-11T14:40:29.902Z"
   },
   {
    "duration": 158,
    "start_time": "2023-07-11T14:40:30.865Z"
   },
   {
    "duration": 5,
    "start_time": "2023-07-11T14:40:31.025Z"
   },
   {
    "duration": 980,
    "start_time": "2023-07-11T14:40:31.033Z"
   },
   {
    "duration": 5,
    "start_time": "2023-07-11T14:40:32.015Z"
   },
   {
    "duration": 27,
    "start_time": "2023-07-11T14:40:32.022Z"
   },
   {
    "duration": 1285,
    "start_time": "2023-07-12T03:33:53.454Z"
   },
   {
    "duration": 101,
    "start_time": "2023-07-12T03:33:54.740Z"
   },
   {
    "duration": 84,
    "start_time": "2023-07-12T03:33:54.843Z"
   },
   {
    "duration": 55,
    "start_time": "2023-07-12T03:33:54.929Z"
   },
   {
    "duration": 12,
    "start_time": "2023-07-12T03:33:54.986Z"
   },
   {
    "duration": 33,
    "start_time": "2023-07-12T03:33:55.005Z"
   },
   {
    "duration": 25,
    "start_time": "2023-07-12T03:33:55.039Z"
   },
   {
    "duration": 13,
    "start_time": "2023-07-12T03:33:55.065Z"
   },
   {
    "duration": 7,
    "start_time": "2023-07-12T03:33:55.080Z"
   },
   {
    "duration": 27,
    "start_time": "2023-07-12T03:33:55.090Z"
   },
   {
    "duration": 9,
    "start_time": "2023-07-12T03:33:55.119Z"
   },
   {
    "duration": 151,
    "start_time": "2023-07-12T03:33:55.129Z"
   },
   {
    "duration": 5,
    "start_time": "2023-07-12T03:33:55.281Z"
   },
   {
    "duration": 97,
    "start_time": "2023-07-12T03:33:55.288Z"
   },
   {
    "duration": 25,
    "start_time": "2023-07-12T03:33:55.387Z"
   },
   {
    "duration": 198,
    "start_time": "2023-07-12T03:33:55.418Z"
   },
   {
    "duration": 348,
    "start_time": "2023-07-12T03:33:55.618Z"
   },
   {
    "duration": 9,
    "start_time": "2023-07-12T03:33:55.967Z"
   },
   {
    "duration": 197,
    "start_time": "2023-07-12T03:33:55.978Z"
   },
   {
    "duration": 9,
    "start_time": "2023-07-12T03:33:56.177Z"
   },
   {
    "duration": 213,
    "start_time": "2023-07-12T03:33:56.204Z"
   },
   {
    "duration": 21,
    "start_time": "2023-07-12T03:33:56.419Z"
   },
   {
    "duration": 13,
    "start_time": "2023-07-12T03:33:56.441Z"
   },
   {
    "duration": 12,
    "start_time": "2023-07-12T03:33:56.456Z"
   },
   {
    "duration": 299,
    "start_time": "2023-07-12T03:33:56.470Z"
   },
   {
    "duration": 279,
    "start_time": "2023-07-12T03:33:56.770Z"
   },
   {
    "duration": 904,
    "start_time": "2023-07-12T03:33:57.050Z"
   },
   {
    "duration": 156,
    "start_time": "2023-07-12T03:33:57.957Z"
   },
   {
    "duration": 6,
    "start_time": "2023-07-12T03:33:58.118Z"
   },
   {
    "duration": 731,
    "start_time": "2023-07-12T03:33:58.125Z"
   },
   {
    "duration": 5,
    "start_time": "2023-07-12T03:33:58.858Z"
   },
   {
    "duration": 13,
    "start_time": "2023-07-12T03:33:58.864Z"
   },
   {
    "duration": 3,
    "start_time": "2023-07-12T03:34:23.444Z"
   },
   {
    "duration": 50,
    "start_time": "2023-07-12T03:34:23.448Z"
   },
   {
    "duration": 47,
    "start_time": "2023-07-12T03:34:23.500Z"
   },
   {
    "duration": 18,
    "start_time": "2023-07-12T03:34:23.549Z"
   },
   {
    "duration": 12,
    "start_time": "2023-07-12T03:34:23.569Z"
   },
   {
    "duration": 6,
    "start_time": "2023-07-12T03:34:23.582Z"
   },
   {
    "duration": 23,
    "start_time": "2023-07-12T03:34:23.589Z"
   },
   {
    "duration": 15,
    "start_time": "2023-07-12T03:34:23.618Z"
   },
   {
    "duration": 7,
    "start_time": "2023-07-12T03:34:23.634Z"
   },
   {
    "duration": 12,
    "start_time": "2023-07-12T03:34:23.643Z"
   },
   {
    "duration": 14,
    "start_time": "2023-07-12T03:34:23.656Z"
   },
   {
    "duration": 147,
    "start_time": "2023-07-12T03:34:23.671Z"
   },
   {
    "duration": 5,
    "start_time": "2023-07-12T03:34:23.820Z"
   },
   {
    "duration": 93,
    "start_time": "2023-07-12T03:34:23.826Z"
   },
   {
    "duration": 5,
    "start_time": "2023-07-12T03:34:23.920Z"
   },
   {
    "duration": 174,
    "start_time": "2023-07-12T03:34:23.926Z"
   },
   {
    "duration": 389,
    "start_time": "2023-07-12T03:34:24.102Z"
   },
   {
    "duration": 11,
    "start_time": "2023-07-12T03:34:24.498Z"
   },
   {
    "duration": 158,
    "start_time": "2023-07-12T03:34:24.510Z"
   },
   {
    "duration": 7,
    "start_time": "2023-07-12T03:34:24.670Z"
   },
   {
    "duration": 140,
    "start_time": "2023-07-12T03:34:24.678Z"
   },
   {
    "duration": 21,
    "start_time": "2023-07-12T03:34:24.820Z"
   },
   {
    "duration": 12,
    "start_time": "2023-07-12T03:34:24.842Z"
   },
   {
    "duration": 11,
    "start_time": "2023-07-12T03:34:24.856Z"
   },
   {
    "duration": 306,
    "start_time": "2023-07-12T03:34:24.868Z"
   },
   {
    "duration": 283,
    "start_time": "2023-07-12T03:34:25.175Z"
   },
   {
    "duration": 923,
    "start_time": "2023-07-12T03:34:25.460Z"
   },
   {
    "duration": 152,
    "start_time": "2023-07-12T03:34:26.386Z"
   },
   {
    "duration": 5,
    "start_time": "2023-07-12T03:34:26.540Z"
   },
   {
    "duration": 746,
    "start_time": "2023-07-12T03:34:26.547Z"
   },
   {
    "duration": 17,
    "start_time": "2023-07-12T03:34:27.294Z"
   },
   {
    "duration": 20,
    "start_time": "2023-07-12T03:34:27.312Z"
   },
   {
    "duration": 3,
    "start_time": "2023-07-12T03:35:47.720Z"
   },
   {
    "duration": 47,
    "start_time": "2023-07-12T03:35:47.725Z"
   },
   {
    "duration": 39,
    "start_time": "2023-07-12T03:35:47.774Z"
   },
   {
    "duration": 12,
    "start_time": "2023-07-12T03:35:47.815Z"
   },
   {
    "duration": 20,
    "start_time": "2023-07-12T03:35:47.828Z"
   },
   {
    "duration": 12,
    "start_time": "2023-07-12T03:35:47.849Z"
   },
   {
    "duration": 9,
    "start_time": "2023-07-12T03:35:47.862Z"
   },
   {
    "duration": 5,
    "start_time": "2023-07-12T03:35:47.873Z"
   },
   {
    "duration": 15,
    "start_time": "2023-07-12T03:35:47.879Z"
   },
   {
    "duration": 16,
    "start_time": "2023-07-12T03:35:47.895Z"
   },
   {
    "duration": 6,
    "start_time": "2023-07-12T03:35:47.914Z"
   },
   {
    "duration": 20,
    "start_time": "2023-07-12T03:35:47.921Z"
   },
   {
    "duration": 134,
    "start_time": "2023-07-12T03:35:47.942Z"
   },
   {
    "duration": 4,
    "start_time": "2023-07-12T03:35:48.078Z"
   },
   {
    "duration": 157,
    "start_time": "2023-07-12T03:35:48.084Z"
   },
   {
    "duration": 5,
    "start_time": "2023-07-12T03:35:48.243Z"
   },
   {
    "duration": 164,
    "start_time": "2023-07-12T03:35:48.250Z"
   },
   {
    "duration": 340,
    "start_time": "2023-07-12T03:35:48.416Z"
   },
   {
    "duration": 9,
    "start_time": "2023-07-12T03:35:48.757Z"
   },
   {
    "duration": 163,
    "start_time": "2023-07-12T03:35:48.768Z"
   },
   {
    "duration": 7,
    "start_time": "2023-07-12T03:35:48.933Z"
   },
   {
    "duration": 142,
    "start_time": "2023-07-12T03:35:48.941Z"
   },
   {
    "duration": 42,
    "start_time": "2023-07-12T03:35:49.084Z"
   },
   {
    "duration": 12,
    "start_time": "2023-07-12T03:35:49.128Z"
   },
   {
    "duration": 10,
    "start_time": "2023-07-12T03:35:49.142Z"
   },
   {
    "duration": 293,
    "start_time": "2023-07-12T03:35:49.154Z"
   },
   {
    "duration": 310,
    "start_time": "2023-07-12T03:35:49.449Z"
   },
   {
    "duration": 903,
    "start_time": "2023-07-12T03:35:49.760Z"
   },
   {
    "duration": 216,
    "start_time": "2023-07-12T03:35:50.666Z"
   },
   {
    "duration": 4,
    "start_time": "2023-07-12T03:35:50.884Z"
   },
   {
    "duration": 788,
    "start_time": "2023-07-12T03:35:50.890Z"
   },
   {
    "duration": 6,
    "start_time": "2023-07-12T03:35:51.680Z"
   },
   {
    "duration": 39,
    "start_time": "2023-07-12T03:35:51.687Z"
   },
   {
    "duration": 2,
    "start_time": "2023-07-12T03:36:52.491Z"
   },
   {
    "duration": 55,
    "start_time": "2023-07-12T03:36:52.495Z"
   },
   {
    "duration": 10,
    "start_time": "2023-07-12T03:36:52.551Z"
   },
   {
    "duration": 48,
    "start_time": "2023-07-12T03:36:52.562Z"
   },
   {
    "duration": 16,
    "start_time": "2023-07-12T03:36:52.613Z"
   },
   {
    "duration": 33,
    "start_time": "2023-07-12T03:36:52.630Z"
   },
   {
    "duration": 21,
    "start_time": "2023-07-12T03:36:52.664Z"
   },
   {
    "duration": 28,
    "start_time": "2023-07-12T03:36:52.687Z"
   },
   {
    "duration": 23,
    "start_time": "2023-07-12T03:36:52.716Z"
   },
   {
    "duration": 29,
    "start_time": "2023-07-12T03:36:52.740Z"
   },
   {
    "duration": 22,
    "start_time": "2023-07-12T03:36:52.770Z"
   },
   {
    "duration": 35,
    "start_time": "2023-07-12T03:36:52.793Z"
   },
   {
    "duration": 16,
    "start_time": "2023-07-12T03:36:52.830Z"
   },
   {
    "duration": 143,
    "start_time": "2023-07-12T03:36:52.849Z"
   },
   {
    "duration": 19,
    "start_time": "2023-07-12T03:36:52.993Z"
   },
   {
    "duration": 98,
    "start_time": "2023-07-12T03:36:53.014Z"
   },
   {
    "duration": 4,
    "start_time": "2023-07-12T03:36:53.114Z"
   },
   {
    "duration": 186,
    "start_time": "2023-07-12T03:36:53.119Z"
   },
   {
    "duration": 358,
    "start_time": "2023-07-12T03:36:53.306Z"
   },
   {
    "duration": 7,
    "start_time": "2023-07-12T03:36:53.665Z"
   },
   {
    "duration": 167,
    "start_time": "2023-07-12T03:36:53.674Z"
   },
   {
    "duration": 7,
    "start_time": "2023-07-12T03:36:53.843Z"
   },
   {
    "duration": 162,
    "start_time": "2023-07-12T03:36:53.852Z"
   },
   {
    "duration": 21,
    "start_time": "2023-07-12T03:36:54.015Z"
   },
   {
    "duration": 14,
    "start_time": "2023-07-12T03:36:54.037Z"
   },
   {
    "duration": 17,
    "start_time": "2023-07-12T03:36:54.053Z"
   },
   {
    "duration": 289,
    "start_time": "2023-07-12T03:36:54.071Z"
   },
   {
    "duration": 356,
    "start_time": "2023-07-12T03:36:54.361Z"
   },
   {
    "duration": 895,
    "start_time": "2023-07-12T03:36:54.719Z"
   },
   {
    "duration": 147,
    "start_time": "2023-07-12T03:36:55.616Z"
   },
   {
    "duration": 5,
    "start_time": "2023-07-12T03:36:55.764Z"
   },
   {
    "duration": 811,
    "start_time": "2023-07-12T03:36:55.770Z"
   },
   {
    "duration": 5,
    "start_time": "2023-07-12T03:36:56.582Z"
   },
   {
    "duration": 22,
    "start_time": "2023-07-12T03:36:56.589Z"
   },
   {
    "duration": 2,
    "start_time": "2023-07-12T03:37:09.182Z"
   },
   {
    "duration": 45,
    "start_time": "2023-07-12T03:37:09.186Z"
   },
   {
    "duration": 13,
    "start_time": "2023-07-12T03:37:09.232Z"
   },
   {
    "duration": 37,
    "start_time": "2023-07-12T03:37:09.247Z"
   },
   {
    "duration": 12,
    "start_time": "2023-07-12T03:37:09.286Z"
   },
   {
    "duration": 25,
    "start_time": "2023-07-12T03:37:09.310Z"
   },
   {
    "duration": 14,
    "start_time": "2023-07-12T03:37:09.337Z"
   },
   {
    "duration": 6,
    "start_time": "2023-07-12T03:37:09.352Z"
   },
   {
    "duration": 5,
    "start_time": "2023-07-12T03:37:09.360Z"
   },
   {
    "duration": 8,
    "start_time": "2023-07-12T03:37:09.366Z"
   },
   {
    "duration": 5,
    "start_time": "2023-07-12T03:37:09.375Z"
   },
   {
    "duration": 10,
    "start_time": "2023-07-12T03:37:09.382Z"
   },
   {
    "duration": 25,
    "start_time": "2023-07-12T03:37:09.393Z"
   },
   {
    "duration": 147,
    "start_time": "2023-07-12T03:37:09.419Z"
   },
   {
    "duration": 4,
    "start_time": "2023-07-12T03:37:09.568Z"
   },
   {
    "duration": 99,
    "start_time": "2023-07-12T03:37:09.574Z"
   },
   {
    "duration": 4,
    "start_time": "2023-07-12T03:37:09.675Z"
   },
   {
    "duration": 171,
    "start_time": "2023-07-12T03:37:09.680Z"
   },
   {
    "duration": 363,
    "start_time": "2023-07-12T03:37:09.853Z"
   },
   {
    "duration": 8,
    "start_time": "2023-07-12T03:37:10.218Z"
   },
   {
    "duration": 191,
    "start_time": "2023-07-12T03:37:10.227Z"
   },
   {
    "duration": 8,
    "start_time": "2023-07-12T03:37:10.419Z"
   },
   {
    "duration": 162,
    "start_time": "2023-07-12T03:37:10.429Z"
   },
   {
    "duration": 25,
    "start_time": "2023-07-12T03:37:10.599Z"
   },
   {
    "duration": 19,
    "start_time": "2023-07-12T03:37:10.626Z"
   },
   {
    "duration": 17,
    "start_time": "2023-07-12T03:37:10.647Z"
   },
   {
    "duration": 411,
    "start_time": "2023-07-12T03:37:10.665Z"
   },
   {
    "duration": 311,
    "start_time": "2023-07-12T03:37:11.077Z"
   },
   {
    "duration": 1107,
    "start_time": "2023-07-12T03:37:11.390Z"
   },
   {
    "duration": 160,
    "start_time": "2023-07-12T03:37:12.505Z"
   },
   {
    "duration": 5,
    "start_time": "2023-07-12T03:37:12.666Z"
   },
   {
    "duration": 801,
    "start_time": "2023-07-12T03:37:12.672Z"
   },
   {
    "duration": 6,
    "start_time": "2023-07-12T03:37:13.475Z"
   },
   {
    "duration": 35,
    "start_time": "2023-07-12T03:37:13.483Z"
   },
   {
    "duration": 3,
    "start_time": "2023-07-12T03:38:13.436Z"
   },
   {
    "duration": 48,
    "start_time": "2023-07-12T03:38:13.441Z"
   },
   {
    "duration": 16,
    "start_time": "2023-07-12T03:38:13.490Z"
   },
   {
    "duration": 66,
    "start_time": "2023-07-12T03:38:13.508Z"
   },
   {
    "duration": 11,
    "start_time": "2023-07-12T03:38:13.575Z"
   },
   {
    "duration": 40,
    "start_time": "2023-07-12T03:38:13.588Z"
   },
   {
    "duration": 12,
    "start_time": "2023-07-12T03:38:13.630Z"
   },
   {
    "duration": 6,
    "start_time": "2023-07-12T03:38:13.643Z"
   },
   {
    "duration": 6,
    "start_time": "2023-07-12T03:38:13.652Z"
   },
   {
    "duration": 11,
    "start_time": "2023-07-12T03:38:13.659Z"
   },
   {
    "duration": 6,
    "start_time": "2023-07-12T03:38:13.671Z"
   },
   {
    "duration": 7,
    "start_time": "2023-07-12T03:38:13.678Z"
   },
   {
    "duration": 48,
    "start_time": "2023-07-12T03:38:13.686Z"
   },
   {
    "duration": 132,
    "start_time": "2023-07-12T03:38:13.736Z"
   },
   {
    "duration": 4,
    "start_time": "2023-07-12T03:38:13.869Z"
   },
   {
    "duration": 128,
    "start_time": "2023-07-12T03:38:13.875Z"
   },
   {
    "duration": 9,
    "start_time": "2023-07-12T03:38:14.005Z"
   },
   {
    "duration": 178,
    "start_time": "2023-07-12T03:38:14.015Z"
   },
   {
    "duration": 356,
    "start_time": "2023-07-12T03:38:14.194Z"
   },
   {
    "duration": 7,
    "start_time": "2023-07-12T03:38:14.552Z"
   },
   {
    "duration": 252,
    "start_time": "2023-07-12T03:38:14.560Z"
   },
   {
    "duration": 8,
    "start_time": "2023-07-12T03:38:14.813Z"
   },
   {
    "duration": 170,
    "start_time": "2023-07-12T03:38:14.822Z"
   },
   {
    "duration": 27,
    "start_time": "2023-07-12T03:38:14.995Z"
   },
   {
    "duration": 36,
    "start_time": "2023-07-12T03:38:15.024Z"
   },
   {
    "duration": 22,
    "start_time": "2023-07-12T03:38:15.061Z"
   },
   {
    "duration": 304,
    "start_time": "2023-07-12T03:38:15.084Z"
   },
   {
    "duration": 304,
    "start_time": "2023-07-12T03:38:15.391Z"
   },
   {
    "duration": 1004,
    "start_time": "2023-07-12T03:38:15.699Z"
   },
   {
    "duration": 161,
    "start_time": "2023-07-12T03:38:16.704Z"
   },
   {
    "duration": 5,
    "start_time": "2023-07-12T03:38:16.867Z"
   },
   {
    "duration": 818,
    "start_time": "2023-07-12T03:38:16.874Z"
   },
   {
    "duration": 10,
    "start_time": "2023-07-12T03:38:17.693Z"
   },
   {
    "duration": 34,
    "start_time": "2023-07-12T03:38:17.705Z"
   },
   {
    "duration": 3,
    "start_time": "2023-07-12T06:22:53.459Z"
   },
   {
    "duration": 46,
    "start_time": "2023-07-12T06:22:53.463Z"
   },
   {
    "duration": 32,
    "start_time": "2023-07-12T06:22:53.510Z"
   },
   {
    "duration": 39,
    "start_time": "2023-07-12T06:22:53.545Z"
   },
   {
    "duration": 13,
    "start_time": "2023-07-12T06:22:53.585Z"
   },
   {
    "duration": 63,
    "start_time": "2023-07-12T06:22:53.600Z"
   },
   {
    "duration": 15,
    "start_time": "2023-07-12T06:22:53.664Z"
   },
   {
    "duration": 32,
    "start_time": "2023-07-12T06:22:53.681Z"
   },
   {
    "duration": 45,
    "start_time": "2023-07-12T06:22:53.715Z"
   },
   {
    "duration": 12,
    "start_time": "2023-07-12T06:22:53.762Z"
   },
   {
    "duration": 9,
    "start_time": "2023-07-12T06:22:53.777Z"
   },
   {
    "duration": 46,
    "start_time": "2023-07-12T06:22:53.788Z"
   },
   {
    "duration": 15,
    "start_time": "2023-07-12T06:22:53.836Z"
   },
   {
    "duration": 197,
    "start_time": "2023-07-12T06:22:53.852Z"
   },
   {
    "duration": 5,
    "start_time": "2023-07-12T06:22:54.051Z"
   },
   {
    "duration": 186,
    "start_time": "2023-07-12T06:22:54.058Z"
   },
   {
    "duration": 6,
    "start_time": "2023-07-12T06:22:54.246Z"
   },
   {
    "duration": 285,
    "start_time": "2023-07-12T06:22:54.255Z"
   },
   {
    "duration": 395,
    "start_time": "2023-07-12T06:22:54.542Z"
   },
   {
    "duration": 8,
    "start_time": "2023-07-12T06:22:54.939Z"
   },
   {
    "duration": 207,
    "start_time": "2023-07-12T06:22:54.949Z"
   },
   {
    "duration": 7,
    "start_time": "2023-07-12T06:22:55.158Z"
   },
   {
    "duration": 180,
    "start_time": "2023-07-12T06:22:55.166Z"
   },
   {
    "duration": 25,
    "start_time": "2023-07-12T06:22:55.347Z"
   },
   {
    "duration": 15,
    "start_time": "2023-07-12T06:22:55.373Z"
   },
   {
    "duration": 35,
    "start_time": "2023-07-12T06:22:55.389Z"
   },
   {
    "duration": 392,
    "start_time": "2023-07-12T06:22:55.425Z"
   },
   {
    "duration": 388,
    "start_time": "2023-07-12T06:22:55.821Z"
   },
   {
    "duration": 1049,
    "start_time": "2023-07-12T06:22:56.221Z"
   },
   {
    "duration": 194,
    "start_time": "2023-07-12T06:22:57.272Z"
   },
   {
    "duration": 5,
    "start_time": "2023-07-12T06:22:57.467Z"
   },
   {
    "duration": 995,
    "start_time": "2023-07-12T06:22:57.473Z"
   },
   {
    "duration": 6,
    "start_time": "2023-07-12T06:22:58.469Z"
   },
   {
    "duration": 32,
    "start_time": "2023-07-12T06:22:58.477Z"
   },
   {
    "duration": 8,
    "start_time": "2023-07-12T06:32:41.634Z"
   },
   {
    "duration": 41,
    "start_time": "2023-07-12T06:32:41.644Z"
   },
   {
    "duration": 27,
    "start_time": "2023-07-12T06:32:41.686Z"
   },
   {
    "duration": 62,
    "start_time": "2023-07-12T06:32:41.721Z"
   },
   {
    "duration": 35,
    "start_time": "2023-07-12T06:32:41.786Z"
   },
   {
    "duration": 38,
    "start_time": "2023-07-12T06:32:41.832Z"
   },
   {
    "duration": 48,
    "start_time": "2023-07-12T06:32:41.871Z"
   },
   {
    "duration": 40,
    "start_time": "2023-07-12T06:32:41.930Z"
   },
   {
    "duration": 23,
    "start_time": "2023-07-12T06:32:41.972Z"
   },
   {
    "duration": 53,
    "start_time": "2023-07-12T06:32:41.997Z"
   },
   {
    "duration": 11,
    "start_time": "2023-07-12T06:32:42.053Z"
   },
   {
    "duration": 50,
    "start_time": "2023-07-12T06:32:42.067Z"
   },
   {
    "duration": 41,
    "start_time": "2023-07-12T06:32:42.119Z"
   },
   {
    "duration": 188,
    "start_time": "2023-07-12T06:32:42.164Z"
   },
   {
    "duration": 5,
    "start_time": "2023-07-12T06:32:42.355Z"
   },
   {
    "duration": 119,
    "start_time": "2023-07-12T06:32:42.362Z"
   },
   {
    "duration": 4,
    "start_time": "2023-07-12T06:32:42.483Z"
   },
   {
    "duration": 248,
    "start_time": "2023-07-12T06:32:42.501Z"
   },
   {
    "duration": 388,
    "start_time": "2023-07-12T06:32:42.751Z"
   },
   {
    "duration": 10,
    "start_time": "2023-07-12T06:32:43.147Z"
   },
   {
    "duration": 200,
    "start_time": "2023-07-12T06:32:43.158Z"
   },
   {
    "duration": 9,
    "start_time": "2023-07-12T06:32:43.360Z"
   },
   {
    "duration": 175,
    "start_time": "2023-07-12T06:32:43.370Z"
   },
   {
    "duration": 31,
    "start_time": "2023-07-12T06:32:43.546Z"
   },
   {
    "duration": 42,
    "start_time": "2023-07-12T06:32:43.579Z"
   },
   {
    "duration": 55,
    "start_time": "2023-07-12T06:32:43.627Z"
   },
   {
    "duration": 339,
    "start_time": "2023-07-12T06:32:43.684Z"
   },
   {
    "duration": 366,
    "start_time": "2023-07-12T06:32:44.025Z"
   },
   {
    "duration": 1064,
    "start_time": "2023-07-12T06:32:44.393Z"
   },
   {
    "duration": 285,
    "start_time": "2023-07-12T06:32:45.458Z"
   },
   {
    "duration": 8,
    "start_time": "2023-07-12T06:32:45.745Z"
   },
   {
    "duration": 1232,
    "start_time": "2023-07-12T06:32:45.755Z"
   },
   {
    "duration": 5,
    "start_time": "2023-07-12T06:32:46.989Z"
   },
   {
    "duration": 39,
    "start_time": "2023-07-12T06:32:47.004Z"
   },
   {
    "duration": 10,
    "start_time": "2023-07-12T06:33:00.801Z"
   },
   {
    "duration": 120,
    "start_time": "2023-07-12T06:33:00.826Z"
   },
   {
    "duration": 72,
    "start_time": "2023-07-12T06:33:00.950Z"
   },
   {
    "duration": 89,
    "start_time": "2023-07-12T06:33:01.024Z"
   },
   {
    "duration": 91,
    "start_time": "2023-07-12T06:33:01.118Z"
   },
   {
    "duration": 125,
    "start_time": "2023-07-12T06:33:01.214Z"
   },
   {
    "duration": 25,
    "start_time": "2023-07-12T06:33:01.340Z"
   },
   {
    "duration": 77,
    "start_time": "2023-07-12T06:33:01.366Z"
   },
   {
    "duration": 44,
    "start_time": "2023-07-12T06:33:01.445Z"
   },
   {
    "duration": 68,
    "start_time": "2023-07-12T06:33:01.491Z"
   },
   {
    "duration": 37,
    "start_time": "2023-07-12T06:33:01.561Z"
   },
   {
    "duration": 60,
    "start_time": "2023-07-12T06:33:01.601Z"
   },
   {
    "duration": 74,
    "start_time": "2023-07-12T06:33:01.662Z"
   },
   {
    "duration": 237,
    "start_time": "2023-07-12T06:33:01.738Z"
   },
   {
    "duration": 5,
    "start_time": "2023-07-12T06:33:01.978Z"
   },
   {
    "duration": 192,
    "start_time": "2023-07-12T06:33:01.985Z"
   },
   {
    "duration": 4,
    "start_time": "2023-07-12T06:33:02.179Z"
   },
   {
    "duration": 302,
    "start_time": "2023-07-12T06:33:02.184Z"
   },
   {
    "duration": 411,
    "start_time": "2023-07-12T06:33:02.487Z"
   },
   {
    "duration": 11,
    "start_time": "2023-07-12T06:33:02.912Z"
   },
   {
    "duration": 298,
    "start_time": "2023-07-12T06:33:02.925Z"
   },
   {
    "duration": 14,
    "start_time": "2023-07-12T06:33:03.224Z"
   },
   {
    "duration": 186,
    "start_time": "2023-07-12T06:33:03.243Z"
   },
   {
    "duration": 30,
    "start_time": "2023-07-12T06:33:03.433Z"
   },
   {
    "duration": 19,
    "start_time": "2023-07-12T06:33:03.465Z"
   },
   {
    "duration": 32,
    "start_time": "2023-07-12T06:33:03.485Z"
   },
   {
    "duration": 383,
    "start_time": "2023-07-12T06:33:03.534Z"
   },
   {
    "duration": 450,
    "start_time": "2023-07-12T06:33:03.923Z"
   },
   {
    "duration": 1120,
    "start_time": "2023-07-12T06:33:04.377Z"
   },
   {
    "duration": 263,
    "start_time": "2023-07-12T06:33:05.511Z"
   },
   {
    "duration": 15,
    "start_time": "2023-07-12T06:33:05.776Z"
   },
   {
    "duration": 1144,
    "start_time": "2023-07-12T06:33:05.793Z"
   },
   {
    "duration": 9,
    "start_time": "2023-07-12T06:33:06.950Z"
   },
   {
    "duration": 23,
    "start_time": "2023-07-12T06:33:06.961Z"
   },
   {
    "duration": 4,
    "start_time": "2023-07-12T06:34:57.794Z"
   },
   {
    "duration": 79,
    "start_time": "2023-07-12T06:34:57.804Z"
   },
   {
    "duration": 29,
    "start_time": "2023-07-12T06:34:57.885Z"
   },
   {
    "duration": 117,
    "start_time": "2023-07-12T06:34:57.916Z"
   },
   {
    "duration": 22,
    "start_time": "2023-07-12T06:34:58.035Z"
   },
   {
    "duration": 109,
    "start_time": "2023-07-12T06:34:58.059Z"
   },
   {
    "duration": 47,
    "start_time": "2023-07-12T06:34:58.171Z"
   },
   {
    "duration": 37,
    "start_time": "2023-07-12T06:34:58.221Z"
   },
   {
    "duration": 8,
    "start_time": "2023-07-12T06:34:58.262Z"
   },
   {
    "duration": 9,
    "start_time": "2023-07-12T06:34:58.272Z"
   },
   {
    "duration": 13,
    "start_time": "2023-07-12T06:34:58.283Z"
   },
   {
    "duration": 46,
    "start_time": "2023-07-12T06:34:58.298Z"
   },
   {
    "duration": 9,
    "start_time": "2023-07-12T06:34:58.346Z"
   },
   {
    "duration": 17,
    "start_time": "2023-07-12T06:34:58.357Z"
   },
   {
    "duration": 262,
    "start_time": "2023-07-12T06:34:58.375Z"
   },
   {
    "duration": 13,
    "start_time": "2023-07-12T06:34:58.638Z"
   },
   {
    "duration": 104,
    "start_time": "2023-07-12T06:34:58.653Z"
   },
   {
    "duration": 5,
    "start_time": "2023-07-12T06:34:58.759Z"
   },
   {
    "duration": 182,
    "start_time": "2023-07-12T06:34:58.766Z"
   },
   {
    "duration": 513,
    "start_time": "2023-07-12T06:34:58.950Z"
   },
   {
    "duration": 10,
    "start_time": "2023-07-12T06:34:59.465Z"
   },
   {
    "duration": 260,
    "start_time": "2023-07-12T06:34:59.477Z"
   },
   {
    "duration": 11,
    "start_time": "2023-07-12T06:34:59.739Z"
   },
   {
    "duration": 179,
    "start_time": "2023-07-12T06:34:59.754Z"
   },
   {
    "duration": 30,
    "start_time": "2023-07-12T06:34:59.934Z"
   },
   {
    "duration": 19,
    "start_time": "2023-07-12T06:34:59.966Z"
   },
   {
    "duration": 36,
    "start_time": "2023-07-12T06:34:59.989Z"
   },
   {
    "duration": 498,
    "start_time": "2023-07-12T06:35:00.026Z"
   },
   {
    "duration": 415,
    "start_time": "2023-07-12T06:35:00.531Z"
   },
   {
    "duration": 982,
    "start_time": "2023-07-12T06:35:00.948Z"
   },
   {
    "duration": 196,
    "start_time": "2023-07-12T06:35:01.942Z"
   },
   {
    "duration": 9,
    "start_time": "2023-07-12T06:35:02.144Z"
   },
   {
    "duration": 978,
    "start_time": "2023-07-12T06:35:02.155Z"
   },
   {
    "duration": 7,
    "start_time": "2023-07-12T06:35:03.134Z"
   },
   {
    "duration": 11,
    "start_time": "2023-07-12T06:35:03.142Z"
   },
   {
    "duration": 4,
    "start_time": "2023-07-12T06:43:19.234Z"
   },
   {
    "duration": 44,
    "start_time": "2023-07-12T06:43:19.239Z"
   },
   {
    "duration": 12,
    "start_time": "2023-07-12T06:43:19.285Z"
   },
   {
    "duration": 64,
    "start_time": "2023-07-12T06:43:19.298Z"
   },
   {
    "duration": 16,
    "start_time": "2023-07-12T06:43:19.365Z"
   },
   {
    "duration": 59,
    "start_time": "2023-07-12T06:43:19.383Z"
   },
   {
    "duration": 34,
    "start_time": "2023-07-12T06:43:19.444Z"
   },
   {
    "duration": 9,
    "start_time": "2023-07-12T06:43:19.480Z"
   },
   {
    "duration": 53,
    "start_time": "2023-07-12T06:43:19.490Z"
   },
   {
    "duration": 10,
    "start_time": "2023-07-12T06:43:19.545Z"
   },
   {
    "duration": 19,
    "start_time": "2023-07-12T06:43:19.556Z"
   },
   {
    "duration": 17,
    "start_time": "2023-07-12T06:43:19.577Z"
   },
   {
    "duration": 42,
    "start_time": "2023-07-12T06:43:19.597Z"
   },
   {
    "duration": 11,
    "start_time": "2023-07-12T06:43:19.643Z"
   },
   {
    "duration": 16,
    "start_time": "2023-07-12T06:43:19.656Z"
   },
   {
    "duration": 201,
    "start_time": "2023-07-12T06:43:19.674Z"
   },
   {
    "duration": 5,
    "start_time": "2023-07-12T06:43:19.877Z"
   },
   {
    "duration": 98,
    "start_time": "2023-07-12T06:43:19.883Z"
   },
   {
    "duration": 5,
    "start_time": "2023-07-12T06:43:19.983Z"
   },
   {
    "duration": 195,
    "start_time": "2023-07-12T06:43:19.989Z"
   },
   {
    "duration": 367,
    "start_time": "2023-07-12T06:43:20.186Z"
   },
   {
    "duration": 8,
    "start_time": "2023-07-12T06:43:20.554Z"
   },
   {
    "duration": 269,
    "start_time": "2023-07-12T06:43:20.564Z"
   },
   {
    "duration": 7,
    "start_time": "2023-07-12T06:43:20.838Z"
   },
   {
    "duration": 158,
    "start_time": "2023-07-12T06:43:20.847Z"
   },
   {
    "duration": 30,
    "start_time": "2023-07-12T06:43:21.017Z"
   },
   {
    "duration": 16,
    "start_time": "2023-07-12T06:43:21.049Z"
   },
   {
    "duration": 16,
    "start_time": "2023-07-12T06:43:21.067Z"
   },
   {
    "duration": 373,
    "start_time": "2023-07-12T06:43:21.085Z"
   },
   {
    "duration": 337,
    "start_time": "2023-07-12T06:43:21.460Z"
   },
   {
    "duration": 942,
    "start_time": "2023-07-12T06:43:21.798Z"
   },
   {
    "duration": 242,
    "start_time": "2023-07-12T06:43:22.742Z"
   },
   {
    "duration": 6,
    "start_time": "2023-07-12T06:43:22.987Z"
   },
   {
    "duration": 939,
    "start_time": "2023-07-12T06:43:23.000Z"
   },
   {
    "duration": 5,
    "start_time": "2023-07-12T06:43:23.941Z"
   },
   {
    "duration": 16,
    "start_time": "2023-07-12T06:43:23.948Z"
   },
   {
    "duration": 3,
    "start_time": "2023-07-12T06:48:42.059Z"
   },
   {
    "duration": 52,
    "start_time": "2023-07-12T06:48:42.065Z"
   },
   {
    "duration": 18,
    "start_time": "2023-07-12T06:48:42.118Z"
   },
   {
    "duration": 40,
    "start_time": "2023-07-12T06:48:42.139Z"
   },
   {
    "duration": 12,
    "start_time": "2023-07-12T06:48:42.180Z"
   },
   {
    "duration": 39,
    "start_time": "2023-07-12T06:48:42.194Z"
   },
   {
    "duration": 13,
    "start_time": "2023-07-12T06:48:42.236Z"
   },
   {
    "duration": 6,
    "start_time": "2023-07-12T06:48:42.251Z"
   },
   {
    "duration": 8,
    "start_time": "2023-07-12T06:48:42.259Z"
   },
   {
    "duration": 8,
    "start_time": "2023-07-12T06:48:42.270Z"
   },
   {
    "duration": 10,
    "start_time": "2023-07-12T06:48:42.279Z"
   },
   {
    "duration": 31,
    "start_time": "2023-07-12T06:48:42.290Z"
   },
   {
    "duration": 29,
    "start_time": "2023-07-12T06:48:42.322Z"
   },
   {
    "duration": 8,
    "start_time": "2023-07-12T06:48:42.352Z"
   },
   {
    "duration": 12,
    "start_time": "2023-07-12T06:48:42.362Z"
   },
   {
    "duration": 177,
    "start_time": "2023-07-12T06:48:42.375Z"
   },
   {
    "duration": 618,
    "start_time": "2023-07-12T06:48:42.554Z"
   },
   {
    "duration": 6,
    "start_time": "2023-07-12T06:48:43.174Z"
   },
   {
    "duration": 243,
    "start_time": "2023-07-12T06:48:43.182Z"
   },
   {
    "duration": 7,
    "start_time": "2023-07-12T06:48:43.428Z"
   },
   {
    "duration": 202,
    "start_time": "2023-07-12T06:48:43.437Z"
   },
   {
    "duration": 369,
    "start_time": "2023-07-12T06:48:43.640Z"
   },
   {
    "duration": 8,
    "start_time": "2023-07-12T06:48:44.010Z"
   },
   {
    "duration": 200,
    "start_time": "2023-07-12T06:48:44.020Z"
   },
   {
    "duration": 8,
    "start_time": "2023-07-12T06:48:44.221Z"
   },
   {
    "duration": 149,
    "start_time": "2023-07-12T06:48:44.230Z"
   },
   {
    "duration": 45,
    "start_time": "2023-07-12T06:48:44.381Z"
   },
   {
    "duration": 23,
    "start_time": "2023-07-12T06:48:44.429Z"
   },
   {
    "duration": 21,
    "start_time": "2023-07-12T06:48:44.454Z"
   },
   {
    "duration": 327,
    "start_time": "2023-07-12T06:48:44.476Z"
   },
   {
    "duration": 284,
    "start_time": "2023-07-12T06:48:44.804Z"
   },
   {
    "duration": 929,
    "start_time": "2023-07-12T06:48:45.089Z"
   },
   {
    "duration": 222,
    "start_time": "2023-07-12T06:48:46.019Z"
   },
   {
    "duration": 5,
    "start_time": "2023-07-12T06:48:46.243Z"
   },
   {
    "duration": 931,
    "start_time": "2023-07-12T06:48:46.250Z"
   },
   {
    "duration": 5,
    "start_time": "2023-07-12T06:48:47.183Z"
   },
   {
    "duration": 64,
    "start_time": "2023-07-12T06:48:47.208Z"
   },
   {
    "duration": 3,
    "start_time": "2023-07-12T06:49:56.373Z"
   },
   {
    "duration": 91,
    "start_time": "2023-07-12T06:49:56.378Z"
   },
   {
    "duration": 59,
    "start_time": "2023-07-12T06:49:56.470Z"
   },
   {
    "duration": 99,
    "start_time": "2023-07-12T06:49:56.534Z"
   },
   {
    "duration": 15,
    "start_time": "2023-07-12T06:49:56.635Z"
   },
   {
    "duration": 87,
    "start_time": "2023-07-12T06:49:56.652Z"
   },
   {
    "duration": 16,
    "start_time": "2023-07-12T06:49:56.740Z"
   },
   {
    "duration": 30,
    "start_time": "2023-07-12T06:49:56.758Z"
   },
   {
    "duration": 54,
    "start_time": "2023-07-12T06:49:56.791Z"
   },
   {
    "duration": 11,
    "start_time": "2023-07-12T06:49:56.847Z"
   },
   {
    "duration": 5,
    "start_time": "2023-07-12T06:49:56.859Z"
   },
   {
    "duration": 22,
    "start_time": "2023-07-12T06:49:56.866Z"
   },
   {
    "duration": 6,
    "start_time": "2023-07-12T06:49:56.889Z"
   },
   {
    "duration": 44,
    "start_time": "2023-07-12T06:49:56.897Z"
   },
   {
    "duration": 9,
    "start_time": "2023-07-12T06:49:56.943Z"
   },
   {
    "duration": 139,
    "start_time": "2023-07-12T06:49:56.954Z"
   },
   {
    "duration": 159,
    "start_time": "2023-07-12T06:49:57.094Z"
   },
   {
    "duration": 0,
    "start_time": "2023-07-12T06:49:57.255Z"
   },
   {
    "duration": 0,
    "start_time": "2023-07-12T06:49:57.256Z"
   },
   {
    "duration": 0,
    "start_time": "2023-07-12T06:49:57.257Z"
   },
   {
    "duration": 0,
    "start_time": "2023-07-12T06:49:57.258Z"
   },
   {
    "duration": 0,
    "start_time": "2023-07-12T06:49:57.258Z"
   },
   {
    "duration": 0,
    "start_time": "2023-07-12T06:49:57.259Z"
   },
   {
    "duration": 0,
    "start_time": "2023-07-12T06:49:57.260Z"
   },
   {
    "duration": 0,
    "start_time": "2023-07-12T06:49:57.262Z"
   },
   {
    "duration": 0,
    "start_time": "2023-07-12T06:49:57.263Z"
   },
   {
    "duration": 0,
    "start_time": "2023-07-12T06:49:57.263Z"
   },
   {
    "duration": 0,
    "start_time": "2023-07-12T06:49:57.264Z"
   },
   {
    "duration": 0,
    "start_time": "2023-07-12T06:49:57.265Z"
   },
   {
    "duration": 0,
    "start_time": "2023-07-12T06:49:57.266Z"
   },
   {
    "duration": 0,
    "start_time": "2023-07-12T06:49:57.267Z"
   },
   {
    "duration": 0,
    "start_time": "2023-07-12T06:49:57.268Z"
   },
   {
    "duration": 0,
    "start_time": "2023-07-12T06:49:57.269Z"
   },
   {
    "duration": 0,
    "start_time": "2023-07-12T06:49:57.270Z"
   },
   {
    "duration": 0,
    "start_time": "2023-07-12T06:49:57.271Z"
   },
   {
    "duration": 0,
    "start_time": "2023-07-12T06:49:57.272Z"
   },
   {
    "duration": 0,
    "start_time": "2023-07-12T06:49:57.273Z"
   },
   {
    "duration": 11,
    "start_time": "2023-07-12T06:52:40.414Z"
   },
   {
    "duration": 49,
    "start_time": "2023-07-12T06:52:40.426Z"
   },
   {
    "duration": 14,
    "start_time": "2023-07-12T06:52:40.477Z"
   },
   {
    "duration": 77,
    "start_time": "2023-07-12T06:52:40.493Z"
   },
   {
    "duration": 16,
    "start_time": "2023-07-12T06:52:40.572Z"
   },
   {
    "duration": 38,
    "start_time": "2023-07-12T06:52:40.591Z"
   },
   {
    "duration": 30,
    "start_time": "2023-07-12T06:52:40.630Z"
   },
   {
    "duration": 27,
    "start_time": "2023-07-12T06:52:40.661Z"
   },
   {
    "duration": 7,
    "start_time": "2023-07-12T06:52:40.691Z"
   },
   {
    "duration": 39,
    "start_time": "2023-07-12T06:52:40.699Z"
   },
   {
    "duration": 5,
    "start_time": "2023-07-12T06:52:40.740Z"
   },
   {
    "duration": 27,
    "start_time": "2023-07-12T06:52:40.747Z"
   },
   {
    "duration": 17,
    "start_time": "2023-07-12T06:52:40.775Z"
   },
   {
    "duration": 19,
    "start_time": "2023-07-12T06:52:40.794Z"
   },
   {
    "duration": 28,
    "start_time": "2023-07-12T06:52:40.822Z"
   },
   {
    "duration": 199,
    "start_time": "2023-07-12T06:52:40.851Z"
   },
   {
    "duration": 10,
    "start_time": "2023-07-12T06:52:41.052Z"
   },
   {
    "duration": 0,
    "start_time": "2023-07-12T06:52:41.064Z"
   },
   {
    "duration": 0,
    "start_time": "2023-07-12T06:52:41.066Z"
   },
   {
    "duration": 0,
    "start_time": "2023-07-12T06:52:41.067Z"
   },
   {
    "duration": 0,
    "start_time": "2023-07-12T06:52:41.069Z"
   },
   {
    "duration": 0,
    "start_time": "2023-07-12T06:52:41.070Z"
   },
   {
    "duration": 0,
    "start_time": "2023-07-12T06:52:41.071Z"
   },
   {
    "duration": 0,
    "start_time": "2023-07-12T06:52:41.072Z"
   },
   {
    "duration": 0,
    "start_time": "2023-07-12T06:52:41.073Z"
   },
   {
    "duration": 0,
    "start_time": "2023-07-12T06:52:41.075Z"
   },
   {
    "duration": 0,
    "start_time": "2023-07-12T06:52:41.076Z"
   },
   {
    "duration": 0,
    "start_time": "2023-07-12T06:52:41.077Z"
   },
   {
    "duration": 0,
    "start_time": "2023-07-12T06:52:41.106Z"
   },
   {
    "duration": 0,
    "start_time": "2023-07-12T06:52:41.107Z"
   },
   {
    "duration": 0,
    "start_time": "2023-07-12T06:52:41.107Z"
   },
   {
    "duration": 0,
    "start_time": "2023-07-12T06:52:41.108Z"
   },
   {
    "duration": 0,
    "start_time": "2023-07-12T06:52:41.108Z"
   },
   {
    "duration": 0,
    "start_time": "2023-07-12T06:52:41.109Z"
   },
   {
    "duration": 0,
    "start_time": "2023-07-12T06:52:41.110Z"
   },
   {
    "duration": 0,
    "start_time": "2023-07-12T06:52:41.110Z"
   },
   {
    "duration": 0,
    "start_time": "2023-07-12T06:52:41.111Z"
   },
   {
    "duration": 3,
    "start_time": "2023-07-12T06:55:51.536Z"
   },
   {
    "duration": 50,
    "start_time": "2023-07-12T06:55:51.542Z"
   },
   {
    "duration": 38,
    "start_time": "2023-07-12T06:55:51.594Z"
   },
   {
    "duration": 51,
    "start_time": "2023-07-12T06:55:51.633Z"
   },
   {
    "duration": 12,
    "start_time": "2023-07-12T06:55:51.686Z"
   },
   {
    "duration": 50,
    "start_time": "2023-07-12T06:55:51.714Z"
   },
   {
    "duration": 12,
    "start_time": "2023-07-12T06:55:51.765Z"
   },
   {
    "duration": 16,
    "start_time": "2023-07-12T06:55:51.779Z"
   },
   {
    "duration": 20,
    "start_time": "2023-07-12T06:55:51.796Z"
   },
   {
    "duration": 44,
    "start_time": "2023-07-12T06:55:51.818Z"
   },
   {
    "duration": 4,
    "start_time": "2023-07-12T06:55:51.864Z"
   },
   {
    "duration": 10,
    "start_time": "2023-07-12T06:55:51.869Z"
   },
   {
    "duration": 6,
    "start_time": "2023-07-12T06:55:51.881Z"
   },
   {
    "duration": 21,
    "start_time": "2023-07-12T06:55:51.888Z"
   },
   {
    "duration": 55,
    "start_time": "2023-07-12T06:55:51.910Z"
   },
   {
    "duration": 184,
    "start_time": "2023-07-12T06:55:51.967Z"
   },
   {
    "duration": 125,
    "start_time": "2023-07-12T06:55:52.153Z"
   },
   {
    "duration": 0,
    "start_time": "2023-07-12T06:55:52.280Z"
   },
   {
    "duration": 0,
    "start_time": "2023-07-12T06:55:52.282Z"
   },
   {
    "duration": 0,
    "start_time": "2023-07-12T06:55:52.283Z"
   },
   {
    "duration": 0,
    "start_time": "2023-07-12T06:55:52.284Z"
   },
   {
    "duration": 0,
    "start_time": "2023-07-12T06:55:52.286Z"
   },
   {
    "duration": 0,
    "start_time": "2023-07-12T06:55:52.287Z"
   },
   {
    "duration": 1,
    "start_time": "2023-07-12T06:55:52.288Z"
   },
   {
    "duration": 0,
    "start_time": "2023-07-12T06:55:52.290Z"
   },
   {
    "duration": 0,
    "start_time": "2023-07-12T06:55:52.291Z"
   },
   {
    "duration": 0,
    "start_time": "2023-07-12T06:55:52.293Z"
   },
   {
    "duration": 0,
    "start_time": "2023-07-12T06:55:52.294Z"
   },
   {
    "duration": 0,
    "start_time": "2023-07-12T06:55:52.295Z"
   },
   {
    "duration": 0,
    "start_time": "2023-07-12T06:55:52.297Z"
   },
   {
    "duration": 0,
    "start_time": "2023-07-12T06:55:52.298Z"
   },
   {
    "duration": 0,
    "start_time": "2023-07-12T06:55:52.299Z"
   },
   {
    "duration": 0,
    "start_time": "2023-07-12T06:55:52.300Z"
   },
   {
    "duration": 1,
    "start_time": "2023-07-12T06:55:52.300Z"
   },
   {
    "duration": 0,
    "start_time": "2023-07-12T06:55:52.301Z"
   },
   {
    "duration": 0,
    "start_time": "2023-07-12T06:55:52.302Z"
   },
   {
    "duration": 0,
    "start_time": "2023-07-12T06:55:52.302Z"
   },
   {
    "duration": 7,
    "start_time": "2023-07-12T06:56:33.022Z"
   },
   {
    "duration": 40,
    "start_time": "2023-07-12T06:56:33.031Z"
   },
   {
    "duration": 11,
    "start_time": "2023-07-12T06:56:33.073Z"
   },
   {
    "duration": 65,
    "start_time": "2023-07-12T06:56:33.086Z"
   },
   {
    "duration": 12,
    "start_time": "2023-07-12T06:56:33.152Z"
   },
   {
    "duration": 25,
    "start_time": "2023-07-12T06:56:33.166Z"
   },
   {
    "duration": 36,
    "start_time": "2023-07-12T06:56:33.193Z"
   },
   {
    "duration": 11,
    "start_time": "2023-07-12T06:56:33.234Z"
   },
   {
    "duration": 9,
    "start_time": "2023-07-12T06:56:33.246Z"
   },
   {
    "duration": 10,
    "start_time": "2023-07-12T06:56:33.257Z"
   },
   {
    "duration": 20,
    "start_time": "2023-07-12T06:56:33.269Z"
   },
   {
    "duration": 37,
    "start_time": "2023-07-12T06:56:33.291Z"
   },
   {
    "duration": 20,
    "start_time": "2023-07-12T06:56:33.330Z"
   },
   {
    "duration": 9,
    "start_time": "2023-07-12T06:56:33.353Z"
   },
   {
    "duration": 11,
    "start_time": "2023-07-12T06:56:33.364Z"
   },
   {
    "duration": 143,
    "start_time": "2023-07-12T06:56:33.377Z"
   },
   {
    "duration": 139,
    "start_time": "2023-07-12T06:56:33.522Z"
   },
   {
    "duration": 0,
    "start_time": "2023-07-12T06:56:33.662Z"
   },
   {
    "duration": 0,
    "start_time": "2023-07-12T06:56:33.664Z"
   },
   {
    "duration": 0,
    "start_time": "2023-07-12T06:56:33.665Z"
   },
   {
    "duration": 0,
    "start_time": "2023-07-12T06:56:33.666Z"
   },
   {
    "duration": 0,
    "start_time": "2023-07-12T06:56:33.667Z"
   },
   {
    "duration": 0,
    "start_time": "2023-07-12T06:56:33.669Z"
   },
   {
    "duration": 0,
    "start_time": "2023-07-12T06:56:33.670Z"
   },
   {
    "duration": 0,
    "start_time": "2023-07-12T06:56:33.671Z"
   },
   {
    "duration": 0,
    "start_time": "2023-07-12T06:56:33.672Z"
   },
   {
    "duration": 0,
    "start_time": "2023-07-12T06:56:33.673Z"
   },
   {
    "duration": 0,
    "start_time": "2023-07-12T06:56:33.674Z"
   },
   {
    "duration": 0,
    "start_time": "2023-07-12T06:56:33.675Z"
   },
   {
    "duration": 0,
    "start_time": "2023-07-12T06:56:33.676Z"
   },
   {
    "duration": 0,
    "start_time": "2023-07-12T06:56:33.677Z"
   },
   {
    "duration": 0,
    "start_time": "2023-07-12T06:56:33.679Z"
   },
   {
    "duration": 0,
    "start_time": "2023-07-12T06:56:33.679Z"
   },
   {
    "duration": 0,
    "start_time": "2023-07-12T06:56:33.680Z"
   },
   {
    "duration": 0,
    "start_time": "2023-07-12T06:56:33.681Z"
   },
   {
    "duration": 0,
    "start_time": "2023-07-12T06:56:33.682Z"
   },
   {
    "duration": 0,
    "start_time": "2023-07-12T06:56:33.682Z"
   },
   {
    "duration": 3,
    "start_time": "2023-07-12T06:57:49.259Z"
   },
   {
    "duration": 49,
    "start_time": "2023-07-12T06:57:49.264Z"
   },
   {
    "duration": 13,
    "start_time": "2023-07-12T06:57:49.329Z"
   },
   {
    "duration": 34,
    "start_time": "2023-07-12T06:57:49.344Z"
   },
   {
    "duration": 12,
    "start_time": "2023-07-12T06:57:49.380Z"
   },
   {
    "duration": 30,
    "start_time": "2023-07-12T06:57:49.395Z"
   },
   {
    "duration": 32,
    "start_time": "2023-07-12T06:57:49.426Z"
   },
   {
    "duration": 5,
    "start_time": "2023-07-12T06:57:49.460Z"
   },
   {
    "duration": 8,
    "start_time": "2023-07-12T06:57:49.467Z"
   },
   {
    "duration": 7,
    "start_time": "2023-07-12T06:57:49.477Z"
   },
   {
    "duration": 4,
    "start_time": "2023-07-12T06:57:49.486Z"
   },
   {
    "duration": 62,
    "start_time": "2023-07-12T06:57:49.492Z"
   },
   {
    "duration": 6,
    "start_time": "2023-07-12T06:57:49.556Z"
   },
   {
    "duration": 4,
    "start_time": "2023-07-12T06:57:49.565Z"
   },
   {
    "duration": 9,
    "start_time": "2023-07-12T06:57:49.570Z"
   },
   {
    "duration": 161,
    "start_time": "2023-07-12T06:57:49.580Z"
   },
   {
    "duration": 5,
    "start_time": "2023-07-12T06:57:49.743Z"
   },
   {
    "duration": 105,
    "start_time": "2023-07-12T06:57:49.750Z"
   },
   {
    "duration": 5,
    "start_time": "2023-07-12T06:57:49.856Z"
   },
   {
    "duration": 170,
    "start_time": "2023-07-12T06:57:49.862Z"
   },
   {
    "duration": 404,
    "start_time": "2023-07-12T06:57:50.041Z"
   },
   {
    "duration": 11,
    "start_time": "2023-07-12T06:57:50.447Z"
   },
   {
    "duration": 262,
    "start_time": "2023-07-12T06:57:50.460Z"
   },
   {
    "duration": 9,
    "start_time": "2023-07-12T06:57:50.724Z"
   },
   {
    "duration": 156,
    "start_time": "2023-07-12T06:57:50.734Z"
   },
   {
    "duration": 37,
    "start_time": "2023-07-12T06:57:50.892Z"
   },
   {
    "duration": 29,
    "start_time": "2023-07-12T06:57:50.930Z"
   },
   {
    "duration": 14,
    "start_time": "2023-07-12T06:57:50.960Z"
   },
   {
    "duration": 370,
    "start_time": "2023-07-12T06:57:50.976Z"
   },
   {
    "duration": 305,
    "start_time": "2023-07-12T06:57:51.347Z"
   },
   {
    "duration": 951,
    "start_time": "2023-07-12T06:57:51.654Z"
   },
   {
    "duration": 173,
    "start_time": "2023-07-12T06:57:52.606Z"
   },
   {
    "duration": 5,
    "start_time": "2023-07-12T06:57:52.780Z"
   },
   {
    "duration": 926,
    "start_time": "2023-07-12T06:57:52.799Z"
   },
   {
    "duration": 14,
    "start_time": "2023-07-12T06:57:53.728Z"
   },
   {
    "duration": 12,
    "start_time": "2023-07-12T06:57:53.743Z"
   },
   {
    "duration": 4,
    "start_time": "2023-07-12T06:58:56.656Z"
   },
   {
    "duration": 47,
    "start_time": "2023-07-12T06:58:56.662Z"
   },
   {
    "duration": 23,
    "start_time": "2023-07-12T06:58:56.710Z"
   },
   {
    "duration": 38,
    "start_time": "2023-07-12T06:58:56.737Z"
   },
   {
    "duration": 12,
    "start_time": "2023-07-12T06:58:56.777Z"
   },
   {
    "duration": 47,
    "start_time": "2023-07-12T06:58:56.791Z"
   },
   {
    "duration": 17,
    "start_time": "2023-07-12T06:58:56.840Z"
   },
   {
    "duration": 7,
    "start_time": "2023-07-12T06:58:56.859Z"
   },
   {
    "duration": 21,
    "start_time": "2023-07-12T06:58:56.868Z"
   },
   {
    "duration": 7,
    "start_time": "2023-07-12T06:58:56.891Z"
   },
   {
    "duration": 38,
    "start_time": "2023-07-12T06:58:56.905Z"
   },
   {
    "duration": 18,
    "start_time": "2023-07-12T06:58:56.944Z"
   },
   {
    "duration": 9,
    "start_time": "2023-07-12T06:58:56.964Z"
   },
   {
    "duration": 8,
    "start_time": "2023-07-12T06:58:56.975Z"
   },
   {
    "duration": 11,
    "start_time": "2023-07-12T06:58:56.984Z"
   },
   {
    "duration": 166,
    "start_time": "2023-07-12T06:58:56.996Z"
   },
   {
    "duration": 172,
    "start_time": "2023-07-12T06:58:57.163Z"
   },
   {
    "duration": 5,
    "start_time": "2023-07-12T06:58:57.338Z"
   },
   {
    "duration": 112,
    "start_time": "2023-07-12T06:58:57.345Z"
   },
   {
    "duration": 4,
    "start_time": "2023-07-12T06:58:57.458Z"
   },
   {
    "duration": 276,
    "start_time": "2023-07-12T06:58:57.464Z"
   },
   {
    "duration": 402,
    "start_time": "2023-07-12T06:58:57.742Z"
   },
   {
    "duration": 10,
    "start_time": "2023-07-12T06:58:58.146Z"
   },
   {
    "duration": 219,
    "start_time": "2023-07-12T06:58:58.158Z"
   },
   {
    "duration": 8,
    "start_time": "2023-07-12T06:58:58.378Z"
   },
   {
    "duration": 203,
    "start_time": "2023-07-12T06:58:58.387Z"
   },
   {
    "duration": 36,
    "start_time": "2023-07-12T06:58:58.591Z"
   },
   {
    "duration": 40,
    "start_time": "2023-07-12T06:58:58.636Z"
   },
   {
    "duration": 20,
    "start_time": "2023-07-12T06:58:58.678Z"
   },
   {
    "duration": 386,
    "start_time": "2023-07-12T06:58:58.710Z"
   },
   {
    "duration": 309,
    "start_time": "2023-07-12T06:58:59.122Z"
   },
   {
    "duration": 930,
    "start_time": "2023-07-12T06:58:59.435Z"
   },
   {
    "duration": 179,
    "start_time": "2023-07-12T06:59:00.367Z"
   },
   {
    "duration": 6,
    "start_time": "2023-07-12T06:59:00.548Z"
   },
   {
    "duration": 952,
    "start_time": "2023-07-12T06:59:00.555Z"
   },
   {
    "duration": 12,
    "start_time": "2023-07-12T06:59:01.509Z"
   },
   {
    "duration": 62,
    "start_time": "2023-07-12T06:59:01.522Z"
   },
   {
    "duration": 7,
    "start_time": "2023-07-12T07:00:03.036Z"
   },
   {
    "duration": 104,
    "start_time": "2023-07-12T07:00:03.045Z"
   },
   {
    "duration": 18,
    "start_time": "2023-07-12T07:00:03.151Z"
   },
   {
    "duration": 45,
    "start_time": "2023-07-12T07:00:03.170Z"
   },
   {
    "duration": 13,
    "start_time": "2023-07-12T07:00:03.217Z"
   },
   {
    "duration": 57,
    "start_time": "2023-07-12T07:00:03.232Z"
   },
   {
    "duration": 43,
    "start_time": "2023-07-12T07:00:03.291Z"
   },
   {
    "duration": 26,
    "start_time": "2023-07-12T07:00:03.336Z"
   },
   {
    "duration": 28,
    "start_time": "2023-07-12T07:00:03.364Z"
   },
   {
    "duration": 53,
    "start_time": "2023-07-12T07:00:03.396Z"
   },
   {
    "duration": 4,
    "start_time": "2023-07-12T07:00:03.451Z"
   },
   {
    "duration": 16,
    "start_time": "2023-07-12T07:00:03.457Z"
   },
   {
    "duration": 11,
    "start_time": "2023-07-12T07:00:03.475Z"
   },
   {
    "duration": 5,
    "start_time": "2023-07-12T07:00:03.487Z"
   },
   {
    "duration": 62,
    "start_time": "2023-07-12T07:00:03.497Z"
   },
   {
    "duration": 188,
    "start_time": "2023-07-12T07:00:03.560Z"
   },
   {
    "duration": 149,
    "start_time": "2023-07-12T07:00:03.750Z"
   },
   {
    "duration": 11,
    "start_time": "2023-07-12T07:00:03.909Z"
   },
   {
    "duration": 133,
    "start_time": "2023-07-12T07:00:03.922Z"
   },
   {
    "duration": 6,
    "start_time": "2023-07-12T07:00:04.057Z"
   },
   {
    "duration": 226,
    "start_time": "2023-07-12T07:00:04.065Z"
   },
   {
    "duration": 454,
    "start_time": "2023-07-12T07:00:04.293Z"
   },
   {
    "duration": 12,
    "start_time": "2023-07-12T07:00:04.749Z"
   },
   {
    "duration": 262,
    "start_time": "2023-07-12T07:00:04.763Z"
   },
   {
    "duration": 10,
    "start_time": "2023-07-12T07:00:05.029Z"
   },
   {
    "duration": 292,
    "start_time": "2023-07-12T07:00:05.041Z"
   },
   {
    "duration": 36,
    "start_time": "2023-07-12T07:00:05.336Z"
   },
   {
    "duration": 40,
    "start_time": "2023-07-12T07:00:05.377Z"
   },
   {
    "duration": 62,
    "start_time": "2023-07-12T07:00:05.422Z"
   },
   {
    "duration": 476,
    "start_time": "2023-07-12T07:00:05.487Z"
   },
   {
    "duration": 397,
    "start_time": "2023-07-12T07:00:05.966Z"
   },
   {
    "duration": 1169,
    "start_time": "2023-07-12T07:00:06.364Z"
   },
   {
    "duration": 349,
    "start_time": "2023-07-12T07:00:07.542Z"
   },
   {
    "duration": 28,
    "start_time": "2023-07-12T07:00:07.893Z"
   },
   {
    "duration": 1054,
    "start_time": "2023-07-12T07:00:07.929Z"
   },
   {
    "duration": 7,
    "start_time": "2023-07-12T07:00:08.985Z"
   },
   {
    "duration": 47,
    "start_time": "2023-07-12T07:00:09.006Z"
   },
   {
    "duration": 4,
    "start_time": "2023-07-12T07:01:03.138Z"
   },
   {
    "duration": 40,
    "start_time": "2023-07-12T07:01:03.144Z"
   },
   {
    "duration": 11,
    "start_time": "2023-07-12T07:01:03.186Z"
   },
   {
    "duration": 64,
    "start_time": "2023-07-12T07:01:03.199Z"
   },
   {
    "duration": 12,
    "start_time": "2023-07-12T07:01:03.266Z"
   },
   {
    "duration": 67,
    "start_time": "2023-07-12T07:01:03.279Z"
   },
   {
    "duration": 13,
    "start_time": "2023-07-12T07:01:03.347Z"
   },
   {
    "duration": 47,
    "start_time": "2023-07-12T07:01:03.362Z"
   },
   {
    "duration": 32,
    "start_time": "2023-07-12T07:01:03.410Z"
   },
   {
    "duration": 14,
    "start_time": "2023-07-12T07:01:03.444Z"
   },
   {
    "duration": 9,
    "start_time": "2023-07-12T07:01:03.459Z"
   },
   {
    "duration": 17,
    "start_time": "2023-07-12T07:01:03.470Z"
   },
   {
    "duration": 6,
    "start_time": "2023-07-12T07:01:03.489Z"
   },
   {
    "duration": 49,
    "start_time": "2023-07-12T07:01:03.498Z"
   },
   {
    "duration": 15,
    "start_time": "2023-07-12T07:01:03.549Z"
   },
   {
    "duration": 160,
    "start_time": "2023-07-12T07:01:03.565Z"
   },
   {
    "duration": 17,
    "start_time": "2023-07-12T07:01:03.742Z"
   },
   {
    "duration": 0,
    "start_time": "2023-07-12T07:01:03.761Z"
   },
   {
    "duration": 0,
    "start_time": "2023-07-12T07:01:03.762Z"
   },
   {
    "duration": 0,
    "start_time": "2023-07-12T07:01:03.763Z"
   },
   {
    "duration": 0,
    "start_time": "2023-07-12T07:01:03.764Z"
   },
   {
    "duration": 0,
    "start_time": "2023-07-12T07:01:03.765Z"
   },
   {
    "duration": 0,
    "start_time": "2023-07-12T07:01:03.766Z"
   },
   {
    "duration": 0,
    "start_time": "2023-07-12T07:01:03.767Z"
   },
   {
    "duration": 0,
    "start_time": "2023-07-12T07:01:03.768Z"
   },
   {
    "duration": 0,
    "start_time": "2023-07-12T07:01:03.769Z"
   },
   {
    "duration": 0,
    "start_time": "2023-07-12T07:01:03.770Z"
   },
   {
    "duration": 0,
    "start_time": "2023-07-12T07:01:03.771Z"
   },
   {
    "duration": 0,
    "start_time": "2023-07-12T07:01:03.772Z"
   },
   {
    "duration": 0,
    "start_time": "2023-07-12T07:01:03.773Z"
   },
   {
    "duration": 0,
    "start_time": "2023-07-12T07:01:03.774Z"
   },
   {
    "duration": 0,
    "start_time": "2023-07-12T07:01:03.774Z"
   },
   {
    "duration": 0,
    "start_time": "2023-07-12T07:01:03.776Z"
   },
   {
    "duration": 0,
    "start_time": "2023-07-12T07:01:03.776Z"
   },
   {
    "duration": 0,
    "start_time": "2023-07-12T07:01:03.777Z"
   },
   {
    "duration": 0,
    "start_time": "2023-07-12T07:01:03.778Z"
   },
   {
    "duration": 0,
    "start_time": "2023-07-12T07:01:03.779Z"
   },
   {
    "duration": 7,
    "start_time": "2023-07-12T07:02:59.626Z"
   },
   {
    "duration": 44,
    "start_time": "2023-07-12T07:02:59.635Z"
   },
   {
    "duration": 14,
    "start_time": "2023-07-12T07:02:59.680Z"
   },
   {
    "duration": 88,
    "start_time": "2023-07-12T07:02:59.695Z"
   },
   {
    "duration": 34,
    "start_time": "2023-07-12T07:02:59.786Z"
   },
   {
    "duration": 38,
    "start_time": "2023-07-12T07:02:59.829Z"
   },
   {
    "duration": 14,
    "start_time": "2023-07-12T07:02:59.869Z"
   },
   {
    "duration": 6,
    "start_time": "2023-07-12T07:02:59.886Z"
   },
   {
    "duration": 16,
    "start_time": "2023-07-12T07:02:59.895Z"
   },
   {
    "duration": 42,
    "start_time": "2023-07-12T07:02:59.912Z"
   },
   {
    "duration": 5,
    "start_time": "2023-07-12T07:02:59.955Z"
   },
   {
    "duration": 12,
    "start_time": "2023-07-12T07:02:59.962Z"
   },
   {
    "duration": 6,
    "start_time": "2023-07-12T07:02:59.976Z"
   },
   {
    "duration": 6,
    "start_time": "2023-07-12T07:02:59.985Z"
   },
   {
    "duration": 22,
    "start_time": "2023-07-12T07:02:59.992Z"
   },
   {
    "duration": 176,
    "start_time": "2023-07-12T07:03:00.020Z"
   },
   {
    "duration": 35,
    "start_time": "2023-07-12T07:03:00.198Z"
   },
   {
    "duration": 150,
    "start_time": "2023-07-12T07:03:00.235Z"
   },
   {
    "duration": 7,
    "start_time": "2023-07-12T07:03:00.387Z"
   },
   {
    "duration": 262,
    "start_time": "2023-07-12T07:03:00.396Z"
   },
   {
    "duration": 405,
    "start_time": "2023-07-12T07:03:00.659Z"
   },
   {
    "duration": 9,
    "start_time": "2023-07-12T07:03:01.067Z"
   },
   {
    "duration": 274,
    "start_time": "2023-07-12T07:03:01.078Z"
   },
   {
    "duration": 7,
    "start_time": "2023-07-12T07:03:01.354Z"
   },
   {
    "duration": 187,
    "start_time": "2023-07-12T07:03:01.362Z"
   },
   {
    "duration": 41,
    "start_time": "2023-07-12T07:03:01.550Z"
   },
   {
    "duration": 67,
    "start_time": "2023-07-12T07:03:01.593Z"
   },
   {
    "duration": 113,
    "start_time": "2023-07-12T07:03:01.662Z"
   },
   {
    "duration": 633,
    "start_time": "2023-07-12T07:03:01.777Z"
   },
   {
    "duration": 427,
    "start_time": "2023-07-12T07:03:02.418Z"
   },
   {
    "duration": 1240,
    "start_time": "2023-07-12T07:03:02.848Z"
   },
   {
    "duration": 253,
    "start_time": "2023-07-12T07:03:04.090Z"
   },
   {
    "duration": 9,
    "start_time": "2023-07-12T07:03:04.345Z"
   },
   {
    "duration": 908,
    "start_time": "2023-07-12T07:03:04.356Z"
   },
   {
    "duration": 6,
    "start_time": "2023-07-12T07:03:05.267Z"
   },
   {
    "duration": 19,
    "start_time": "2023-07-12T07:03:05.275Z"
   },
   {
    "duration": 4,
    "start_time": "2023-07-12T07:05:29.648Z"
   },
   {
    "duration": 41,
    "start_time": "2023-07-12T07:05:29.654Z"
   },
   {
    "duration": 26,
    "start_time": "2023-07-12T07:05:29.697Z"
   },
   {
    "duration": 85,
    "start_time": "2023-07-12T07:05:29.732Z"
   },
   {
    "duration": 25,
    "start_time": "2023-07-12T07:05:29.824Z"
   },
   {
    "duration": 34,
    "start_time": "2023-07-12T07:05:29.852Z"
   },
   {
    "duration": 34,
    "start_time": "2023-07-12T07:05:29.887Z"
   },
   {
    "duration": 38,
    "start_time": "2023-07-12T07:05:29.923Z"
   },
   {
    "duration": 9,
    "start_time": "2023-07-12T07:05:29.964Z"
   },
   {
    "duration": 6,
    "start_time": "2023-07-12T07:05:29.975Z"
   },
   {
    "duration": 9,
    "start_time": "2023-07-12T07:05:29.983Z"
   },
   {
    "duration": 68,
    "start_time": "2023-07-12T07:05:29.993Z"
   },
   {
    "duration": 58,
    "start_time": "2023-07-12T07:05:30.063Z"
   },
   {
    "duration": 39,
    "start_time": "2023-07-12T07:05:30.122Z"
   },
   {
    "duration": 72,
    "start_time": "2023-07-12T07:05:30.163Z"
   },
   {
    "duration": 204,
    "start_time": "2023-07-12T07:05:30.237Z"
   },
   {
    "duration": 5,
    "start_time": "2023-07-12T07:05:30.443Z"
   },
   {
    "duration": 132,
    "start_time": "2023-07-12T07:05:30.450Z"
   },
   {
    "duration": 6,
    "start_time": "2023-07-12T07:05:30.585Z"
   },
   {
    "duration": 249,
    "start_time": "2023-07-12T07:05:30.592Z"
   },
   {
    "duration": 15,
    "start_time": "2023-07-12T07:05:30.843Z"
   },
   {
    "duration": 489,
    "start_time": "2023-07-12T07:05:30.860Z"
   },
   {
    "duration": 7,
    "start_time": "2023-07-12T07:05:31.351Z"
   },
   {
    "duration": 347,
    "start_time": "2023-07-12T07:05:31.362Z"
   },
   {
    "duration": 11,
    "start_time": "2023-07-12T07:05:31.710Z"
   },
   {
    "duration": 246,
    "start_time": "2023-07-12T07:05:31.722Z"
   },
   {
    "duration": 58,
    "start_time": "2023-07-12T07:05:31.971Z"
   },
   {
    "duration": 35,
    "start_time": "2023-07-12T07:05:32.038Z"
   },
   {
    "duration": 76,
    "start_time": "2023-07-12T07:05:32.075Z"
   },
   {
    "duration": 529,
    "start_time": "2023-07-12T07:05:32.153Z"
   },
   {
    "duration": 365,
    "start_time": "2023-07-12T07:05:32.684Z"
   },
   {
    "duration": 1122,
    "start_time": "2023-07-12T07:05:33.052Z"
   },
   {
    "duration": 218,
    "start_time": "2023-07-12T07:05:34.176Z"
   },
   {
    "duration": 21,
    "start_time": "2023-07-12T07:05:34.412Z"
   },
   {
    "duration": 1023,
    "start_time": "2023-07-12T07:05:34.437Z"
   },
   {
    "duration": 7,
    "start_time": "2023-07-12T07:05:35.462Z"
   },
   {
    "duration": 97,
    "start_time": "2023-07-12T07:05:35.471Z"
   },
   {
    "duration": 4,
    "start_time": "2023-07-12T07:08:25.148Z"
   },
   {
    "duration": 88,
    "start_time": "2023-07-12T07:08:25.154Z"
   },
   {
    "duration": 18,
    "start_time": "2023-07-12T07:08:25.244Z"
   },
   {
    "duration": 81,
    "start_time": "2023-07-12T07:08:25.264Z"
   },
   {
    "duration": 18,
    "start_time": "2023-07-12T07:08:25.346Z"
   },
   {
    "duration": 39,
    "start_time": "2023-07-12T07:08:25.366Z"
   },
   {
    "duration": 49,
    "start_time": "2023-07-12T07:08:25.418Z"
   },
   {
    "duration": 25,
    "start_time": "2023-07-12T07:08:25.469Z"
   },
   {
    "duration": 69,
    "start_time": "2023-07-12T07:08:25.497Z"
   },
   {
    "duration": 25,
    "start_time": "2023-07-12T07:08:25.568Z"
   },
   {
    "duration": 67,
    "start_time": "2023-07-12T07:08:25.595Z"
   },
   {
    "duration": 27,
    "start_time": "2023-07-12T07:08:25.664Z"
   },
   {
    "duration": 15,
    "start_time": "2023-07-12T07:08:25.693Z"
   },
   {
    "duration": 53,
    "start_time": "2023-07-12T07:08:25.710Z"
   },
   {
    "duration": 21,
    "start_time": "2023-07-12T07:08:25.765Z"
   },
   {
    "duration": 247,
    "start_time": "2023-07-12T07:08:25.788Z"
   },
   {
    "duration": 9,
    "start_time": "2023-07-12T07:08:26.048Z"
   },
   {
    "duration": 170,
    "start_time": "2023-07-12T07:08:26.058Z"
   },
   {
    "duration": 7,
    "start_time": "2023-07-12T07:08:26.230Z"
   },
   {
    "duration": 346,
    "start_time": "2023-07-12T07:08:26.239Z"
   },
   {
    "duration": 26,
    "start_time": "2023-07-12T07:08:26.588Z"
   },
   {
    "duration": 437,
    "start_time": "2023-07-12T07:08:26.616Z"
   },
   {
    "duration": 8,
    "start_time": "2023-07-12T07:08:27.055Z"
   },
   {
    "duration": 207,
    "start_time": "2023-07-12T07:08:27.066Z"
   },
   {
    "duration": 9,
    "start_time": "2023-07-12T07:08:27.275Z"
   },
   {
    "duration": 317,
    "start_time": "2023-07-12T07:08:27.287Z"
   },
   {
    "duration": 37,
    "start_time": "2023-07-12T07:08:27.615Z"
   },
   {
    "duration": 30,
    "start_time": "2023-07-12T07:08:27.654Z"
   },
   {
    "duration": 32,
    "start_time": "2023-07-12T07:08:27.686Z"
   },
   {
    "duration": 391,
    "start_time": "2023-07-12T07:08:27.720Z"
   },
   {
    "duration": 357,
    "start_time": "2023-07-12T07:08:28.113Z"
   },
   {
    "duration": 978,
    "start_time": "2023-07-12T07:08:28.471Z"
   },
   {
    "duration": 195,
    "start_time": "2023-07-12T07:08:29.450Z"
   },
   {
    "duration": 6,
    "start_time": "2023-07-12T07:08:29.647Z"
   },
   {
    "duration": 1001,
    "start_time": "2023-07-12T07:08:29.655Z"
   },
   {
    "duration": 6,
    "start_time": "2023-07-12T07:08:30.658Z"
   },
   {
    "duration": 111,
    "start_time": "2023-07-12T07:08:30.665Z"
   },
   {
    "duration": 4,
    "start_time": "2023-07-12T07:12:42.581Z"
   },
   {
    "duration": 81,
    "start_time": "2023-07-12T07:12:42.586Z"
   },
   {
    "duration": 12,
    "start_time": "2023-07-12T07:12:42.669Z"
   },
   {
    "duration": 61,
    "start_time": "2023-07-12T07:12:42.684Z"
   },
   {
    "duration": 11,
    "start_time": "2023-07-12T07:12:42.747Z"
   },
   {
    "duration": 31,
    "start_time": "2023-07-12T07:12:42.759Z"
   },
   {
    "duration": 18,
    "start_time": "2023-07-12T07:12:42.791Z"
   },
   {
    "duration": 36,
    "start_time": "2023-07-12T07:12:42.810Z"
   },
   {
    "duration": 10,
    "start_time": "2023-07-12T07:12:42.849Z"
   },
   {
    "duration": 15,
    "start_time": "2023-07-12T07:12:42.862Z"
   },
   {
    "duration": 14,
    "start_time": "2023-07-12T07:12:42.879Z"
   },
   {
    "duration": 53,
    "start_time": "2023-07-12T07:12:42.895Z"
   },
   {
    "duration": 7,
    "start_time": "2023-07-12T07:12:42.949Z"
   },
   {
    "duration": 26,
    "start_time": "2023-07-12T07:12:42.957Z"
   },
   {
    "duration": 36,
    "start_time": "2023-07-12T07:12:42.985Z"
   },
   {
    "duration": 154,
    "start_time": "2023-07-12T07:12:43.025Z"
   },
   {
    "duration": 5,
    "start_time": "2023-07-12T07:12:43.181Z"
   },
   {
    "duration": 102,
    "start_time": "2023-07-12T07:12:43.187Z"
   },
   {
    "duration": 5,
    "start_time": "2023-07-12T07:12:43.291Z"
   },
   {
    "duration": 278,
    "start_time": "2023-07-12T07:12:43.297Z"
   },
   {
    "duration": 9,
    "start_time": "2023-07-12T07:12:43.577Z"
   },
   {
    "duration": 430,
    "start_time": "2023-07-12T07:12:43.587Z"
   },
   {
    "duration": 9,
    "start_time": "2023-07-12T07:12:44.030Z"
   },
   {
    "duration": 187,
    "start_time": "2023-07-12T07:12:44.042Z"
   },
   {
    "duration": 8,
    "start_time": "2023-07-12T07:12:44.233Z"
   },
   {
    "duration": 192,
    "start_time": "2023-07-12T07:12:44.243Z"
   },
   {
    "duration": 31,
    "start_time": "2023-07-12T07:12:44.438Z"
   },
   {
    "duration": 16,
    "start_time": "2023-07-12T07:12:44.470Z"
   },
   {
    "duration": 20,
    "start_time": "2023-07-12T07:12:44.488Z"
   },
   {
    "duration": 317,
    "start_time": "2023-07-12T07:12:44.516Z"
   },
   {
    "duration": 301,
    "start_time": "2023-07-12T07:12:44.837Z"
   },
   {
    "duration": 1022,
    "start_time": "2023-07-12T07:12:45.142Z"
   },
   {
    "duration": 287,
    "start_time": "2023-07-12T07:12:46.166Z"
   },
   {
    "duration": 10,
    "start_time": "2023-07-12T07:12:46.455Z"
   },
   {
    "duration": 847,
    "start_time": "2023-07-12T07:12:46.467Z"
   },
   {
    "duration": 6,
    "start_time": "2023-07-12T07:12:47.316Z"
   },
   {
    "duration": 38,
    "start_time": "2023-07-12T07:12:47.324Z"
   },
   {
    "duration": 4,
    "start_time": "2023-07-12T07:14:59.029Z"
   },
   {
    "duration": 134,
    "start_time": "2023-07-12T07:14:59.035Z"
   },
   {
    "duration": 26,
    "start_time": "2023-07-12T07:14:59.171Z"
   },
   {
    "duration": 131,
    "start_time": "2023-07-12T07:14:59.199Z"
   },
   {
    "duration": 21,
    "start_time": "2023-07-12T07:14:59.333Z"
   },
   {
    "duration": 77,
    "start_time": "2023-07-12T07:14:59.358Z"
   },
   {
    "duration": 53,
    "start_time": "2023-07-12T07:14:59.440Z"
   },
   {
    "duration": 31,
    "start_time": "2023-07-12T07:14:59.495Z"
   },
   {
    "duration": 69,
    "start_time": "2023-07-12T07:14:59.529Z"
   },
   {
    "duration": 46,
    "start_time": "2023-07-12T07:14:59.606Z"
   },
   {
    "duration": 32,
    "start_time": "2023-07-12T07:14:59.654Z"
   },
   {
    "duration": 33,
    "start_time": "2023-07-12T07:14:59.688Z"
   },
   {
    "duration": 76,
    "start_time": "2023-07-12T07:14:59.723Z"
   },
   {
    "duration": 81,
    "start_time": "2023-07-12T07:14:59.801Z"
   },
   {
    "duration": 25,
    "start_time": "2023-07-12T07:14:59.884Z"
   },
   {
    "duration": 310,
    "start_time": "2023-07-12T07:14:59.914Z"
   },
   {
    "duration": 17,
    "start_time": "2023-07-12T07:15:00.226Z"
   },
   {
    "duration": 248,
    "start_time": "2023-07-12T07:15:00.245Z"
   },
   {
    "duration": 18,
    "start_time": "2023-07-12T07:15:00.495Z"
   },
   {
    "duration": 254,
    "start_time": "2023-07-12T07:15:00.518Z"
   },
   {
    "duration": 8,
    "start_time": "2023-07-12T07:15:00.774Z"
   },
   {
    "duration": 562,
    "start_time": "2023-07-12T07:15:00.784Z"
   },
   {
    "duration": 13,
    "start_time": "2023-07-12T07:15:01.348Z"
   },
   {
    "duration": 371,
    "start_time": "2023-07-12T07:15:01.365Z"
   },
   {
    "duration": 14,
    "start_time": "2023-07-12T07:15:01.741Z"
   },
   {
    "duration": 319,
    "start_time": "2023-07-12T07:15:01.760Z"
   },
   {
    "duration": 43,
    "start_time": "2023-07-12T07:15:02.081Z"
   },
   {
    "duration": 53,
    "start_time": "2023-07-12T07:15:02.130Z"
   },
   {
    "duration": 29,
    "start_time": "2023-07-12T07:15:02.185Z"
   },
   {
    "duration": 4637,
    "start_time": "2023-07-12T07:15:02.216Z"
   },
   {
    "duration": 0,
    "start_time": "2023-07-12T07:15:06.855Z"
   },
   {
    "duration": 0,
    "start_time": "2023-07-12T07:15:06.857Z"
   },
   {
    "duration": 0,
    "start_time": "2023-07-12T07:15:06.858Z"
   },
   {
    "duration": 0,
    "start_time": "2023-07-12T07:15:06.859Z"
   },
   {
    "duration": 0,
    "start_time": "2023-07-12T07:15:06.860Z"
   },
   {
    "duration": 0,
    "start_time": "2023-07-12T07:15:06.862Z"
   },
   {
    "duration": 0,
    "start_time": "2023-07-12T07:15:06.865Z"
   },
   {
    "duration": 4,
    "start_time": "2023-07-12T07:15:36.864Z"
   },
   {
    "duration": 68,
    "start_time": "2023-07-12T07:15:36.874Z"
   },
   {
    "duration": 20,
    "start_time": "2023-07-12T07:15:36.945Z"
   },
   {
    "duration": 86,
    "start_time": "2023-07-12T07:15:36.969Z"
   },
   {
    "duration": 27,
    "start_time": "2023-07-12T07:15:37.057Z"
   },
   {
    "duration": 43,
    "start_time": "2023-07-12T07:15:37.086Z"
   },
   {
    "duration": 36,
    "start_time": "2023-07-12T07:15:37.131Z"
   },
   {
    "duration": 12,
    "start_time": "2023-07-12T07:15:37.170Z"
   },
   {
    "duration": 38,
    "start_time": "2023-07-12T07:15:37.183Z"
   },
   {
    "duration": 20,
    "start_time": "2023-07-12T07:15:37.238Z"
   },
   {
    "duration": 8,
    "start_time": "2023-07-12T07:15:37.259Z"
   },
   {
    "duration": 9,
    "start_time": "2023-07-12T07:15:37.268Z"
   },
   {
    "duration": 5,
    "start_time": "2023-07-12T07:15:37.278Z"
   },
   {
    "duration": 10,
    "start_time": "2023-07-12T07:15:37.284Z"
   },
   {
    "duration": 65,
    "start_time": "2023-07-12T07:15:37.297Z"
   },
   {
    "duration": 199,
    "start_time": "2023-07-12T07:15:37.364Z"
   },
   {
    "duration": 5,
    "start_time": "2023-07-12T07:15:37.565Z"
   },
   {
    "duration": 126,
    "start_time": "2023-07-12T07:15:37.572Z"
   },
   {
    "duration": 11,
    "start_time": "2023-07-12T07:15:37.699Z"
   },
   {
    "duration": 315,
    "start_time": "2023-07-12T07:15:37.711Z"
   },
   {
    "duration": 12,
    "start_time": "2023-07-12T07:15:38.028Z"
   },
   {
    "duration": 453,
    "start_time": "2023-07-12T07:15:38.041Z"
   },
   {
    "duration": 14,
    "start_time": "2023-07-12T07:15:38.495Z"
   },
   {
    "duration": 266,
    "start_time": "2023-07-12T07:15:38.511Z"
   },
   {
    "duration": 8,
    "start_time": "2023-07-12T07:15:38.779Z"
   },
   {
    "duration": 251,
    "start_time": "2023-07-12T07:15:38.789Z"
   },
   {
    "duration": 28,
    "start_time": "2023-07-12T07:15:39.042Z"
   },
   {
    "duration": 12,
    "start_time": "2023-07-12T07:15:39.072Z"
   },
   {
    "duration": 25,
    "start_time": "2023-07-12T07:15:39.085Z"
   },
   {
    "duration": 2817,
    "start_time": "2023-07-12T07:15:39.111Z"
   },
   {
    "duration": 0,
    "start_time": "2023-07-12T07:15:41.930Z"
   },
   {
    "duration": 0,
    "start_time": "2023-07-12T07:15:41.936Z"
   },
   {
    "duration": 2,
    "start_time": "2023-07-12T07:15:41.941Z"
   },
   {
    "duration": 0,
    "start_time": "2023-07-12T07:15:41.944Z"
   },
   {
    "duration": 0,
    "start_time": "2023-07-12T07:15:41.945Z"
   },
   {
    "duration": 0,
    "start_time": "2023-07-12T07:15:41.950Z"
   },
   {
    "duration": 0,
    "start_time": "2023-07-12T07:15:41.952Z"
   },
   {
    "duration": 4,
    "start_time": "2023-07-12T07:16:41.757Z"
   },
   {
    "duration": 57,
    "start_time": "2023-07-12T07:16:41.794Z"
   },
   {
    "duration": 21,
    "start_time": "2023-07-12T07:16:41.856Z"
   },
   {
    "duration": 73,
    "start_time": "2023-07-12T07:16:41.879Z"
   },
   {
    "duration": 17,
    "start_time": "2023-07-12T07:16:41.954Z"
   },
   {
    "duration": 36,
    "start_time": "2023-07-12T07:16:41.973Z"
   },
   {
    "duration": 28,
    "start_time": "2023-07-12T07:16:42.010Z"
   },
   {
    "duration": 27,
    "start_time": "2023-07-12T07:16:42.045Z"
   },
   {
    "duration": 13,
    "start_time": "2023-07-12T07:16:42.074Z"
   },
   {
    "duration": 8,
    "start_time": "2023-07-12T07:16:42.089Z"
   },
   {
    "duration": 50,
    "start_time": "2023-07-12T07:16:42.105Z"
   },
   {
    "duration": 20,
    "start_time": "2023-07-12T07:16:42.157Z"
   },
   {
    "duration": 7,
    "start_time": "2023-07-12T07:16:42.179Z"
   },
   {
    "duration": 66,
    "start_time": "2023-07-12T07:16:42.188Z"
   },
   {
    "duration": 15,
    "start_time": "2023-07-12T07:16:42.256Z"
   },
   {
    "duration": 228,
    "start_time": "2023-07-12T07:16:42.274Z"
   },
   {
    "duration": 7,
    "start_time": "2023-07-12T07:16:42.504Z"
   },
   {
    "duration": 190,
    "start_time": "2023-07-12T07:16:42.514Z"
   },
   {
    "duration": 6,
    "start_time": "2023-07-12T07:16:42.705Z"
   },
   {
    "duration": 256,
    "start_time": "2023-07-12T07:16:42.713Z"
   },
   {
    "duration": 10,
    "start_time": "2023-07-12T07:16:42.972Z"
   },
   {
    "duration": 465,
    "start_time": "2023-07-12T07:16:42.984Z"
   },
   {
    "duration": 12,
    "start_time": "2023-07-12T07:16:43.451Z"
   },
   {
    "duration": 301,
    "start_time": "2023-07-12T07:16:43.464Z"
   },
   {
    "duration": 9,
    "start_time": "2023-07-12T07:16:43.766Z"
   },
   {
    "duration": 375,
    "start_time": "2023-07-12T07:16:43.777Z"
   },
   {
    "duration": 35,
    "start_time": "2023-07-12T07:16:44.154Z"
   },
   {
    "duration": 6,
    "start_time": "2023-07-12T07:16:44.191Z"
   },
   {
    "duration": 72,
    "start_time": "2023-07-12T07:16:44.204Z"
   },
   {
    "duration": 15,
    "start_time": "2023-07-12T07:16:44.278Z"
   },
   {
    "duration": 2389,
    "start_time": "2023-07-12T07:16:44.295Z"
   },
   {
    "duration": 0,
    "start_time": "2023-07-12T07:16:46.686Z"
   },
   {
    "duration": 0,
    "start_time": "2023-07-12T07:16:46.688Z"
   },
   {
    "duration": 0,
    "start_time": "2023-07-12T07:16:46.689Z"
   },
   {
    "duration": 0,
    "start_time": "2023-07-12T07:16:46.690Z"
   },
   {
    "duration": 0,
    "start_time": "2023-07-12T07:16:46.692Z"
   },
   {
    "duration": 0,
    "start_time": "2023-07-12T07:16:46.693Z"
   },
   {
    "duration": 0,
    "start_time": "2023-07-12T07:16:46.694Z"
   },
   {
    "duration": 3,
    "start_time": "2023-07-12T07:19:15.885Z"
   },
   {
    "duration": 112,
    "start_time": "2023-07-12T07:19:15.894Z"
   },
   {
    "duration": 15,
    "start_time": "2023-07-12T07:19:16.008Z"
   },
   {
    "duration": 98,
    "start_time": "2023-07-12T07:19:16.025Z"
   },
   {
    "duration": 15,
    "start_time": "2023-07-12T07:19:16.124Z"
   },
   {
    "duration": 47,
    "start_time": "2023-07-12T07:19:16.141Z"
   },
   {
    "duration": 27,
    "start_time": "2023-07-12T07:19:16.190Z"
   },
   {
    "duration": 85,
    "start_time": "2023-07-12T07:19:16.233Z"
   },
   {
    "duration": 60,
    "start_time": "2023-07-12T07:19:16.320Z"
   },
   {
    "duration": 22,
    "start_time": "2023-07-12T07:19:16.382Z"
   },
   {
    "duration": 64,
    "start_time": "2023-07-12T07:19:16.406Z"
   },
   {
    "duration": 76,
    "start_time": "2023-07-12T07:19:16.472Z"
   },
   {
    "duration": 22,
    "start_time": "2023-07-12T07:19:16.550Z"
   },
   {
    "duration": 33,
    "start_time": "2023-07-12T07:19:16.574Z"
   },
   {
    "duration": 55,
    "start_time": "2023-07-12T07:19:16.611Z"
   },
   {
    "duration": 219,
    "start_time": "2023-07-12T07:19:16.668Z"
   },
   {
    "duration": 5,
    "start_time": "2023-07-12T07:19:16.889Z"
   },
   {
    "duration": 151,
    "start_time": "2023-07-12T07:19:16.896Z"
   },
   {
    "duration": 6,
    "start_time": "2023-07-12T07:19:17.049Z"
   },
   {
    "duration": 172,
    "start_time": "2023-07-12T07:19:17.056Z"
   },
   {
    "duration": 7,
    "start_time": "2023-07-12T07:19:17.230Z"
   },
   {
    "duration": 411,
    "start_time": "2023-07-12T07:19:17.239Z"
   },
   {
    "duration": 7,
    "start_time": "2023-07-12T07:19:17.652Z"
   },
   {
    "duration": 270,
    "start_time": "2023-07-12T07:19:17.661Z"
   },
   {
    "duration": 8,
    "start_time": "2023-07-12T07:19:17.933Z"
   },
   {
    "duration": 223,
    "start_time": "2023-07-12T07:19:17.945Z"
   },
   {
    "duration": 35,
    "start_time": "2023-07-12T07:19:18.170Z"
   },
   {
    "duration": 44,
    "start_time": "2023-07-12T07:19:18.210Z"
   },
   {
    "duration": 51,
    "start_time": "2023-07-12T07:19:18.256Z"
   },
   {
    "duration": 0,
    "start_time": "2023-07-12T07:19:18.309Z"
   },
   {
    "duration": 0,
    "start_time": "2023-07-12T07:19:18.314Z"
   },
   {
    "duration": 0,
    "start_time": "2023-07-12T07:19:18.315Z"
   },
   {
    "duration": 0,
    "start_time": "2023-07-12T07:19:18.317Z"
   },
   {
    "duration": 0,
    "start_time": "2023-07-12T07:19:18.318Z"
   },
   {
    "duration": 0,
    "start_time": "2023-07-12T07:19:18.319Z"
   },
   {
    "duration": 0,
    "start_time": "2023-07-12T07:19:18.321Z"
   },
   {
    "duration": 0,
    "start_time": "2023-07-12T07:19:18.323Z"
   },
   {
    "duration": 0,
    "start_time": "2023-07-12T07:19:18.324Z"
   },
   {
    "duration": 4,
    "start_time": "2023-07-12T07:19:59.618Z"
   },
   {
    "duration": 51,
    "start_time": "2023-07-12T07:19:59.627Z"
   },
   {
    "duration": 17,
    "start_time": "2023-07-12T07:19:59.680Z"
   },
   {
    "duration": 63,
    "start_time": "2023-07-12T07:19:59.699Z"
   },
   {
    "duration": 12,
    "start_time": "2023-07-12T07:19:59.764Z"
   },
   {
    "duration": 20,
    "start_time": "2023-07-12T07:19:59.777Z"
   },
   {
    "duration": 36,
    "start_time": "2023-07-12T07:19:59.803Z"
   },
   {
    "duration": 5,
    "start_time": "2023-07-12T07:19:59.843Z"
   },
   {
    "duration": 7,
    "start_time": "2023-07-12T07:19:59.851Z"
   },
   {
    "duration": 11,
    "start_time": "2023-07-12T07:19:59.859Z"
   },
   {
    "duration": 4,
    "start_time": "2023-07-12T07:19:59.871Z"
   },
   {
    "duration": 10,
    "start_time": "2023-07-12T07:19:59.876Z"
   },
   {
    "duration": 4,
    "start_time": "2023-07-12T07:19:59.888Z"
   },
   {
    "duration": 30,
    "start_time": "2023-07-12T07:19:59.909Z"
   },
   {
    "duration": 13,
    "start_time": "2023-07-12T07:19:59.941Z"
   },
   {
    "duration": 136,
    "start_time": "2023-07-12T07:19:59.956Z"
   },
   {
    "duration": 19,
    "start_time": "2023-07-12T07:20:00.094Z"
   },
   {
    "duration": 119,
    "start_time": "2023-07-12T07:20:00.126Z"
   },
   {
    "duration": 5,
    "start_time": "2023-07-12T07:20:00.246Z"
   },
   {
    "duration": 189,
    "start_time": "2023-07-12T07:20:00.252Z"
   },
   {
    "duration": 8,
    "start_time": "2023-07-12T07:20:00.443Z"
   },
   {
    "duration": 537,
    "start_time": "2023-07-12T07:20:00.453Z"
   },
   {
    "duration": 30,
    "start_time": "2023-07-12T07:20:00.991Z"
   },
   {
    "duration": 212,
    "start_time": "2023-07-12T07:20:01.026Z"
   },
   {
    "duration": 8,
    "start_time": "2023-07-12T07:20:01.243Z"
   },
   {
    "duration": 212,
    "start_time": "2023-07-12T07:20:01.253Z"
   },
   {
    "duration": 25,
    "start_time": "2023-07-12T07:20:01.466Z"
   },
   {
    "duration": 61,
    "start_time": "2023-07-12T07:20:01.494Z"
   },
   {
    "duration": 3730,
    "start_time": "2023-07-12T07:20:01.556Z"
   },
   {
    "duration": 0,
    "start_time": "2023-07-12T07:20:05.287Z"
   },
   {
    "duration": 0,
    "start_time": "2023-07-12T07:20:05.288Z"
   },
   {
    "duration": 0,
    "start_time": "2023-07-12T07:20:05.289Z"
   },
   {
    "duration": 0,
    "start_time": "2023-07-12T07:20:05.290Z"
   },
   {
    "duration": 0,
    "start_time": "2023-07-12T07:20:05.291Z"
   },
   {
    "duration": 0,
    "start_time": "2023-07-12T07:20:05.293Z"
   },
   {
    "duration": 1,
    "start_time": "2023-07-12T07:20:05.294Z"
   },
   {
    "duration": 0,
    "start_time": "2023-07-12T07:20:05.296Z"
   },
   {
    "duration": 0,
    "start_time": "2023-07-12T07:20:05.298Z"
   },
   {
    "duration": 4,
    "start_time": "2023-07-12T07:20:37.440Z"
   },
   {
    "duration": 146,
    "start_time": "2023-07-12T07:20:37.446Z"
   },
   {
    "duration": 61,
    "start_time": "2023-07-12T07:20:37.594Z"
   },
   {
    "duration": 48,
    "start_time": "2023-07-12T07:20:37.657Z"
   },
   {
    "duration": 28,
    "start_time": "2023-07-12T07:20:37.711Z"
   },
   {
    "duration": 22,
    "start_time": "2023-07-12T07:20:37.741Z"
   },
   {
    "duration": 12,
    "start_time": "2023-07-12T07:20:37.765Z"
   },
   {
    "duration": 6,
    "start_time": "2023-07-12T07:20:37.779Z"
   },
   {
    "duration": 10,
    "start_time": "2023-07-12T07:20:37.786Z"
   },
   {
    "duration": 36,
    "start_time": "2023-07-12T07:20:37.799Z"
   },
   {
    "duration": 18,
    "start_time": "2023-07-12T07:20:37.836Z"
   },
   {
    "duration": 21,
    "start_time": "2023-07-12T07:20:37.856Z"
   },
   {
    "duration": 7,
    "start_time": "2023-07-12T07:20:37.879Z"
   },
   {
    "duration": 18,
    "start_time": "2023-07-12T07:20:37.888Z"
   },
   {
    "duration": 56,
    "start_time": "2023-07-12T07:20:37.908Z"
   },
   {
    "duration": 183,
    "start_time": "2023-07-12T07:20:37.966Z"
   },
   {
    "duration": 5,
    "start_time": "2023-07-12T07:20:38.151Z"
   },
   {
    "duration": 119,
    "start_time": "2023-07-12T07:20:38.158Z"
   },
   {
    "duration": 4,
    "start_time": "2023-07-12T07:20:38.279Z"
   },
   {
    "duration": 191,
    "start_time": "2023-07-12T07:20:38.285Z"
   },
   {
    "duration": 8,
    "start_time": "2023-07-12T07:20:38.478Z"
   },
   {
    "duration": 410,
    "start_time": "2023-07-12T07:20:38.487Z"
   },
   {
    "duration": 22,
    "start_time": "2023-07-12T07:20:38.918Z"
   },
   {
    "duration": 205,
    "start_time": "2023-07-12T07:20:38.941Z"
   },
   {
    "duration": 9,
    "start_time": "2023-07-12T07:20:39.148Z"
   },
   {
    "duration": 220,
    "start_time": "2023-07-12T07:20:39.159Z"
   },
   {
    "duration": 49,
    "start_time": "2023-07-12T07:20:39.380Z"
   },
   {
    "duration": 4,
    "start_time": "2023-07-12T07:20:39.436Z"
   },
   {
    "duration": 1734,
    "start_time": "2023-07-12T07:20:39.442Z"
   },
   {
    "duration": 0,
    "start_time": "2023-07-12T07:20:41.178Z"
   },
   {
    "duration": 0,
    "start_time": "2023-07-12T07:20:41.179Z"
   },
   {
    "duration": 0,
    "start_time": "2023-07-12T07:20:41.180Z"
   },
   {
    "duration": 0,
    "start_time": "2023-07-12T07:20:41.182Z"
   },
   {
    "duration": 0,
    "start_time": "2023-07-12T07:20:41.184Z"
   },
   {
    "duration": 0,
    "start_time": "2023-07-12T07:20:41.186Z"
   },
   {
    "duration": 0,
    "start_time": "2023-07-12T07:20:41.188Z"
   },
   {
    "duration": 0,
    "start_time": "2023-07-12T07:20:41.190Z"
   },
   {
    "duration": 0,
    "start_time": "2023-07-12T07:20:41.191Z"
   },
   {
    "duration": 5,
    "start_time": "2023-07-12T07:21:13.634Z"
   },
   {
    "duration": 42,
    "start_time": "2023-07-12T07:21:13.641Z"
   },
   {
    "duration": 28,
    "start_time": "2023-07-12T07:21:13.685Z"
   },
   {
    "duration": 45,
    "start_time": "2023-07-12T07:21:13.730Z"
   },
   {
    "duration": 18,
    "start_time": "2023-07-12T07:21:13.778Z"
   },
   {
    "duration": 63,
    "start_time": "2023-07-12T07:21:13.798Z"
   },
   {
    "duration": 25,
    "start_time": "2023-07-12T07:21:13.863Z"
   },
   {
    "duration": 8,
    "start_time": "2023-07-12T07:21:13.890Z"
   },
   {
    "duration": 45,
    "start_time": "2023-07-12T07:21:13.899Z"
   },
   {
    "duration": 17,
    "start_time": "2023-07-12T07:21:13.945Z"
   },
   {
    "duration": 18,
    "start_time": "2023-07-12T07:21:13.964Z"
   },
   {
    "duration": 48,
    "start_time": "2023-07-12T07:21:13.984Z"
   },
   {
    "duration": 13,
    "start_time": "2023-07-12T07:21:14.034Z"
   },
   {
    "duration": 8,
    "start_time": "2023-07-12T07:21:14.051Z"
   },
   {
    "duration": 23,
    "start_time": "2023-07-12T07:21:14.060Z"
   },
   {
    "duration": 173,
    "start_time": "2023-07-12T07:21:14.085Z"
   },
   {
    "duration": 5,
    "start_time": "2023-07-12T07:21:14.260Z"
   },
   {
    "duration": 198,
    "start_time": "2023-07-12T07:21:14.267Z"
   },
   {
    "duration": 5,
    "start_time": "2023-07-12T07:21:14.467Z"
   },
   {
    "duration": 193,
    "start_time": "2023-07-12T07:21:14.474Z"
   },
   {
    "duration": 8,
    "start_time": "2023-07-12T07:21:14.668Z"
   },
   {
    "duration": 397,
    "start_time": "2023-07-12T07:21:14.678Z"
   },
   {
    "duration": 9,
    "start_time": "2023-07-12T07:21:15.077Z"
   },
   {
    "duration": 247,
    "start_time": "2023-07-12T07:21:15.087Z"
   },
   {
    "duration": 10,
    "start_time": "2023-07-12T07:21:15.336Z"
   },
   {
    "duration": 285,
    "start_time": "2023-07-12T07:21:15.348Z"
   },
   {
    "duration": 29,
    "start_time": "2023-07-12T07:21:15.637Z"
   },
   {
    "duration": 4,
    "start_time": "2023-07-12T07:21:15.667Z"
   },
   {
    "duration": 58,
    "start_time": "2023-07-12T07:21:15.673Z"
   },
   {
    "duration": 16,
    "start_time": "2023-07-12T07:21:15.732Z"
   },
   {
    "duration": 2916,
    "start_time": "2023-07-12T07:21:15.749Z"
   },
   {
    "duration": 0,
    "start_time": "2023-07-12T07:21:18.667Z"
   },
   {
    "duration": 0,
    "start_time": "2023-07-12T07:21:18.668Z"
   },
   {
    "duration": 0,
    "start_time": "2023-07-12T07:21:18.669Z"
   },
   {
    "duration": 0,
    "start_time": "2023-07-12T07:21:18.670Z"
   },
   {
    "duration": 0,
    "start_time": "2023-07-12T07:21:18.672Z"
   },
   {
    "duration": 1,
    "start_time": "2023-07-12T07:21:18.672Z"
   },
   {
    "duration": 0,
    "start_time": "2023-07-12T07:21:18.674Z"
   },
   {
    "duration": 7,
    "start_time": "2023-07-12T07:22:40.418Z"
   },
   {
    "duration": 40,
    "start_time": "2023-07-12T07:22:40.431Z"
   },
   {
    "duration": 12,
    "start_time": "2023-07-12T07:22:40.472Z"
   },
   {
    "duration": 55,
    "start_time": "2023-07-12T07:22:40.485Z"
   },
   {
    "duration": 12,
    "start_time": "2023-07-12T07:22:40.542Z"
   },
   {
    "duration": 25,
    "start_time": "2023-07-12T07:22:40.555Z"
   },
   {
    "duration": 12,
    "start_time": "2023-07-12T07:22:40.582Z"
   },
   {
    "duration": 14,
    "start_time": "2023-07-12T07:22:40.595Z"
   },
   {
    "duration": 31,
    "start_time": "2023-07-12T07:22:40.610Z"
   },
   {
    "duration": 6,
    "start_time": "2023-07-12T07:22:40.642Z"
   },
   {
    "duration": 4,
    "start_time": "2023-07-12T07:22:40.649Z"
   },
   {
    "duration": 10,
    "start_time": "2023-07-12T07:22:40.654Z"
   },
   {
    "duration": 5,
    "start_time": "2023-07-12T07:22:40.665Z"
   },
   {
    "duration": 7,
    "start_time": "2023-07-12T07:22:40.672Z"
   },
   {
    "duration": 8,
    "start_time": "2023-07-12T07:22:40.680Z"
   },
   {
    "duration": 166,
    "start_time": "2023-07-12T07:22:40.690Z"
   },
   {
    "duration": 4,
    "start_time": "2023-07-12T07:22:40.857Z"
   },
   {
    "duration": 90,
    "start_time": "2023-07-12T07:22:40.862Z"
   },
   {
    "duration": 5,
    "start_time": "2023-07-12T07:22:40.953Z"
   },
   {
    "duration": 178,
    "start_time": "2023-07-12T07:22:40.959Z"
   },
   {
    "duration": 8,
    "start_time": "2023-07-12T07:22:41.138Z"
   },
   {
    "duration": 383,
    "start_time": "2023-07-12T07:22:41.147Z"
   },
   {
    "duration": 9,
    "start_time": "2023-07-12T07:22:41.532Z"
   },
   {
    "duration": 290,
    "start_time": "2023-07-12T07:22:41.542Z"
   },
   {
    "duration": 8,
    "start_time": "2023-07-12T07:22:41.834Z"
   },
   {
    "duration": 170,
    "start_time": "2023-07-12T07:22:41.843Z"
   },
   {
    "duration": 31,
    "start_time": "2023-07-12T07:22:42.014Z"
   },
   {
    "duration": 4,
    "start_time": "2023-07-12T07:22:42.046Z"
   },
   {
    "duration": 18,
    "start_time": "2023-07-12T07:22:42.051Z"
   },
   {
    "duration": 54,
    "start_time": "2023-07-12T07:22:42.071Z"
   },
   {
    "duration": 3237,
    "start_time": "2023-07-12T07:22:42.128Z"
   },
   {
    "duration": 0,
    "start_time": "2023-07-12T07:22:45.366Z"
   },
   {
    "duration": 0,
    "start_time": "2023-07-12T07:22:45.367Z"
   },
   {
    "duration": 0,
    "start_time": "2023-07-12T07:22:45.369Z"
   },
   {
    "duration": 0,
    "start_time": "2023-07-12T07:22:45.370Z"
   },
   {
    "duration": 0,
    "start_time": "2023-07-12T07:22:45.371Z"
   },
   {
    "duration": 0,
    "start_time": "2023-07-12T07:22:45.372Z"
   },
   {
    "duration": 0,
    "start_time": "2023-07-12T07:22:45.374Z"
   },
   {
    "duration": 5,
    "start_time": "2023-07-12T07:24:38.251Z"
   },
   {
    "duration": 46,
    "start_time": "2023-07-12T07:24:38.259Z"
   },
   {
    "duration": 26,
    "start_time": "2023-07-12T07:24:38.320Z"
   },
   {
    "duration": 40,
    "start_time": "2023-07-12T07:24:38.348Z"
   },
   {
    "duration": 34,
    "start_time": "2023-07-12T07:24:38.391Z"
   },
   {
    "duration": 27,
    "start_time": "2023-07-12T07:24:38.435Z"
   },
   {
    "duration": 20,
    "start_time": "2023-07-12T07:24:38.464Z"
   },
   {
    "duration": 5,
    "start_time": "2023-07-12T07:24:38.486Z"
   },
   {
    "duration": 54,
    "start_time": "2023-07-12T07:24:38.493Z"
   },
   {
    "duration": 8,
    "start_time": "2023-07-12T07:24:38.548Z"
   },
   {
    "duration": 10,
    "start_time": "2023-07-12T07:24:38.557Z"
   },
   {
    "duration": 10,
    "start_time": "2023-07-12T07:24:38.569Z"
   },
   {
    "duration": 5,
    "start_time": "2023-07-12T07:24:38.580Z"
   },
   {
    "duration": 6,
    "start_time": "2023-07-12T07:24:38.588Z"
   },
   {
    "duration": 26,
    "start_time": "2023-07-12T07:24:38.595Z"
   },
   {
    "duration": 173,
    "start_time": "2023-07-12T07:24:38.622Z"
   },
   {
    "duration": 19,
    "start_time": "2023-07-12T07:24:38.797Z"
   },
   {
    "duration": 130,
    "start_time": "2023-07-12T07:24:38.822Z"
   },
   {
    "duration": 5,
    "start_time": "2023-07-12T07:24:38.954Z"
   },
   {
    "duration": 198,
    "start_time": "2023-07-12T07:24:38.962Z"
   },
   {
    "duration": 8,
    "start_time": "2023-07-12T07:24:39.162Z"
   },
   {
    "duration": 408,
    "start_time": "2023-07-12T07:24:39.172Z"
   },
   {
    "duration": 27,
    "start_time": "2023-07-12T07:24:39.582Z"
   },
   {
    "duration": 227,
    "start_time": "2023-07-12T07:24:39.611Z"
   },
   {
    "duration": 9,
    "start_time": "2023-07-12T07:24:39.840Z"
   },
   {
    "duration": 204,
    "start_time": "2023-07-12T07:24:39.850Z"
   },
   {
    "duration": 53,
    "start_time": "2023-07-12T07:24:40.056Z"
   },
   {
    "duration": 21,
    "start_time": "2023-07-12T07:24:40.125Z"
   },
   {
    "duration": 26,
    "start_time": "2023-07-12T07:24:40.149Z"
   },
   {
    "duration": 58,
    "start_time": "2023-07-12T07:24:40.177Z"
   },
   {
    "duration": 450,
    "start_time": "2023-07-12T07:24:40.238Z"
   },
   {
    "duration": 443,
    "start_time": "2023-07-12T07:24:40.690Z"
   },
   {
    "duration": 1040,
    "start_time": "2023-07-12T07:24:41.138Z"
   },
   {
    "duration": 206,
    "start_time": "2023-07-12T07:24:42.180Z"
   },
   {
    "duration": 6,
    "start_time": "2023-07-12T07:24:42.388Z"
   },
   {
    "duration": 923,
    "start_time": "2023-07-12T07:24:42.410Z"
   },
   {
    "duration": 6,
    "start_time": "2023-07-12T07:24:43.336Z"
   },
   {
    "duration": 28,
    "start_time": "2023-07-12T07:24:43.344Z"
   },
   {
    "duration": 3,
    "start_time": "2023-07-12T07:35:13.992Z"
   },
   {
    "duration": 86,
    "start_time": "2023-07-12T07:35:13.997Z"
   },
   {
    "duration": 12,
    "start_time": "2023-07-12T07:35:14.084Z"
   },
   {
    "duration": 59,
    "start_time": "2023-07-12T07:35:14.291Z"
   },
   {
    "duration": 13,
    "start_time": "2023-07-12T07:35:14.352Z"
   },
   {
    "duration": 31,
    "start_time": "2023-07-12T07:35:14.367Z"
   },
   {
    "duration": 26,
    "start_time": "2023-07-12T07:35:14.409Z"
   },
   {
    "duration": 14,
    "start_time": "2023-07-12T07:35:14.437Z"
   },
   {
    "duration": 9,
    "start_time": "2023-07-12T07:35:14.453Z"
   },
   {
    "duration": 7,
    "start_time": "2023-07-12T07:35:14.589Z"
   },
   {
    "duration": 23,
    "start_time": "2023-07-12T07:35:14.598Z"
   },
   {
    "duration": 27,
    "start_time": "2023-07-12T07:35:14.623Z"
   },
   {
    "duration": 9,
    "start_time": "2023-07-12T07:35:14.652Z"
   },
   {
    "duration": 8,
    "start_time": "2023-07-12T07:35:14.663Z"
   },
   {
    "duration": 12,
    "start_time": "2023-07-12T07:35:14.673Z"
   },
   {
    "duration": 166,
    "start_time": "2023-07-12T07:35:14.687Z"
   },
   {
    "duration": 5,
    "start_time": "2023-07-12T07:35:14.855Z"
   },
   {
    "duration": 118,
    "start_time": "2023-07-12T07:35:14.861Z"
   },
   {
    "duration": 28,
    "start_time": "2023-07-12T07:35:14.981Z"
   },
   {
    "duration": 215,
    "start_time": "2023-07-12T07:35:15.018Z"
   },
   {
    "duration": 9,
    "start_time": "2023-07-12T07:35:15.235Z"
   },
   {
    "duration": 448,
    "start_time": "2023-07-12T07:35:15.246Z"
   },
   {
    "duration": 33,
    "start_time": "2023-07-12T07:35:15.696Z"
   },
   {
    "duration": 218,
    "start_time": "2023-07-12T07:35:15.730Z"
   },
   {
    "duration": 7,
    "start_time": "2023-07-12T07:35:15.950Z"
   },
   {
    "duration": 404,
    "start_time": "2023-07-12T07:35:15.959Z"
   },
   {
    "duration": 72,
    "start_time": "2023-07-12T07:35:16.365Z"
   },
   {
    "duration": 6,
    "start_time": "2023-07-12T07:35:16.445Z"
   },
   {
    "duration": 40,
    "start_time": "2023-07-12T07:35:16.453Z"
   },
   {
    "duration": 78,
    "start_time": "2023-07-12T07:35:16.495Z"
   },
   {
    "duration": 405,
    "start_time": "2023-07-12T07:35:16.575Z"
   },
   {
    "duration": 517,
    "start_time": "2023-07-12T07:35:16.982Z"
   },
   {
    "duration": 13,
    "start_time": "2023-07-12T07:35:17.517Z"
   },
   {
    "duration": 0,
    "start_time": "2023-07-12T07:35:17.532Z"
   },
   {
    "duration": 0,
    "start_time": "2023-07-12T07:35:17.533Z"
   },
   {
    "duration": 0,
    "start_time": "2023-07-12T07:35:17.534Z"
   },
   {
    "duration": 0,
    "start_time": "2023-07-12T07:35:17.541Z"
   },
   {
    "duration": 0,
    "start_time": "2023-07-12T07:35:17.542Z"
   },
   {
    "duration": 4,
    "start_time": "2023-07-12T07:35:46.157Z"
   },
   {
    "duration": 71,
    "start_time": "2023-07-12T07:35:46.163Z"
   },
   {
    "duration": 14,
    "start_time": "2023-07-12T07:35:46.236Z"
   },
   {
    "duration": 60,
    "start_time": "2023-07-12T07:35:46.252Z"
   },
   {
    "duration": 15,
    "start_time": "2023-07-12T07:35:46.315Z"
   },
   {
    "duration": 30,
    "start_time": "2023-07-12T07:35:46.332Z"
   },
   {
    "duration": 14,
    "start_time": "2023-07-12T07:35:46.364Z"
   },
   {
    "duration": 11,
    "start_time": "2023-07-12T07:35:46.380Z"
   },
   {
    "duration": 30,
    "start_time": "2023-07-12T07:35:46.392Z"
   },
   {
    "duration": 25,
    "start_time": "2023-07-12T07:35:46.423Z"
   },
   {
    "duration": 9,
    "start_time": "2023-07-12T07:35:46.451Z"
   },
   {
    "duration": 13,
    "start_time": "2023-07-12T07:35:46.462Z"
   },
   {
    "duration": 11,
    "start_time": "2023-07-12T07:35:46.477Z"
   },
   {
    "duration": 51,
    "start_time": "2023-07-12T07:35:46.490Z"
   },
   {
    "duration": 20,
    "start_time": "2023-07-12T07:35:46.543Z"
   },
   {
    "duration": 161,
    "start_time": "2023-07-12T07:35:46.564Z"
   },
   {
    "duration": 5,
    "start_time": "2023-07-12T07:35:46.730Z"
   },
   {
    "duration": 103,
    "start_time": "2023-07-12T07:35:46.737Z"
   },
   {
    "duration": 5,
    "start_time": "2023-07-12T07:35:46.841Z"
   },
   {
    "duration": 185,
    "start_time": "2023-07-12T07:35:46.847Z"
   },
   {
    "duration": 7,
    "start_time": "2023-07-12T07:35:47.034Z"
   },
   {
    "duration": 388,
    "start_time": "2023-07-12T07:35:47.044Z"
   },
   {
    "duration": 8,
    "start_time": "2023-07-12T07:35:47.435Z"
   },
   {
    "duration": 187,
    "start_time": "2023-07-12T07:35:47.445Z"
   },
   {
    "duration": 7,
    "start_time": "2023-07-12T07:35:47.634Z"
   },
   {
    "duration": 190,
    "start_time": "2023-07-12T07:35:47.643Z"
   },
   {
    "duration": 29,
    "start_time": "2023-07-12T07:35:47.834Z"
   },
   {
    "duration": 4,
    "start_time": "2023-07-12T07:35:47.864Z"
   },
   {
    "duration": 52,
    "start_time": "2023-07-12T07:35:47.869Z"
   },
   {
    "duration": 27,
    "start_time": "2023-07-12T07:35:47.922Z"
   },
   {
    "duration": 419,
    "start_time": "2023-07-12T07:35:47.951Z"
   },
   {
    "duration": 330,
    "start_time": "2023-07-12T07:35:48.372Z"
   },
   {
    "duration": 127,
    "start_time": "2023-07-12T07:35:48.704Z"
   },
   {
    "duration": 0,
    "start_time": "2023-07-12T07:35:48.833Z"
   },
   {
    "duration": 0,
    "start_time": "2023-07-12T07:35:48.834Z"
   },
   {
    "duration": 0,
    "start_time": "2023-07-12T07:35:48.835Z"
   },
   {
    "duration": 0,
    "start_time": "2023-07-12T07:35:48.836Z"
   },
   {
    "duration": 0,
    "start_time": "2023-07-12T07:35:48.837Z"
   },
   {
    "duration": 4,
    "start_time": "2023-07-12T07:36:11.456Z"
   },
   {
    "duration": 73,
    "start_time": "2023-07-12T07:36:11.462Z"
   },
   {
    "duration": 14,
    "start_time": "2023-07-12T07:36:11.537Z"
   },
   {
    "duration": 35,
    "start_time": "2023-07-12T07:36:11.553Z"
   },
   {
    "duration": 30,
    "start_time": "2023-07-12T07:36:11.590Z"
   },
   {
    "duration": 37,
    "start_time": "2023-07-12T07:36:11.622Z"
   },
   {
    "duration": 14,
    "start_time": "2023-07-12T07:36:11.661Z"
   },
   {
    "duration": 9,
    "start_time": "2023-07-12T07:36:11.677Z"
   },
   {
    "duration": 24,
    "start_time": "2023-07-12T07:36:11.689Z"
   },
   {
    "duration": 28,
    "start_time": "2023-07-12T07:36:11.714Z"
   },
   {
    "duration": 3,
    "start_time": "2023-07-12T07:36:11.744Z"
   },
   {
    "duration": 9,
    "start_time": "2023-07-12T07:36:11.748Z"
   },
   {
    "duration": 5,
    "start_time": "2023-07-12T07:36:11.758Z"
   },
   {
    "duration": 12,
    "start_time": "2023-07-12T07:36:11.765Z"
   },
   {
    "duration": 14,
    "start_time": "2023-07-12T07:36:11.779Z"
   },
   {
    "duration": 199,
    "start_time": "2023-07-12T07:36:11.794Z"
   },
   {
    "duration": 13,
    "start_time": "2023-07-12T07:36:11.995Z"
   },
   {
    "duration": 123,
    "start_time": "2023-07-12T07:36:12.012Z"
   },
   {
    "duration": 4,
    "start_time": "2023-07-12T07:36:12.138Z"
   },
   {
    "duration": 218,
    "start_time": "2023-07-12T07:36:12.144Z"
   },
   {
    "duration": 7,
    "start_time": "2023-07-12T07:36:12.363Z"
   },
   {
    "duration": 382,
    "start_time": "2023-07-12T07:36:12.373Z"
   },
   {
    "duration": 8,
    "start_time": "2023-07-12T07:36:12.757Z"
   },
   {
    "duration": 194,
    "start_time": "2023-07-12T07:36:12.766Z"
   },
   {
    "duration": 7,
    "start_time": "2023-07-12T07:36:12.962Z"
   },
   {
    "duration": 201,
    "start_time": "2023-07-12T07:36:12.971Z"
   },
   {
    "duration": 31,
    "start_time": "2023-07-12T07:36:13.174Z"
   },
   {
    "duration": 3,
    "start_time": "2023-07-12T07:36:13.206Z"
   },
   {
    "duration": 40,
    "start_time": "2023-07-12T07:36:13.220Z"
   },
   {
    "duration": 20,
    "start_time": "2023-07-12T07:36:13.262Z"
   },
   {
    "duration": 450,
    "start_time": "2023-07-12T07:36:13.283Z"
   },
   {
    "duration": 314,
    "start_time": "2023-07-12T07:36:13.735Z"
   },
   {
    "duration": 288,
    "start_time": "2023-07-12T07:36:14.051Z"
   },
   {
    "duration": 0,
    "start_time": "2023-07-12T07:36:14.340Z"
   },
   {
    "duration": 0,
    "start_time": "2023-07-12T07:36:14.342Z"
   },
   {
    "duration": 0,
    "start_time": "2023-07-12T07:36:14.343Z"
   },
   {
    "duration": 0,
    "start_time": "2023-07-12T07:36:14.344Z"
   },
   {
    "duration": 0,
    "start_time": "2023-07-12T07:36:14.345Z"
   },
   {
    "duration": 2,
    "start_time": "2023-07-12T07:37:56.398Z"
   },
   {
    "duration": 84,
    "start_time": "2023-07-12T07:37:56.402Z"
   },
   {
    "duration": 25,
    "start_time": "2023-07-12T07:37:56.488Z"
   },
   {
    "duration": 45,
    "start_time": "2023-07-12T07:37:56.529Z"
   },
   {
    "duration": 12,
    "start_time": "2023-07-12T07:37:56.575Z"
   },
   {
    "duration": 34,
    "start_time": "2023-07-12T07:37:56.589Z"
   },
   {
    "duration": 41,
    "start_time": "2023-07-12T07:37:56.625Z"
   },
   {
    "duration": 6,
    "start_time": "2023-07-12T07:37:56.667Z"
   },
   {
    "duration": 13,
    "start_time": "2023-07-12T07:37:56.675Z"
   },
   {
    "duration": 9,
    "start_time": "2023-07-12T07:37:56.689Z"
   },
   {
    "duration": 43,
    "start_time": "2023-07-12T07:37:56.706Z"
   },
   {
    "duration": 54,
    "start_time": "2023-07-12T07:37:56.751Z"
   },
   {
    "duration": 39,
    "start_time": "2023-07-12T07:37:56.806Z"
   },
   {
    "duration": 8,
    "start_time": "2023-07-12T07:37:56.847Z"
   },
   {
    "duration": 14,
    "start_time": "2023-07-12T07:37:56.856Z"
   },
   {
    "duration": 187,
    "start_time": "2023-07-12T07:37:56.871Z"
   },
   {
    "duration": 5,
    "start_time": "2023-07-12T07:37:57.060Z"
   },
   {
    "duration": 92,
    "start_time": "2023-07-12T07:37:57.066Z"
   },
   {
    "duration": 4,
    "start_time": "2023-07-12T07:37:57.159Z"
   },
   {
    "duration": 187,
    "start_time": "2023-07-12T07:37:57.165Z"
   },
   {
    "duration": 9,
    "start_time": "2023-07-12T07:37:57.354Z"
   },
   {
    "duration": 424,
    "start_time": "2023-07-12T07:37:57.366Z"
   },
   {
    "duration": 15,
    "start_time": "2023-07-12T07:37:57.791Z"
   },
   {
    "duration": 238,
    "start_time": "2023-07-12T07:37:57.808Z"
   },
   {
    "duration": 7,
    "start_time": "2023-07-12T07:37:58.048Z"
   },
   {
    "duration": 198,
    "start_time": "2023-07-12T07:37:58.056Z"
   },
   {
    "duration": 35,
    "start_time": "2023-07-12T07:37:58.255Z"
   },
   {
    "duration": 4,
    "start_time": "2023-07-12T07:37:58.291Z"
   },
   {
    "duration": 62,
    "start_time": "2023-07-12T07:37:58.303Z"
   },
   {
    "duration": 19,
    "start_time": "2023-07-12T07:37:58.367Z"
   },
   {
    "duration": 456,
    "start_time": "2023-07-12T07:37:58.387Z"
   },
   {
    "duration": 312,
    "start_time": "2023-07-12T07:37:58.845Z"
   },
   {
    "duration": 978,
    "start_time": "2023-07-12T07:37:59.159Z"
   },
   {
    "duration": 166,
    "start_time": "2023-07-12T07:38:00.139Z"
   },
   {
    "duration": 6,
    "start_time": "2023-07-12T07:38:00.307Z"
   },
   {
    "duration": 958,
    "start_time": "2023-07-12T07:38:00.315Z"
   },
   {
    "duration": 5,
    "start_time": "2023-07-12T07:38:01.274Z"
   },
   {
    "duration": 106,
    "start_time": "2023-07-12T07:38:01.280Z"
   },
   {
    "duration": 3,
    "start_time": "2023-07-12T07:40:09.990Z"
   },
   {
    "duration": 72,
    "start_time": "2023-07-12T07:40:09.994Z"
   },
   {
    "duration": 11,
    "start_time": "2023-07-12T07:40:10.067Z"
   },
   {
    "duration": 62,
    "start_time": "2023-07-12T07:40:10.079Z"
   },
   {
    "duration": 11,
    "start_time": "2023-07-12T07:40:10.143Z"
   },
   {
    "duration": 26,
    "start_time": "2023-07-12T07:40:10.155Z"
   },
   {
    "duration": 12,
    "start_time": "2023-07-12T07:40:10.182Z"
   },
   {
    "duration": 5,
    "start_time": "2023-07-12T07:40:10.195Z"
   },
   {
    "duration": 39,
    "start_time": "2023-07-12T07:40:10.202Z"
   },
   {
    "duration": 29,
    "start_time": "2023-07-12T07:40:10.243Z"
   },
   {
    "duration": 8,
    "start_time": "2023-07-12T07:40:10.273Z"
   },
   {
    "duration": 16,
    "start_time": "2023-07-12T07:40:10.282Z"
   },
   {
    "duration": 11,
    "start_time": "2023-07-12T07:40:10.316Z"
   },
   {
    "duration": 19,
    "start_time": "2023-07-12T07:40:10.328Z"
   },
   {
    "duration": 29,
    "start_time": "2023-07-12T07:40:10.349Z"
   },
   {
    "duration": 152,
    "start_time": "2023-07-12T07:40:10.379Z"
   },
   {
    "duration": 4,
    "start_time": "2023-07-12T07:40:10.533Z"
   },
   {
    "duration": 105,
    "start_time": "2023-07-12T07:40:10.539Z"
   },
   {
    "duration": 4,
    "start_time": "2023-07-12T07:40:10.646Z"
   },
   {
    "duration": 177,
    "start_time": "2023-07-12T07:40:10.652Z"
   },
   {
    "duration": 7,
    "start_time": "2023-07-12T07:40:10.831Z"
   },
   {
    "duration": 396,
    "start_time": "2023-07-12T07:40:10.840Z"
   },
   {
    "duration": 8,
    "start_time": "2023-07-12T07:40:11.239Z"
   },
   {
    "duration": 269,
    "start_time": "2023-07-12T07:40:11.248Z"
   },
   {
    "duration": 11,
    "start_time": "2023-07-12T07:40:11.526Z"
   },
   {
    "duration": 186,
    "start_time": "2023-07-12T07:40:11.539Z"
   },
   {
    "duration": 30,
    "start_time": "2023-07-12T07:40:11.730Z"
   },
   {
    "duration": 3,
    "start_time": "2023-07-12T07:40:11.762Z"
   },
   {
    "duration": 97,
    "start_time": "2023-07-12T07:40:11.767Z"
   },
   {
    "duration": 27,
    "start_time": "2023-07-12T07:40:11.865Z"
   },
   {
    "duration": 386,
    "start_time": "2023-07-12T07:40:11.893Z"
   },
   {
    "duration": 300,
    "start_time": "2023-07-12T07:40:12.280Z"
   },
   {
    "duration": 982,
    "start_time": "2023-07-12T07:40:12.582Z"
   },
   {
    "duration": 173,
    "start_time": "2023-07-12T07:40:13.565Z"
   },
   {
    "duration": 5,
    "start_time": "2023-07-12T07:40:13.740Z"
   },
   {
    "duration": 835,
    "start_time": "2023-07-12T07:40:13.747Z"
   },
   {
    "duration": 5,
    "start_time": "2023-07-12T07:40:14.584Z"
   },
   {
    "duration": 24,
    "start_time": "2023-07-12T07:40:14.609Z"
   },
   {
    "duration": 4,
    "start_time": "2023-07-12T07:41:28.224Z"
   },
   {
    "duration": 38,
    "start_time": "2023-07-12T07:41:28.230Z"
   },
   {
    "duration": 11,
    "start_time": "2023-07-12T07:41:28.269Z"
   },
   {
    "duration": 61,
    "start_time": "2023-07-12T07:41:28.282Z"
   },
   {
    "duration": 10,
    "start_time": "2023-07-12T07:41:28.344Z"
   },
   {
    "duration": 33,
    "start_time": "2023-07-12T07:41:28.355Z"
   },
   {
    "duration": 27,
    "start_time": "2023-07-12T07:41:28.389Z"
   },
   {
    "duration": 10,
    "start_time": "2023-07-12T07:41:28.426Z"
   },
   {
    "duration": 10,
    "start_time": "2023-07-12T07:41:28.439Z"
   },
   {
    "duration": 9,
    "start_time": "2023-07-12T07:41:28.450Z"
   },
   {
    "duration": 8,
    "start_time": "2023-07-12T07:41:28.460Z"
   },
   {
    "duration": 11,
    "start_time": "2023-07-12T07:41:28.469Z"
   },
   {
    "duration": 12,
    "start_time": "2023-07-12T07:41:28.481Z"
   },
   {
    "duration": 34,
    "start_time": "2023-07-12T07:41:28.494Z"
   },
   {
    "duration": 12,
    "start_time": "2023-07-12T07:41:28.529Z"
   },
   {
    "duration": 131,
    "start_time": "2023-07-12T07:41:28.542Z"
   },
   {
    "duration": 5,
    "start_time": "2023-07-12T07:41:28.674Z"
   },
   {
    "duration": 147,
    "start_time": "2023-07-12T07:41:28.680Z"
   },
   {
    "duration": 6,
    "start_time": "2023-07-12T07:41:28.828Z"
   },
   {
    "duration": 262,
    "start_time": "2023-07-12T07:41:28.835Z"
   },
   {
    "duration": 17,
    "start_time": "2023-07-12T07:41:29.105Z"
   },
   {
    "duration": 334,
    "start_time": "2023-07-12T07:41:29.123Z"
   },
   {
    "duration": 6,
    "start_time": "2023-07-12T07:41:29.460Z"
   },
   {
    "duration": 176,
    "start_time": "2023-07-12T07:41:29.468Z"
   },
   {
    "duration": 7,
    "start_time": "2023-07-12T07:41:29.645Z"
   },
   {
    "duration": 174,
    "start_time": "2023-07-12T07:41:29.654Z"
   },
   {
    "duration": 27,
    "start_time": "2023-07-12T07:41:29.830Z"
   },
   {
    "duration": 4,
    "start_time": "2023-07-12T07:41:29.859Z"
   },
   {
    "duration": 45,
    "start_time": "2023-07-12T07:41:29.864Z"
   },
   {
    "duration": 24,
    "start_time": "2023-07-12T07:41:29.910Z"
   },
   {
    "duration": 312,
    "start_time": "2023-07-12T07:41:29.936Z"
   },
   {
    "duration": 282,
    "start_time": "2023-07-12T07:41:30.250Z"
   },
   {
    "duration": 898,
    "start_time": "2023-07-12T07:41:30.533Z"
   },
   {
    "duration": 149,
    "start_time": "2023-07-12T07:41:31.432Z"
   },
   {
    "duration": 4,
    "start_time": "2023-07-12T07:41:31.583Z"
   },
   {
    "duration": 955,
    "start_time": "2023-07-12T07:41:31.588Z"
   },
   {
    "duration": 4,
    "start_time": "2023-07-12T07:41:32.545Z"
   },
   {
    "duration": 16,
    "start_time": "2023-07-12T07:41:32.550Z"
   },
   {
    "duration": 4,
    "start_time": "2023-07-12T07:42:14.082Z"
   },
   {
    "duration": 67,
    "start_time": "2023-07-12T07:42:14.088Z"
   },
   {
    "duration": 21,
    "start_time": "2023-07-12T07:42:14.158Z"
   },
   {
    "duration": 79,
    "start_time": "2023-07-12T07:42:14.182Z"
   },
   {
    "duration": 23,
    "start_time": "2023-07-12T07:42:14.265Z"
   },
   {
    "duration": 100,
    "start_time": "2023-07-12T07:42:14.290Z"
   },
   {
    "duration": 33,
    "start_time": "2023-07-12T07:42:14.392Z"
   },
   {
    "duration": 40,
    "start_time": "2023-07-12T07:42:14.429Z"
   },
   {
    "duration": 12,
    "start_time": "2023-07-12T07:42:14.472Z"
   },
   {
    "duration": 7,
    "start_time": "2023-07-12T07:42:14.488Z"
   },
   {
    "duration": 61,
    "start_time": "2023-07-12T07:42:14.497Z"
   },
   {
    "duration": 53,
    "start_time": "2023-07-12T07:42:14.560Z"
   },
   {
    "duration": 49,
    "start_time": "2023-07-12T07:42:14.615Z"
   },
   {
    "duration": 16,
    "start_time": "2023-07-12T07:42:14.666Z"
   },
   {
    "duration": 11,
    "start_time": "2023-07-12T07:42:14.683Z"
   },
   {
    "duration": 255,
    "start_time": "2023-07-12T07:42:14.695Z"
   },
   {
    "duration": 5,
    "start_time": "2023-07-12T07:42:14.958Z"
   },
   {
    "duration": 119,
    "start_time": "2023-07-12T07:42:14.965Z"
   },
   {
    "duration": 5,
    "start_time": "2023-07-12T07:42:15.085Z"
   },
   {
    "duration": 270,
    "start_time": "2023-07-12T07:42:15.091Z"
   },
   {
    "duration": 12,
    "start_time": "2023-07-12T07:42:15.363Z"
   },
   {
    "duration": 463,
    "start_time": "2023-07-12T07:42:15.377Z"
   },
   {
    "duration": 13,
    "start_time": "2023-07-12T07:42:15.842Z"
   },
   {
    "duration": 241,
    "start_time": "2023-07-12T07:42:15.858Z"
   },
   {
    "duration": 15,
    "start_time": "2023-07-12T07:42:16.118Z"
   },
   {
    "duration": 327,
    "start_time": "2023-07-12T07:42:16.135Z"
   },
   {
    "duration": 69,
    "start_time": "2023-07-12T07:42:16.464Z"
   },
   {
    "duration": 17,
    "start_time": "2023-07-12T07:42:16.536Z"
   },
   {
    "duration": 68,
    "start_time": "2023-07-12T07:42:16.555Z"
   },
   {
    "duration": 50,
    "start_time": "2023-07-12T07:42:16.624Z"
   },
   {
    "duration": 445,
    "start_time": "2023-07-12T07:42:16.676Z"
   },
   {
    "duration": 325,
    "start_time": "2023-07-12T07:42:17.134Z"
   },
   {
    "duration": 1111,
    "start_time": "2023-07-12T07:42:17.461Z"
   },
   {
    "duration": 285,
    "start_time": "2023-07-12T07:42:18.574Z"
   },
   {
    "duration": 6,
    "start_time": "2023-07-12T07:42:18.860Z"
   },
   {
    "duration": 988,
    "start_time": "2023-07-12T07:42:18.867Z"
   },
   {
    "duration": 6,
    "start_time": "2023-07-12T07:42:19.860Z"
   },
   {
    "duration": 39,
    "start_time": "2023-07-12T07:42:19.868Z"
   },
   {
    "duration": 3,
    "start_time": "2023-07-12T07:42:42.655Z"
   },
   {
    "duration": 36,
    "start_time": "2023-07-12T07:42:42.660Z"
   },
   {
    "duration": 40,
    "start_time": "2023-07-12T07:42:42.697Z"
   },
   {
    "duration": 46,
    "start_time": "2023-07-12T07:42:42.739Z"
   },
   {
    "duration": 12,
    "start_time": "2023-07-12T07:42:42.786Z"
   },
   {
    "duration": 33,
    "start_time": "2023-07-12T07:42:42.811Z"
   },
   {
    "duration": 16,
    "start_time": "2023-07-12T07:42:42.846Z"
   },
   {
    "duration": 7,
    "start_time": "2023-07-12T07:42:42.864Z"
   },
   {
    "duration": 7,
    "start_time": "2023-07-12T07:42:42.873Z"
   },
   {
    "duration": 6,
    "start_time": "2023-07-12T07:42:42.882Z"
   },
   {
    "duration": 19,
    "start_time": "2023-07-12T07:42:42.890Z"
   },
   {
    "duration": 47,
    "start_time": "2023-07-12T07:42:42.911Z"
   },
   {
    "duration": 5,
    "start_time": "2023-07-12T07:42:42.960Z"
   },
   {
    "duration": 12,
    "start_time": "2023-07-12T07:42:42.967Z"
   },
   {
    "duration": 10,
    "start_time": "2023-07-12T07:42:42.980Z"
   },
   {
    "duration": 202,
    "start_time": "2023-07-12T07:42:42.991Z"
   },
   {
    "duration": 22,
    "start_time": "2023-07-12T07:42:43.195Z"
   },
   {
    "duration": 125,
    "start_time": "2023-07-12T07:42:43.226Z"
   },
   {
    "duration": 5,
    "start_time": "2023-07-12T07:42:43.353Z"
   },
   {
    "duration": 153,
    "start_time": "2023-07-12T07:42:43.360Z"
   },
   {
    "duration": 6,
    "start_time": "2023-07-12T07:42:43.515Z"
   },
   {
    "duration": 418,
    "start_time": "2023-07-12T07:42:43.523Z"
   },
   {
    "duration": 9,
    "start_time": "2023-07-12T07:42:43.952Z"
   },
   {
    "duration": 191,
    "start_time": "2023-07-12T07:42:43.963Z"
   },
   {
    "duration": 8,
    "start_time": "2023-07-12T07:42:44.156Z"
   },
   {
    "duration": 187,
    "start_time": "2023-07-12T07:42:44.165Z"
   },
   {
    "duration": 61,
    "start_time": "2023-07-12T07:42:44.354Z"
   },
   {
    "duration": 9,
    "start_time": "2023-07-12T07:42:44.416Z"
   },
   {
    "duration": 42,
    "start_time": "2023-07-12T07:42:44.426Z"
   },
   {
    "duration": 19,
    "start_time": "2023-07-12T07:42:44.469Z"
   },
   {
    "duration": 362,
    "start_time": "2023-07-12T07:42:44.490Z"
   },
   {
    "duration": 383,
    "start_time": "2023-07-12T07:42:44.854Z"
   },
   {
    "duration": 4,
    "start_time": "2023-07-12T07:42:45.238Z"
   },
   {
    "duration": 1033,
    "start_time": "2023-07-12T07:42:45.245Z"
   },
   {
    "duration": 186,
    "start_time": "2023-07-12T07:42:46.279Z"
   },
   {
    "duration": 6,
    "start_time": "2023-07-12T07:42:46.467Z"
   },
   {
    "duration": 894,
    "start_time": "2023-07-12T07:42:46.475Z"
   },
   {
    "duration": 6,
    "start_time": "2023-07-12T07:42:47.370Z"
   },
   {
    "duration": 9,
    "start_time": "2023-07-12T07:42:47.377Z"
   },
   {
    "duration": 12,
    "start_time": "2023-07-12T07:43:43.249Z"
   },
   {
    "duration": 52,
    "start_time": "2023-07-12T07:43:43.267Z"
   },
   {
    "duration": 30,
    "start_time": "2023-07-12T07:43:43.321Z"
   },
   {
    "duration": 36,
    "start_time": "2023-07-12T07:43:43.354Z"
   },
   {
    "duration": 40,
    "start_time": "2023-07-12T07:43:43.392Z"
   },
   {
    "duration": 34,
    "start_time": "2023-07-12T07:43:43.446Z"
   },
   {
    "duration": 14,
    "start_time": "2023-07-12T07:43:43.481Z"
   },
   {
    "duration": 8,
    "start_time": "2023-07-12T07:43:43.496Z"
   },
   {
    "duration": 62,
    "start_time": "2023-07-12T07:43:43.512Z"
   },
   {
    "duration": 15,
    "start_time": "2023-07-12T07:43:43.576Z"
   },
   {
    "duration": 5,
    "start_time": "2023-07-12T07:43:43.592Z"
   },
   {
    "duration": 54,
    "start_time": "2023-07-12T07:43:43.605Z"
   },
   {
    "duration": 11,
    "start_time": "2023-07-12T07:43:43.661Z"
   },
   {
    "duration": 5,
    "start_time": "2023-07-12T07:43:43.677Z"
   },
   {
    "duration": 14,
    "start_time": "2023-07-12T07:43:43.683Z"
   },
   {
    "duration": 189,
    "start_time": "2023-07-12T07:43:43.698Z"
   },
   {
    "duration": 4,
    "start_time": "2023-07-12T07:43:43.889Z"
   },
   {
    "duration": 163,
    "start_time": "2023-07-12T07:43:43.894Z"
   },
   {
    "duration": 5,
    "start_time": "2023-07-12T07:43:44.058Z"
   },
   {
    "duration": 184,
    "start_time": "2023-07-12T07:43:44.065Z"
   },
   {
    "duration": 15,
    "start_time": "2023-07-12T07:43:44.257Z"
   },
   {
    "duration": 379,
    "start_time": "2023-07-12T07:43:44.273Z"
   },
   {
    "duration": 10,
    "start_time": "2023-07-12T07:43:44.653Z"
   },
   {
    "duration": 212,
    "start_time": "2023-07-12T07:43:44.665Z"
   },
   {
    "duration": 8,
    "start_time": "2023-07-12T07:43:44.878Z"
   },
   {
    "duration": 292,
    "start_time": "2023-07-12T07:43:44.887Z"
   },
   {
    "duration": 52,
    "start_time": "2023-07-12T07:43:45.181Z"
   },
   {
    "duration": 16,
    "start_time": "2023-07-12T07:43:45.242Z"
   },
   {
    "duration": 25,
    "start_time": "2023-07-12T07:43:45.260Z"
   },
   {
    "duration": 51,
    "start_time": "2023-07-12T07:43:45.286Z"
   },
   {
    "duration": 403,
    "start_time": "2023-07-12T07:43:45.356Z"
   },
   {
    "duration": 314,
    "start_time": "2023-07-12T07:43:45.761Z"
   },
   {
    "duration": 5,
    "start_time": "2023-07-12T07:43:46.077Z"
   },
   {
    "duration": 1076,
    "start_time": "2023-07-12T07:43:46.084Z"
   },
   {
    "duration": 171,
    "start_time": "2023-07-12T07:43:47.162Z"
   },
   {
    "duration": 7,
    "start_time": "2023-07-12T07:43:47.334Z"
   },
   {
    "duration": 854,
    "start_time": "2023-07-12T07:43:47.342Z"
   },
   {
    "duration": 8,
    "start_time": "2023-07-12T07:43:48.201Z"
   },
   {
    "duration": 71,
    "start_time": "2023-07-12T07:43:48.210Z"
   },
   {
    "duration": 4,
    "start_time": "2023-07-12T07:44:26.087Z"
   },
   {
    "duration": 123,
    "start_time": "2023-07-12T07:44:26.094Z"
   },
   {
    "duration": 35,
    "start_time": "2023-07-12T07:44:26.230Z"
   },
   {
    "duration": 73,
    "start_time": "2023-07-12T07:44:26.268Z"
   },
   {
    "duration": 27,
    "start_time": "2023-07-12T07:44:26.343Z"
   },
   {
    "duration": 24,
    "start_time": "2023-07-12T07:44:26.372Z"
   },
   {
    "duration": 31,
    "start_time": "2023-07-12T07:44:26.418Z"
   },
   {
    "duration": 31,
    "start_time": "2023-07-12T07:44:26.453Z"
   },
   {
    "duration": 77,
    "start_time": "2023-07-12T07:44:26.486Z"
   },
   {
    "duration": 31,
    "start_time": "2023-07-12T07:44:26.566Z"
   },
   {
    "duration": 65,
    "start_time": "2023-07-12T07:44:26.600Z"
   },
   {
    "duration": 23,
    "start_time": "2023-07-12T07:44:26.667Z"
   },
   {
    "duration": 17,
    "start_time": "2023-07-12T07:44:26.693Z"
   },
   {
    "duration": 55,
    "start_time": "2023-07-12T07:44:26.711Z"
   },
   {
    "duration": 10,
    "start_time": "2023-07-12T07:44:26.769Z"
   },
   {
    "duration": 176,
    "start_time": "2023-07-12T07:44:26.781Z"
   },
   {
    "duration": 5,
    "start_time": "2023-07-12T07:44:26.958Z"
   },
   {
    "duration": 105,
    "start_time": "2023-07-12T07:44:26.964Z"
   },
   {
    "duration": 5,
    "start_time": "2023-07-12T07:44:27.070Z"
   },
   {
    "duration": 166,
    "start_time": "2023-07-12T07:44:27.077Z"
   },
   {
    "duration": 17,
    "start_time": "2023-07-12T07:44:27.244Z"
   },
   {
    "duration": 558,
    "start_time": "2023-07-12T07:44:27.263Z"
   },
   {
    "duration": 14,
    "start_time": "2023-07-12T07:44:27.822Z"
   },
   {
    "duration": 233,
    "start_time": "2023-07-12T07:44:27.837Z"
   },
   {
    "duration": 9,
    "start_time": "2023-07-12T07:44:28.072Z"
   },
   {
    "duration": 250,
    "start_time": "2023-07-12T07:44:28.083Z"
   },
   {
    "duration": 32,
    "start_time": "2023-07-12T07:44:28.344Z"
   },
   {
    "duration": 7,
    "start_time": "2023-07-12T07:44:28.378Z"
   },
   {
    "duration": 86,
    "start_time": "2023-07-12T07:44:28.387Z"
   },
   {
    "duration": 52,
    "start_time": "2023-07-12T07:44:28.475Z"
   },
   {
    "duration": 532,
    "start_time": "2023-07-12T07:44:28.529Z"
   },
   {
    "duration": 316,
    "start_time": "2023-07-12T07:44:29.063Z"
   },
   {
    "duration": 3,
    "start_time": "2023-07-12T07:44:29.381Z"
   },
   {
    "duration": 1009,
    "start_time": "2023-07-12T07:44:29.386Z"
   },
   {
    "duration": 265,
    "start_time": "2023-07-12T07:44:30.397Z"
   },
   {
    "duration": 7,
    "start_time": "2023-07-12T07:44:30.664Z"
   },
   {
    "duration": 1321,
    "start_time": "2023-07-12T07:44:30.672Z"
   },
   {
    "duration": 18,
    "start_time": "2023-07-12T07:44:31.999Z"
   },
   {
    "duration": 50,
    "start_time": "2023-07-12T07:44:32.025Z"
   },
   {
    "duration": 3,
    "start_time": "2023-07-12T07:44:50.662Z"
   },
   {
    "duration": 78,
    "start_time": "2023-07-12T07:44:50.667Z"
   },
   {
    "duration": 24,
    "start_time": "2023-07-12T07:44:50.747Z"
   },
   {
    "duration": 82,
    "start_time": "2023-07-12T07:44:50.773Z"
   },
   {
    "duration": 13,
    "start_time": "2023-07-12T07:44:50.856Z"
   },
   {
    "duration": 47,
    "start_time": "2023-07-12T07:44:50.870Z"
   },
   {
    "duration": 43,
    "start_time": "2023-07-12T07:44:50.918Z"
   },
   {
    "duration": 15,
    "start_time": "2023-07-12T07:44:50.963Z"
   },
   {
    "duration": 71,
    "start_time": "2023-07-12T07:44:50.980Z"
   },
   {
    "duration": 35,
    "start_time": "2023-07-12T07:44:51.052Z"
   },
   {
    "duration": 64,
    "start_time": "2023-07-12T07:44:51.089Z"
   },
   {
    "duration": 24,
    "start_time": "2023-07-12T07:44:51.154Z"
   },
   {
    "duration": 6,
    "start_time": "2023-07-12T07:44:51.179Z"
   },
   {
    "duration": 63,
    "start_time": "2023-07-12T07:44:51.187Z"
   },
   {
    "duration": 29,
    "start_time": "2023-07-12T07:44:51.252Z"
   },
   {
    "duration": 244,
    "start_time": "2023-07-12T07:44:51.283Z"
   },
   {
    "duration": 23,
    "start_time": "2023-07-12T07:44:51.542Z"
   },
   {
    "duration": 259,
    "start_time": "2023-07-12T07:44:51.578Z"
   },
   {
    "duration": 16,
    "start_time": "2023-07-12T07:44:51.858Z"
   },
   {
    "duration": 283,
    "start_time": "2023-07-12T07:44:51.876Z"
   },
   {
    "duration": 9,
    "start_time": "2023-07-12T07:44:52.160Z"
   },
   {
    "duration": 406,
    "start_time": "2023-07-12T07:44:52.170Z"
   },
   {
    "duration": 11,
    "start_time": "2023-07-12T07:44:52.578Z"
   },
   {
    "duration": 271,
    "start_time": "2023-07-12T07:44:52.608Z"
   },
   {
    "duration": 9,
    "start_time": "2023-07-12T07:44:52.881Z"
   },
   {
    "duration": 286,
    "start_time": "2023-07-12T07:44:52.892Z"
   },
   {
    "duration": 56,
    "start_time": "2023-07-12T07:44:53.180Z"
   },
   {
    "duration": 23,
    "start_time": "2023-07-12T07:44:53.238Z"
   },
   {
    "duration": 64,
    "start_time": "2023-07-12T07:44:53.263Z"
   },
   {
    "duration": 33,
    "start_time": "2023-07-12T07:44:53.329Z"
   },
   {
    "duration": 503,
    "start_time": "2023-07-12T07:44:53.364Z"
   },
   {
    "duration": 484,
    "start_time": "2023-07-12T07:44:53.870Z"
   },
   {
    "duration": 7,
    "start_time": "2023-07-12T07:44:54.362Z"
   },
   {
    "duration": 1043,
    "start_time": "2023-07-12T07:44:54.370Z"
   },
   {
    "duration": 334,
    "start_time": "2023-07-12T07:44:55.415Z"
   },
   {
    "duration": 7,
    "start_time": "2023-07-12T07:44:55.750Z"
   },
   {
    "duration": 935,
    "start_time": "2023-07-12T07:44:55.758Z"
   },
   {
    "duration": 34,
    "start_time": "2023-07-12T07:44:56.695Z"
   },
   {
    "duration": 42,
    "start_time": "2023-07-12T07:44:56.735Z"
   },
   {
    "duration": 4,
    "start_time": "2023-07-12T08:07:49.228Z"
   },
   {
    "duration": 41,
    "start_time": "2023-07-12T08:07:49.234Z"
   },
   {
    "duration": 11,
    "start_time": "2023-07-12T08:07:49.277Z"
   },
   {
    "duration": 66,
    "start_time": "2023-07-12T08:07:49.290Z"
   },
   {
    "duration": 13,
    "start_time": "2023-07-12T08:07:49.358Z"
   },
   {
    "duration": 19,
    "start_time": "2023-07-12T08:07:49.372Z"
   },
   {
    "duration": 28,
    "start_time": "2023-07-12T08:07:49.393Z"
   },
   {
    "duration": 25,
    "start_time": "2023-07-12T08:07:49.426Z"
   },
   {
    "duration": 9,
    "start_time": "2023-07-12T08:07:49.453Z"
   },
   {
    "duration": 8,
    "start_time": "2023-07-12T08:07:49.464Z"
   },
   {
    "duration": 5,
    "start_time": "2023-07-12T08:07:49.474Z"
   },
   {
    "duration": 32,
    "start_time": "2023-07-12T08:07:49.481Z"
   },
   {
    "duration": 33,
    "start_time": "2023-07-12T08:07:49.514Z"
   },
   {
    "duration": 11,
    "start_time": "2023-07-12T08:07:49.550Z"
   },
   {
    "duration": 8,
    "start_time": "2023-07-12T08:07:49.562Z"
   },
   {
    "duration": 187,
    "start_time": "2023-07-12T08:07:49.572Z"
   },
   {
    "duration": 5,
    "start_time": "2023-07-12T08:07:49.760Z"
   },
   {
    "duration": 98,
    "start_time": "2023-07-12T08:07:49.766Z"
   },
   {
    "duration": 5,
    "start_time": "2023-07-12T08:07:49.865Z"
   },
   {
    "duration": 163,
    "start_time": "2023-07-12T08:07:49.871Z"
   },
   {
    "duration": 10,
    "start_time": "2023-07-12T08:07:50.036Z"
   },
   {
    "duration": 388,
    "start_time": "2023-07-12T08:07:50.048Z"
   },
   {
    "duration": 9,
    "start_time": "2023-07-12T08:07:50.438Z"
   },
   {
    "duration": 186,
    "start_time": "2023-07-12T08:07:50.449Z"
   },
   {
    "duration": 7,
    "start_time": "2023-07-12T08:07:50.636Z"
   },
   {
    "duration": 184,
    "start_time": "2023-07-12T08:07:50.644Z"
   },
   {
    "duration": 30,
    "start_time": "2023-07-12T08:07:50.829Z"
   },
   {
    "duration": 4,
    "start_time": "2023-07-12T08:07:50.861Z"
   },
   {
    "duration": 25,
    "start_time": "2023-07-12T08:07:50.866Z"
   },
   {
    "duration": 41,
    "start_time": "2023-07-12T08:07:50.892Z"
   },
   {
    "duration": 320,
    "start_time": "2023-07-12T08:07:50.935Z"
   },
   {
    "duration": 393,
    "start_time": "2023-07-12T08:07:51.256Z"
   },
   {
    "duration": 4,
    "start_time": "2023-07-12T08:07:51.650Z"
   },
   {
    "duration": 935,
    "start_time": "2023-07-12T08:07:51.656Z"
   },
   {
    "duration": 172,
    "start_time": "2023-07-12T08:07:52.593Z"
   },
   {
    "duration": 6,
    "start_time": "2023-07-12T08:07:52.767Z"
   },
   {
    "duration": 61,
    "start_time": "2023-07-12T08:07:52.775Z"
   },
   {
    "duration": 830,
    "start_time": "2023-07-12T08:07:52.838Z"
   },
   {
    "duration": 4,
    "start_time": "2023-07-12T08:07:53.670Z"
   },
   {
    "duration": 53,
    "start_time": "2023-07-12T08:07:53.676Z"
   },
   {
    "duration": 3,
    "start_time": "2023-07-12T08:16:50.881Z"
   },
   {
    "duration": 72,
    "start_time": "2023-07-12T08:16:50.886Z"
   },
   {
    "duration": 18,
    "start_time": "2023-07-12T08:16:51.524Z"
   },
   {
    "duration": 34,
    "start_time": "2023-07-12T08:16:51.545Z"
   },
   {
    "duration": 12,
    "start_time": "2023-07-12T08:16:51.580Z"
   },
   {
    "duration": 21,
    "start_time": "2023-07-12T08:16:51.826Z"
   },
   {
    "duration": 13,
    "start_time": "2023-07-12T08:16:51.848Z"
   },
   {
    "duration": 5,
    "start_time": "2023-07-12T08:16:51.862Z"
   },
   {
    "duration": 10,
    "start_time": "2023-07-12T08:16:51.868Z"
   },
   {
    "duration": 6,
    "start_time": "2023-07-12T08:16:51.880Z"
   },
   {
    "duration": 8,
    "start_time": "2023-07-12T08:16:51.887Z"
   },
   {
    "duration": 48,
    "start_time": "2023-07-12T08:16:51.896Z"
   },
   {
    "duration": 8,
    "start_time": "2023-07-12T08:16:51.945Z"
   },
   {
    "duration": 29,
    "start_time": "2023-07-12T08:16:51.954Z"
   },
   {
    "duration": 55,
    "start_time": "2023-07-12T08:16:51.984Z"
   },
   {
    "duration": 181,
    "start_time": "2023-07-12T08:16:52.040Z"
   },
   {
    "duration": 11,
    "start_time": "2023-07-12T08:16:52.222Z"
   },
   {
    "duration": 97,
    "start_time": "2023-07-12T08:16:52.235Z"
   },
   {
    "duration": 5,
    "start_time": "2023-07-12T08:16:52.337Z"
   },
   {
    "duration": 184,
    "start_time": "2023-07-12T08:16:52.343Z"
   },
   {
    "duration": 9,
    "start_time": "2023-07-12T08:16:52.536Z"
   },
   {
    "duration": 334,
    "start_time": "2023-07-12T08:16:52.546Z"
   },
   {
    "duration": 8,
    "start_time": "2023-07-12T08:16:52.881Z"
   },
   {
    "duration": 201,
    "start_time": "2023-07-12T08:16:52.890Z"
   },
   {
    "duration": 30,
    "start_time": "2023-07-12T08:16:53.093Z"
   },
   {
    "duration": 185,
    "start_time": "2023-07-12T08:16:53.125Z"
   },
   {
    "duration": 37,
    "start_time": "2023-07-12T08:16:53.311Z"
   },
   {
    "duration": 3,
    "start_time": "2023-07-12T08:16:53.350Z"
   },
   {
    "duration": 180,
    "start_time": "2023-07-12T08:16:53.354Z"
   },
   {
    "duration": 24,
    "start_time": "2023-07-12T08:16:53.535Z"
   },
   {
    "duration": 512,
    "start_time": "2023-07-12T08:16:53.561Z"
   },
   {
    "duration": 284,
    "start_time": "2023-07-12T08:16:54.075Z"
   },
   {
    "duration": 4,
    "start_time": "2023-07-12T08:16:54.360Z"
   },
   {
    "duration": 883,
    "start_time": "2023-07-12T08:16:54.365Z"
   },
   {
    "duration": 178,
    "start_time": "2023-07-12T08:16:55.249Z"
   },
   {
    "duration": 6,
    "start_time": "2023-07-12T08:16:55.430Z"
   },
   {
    "duration": 33,
    "start_time": "2023-07-12T08:16:55.438Z"
   },
   {
    "duration": 845,
    "start_time": "2023-07-12T08:16:55.472Z"
   },
   {
    "duration": 13,
    "start_time": "2023-07-12T08:16:56.324Z"
   },
   {
    "duration": 35,
    "start_time": "2023-07-12T08:16:56.340Z"
   },
   {
    "duration": 22,
    "start_time": "2023-07-12T08:16:56.376Z"
   },
   {
    "duration": 3,
    "start_time": "2023-07-12T08:17:15.654Z"
   },
   {
    "duration": 104,
    "start_time": "2023-07-12T08:17:15.658Z"
   },
   {
    "duration": 17,
    "start_time": "2023-07-12T08:17:15.764Z"
   },
   {
    "duration": 45,
    "start_time": "2023-07-12T08:17:16.374Z"
   },
   {
    "duration": 24,
    "start_time": "2023-07-12T08:17:16.421Z"
   },
   {
    "duration": 24,
    "start_time": "2023-07-12T08:17:16.447Z"
   },
   {
    "duration": 12,
    "start_time": "2023-07-12T08:17:16.473Z"
   },
   {
    "duration": 10,
    "start_time": "2023-07-12T08:17:16.487Z"
   },
   {
    "duration": 42,
    "start_time": "2023-07-12T08:17:16.498Z"
   },
   {
    "duration": 5,
    "start_time": "2023-07-12T08:17:16.791Z"
   },
   {
    "duration": 49,
    "start_time": "2023-07-12T08:17:16.798Z"
   },
   {
    "duration": 15,
    "start_time": "2023-07-12T08:17:16.848Z"
   },
   {
    "duration": 4,
    "start_time": "2023-07-12T08:17:16.865Z"
   },
   {
    "duration": 20,
    "start_time": "2023-07-12T08:17:16.871Z"
   },
   {
    "duration": 56,
    "start_time": "2023-07-12T08:17:16.892Z"
   },
   {
    "duration": 139,
    "start_time": "2023-07-12T08:17:16.950Z"
   },
   {
    "duration": 4,
    "start_time": "2023-07-12T08:17:17.091Z"
   },
   {
    "duration": 130,
    "start_time": "2023-07-12T08:17:17.096Z"
   },
   {
    "duration": 5,
    "start_time": "2023-07-12T08:17:17.228Z"
   },
   {
    "duration": 174,
    "start_time": "2023-07-12T08:17:17.234Z"
   },
   {
    "duration": 8,
    "start_time": "2023-07-12T08:17:17.409Z"
   },
   {
    "duration": 404,
    "start_time": "2023-07-12T08:17:17.423Z"
   },
   {
    "duration": 8,
    "start_time": "2023-07-12T08:17:17.833Z"
   },
   {
    "duration": 247,
    "start_time": "2023-07-12T08:17:17.842Z"
   },
   {
    "duration": 22,
    "start_time": "2023-07-12T08:17:18.091Z"
   },
   {
    "duration": 204,
    "start_time": "2023-07-12T08:17:18.114Z"
   },
   {
    "duration": 29,
    "start_time": "2023-07-12T08:17:18.330Z"
   },
   {
    "duration": 3,
    "start_time": "2023-07-12T08:17:18.361Z"
   },
   {
    "duration": 32,
    "start_time": "2023-07-12T08:17:18.365Z"
   },
   {
    "duration": 54,
    "start_time": "2023-07-12T08:17:18.398Z"
   },
   {
    "duration": 334,
    "start_time": "2023-07-12T08:17:18.453Z"
   },
   {
    "duration": 292,
    "start_time": "2023-07-12T08:17:18.788Z"
   },
   {
    "duration": 3,
    "start_time": "2023-07-12T08:17:19.082Z"
   },
   {
    "duration": 908,
    "start_time": "2023-07-12T08:17:19.087Z"
   },
   {
    "duration": 156,
    "start_time": "2023-07-12T08:17:19.998Z"
   },
   {
    "duration": 5,
    "start_time": "2023-07-12T08:17:20.155Z"
   },
   {
    "duration": 9,
    "start_time": "2023-07-12T08:17:20.161Z"
   },
   {
    "duration": 787,
    "start_time": "2023-07-12T08:17:20.171Z"
   },
   {
    "duration": 5,
    "start_time": "2023-07-12T08:17:21.672Z"
   },
   {
    "duration": 10,
    "start_time": "2023-07-12T08:17:25.048Z"
   },
   {
    "duration": 21,
    "start_time": "2023-07-12T08:17:25.060Z"
   },
   {
    "duration": 4,
    "start_time": "2023-07-12T08:17:35.787Z"
   },
   {
    "duration": 33,
    "start_time": "2023-07-12T08:17:37.343Z"
   },
   {
    "duration": 13,
    "start_time": "2023-07-12T08:17:37.378Z"
   },
   {
    "duration": 57,
    "start_time": "2023-07-12T08:17:38.088Z"
   },
   {
    "duration": 15,
    "start_time": "2023-07-12T08:17:38.147Z"
   },
   {
    "duration": 29,
    "start_time": "2023-07-12T08:17:38.163Z"
   },
   {
    "duration": 31,
    "start_time": "2023-07-12T08:17:38.194Z"
   },
   {
    "duration": 14,
    "start_time": "2023-07-12T08:17:38.227Z"
   },
   {
    "duration": 7,
    "start_time": "2023-07-12T08:17:38.242Z"
   },
   {
    "duration": 7,
    "start_time": "2023-07-12T08:17:38.251Z"
   },
   {
    "duration": 24,
    "start_time": "2023-07-12T08:17:38.259Z"
   },
   {
    "duration": 41,
    "start_time": "2023-07-12T08:17:38.285Z"
   },
   {
    "duration": 10,
    "start_time": "2023-07-12T08:17:38.327Z"
   },
   {
    "duration": 6,
    "start_time": "2023-07-12T08:17:38.338Z"
   },
   {
    "duration": 20,
    "start_time": "2023-07-12T08:17:38.593Z"
   },
   {
    "duration": 158,
    "start_time": "2023-07-12T08:17:38.626Z"
   },
   {
    "duration": 6,
    "start_time": "2023-07-12T08:17:38.786Z"
   },
   {
    "duration": 127,
    "start_time": "2023-07-12T08:17:38.794Z"
   },
   {
    "duration": 6,
    "start_time": "2023-07-12T08:17:38.925Z"
   },
   {
    "duration": 188,
    "start_time": "2023-07-12T08:17:38.933Z"
   },
   {
    "duration": 13,
    "start_time": "2023-07-12T08:17:39.122Z"
   },
   {
    "duration": 459,
    "start_time": "2023-07-12T08:17:39.137Z"
   },
   {
    "duration": 9,
    "start_time": "2023-07-12T08:17:39.599Z"
   },
   {
    "duration": 205,
    "start_time": "2023-07-12T08:17:39.610Z"
   },
   {
    "duration": 8,
    "start_time": "2023-07-12T08:17:39.817Z"
   },
   {
    "duration": 190,
    "start_time": "2023-07-12T08:17:39.828Z"
   },
   {
    "duration": 33,
    "start_time": "2023-07-12T08:17:40.020Z"
   },
   {
    "duration": 12,
    "start_time": "2023-07-12T08:17:40.055Z"
   },
   {
    "duration": 66,
    "start_time": "2023-07-12T08:17:40.069Z"
   },
   {
    "duration": 47,
    "start_time": "2023-07-12T08:17:40.136Z"
   },
   {
    "duration": 353,
    "start_time": "2023-07-12T08:17:40.185Z"
   },
   {
    "duration": 314,
    "start_time": "2023-07-12T08:17:40.540Z"
   },
   {
    "duration": 4,
    "start_time": "2023-07-12T08:17:40.856Z"
   },
   {
    "duration": 996,
    "start_time": "2023-07-12T08:17:40.862Z"
   },
   {
    "duration": 183,
    "start_time": "2023-07-12T08:17:41.860Z"
   },
   {
    "duration": 6,
    "start_time": "2023-07-12T08:17:42.044Z"
   },
   {
    "duration": 7,
    "start_time": "2023-07-12T08:17:42.051Z"
   },
   {
    "duration": 872,
    "start_time": "2023-07-12T08:17:42.060Z"
   },
   {
    "duration": 5,
    "start_time": "2023-07-12T08:17:42.934Z"
   },
   {
    "duration": 13,
    "start_time": "2023-07-12T08:17:42.941Z"
   },
   {
    "duration": 4,
    "start_time": "2023-07-12T08:17:42.956Z"
   },
   {
    "duration": 4,
    "start_time": "2023-07-12T08:21:18.346Z"
   },
   {
    "duration": 85,
    "start_time": "2023-07-12T08:21:18.352Z"
   },
   {
    "duration": 15,
    "start_time": "2023-07-12T08:21:18.638Z"
   },
   {
    "duration": 78,
    "start_time": "2023-07-12T08:21:18.655Z"
   },
   {
    "duration": 19,
    "start_time": "2023-07-12T08:21:18.743Z"
   },
   {
    "duration": 29,
    "start_time": "2023-07-12T08:21:18.764Z"
   },
   {
    "duration": 15,
    "start_time": "2023-07-12T08:21:18.945Z"
   },
   {
    "duration": 8,
    "start_time": "2023-07-12T08:21:18.962Z"
   },
   {
    "duration": 10,
    "start_time": "2023-07-12T08:21:18.971Z"
   },
   {
    "duration": 31,
    "start_time": "2023-07-12T08:21:18.982Z"
   },
   {
    "duration": 33,
    "start_time": "2023-07-12T08:21:19.015Z"
   },
   {
    "duration": 14,
    "start_time": "2023-07-12T08:21:19.049Z"
   },
   {
    "duration": 6,
    "start_time": "2023-07-12T08:21:19.065Z"
   },
   {
    "duration": 15,
    "start_time": "2023-07-12T08:21:19.073Z"
   },
   {
    "duration": 20,
    "start_time": "2023-07-12T08:21:19.089Z"
   },
   {
    "duration": 198,
    "start_time": "2023-07-12T08:21:19.122Z"
   },
   {
    "duration": 6,
    "start_time": "2023-07-12T08:21:19.332Z"
   },
   {
    "duration": 198,
    "start_time": "2023-07-12T08:21:19.340Z"
   },
   {
    "duration": 10,
    "start_time": "2023-07-12T08:21:19.539Z"
   },
   {
    "duration": 217,
    "start_time": "2023-07-12T08:21:19.557Z"
   },
   {
    "duration": 8,
    "start_time": "2023-07-12T08:21:19.776Z"
   },
   {
    "duration": 403,
    "start_time": "2023-07-12T08:21:19.786Z"
   },
   {
    "duration": 28,
    "start_time": "2023-07-12T08:21:20.192Z"
   },
   {
    "duration": 215,
    "start_time": "2023-07-12T08:21:20.234Z"
   },
   {
    "duration": 8,
    "start_time": "2023-07-12T08:21:20.451Z"
   },
   {
    "duration": 199,
    "start_time": "2023-07-12T08:21:20.461Z"
   },
   {
    "duration": 43,
    "start_time": "2023-07-12T08:21:20.662Z"
   },
   {
    "duration": 7,
    "start_time": "2023-07-12T08:21:20.706Z"
   },
   {
    "duration": 67,
    "start_time": "2023-07-12T08:21:20.714Z"
   },
   {
    "duration": 58,
    "start_time": "2023-07-12T08:21:20.783Z"
   },
   {
    "duration": 385,
    "start_time": "2023-07-12T08:21:20.843Z"
   },
   {
    "duration": 310,
    "start_time": "2023-07-12T08:21:21.237Z"
   },
   {
    "duration": 3,
    "start_time": "2023-07-12T08:21:21.550Z"
   },
   {
    "duration": 1062,
    "start_time": "2023-07-12T08:21:21.555Z"
   },
   {
    "duration": 260,
    "start_time": "2023-07-12T08:21:22.618Z"
   },
   {
    "duration": 5,
    "start_time": "2023-07-12T08:21:22.879Z"
   },
   {
    "duration": 62,
    "start_time": "2023-07-12T08:21:22.885Z"
   },
   {
    "duration": 867,
    "start_time": "2023-07-12T08:21:22.949Z"
   },
   {
    "duration": 5,
    "start_time": "2023-07-12T08:21:23.818Z"
   },
   {
    "duration": 37,
    "start_time": "2023-07-12T08:21:23.825Z"
   },
   {
    "duration": 11,
    "start_time": "2023-07-12T08:21:23.864Z"
   },
   {
    "duration": 3,
    "start_time": "2023-07-12T08:30:28.771Z"
   },
   {
    "duration": 90,
    "start_time": "2023-07-12T08:30:28.775Z"
   },
   {
    "duration": 12,
    "start_time": "2023-07-12T08:30:29.077Z"
   },
   {
    "duration": 57,
    "start_time": "2023-07-12T08:30:29.091Z"
   },
   {
    "duration": 31,
    "start_time": "2023-07-12T08:30:29.150Z"
   },
   {
    "duration": 26,
    "start_time": "2023-07-12T08:30:29.183Z"
   },
   {
    "duration": 15,
    "start_time": "2023-07-12T08:30:29.692Z"
   },
   {
    "duration": 29,
    "start_time": "2023-07-12T08:30:29.709Z"
   },
   {
    "duration": 29,
    "start_time": "2023-07-12T08:30:29.740Z"
   },
   {
    "duration": 21,
    "start_time": "2023-07-12T08:30:29.770Z"
   },
   {
    "duration": 64,
    "start_time": "2023-07-12T08:30:29.793Z"
   },
   {
    "duration": 82,
    "start_time": "2023-07-12T08:30:29.859Z"
   },
   {
    "duration": 18,
    "start_time": "2023-07-12T08:30:29.942Z"
   },
   {
    "duration": 35,
    "start_time": "2023-07-12T08:30:29.962Z"
   },
   {
    "duration": 99,
    "start_time": "2023-07-12T08:30:29.999Z"
   },
   {
    "duration": 242,
    "start_time": "2023-07-12T08:30:30.100Z"
   },
   {
    "duration": 6,
    "start_time": "2023-07-12T08:30:30.354Z"
   },
   {
    "duration": 187,
    "start_time": "2023-07-12T08:30:30.362Z"
   },
   {
    "duration": 5,
    "start_time": "2023-07-12T08:30:30.555Z"
   },
   {
    "duration": 281,
    "start_time": "2023-07-12T08:30:30.564Z"
   },
   {
    "duration": 10,
    "start_time": "2023-07-12T08:30:30.854Z"
   },
   {
    "duration": 499,
    "start_time": "2023-07-12T08:30:30.866Z"
   },
   {
    "duration": 10,
    "start_time": "2023-07-12T08:30:31.366Z"
   },
   {
    "duration": 279,
    "start_time": "2023-07-12T08:30:31.378Z"
   },
   {
    "duration": 11,
    "start_time": "2023-07-12T08:30:31.658Z"
   },
   {
    "duration": 281,
    "start_time": "2023-07-12T08:30:31.670Z"
   },
   {
    "duration": 42,
    "start_time": "2023-07-12T08:30:31.954Z"
   },
   {
    "duration": 75,
    "start_time": "2023-07-12T08:30:31.998Z"
   },
   {
    "duration": 94,
    "start_time": "2023-07-12T08:30:32.074Z"
   },
   {
    "duration": 26,
    "start_time": "2023-07-12T08:30:32.170Z"
   },
   {
    "duration": 457,
    "start_time": "2023-07-12T08:30:32.198Z"
   },
   {
    "duration": 409,
    "start_time": "2023-07-12T08:30:32.656Z"
   },
   {
    "duration": 3,
    "start_time": "2023-07-12T08:30:33.067Z"
   },
   {
    "duration": 983,
    "start_time": "2023-07-12T08:30:33.072Z"
   },
   {
    "duration": 198,
    "start_time": "2023-07-12T08:30:34.058Z"
   },
   {
    "duration": 7,
    "start_time": "2023-07-12T08:30:34.259Z"
   },
   {
    "duration": 81,
    "start_time": "2023-07-12T08:30:34.269Z"
   },
   {
    "duration": 1015,
    "start_time": "2023-07-12T08:30:34.351Z"
   },
   {
    "duration": 5,
    "start_time": "2023-07-12T08:30:35.368Z"
   },
   {
    "duration": 31,
    "start_time": "2023-07-12T08:30:35.375Z"
   },
   {
    "duration": 48,
    "start_time": "2023-07-12T08:30:35.407Z"
   },
   {
    "duration": 4,
    "start_time": "2023-07-12T08:34:16.873Z"
   },
   {
    "duration": 86,
    "start_time": "2023-07-12T08:34:16.879Z"
   },
   {
    "duration": 12,
    "start_time": "2023-07-12T08:34:17.171Z"
   },
   {
    "duration": 92,
    "start_time": "2023-07-12T08:34:17.185Z"
   },
   {
    "duration": 13,
    "start_time": "2023-07-12T08:34:17.279Z"
   },
   {
    "duration": 104,
    "start_time": "2023-07-12T08:34:17.294Z"
   },
   {
    "duration": 13,
    "start_time": "2023-07-12T08:34:17.471Z"
   },
   {
    "duration": 35,
    "start_time": "2023-07-12T08:34:17.486Z"
   },
   {
    "duration": 76,
    "start_time": "2023-07-12T08:34:17.523Z"
   },
   {
    "duration": 81,
    "start_time": "2023-07-12T08:34:17.601Z"
   },
   {
    "duration": 46,
    "start_time": "2023-07-12T08:34:17.684Z"
   },
   {
    "duration": 48,
    "start_time": "2023-07-12T08:34:17.732Z"
   },
   {
    "duration": 23,
    "start_time": "2023-07-12T08:34:17.781Z"
   },
   {
    "duration": 75,
    "start_time": "2023-07-12T08:34:17.806Z"
   },
   {
    "duration": 72,
    "start_time": "2023-07-12T08:34:17.882Z"
   },
   {
    "duration": 181,
    "start_time": "2023-07-12T08:34:17.956Z"
   },
   {
    "duration": 23,
    "start_time": "2023-07-12T08:34:18.138Z"
   },
   {
    "duration": 144,
    "start_time": "2023-07-12T08:34:18.165Z"
   },
   {
    "duration": 12,
    "start_time": "2023-07-12T08:34:18.313Z"
   },
   {
    "duration": 215,
    "start_time": "2023-07-12T08:34:18.329Z"
   },
   {
    "duration": 7,
    "start_time": "2023-07-12T08:34:18.546Z"
   },
   {
    "duration": 475,
    "start_time": "2023-07-12T08:34:18.556Z"
   },
   {
    "duration": 19,
    "start_time": "2023-07-12T08:34:19.038Z"
   },
   {
    "duration": 248,
    "start_time": "2023-07-12T08:34:19.066Z"
   },
   {
    "duration": 9,
    "start_time": "2023-07-12T08:34:19.318Z"
   },
   {
    "duration": 299,
    "start_time": "2023-07-12T08:34:19.331Z"
   },
   {
    "duration": 46,
    "start_time": "2023-07-12T08:34:19.635Z"
   },
   {
    "duration": 73,
    "start_time": "2023-07-12T08:34:19.682Z"
   },
   {
    "duration": 55,
    "start_time": "2023-07-12T08:34:19.757Z"
   },
   {
    "duration": 102,
    "start_time": "2023-07-12T08:34:19.814Z"
   },
   {
    "duration": 561,
    "start_time": "2023-07-12T08:34:19.917Z"
   },
   {
    "duration": 349,
    "start_time": "2023-07-12T08:34:20.480Z"
   },
   {
    "duration": 7,
    "start_time": "2023-07-12T08:34:20.832Z"
   },
   {
    "duration": 1192,
    "start_time": "2023-07-12T08:34:20.842Z"
   },
   {
    "duration": 232,
    "start_time": "2023-07-12T08:34:22.047Z"
   },
   {
    "duration": 6,
    "start_time": "2023-07-12T08:34:22.280Z"
   },
   {
    "duration": 81,
    "start_time": "2023-07-12T08:34:22.290Z"
   },
   {
    "duration": 952,
    "start_time": "2023-07-12T08:34:22.373Z"
   },
   {
    "duration": 14,
    "start_time": "2023-07-12T08:34:23.327Z"
   },
   {
    "duration": 44,
    "start_time": "2023-07-12T08:34:23.342Z"
   },
   {
    "duration": 10,
    "start_time": "2023-07-12T08:34:23.388Z"
   },
   {
    "duration": 9,
    "start_time": "2023-07-12T08:35:06.100Z"
   },
   {
    "duration": 161,
    "start_time": "2023-07-12T08:35:06.122Z"
   },
   {
    "duration": 82,
    "start_time": "2023-07-12T08:35:06.286Z"
   },
   {
    "duration": 89,
    "start_time": "2023-07-12T08:35:06.370Z"
   },
   {
    "duration": 40,
    "start_time": "2023-07-12T08:35:06.461Z"
   },
   {
    "duration": 100,
    "start_time": "2023-07-12T08:35:06.511Z"
   },
   {
    "duration": 66,
    "start_time": "2023-07-12T08:35:06.612Z"
   },
   {
    "duration": 51,
    "start_time": "2023-07-12T08:35:06.680Z"
   },
   {
    "duration": 71,
    "start_time": "2023-07-12T08:35:06.733Z"
   },
   {
    "duration": 89,
    "start_time": "2023-07-12T08:35:06.805Z"
   },
   {
    "duration": 75,
    "start_time": "2023-07-12T08:35:06.896Z"
   },
   {
    "duration": 24,
    "start_time": "2023-07-12T08:35:06.973Z"
   },
   {
    "duration": 69,
    "start_time": "2023-07-12T08:35:07.004Z"
   },
   {
    "duration": 13,
    "start_time": "2023-07-12T08:35:07.074Z"
   },
   {
    "duration": 48,
    "start_time": "2023-07-12T08:35:07.091Z"
   },
   {
    "duration": 204,
    "start_time": "2023-07-12T08:35:07.143Z"
   },
   {
    "duration": 5,
    "start_time": "2023-07-12T08:35:07.348Z"
   },
   {
    "duration": 132,
    "start_time": "2023-07-12T08:35:07.355Z"
   },
   {
    "duration": 6,
    "start_time": "2023-07-12T08:35:07.488Z"
   },
   {
    "duration": 289,
    "start_time": "2023-07-12T08:35:07.496Z"
   },
   {
    "duration": 30,
    "start_time": "2023-07-12T08:35:07.788Z"
   },
   {
    "duration": 462,
    "start_time": "2023-07-12T08:35:07.819Z"
   },
   {
    "duration": 9,
    "start_time": "2023-07-12T08:35:08.282Z"
   },
   {
    "duration": 385,
    "start_time": "2023-07-12T08:35:08.292Z"
   },
   {
    "duration": 10,
    "start_time": "2023-07-12T08:35:08.679Z"
   },
   {
    "duration": 262,
    "start_time": "2023-07-12T08:35:08.691Z"
   },
   {
    "duration": 53,
    "start_time": "2023-07-12T08:35:08.955Z"
   },
   {
    "duration": 25,
    "start_time": "2023-07-12T08:35:09.024Z"
   },
   {
    "duration": 72,
    "start_time": "2023-07-12T08:35:09.066Z"
   },
   {
    "duration": 48,
    "start_time": "2023-07-12T08:35:09.140Z"
   },
   {
    "duration": 477,
    "start_time": "2023-07-12T08:35:09.189Z"
   },
   {
    "duration": 347,
    "start_time": "2023-07-12T08:35:09.668Z"
   },
   {
    "duration": 3,
    "start_time": "2023-07-12T08:35:10.017Z"
   },
   {
    "duration": 1115,
    "start_time": "2023-07-12T08:35:10.022Z"
   },
   {
    "duration": 199,
    "start_time": "2023-07-12T08:35:11.153Z"
   },
   {
    "duration": 16,
    "start_time": "2023-07-12T08:35:11.354Z"
   },
   {
    "duration": 27,
    "start_time": "2023-07-12T08:35:11.372Z"
   },
   {
    "duration": 1095,
    "start_time": "2023-07-12T08:35:11.400Z"
   },
   {
    "duration": 13,
    "start_time": "2023-07-12T08:35:12.497Z"
   },
   {
    "duration": 76,
    "start_time": "2023-07-12T08:35:12.511Z"
   },
   {
    "duration": 17,
    "start_time": "2023-07-12T08:35:12.588Z"
   },
   {
    "duration": 4,
    "start_time": "2023-07-12T08:36:48.178Z"
   },
   {
    "duration": 102,
    "start_time": "2023-07-12T08:36:48.185Z"
   },
   {
    "duration": 56,
    "start_time": "2023-07-12T08:36:48.288Z"
   },
   {
    "duration": 164,
    "start_time": "2023-07-12T08:36:48.349Z"
   },
   {
    "duration": 17,
    "start_time": "2023-07-12T08:36:48.515Z"
   },
   {
    "duration": 52,
    "start_time": "2023-07-12T08:36:48.534Z"
   },
   {
    "duration": 34,
    "start_time": "2023-07-12T08:36:48.588Z"
   },
   {
    "duration": 47,
    "start_time": "2023-07-12T08:36:48.623Z"
   },
   {
    "duration": 6,
    "start_time": "2023-07-12T08:36:48.672Z"
   },
   {
    "duration": 9,
    "start_time": "2023-07-12T08:36:48.681Z"
   },
   {
    "duration": 76,
    "start_time": "2023-07-12T08:36:48.691Z"
   },
   {
    "duration": 22,
    "start_time": "2023-07-12T08:36:48.768Z"
   },
   {
    "duration": 6,
    "start_time": "2023-07-12T08:36:48.791Z"
   },
   {
    "duration": 78,
    "start_time": "2023-07-12T08:36:48.798Z"
   },
   {
    "duration": 9,
    "start_time": "2023-07-12T08:36:48.878Z"
   },
   {
    "duration": 285,
    "start_time": "2023-07-12T08:36:48.891Z"
   },
   {
    "duration": 5,
    "start_time": "2023-07-12T08:36:49.178Z"
   },
   {
    "duration": 161,
    "start_time": "2023-07-12T08:36:49.184Z"
   },
   {
    "duration": 13,
    "start_time": "2023-07-12T08:36:49.363Z"
   },
   {
    "duration": 211,
    "start_time": "2023-07-12T08:36:49.377Z"
   },
   {
    "duration": 7,
    "start_time": "2023-07-12T08:36:49.590Z"
   },
   {
    "duration": 593,
    "start_time": "2023-07-12T08:36:49.603Z"
   },
   {
    "duration": 22,
    "start_time": "2023-07-12T08:36:50.197Z"
   },
   {
    "duration": 321,
    "start_time": "2023-07-12T08:36:50.221Z"
   },
   {
    "duration": 9,
    "start_time": "2023-07-12T08:36:50.543Z"
   },
   {
    "duration": 280,
    "start_time": "2023-07-12T08:36:50.553Z"
   },
   {
    "duration": 36,
    "start_time": "2023-07-12T08:36:50.851Z"
   },
   {
    "duration": 4,
    "start_time": "2023-07-12T08:36:50.891Z"
   },
   {
    "duration": 108,
    "start_time": "2023-07-12T08:36:50.897Z"
   },
   {
    "duration": 36,
    "start_time": "2023-07-12T08:36:51.007Z"
   },
   {
    "duration": 517,
    "start_time": "2023-07-12T08:36:51.044Z"
   },
   {
    "duration": 399,
    "start_time": "2023-07-12T08:36:51.563Z"
   },
   {
    "duration": 3,
    "start_time": "2023-07-12T08:36:51.964Z"
   },
   {
    "duration": 1392,
    "start_time": "2023-07-12T08:36:51.969Z"
   },
   {
    "duration": 220,
    "start_time": "2023-07-12T08:36:53.362Z"
   },
   {
    "duration": 18,
    "start_time": "2023-07-12T08:36:53.584Z"
   },
   {
    "duration": 85,
    "start_time": "2023-07-12T08:36:53.613Z"
   },
   {
    "duration": 1338,
    "start_time": "2023-07-12T08:36:53.700Z"
   },
   {
    "duration": 5,
    "start_time": "2023-07-12T08:36:55.039Z"
   },
   {
    "duration": 72,
    "start_time": "2023-07-12T08:36:55.046Z"
   },
   {
    "duration": 65,
    "start_time": "2023-07-12T08:36:55.120Z"
   },
   {
    "duration": 1494,
    "start_time": "2023-07-12T14:44:53.375Z"
   },
   {
    "duration": 60,
    "start_time": "2023-07-12T14:44:54.873Z"
   },
   {
    "duration": 155,
    "start_time": "2023-07-12T14:44:54.941Z"
   },
   {
    "duration": 79,
    "start_time": "2023-07-12T14:44:55.098Z"
   },
   {
    "duration": 23,
    "start_time": "2023-07-12T14:44:55.179Z"
   },
   {
    "duration": 96,
    "start_time": "2023-07-12T14:44:55.204Z"
   },
   {
    "duration": 53,
    "start_time": "2023-07-12T14:44:55.302Z"
   },
   {
    "duration": 16,
    "start_time": "2023-07-12T14:44:55.357Z"
   },
   {
    "duration": 28,
    "start_time": "2023-07-12T14:44:55.375Z"
   },
   {
    "duration": 31,
    "start_time": "2023-07-12T14:44:55.405Z"
   },
   {
    "duration": 32,
    "start_time": "2023-07-12T14:44:55.439Z"
   },
   {
    "duration": 65,
    "start_time": "2023-07-12T14:44:55.473Z"
   },
   {
    "duration": 20,
    "start_time": "2023-07-12T14:44:55.540Z"
   },
   {
    "duration": 40,
    "start_time": "2023-07-12T14:44:55.564Z"
   },
   {
    "duration": 48,
    "start_time": "2023-07-12T14:44:55.608Z"
   },
   {
    "duration": 244,
    "start_time": "2023-07-12T14:44:55.658Z"
   },
   {
    "duration": 9,
    "start_time": "2023-07-12T14:44:55.904Z"
   },
   {
    "duration": 163,
    "start_time": "2023-07-12T14:44:55.921Z"
   },
   {
    "duration": 6,
    "start_time": "2023-07-12T14:44:56.087Z"
   },
   {
    "duration": 244,
    "start_time": "2023-07-12T14:44:56.095Z"
   },
   {
    "duration": 9,
    "start_time": "2023-07-12T14:44:56.341Z"
   },
   {
    "duration": 639,
    "start_time": "2023-07-12T14:44:56.352Z"
   },
   {
    "duration": 9,
    "start_time": "2023-07-12T14:44:56.993Z"
   },
   {
    "duration": 288,
    "start_time": "2023-07-12T14:44:57.014Z"
   },
   {
    "duration": 36,
    "start_time": "2023-07-12T14:44:57.305Z"
   },
   {
    "duration": 228,
    "start_time": "2023-07-12T14:44:57.344Z"
   },
   {
    "duration": 83,
    "start_time": "2023-07-12T14:44:57.574Z"
   },
   {
    "duration": 7,
    "start_time": "2023-07-12T14:44:57.662Z"
   },
   {
    "duration": 133,
    "start_time": "2023-07-12T14:44:57.671Z"
   },
   {
    "duration": 29,
    "start_time": "2023-07-12T14:44:57.814Z"
   },
   {
    "duration": 468,
    "start_time": "2023-07-12T14:44:57.849Z"
   },
   {
    "duration": 378,
    "start_time": "2023-07-12T14:44:58.321Z"
   },
   {
    "duration": 20,
    "start_time": "2023-07-12T14:44:58.702Z"
   },
   {
    "duration": 1299,
    "start_time": "2023-07-12T14:44:58.725Z"
   },
   {
    "duration": 202,
    "start_time": "2023-07-12T14:45:00.026Z"
   },
   {
    "duration": 6,
    "start_time": "2023-07-12T14:45:00.233Z"
   },
   {
    "duration": 96,
    "start_time": "2023-07-12T14:45:00.241Z"
   },
   {
    "duration": 970,
    "start_time": "2023-07-12T14:45:00.339Z"
   },
   {
    "duration": 15,
    "start_time": "2023-07-12T14:45:01.310Z"
   },
   {
    "duration": 257,
    "start_time": "2023-07-12T14:45:01.330Z"
   },
   {
    "duration": 67,
    "start_time": "2023-07-12T14:45:01.591Z"
   },
   {
    "duration": 7,
    "start_time": "2023-07-12T14:47:09.864Z"
   },
   {
    "duration": 1289,
    "start_time": "2023-07-12T14:51:20.050Z"
   },
   {
    "duration": 38,
    "start_time": "2023-07-12T14:51:21.342Z"
   },
   {
    "duration": 14,
    "start_time": "2023-07-12T14:51:21.382Z"
   },
   {
    "duration": 62,
    "start_time": "2023-07-12T14:51:21.398Z"
   },
   {
    "duration": 14,
    "start_time": "2023-07-12T14:51:21.462Z"
   },
   {
    "duration": 52,
    "start_time": "2023-07-12T14:51:21.478Z"
   },
   {
    "duration": 21,
    "start_time": "2023-07-12T14:51:21.531Z"
   },
   {
    "duration": 9,
    "start_time": "2023-07-12T14:51:21.554Z"
   },
   {
    "duration": 19,
    "start_time": "2023-07-12T14:51:21.565Z"
   },
   {
    "duration": 17,
    "start_time": "2023-07-12T14:51:21.587Z"
   },
   {
    "duration": 29,
    "start_time": "2023-07-12T14:51:21.606Z"
   },
   {
    "duration": 26,
    "start_time": "2023-07-12T14:51:21.637Z"
   },
   {
    "duration": 16,
    "start_time": "2023-07-12T14:51:21.665Z"
   },
   {
    "duration": 19,
    "start_time": "2023-07-12T14:51:21.683Z"
   },
   {
    "duration": 37,
    "start_time": "2023-07-12T14:51:21.703Z"
   },
   {
    "duration": 191,
    "start_time": "2023-07-12T14:51:21.741Z"
   },
   {
    "duration": 6,
    "start_time": "2023-07-12T14:51:21.934Z"
   },
   {
    "duration": 120,
    "start_time": "2023-07-12T14:51:21.941Z"
   },
   {
    "duration": 5,
    "start_time": "2023-07-12T14:51:22.063Z"
   },
   {
    "duration": 196,
    "start_time": "2023-07-12T14:51:22.070Z"
   },
   {
    "duration": 7,
    "start_time": "2023-07-12T14:51:22.268Z"
   },
   {
    "duration": 500,
    "start_time": "2023-07-12T14:51:22.277Z"
   },
   {
    "duration": 8,
    "start_time": "2023-07-12T14:51:22.779Z"
   },
   {
    "duration": 231,
    "start_time": "2023-07-12T14:51:22.789Z"
   },
   {
    "duration": 16,
    "start_time": "2023-07-12T14:51:23.022Z"
   },
   {
    "duration": 214,
    "start_time": "2023-07-12T14:51:23.040Z"
   },
   {
    "duration": 36,
    "start_time": "2023-07-12T14:51:23.256Z"
   },
   {
    "duration": 21,
    "start_time": "2023-07-12T14:51:23.295Z"
   },
   {
    "duration": 34,
    "start_time": "2023-07-12T14:51:23.318Z"
   },
   {
    "duration": 107,
    "start_time": "2023-07-12T14:51:23.354Z"
   },
   {
    "duration": 456,
    "start_time": "2023-07-12T14:51:23.463Z"
   },
   {
    "duration": 351,
    "start_time": "2023-07-12T14:51:23.922Z"
   },
   {
    "duration": 3,
    "start_time": "2023-07-12T14:51:24.275Z"
   },
   {
    "duration": 1013,
    "start_time": "2023-07-12T14:51:24.280Z"
   },
   {
    "duration": 163,
    "start_time": "2023-07-12T14:51:25.294Z"
   },
   {
    "duration": 6,
    "start_time": "2023-07-12T14:51:25.458Z"
   },
   {
    "duration": 10,
    "start_time": "2023-07-12T14:51:25.465Z"
   },
   {
    "duration": 945,
    "start_time": "2023-07-12T14:51:25.476Z"
   },
   {
    "duration": 5,
    "start_time": "2023-07-12T14:51:26.428Z"
   },
   {
    "duration": 56,
    "start_time": "2023-07-12T14:51:26.435Z"
   },
   {
    "duration": 83,
    "start_time": "2023-07-12T14:51:26.492Z"
   },
   {
    "duration": 1516,
    "start_time": "2023-07-13T06:32:40.296Z"
   },
   {
    "duration": 90,
    "start_time": "2023-07-13T06:32:41.814Z"
   },
   {
    "duration": 16,
    "start_time": "2023-07-13T06:32:41.906Z"
   },
   {
    "duration": 100,
    "start_time": "2023-07-13T06:32:41.924Z"
   },
   {
    "duration": 14,
    "start_time": "2023-07-13T06:32:42.027Z"
   },
   {
    "duration": 69,
    "start_time": "2023-07-13T06:32:42.043Z"
   },
   {
    "duration": 17,
    "start_time": "2023-07-13T06:32:42.114Z"
   },
   {
    "duration": 66,
    "start_time": "2023-07-13T06:32:42.133Z"
   },
   {
    "duration": 20,
    "start_time": "2023-07-13T06:32:42.201Z"
   },
   {
    "duration": 18,
    "start_time": "2023-07-13T06:32:42.222Z"
   },
   {
    "duration": 6,
    "start_time": "2023-07-13T06:32:42.242Z"
   },
   {
    "duration": 26,
    "start_time": "2023-07-13T06:32:42.250Z"
   },
   {
    "duration": 6,
    "start_time": "2023-07-13T06:32:42.278Z"
   },
   {
    "duration": 12,
    "start_time": "2023-07-13T06:32:42.287Z"
   },
   {
    "duration": 36,
    "start_time": "2023-07-13T06:32:42.301Z"
   },
   {
    "duration": 173,
    "start_time": "2023-07-13T06:32:42.338Z"
   },
   {
    "duration": 5,
    "start_time": "2023-07-13T06:32:42.513Z"
   },
   {
    "duration": 109,
    "start_time": "2023-07-13T06:32:42.520Z"
   },
   {
    "duration": 5,
    "start_time": "2023-07-13T06:32:42.630Z"
   },
   {
    "duration": 210,
    "start_time": "2023-07-13T06:32:42.637Z"
   },
   {
    "duration": 20,
    "start_time": "2023-07-13T06:32:42.848Z"
   },
   {
    "duration": 423,
    "start_time": "2023-07-13T06:32:42.869Z"
   },
   {
    "duration": 11,
    "start_time": "2023-07-13T06:32:43.295Z"
   },
   {
    "duration": 217,
    "start_time": "2023-07-13T06:32:43.308Z"
   },
   {
    "duration": 7,
    "start_time": "2023-07-13T06:32:43.527Z"
   },
   {
    "duration": 212,
    "start_time": "2023-07-13T06:32:43.536Z"
   },
   {
    "duration": 38,
    "start_time": "2023-07-13T06:32:43.750Z"
   },
   {
    "duration": 4,
    "start_time": "2023-07-13T06:32:43.790Z"
   },
   {
    "duration": 136,
    "start_time": "2023-07-13T06:32:43.795Z"
   },
   {
    "duration": 34,
    "start_time": "2023-07-13T06:32:43.933Z"
   },
   {
    "duration": 362,
    "start_time": "2023-07-13T06:32:43.969Z"
   },
   {
    "duration": 371,
    "start_time": "2023-07-13T06:32:44.333Z"
   },
   {
    "duration": 4,
    "start_time": "2023-07-13T06:32:44.706Z"
   },
   {
    "duration": 918,
    "start_time": "2023-07-13T06:32:44.711Z"
   },
   {
    "duration": 166,
    "start_time": "2023-07-13T06:32:45.631Z"
   },
   {
    "duration": 6,
    "start_time": "2023-07-13T06:32:45.799Z"
   },
   {
    "duration": 10,
    "start_time": "2023-07-13T06:32:45.808Z"
   },
   {
    "duration": 968,
    "start_time": "2023-07-13T06:32:45.820Z"
   },
   {
    "duration": 188,
    "start_time": "2023-07-13T06:32:46.791Z"
   },
   {
    "duration": 0,
    "start_time": "2023-07-13T06:32:46.982Z"
   },
   {
    "duration": 0,
    "start_time": "2023-07-13T06:32:46.983Z"
   },
   {
    "duration": 3,
    "start_time": "2023-07-13T06:33:03.198Z"
   },
   {
    "duration": 97,
    "start_time": "2023-07-13T06:33:03.203Z"
   },
   {
    "duration": 17,
    "start_time": "2023-07-13T06:33:03.302Z"
   },
   {
    "duration": 70,
    "start_time": "2023-07-13T06:33:03.320Z"
   },
   {
    "duration": 15,
    "start_time": "2023-07-13T06:33:03.392Z"
   },
   {
    "duration": 26,
    "start_time": "2023-07-13T06:33:03.409Z"
   },
   {
    "duration": 30,
    "start_time": "2023-07-13T06:33:03.437Z"
   },
   {
    "duration": 13,
    "start_time": "2023-07-13T06:33:03.469Z"
   },
   {
    "duration": 38,
    "start_time": "2023-07-13T06:33:03.484Z"
   },
   {
    "duration": 25,
    "start_time": "2023-07-13T06:33:03.523Z"
   },
   {
    "duration": 19,
    "start_time": "2023-07-13T06:33:03.551Z"
   },
   {
    "duration": 48,
    "start_time": "2023-07-13T06:33:03.572Z"
   },
   {
    "duration": 24,
    "start_time": "2023-07-13T06:33:03.622Z"
   },
   {
    "duration": 32,
    "start_time": "2023-07-13T06:33:03.648Z"
   },
   {
    "duration": 20,
    "start_time": "2023-07-13T06:33:03.682Z"
   },
   {
    "duration": 164,
    "start_time": "2023-07-13T06:33:03.704Z"
   },
   {
    "duration": 5,
    "start_time": "2023-07-13T06:33:03.870Z"
   },
   {
    "duration": 122,
    "start_time": "2023-07-13T06:33:03.876Z"
   },
   {
    "duration": 4,
    "start_time": "2023-07-13T06:33:04.000Z"
   },
   {
    "duration": 195,
    "start_time": "2023-07-13T06:33:04.007Z"
   },
   {
    "duration": 9,
    "start_time": "2023-07-13T06:33:04.203Z"
   },
   {
    "duration": 433,
    "start_time": "2023-07-13T06:33:04.213Z"
   },
   {
    "duration": 11,
    "start_time": "2023-07-13T06:33:04.648Z"
   },
   {
    "duration": 298,
    "start_time": "2023-07-13T06:33:04.664Z"
   },
   {
    "duration": 8,
    "start_time": "2023-07-13T06:33:04.964Z"
   },
   {
    "duration": 224,
    "start_time": "2023-07-13T06:33:04.973Z"
   },
   {
    "duration": 34,
    "start_time": "2023-07-13T06:33:05.198Z"
   },
   {
    "duration": 4,
    "start_time": "2023-07-13T06:33:05.234Z"
   },
   {
    "duration": 32,
    "start_time": "2023-07-13T06:33:05.258Z"
   },
   {
    "duration": 25,
    "start_time": "2023-07-13T06:33:05.292Z"
   },
   {
    "duration": 410,
    "start_time": "2023-07-13T06:33:05.320Z"
   },
   {
    "duration": 344,
    "start_time": "2023-07-13T06:33:05.732Z"
   },
   {
    "duration": 4,
    "start_time": "2023-07-13T06:33:06.079Z"
   },
   {
    "duration": 908,
    "start_time": "2023-07-13T06:33:06.084Z"
   },
   {
    "duration": 152,
    "start_time": "2023-07-13T06:33:06.993Z"
   },
   {
    "duration": 11,
    "start_time": "2023-07-13T06:33:07.147Z"
   },
   {
    "duration": 21,
    "start_time": "2023-07-13T06:33:07.162Z"
   },
   {
    "duration": 919,
    "start_time": "2023-07-13T06:33:07.184Z"
   },
   {
    "duration": 6,
    "start_time": "2023-07-13T06:33:08.105Z"
   },
   {
    "duration": 16,
    "start_time": "2023-07-13T06:33:08.112Z"
   },
   {
    "duration": 5,
    "start_time": "2023-07-13T06:33:08.129Z"
   },
   {
    "duration": 3,
    "start_time": "2023-07-13T06:34:01.926Z"
   },
   {
    "duration": 69,
    "start_time": "2023-07-13T06:34:01.931Z"
   },
   {
    "duration": 14,
    "start_time": "2023-07-13T06:34:02.001Z"
   },
   {
    "duration": 69,
    "start_time": "2023-07-13T06:34:02.017Z"
   },
   {
    "duration": 13,
    "start_time": "2023-07-13T06:34:02.088Z"
   },
   {
    "duration": 28,
    "start_time": "2023-07-13T06:34:02.102Z"
   },
   {
    "duration": 14,
    "start_time": "2023-07-13T06:34:02.132Z"
   },
   {
    "duration": 23,
    "start_time": "2023-07-13T06:34:02.147Z"
   },
   {
    "duration": 22,
    "start_time": "2023-07-13T06:34:02.172Z"
   },
   {
    "duration": 15,
    "start_time": "2023-07-13T06:34:02.195Z"
   },
   {
    "duration": 9,
    "start_time": "2023-07-13T06:34:02.212Z"
   },
   {
    "duration": 19,
    "start_time": "2023-07-13T06:34:02.223Z"
   },
   {
    "duration": 13,
    "start_time": "2023-07-13T06:34:02.245Z"
   },
   {
    "duration": 26,
    "start_time": "2023-07-13T06:34:02.259Z"
   },
   {
    "duration": 13,
    "start_time": "2023-07-13T06:34:02.287Z"
   },
   {
    "duration": 175,
    "start_time": "2023-07-13T06:34:02.302Z"
   },
   {
    "duration": 6,
    "start_time": "2023-07-13T06:34:02.479Z"
   },
   {
    "duration": 120,
    "start_time": "2023-07-13T06:34:02.487Z"
   },
   {
    "duration": 5,
    "start_time": "2023-07-13T06:34:02.611Z"
   },
   {
    "duration": 299,
    "start_time": "2023-07-13T06:34:02.619Z"
   },
   {
    "duration": 8,
    "start_time": "2023-07-13T06:34:02.920Z"
   },
   {
    "duration": 480,
    "start_time": "2023-07-13T06:34:02.931Z"
   },
   {
    "duration": 9,
    "start_time": "2023-07-13T06:34:03.413Z"
   },
   {
    "duration": 255,
    "start_time": "2023-07-13T06:34:03.425Z"
   },
   {
    "duration": 9,
    "start_time": "2023-07-13T06:34:03.682Z"
   },
   {
    "duration": 205,
    "start_time": "2023-07-13T06:34:03.694Z"
   },
   {
    "duration": 33,
    "start_time": "2023-07-13T06:34:03.901Z"
   },
   {
    "duration": 21,
    "start_time": "2023-07-13T06:34:03.936Z"
   },
   {
    "duration": 40,
    "start_time": "2023-07-13T06:34:03.958Z"
   },
   {
    "duration": 35,
    "start_time": "2023-07-13T06:34:03.999Z"
   },
   {
    "duration": 381,
    "start_time": "2023-07-13T06:34:04.036Z"
   },
   {
    "duration": 347,
    "start_time": "2023-07-13T06:34:04.419Z"
   },
   {
    "duration": 4,
    "start_time": "2023-07-13T06:34:04.770Z"
   },
   {
    "duration": 916,
    "start_time": "2023-07-13T06:34:04.776Z"
   },
   {
    "duration": 163,
    "start_time": "2023-07-13T06:34:05.695Z"
   },
   {
    "duration": 8,
    "start_time": "2023-07-13T06:34:05.861Z"
   },
   {
    "duration": 103,
    "start_time": "2023-07-13T06:34:05.871Z"
   },
   {
    "duration": 967,
    "start_time": "2023-07-13T06:34:05.976Z"
   },
   {
    "duration": 7,
    "start_time": "2023-07-13T06:34:06.945Z"
   },
   {
    "duration": 16,
    "start_time": "2023-07-13T06:34:06.953Z"
   },
   {
    "duration": 11,
    "start_time": "2023-07-13T06:34:06.971Z"
   },
   {
    "duration": 3,
    "start_time": "2023-07-13T06:34:53.568Z"
   },
   {
    "duration": 58,
    "start_time": "2023-07-13T06:34:53.573Z"
   },
   {
    "duration": 14,
    "start_time": "2023-07-13T06:34:53.632Z"
   },
   {
    "duration": 56,
    "start_time": "2023-07-13T06:34:53.647Z"
   },
   {
    "duration": 13,
    "start_time": "2023-07-13T06:34:53.705Z"
   },
   {
    "duration": 21,
    "start_time": "2023-07-13T06:34:53.720Z"
   },
   {
    "duration": 27,
    "start_time": "2023-07-13T06:34:53.743Z"
   },
   {
    "duration": 22,
    "start_time": "2023-07-13T06:34:53.771Z"
   },
   {
    "duration": 45,
    "start_time": "2023-07-13T06:34:53.795Z"
   },
   {
    "duration": 30,
    "start_time": "2023-07-13T06:34:53.842Z"
   },
   {
    "duration": 8,
    "start_time": "2023-07-13T06:34:53.874Z"
   },
   {
    "duration": 14,
    "start_time": "2023-07-13T06:34:53.884Z"
   },
   {
    "duration": 8,
    "start_time": "2023-07-13T06:34:53.902Z"
   },
   {
    "duration": 11,
    "start_time": "2023-07-13T06:34:53.911Z"
   },
   {
    "duration": 11,
    "start_time": "2023-07-13T06:34:53.924Z"
   },
   {
    "duration": 155,
    "start_time": "2023-07-13T06:34:53.937Z"
   },
   {
    "duration": 5,
    "start_time": "2023-07-13T06:34:54.094Z"
   },
   {
    "duration": 108,
    "start_time": "2023-07-13T06:34:54.101Z"
   },
   {
    "duration": 5,
    "start_time": "2023-07-13T06:34:54.211Z"
   },
   {
    "duration": 200,
    "start_time": "2023-07-13T06:34:54.217Z"
   },
   {
    "duration": 9,
    "start_time": "2023-07-13T06:34:54.420Z"
   },
   {
    "duration": 441,
    "start_time": "2023-07-13T06:34:54.433Z"
   },
   {
    "duration": 9,
    "start_time": "2023-07-13T06:34:54.875Z"
   },
   {
    "duration": 212,
    "start_time": "2023-07-13T06:34:54.886Z"
   },
   {
    "duration": 8,
    "start_time": "2023-07-13T06:34:55.101Z"
   },
   {
    "duration": 269,
    "start_time": "2023-07-13T06:34:55.110Z"
   },
   {
    "duration": 42,
    "start_time": "2023-07-13T06:34:55.381Z"
   },
   {
    "duration": 6,
    "start_time": "2023-07-13T06:34:55.424Z"
   },
   {
    "duration": 69,
    "start_time": "2023-07-13T06:34:55.432Z"
   },
   {
    "duration": 21,
    "start_time": "2023-07-13T06:34:55.503Z"
   },
   {
    "duration": 374,
    "start_time": "2023-07-13T06:34:55.526Z"
   },
   {
    "duration": 339,
    "start_time": "2023-07-13T06:34:55.902Z"
   },
   {
    "duration": 10,
    "start_time": "2023-07-13T06:34:56.243Z"
   },
   {
    "duration": 905,
    "start_time": "2023-07-13T06:34:56.264Z"
   },
   {
    "duration": 255,
    "start_time": "2023-07-13T06:34:57.173Z"
   },
   {
    "duration": 5,
    "start_time": "2023-07-13T06:34:57.431Z"
   },
   {
    "duration": 22,
    "start_time": "2023-07-13T06:34:57.437Z"
   },
   {
    "duration": 899,
    "start_time": "2023-07-13T06:34:57.468Z"
   },
   {
    "duration": 11,
    "start_time": "2023-07-13T06:34:58.369Z"
   },
   {
    "duration": 21,
    "start_time": "2023-07-13T06:34:58.382Z"
   },
   {
    "duration": 19,
    "start_time": "2023-07-13T06:34:58.406Z"
   },
   {
    "duration": 1169,
    "start_time": "2023-07-13T13:55:46.766Z"
   },
   {
    "duration": 38,
    "start_time": "2023-07-13T13:55:47.936Z"
   },
   {
    "duration": 13,
    "start_time": "2023-07-13T13:55:47.975Z"
   },
   {
    "duration": 60,
    "start_time": "2023-07-13T13:55:47.990Z"
   },
   {
    "duration": 12,
    "start_time": "2023-07-13T13:55:48.051Z"
   },
   {
    "duration": 29,
    "start_time": "2023-07-13T13:55:48.065Z"
   },
   {
    "duration": 17,
    "start_time": "2023-07-13T13:55:48.096Z"
   },
   {
    "duration": 6,
    "start_time": "2023-07-13T13:55:48.115Z"
   },
   {
    "duration": 22,
    "start_time": "2023-07-13T13:55:48.122Z"
   },
   {
    "duration": 9,
    "start_time": "2023-07-13T13:55:48.146Z"
   },
   {
    "duration": 4,
    "start_time": "2023-07-13T13:55:48.156Z"
   },
   {
    "duration": 10,
    "start_time": "2023-07-13T13:55:48.162Z"
   },
   {
    "duration": 4,
    "start_time": "2023-07-13T13:55:48.174Z"
   },
   {
    "duration": 10,
    "start_time": "2023-07-13T13:55:48.180Z"
   },
   {
    "duration": 17,
    "start_time": "2023-07-13T13:55:48.191Z"
   },
   {
    "duration": 157,
    "start_time": "2023-07-13T13:55:48.210Z"
   },
   {
    "duration": 6,
    "start_time": "2023-07-13T13:55:48.368Z"
   },
   {
    "duration": 96,
    "start_time": "2023-07-13T13:55:48.375Z"
   },
   {
    "duration": 4,
    "start_time": "2023-07-13T13:55:48.473Z"
   },
   {
    "duration": 173,
    "start_time": "2023-07-13T13:55:48.479Z"
   },
   {
    "duration": 17,
    "start_time": "2023-07-13T13:55:48.654Z"
   },
   {
    "duration": 422,
    "start_time": "2023-07-13T13:55:48.673Z"
   },
   {
    "duration": 8,
    "start_time": "2023-07-13T13:55:49.096Z"
   },
   {
    "duration": 198,
    "start_time": "2023-07-13T13:55:49.105Z"
   },
   {
    "duration": 8,
    "start_time": "2023-07-13T13:55:49.305Z"
   },
   {
    "duration": 190,
    "start_time": "2023-07-13T13:55:49.315Z"
   },
   {
    "duration": 32,
    "start_time": "2023-07-13T13:55:49.506Z"
   },
   {
    "duration": 3,
    "start_time": "2023-07-13T13:55:49.542Z"
   },
   {
    "duration": 42,
    "start_time": "2023-07-13T13:55:49.547Z"
   },
   {
    "duration": 94,
    "start_time": "2023-07-13T13:55:49.591Z"
   },
   {
    "duration": 359,
    "start_time": "2023-07-13T13:55:49.687Z"
   },
   {
    "duration": 306,
    "start_time": "2023-07-13T13:55:50.047Z"
   },
   {
    "duration": 4,
    "start_time": "2023-07-13T13:55:50.354Z"
   },
   {
    "duration": 864,
    "start_time": "2023-07-13T13:55:50.371Z"
   },
   {
    "duration": 142,
    "start_time": "2023-07-13T13:55:51.236Z"
   },
   {
    "duration": 5,
    "start_time": "2023-07-13T13:55:51.380Z"
   },
   {
    "duration": 19,
    "start_time": "2023-07-13T13:55:51.387Z"
   },
   {
    "duration": 831,
    "start_time": "2023-07-13T13:55:51.408Z"
   },
   {
    "duration": 5,
    "start_time": "2023-07-13T13:55:52.241Z"
   },
   {
    "duration": 22,
    "start_time": "2023-07-13T13:55:52.247Z"
   },
   {
    "duration": 27,
    "start_time": "2023-07-13T13:55:52.271Z"
   },
   {
    "duration": 1475,
    "start_time": "2023-07-14T03:38:31.285Z"
   },
   {
    "duration": 86,
    "start_time": "2023-07-14T03:38:32.762Z"
   },
   {
    "duration": 13,
    "start_time": "2023-07-14T03:38:32.849Z"
   },
   {
    "duration": 103,
    "start_time": "2023-07-14T03:38:32.865Z"
   },
   {
    "duration": 11,
    "start_time": "2023-07-14T03:38:32.970Z"
   },
   {
    "duration": 65,
    "start_time": "2023-07-14T03:38:32.983Z"
   },
   {
    "duration": 15,
    "start_time": "2023-07-14T03:38:33.049Z"
   },
   {
    "duration": 8,
    "start_time": "2023-07-14T03:38:33.066Z"
   },
   {
    "duration": 29,
    "start_time": "2023-07-14T03:38:33.075Z"
   },
   {
    "duration": 47,
    "start_time": "2023-07-14T03:38:33.108Z"
   },
   {
    "duration": 11,
    "start_time": "2023-07-14T03:38:33.156Z"
   },
   {
    "duration": 12,
    "start_time": "2023-07-14T03:38:33.168Z"
   },
   {
    "duration": 5,
    "start_time": "2023-07-14T03:38:33.182Z"
   },
   {
    "duration": 20,
    "start_time": "2023-07-14T03:38:33.189Z"
   },
   {
    "duration": 18,
    "start_time": "2023-07-14T03:38:33.210Z"
   },
   {
    "duration": 166,
    "start_time": "2023-07-14T03:38:33.230Z"
   },
   {
    "duration": 5,
    "start_time": "2023-07-14T03:38:33.398Z"
   },
   {
    "duration": 100,
    "start_time": "2023-07-14T03:38:33.405Z"
   },
   {
    "duration": 5,
    "start_time": "2023-07-14T03:38:33.506Z"
   },
   {
    "duration": 175,
    "start_time": "2023-07-14T03:38:33.513Z"
   },
   {
    "duration": 13,
    "start_time": "2023-07-14T03:38:33.690Z"
   },
   {
    "duration": 399,
    "start_time": "2023-07-14T03:38:33.708Z"
   },
   {
    "duration": 8,
    "start_time": "2023-07-14T03:38:34.108Z"
   },
   {
    "duration": 184,
    "start_time": "2023-07-14T03:38:34.117Z"
   },
   {
    "duration": 7,
    "start_time": "2023-07-14T03:38:34.302Z"
   },
   {
    "duration": 176,
    "start_time": "2023-07-14T03:38:34.311Z"
   },
   {
    "duration": 43,
    "start_time": "2023-07-14T03:38:34.489Z"
   },
   {
    "duration": 4,
    "start_time": "2023-07-14T03:38:34.535Z"
   },
   {
    "duration": 87,
    "start_time": "2023-07-14T03:38:34.541Z"
   },
   {
    "duration": 104,
    "start_time": "2023-07-14T03:38:34.630Z"
   },
   {
    "duration": 381,
    "start_time": "2023-07-14T03:38:34.736Z"
   },
   {
    "duration": 292,
    "start_time": "2023-07-14T03:38:35.118Z"
   },
   {
    "duration": 4,
    "start_time": "2023-07-14T03:38:35.412Z"
   },
   {
    "duration": 879,
    "start_time": "2023-07-14T03:38:35.417Z"
   },
   {
    "duration": 181,
    "start_time": "2023-07-14T03:38:36.298Z"
   },
   {
    "duration": 6,
    "start_time": "2023-07-14T03:38:36.481Z"
   },
   {
    "duration": 11,
    "start_time": "2023-07-14T03:38:36.488Z"
   },
   {
    "duration": 777,
    "start_time": "2023-07-14T03:38:36.500Z"
   },
   {
    "duration": 5,
    "start_time": "2023-07-14T03:38:37.278Z"
   },
   {
    "duration": 10,
    "start_time": "2023-07-14T03:38:37.285Z"
   },
   {
    "duration": 13,
    "start_time": "2023-07-14T03:38:37.297Z"
   },
   {
    "duration": 3,
    "start_time": "2023-07-14T03:50:11.364Z"
   },
   {
    "duration": 36,
    "start_time": "2023-07-14T03:50:11.369Z"
   },
   {
    "duration": 11,
    "start_time": "2023-07-14T03:50:11.407Z"
   },
   {
    "duration": 40,
    "start_time": "2023-07-14T03:50:11.420Z"
   },
   {
    "duration": 12,
    "start_time": "2023-07-14T03:50:11.462Z"
   },
   {
    "duration": 23,
    "start_time": "2023-07-14T03:50:11.475Z"
   },
   {
    "duration": 15,
    "start_time": "2023-07-14T03:50:11.500Z"
   },
   {
    "duration": 20,
    "start_time": "2023-07-14T03:50:11.516Z"
   },
   {
    "duration": 8,
    "start_time": "2023-07-14T03:50:11.538Z"
   },
   {
    "duration": 24,
    "start_time": "2023-07-14T03:50:11.548Z"
   },
   {
    "duration": 9,
    "start_time": "2023-07-14T03:50:11.574Z"
   },
   {
    "duration": 19,
    "start_time": "2023-07-14T03:50:11.584Z"
   },
   {
    "duration": 8,
    "start_time": "2023-07-14T03:50:11.605Z"
   },
   {
    "duration": 11,
    "start_time": "2023-07-14T03:50:11.615Z"
   },
   {
    "duration": 15,
    "start_time": "2023-07-14T03:50:11.627Z"
   },
   {
    "duration": 170,
    "start_time": "2023-07-14T03:50:11.643Z"
   },
   {
    "duration": 5,
    "start_time": "2023-07-14T03:50:11.815Z"
   },
   {
    "duration": 228,
    "start_time": "2023-07-14T03:50:11.831Z"
   },
   {
    "duration": 0,
    "start_time": "2023-07-14T03:50:12.062Z"
   },
   {
    "duration": 0,
    "start_time": "2023-07-14T03:50:12.063Z"
   },
   {
    "duration": 0,
    "start_time": "2023-07-14T03:50:12.065Z"
   },
   {
    "duration": 0,
    "start_time": "2023-07-14T03:50:12.066Z"
   },
   {
    "duration": 0,
    "start_time": "2023-07-14T03:50:12.068Z"
   },
   {
    "duration": 0,
    "start_time": "2023-07-14T03:50:12.070Z"
   },
   {
    "duration": 0,
    "start_time": "2023-07-14T03:50:12.072Z"
   },
   {
    "duration": 0,
    "start_time": "2023-07-14T03:50:12.073Z"
   },
   {
    "duration": 0,
    "start_time": "2023-07-14T03:50:12.074Z"
   },
   {
    "duration": 0,
    "start_time": "2023-07-14T03:50:12.077Z"
   },
   {
    "duration": 0,
    "start_time": "2023-07-14T03:50:12.078Z"
   },
   {
    "duration": 0,
    "start_time": "2023-07-14T03:50:12.079Z"
   },
   {
    "duration": 0,
    "start_time": "2023-07-14T03:50:12.081Z"
   },
   {
    "duration": 0,
    "start_time": "2023-07-14T03:50:12.082Z"
   },
   {
    "duration": 0,
    "start_time": "2023-07-14T03:50:12.083Z"
   },
   {
    "duration": 0,
    "start_time": "2023-07-14T03:50:12.084Z"
   },
   {
    "duration": 0,
    "start_time": "2023-07-14T03:50:12.085Z"
   },
   {
    "duration": 0,
    "start_time": "2023-07-14T03:50:12.086Z"
   },
   {
    "duration": 0,
    "start_time": "2023-07-14T03:50:12.087Z"
   },
   {
    "duration": 0,
    "start_time": "2023-07-14T03:50:12.088Z"
   },
   {
    "duration": 0,
    "start_time": "2023-07-14T03:50:12.131Z"
   },
   {
    "duration": 0,
    "start_time": "2023-07-14T03:50:12.133Z"
   },
   {
    "duration": 0,
    "start_time": "2023-07-14T03:50:12.134Z"
   },
   {
    "duration": 3,
    "start_time": "2023-07-14T03:50:38.691Z"
   },
   {
    "duration": 42,
    "start_time": "2023-07-14T03:50:38.696Z"
   },
   {
    "duration": 14,
    "start_time": "2023-07-14T03:50:38.739Z"
   },
   {
    "duration": 35,
    "start_time": "2023-07-14T03:50:38.755Z"
   },
   {
    "duration": 12,
    "start_time": "2023-07-14T03:50:38.792Z"
   },
   {
    "duration": 28,
    "start_time": "2023-07-14T03:50:38.805Z"
   },
   {
    "duration": 13,
    "start_time": "2023-07-14T03:50:38.834Z"
   },
   {
    "duration": 19,
    "start_time": "2023-07-14T03:50:38.848Z"
   },
   {
    "duration": 20,
    "start_time": "2023-07-14T03:50:38.869Z"
   },
   {
    "duration": 9,
    "start_time": "2023-07-14T03:50:38.891Z"
   },
   {
    "duration": 3,
    "start_time": "2023-07-14T03:50:38.902Z"
   },
   {
    "duration": 26,
    "start_time": "2023-07-14T03:50:38.907Z"
   },
   {
    "duration": 11,
    "start_time": "2023-07-14T03:50:38.935Z"
   },
   {
    "duration": 9,
    "start_time": "2023-07-14T03:50:38.947Z"
   },
   {
    "duration": 14,
    "start_time": "2023-07-14T03:50:38.957Z"
   },
   {
    "duration": 140,
    "start_time": "2023-07-14T03:50:38.972Z"
   },
   {
    "duration": 5,
    "start_time": "2023-07-14T03:50:39.113Z"
   },
   {
    "duration": 141,
    "start_time": "2023-07-14T03:50:39.119Z"
   },
   {
    "duration": 0,
    "start_time": "2023-07-14T03:50:39.262Z"
   },
   {
    "duration": 0,
    "start_time": "2023-07-14T03:50:39.264Z"
   },
   {
    "duration": 0,
    "start_time": "2023-07-14T03:50:39.265Z"
   },
   {
    "duration": 0,
    "start_time": "2023-07-14T03:50:39.267Z"
   },
   {
    "duration": 0,
    "start_time": "2023-07-14T03:50:39.268Z"
   },
   {
    "duration": 0,
    "start_time": "2023-07-14T03:50:39.269Z"
   },
   {
    "duration": 0,
    "start_time": "2023-07-14T03:50:39.271Z"
   },
   {
    "duration": 0,
    "start_time": "2023-07-14T03:50:39.272Z"
   },
   {
    "duration": 0,
    "start_time": "2023-07-14T03:50:39.273Z"
   },
   {
    "duration": 1,
    "start_time": "2023-07-14T03:50:39.274Z"
   },
   {
    "duration": 0,
    "start_time": "2023-07-14T03:50:39.276Z"
   },
   {
    "duration": 0,
    "start_time": "2023-07-14T03:50:39.278Z"
   },
   {
    "duration": 0,
    "start_time": "2023-07-14T03:50:39.279Z"
   },
   {
    "duration": 0,
    "start_time": "2023-07-14T03:50:39.280Z"
   },
   {
    "duration": 0,
    "start_time": "2023-07-14T03:50:39.282Z"
   },
   {
    "duration": 0,
    "start_time": "2023-07-14T03:50:39.284Z"
   },
   {
    "duration": 0,
    "start_time": "2023-07-14T03:50:39.285Z"
   },
   {
    "duration": 0,
    "start_time": "2023-07-14T03:50:39.287Z"
   },
   {
    "duration": 0,
    "start_time": "2023-07-14T03:50:39.288Z"
   },
   {
    "duration": 0,
    "start_time": "2023-07-14T03:50:39.289Z"
   },
   {
    "duration": 0,
    "start_time": "2023-07-14T03:50:39.332Z"
   },
   {
    "duration": 0,
    "start_time": "2023-07-14T03:50:39.333Z"
   },
   {
    "duration": 0,
    "start_time": "2023-07-14T03:50:39.335Z"
   },
   {
    "duration": 3,
    "start_time": "2023-07-14T03:50:57.887Z"
   },
   {
    "duration": 41,
    "start_time": "2023-07-14T03:50:57.893Z"
   },
   {
    "duration": 14,
    "start_time": "2023-07-14T03:50:57.935Z"
   },
   {
    "duration": 43,
    "start_time": "2023-07-14T03:50:57.951Z"
   },
   {
    "duration": 14,
    "start_time": "2023-07-14T03:50:57.995Z"
   },
   {
    "duration": 24,
    "start_time": "2023-07-14T03:50:58.010Z"
   },
   {
    "duration": 14,
    "start_time": "2023-07-14T03:50:58.035Z"
   },
   {
    "duration": 5,
    "start_time": "2023-07-14T03:50:58.050Z"
   },
   {
    "duration": 24,
    "start_time": "2023-07-14T03:50:58.057Z"
   },
   {
    "duration": 25,
    "start_time": "2023-07-14T03:50:58.083Z"
   },
   {
    "duration": 16,
    "start_time": "2023-07-14T03:50:58.110Z"
   },
   {
    "duration": 12,
    "start_time": "2023-07-14T03:50:58.128Z"
   },
   {
    "duration": 7,
    "start_time": "2023-07-14T03:50:58.141Z"
   },
   {
    "duration": 15,
    "start_time": "2023-07-14T03:50:58.149Z"
   },
   {
    "duration": 10,
    "start_time": "2023-07-14T03:50:58.166Z"
   },
   {
    "duration": 158,
    "start_time": "2023-07-14T03:50:58.178Z"
   },
   {
    "duration": 6,
    "start_time": "2023-07-14T03:50:58.339Z"
   },
   {
    "duration": 187,
    "start_time": "2023-07-14T03:50:58.347Z"
   },
   {
    "duration": 5,
    "start_time": "2023-07-14T03:50:58.536Z"
   },
   {
    "duration": 208,
    "start_time": "2023-07-14T03:50:58.543Z"
   },
   {
    "duration": 8,
    "start_time": "2023-07-14T03:50:58.753Z"
   },
   {
    "duration": 432,
    "start_time": "2023-07-14T03:50:58.762Z"
   },
   {
    "duration": 9,
    "start_time": "2023-07-14T03:50:59.196Z"
   },
   {
    "duration": 208,
    "start_time": "2023-07-14T03:50:59.208Z"
   },
   {
    "duration": 16,
    "start_time": "2023-07-14T03:50:59.418Z"
   },
   {
    "duration": 195,
    "start_time": "2023-07-14T03:50:59.436Z"
   },
   {
    "duration": 35,
    "start_time": "2023-07-14T03:50:59.633Z"
   },
   {
    "duration": 5,
    "start_time": "2023-07-14T03:50:59.669Z"
   },
   {
    "duration": 36,
    "start_time": "2023-07-14T03:50:59.675Z"
   },
   {
    "duration": 33,
    "start_time": "2023-07-14T03:50:59.713Z"
   },
   {
    "duration": 385,
    "start_time": "2023-07-14T03:50:59.747Z"
   },
   {
    "duration": 334,
    "start_time": "2023-07-14T03:51:00.134Z"
   },
   {
    "duration": 3,
    "start_time": "2023-07-14T03:51:00.470Z"
   },
   {
    "duration": 932,
    "start_time": "2023-07-14T03:51:00.475Z"
   },
   {
    "duration": 232,
    "start_time": "2023-07-14T03:51:01.408Z"
   },
   {
    "duration": 5,
    "start_time": "2023-07-14T03:51:01.642Z"
   },
   {
    "duration": 62,
    "start_time": "2023-07-14T03:51:01.648Z"
   },
   {
    "duration": 861,
    "start_time": "2023-07-14T03:51:01.712Z"
   },
   {
    "duration": 4,
    "start_time": "2023-07-14T03:51:02.575Z"
   },
   {
    "duration": 30,
    "start_time": "2023-07-14T03:51:02.581Z"
   },
   {
    "duration": 21,
    "start_time": "2023-07-14T03:51:02.612Z"
   },
   {
    "duration": 3,
    "start_time": "2023-07-14T03:52:25.379Z"
   },
   {
    "duration": 39,
    "start_time": "2023-07-14T03:52:25.384Z"
   },
   {
    "duration": 13,
    "start_time": "2023-07-14T03:52:25.424Z"
   },
   {
    "duration": 47,
    "start_time": "2023-07-14T03:52:25.440Z"
   },
   {
    "duration": 12,
    "start_time": "2023-07-14T03:52:25.489Z"
   },
   {
    "duration": 20,
    "start_time": "2023-07-14T03:52:25.502Z"
   },
   {
    "duration": 22,
    "start_time": "2023-07-14T03:52:25.523Z"
   },
   {
    "duration": 14,
    "start_time": "2023-07-14T03:52:25.547Z"
   },
   {
    "duration": 10,
    "start_time": "2023-07-14T03:52:25.563Z"
   },
   {
    "duration": 6,
    "start_time": "2023-07-14T03:52:25.574Z"
   },
   {
    "duration": 4,
    "start_time": "2023-07-14T03:52:25.581Z"
   },
   {
    "duration": 9,
    "start_time": "2023-07-14T03:52:25.586Z"
   },
   {
    "duration": 5,
    "start_time": "2023-07-14T03:52:25.596Z"
   },
   {
    "duration": 7,
    "start_time": "2023-07-14T03:52:25.602Z"
   },
   {
    "duration": 34,
    "start_time": "2023-07-14T03:52:25.610Z"
   },
   {
    "duration": 150,
    "start_time": "2023-07-14T03:52:25.646Z"
   },
   {
    "duration": 5,
    "start_time": "2023-07-14T03:52:25.798Z"
   },
   {
    "duration": 100,
    "start_time": "2023-07-14T03:52:25.805Z"
   },
   {
    "duration": 5,
    "start_time": "2023-07-14T03:52:25.907Z"
   },
   {
    "duration": 178,
    "start_time": "2023-07-14T03:52:25.913Z"
   },
   {
    "duration": 8,
    "start_time": "2023-07-14T03:52:26.093Z"
   },
   {
    "duration": 27,
    "start_time": "2023-07-14T03:52:26.102Z"
   },
   {
    "duration": 194,
    "start_time": "2023-07-14T03:52:26.130Z"
   },
   {
    "duration": 7,
    "start_time": "2023-07-14T03:52:26.331Z"
   },
   {
    "duration": 211,
    "start_time": "2023-07-14T03:52:26.340Z"
   },
   {
    "duration": 36,
    "start_time": "2023-07-14T03:52:26.553Z"
   },
   {
    "duration": 4,
    "start_time": "2023-07-14T03:52:26.591Z"
   },
   {
    "duration": 53,
    "start_time": "2023-07-14T03:52:26.597Z"
   },
   {
    "duration": 20,
    "start_time": "2023-07-14T03:52:26.652Z"
   },
   {
    "duration": 416,
    "start_time": "2023-07-14T03:52:26.673Z"
   },
   {
    "duration": 319,
    "start_time": "2023-07-14T03:52:27.091Z"
   },
   {
    "duration": 3,
    "start_time": "2023-07-14T03:52:27.412Z"
   },
   {
    "duration": 880,
    "start_time": "2023-07-14T03:52:27.417Z"
   },
   {
    "duration": 250,
    "start_time": "2023-07-14T03:52:28.299Z"
   },
   {
    "duration": 6,
    "start_time": "2023-07-14T03:52:28.550Z"
   },
   {
    "duration": 17,
    "start_time": "2023-07-14T03:52:28.557Z"
   },
   {
    "duration": 804,
    "start_time": "2023-07-14T03:52:28.576Z"
   },
   {
    "duration": 5,
    "start_time": "2023-07-14T03:52:29.381Z"
   },
   {
    "duration": 14,
    "start_time": "2023-07-14T03:52:29.387Z"
   },
   {
    "duration": 26,
    "start_time": "2023-07-14T03:52:29.403Z"
   },
   {
    "duration": 3,
    "start_time": "2023-07-14T03:54:15.524Z"
   },
   {
    "duration": 42,
    "start_time": "2023-07-14T03:54:15.530Z"
   },
   {
    "duration": 12,
    "start_time": "2023-07-14T03:54:15.574Z"
   },
   {
    "duration": 46,
    "start_time": "2023-07-14T03:54:15.588Z"
   },
   {
    "duration": 12,
    "start_time": "2023-07-14T03:54:15.636Z"
   },
   {
    "duration": 22,
    "start_time": "2023-07-14T03:54:15.649Z"
   },
   {
    "duration": 19,
    "start_time": "2023-07-14T03:54:15.672Z"
   },
   {
    "duration": 11,
    "start_time": "2023-07-14T03:54:15.692Z"
   },
   {
    "duration": 7,
    "start_time": "2023-07-14T03:54:15.704Z"
   },
   {
    "duration": 19,
    "start_time": "2023-07-14T03:54:15.713Z"
   },
   {
    "duration": 12,
    "start_time": "2023-07-14T03:54:15.733Z"
   },
   {
    "duration": 12,
    "start_time": "2023-07-14T03:54:15.747Z"
   },
   {
    "duration": 20,
    "start_time": "2023-07-14T03:54:15.760Z"
   },
   {
    "duration": 12,
    "start_time": "2023-07-14T03:54:15.783Z"
   },
   {
    "duration": 11,
    "start_time": "2023-07-14T03:54:15.796Z"
   },
   {
    "duration": 132,
    "start_time": "2023-07-14T03:54:15.808Z"
   },
   {
    "duration": 4,
    "start_time": "2023-07-14T03:54:15.941Z"
   },
   {
    "duration": 85,
    "start_time": "2023-07-14T03:54:15.947Z"
   },
   {
    "duration": 0,
    "start_time": "2023-07-14T03:54:16.034Z"
   },
   {
    "duration": 0,
    "start_time": "2023-07-14T03:54:16.035Z"
   },
   {
    "duration": 0,
    "start_time": "2023-07-14T03:54:16.036Z"
   },
   {
    "duration": 0,
    "start_time": "2023-07-14T03:54:16.037Z"
   },
   {
    "duration": 0,
    "start_time": "2023-07-14T03:54:16.038Z"
   },
   {
    "duration": 0,
    "start_time": "2023-07-14T03:54:16.039Z"
   },
   {
    "duration": 0,
    "start_time": "2023-07-14T03:54:16.040Z"
   },
   {
    "duration": 0,
    "start_time": "2023-07-14T03:54:16.042Z"
   },
   {
    "duration": 0,
    "start_time": "2023-07-14T03:54:16.043Z"
   },
   {
    "duration": 0,
    "start_time": "2023-07-14T03:54:16.044Z"
   },
   {
    "duration": 0,
    "start_time": "2023-07-14T03:54:16.045Z"
   },
   {
    "duration": 0,
    "start_time": "2023-07-14T03:54:16.046Z"
   },
   {
    "duration": 0,
    "start_time": "2023-07-14T03:54:16.047Z"
   },
   {
    "duration": 0,
    "start_time": "2023-07-14T03:54:16.048Z"
   },
   {
    "duration": 0,
    "start_time": "2023-07-14T03:54:16.049Z"
   },
   {
    "duration": 0,
    "start_time": "2023-07-14T03:54:16.050Z"
   },
   {
    "duration": 0,
    "start_time": "2023-07-14T03:54:16.051Z"
   },
   {
    "duration": 0,
    "start_time": "2023-07-14T03:54:16.052Z"
   },
   {
    "duration": 0,
    "start_time": "2023-07-14T03:54:16.053Z"
   },
   {
    "duration": 0,
    "start_time": "2023-07-14T03:54:16.055Z"
   },
   {
    "duration": 0,
    "start_time": "2023-07-14T03:54:16.055Z"
   },
   {
    "duration": 0,
    "start_time": "2023-07-14T03:54:16.056Z"
   },
   {
    "duration": 3,
    "start_time": "2023-07-14T03:54:30.372Z"
   },
   {
    "duration": 62,
    "start_time": "2023-07-14T03:54:30.378Z"
   },
   {
    "duration": 14,
    "start_time": "2023-07-14T03:54:30.441Z"
   },
   {
    "duration": 51,
    "start_time": "2023-07-14T03:54:30.457Z"
   },
   {
    "duration": 13,
    "start_time": "2023-07-14T03:54:30.510Z"
   },
   {
    "duration": 40,
    "start_time": "2023-07-14T03:54:30.525Z"
   },
   {
    "duration": 35,
    "start_time": "2023-07-14T03:54:30.567Z"
   },
   {
    "duration": 30,
    "start_time": "2023-07-14T03:54:30.604Z"
   },
   {
    "duration": 51,
    "start_time": "2023-07-14T03:54:30.637Z"
   },
   {
    "duration": 51,
    "start_time": "2023-07-14T03:54:30.690Z"
   },
   {
    "duration": 36,
    "start_time": "2023-07-14T03:54:30.743Z"
   },
   {
    "duration": 45,
    "start_time": "2023-07-14T03:54:30.781Z"
   },
   {
    "duration": 27,
    "start_time": "2023-07-14T03:54:30.828Z"
   },
   {
    "duration": 36,
    "start_time": "2023-07-14T03:54:30.856Z"
   },
   {
    "duration": 44,
    "start_time": "2023-07-14T03:54:30.894Z"
   },
   {
    "duration": 176,
    "start_time": "2023-07-14T03:54:30.940Z"
   },
   {
    "duration": 5,
    "start_time": "2023-07-14T03:54:31.117Z"
   },
   {
    "duration": 122,
    "start_time": "2023-07-14T03:54:31.124Z"
   },
   {
    "duration": 6,
    "start_time": "2023-07-14T03:54:31.248Z"
   },
   {
    "duration": 201,
    "start_time": "2023-07-14T03:54:31.255Z"
   },
   {
    "duration": 8,
    "start_time": "2023-07-14T03:54:31.458Z"
   },
   {
    "duration": 101,
    "start_time": "2023-07-14T03:54:31.467Z"
   },
   {
    "duration": 224,
    "start_time": "2023-07-14T03:54:31.569Z"
   },
   {
    "duration": 8,
    "start_time": "2023-07-14T03:54:31.794Z"
   },
   {
    "duration": 197,
    "start_time": "2023-07-14T03:54:31.803Z"
   },
   {
    "duration": 32,
    "start_time": "2023-07-14T03:54:32.001Z"
   },
   {
    "duration": 3,
    "start_time": "2023-07-14T03:54:32.035Z"
   },
   {
    "duration": 41,
    "start_time": "2023-07-14T03:54:32.041Z"
   },
   {
    "duration": 24,
    "start_time": "2023-07-14T03:54:32.083Z"
   },
   {
    "duration": 335,
    "start_time": "2023-07-14T03:54:32.109Z"
   },
   {
    "duration": 315,
    "start_time": "2023-07-14T03:54:32.446Z"
   },
   {
    "duration": 3,
    "start_time": "2023-07-14T03:54:32.763Z"
   },
   {
    "duration": 822,
    "start_time": "2023-07-14T03:54:32.768Z"
   },
   {
    "duration": 234,
    "start_time": "2023-07-14T03:54:33.592Z"
   },
   {
    "duration": 5,
    "start_time": "2023-07-14T03:54:33.831Z"
   },
   {
    "duration": 14,
    "start_time": "2023-07-14T03:54:33.838Z"
   },
   {
    "duration": 794,
    "start_time": "2023-07-14T03:54:33.854Z"
   },
   {
    "duration": 8,
    "start_time": "2023-07-14T03:54:34.650Z"
   },
   {
    "duration": 33,
    "start_time": "2023-07-14T03:54:34.659Z"
   },
   {
    "duration": 14,
    "start_time": "2023-07-14T03:54:34.694Z"
   },
   {
    "duration": 3,
    "start_time": "2023-07-14T03:54:58.911Z"
   },
   {
    "duration": 42,
    "start_time": "2023-07-14T03:54:58.916Z"
   },
   {
    "duration": 14,
    "start_time": "2023-07-14T03:54:58.960Z"
   },
   {
    "duration": 35,
    "start_time": "2023-07-14T03:54:58.976Z"
   },
   {
    "duration": 19,
    "start_time": "2023-07-14T03:54:59.013Z"
   },
   {
    "duration": 28,
    "start_time": "2023-07-14T03:54:59.034Z"
   },
   {
    "duration": 13,
    "start_time": "2023-07-14T03:54:59.063Z"
   },
   {
    "duration": 6,
    "start_time": "2023-07-14T03:54:59.077Z"
   },
   {
    "duration": 16,
    "start_time": "2023-07-14T03:54:59.084Z"
   },
   {
    "duration": 13,
    "start_time": "2023-07-14T03:54:59.101Z"
   },
   {
    "duration": 8,
    "start_time": "2023-07-14T03:54:59.116Z"
   },
   {
    "duration": 10,
    "start_time": "2023-07-14T03:54:59.125Z"
   },
   {
    "duration": 4,
    "start_time": "2023-07-14T03:54:59.138Z"
   },
   {
    "duration": 16,
    "start_time": "2023-07-14T03:54:59.143Z"
   },
   {
    "duration": 11,
    "start_time": "2023-07-14T03:54:59.161Z"
   },
   {
    "duration": 132,
    "start_time": "2023-07-14T03:54:59.173Z"
   },
   {
    "duration": 5,
    "start_time": "2023-07-14T03:54:59.306Z"
   },
   {
    "duration": 20,
    "start_time": "2023-07-14T03:54:59.312Z"
   },
   {
    "duration": 0,
    "start_time": "2023-07-14T03:54:59.334Z"
   },
   {
    "duration": 0,
    "start_time": "2023-07-14T03:54:59.335Z"
   },
   {
    "duration": 0,
    "start_time": "2023-07-14T03:54:59.336Z"
   },
   {
    "duration": 0,
    "start_time": "2023-07-14T03:54:59.337Z"
   },
   {
    "duration": 0,
    "start_time": "2023-07-14T03:54:59.338Z"
   },
   {
    "duration": 0,
    "start_time": "2023-07-14T03:54:59.340Z"
   },
   {
    "duration": 0,
    "start_time": "2023-07-14T03:54:59.341Z"
   },
   {
    "duration": 0,
    "start_time": "2023-07-14T03:54:59.342Z"
   },
   {
    "duration": 0,
    "start_time": "2023-07-14T03:54:59.342Z"
   },
   {
    "duration": 0,
    "start_time": "2023-07-14T03:54:59.344Z"
   },
   {
    "duration": 0,
    "start_time": "2023-07-14T03:54:59.344Z"
   },
   {
    "duration": 0,
    "start_time": "2023-07-14T03:54:59.345Z"
   },
   {
    "duration": 0,
    "start_time": "2023-07-14T03:54:59.346Z"
   },
   {
    "duration": 0,
    "start_time": "2023-07-14T03:54:59.347Z"
   },
   {
    "duration": 0,
    "start_time": "2023-07-14T03:54:59.348Z"
   },
   {
    "duration": 0,
    "start_time": "2023-07-14T03:54:59.348Z"
   },
   {
    "duration": 0,
    "start_time": "2023-07-14T03:54:59.350Z"
   },
   {
    "duration": 0,
    "start_time": "2023-07-14T03:54:59.353Z"
   },
   {
    "duration": 0,
    "start_time": "2023-07-14T03:54:59.354Z"
   },
   {
    "duration": 0,
    "start_time": "2023-07-14T03:54:59.355Z"
   },
   {
    "duration": 0,
    "start_time": "2023-07-14T03:54:59.357Z"
   },
   {
    "duration": 0,
    "start_time": "2023-07-14T03:54:59.359Z"
   },
   {
    "duration": 3,
    "start_time": "2023-07-14T03:57:16.109Z"
   },
   {
    "duration": 56,
    "start_time": "2023-07-14T03:57:16.114Z"
   },
   {
    "duration": 21,
    "start_time": "2023-07-14T03:57:16.172Z"
   },
   {
    "duration": 78,
    "start_time": "2023-07-14T03:57:16.195Z"
   },
   {
    "duration": 12,
    "start_time": "2023-07-14T03:57:16.275Z"
   },
   {
    "duration": 76,
    "start_time": "2023-07-14T03:57:16.289Z"
   },
   {
    "duration": 25,
    "start_time": "2023-07-14T03:57:16.366Z"
   },
   {
    "duration": 44,
    "start_time": "2023-07-14T03:57:16.392Z"
   },
   {
    "duration": 17,
    "start_time": "2023-07-14T03:57:16.438Z"
   },
   {
    "duration": 46,
    "start_time": "2023-07-14T03:57:16.457Z"
   },
   {
    "duration": 68,
    "start_time": "2023-07-14T03:57:16.504Z"
   },
   {
    "duration": 40,
    "start_time": "2023-07-14T03:57:16.574Z"
   },
   {
    "duration": 5,
    "start_time": "2023-07-14T03:57:16.616Z"
   },
   {
    "duration": 7,
    "start_time": "2023-07-14T03:57:16.625Z"
   },
   {
    "duration": 11,
    "start_time": "2023-07-14T03:57:16.634Z"
   },
   {
    "duration": 141,
    "start_time": "2023-07-14T03:57:16.646Z"
   },
   {
    "duration": 5,
    "start_time": "2023-07-14T03:57:16.789Z"
   },
   {
    "duration": 91,
    "start_time": "2023-07-14T03:57:16.795Z"
   },
   {
    "duration": 10,
    "start_time": "2023-07-14T03:57:16.889Z"
   },
   {
    "duration": 0,
    "start_time": "2023-07-14T03:57:16.901Z"
   },
   {
    "duration": 0,
    "start_time": "2023-07-14T03:57:16.902Z"
   },
   {
    "duration": 0,
    "start_time": "2023-07-14T03:57:16.903Z"
   },
   {
    "duration": 0,
    "start_time": "2023-07-14T03:57:16.904Z"
   },
   {
    "duration": 0,
    "start_time": "2023-07-14T03:57:16.905Z"
   },
   {
    "duration": 0,
    "start_time": "2023-07-14T03:57:16.906Z"
   },
   {
    "duration": 0,
    "start_time": "2023-07-14T03:57:16.907Z"
   },
   {
    "duration": 0,
    "start_time": "2023-07-14T03:57:16.908Z"
   },
   {
    "duration": 0,
    "start_time": "2023-07-14T03:57:16.909Z"
   },
   {
    "duration": 0,
    "start_time": "2023-07-14T03:57:16.910Z"
   },
   {
    "duration": 0,
    "start_time": "2023-07-14T03:57:16.932Z"
   },
   {
    "duration": 0,
    "start_time": "2023-07-14T03:57:16.933Z"
   },
   {
    "duration": 0,
    "start_time": "2023-07-14T03:57:16.934Z"
   },
   {
    "duration": 0,
    "start_time": "2023-07-14T03:57:16.935Z"
   },
   {
    "duration": 0,
    "start_time": "2023-07-14T03:57:16.936Z"
   },
   {
    "duration": 0,
    "start_time": "2023-07-14T03:57:16.936Z"
   },
   {
    "duration": 0,
    "start_time": "2023-07-14T03:57:16.937Z"
   },
   {
    "duration": 0,
    "start_time": "2023-07-14T03:57:16.938Z"
   },
   {
    "duration": 0,
    "start_time": "2023-07-14T03:57:16.939Z"
   },
   {
    "duration": 0,
    "start_time": "2023-07-14T03:57:16.940Z"
   },
   {
    "duration": 0,
    "start_time": "2023-07-14T03:57:16.941Z"
   },
   {
    "duration": 0,
    "start_time": "2023-07-14T03:57:16.942Z"
   },
   {
    "duration": 3,
    "start_time": "2023-07-14T03:57:49.315Z"
   },
   {
    "duration": 63,
    "start_time": "2023-07-14T03:57:49.320Z"
   },
   {
    "duration": 11,
    "start_time": "2023-07-14T03:57:49.385Z"
   },
   {
    "duration": 54,
    "start_time": "2023-07-14T03:57:49.398Z"
   },
   {
    "duration": 12,
    "start_time": "2023-07-14T03:57:49.454Z"
   },
   {
    "duration": 54,
    "start_time": "2023-07-14T03:57:49.468Z"
   },
   {
    "duration": 13,
    "start_time": "2023-07-14T03:57:49.524Z"
   },
   {
    "duration": 21,
    "start_time": "2023-07-14T03:57:49.538Z"
   },
   {
    "duration": 26,
    "start_time": "2023-07-14T03:57:49.560Z"
   },
   {
    "duration": 36,
    "start_time": "2023-07-14T03:57:49.588Z"
   },
   {
    "duration": 15,
    "start_time": "2023-07-14T03:57:49.626Z"
   },
   {
    "duration": 33,
    "start_time": "2023-07-14T03:57:49.643Z"
   },
   {
    "duration": 17,
    "start_time": "2023-07-14T03:57:49.677Z"
   },
   {
    "duration": 25,
    "start_time": "2023-07-14T03:57:49.697Z"
   },
   {
    "duration": 29,
    "start_time": "2023-07-14T03:57:49.723Z"
   },
   {
    "duration": 147,
    "start_time": "2023-07-14T03:57:49.754Z"
   },
   {
    "duration": 4,
    "start_time": "2023-07-14T03:57:49.903Z"
   },
   {
    "duration": 111,
    "start_time": "2023-07-14T03:57:49.909Z"
   },
   {
    "duration": 8,
    "start_time": "2023-07-14T03:57:50.022Z"
   },
   {
    "duration": 0,
    "start_time": "2023-07-14T03:57:50.032Z"
   },
   {
    "duration": 0,
    "start_time": "2023-07-14T03:57:50.034Z"
   },
   {
    "duration": 0,
    "start_time": "2023-07-14T03:57:50.036Z"
   },
   {
    "duration": 0,
    "start_time": "2023-07-14T03:57:50.037Z"
   },
   {
    "duration": 0,
    "start_time": "2023-07-14T03:57:50.038Z"
   },
   {
    "duration": 0,
    "start_time": "2023-07-14T03:57:50.039Z"
   },
   {
    "duration": 0,
    "start_time": "2023-07-14T03:57:50.040Z"
   },
   {
    "duration": 0,
    "start_time": "2023-07-14T03:57:50.042Z"
   },
   {
    "duration": 0,
    "start_time": "2023-07-14T03:57:50.043Z"
   },
   {
    "duration": 0,
    "start_time": "2023-07-14T03:57:50.044Z"
   },
   {
    "duration": 0,
    "start_time": "2023-07-14T03:57:50.045Z"
   },
   {
    "duration": 0,
    "start_time": "2023-07-14T03:57:50.047Z"
   },
   {
    "duration": 0,
    "start_time": "2023-07-14T03:57:50.048Z"
   },
   {
    "duration": 0,
    "start_time": "2023-07-14T03:57:50.049Z"
   },
   {
    "duration": 0,
    "start_time": "2023-07-14T03:57:50.049Z"
   },
   {
    "duration": 0,
    "start_time": "2023-07-14T03:57:50.050Z"
   },
   {
    "duration": 0,
    "start_time": "2023-07-14T03:57:50.051Z"
   },
   {
    "duration": 0,
    "start_time": "2023-07-14T03:57:50.052Z"
   },
   {
    "duration": 0,
    "start_time": "2023-07-14T03:57:50.052Z"
   },
   {
    "duration": 0,
    "start_time": "2023-07-14T03:57:50.053Z"
   },
   {
    "duration": 0,
    "start_time": "2023-07-14T03:57:50.055Z"
   },
   {
    "duration": 0,
    "start_time": "2023-07-14T03:57:50.056Z"
   },
   {
    "duration": 2,
    "start_time": "2023-07-14T03:58:16.400Z"
   },
   {
    "duration": 44,
    "start_time": "2023-07-14T03:58:16.404Z"
   },
   {
    "duration": 12,
    "start_time": "2023-07-14T03:58:16.450Z"
   },
   {
    "duration": 43,
    "start_time": "2023-07-14T03:58:16.464Z"
   },
   {
    "duration": 13,
    "start_time": "2023-07-14T03:58:16.508Z"
   },
   {
    "duration": 19,
    "start_time": "2023-07-14T03:58:16.522Z"
   },
   {
    "duration": 12,
    "start_time": "2023-07-14T03:58:16.542Z"
   },
   {
    "duration": 6,
    "start_time": "2023-07-14T03:58:16.555Z"
   },
   {
    "duration": 7,
    "start_time": "2023-07-14T03:58:16.563Z"
   },
   {
    "duration": 12,
    "start_time": "2023-07-14T03:58:16.572Z"
   },
   {
    "duration": 7,
    "start_time": "2023-07-14T03:58:16.585Z"
   },
   {
    "duration": 20,
    "start_time": "2023-07-14T03:58:16.594Z"
   },
   {
    "duration": 5,
    "start_time": "2023-07-14T03:58:16.615Z"
   },
   {
    "duration": 13,
    "start_time": "2023-07-14T03:58:16.621Z"
   },
   {
    "duration": 12,
    "start_time": "2023-07-14T03:58:16.636Z"
   },
   {
    "duration": 140,
    "start_time": "2023-07-14T03:58:16.650Z"
   },
   {
    "duration": 5,
    "start_time": "2023-07-14T03:58:16.793Z"
   },
   {
    "duration": 92,
    "start_time": "2023-07-14T03:58:16.799Z"
   },
   {
    "duration": 110,
    "start_time": "2023-07-14T03:58:16.893Z"
   },
   {
    "duration": 0,
    "start_time": "2023-07-14T03:58:17.004Z"
   },
   {
    "duration": 0,
    "start_time": "2023-07-14T03:58:17.006Z"
   },
   {
    "duration": 0,
    "start_time": "2023-07-14T03:58:17.007Z"
   },
   {
    "duration": 0,
    "start_time": "2023-07-14T03:58:17.008Z"
   },
   {
    "duration": 0,
    "start_time": "2023-07-14T03:58:17.009Z"
   },
   {
    "duration": 0,
    "start_time": "2023-07-14T03:58:17.010Z"
   },
   {
    "duration": 0,
    "start_time": "2023-07-14T03:58:17.011Z"
   },
   {
    "duration": 0,
    "start_time": "2023-07-14T03:58:17.012Z"
   },
   {
    "duration": 0,
    "start_time": "2023-07-14T03:58:17.032Z"
   },
   {
    "duration": 0,
    "start_time": "2023-07-14T03:58:17.033Z"
   },
   {
    "duration": 0,
    "start_time": "2023-07-14T03:58:17.034Z"
   },
   {
    "duration": 0,
    "start_time": "2023-07-14T03:58:17.035Z"
   },
   {
    "duration": 0,
    "start_time": "2023-07-14T03:58:17.036Z"
   },
   {
    "duration": 0,
    "start_time": "2023-07-14T03:58:17.037Z"
   },
   {
    "duration": 0,
    "start_time": "2023-07-14T03:58:17.038Z"
   },
   {
    "duration": 0,
    "start_time": "2023-07-14T03:58:17.039Z"
   },
   {
    "duration": 0,
    "start_time": "2023-07-14T03:58:17.040Z"
   },
   {
    "duration": 0,
    "start_time": "2023-07-14T03:58:17.041Z"
   },
   {
    "duration": 0,
    "start_time": "2023-07-14T03:58:17.042Z"
   },
   {
    "duration": 0,
    "start_time": "2023-07-14T03:58:17.042Z"
   },
   {
    "duration": 0,
    "start_time": "2023-07-14T03:58:17.044Z"
   },
   {
    "duration": 0,
    "start_time": "2023-07-14T03:58:17.044Z"
   },
   {
    "duration": 5,
    "start_time": "2023-07-14T03:59:30.272Z"
   },
   {
    "duration": 62,
    "start_time": "2023-07-14T03:59:30.280Z"
   },
   {
    "duration": 21,
    "start_time": "2023-07-14T03:59:30.344Z"
   },
   {
    "duration": 91,
    "start_time": "2023-07-14T03:59:30.368Z"
   },
   {
    "duration": 15,
    "start_time": "2023-07-14T03:59:30.462Z"
   },
   {
    "duration": 105,
    "start_time": "2023-07-14T03:59:30.479Z"
   },
   {
    "duration": 75,
    "start_time": "2023-07-14T03:59:30.587Z"
   },
   {
    "duration": 26,
    "start_time": "2023-07-14T03:59:30.665Z"
   },
   {
    "duration": 32,
    "start_time": "2023-07-14T03:59:30.692Z"
   },
   {
    "duration": 45,
    "start_time": "2023-07-14T03:59:30.726Z"
   },
   {
    "duration": 59,
    "start_time": "2023-07-14T03:59:30.773Z"
   },
   {
    "duration": 41,
    "start_time": "2023-07-14T03:59:30.834Z"
   },
   {
    "duration": 44,
    "start_time": "2023-07-14T03:59:30.876Z"
   },
   {
    "duration": 36,
    "start_time": "2023-07-14T03:59:30.923Z"
   },
   {
    "duration": 40,
    "start_time": "2023-07-14T03:59:30.961Z"
   },
   {
    "duration": 160,
    "start_time": "2023-07-14T03:59:31.003Z"
   },
   {
    "duration": 6,
    "start_time": "2023-07-14T03:59:31.164Z"
   },
   {
    "duration": 33,
    "start_time": "2023-07-14T03:59:31.172Z"
   },
   {
    "duration": 0,
    "start_time": "2023-07-14T03:59:31.207Z"
   },
   {
    "duration": 0,
    "start_time": "2023-07-14T03:59:31.209Z"
   },
   {
    "duration": 0,
    "start_time": "2023-07-14T03:59:31.210Z"
   },
   {
    "duration": 0,
    "start_time": "2023-07-14T03:59:31.212Z"
   },
   {
    "duration": 0,
    "start_time": "2023-07-14T03:59:31.213Z"
   },
   {
    "duration": 0,
    "start_time": "2023-07-14T03:59:31.214Z"
   },
   {
    "duration": 0,
    "start_time": "2023-07-14T03:59:31.216Z"
   },
   {
    "duration": 0,
    "start_time": "2023-07-14T03:59:31.217Z"
   },
   {
    "duration": 0,
    "start_time": "2023-07-14T03:59:31.219Z"
   },
   {
    "duration": 0,
    "start_time": "2023-07-14T03:59:31.232Z"
   },
   {
    "duration": 0,
    "start_time": "2023-07-14T03:59:31.233Z"
   },
   {
    "duration": 0,
    "start_time": "2023-07-14T03:59:31.235Z"
   },
   {
    "duration": 0,
    "start_time": "2023-07-14T03:59:31.236Z"
   },
   {
    "duration": 0,
    "start_time": "2023-07-14T03:59:31.237Z"
   },
   {
    "duration": 0,
    "start_time": "2023-07-14T03:59:31.238Z"
   },
   {
    "duration": 0,
    "start_time": "2023-07-14T03:59:31.240Z"
   },
   {
    "duration": 0,
    "start_time": "2023-07-14T03:59:31.241Z"
   },
   {
    "duration": 0,
    "start_time": "2023-07-14T03:59:31.242Z"
   },
   {
    "duration": 0,
    "start_time": "2023-07-14T03:59:31.243Z"
   },
   {
    "duration": 0,
    "start_time": "2023-07-14T03:59:31.244Z"
   },
   {
    "duration": 0,
    "start_time": "2023-07-14T03:59:31.245Z"
   },
   {
    "duration": 0,
    "start_time": "2023-07-14T03:59:31.246Z"
   },
   {
    "duration": 0,
    "start_time": "2023-07-14T03:59:31.247Z"
   },
   {
    "duration": 3,
    "start_time": "2023-07-14T04:00:22.547Z"
   },
   {
    "duration": 40,
    "start_time": "2023-07-14T04:00:22.552Z"
   },
   {
    "duration": 13,
    "start_time": "2023-07-14T04:00:22.594Z"
   },
   {
    "duration": 49,
    "start_time": "2023-07-14T04:00:22.609Z"
   },
   {
    "duration": 14,
    "start_time": "2023-07-14T04:00:22.659Z"
   },
   {
    "duration": 25,
    "start_time": "2023-07-14T04:00:22.674Z"
   },
   {
    "duration": 12,
    "start_time": "2023-07-14T04:00:22.701Z"
   },
   {
    "duration": 5,
    "start_time": "2023-07-14T04:00:22.715Z"
   },
   {
    "duration": 12,
    "start_time": "2023-07-14T04:00:22.722Z"
   },
   {
    "duration": 6,
    "start_time": "2023-07-14T04:00:22.736Z"
   },
   {
    "duration": 4,
    "start_time": "2023-07-14T04:00:22.743Z"
   },
   {
    "duration": 11,
    "start_time": "2023-07-14T04:00:22.749Z"
   },
   {
    "duration": 5,
    "start_time": "2023-07-14T04:00:22.762Z"
   },
   {
    "duration": 113,
    "start_time": "2023-07-14T04:00:22.768Z"
   },
   {
    "duration": 11,
    "start_time": "2023-07-14T04:00:22.882Z"
   },
   {
    "duration": 168,
    "start_time": "2023-07-14T04:00:22.895Z"
   },
   {
    "duration": 4,
    "start_time": "2023-07-14T04:00:23.065Z"
   },
   {
    "duration": 84,
    "start_time": "2023-07-14T04:00:23.071Z"
   },
   {
    "duration": 4,
    "start_time": "2023-07-14T04:00:23.157Z"
   },
   {
    "duration": 154,
    "start_time": "2023-07-14T04:00:23.163Z"
   },
   {
    "duration": 13,
    "start_time": "2023-07-14T04:00:23.318Z"
   },
   {
    "duration": 7,
    "start_time": "2023-07-14T04:00:23.333Z"
   },
   {
    "duration": 219,
    "start_time": "2023-07-14T04:00:23.341Z"
   },
   {
    "duration": 7,
    "start_time": "2023-07-14T04:00:23.562Z"
   },
   {
    "duration": 298,
    "start_time": "2023-07-14T04:00:23.571Z"
   },
   {
    "duration": 40,
    "start_time": "2023-07-14T04:00:23.871Z"
   },
   {
    "duration": 4,
    "start_time": "2023-07-14T04:00:23.932Z"
   },
   {
    "duration": 45,
    "start_time": "2023-07-14T04:00:23.937Z"
   },
   {
    "duration": 19,
    "start_time": "2023-07-14T04:00:23.983Z"
   },
   {
    "duration": 347,
    "start_time": "2023-07-14T04:00:24.004Z"
   },
   {
    "duration": 338,
    "start_time": "2023-07-14T04:00:24.352Z"
   },
   {
    "duration": 4,
    "start_time": "2023-07-14T04:00:24.692Z"
   },
   {
    "duration": 814,
    "start_time": "2023-07-14T04:00:24.698Z"
   },
   {
    "duration": 144,
    "start_time": "2023-07-14T04:00:25.513Z"
   },
   {
    "duration": 6,
    "start_time": "2023-07-14T04:00:25.660Z"
   },
   {
    "duration": 26,
    "start_time": "2023-07-14T04:00:25.668Z"
   },
   {
    "duration": 868,
    "start_time": "2023-07-14T04:00:25.695Z"
   },
   {
    "duration": 6,
    "start_time": "2023-07-14T04:00:26.565Z"
   },
   {
    "duration": 24,
    "start_time": "2023-07-14T04:00:26.572Z"
   },
   {
    "duration": 14,
    "start_time": "2023-07-14T04:00:26.597Z"
   },
   {
    "duration": 3,
    "start_time": "2023-07-14T04:02:36.379Z"
   },
   {
    "duration": 54,
    "start_time": "2023-07-14T04:02:36.383Z"
   },
   {
    "duration": 12,
    "start_time": "2023-07-14T04:02:36.439Z"
   },
   {
    "duration": 45,
    "start_time": "2023-07-14T04:02:36.452Z"
   },
   {
    "duration": 14,
    "start_time": "2023-07-14T04:02:36.498Z"
   },
   {
    "duration": 23,
    "start_time": "2023-07-14T04:02:36.513Z"
   },
   {
    "duration": 22,
    "start_time": "2023-07-14T04:02:36.538Z"
   },
   {
    "duration": 6,
    "start_time": "2023-07-14T04:02:36.562Z"
   },
   {
    "duration": 9,
    "start_time": "2023-07-14T04:02:36.569Z"
   },
   {
    "duration": 7,
    "start_time": "2023-07-14T04:02:36.580Z"
   },
   {
    "duration": 3,
    "start_time": "2023-07-14T04:02:36.590Z"
   },
   {
    "duration": 8,
    "start_time": "2023-07-14T04:02:36.594Z"
   },
   {
    "duration": 5,
    "start_time": "2023-07-14T04:02:36.631Z"
   },
   {
    "duration": 8,
    "start_time": "2023-07-14T04:02:36.637Z"
   },
   {
    "duration": 7,
    "start_time": "2023-07-14T04:02:36.646Z"
   },
   {
    "duration": 149,
    "start_time": "2023-07-14T04:02:36.654Z"
   },
   {
    "duration": 5,
    "start_time": "2023-07-14T04:02:36.804Z"
   },
   {
    "duration": 90,
    "start_time": "2023-07-14T04:02:36.810Z"
   },
   {
    "duration": 9,
    "start_time": "2023-07-14T04:02:36.902Z"
   },
   {
    "duration": 0,
    "start_time": "2023-07-14T04:02:36.912Z"
   },
   {
    "duration": 0,
    "start_time": "2023-07-14T04:02:36.913Z"
   },
   {
    "duration": 0,
    "start_time": "2023-07-14T04:02:36.914Z"
   },
   {
    "duration": 0,
    "start_time": "2023-07-14T04:02:36.915Z"
   },
   {
    "duration": 0,
    "start_time": "2023-07-14T04:02:36.916Z"
   },
   {
    "duration": 0,
    "start_time": "2023-07-14T04:02:36.916Z"
   },
   {
    "duration": 0,
    "start_time": "2023-07-14T04:02:36.917Z"
   },
   {
    "duration": 0,
    "start_time": "2023-07-14T04:02:36.932Z"
   },
   {
    "duration": 0,
    "start_time": "2023-07-14T04:02:36.933Z"
   },
   {
    "duration": 0,
    "start_time": "2023-07-14T04:02:36.934Z"
   },
   {
    "duration": 0,
    "start_time": "2023-07-14T04:02:36.935Z"
   },
   {
    "duration": 0,
    "start_time": "2023-07-14T04:02:36.936Z"
   },
   {
    "duration": 0,
    "start_time": "2023-07-14T04:02:36.937Z"
   },
   {
    "duration": 0,
    "start_time": "2023-07-14T04:02:36.937Z"
   },
   {
    "duration": 0,
    "start_time": "2023-07-14T04:02:36.938Z"
   },
   {
    "duration": 0,
    "start_time": "2023-07-14T04:02:36.939Z"
   },
   {
    "duration": 0,
    "start_time": "2023-07-14T04:02:36.940Z"
   },
   {
    "duration": 0,
    "start_time": "2023-07-14T04:02:36.941Z"
   },
   {
    "duration": 0,
    "start_time": "2023-07-14T04:02:36.942Z"
   },
   {
    "duration": 0,
    "start_time": "2023-07-14T04:02:36.943Z"
   },
   {
    "duration": 0,
    "start_time": "2023-07-14T04:02:36.944Z"
   },
   {
    "duration": 0,
    "start_time": "2023-07-14T04:02:36.944Z"
   },
   {
    "duration": 4,
    "start_time": "2023-07-14T04:03:02.542Z"
   },
   {
    "duration": 42,
    "start_time": "2023-07-14T04:03:02.549Z"
   },
   {
    "duration": 13,
    "start_time": "2023-07-14T04:03:02.592Z"
   },
   {
    "duration": 62,
    "start_time": "2023-07-14T04:03:02.606Z"
   },
   {
    "duration": 14,
    "start_time": "2023-07-14T04:03:02.670Z"
   },
   {
    "duration": 68,
    "start_time": "2023-07-14T04:03:02.685Z"
   },
   {
    "duration": 27,
    "start_time": "2023-07-14T04:03:02.755Z"
   },
   {
    "duration": 15,
    "start_time": "2023-07-14T04:03:02.784Z"
   },
   {
    "duration": 11,
    "start_time": "2023-07-14T04:03:02.801Z"
   },
   {
    "duration": 10,
    "start_time": "2023-07-14T04:03:02.815Z"
   },
   {
    "duration": 14,
    "start_time": "2023-07-14T04:03:02.826Z"
   },
   {
    "duration": 13,
    "start_time": "2023-07-14T04:03:02.841Z"
   },
   {
    "duration": 14,
    "start_time": "2023-07-14T04:03:02.856Z"
   },
   {
    "duration": 12,
    "start_time": "2023-07-14T04:03:02.872Z"
   },
   {
    "duration": 9,
    "start_time": "2023-07-14T04:03:02.886Z"
   },
   {
    "duration": 150,
    "start_time": "2023-07-14T04:03:02.896Z"
   },
   {
    "duration": 5,
    "start_time": "2023-07-14T04:03:03.048Z"
   },
   {
    "duration": 121,
    "start_time": "2023-07-14T04:03:03.055Z"
   },
   {
    "duration": 56,
    "start_time": "2023-07-14T04:03:03.178Z"
   },
   {
    "duration": 5,
    "start_time": "2023-07-14T04:03:03.236Z"
   },
   {
    "duration": 219,
    "start_time": "2023-07-14T04:03:03.242Z"
   },
   {
    "duration": 10,
    "start_time": "2023-07-14T04:03:03.462Z"
   },
   {
    "duration": 39,
    "start_time": "2023-07-14T04:03:03.474Z"
   },
   {
    "duration": 189,
    "start_time": "2023-07-14T04:03:03.515Z"
   },
   {
    "duration": 7,
    "start_time": "2023-07-14T04:03:03.705Z"
   },
   {
    "duration": 208,
    "start_time": "2023-07-14T04:03:03.713Z"
   },
   {
    "duration": 28,
    "start_time": "2023-07-14T04:03:03.922Z"
   },
   {
    "duration": 9,
    "start_time": "2023-07-14T04:03:03.954Z"
   },
   {
    "duration": 59,
    "start_time": "2023-07-14T04:03:03.965Z"
   },
   {
    "duration": 50,
    "start_time": "2023-07-14T04:03:04.025Z"
   },
   {
    "duration": 336,
    "start_time": "2023-07-14T04:03:04.076Z"
   },
   {
    "duration": 365,
    "start_time": "2023-07-14T04:03:04.413Z"
   },
   {
    "duration": 3,
    "start_time": "2023-07-14T04:03:04.780Z"
   },
   {
    "duration": 806,
    "start_time": "2023-07-14T04:03:04.785Z"
   },
   {
    "duration": 222,
    "start_time": "2023-07-14T04:03:05.593Z"
   },
   {
    "duration": 15,
    "start_time": "2023-07-14T04:03:05.817Z"
   },
   {
    "duration": 9,
    "start_time": "2023-07-14T04:03:05.833Z"
   },
   {
    "duration": 789,
    "start_time": "2023-07-14T04:03:05.844Z"
   },
   {
    "duration": 5,
    "start_time": "2023-07-14T04:03:06.635Z"
   },
   {
    "duration": 29,
    "start_time": "2023-07-14T04:03:06.641Z"
   },
   {
    "duration": 39,
    "start_time": "2023-07-14T04:03:06.672Z"
   },
   {
    "duration": 3,
    "start_time": "2023-07-14T04:03:45.904Z"
   },
   {
    "duration": 37,
    "start_time": "2023-07-14T04:03:45.908Z"
   },
   {
    "duration": 12,
    "start_time": "2023-07-14T04:03:45.946Z"
   },
   {
    "duration": 41,
    "start_time": "2023-07-14T04:03:45.960Z"
   },
   {
    "duration": 13,
    "start_time": "2023-07-14T04:03:46.003Z"
   },
   {
    "duration": 38,
    "start_time": "2023-07-14T04:03:46.017Z"
   },
   {
    "duration": 12,
    "start_time": "2023-07-14T04:03:46.056Z"
   },
   {
    "duration": 8,
    "start_time": "2023-07-14T04:03:46.070Z"
   },
   {
    "duration": 18,
    "start_time": "2023-07-14T04:03:46.080Z"
   },
   {
    "duration": 8,
    "start_time": "2023-07-14T04:03:46.099Z"
   },
   {
    "duration": 5,
    "start_time": "2023-07-14T04:03:46.108Z"
   },
   {
    "duration": 25,
    "start_time": "2023-07-14T04:03:46.115Z"
   },
   {
    "duration": 16,
    "start_time": "2023-07-14T04:03:46.141Z"
   },
   {
    "duration": 13,
    "start_time": "2023-07-14T04:03:46.158Z"
   },
   {
    "duration": 30,
    "start_time": "2023-07-14T04:03:46.172Z"
   },
   {
    "duration": 136,
    "start_time": "2023-07-14T04:03:46.204Z"
   },
   {
    "duration": 5,
    "start_time": "2023-07-14T04:03:46.341Z"
   },
   {
    "duration": 92,
    "start_time": "2023-07-14T04:03:46.347Z"
   },
   {
    "duration": 10,
    "start_time": "2023-07-14T04:03:46.440Z"
   },
   {
    "duration": 0,
    "start_time": "2023-07-14T04:03:46.452Z"
   },
   {
    "duration": 0,
    "start_time": "2023-07-14T04:03:46.453Z"
   },
   {
    "duration": 0,
    "start_time": "2023-07-14T04:03:46.454Z"
   },
   {
    "duration": 0,
    "start_time": "2023-07-14T04:03:46.455Z"
   },
   {
    "duration": 0,
    "start_time": "2023-07-14T04:03:46.456Z"
   },
   {
    "duration": 0,
    "start_time": "2023-07-14T04:03:46.458Z"
   },
   {
    "duration": 0,
    "start_time": "2023-07-14T04:03:46.458Z"
   },
   {
    "duration": 0,
    "start_time": "2023-07-14T04:03:46.460Z"
   },
   {
    "duration": 0,
    "start_time": "2023-07-14T04:03:46.461Z"
   },
   {
    "duration": 0,
    "start_time": "2023-07-14T04:03:46.461Z"
   },
   {
    "duration": 0,
    "start_time": "2023-07-14T04:03:46.462Z"
   },
   {
    "duration": 0,
    "start_time": "2023-07-14T04:03:46.463Z"
   },
   {
    "duration": 0,
    "start_time": "2023-07-14T04:03:46.465Z"
   },
   {
    "duration": 0,
    "start_time": "2023-07-14T04:03:46.466Z"
   },
   {
    "duration": 0,
    "start_time": "2023-07-14T04:03:46.467Z"
   },
   {
    "duration": 0,
    "start_time": "2023-07-14T04:03:46.468Z"
   },
   {
    "duration": 0,
    "start_time": "2023-07-14T04:03:46.469Z"
   },
   {
    "duration": 0,
    "start_time": "2023-07-14T04:03:46.470Z"
   },
   {
    "duration": 0,
    "start_time": "2023-07-14T04:03:46.471Z"
   },
   {
    "duration": 0,
    "start_time": "2023-07-14T04:03:46.472Z"
   },
   {
    "duration": 0,
    "start_time": "2023-07-14T04:03:46.473Z"
   },
   {
    "duration": 0,
    "start_time": "2023-07-14T04:03:46.474Z"
   },
   {
    "duration": 4,
    "start_time": "2023-07-14T04:06:07.659Z"
   },
   {
    "duration": 122,
    "start_time": "2023-07-14T04:06:07.665Z"
   },
   {
    "duration": 18,
    "start_time": "2023-07-14T04:06:07.789Z"
   },
   {
    "duration": 108,
    "start_time": "2023-07-14T04:06:07.809Z"
   },
   {
    "duration": 39,
    "start_time": "2023-07-14T04:06:07.919Z"
   },
   {
    "duration": 27,
    "start_time": "2023-07-14T04:06:07.960Z"
   },
   {
    "duration": 13,
    "start_time": "2023-07-14T04:06:07.988Z"
   },
   {
    "duration": 13,
    "start_time": "2023-07-14T04:06:08.003Z"
   },
   {
    "duration": 19,
    "start_time": "2023-07-14T04:06:08.017Z"
   },
   {
    "duration": 6,
    "start_time": "2023-07-14T04:06:08.038Z"
   },
   {
    "duration": 7,
    "start_time": "2023-07-14T04:06:08.046Z"
   },
   {
    "duration": 20,
    "start_time": "2023-07-14T04:06:08.055Z"
   },
   {
    "duration": 15,
    "start_time": "2023-07-14T04:06:08.077Z"
   },
   {
    "duration": 14,
    "start_time": "2023-07-14T04:06:08.094Z"
   },
   {
    "duration": 15,
    "start_time": "2023-07-14T04:06:08.110Z"
   },
   {
    "duration": 152,
    "start_time": "2023-07-14T04:06:08.127Z"
   },
   {
    "duration": 4,
    "start_time": "2023-07-14T04:06:08.281Z"
   },
   {
    "duration": 110,
    "start_time": "2023-07-14T04:06:08.287Z"
   },
   {
    "duration": 72,
    "start_time": "2023-07-14T04:06:08.399Z"
   },
   {
    "duration": 5,
    "start_time": "2023-07-14T04:06:08.473Z"
   },
   {
    "duration": 172,
    "start_time": "2023-07-14T04:06:08.479Z"
   },
   {
    "duration": 8,
    "start_time": "2023-07-14T04:06:08.653Z"
   },
   {
    "duration": 12,
    "start_time": "2023-07-14T04:06:08.662Z"
   },
   {
    "duration": 200,
    "start_time": "2023-07-14T04:06:08.675Z"
   },
   {
    "duration": 7,
    "start_time": "2023-07-14T04:06:08.876Z"
   },
   {
    "duration": 182,
    "start_time": "2023-07-14T04:06:08.884Z"
   },
   {
    "duration": 28,
    "start_time": "2023-07-14T04:06:09.067Z"
   },
   {
    "duration": 3,
    "start_time": "2023-07-14T04:06:09.098Z"
   },
   {
    "duration": 36,
    "start_time": "2023-07-14T04:06:09.103Z"
   },
   {
    "duration": 19,
    "start_time": "2023-07-14T04:06:09.140Z"
   },
   {
    "duration": 433,
    "start_time": "2023-07-14T04:06:09.160Z"
   },
   {
    "duration": 291,
    "start_time": "2023-07-14T04:06:09.595Z"
   },
   {
    "duration": 4,
    "start_time": "2023-07-14T04:06:09.887Z"
   },
   {
    "duration": 784,
    "start_time": "2023-07-14T04:06:09.892Z"
   },
   {
    "duration": 143,
    "start_time": "2023-07-14T04:06:10.677Z"
   },
   {
    "duration": 10,
    "start_time": "2023-07-14T04:06:10.821Z"
   },
   {
    "duration": 7,
    "start_time": "2023-07-14T04:06:10.833Z"
   },
   {
    "duration": 782,
    "start_time": "2023-07-14T04:06:10.841Z"
   },
   {
    "duration": 8,
    "start_time": "2023-07-14T04:06:11.625Z"
   },
   {
    "duration": 11,
    "start_time": "2023-07-14T04:06:11.634Z"
   },
   {
    "duration": 8,
    "start_time": "2023-07-14T04:06:11.647Z"
   },
   {
    "duration": 3,
    "start_time": "2023-07-14T04:11:12.790Z"
   },
   {
    "duration": 37,
    "start_time": "2023-07-14T04:11:12.795Z"
   },
   {
    "duration": 12,
    "start_time": "2023-07-14T04:11:12.834Z"
   },
   {
    "duration": 36,
    "start_time": "2023-07-14T04:11:12.848Z"
   },
   {
    "duration": 11,
    "start_time": "2023-07-14T04:11:12.886Z"
   },
   {
    "duration": 26,
    "start_time": "2023-07-14T04:11:12.899Z"
   },
   {
    "duration": 13,
    "start_time": "2023-07-14T04:11:12.926Z"
   },
   {
    "duration": 5,
    "start_time": "2023-07-14T04:11:12.940Z"
   },
   {
    "duration": 23,
    "start_time": "2023-07-14T04:11:12.946Z"
   },
   {
    "duration": 16,
    "start_time": "2023-07-14T04:11:12.970Z"
   },
   {
    "duration": 11,
    "start_time": "2023-07-14T04:11:12.987Z"
   },
   {
    "duration": 17,
    "start_time": "2023-07-14T04:11:13.000Z"
   },
   {
    "duration": 5,
    "start_time": "2023-07-14T04:11:13.018Z"
   },
   {
    "duration": 7,
    "start_time": "2023-07-14T04:11:13.026Z"
   },
   {
    "duration": 15,
    "start_time": "2023-07-14T04:11:13.034Z"
   },
   {
    "duration": 146,
    "start_time": "2023-07-14T04:11:13.050Z"
   },
   {
    "duration": 5,
    "start_time": "2023-07-14T04:11:13.198Z"
   },
   {
    "duration": 97,
    "start_time": "2023-07-14T04:11:13.205Z"
   },
   {
    "duration": 80,
    "start_time": "2023-07-14T04:11:13.303Z"
   },
   {
    "duration": 5,
    "start_time": "2023-07-14T04:11:13.385Z"
   },
   {
    "duration": 184,
    "start_time": "2023-07-14T04:11:13.392Z"
   },
   {
    "duration": 9,
    "start_time": "2023-07-14T04:11:13.578Z"
   },
   {
    "duration": 11,
    "start_time": "2023-07-14T04:11:13.588Z"
   },
   {
    "duration": 199,
    "start_time": "2023-07-14T04:11:13.600Z"
   },
   {
    "duration": 7,
    "start_time": "2023-07-14T04:11:13.800Z"
   },
   {
    "duration": 265,
    "start_time": "2023-07-14T04:11:13.809Z"
   },
   {
    "duration": 33,
    "start_time": "2023-07-14T04:11:14.076Z"
   },
   {
    "duration": 7,
    "start_time": "2023-07-14T04:11:14.111Z"
   },
   {
    "duration": 27,
    "start_time": "2023-07-14T04:11:14.131Z"
   },
   {
    "duration": 23,
    "start_time": "2023-07-14T04:11:14.160Z"
   },
   {
    "duration": 337,
    "start_time": "2023-07-14T04:11:14.184Z"
   },
   {
    "duration": 368,
    "start_time": "2023-07-14T04:11:14.523Z"
   },
   {
    "duration": 4,
    "start_time": "2023-07-14T04:11:14.893Z"
   },
   {
    "duration": 779,
    "start_time": "2023-07-14T04:11:14.899Z"
   },
   {
    "duration": 146,
    "start_time": "2023-07-14T04:11:15.680Z"
   },
   {
    "duration": 7,
    "start_time": "2023-07-14T04:11:15.827Z"
   },
   {
    "duration": 7,
    "start_time": "2023-07-14T04:11:15.835Z"
   },
   {
    "duration": 773,
    "start_time": "2023-07-14T04:11:15.843Z"
   },
   {
    "duration": 4,
    "start_time": "2023-07-14T04:11:16.618Z"
   },
   {
    "duration": 10,
    "start_time": "2023-07-14T04:11:16.631Z"
   },
   {
    "duration": 4,
    "start_time": "2023-07-14T04:11:16.644Z"
   },
   {
    "duration": 4,
    "start_time": "2023-07-14T04:12:24.678Z"
   },
   {
    "duration": 45,
    "start_time": "2023-07-14T04:12:24.685Z"
   },
   {
    "duration": 13,
    "start_time": "2023-07-14T04:12:24.732Z"
   },
   {
    "duration": 45,
    "start_time": "2023-07-14T04:12:24.747Z"
   },
   {
    "duration": 13,
    "start_time": "2023-07-14T04:12:24.794Z"
   },
   {
    "duration": 29,
    "start_time": "2023-07-14T04:12:24.809Z"
   },
   {
    "duration": 14,
    "start_time": "2023-07-14T04:12:24.840Z"
   },
   {
    "duration": 16,
    "start_time": "2023-07-14T04:12:24.855Z"
   },
   {
    "duration": 16,
    "start_time": "2023-07-14T04:12:24.873Z"
   },
   {
    "duration": 13,
    "start_time": "2023-07-14T04:12:24.890Z"
   },
   {
    "duration": 9,
    "start_time": "2023-07-14T04:12:24.904Z"
   },
   {
    "duration": 25,
    "start_time": "2023-07-14T04:12:24.914Z"
   },
   {
    "duration": 26,
    "start_time": "2023-07-14T04:12:24.941Z"
   },
   {
    "duration": 31,
    "start_time": "2023-07-14T04:12:24.969Z"
   },
   {
    "duration": 19,
    "start_time": "2023-07-14T04:12:25.002Z"
   },
   {
    "duration": 144,
    "start_time": "2023-07-14T04:12:25.023Z"
   },
   {
    "duration": 5,
    "start_time": "2023-07-14T04:12:25.169Z"
   },
   {
    "duration": 96,
    "start_time": "2023-07-14T04:12:25.176Z"
   },
   {
    "duration": 108,
    "start_time": "2023-07-14T04:12:25.274Z"
   },
   {
    "duration": 0,
    "start_time": "2023-07-14T04:12:25.383Z"
   },
   {
    "duration": 0,
    "start_time": "2023-07-14T04:12:25.384Z"
   },
   {
    "duration": 0,
    "start_time": "2023-07-14T04:12:25.385Z"
   },
   {
    "duration": 0,
    "start_time": "2023-07-14T04:12:25.386Z"
   },
   {
    "duration": 0,
    "start_time": "2023-07-14T04:12:25.387Z"
   },
   {
    "duration": 0,
    "start_time": "2023-07-14T04:12:25.388Z"
   },
   {
    "duration": 0,
    "start_time": "2023-07-14T04:12:25.389Z"
   },
   {
    "duration": 0,
    "start_time": "2023-07-14T04:12:25.390Z"
   },
   {
    "duration": 0,
    "start_time": "2023-07-14T04:12:25.391Z"
   },
   {
    "duration": 0,
    "start_time": "2023-07-14T04:12:25.392Z"
   },
   {
    "duration": 0,
    "start_time": "2023-07-14T04:12:25.393Z"
   },
   {
    "duration": 0,
    "start_time": "2023-07-14T04:12:25.394Z"
   },
   {
    "duration": 0,
    "start_time": "2023-07-14T04:12:25.394Z"
   },
   {
    "duration": 0,
    "start_time": "2023-07-14T04:12:25.395Z"
   },
   {
    "duration": 0,
    "start_time": "2023-07-14T04:12:25.397Z"
   },
   {
    "duration": 0,
    "start_time": "2023-07-14T04:12:25.398Z"
   },
   {
    "duration": 1,
    "start_time": "2023-07-14T04:12:25.399Z"
   },
   {
    "duration": 0,
    "start_time": "2023-07-14T04:12:25.432Z"
   },
   {
    "duration": 0,
    "start_time": "2023-07-14T04:12:25.434Z"
   },
   {
    "duration": 0,
    "start_time": "2023-07-14T04:12:25.435Z"
   },
   {
    "duration": 0,
    "start_time": "2023-07-14T04:12:25.436Z"
   },
   {
    "duration": 0,
    "start_time": "2023-07-14T04:12:25.437Z"
   },
   {
    "duration": 3,
    "start_time": "2023-07-14T04:13:03.161Z"
   },
   {
    "duration": 59,
    "start_time": "2023-07-14T04:13:03.166Z"
   },
   {
    "duration": 13,
    "start_time": "2023-07-14T04:13:03.226Z"
   },
   {
    "duration": 40,
    "start_time": "2023-07-14T04:13:03.240Z"
   },
   {
    "duration": 12,
    "start_time": "2023-07-14T04:13:03.282Z"
   },
   {
    "duration": 44,
    "start_time": "2023-07-14T04:13:03.296Z"
   },
   {
    "duration": 32,
    "start_time": "2023-07-14T04:13:03.342Z"
   },
   {
    "duration": 26,
    "start_time": "2023-07-14T04:13:03.376Z"
   },
   {
    "duration": 36,
    "start_time": "2023-07-14T04:13:03.404Z"
   },
   {
    "duration": 37,
    "start_time": "2023-07-14T04:13:03.441Z"
   },
   {
    "duration": 20,
    "start_time": "2023-07-14T04:13:03.480Z"
   },
   {
    "duration": 41,
    "start_time": "2023-07-14T04:13:03.502Z"
   },
   {
    "duration": 18,
    "start_time": "2023-07-14T04:13:03.544Z"
   },
   {
    "duration": 28,
    "start_time": "2023-07-14T04:13:03.566Z"
   },
   {
    "duration": 10,
    "start_time": "2023-07-14T04:13:03.595Z"
   },
   {
    "duration": 142,
    "start_time": "2023-07-14T04:13:03.607Z"
   },
   {
    "duration": 4,
    "start_time": "2023-07-14T04:13:03.751Z"
   },
   {
    "duration": 209,
    "start_time": "2023-07-14T04:13:03.757Z"
   },
   {
    "duration": 112,
    "start_time": "2023-07-14T04:13:03.968Z"
   },
   {
    "duration": 0,
    "start_time": "2023-07-14T04:13:04.082Z"
   },
   {
    "duration": 0,
    "start_time": "2023-07-14T04:13:04.083Z"
   },
   {
    "duration": 0,
    "start_time": "2023-07-14T04:13:04.084Z"
   },
   {
    "duration": 0,
    "start_time": "2023-07-14T04:13:04.085Z"
   },
   {
    "duration": 0,
    "start_time": "2023-07-14T04:13:04.086Z"
   },
   {
    "duration": 0,
    "start_time": "2023-07-14T04:13:04.087Z"
   },
   {
    "duration": 0,
    "start_time": "2023-07-14T04:13:04.089Z"
   },
   {
    "duration": 0,
    "start_time": "2023-07-14T04:13:04.090Z"
   },
   {
    "duration": 0,
    "start_time": "2023-07-14T04:13:04.091Z"
   },
   {
    "duration": 0,
    "start_time": "2023-07-14T04:13:04.092Z"
   },
   {
    "duration": 0,
    "start_time": "2023-07-14T04:13:04.093Z"
   },
   {
    "duration": 0,
    "start_time": "2023-07-14T04:13:04.094Z"
   },
   {
    "duration": 0,
    "start_time": "2023-07-14T04:13:04.095Z"
   },
   {
    "duration": 0,
    "start_time": "2023-07-14T04:13:04.096Z"
   },
   {
    "duration": 0,
    "start_time": "2023-07-14T04:13:04.097Z"
   },
   {
    "duration": 0,
    "start_time": "2023-07-14T04:13:04.098Z"
   },
   {
    "duration": 0,
    "start_time": "2023-07-14T04:13:04.099Z"
   },
   {
    "duration": 0,
    "start_time": "2023-07-14T04:13:04.100Z"
   },
   {
    "duration": 0,
    "start_time": "2023-07-14T04:13:04.101Z"
   },
   {
    "duration": 0,
    "start_time": "2023-07-14T04:13:04.102Z"
   },
   {
    "duration": 0,
    "start_time": "2023-07-14T04:13:04.131Z"
   },
   {
    "duration": 0,
    "start_time": "2023-07-14T04:13:04.132Z"
   },
   {
    "duration": 3,
    "start_time": "2023-07-14T04:13:52.303Z"
   },
   {
    "duration": 48,
    "start_time": "2023-07-14T04:13:52.311Z"
   },
   {
    "duration": 14,
    "start_time": "2023-07-14T04:13:52.360Z"
   },
   {
    "duration": 70,
    "start_time": "2023-07-14T04:13:52.376Z"
   },
   {
    "duration": 14,
    "start_time": "2023-07-14T04:13:52.447Z"
   },
   {
    "duration": 21,
    "start_time": "2023-07-14T04:13:52.464Z"
   },
   {
    "duration": 15,
    "start_time": "2023-07-14T04:13:52.487Z"
   },
   {
    "duration": 6,
    "start_time": "2023-07-14T04:13:52.504Z"
   },
   {
    "duration": 22,
    "start_time": "2023-07-14T04:13:52.511Z"
   },
   {
    "duration": 8,
    "start_time": "2023-07-14T04:13:52.535Z"
   },
   {
    "duration": 5,
    "start_time": "2023-07-14T04:13:52.545Z"
   },
   {
    "duration": 18,
    "start_time": "2023-07-14T04:13:52.552Z"
   },
   {
    "duration": 5,
    "start_time": "2023-07-14T04:13:52.571Z"
   },
   {
    "duration": 7,
    "start_time": "2023-07-14T04:13:52.577Z"
   },
   {
    "duration": 7,
    "start_time": "2023-07-14T04:13:52.587Z"
   },
   {
    "duration": 172,
    "start_time": "2023-07-14T04:13:52.595Z"
   },
   {
    "duration": 5,
    "start_time": "2023-07-14T04:13:52.768Z"
   },
   {
    "duration": 102,
    "start_time": "2023-07-14T04:13:52.774Z"
   },
   {
    "duration": 117,
    "start_time": "2023-07-14T04:13:52.877Z"
   },
   {
    "duration": 0,
    "start_time": "2023-07-14T04:13:52.996Z"
   },
   {
    "duration": 0,
    "start_time": "2023-07-14T04:13:52.997Z"
   },
   {
    "duration": 0,
    "start_time": "2023-07-14T04:13:52.998Z"
   },
   {
    "duration": 0,
    "start_time": "2023-07-14T04:13:52.999Z"
   },
   {
    "duration": 0,
    "start_time": "2023-07-14T04:13:53.000Z"
   },
   {
    "duration": 0,
    "start_time": "2023-07-14T04:13:53.001Z"
   },
   {
    "duration": 0,
    "start_time": "2023-07-14T04:13:53.003Z"
   },
   {
    "duration": 0,
    "start_time": "2023-07-14T04:13:53.004Z"
   },
   {
    "duration": 0,
    "start_time": "2023-07-14T04:13:53.005Z"
   },
   {
    "duration": 0,
    "start_time": "2023-07-14T04:13:53.006Z"
   },
   {
    "duration": 0,
    "start_time": "2023-07-14T04:13:53.007Z"
   },
   {
    "duration": 0,
    "start_time": "2023-07-14T04:13:53.032Z"
   },
   {
    "duration": 0,
    "start_time": "2023-07-14T04:13:53.033Z"
   },
   {
    "duration": 0,
    "start_time": "2023-07-14T04:13:53.034Z"
   },
   {
    "duration": 0,
    "start_time": "2023-07-14T04:13:53.035Z"
   },
   {
    "duration": 0,
    "start_time": "2023-07-14T04:13:53.036Z"
   },
   {
    "duration": 0,
    "start_time": "2023-07-14T04:13:53.038Z"
   },
   {
    "duration": 1,
    "start_time": "2023-07-14T04:13:53.038Z"
   },
   {
    "duration": 0,
    "start_time": "2023-07-14T04:13:53.040Z"
   },
   {
    "duration": 0,
    "start_time": "2023-07-14T04:13:53.040Z"
   },
   {
    "duration": 0,
    "start_time": "2023-07-14T04:13:53.042Z"
   },
   {
    "duration": 0,
    "start_time": "2023-07-14T04:13:53.043Z"
   },
   {
    "duration": 4,
    "start_time": "2023-07-14T04:18:36.926Z"
   },
   {
    "duration": 49,
    "start_time": "2023-07-14T04:18:36.932Z"
   },
   {
    "duration": 13,
    "start_time": "2023-07-14T04:18:36.983Z"
   },
   {
    "duration": 54,
    "start_time": "2023-07-14T04:18:36.998Z"
   },
   {
    "duration": 12,
    "start_time": "2023-07-14T04:18:37.054Z"
   },
   {
    "duration": 28,
    "start_time": "2023-07-14T04:18:37.068Z"
   },
   {
    "duration": 13,
    "start_time": "2023-07-14T04:18:37.098Z"
   },
   {
    "duration": 7,
    "start_time": "2023-07-14T04:18:37.112Z"
   },
   {
    "duration": 15,
    "start_time": "2023-07-14T04:18:37.120Z"
   },
   {
    "duration": 7,
    "start_time": "2023-07-14T04:18:37.138Z"
   },
   {
    "duration": 4,
    "start_time": "2023-07-14T04:18:37.147Z"
   },
   {
    "duration": 11,
    "start_time": "2023-07-14T04:18:37.152Z"
   },
   {
    "duration": 5,
    "start_time": "2023-07-14T04:18:37.165Z"
   },
   {
    "duration": 10,
    "start_time": "2023-07-14T04:18:37.171Z"
   },
   {
    "duration": 12,
    "start_time": "2023-07-14T04:18:37.182Z"
   },
   {
    "duration": 159,
    "start_time": "2023-07-14T04:18:37.196Z"
   },
   {
    "duration": 5,
    "start_time": "2023-07-14T04:18:37.356Z"
   },
   {
    "duration": 94,
    "start_time": "2023-07-14T04:18:37.362Z"
   },
   {
    "duration": 192,
    "start_time": "2023-07-14T04:18:37.458Z"
   },
   {
    "duration": 0,
    "start_time": "2023-07-14T04:18:37.652Z"
   },
   {
    "duration": 0,
    "start_time": "2023-07-14T04:18:37.653Z"
   },
   {
    "duration": 0,
    "start_time": "2023-07-14T04:18:37.654Z"
   },
   {
    "duration": 0,
    "start_time": "2023-07-14T04:18:37.655Z"
   },
   {
    "duration": 0,
    "start_time": "2023-07-14T04:18:37.656Z"
   },
   {
    "duration": 0,
    "start_time": "2023-07-14T04:18:37.657Z"
   },
   {
    "duration": 0,
    "start_time": "2023-07-14T04:18:37.657Z"
   },
   {
    "duration": 0,
    "start_time": "2023-07-14T04:18:37.659Z"
   },
   {
    "duration": 0,
    "start_time": "2023-07-14T04:18:37.660Z"
   },
   {
    "duration": 0,
    "start_time": "2023-07-14T04:18:37.661Z"
   },
   {
    "duration": 0,
    "start_time": "2023-07-14T04:18:37.662Z"
   },
   {
    "duration": 0,
    "start_time": "2023-07-14T04:18:37.663Z"
   },
   {
    "duration": 0,
    "start_time": "2023-07-14T04:18:37.664Z"
   },
   {
    "duration": 0,
    "start_time": "2023-07-14T04:18:37.666Z"
   },
   {
    "duration": 0,
    "start_time": "2023-07-14T04:18:37.667Z"
   },
   {
    "duration": 0,
    "start_time": "2023-07-14T04:18:37.669Z"
   },
   {
    "duration": 0,
    "start_time": "2023-07-14T04:18:37.670Z"
   },
   {
    "duration": 0,
    "start_time": "2023-07-14T04:18:37.671Z"
   },
   {
    "duration": 0,
    "start_time": "2023-07-14T04:18:37.672Z"
   },
   {
    "duration": 0,
    "start_time": "2023-07-14T04:18:37.673Z"
   },
   {
    "duration": 0,
    "start_time": "2023-07-14T04:18:37.674Z"
   },
   {
    "duration": 0,
    "start_time": "2023-07-14T04:18:37.676Z"
   },
   {
    "duration": 3,
    "start_time": "2023-07-14T04:18:58.262Z"
   },
   {
    "duration": 41,
    "start_time": "2023-07-14T04:18:58.267Z"
   },
   {
    "duration": 13,
    "start_time": "2023-07-14T04:18:58.310Z"
   },
   {
    "duration": 34,
    "start_time": "2023-07-14T04:18:58.325Z"
   },
   {
    "duration": 13,
    "start_time": "2023-07-14T04:18:58.361Z"
   },
   {
    "duration": 21,
    "start_time": "2023-07-14T04:18:58.376Z"
   },
   {
    "duration": 15,
    "start_time": "2023-07-14T04:18:58.398Z"
   },
   {
    "duration": 6,
    "start_time": "2023-07-14T04:18:58.415Z"
   },
   {
    "duration": 7,
    "start_time": "2023-07-14T04:18:58.432Z"
   },
   {
    "duration": 7,
    "start_time": "2023-07-14T04:18:58.441Z"
   },
   {
    "duration": 4,
    "start_time": "2023-07-14T04:18:58.450Z"
   },
   {
    "duration": 10,
    "start_time": "2023-07-14T04:18:58.455Z"
   },
   {
    "duration": 5,
    "start_time": "2023-07-14T04:18:58.466Z"
   },
   {
    "duration": 7,
    "start_time": "2023-07-14T04:18:58.473Z"
   },
   {
    "duration": 8,
    "start_time": "2023-07-14T04:18:58.482Z"
   },
   {
    "duration": 157,
    "start_time": "2023-07-14T04:18:58.532Z"
   },
   {
    "duration": 6,
    "start_time": "2023-07-14T04:18:58.690Z"
   },
   {
    "duration": 112,
    "start_time": "2023-07-14T04:18:58.698Z"
   },
   {
    "duration": 124,
    "start_time": "2023-07-14T04:18:58.812Z"
   },
   {
    "duration": 0,
    "start_time": "2023-07-14T04:18:58.938Z"
   },
   {
    "duration": 0,
    "start_time": "2023-07-14T04:18:58.939Z"
   },
   {
    "duration": 0,
    "start_time": "2023-07-14T04:18:58.940Z"
   },
   {
    "duration": 0,
    "start_time": "2023-07-14T04:18:58.941Z"
   },
   {
    "duration": 0,
    "start_time": "2023-07-14T04:18:58.942Z"
   },
   {
    "duration": 0,
    "start_time": "2023-07-14T04:18:58.943Z"
   },
   {
    "duration": 0,
    "start_time": "2023-07-14T04:18:58.944Z"
   },
   {
    "duration": 0,
    "start_time": "2023-07-14T04:18:58.945Z"
   },
   {
    "duration": 0,
    "start_time": "2023-07-14T04:18:58.946Z"
   },
   {
    "duration": 0,
    "start_time": "2023-07-14T04:18:58.947Z"
   },
   {
    "duration": 0,
    "start_time": "2023-07-14T04:18:58.948Z"
   },
   {
    "duration": 0,
    "start_time": "2023-07-14T04:18:58.949Z"
   },
   {
    "duration": 0,
    "start_time": "2023-07-14T04:18:58.950Z"
   },
   {
    "duration": 0,
    "start_time": "2023-07-14T04:18:58.951Z"
   },
   {
    "duration": 0,
    "start_time": "2023-07-14T04:18:58.952Z"
   },
   {
    "duration": 0,
    "start_time": "2023-07-14T04:18:58.953Z"
   },
   {
    "duration": 0,
    "start_time": "2023-07-14T04:18:58.954Z"
   },
   {
    "duration": 0,
    "start_time": "2023-07-14T04:18:58.955Z"
   },
   {
    "duration": 0,
    "start_time": "2023-07-14T04:18:58.956Z"
   },
   {
    "duration": 0,
    "start_time": "2023-07-14T04:18:58.957Z"
   },
   {
    "duration": 0,
    "start_time": "2023-07-14T04:18:58.958Z"
   },
   {
    "duration": 0,
    "start_time": "2023-07-14T04:18:58.958Z"
   },
   {
    "duration": 3,
    "start_time": "2023-07-14T04:19:40.940Z"
   },
   {
    "duration": 45,
    "start_time": "2023-07-14T04:19:40.945Z"
   },
   {
    "duration": 11,
    "start_time": "2023-07-14T04:19:40.992Z"
   },
   {
    "duration": 39,
    "start_time": "2023-07-14T04:19:41.005Z"
   },
   {
    "duration": 13,
    "start_time": "2023-07-14T04:19:41.046Z"
   },
   {
    "duration": 30,
    "start_time": "2023-07-14T04:19:41.060Z"
   },
   {
    "duration": 14,
    "start_time": "2023-07-14T04:19:41.091Z"
   },
   {
    "duration": 8,
    "start_time": "2023-07-14T04:19:41.107Z"
   },
   {
    "duration": 17,
    "start_time": "2023-07-14T04:19:41.116Z"
   },
   {
    "duration": 5,
    "start_time": "2023-07-14T04:19:41.134Z"
   },
   {
    "duration": 5,
    "start_time": "2023-07-14T04:19:41.140Z"
   },
   {
    "duration": 9,
    "start_time": "2023-07-14T04:19:41.146Z"
   },
   {
    "duration": 12,
    "start_time": "2023-07-14T04:19:41.156Z"
   },
   {
    "duration": 6,
    "start_time": "2023-07-14T04:19:41.170Z"
   },
   {
    "duration": 7,
    "start_time": "2023-07-14T04:19:41.178Z"
   },
   {
    "duration": 145,
    "start_time": "2023-07-14T04:19:41.186Z"
   },
   {
    "duration": 4,
    "start_time": "2023-07-14T04:19:41.333Z"
   },
   {
    "duration": 105,
    "start_time": "2023-07-14T04:19:41.339Z"
   },
   {
    "duration": 61,
    "start_time": "2023-07-14T04:19:41.446Z"
   },
   {
    "duration": 0,
    "start_time": "2023-07-14T04:19:41.508Z"
   },
   {
    "duration": 0,
    "start_time": "2023-07-14T04:19:41.510Z"
   },
   {
    "duration": 0,
    "start_time": "2023-07-14T04:19:41.511Z"
   },
   {
    "duration": 0,
    "start_time": "2023-07-14T04:19:41.512Z"
   },
   {
    "duration": 0,
    "start_time": "2023-07-14T04:19:41.531Z"
   },
   {
    "duration": 0,
    "start_time": "2023-07-14T04:19:41.533Z"
   },
   {
    "duration": 0,
    "start_time": "2023-07-14T04:19:41.534Z"
   },
   {
    "duration": 0,
    "start_time": "2023-07-14T04:19:41.535Z"
   },
   {
    "duration": 0,
    "start_time": "2023-07-14T04:19:41.537Z"
   },
   {
    "duration": 0,
    "start_time": "2023-07-14T04:19:41.538Z"
   },
   {
    "duration": 0,
    "start_time": "2023-07-14T04:19:41.539Z"
   },
   {
    "duration": 0,
    "start_time": "2023-07-14T04:19:41.540Z"
   },
   {
    "duration": 0,
    "start_time": "2023-07-14T04:19:41.541Z"
   },
   {
    "duration": 0,
    "start_time": "2023-07-14T04:19:41.542Z"
   },
   {
    "duration": 0,
    "start_time": "2023-07-14T04:19:41.543Z"
   },
   {
    "duration": 0,
    "start_time": "2023-07-14T04:19:41.544Z"
   },
   {
    "duration": 0,
    "start_time": "2023-07-14T04:19:41.545Z"
   },
   {
    "duration": 0,
    "start_time": "2023-07-14T04:19:41.546Z"
   },
   {
    "duration": 0,
    "start_time": "2023-07-14T04:19:41.548Z"
   },
   {
    "duration": 0,
    "start_time": "2023-07-14T04:19:41.548Z"
   },
   {
    "duration": 0,
    "start_time": "2023-07-14T04:19:41.549Z"
   },
   {
    "duration": 0,
    "start_time": "2023-07-14T04:19:41.550Z"
   },
   {
    "duration": 3,
    "start_time": "2023-07-14T04:20:08.208Z"
   },
   {
    "duration": 46,
    "start_time": "2023-07-14T04:20:08.213Z"
   },
   {
    "duration": 12,
    "start_time": "2023-07-14T04:20:08.260Z"
   },
   {
    "duration": 43,
    "start_time": "2023-07-14T04:20:08.274Z"
   },
   {
    "duration": 12,
    "start_time": "2023-07-14T04:20:08.320Z"
   },
   {
    "duration": 20,
    "start_time": "2023-07-14T04:20:08.333Z"
   },
   {
    "duration": 12,
    "start_time": "2023-07-14T04:20:08.355Z"
   },
   {
    "duration": 21,
    "start_time": "2023-07-14T04:20:08.369Z"
   },
   {
    "duration": 8,
    "start_time": "2023-07-14T04:20:08.391Z"
   },
   {
    "duration": 5,
    "start_time": "2023-07-14T04:20:08.401Z"
   },
   {
    "duration": 21,
    "start_time": "2023-07-14T04:20:08.408Z"
   },
   {
    "duration": 19,
    "start_time": "2023-07-14T04:20:08.430Z"
   },
   {
    "duration": 53,
    "start_time": "2023-07-14T04:20:08.450Z"
   },
   {
    "duration": 4,
    "start_time": "2023-07-14T04:20:08.586Z"
   },
   {
    "duration": 9,
    "start_time": "2023-07-14T04:20:08.592Z"
   },
   {
    "duration": 141,
    "start_time": "2023-07-14T04:20:08.602Z"
   },
   {
    "duration": 5,
    "start_time": "2023-07-14T04:20:08.744Z"
   },
   {
    "duration": 94,
    "start_time": "2023-07-14T04:20:08.750Z"
   },
   {
    "duration": 66,
    "start_time": "2023-07-14T04:20:08.846Z"
   },
   {
    "duration": 19,
    "start_time": "2023-07-14T04:20:08.913Z"
   },
   {
    "duration": 154,
    "start_time": "2023-07-14T04:20:08.934Z"
   },
   {
    "duration": 7,
    "start_time": "2023-07-14T04:20:09.090Z"
   },
   {
    "duration": 10,
    "start_time": "2023-07-14T04:20:09.098Z"
   },
   {
    "duration": 182,
    "start_time": "2023-07-14T04:20:09.109Z"
   },
   {
    "duration": 6,
    "start_time": "2023-07-14T04:20:09.293Z"
   },
   {
    "duration": 175,
    "start_time": "2023-07-14T04:20:09.301Z"
   },
   {
    "duration": 28,
    "start_time": "2023-07-14T04:20:09.478Z"
   },
   {
    "duration": 3,
    "start_time": "2023-07-14T04:20:09.508Z"
   },
   {
    "duration": 20,
    "start_time": "2023-07-14T04:20:09.532Z"
   },
   {
    "duration": 18,
    "start_time": "2023-07-14T04:20:09.554Z"
   },
   {
    "duration": 345,
    "start_time": "2023-07-14T04:20:09.573Z"
   },
   {
    "duration": 292,
    "start_time": "2023-07-14T04:20:09.920Z"
   },
   {
    "duration": 4,
    "start_time": "2023-07-14T04:20:10.213Z"
   },
   {
    "duration": 785,
    "start_time": "2023-07-14T04:20:10.218Z"
   },
   {
    "duration": 149,
    "start_time": "2023-07-14T04:20:11.005Z"
   },
   {
    "duration": 6,
    "start_time": "2023-07-14T04:20:11.156Z"
   },
   {
    "duration": 20,
    "start_time": "2023-07-14T04:20:11.163Z"
   },
   {
    "duration": 882,
    "start_time": "2023-07-14T04:20:11.185Z"
   },
   {
    "duration": 5,
    "start_time": "2023-07-14T04:20:12.068Z"
   },
   {
    "duration": 17,
    "start_time": "2023-07-14T04:20:12.074Z"
   },
   {
    "duration": 31,
    "start_time": "2023-07-14T04:20:12.094Z"
   },
   {
    "duration": 5,
    "start_time": "2023-07-14T04:21:24.825Z"
   },
   {
    "duration": 50,
    "start_time": "2023-07-14T04:21:24.832Z"
   },
   {
    "duration": 12,
    "start_time": "2023-07-14T04:21:24.883Z"
   },
   {
    "duration": 55,
    "start_time": "2023-07-14T04:21:24.897Z"
   },
   {
    "duration": 13,
    "start_time": "2023-07-14T04:21:24.954Z"
   },
   {
    "duration": 102,
    "start_time": "2023-07-14T04:21:24.969Z"
   },
   {
    "duration": 49,
    "start_time": "2023-07-14T04:21:25.073Z"
   },
   {
    "duration": 34,
    "start_time": "2023-07-14T04:21:25.123Z"
   },
   {
    "duration": 11,
    "start_time": "2023-07-14T04:21:25.158Z"
   },
   {
    "duration": 7,
    "start_time": "2023-07-14T04:21:25.171Z"
   },
   {
    "duration": 9,
    "start_time": "2023-07-14T04:21:25.179Z"
   },
   {
    "duration": 15,
    "start_time": "2023-07-14T04:21:25.189Z"
   },
   {
    "duration": 4,
    "start_time": "2023-07-14T04:21:25.205Z"
   },
   {
    "duration": 10,
    "start_time": "2023-07-14T04:21:25.212Z"
   },
   {
    "duration": 9,
    "start_time": "2023-07-14T04:21:25.224Z"
   },
   {
    "duration": 131,
    "start_time": "2023-07-14T04:21:25.235Z"
   },
   {
    "duration": 6,
    "start_time": "2023-07-14T04:21:25.367Z"
   },
   {
    "duration": 96,
    "start_time": "2023-07-14T04:21:25.374Z"
   },
   {
    "duration": 79,
    "start_time": "2023-07-14T04:21:25.472Z"
   },
   {
    "duration": 4,
    "start_time": "2023-07-14T04:21:25.553Z"
   },
   {
    "duration": 170,
    "start_time": "2023-07-14T04:21:25.559Z"
   },
   {
    "duration": 8,
    "start_time": "2023-07-14T04:21:25.731Z"
   },
   {
    "duration": 16,
    "start_time": "2023-07-14T04:21:25.740Z"
   },
   {
    "duration": 183,
    "start_time": "2023-07-14T04:21:25.758Z"
   },
   {
    "duration": 8,
    "start_time": "2023-07-14T04:21:25.943Z"
   },
   {
    "duration": 179,
    "start_time": "2023-07-14T04:21:25.952Z"
   },
   {
    "duration": 28,
    "start_time": "2023-07-14T04:21:26.133Z"
   },
   {
    "duration": 4,
    "start_time": "2023-07-14T04:21:26.162Z"
   },
   {
    "duration": 25,
    "start_time": "2023-07-14T04:21:26.167Z"
   },
   {
    "duration": 38,
    "start_time": "2023-07-14T04:21:26.194Z"
   },
   {
    "duration": 336,
    "start_time": "2023-07-14T04:21:26.233Z"
   },
   {
    "duration": 291,
    "start_time": "2023-07-14T04:21:26.571Z"
   },
   {
    "duration": 4,
    "start_time": "2023-07-14T04:21:26.864Z"
   },
   {
    "duration": 851,
    "start_time": "2023-07-14T04:21:26.869Z"
   },
   {
    "duration": 238,
    "start_time": "2023-07-14T04:21:27.721Z"
   },
   {
    "duration": 6,
    "start_time": "2023-07-14T04:21:27.961Z"
   },
   {
    "duration": 17,
    "start_time": "2023-07-14T04:21:27.968Z"
   },
   {
    "duration": 777,
    "start_time": "2023-07-14T04:21:27.986Z"
   },
   {
    "duration": 5,
    "start_time": "2023-07-14T04:21:28.764Z"
   },
   {
    "duration": 13,
    "start_time": "2023-07-14T04:21:28.771Z"
   },
   {
    "duration": 4,
    "start_time": "2023-07-14T04:21:28.788Z"
   },
   {
    "duration": 3,
    "start_time": "2023-07-14T04:23:30.736Z"
   },
   {
    "duration": 86,
    "start_time": "2023-07-14T04:23:30.740Z"
   },
   {
    "duration": 30,
    "start_time": "2023-07-14T04:23:30.828Z"
   },
   {
    "duration": 90,
    "start_time": "2023-07-14T04:23:30.860Z"
   },
   {
    "duration": 17,
    "start_time": "2023-07-14T04:23:30.952Z"
   },
   {
    "duration": 79,
    "start_time": "2023-07-14T04:23:30.971Z"
   },
   {
    "duration": 99,
    "start_time": "2023-07-14T04:23:31.052Z"
   },
   {
    "duration": 103,
    "start_time": "2023-07-14T04:23:31.153Z"
   },
   {
    "duration": 54,
    "start_time": "2023-07-14T04:23:31.257Z"
   },
   {
    "duration": 56,
    "start_time": "2023-07-14T04:23:31.312Z"
   },
   {
    "duration": 78,
    "start_time": "2023-07-14T04:23:31.370Z"
   },
   {
    "duration": 59,
    "start_time": "2023-07-14T04:23:31.449Z"
   },
   {
    "duration": 38,
    "start_time": "2023-07-14T04:23:31.510Z"
   },
   {
    "duration": 46,
    "start_time": "2023-07-14T04:23:31.551Z"
   },
   {
    "duration": 27,
    "start_time": "2023-07-14T04:23:31.599Z"
   },
   {
    "duration": 179,
    "start_time": "2023-07-14T04:23:31.627Z"
   },
   {
    "duration": 5,
    "start_time": "2023-07-14T04:23:31.807Z"
   },
   {
    "duration": 92,
    "start_time": "2023-07-14T04:23:31.813Z"
   },
   {
    "duration": 74,
    "start_time": "2023-07-14T04:23:31.907Z"
   },
   {
    "duration": 0,
    "start_time": "2023-07-14T04:23:31.983Z"
   },
   {
    "duration": 0,
    "start_time": "2023-07-14T04:23:31.984Z"
   },
   {
    "duration": 0,
    "start_time": "2023-07-14T04:23:31.985Z"
   },
   {
    "duration": 0,
    "start_time": "2023-07-14T04:23:31.986Z"
   },
   {
    "duration": 0,
    "start_time": "2023-07-14T04:23:31.987Z"
   },
   {
    "duration": 0,
    "start_time": "2023-07-14T04:23:31.988Z"
   },
   {
    "duration": 0,
    "start_time": "2023-07-14T04:23:31.989Z"
   },
   {
    "duration": 0,
    "start_time": "2023-07-14T04:23:31.990Z"
   },
   {
    "duration": 0,
    "start_time": "2023-07-14T04:23:31.991Z"
   },
   {
    "duration": 0,
    "start_time": "2023-07-14T04:23:31.992Z"
   },
   {
    "duration": 0,
    "start_time": "2023-07-14T04:23:31.993Z"
   },
   {
    "duration": 0,
    "start_time": "2023-07-14T04:23:31.993Z"
   },
   {
    "duration": 0,
    "start_time": "2023-07-14T04:23:31.994Z"
   },
   {
    "duration": 0,
    "start_time": "2023-07-14T04:23:31.995Z"
   },
   {
    "duration": 0,
    "start_time": "2023-07-14T04:23:31.996Z"
   },
   {
    "duration": 0,
    "start_time": "2023-07-14T04:23:31.997Z"
   },
   {
    "duration": 0,
    "start_time": "2023-07-14T04:23:31.998Z"
   },
   {
    "duration": 0,
    "start_time": "2023-07-14T04:23:31.999Z"
   },
   {
    "duration": 0,
    "start_time": "2023-07-14T04:23:32.032Z"
   },
   {
    "duration": 0,
    "start_time": "2023-07-14T04:23:32.033Z"
   },
   {
    "duration": 0,
    "start_time": "2023-07-14T04:23:32.034Z"
   },
   {
    "duration": 0,
    "start_time": "2023-07-14T04:23:32.034Z"
   },
   {
    "duration": 3,
    "start_time": "2023-07-14T04:24:18.469Z"
   },
   {
    "duration": 42,
    "start_time": "2023-07-14T04:24:18.473Z"
   },
   {
    "duration": 13,
    "start_time": "2023-07-14T04:24:18.516Z"
   },
   {
    "duration": 50,
    "start_time": "2023-07-14T04:24:18.530Z"
   },
   {
    "duration": 11,
    "start_time": "2023-07-14T04:24:18.582Z"
   },
   {
    "duration": 20,
    "start_time": "2023-07-14T04:24:18.595Z"
   },
   {
    "duration": 13,
    "start_time": "2023-07-14T04:24:18.616Z"
   },
   {
    "duration": 30,
    "start_time": "2023-07-14T04:24:18.631Z"
   },
   {
    "duration": 14,
    "start_time": "2023-07-14T04:24:18.662Z"
   },
   {
    "duration": 5,
    "start_time": "2023-07-14T04:24:18.678Z"
   },
   {
    "duration": 7,
    "start_time": "2023-07-14T04:24:18.684Z"
   },
   {
    "duration": 10,
    "start_time": "2023-07-14T04:24:18.692Z"
   },
   {
    "duration": 18,
    "start_time": "2023-07-14T04:24:18.703Z"
   },
   {
    "duration": 18,
    "start_time": "2023-07-14T04:24:18.724Z"
   },
   {
    "duration": 25,
    "start_time": "2023-07-14T04:24:18.743Z"
   },
   {
    "duration": 136,
    "start_time": "2023-07-14T04:24:18.770Z"
   },
   {
    "duration": 5,
    "start_time": "2023-07-14T04:24:18.908Z"
   },
   {
    "duration": 92,
    "start_time": "2023-07-14T04:24:18.914Z"
   },
   {
    "duration": 79,
    "start_time": "2023-07-14T04:24:19.007Z"
   },
   {
    "duration": 5,
    "start_time": "2023-07-14T04:24:19.088Z"
   },
   {
    "duration": 168,
    "start_time": "2023-07-14T04:24:19.095Z"
   },
   {
    "duration": 7,
    "start_time": "2023-07-14T04:24:19.265Z"
   },
   {
    "duration": 13,
    "start_time": "2023-07-14T04:24:19.273Z"
   },
   {
    "duration": 182,
    "start_time": "2023-07-14T04:24:19.287Z"
   },
   {
    "duration": 7,
    "start_time": "2023-07-14T04:24:19.471Z"
   },
   {
    "duration": 205,
    "start_time": "2023-07-14T04:24:19.480Z"
   },
   {
    "duration": 44,
    "start_time": "2023-07-14T04:24:19.687Z"
   },
   {
    "duration": 4,
    "start_time": "2023-07-14T04:24:19.734Z"
   },
   {
    "duration": 36,
    "start_time": "2023-07-14T04:24:19.740Z"
   },
   {
    "duration": 20,
    "start_time": "2023-07-14T04:24:19.778Z"
   },
   {
    "duration": 447,
    "start_time": "2023-07-14T04:24:19.799Z"
   },
   {
    "duration": 290,
    "start_time": "2023-07-14T04:24:20.248Z"
   },
   {
    "duration": 4,
    "start_time": "2023-07-14T04:24:20.539Z"
   },
   {
    "duration": 775,
    "start_time": "2023-07-14T04:24:20.544Z"
   },
   {
    "duration": 140,
    "start_time": "2023-07-14T04:24:21.320Z"
   },
   {
    "duration": 4,
    "start_time": "2023-07-14T04:24:21.462Z"
   },
   {
    "duration": 5,
    "start_time": "2023-07-14T04:24:21.468Z"
   },
   {
    "duration": 775,
    "start_time": "2023-07-14T04:24:21.475Z"
   },
   {
    "duration": 5,
    "start_time": "2023-07-14T04:24:22.251Z"
   },
   {
    "duration": 9,
    "start_time": "2023-07-14T04:24:22.258Z"
   },
   {
    "duration": 4,
    "start_time": "2023-07-14T04:24:22.270Z"
   },
   {
    "duration": 3,
    "start_time": "2023-07-14T04:31:24.502Z"
   },
   {
    "duration": 50,
    "start_time": "2023-07-14T04:31:24.508Z"
   },
   {
    "duration": 16,
    "start_time": "2023-07-14T04:31:24.561Z"
   },
   {
    "duration": 44,
    "start_time": "2023-07-14T04:31:24.579Z"
   },
   {
    "duration": 15,
    "start_time": "2023-07-14T04:31:24.625Z"
   },
   {
    "duration": 23,
    "start_time": "2023-07-14T04:31:24.642Z"
   },
   {
    "duration": 17,
    "start_time": "2023-07-14T04:31:24.667Z"
   },
   {
    "duration": 17,
    "start_time": "2023-07-14T04:31:24.686Z"
   },
   {
    "duration": 12,
    "start_time": "2023-07-14T04:31:24.705Z"
   },
   {
    "duration": 9,
    "start_time": "2023-07-14T04:31:24.731Z"
   },
   {
    "duration": 4,
    "start_time": "2023-07-14T04:31:24.742Z"
   },
   {
    "duration": 12,
    "start_time": "2023-07-14T04:31:24.748Z"
   },
   {
    "duration": 7,
    "start_time": "2023-07-14T04:31:24.762Z"
   },
   {
    "duration": 8,
    "start_time": "2023-07-14T04:31:24.772Z"
   },
   {
    "duration": 10,
    "start_time": "2023-07-14T04:31:24.781Z"
   },
   {
    "duration": 158,
    "start_time": "2023-07-14T04:31:24.793Z"
   },
   {
    "duration": 14,
    "start_time": "2023-07-14T04:31:24.953Z"
   },
   {
    "duration": 0,
    "start_time": "2023-07-14T04:31:24.969Z"
   },
   {
    "duration": 0,
    "start_time": "2023-07-14T04:31:24.970Z"
   },
   {
    "duration": 0,
    "start_time": "2023-07-14T04:31:24.971Z"
   },
   {
    "duration": 0,
    "start_time": "2023-07-14T04:31:24.972Z"
   },
   {
    "duration": 0,
    "start_time": "2023-07-14T04:31:24.973Z"
   },
   {
    "duration": 0,
    "start_time": "2023-07-14T04:31:24.974Z"
   },
   {
    "duration": 0,
    "start_time": "2023-07-14T04:31:24.975Z"
   },
   {
    "duration": 0,
    "start_time": "2023-07-14T04:31:24.976Z"
   },
   {
    "duration": 0,
    "start_time": "2023-07-14T04:31:24.977Z"
   },
   {
    "duration": 0,
    "start_time": "2023-07-14T04:31:24.978Z"
   },
   {
    "duration": 0,
    "start_time": "2023-07-14T04:31:24.979Z"
   },
   {
    "duration": 0,
    "start_time": "2023-07-14T04:31:24.980Z"
   },
   {
    "duration": 0,
    "start_time": "2023-07-14T04:31:24.981Z"
   },
   {
    "duration": 0,
    "start_time": "2023-07-14T04:31:24.981Z"
   },
   {
    "duration": 0,
    "start_time": "2023-07-14T04:31:24.982Z"
   },
   {
    "duration": 0,
    "start_time": "2023-07-14T04:31:24.983Z"
   },
   {
    "duration": 0,
    "start_time": "2023-07-14T04:31:24.984Z"
   },
   {
    "duration": 0,
    "start_time": "2023-07-14T04:31:24.985Z"
   },
   {
    "duration": 0,
    "start_time": "2023-07-14T04:31:24.986Z"
   },
   {
    "duration": 0,
    "start_time": "2023-07-14T04:31:24.987Z"
   },
   {
    "duration": 0,
    "start_time": "2023-07-14T04:31:24.988Z"
   },
   {
    "duration": 0,
    "start_time": "2023-07-14T04:31:24.989Z"
   },
   {
    "duration": 0,
    "start_time": "2023-07-14T04:31:24.989Z"
   },
   {
    "duration": 0,
    "start_time": "2023-07-14T04:31:25.032Z"
   },
   {
    "duration": 4,
    "start_time": "2023-07-14T04:33:12.631Z"
   },
   {
    "duration": 44,
    "start_time": "2023-07-14T04:33:12.637Z"
   },
   {
    "duration": 12,
    "start_time": "2023-07-14T04:33:12.683Z"
   },
   {
    "duration": 46,
    "start_time": "2023-07-14T04:33:12.697Z"
   },
   {
    "duration": 13,
    "start_time": "2023-07-14T04:33:12.745Z"
   },
   {
    "duration": 36,
    "start_time": "2023-07-14T04:33:12.759Z"
   },
   {
    "duration": 13,
    "start_time": "2023-07-14T04:33:12.796Z"
   },
   {
    "duration": 7,
    "start_time": "2023-07-14T04:33:12.811Z"
   },
   {
    "duration": 12,
    "start_time": "2023-07-14T04:33:12.819Z"
   },
   {
    "duration": 10,
    "start_time": "2023-07-14T04:33:12.833Z"
   },
   {
    "duration": 18,
    "start_time": "2023-07-14T04:33:12.844Z"
   },
   {
    "duration": 15,
    "start_time": "2023-07-14T04:33:12.864Z"
   },
   {
    "duration": 12,
    "start_time": "2023-07-14T04:33:12.882Z"
   },
   {
    "duration": 14,
    "start_time": "2023-07-14T04:33:12.895Z"
   },
   {
    "duration": 18,
    "start_time": "2023-07-14T04:33:12.911Z"
   },
   {
    "duration": 152,
    "start_time": "2023-07-14T04:33:12.930Z"
   },
   {
    "duration": 1248,
    "start_time": "2023-07-14T04:33:13.083Z"
   },
   {
    "duration": 0,
    "start_time": "2023-07-14T04:33:14.334Z"
   },
   {
    "duration": 0,
    "start_time": "2023-07-14T04:33:14.335Z"
   },
   {
    "duration": 0,
    "start_time": "2023-07-14T04:33:14.336Z"
   },
   {
    "duration": 0,
    "start_time": "2023-07-14T04:33:14.338Z"
   },
   {
    "duration": 0,
    "start_time": "2023-07-14T04:33:14.340Z"
   },
   {
    "duration": 0,
    "start_time": "2023-07-14T04:33:14.341Z"
   },
   {
    "duration": 0,
    "start_time": "2023-07-14T04:33:14.343Z"
   },
   {
    "duration": 0,
    "start_time": "2023-07-14T04:33:14.344Z"
   },
   {
    "duration": 0,
    "start_time": "2023-07-14T04:33:14.345Z"
   },
   {
    "duration": 0,
    "start_time": "2023-07-14T04:33:14.347Z"
   },
   {
    "duration": 0,
    "start_time": "2023-07-14T04:33:14.348Z"
   },
   {
    "duration": 0,
    "start_time": "2023-07-14T04:33:14.350Z"
   },
   {
    "duration": 0,
    "start_time": "2023-07-14T04:33:14.351Z"
   },
   {
    "duration": 0,
    "start_time": "2023-07-14T04:33:14.352Z"
   },
   {
    "duration": 0,
    "start_time": "2023-07-14T04:33:14.354Z"
   },
   {
    "duration": 0,
    "start_time": "2023-07-14T04:33:14.355Z"
   },
   {
    "duration": 0,
    "start_time": "2023-07-14T04:33:14.356Z"
   },
   {
    "duration": 0,
    "start_time": "2023-07-14T04:33:14.357Z"
   },
   {
    "duration": 0,
    "start_time": "2023-07-14T04:33:14.358Z"
   },
   {
    "duration": 0,
    "start_time": "2023-07-14T04:33:14.359Z"
   },
   {
    "duration": 0,
    "start_time": "2023-07-14T04:33:14.360Z"
   },
   {
    "duration": 0,
    "start_time": "2023-07-14T04:33:14.363Z"
   },
   {
    "duration": 0,
    "start_time": "2023-07-14T04:33:14.363Z"
   },
   {
    "duration": 0,
    "start_time": "2023-07-14T04:33:14.365Z"
   },
   {
    "duration": 3,
    "start_time": "2023-07-14T04:34:13.716Z"
   },
   {
    "duration": 45,
    "start_time": "2023-07-14T04:34:13.720Z"
   },
   {
    "duration": 17,
    "start_time": "2023-07-14T04:34:13.767Z"
   },
   {
    "duration": 44,
    "start_time": "2023-07-14T04:34:13.786Z"
   },
   {
    "duration": 18,
    "start_time": "2023-07-14T04:34:13.832Z"
   },
   {
    "duration": 19,
    "start_time": "2023-07-14T04:34:13.852Z"
   },
   {
    "duration": 13,
    "start_time": "2023-07-14T04:34:13.872Z"
   },
   {
    "duration": 19,
    "start_time": "2023-07-14T04:34:13.887Z"
   },
   {
    "duration": 13,
    "start_time": "2023-07-14T04:34:13.907Z"
   },
   {
    "duration": 7,
    "start_time": "2023-07-14T04:34:13.933Z"
   },
   {
    "duration": 7,
    "start_time": "2023-07-14T04:34:13.942Z"
   },
   {
    "duration": 20,
    "start_time": "2023-07-14T04:34:13.951Z"
   },
   {
    "duration": 9,
    "start_time": "2023-07-14T04:34:13.973Z"
   },
   {
    "duration": 12,
    "start_time": "2023-07-14T04:34:13.984Z"
   },
   {
    "duration": 24,
    "start_time": "2023-07-14T04:34:13.998Z"
   },
   {
    "duration": 138,
    "start_time": "2023-07-14T04:34:14.024Z"
   },
   {
    "duration": 113,
    "start_time": "2023-07-14T04:34:14.164Z"
   },
   {
    "duration": 4,
    "start_time": "2023-07-14T04:34:14.279Z"
   },
   {
    "duration": 167,
    "start_time": "2023-07-14T04:34:14.285Z"
   },
   {
    "duration": 4,
    "start_time": "2023-07-14T04:34:14.454Z"
   },
   {
    "duration": 214,
    "start_time": "2023-07-14T04:34:14.459Z"
   },
   {
    "duration": 9,
    "start_time": "2023-07-14T04:34:14.675Z"
   },
   {
    "duration": 62,
    "start_time": "2023-07-14T04:34:14.687Z"
   },
   {
    "duration": 179,
    "start_time": "2023-07-14T04:34:14.751Z"
   },
   {
    "duration": 6,
    "start_time": "2023-07-14T04:34:14.932Z"
   },
   {
    "duration": 179,
    "start_time": "2023-07-14T04:34:14.940Z"
   },
   {
    "duration": 33,
    "start_time": "2023-07-14T04:34:15.120Z"
   },
   {
    "duration": 3,
    "start_time": "2023-07-14T04:34:15.156Z"
   },
   {
    "duration": 28,
    "start_time": "2023-07-14T04:34:15.161Z"
   },
   {
    "duration": 20,
    "start_time": "2023-07-14T04:34:15.191Z"
   },
   {
    "duration": 343,
    "start_time": "2023-07-14T04:34:15.231Z"
   },
   {
    "duration": 301,
    "start_time": "2023-07-14T04:34:15.576Z"
   },
   {
    "duration": 4,
    "start_time": "2023-07-14T04:34:15.878Z"
   },
   {
    "duration": 871,
    "start_time": "2023-07-14T04:34:15.883Z"
   },
   {
    "duration": 154,
    "start_time": "2023-07-14T04:34:16.756Z"
   },
   {
    "duration": 6,
    "start_time": "2023-07-14T04:34:16.911Z"
   },
   {
    "duration": 14,
    "start_time": "2023-07-14T04:34:16.919Z"
   },
   {
    "duration": 807,
    "start_time": "2023-07-14T04:34:16.934Z"
   },
   {
    "duration": 5,
    "start_time": "2023-07-14T04:34:17.743Z"
   },
   {
    "duration": 36,
    "start_time": "2023-07-14T04:34:17.749Z"
   },
   {
    "duration": 10,
    "start_time": "2023-07-14T04:34:17.787Z"
   },
   {
    "duration": 15,
    "start_time": "2023-07-14T04:34:31.905Z"
   },
   {
    "duration": 3,
    "start_time": "2023-07-14T04:34:40.706Z"
   },
   {
    "duration": 54,
    "start_time": "2023-07-14T04:34:40.711Z"
   },
   {
    "duration": 13,
    "start_time": "2023-07-14T04:34:40.767Z"
   },
   {
    "duration": 48,
    "start_time": "2023-07-14T04:34:40.783Z"
   },
   {
    "duration": 16,
    "start_time": "2023-07-14T04:34:40.834Z"
   },
   {
    "duration": 21,
    "start_time": "2023-07-14T04:34:40.852Z"
   },
   {
    "duration": 12,
    "start_time": "2023-07-14T04:34:40.874Z"
   },
   {
    "duration": 12,
    "start_time": "2023-07-14T04:34:40.888Z"
   },
   {
    "duration": 12,
    "start_time": "2023-07-14T04:34:40.902Z"
   },
   {
    "duration": 7,
    "start_time": "2023-07-14T04:34:41.011Z"
   },
   {
    "duration": 13,
    "start_time": "2023-07-14T04:34:41.019Z"
   },
   {
    "duration": 17,
    "start_time": "2023-07-14T04:34:41.034Z"
   },
   {
    "duration": 13,
    "start_time": "2023-07-14T04:34:41.052Z"
   },
   {
    "duration": 7,
    "start_time": "2023-07-14T04:34:41.066Z"
   },
   {
    "duration": 8,
    "start_time": "2023-07-14T04:34:41.074Z"
   },
   {
    "duration": 132,
    "start_time": "2023-07-14T04:34:41.083Z"
   },
   {
    "duration": 20,
    "start_time": "2023-07-14T04:34:41.217Z"
   },
   {
    "duration": 0,
    "start_time": "2023-07-14T04:34:41.239Z"
   },
   {
    "duration": 0,
    "start_time": "2023-07-14T04:34:41.240Z"
   },
   {
    "duration": 0,
    "start_time": "2023-07-14T04:34:41.241Z"
   },
   {
    "duration": 0,
    "start_time": "2023-07-14T04:34:41.241Z"
   },
   {
    "duration": 0,
    "start_time": "2023-07-14T04:34:41.242Z"
   },
   {
    "duration": 0,
    "start_time": "2023-07-14T04:34:41.243Z"
   },
   {
    "duration": 0,
    "start_time": "2023-07-14T04:34:41.244Z"
   },
   {
    "duration": 0,
    "start_time": "2023-07-14T04:34:41.245Z"
   },
   {
    "duration": 0,
    "start_time": "2023-07-14T04:34:41.246Z"
   },
   {
    "duration": 0,
    "start_time": "2023-07-14T04:34:41.247Z"
   },
   {
    "duration": 0,
    "start_time": "2023-07-14T04:34:41.248Z"
   },
   {
    "duration": 0,
    "start_time": "2023-07-14T04:34:41.248Z"
   },
   {
    "duration": 0,
    "start_time": "2023-07-14T04:34:41.249Z"
   },
   {
    "duration": 0,
    "start_time": "2023-07-14T04:34:41.250Z"
   },
   {
    "duration": 0,
    "start_time": "2023-07-14T04:34:41.251Z"
   },
   {
    "duration": 0,
    "start_time": "2023-07-14T04:34:41.252Z"
   },
   {
    "duration": 0,
    "start_time": "2023-07-14T04:34:41.253Z"
   },
   {
    "duration": 0,
    "start_time": "2023-07-14T04:34:41.254Z"
   },
   {
    "duration": 0,
    "start_time": "2023-07-14T04:34:41.255Z"
   },
   {
    "duration": 0,
    "start_time": "2023-07-14T04:34:41.256Z"
   },
   {
    "duration": 0,
    "start_time": "2023-07-14T04:34:41.257Z"
   },
   {
    "duration": 0,
    "start_time": "2023-07-14T04:34:41.258Z"
   },
   {
    "duration": 0,
    "start_time": "2023-07-14T04:34:41.259Z"
   },
   {
    "duration": 0,
    "start_time": "2023-07-14T04:34:41.260Z"
   },
   {
    "duration": 3,
    "start_time": "2023-07-14T04:35:59.143Z"
   },
   {
    "duration": 53,
    "start_time": "2023-07-14T04:35:59.148Z"
   },
   {
    "duration": 14,
    "start_time": "2023-07-14T04:35:59.202Z"
   },
   {
    "duration": 45,
    "start_time": "2023-07-14T04:35:59.218Z"
   },
   {
    "duration": 13,
    "start_time": "2023-07-14T04:35:59.264Z"
   },
   {
    "duration": 33,
    "start_time": "2023-07-14T04:35:59.279Z"
   },
   {
    "duration": 12,
    "start_time": "2023-07-14T04:35:59.314Z"
   },
   {
    "duration": 28,
    "start_time": "2023-07-14T04:35:59.328Z"
   },
   {
    "duration": 20,
    "start_time": "2023-07-14T04:35:59.358Z"
   },
   {
    "duration": 21,
    "start_time": "2023-07-14T04:35:59.380Z"
   },
   {
    "duration": 22,
    "start_time": "2023-07-14T04:35:59.402Z"
   },
   {
    "duration": 10,
    "start_time": "2023-07-14T04:35:59.425Z"
   },
   {
    "duration": 8,
    "start_time": "2023-07-14T04:35:59.436Z"
   },
   {
    "duration": 27,
    "start_time": "2023-07-14T04:35:59.445Z"
   },
   {
    "duration": 16,
    "start_time": "2023-07-14T04:35:59.473Z"
   },
   {
    "duration": 134,
    "start_time": "2023-07-14T04:35:59.491Z"
   },
   {
    "duration": 142,
    "start_time": "2023-07-14T04:35:59.627Z"
   },
   {
    "duration": 5,
    "start_time": "2023-07-14T04:35:59.771Z"
   },
   {
    "duration": 105,
    "start_time": "2023-07-14T04:35:59.778Z"
   },
   {
    "duration": 4,
    "start_time": "2023-07-14T04:35:59.884Z"
   },
   {
    "duration": 191,
    "start_time": "2023-07-14T04:35:59.890Z"
   },
   {
    "duration": 8,
    "start_time": "2023-07-14T04:36:00.083Z"
   },
   {
    "duration": 14,
    "start_time": "2023-07-14T04:36:00.092Z"
   },
   {
    "duration": 201,
    "start_time": "2023-07-14T04:36:00.109Z"
   },
   {
    "duration": 8,
    "start_time": "2023-07-14T04:36:00.312Z"
   },
   {
    "duration": 216,
    "start_time": "2023-07-14T04:36:00.331Z"
   },
   {
    "duration": 30,
    "start_time": "2023-07-14T04:36:00.548Z"
   },
   {
    "duration": 21,
    "start_time": "2023-07-14T04:36:00.582Z"
   },
   {
    "duration": 40,
    "start_time": "2023-07-14T04:36:00.605Z"
   },
   {
    "duration": 41,
    "start_time": "2023-07-14T04:36:00.646Z"
   },
   {
    "duration": 376,
    "start_time": "2023-07-14T04:36:00.689Z"
   },
   {
    "duration": 296,
    "start_time": "2023-07-14T04:36:01.067Z"
   },
   {
    "duration": 4,
    "start_time": "2023-07-14T04:36:01.365Z"
   },
   {
    "duration": 974,
    "start_time": "2023-07-14T04:36:01.370Z"
   },
   {
    "duration": 242,
    "start_time": "2023-07-14T04:36:02.346Z"
   },
   {
    "duration": 6,
    "start_time": "2023-07-14T04:36:02.589Z"
   },
   {
    "duration": 19,
    "start_time": "2023-07-14T04:36:02.597Z"
   },
   {
    "duration": 870,
    "start_time": "2023-07-14T04:36:02.618Z"
   },
   {
    "duration": 5,
    "start_time": "2023-07-14T04:36:03.490Z"
   },
   {
    "duration": 128,
    "start_time": "2023-07-14T04:36:03.496Z"
   },
   {
    "duration": 39,
    "start_time": "2023-07-14T04:36:03.625Z"
   },
   {
    "duration": 1323,
    "start_time": "2023-07-14T04:36:33.862Z"
   },
   {
    "duration": 126,
    "start_time": "2023-07-14T04:36:56.789Z"
   },
   {
    "duration": 162,
    "start_time": "2023-07-14T04:37:44.578Z"
   },
   {
    "duration": 312,
    "start_time": "2023-07-14T04:42:50.480Z"
   },
   {
    "duration": 3,
    "start_time": "2023-07-14T04:44:49.662Z"
   },
   {
    "duration": 44,
    "start_time": "2023-07-14T04:44:49.668Z"
   },
   {
    "duration": 19,
    "start_time": "2023-07-14T04:44:49.714Z"
   },
   {
    "duration": 61,
    "start_time": "2023-07-14T04:44:49.736Z"
   },
   {
    "duration": 20,
    "start_time": "2023-07-14T04:44:49.799Z"
   },
   {
    "duration": 20,
    "start_time": "2023-07-14T04:44:49.821Z"
   },
   {
    "duration": 19,
    "start_time": "2023-07-14T04:44:49.843Z"
   },
   {
    "duration": 12,
    "start_time": "2023-07-14T04:44:49.864Z"
   },
   {
    "duration": 10,
    "start_time": "2023-07-14T04:44:49.879Z"
   },
   {
    "duration": 8,
    "start_time": "2023-07-14T04:44:49.891Z"
   },
   {
    "duration": 4,
    "start_time": "2023-07-14T04:44:49.901Z"
   },
   {
    "duration": 31,
    "start_time": "2023-07-14T04:44:49.907Z"
   },
   {
    "duration": 22,
    "start_time": "2023-07-14T04:44:49.940Z"
   },
   {
    "duration": 12,
    "start_time": "2023-07-14T04:44:49.964Z"
   },
   {
    "duration": 15,
    "start_time": "2023-07-14T04:44:49.978Z"
   },
   {
    "duration": 190,
    "start_time": "2023-07-14T04:44:49.996Z"
   },
   {
    "duration": 14,
    "start_time": "2023-07-14T04:44:50.188Z"
   },
   {
    "duration": 0,
    "start_time": "2023-07-14T04:44:50.205Z"
   },
   {
    "duration": 0,
    "start_time": "2023-07-14T04:44:50.206Z"
   },
   {
    "duration": 0,
    "start_time": "2023-07-14T04:44:50.208Z"
   },
   {
    "duration": 0,
    "start_time": "2023-07-14T04:44:50.209Z"
   },
   {
    "duration": 0,
    "start_time": "2023-07-14T04:44:50.210Z"
   },
   {
    "duration": 0,
    "start_time": "2023-07-14T04:44:50.232Z"
   },
   {
    "duration": 0,
    "start_time": "2023-07-14T04:44:50.235Z"
   },
   {
    "duration": 0,
    "start_time": "2023-07-14T04:44:50.236Z"
   },
   {
    "duration": 0,
    "start_time": "2023-07-14T04:44:50.238Z"
   },
   {
    "duration": 0,
    "start_time": "2023-07-14T04:44:50.242Z"
   },
   {
    "duration": 0,
    "start_time": "2023-07-14T04:44:50.243Z"
   },
   {
    "duration": 0,
    "start_time": "2023-07-14T04:44:50.244Z"
   },
   {
    "duration": 0,
    "start_time": "2023-07-14T04:44:50.245Z"
   },
   {
    "duration": 0,
    "start_time": "2023-07-14T04:44:50.247Z"
   },
   {
    "duration": 0,
    "start_time": "2023-07-14T04:44:50.249Z"
   },
   {
    "duration": 0,
    "start_time": "2023-07-14T04:44:50.250Z"
   },
   {
    "duration": 0,
    "start_time": "2023-07-14T04:44:50.251Z"
   },
   {
    "duration": 0,
    "start_time": "2023-07-14T04:44:50.252Z"
   },
   {
    "duration": 0,
    "start_time": "2023-07-14T04:44:50.253Z"
   },
   {
    "duration": 0,
    "start_time": "2023-07-14T04:44:50.254Z"
   },
   {
    "duration": 0,
    "start_time": "2023-07-14T04:44:50.256Z"
   },
   {
    "duration": 0,
    "start_time": "2023-07-14T04:44:50.257Z"
   },
   {
    "duration": 0,
    "start_time": "2023-07-14T04:44:50.258Z"
   },
   {
    "duration": 0,
    "start_time": "2023-07-14T04:44:50.259Z"
   },
   {
    "duration": 15,
    "start_time": "2023-07-14T04:46:00.116Z"
   },
   {
    "duration": 8,
    "start_time": "2023-07-14T04:46:30.441Z"
   },
   {
    "duration": 14,
    "start_time": "2023-07-14T04:47:16.497Z"
   },
   {
    "duration": 3,
    "start_time": "2023-07-14T04:47:41.898Z"
   },
   {
    "duration": 41,
    "start_time": "2023-07-14T04:47:41.903Z"
   },
   {
    "duration": 14,
    "start_time": "2023-07-14T04:47:41.945Z"
   },
   {
    "duration": 36,
    "start_time": "2023-07-14T04:47:41.961Z"
   },
   {
    "duration": 15,
    "start_time": "2023-07-14T04:47:41.999Z"
   },
   {
    "duration": 25,
    "start_time": "2023-07-14T04:47:42.016Z"
   },
   {
    "duration": 24,
    "start_time": "2023-07-14T04:47:42.043Z"
   },
   {
    "duration": 5,
    "start_time": "2023-07-14T04:47:42.069Z"
   },
   {
    "duration": 7,
    "start_time": "2023-07-14T04:47:42.075Z"
   },
   {
    "duration": 17,
    "start_time": "2023-07-14T04:47:42.084Z"
   },
   {
    "duration": 15,
    "start_time": "2023-07-14T04:47:42.103Z"
   },
   {
    "duration": 18,
    "start_time": "2023-07-14T04:47:42.120Z"
   },
   {
    "duration": 6,
    "start_time": "2023-07-14T04:47:42.139Z"
   },
   {
    "duration": 7,
    "start_time": "2023-07-14T04:47:42.147Z"
   },
   {
    "duration": 14,
    "start_time": "2023-07-14T04:47:42.155Z"
   },
   {
    "duration": 162,
    "start_time": "2023-07-14T04:47:42.170Z"
   },
   {
    "duration": 204,
    "start_time": "2023-07-14T04:47:42.334Z"
   },
   {
    "duration": 5,
    "start_time": "2023-07-14T04:47:42.540Z"
   },
   {
    "duration": 104,
    "start_time": "2023-07-14T04:47:42.546Z"
   },
   {
    "duration": 4,
    "start_time": "2023-07-14T04:47:42.652Z"
   },
   {
    "duration": 172,
    "start_time": "2023-07-14T04:47:42.658Z"
   },
   {
    "duration": 8,
    "start_time": "2023-07-14T04:47:42.832Z"
   },
   {
    "duration": 21,
    "start_time": "2023-07-14T04:47:42.842Z"
   },
   {
    "duration": 174,
    "start_time": "2023-07-14T04:47:42.865Z"
   },
   {
    "duration": 8,
    "start_time": "2023-07-14T04:47:43.042Z"
   },
   {
    "duration": 277,
    "start_time": "2023-07-14T04:47:43.051Z"
   },
   {
    "duration": 30,
    "start_time": "2023-07-14T04:47:43.331Z"
   },
   {
    "duration": 4,
    "start_time": "2023-07-14T04:47:43.364Z"
   },
   {
    "duration": 23,
    "start_time": "2023-07-14T04:47:43.369Z"
   },
   {
    "duration": 44,
    "start_time": "2023-07-14T04:47:43.394Z"
   },
   {
    "duration": 332,
    "start_time": "2023-07-14T04:47:43.439Z"
   },
   {
    "duration": 288,
    "start_time": "2023-07-14T04:47:43.772Z"
   },
   {
    "duration": 4,
    "start_time": "2023-07-14T04:47:44.061Z"
   },
   {
    "duration": 852,
    "start_time": "2023-07-14T04:47:44.066Z"
   },
   {
    "duration": 140,
    "start_time": "2023-07-14T04:47:44.920Z"
   },
   {
    "duration": 6,
    "start_time": "2023-07-14T04:47:45.062Z"
   },
   {
    "duration": 35,
    "start_time": "2023-07-14T04:47:45.069Z"
   },
   {
    "duration": 782,
    "start_time": "2023-07-14T04:47:45.106Z"
   },
   {
    "duration": 5,
    "start_time": "2023-07-14T04:47:45.890Z"
   },
   {
    "duration": 18,
    "start_time": "2023-07-14T04:47:45.897Z"
   },
   {
    "duration": 15,
    "start_time": "2023-07-14T04:47:45.917Z"
   },
   {
    "duration": 18,
    "start_time": "2023-07-14T04:48:29.589Z"
   },
   {
    "duration": 3,
    "start_time": "2023-07-14T04:49:13.299Z"
   },
   {
    "duration": 36,
    "start_time": "2023-07-14T04:49:13.304Z"
   },
   {
    "duration": 14,
    "start_time": "2023-07-14T04:49:13.342Z"
   },
   {
    "duration": 37,
    "start_time": "2023-07-14T04:49:13.358Z"
   },
   {
    "duration": 12,
    "start_time": "2023-07-14T04:49:13.397Z"
   },
   {
    "duration": 44,
    "start_time": "2023-07-14T04:49:13.411Z"
   },
   {
    "duration": 12,
    "start_time": "2023-07-14T04:49:13.456Z"
   },
   {
    "duration": 6,
    "start_time": "2023-07-14T04:49:13.470Z"
   },
   {
    "duration": 14,
    "start_time": "2023-07-14T04:49:13.478Z"
   },
   {
    "duration": 25,
    "start_time": "2023-07-14T04:49:13.493Z"
   },
   {
    "duration": 17,
    "start_time": "2023-07-14T04:49:13.520Z"
   },
   {
    "duration": 24,
    "start_time": "2023-07-14T04:49:13.539Z"
   },
   {
    "duration": 6,
    "start_time": "2023-07-14T04:49:13.564Z"
   },
   {
    "duration": 22,
    "start_time": "2023-07-14T04:49:13.571Z"
   },
   {
    "duration": 18,
    "start_time": "2023-07-14T04:49:13.594Z"
   },
   {
    "duration": 150,
    "start_time": "2023-07-14T04:49:13.613Z"
   },
   {
    "duration": 180,
    "start_time": "2023-07-14T04:49:13.765Z"
   },
   {
    "duration": 5,
    "start_time": "2023-07-14T04:49:13.947Z"
   },
   {
    "duration": 158,
    "start_time": "2023-07-14T04:49:13.953Z"
   },
   {
    "duration": 4,
    "start_time": "2023-07-14T04:49:14.113Z"
   },
   {
    "duration": 161,
    "start_time": "2023-07-14T04:49:14.119Z"
   },
   {
    "duration": 7,
    "start_time": "2023-07-14T04:49:14.282Z"
   },
   {
    "duration": 12,
    "start_time": "2023-07-14T04:49:14.291Z"
   },
   {
    "duration": 258,
    "start_time": "2023-07-14T04:49:14.306Z"
   },
   {
    "duration": 9,
    "start_time": "2023-07-14T04:49:14.565Z"
   },
   {
    "duration": 216,
    "start_time": "2023-07-14T04:49:14.576Z"
   },
   {
    "duration": 39,
    "start_time": "2023-07-14T04:49:14.794Z"
   },
   {
    "duration": 4,
    "start_time": "2023-07-14T04:49:14.834Z"
   },
   {
    "duration": 54,
    "start_time": "2023-07-14T04:49:14.839Z"
   },
   {
    "duration": 20,
    "start_time": "2023-07-14T04:49:14.894Z"
   },
   {
    "duration": 330,
    "start_time": "2023-07-14T04:49:14.915Z"
   },
   {
    "duration": 286,
    "start_time": "2023-07-14T04:49:15.246Z"
   },
   {
    "duration": 3,
    "start_time": "2023-07-14T04:49:15.533Z"
   },
   {
    "duration": 819,
    "start_time": "2023-07-14T04:49:15.537Z"
   },
   {
    "duration": 144,
    "start_time": "2023-07-14T04:49:16.357Z"
   },
   {
    "duration": 5,
    "start_time": "2023-07-14T04:49:16.503Z"
   },
   {
    "duration": 5,
    "start_time": "2023-07-14T04:49:16.509Z"
   },
   {
    "duration": 773,
    "start_time": "2023-07-14T04:49:16.516Z"
   },
   {
    "duration": 6,
    "start_time": "2023-07-14T04:49:17.291Z"
   },
   {
    "duration": 20,
    "start_time": "2023-07-14T04:49:17.298Z"
   },
   {
    "duration": 14,
    "start_time": "2023-07-14T04:49:17.319Z"
   },
   {
    "duration": 783,
    "start_time": "2023-07-14T04:55:08.756Z"
   },
   {
    "duration": 760,
    "start_time": "2023-07-14T04:56:47.513Z"
   },
   {
    "duration": 10,
    "start_time": "2023-07-14T04:59:09.260Z"
   },
   {
    "duration": 3,
    "start_time": "2023-07-14T04:59:25.441Z"
   },
   {
    "duration": 50,
    "start_time": "2023-07-14T04:59:25.447Z"
   },
   {
    "duration": 17,
    "start_time": "2023-07-14T04:59:25.499Z"
   },
   {
    "duration": 34,
    "start_time": "2023-07-14T04:59:25.518Z"
   },
   {
    "duration": 17,
    "start_time": "2023-07-14T04:59:25.553Z"
   },
   {
    "duration": 25,
    "start_time": "2023-07-14T04:59:25.572Z"
   },
   {
    "duration": 17,
    "start_time": "2023-07-14T04:59:25.599Z"
   },
   {
    "duration": 5,
    "start_time": "2023-07-14T04:59:25.618Z"
   },
   {
    "duration": 15,
    "start_time": "2023-07-14T04:59:25.624Z"
   },
   {
    "duration": 13,
    "start_time": "2023-07-14T04:59:25.643Z"
   },
   {
    "duration": 6,
    "start_time": "2023-07-14T04:59:25.657Z"
   },
   {
    "duration": 16,
    "start_time": "2023-07-14T04:59:25.664Z"
   },
   {
    "duration": 19,
    "start_time": "2023-07-14T04:59:25.682Z"
   },
   {
    "duration": 9,
    "start_time": "2023-07-14T04:59:25.702Z"
   },
   {
    "duration": 9,
    "start_time": "2023-07-14T04:59:25.713Z"
   },
   {
    "duration": 143,
    "start_time": "2023-07-14T04:59:25.731Z"
   },
   {
    "duration": 175,
    "start_time": "2023-07-14T04:59:25.875Z"
   },
   {
    "duration": 6,
    "start_time": "2023-07-14T04:59:26.053Z"
   },
   {
    "duration": 104,
    "start_time": "2023-07-14T04:59:26.133Z"
   },
   {
    "duration": 6,
    "start_time": "2023-07-14T04:59:26.238Z"
   },
   {
    "duration": 168,
    "start_time": "2023-07-14T04:59:26.245Z"
   },
   {
    "duration": 8,
    "start_time": "2023-07-14T04:59:26.415Z"
   },
   {
    "duration": 7,
    "start_time": "2023-07-14T04:59:26.432Z"
   },
   {
    "duration": 185,
    "start_time": "2023-07-14T04:59:26.440Z"
   },
   {
    "duration": 10,
    "start_time": "2023-07-14T04:59:26.626Z"
   },
   {
    "duration": 183,
    "start_time": "2023-07-14T04:59:26.638Z"
   },
   {
    "duration": 36,
    "start_time": "2023-07-14T04:59:26.822Z"
   },
   {
    "duration": 4,
    "start_time": "2023-07-14T04:59:26.861Z"
   },
   {
    "duration": 22,
    "start_time": "2023-07-14T04:59:26.867Z"
   },
   {
    "duration": 44,
    "start_time": "2023-07-14T04:59:26.891Z"
   },
   {
    "duration": 469,
    "start_time": "2023-07-14T04:59:26.937Z"
   },
   {
    "duration": 324,
    "start_time": "2023-07-14T04:59:27.408Z"
   },
   {
    "duration": 4,
    "start_time": "2023-07-14T04:59:27.733Z"
   },
   {
    "duration": 899,
    "start_time": "2023-07-14T04:59:27.739Z"
   },
   {
    "duration": 183,
    "start_time": "2023-07-14T04:59:28.640Z"
   },
   {
    "duration": 9,
    "start_time": "2023-07-14T04:59:28.825Z"
   },
   {
    "duration": 10,
    "start_time": "2023-07-14T04:59:28.836Z"
   },
   {
    "duration": 877,
    "start_time": "2023-07-14T04:59:28.848Z"
   },
   {
    "duration": 5,
    "start_time": "2023-07-14T04:59:29.731Z"
   },
   {
    "duration": 26,
    "start_time": "2023-07-14T04:59:29.737Z"
   },
   {
    "duration": 6,
    "start_time": "2023-07-14T04:59:29.765Z"
   },
   {
    "duration": 208,
    "start_time": "2023-07-14T05:01:23.817Z"
   },
   {
    "duration": 191,
    "start_time": "2023-07-14T05:02:21.233Z"
   },
   {
    "duration": 4,
    "start_time": "2023-07-14T05:03:37.187Z"
   },
   {
    "duration": 48,
    "start_time": "2023-07-14T05:03:37.193Z"
   },
   {
    "duration": 14,
    "start_time": "2023-07-14T05:03:37.243Z"
   },
   {
    "duration": 48,
    "start_time": "2023-07-14T05:03:37.260Z"
   },
   {
    "duration": 32,
    "start_time": "2023-07-14T05:03:37.310Z"
   },
   {
    "duration": 24,
    "start_time": "2023-07-14T05:03:37.344Z"
   },
   {
    "duration": 47,
    "start_time": "2023-07-14T05:03:37.370Z"
   },
   {
    "duration": 51,
    "start_time": "2023-07-14T05:03:37.419Z"
   },
   {
    "duration": 33,
    "start_time": "2023-07-14T05:03:37.472Z"
   },
   {
    "duration": 43,
    "start_time": "2023-07-14T05:03:37.507Z"
   },
   {
    "duration": 30,
    "start_time": "2023-07-14T05:03:37.552Z"
   },
   {
    "duration": 49,
    "start_time": "2023-07-14T05:03:37.584Z"
   },
   {
    "duration": 33,
    "start_time": "2023-07-14T05:03:37.634Z"
   },
   {
    "duration": 68,
    "start_time": "2023-07-14T05:03:37.672Z"
   },
   {
    "duration": 63,
    "start_time": "2023-07-14T05:03:37.742Z"
   },
   {
    "duration": 148,
    "start_time": "2023-07-14T05:03:37.806Z"
   },
   {
    "duration": 203,
    "start_time": "2023-07-14T05:03:37.956Z"
   },
   {
    "duration": 4,
    "start_time": "2023-07-14T05:03:38.161Z"
   },
   {
    "duration": 144,
    "start_time": "2023-07-14T05:03:38.167Z"
   },
   {
    "duration": 4,
    "start_time": "2023-07-14T05:03:38.313Z"
   },
   {
    "duration": 258,
    "start_time": "2023-07-14T05:03:38.319Z"
   },
   {
    "duration": 7,
    "start_time": "2023-07-14T05:03:38.579Z"
   },
   {
    "duration": 38,
    "start_time": "2023-07-14T05:03:38.588Z"
   },
   {
    "duration": 217,
    "start_time": "2023-07-14T05:03:38.627Z"
   },
   {
    "duration": 8,
    "start_time": "2023-07-14T05:03:38.846Z"
   },
   {
    "duration": 190,
    "start_time": "2023-07-14T05:03:38.856Z"
   },
   {
    "duration": 28,
    "start_time": "2023-07-14T05:03:39.047Z"
   },
   {
    "duration": 9,
    "start_time": "2023-07-14T05:03:39.076Z"
   },
   {
    "duration": 38,
    "start_time": "2023-07-14T05:03:39.086Z"
   },
   {
    "duration": 36,
    "start_time": "2023-07-14T05:03:39.126Z"
   },
   {
    "duration": 349,
    "start_time": "2023-07-14T05:03:39.163Z"
   },
   {
    "duration": 304,
    "start_time": "2023-07-14T05:03:39.513Z"
   },
   {
    "duration": 180,
    "start_time": "2023-07-14T05:03:39.819Z"
   },
   {
    "duration": 175,
    "start_time": "2023-07-14T05:03:40.000Z"
   },
   {
    "duration": 4,
    "start_time": "2023-07-14T05:03:40.177Z"
   },
   {
    "duration": 817,
    "start_time": "2023-07-14T05:03:40.182Z"
   },
   {
    "duration": 154,
    "start_time": "2023-07-14T05:03:41.000Z"
   },
   {
    "duration": 9,
    "start_time": "2023-07-14T05:03:41.156Z"
   },
   {
    "duration": 6,
    "start_time": "2023-07-14T05:03:41.167Z"
   },
   {
    "duration": 891,
    "start_time": "2023-07-14T05:03:41.174Z"
   },
   {
    "duration": 5,
    "start_time": "2023-07-14T05:03:42.068Z"
   },
   {
    "duration": 24,
    "start_time": "2023-07-14T05:03:42.074Z"
   },
   {
    "duration": 5,
    "start_time": "2023-07-14T05:03:42.099Z"
   },
   {
    "duration": 10,
    "start_time": "2023-07-14T05:18:33.561Z"
   },
   {
    "duration": 9,
    "start_time": "2023-07-14T05:20:47.216Z"
   },
   {
    "duration": 12,
    "start_time": "2023-07-14T05:21:07.872Z"
   },
   {
    "duration": 13,
    "start_time": "2023-07-14T05:21:52.661Z"
   },
   {
    "duration": 4,
    "start_time": "2023-07-14T05:24:59.125Z"
   },
   {
    "duration": 67,
    "start_time": "2023-07-14T05:24:59.131Z"
   },
   {
    "duration": 12,
    "start_time": "2023-07-14T05:24:59.200Z"
   },
   {
    "duration": 43,
    "start_time": "2023-07-14T05:24:59.213Z"
   },
   {
    "duration": 13,
    "start_time": "2023-07-14T05:24:59.258Z"
   },
   {
    "duration": 41,
    "start_time": "2023-07-14T05:24:59.273Z"
   },
   {
    "duration": 13,
    "start_time": "2023-07-14T05:24:59.316Z"
   },
   {
    "duration": 14,
    "start_time": "2023-07-14T05:24:59.331Z"
   },
   {
    "duration": 21,
    "start_time": "2023-07-14T05:24:59.346Z"
   },
   {
    "duration": 18,
    "start_time": "2023-07-14T05:24:59.370Z"
   },
   {
    "duration": 5,
    "start_time": "2023-07-14T05:24:59.390Z"
   },
   {
    "duration": 13,
    "start_time": "2023-07-14T05:24:59.397Z"
   },
   {
    "duration": 26,
    "start_time": "2023-07-14T05:24:59.412Z"
   },
   {
    "duration": 15,
    "start_time": "2023-07-14T05:24:59.439Z"
   },
   {
    "duration": 31,
    "start_time": "2023-07-14T05:24:59.456Z"
   },
   {
    "duration": 145,
    "start_time": "2023-07-14T05:24:59.488Z"
   },
   {
    "duration": 4,
    "start_time": "2023-07-14T05:24:59.635Z"
   },
   {
    "duration": 10,
    "start_time": "2023-07-14T05:24:59.640Z"
   },
   {
    "duration": 98,
    "start_time": "2023-07-14T05:24:59.652Z"
   },
   {
    "duration": 5,
    "start_time": "2023-07-14T05:24:59.752Z"
   },
   {
    "duration": 170,
    "start_time": "2023-07-14T05:24:59.758Z"
   },
   {
    "duration": 9,
    "start_time": "2023-07-14T05:24:59.931Z"
   },
   {
    "duration": 15,
    "start_time": "2023-07-14T05:24:59.941Z"
   },
   {
    "duration": 185,
    "start_time": "2023-07-14T05:24:59.958Z"
   },
   {
    "duration": 8,
    "start_time": "2023-07-14T05:25:00.145Z"
   },
   {
    "duration": 199,
    "start_time": "2023-07-14T05:25:00.155Z"
   },
   {
    "duration": 30,
    "start_time": "2023-07-14T05:25:00.356Z"
   },
   {
    "duration": 36,
    "start_time": "2023-07-14T05:25:00.389Z"
   },
   {
    "duration": 71,
    "start_time": "2023-07-14T05:25:00.427Z"
   },
   {
    "duration": 32,
    "start_time": "2023-07-14T05:25:00.500Z"
   },
   {
    "duration": 375,
    "start_time": "2023-07-14T05:25:00.533Z"
   },
   {
    "duration": 301,
    "start_time": "2023-07-14T05:25:00.909Z"
   },
   {
    "duration": 188,
    "start_time": "2023-07-14T05:25:01.212Z"
   },
   {
    "duration": 184,
    "start_time": "2023-07-14T05:25:01.403Z"
   },
   {
    "duration": 4,
    "start_time": "2023-07-14T05:25:01.588Z"
   },
   {
    "duration": 879,
    "start_time": "2023-07-14T05:25:01.593Z"
   },
   {
    "duration": 251,
    "start_time": "2023-07-14T05:25:02.474Z"
   },
   {
    "duration": 6,
    "start_time": "2023-07-14T05:25:02.727Z"
   },
   {
    "duration": 11,
    "start_time": "2023-07-14T05:25:02.734Z"
   },
   {
    "duration": 820,
    "start_time": "2023-07-14T05:25:02.747Z"
   },
   {
    "duration": 5,
    "start_time": "2023-07-14T05:25:03.569Z"
   },
   {
    "duration": 32,
    "start_time": "2023-07-14T05:25:03.576Z"
   },
   {
    "duration": 12,
    "start_time": "2023-07-14T05:25:03.609Z"
   },
   {
    "duration": 1637,
    "start_time": "2023-07-14T12:24:15.331Z"
   },
   {
    "duration": 121,
    "start_time": "2023-07-14T12:24:16.970Z"
   },
   {
    "duration": 18,
    "start_time": "2023-07-14T12:24:17.092Z"
   },
   {
    "duration": 239,
    "start_time": "2023-07-14T12:24:17.114Z"
   },
   {
    "duration": 18,
    "start_time": "2023-07-14T12:24:17.355Z"
   },
   {
    "duration": 69,
    "start_time": "2023-07-14T12:24:17.375Z"
   },
   {
    "duration": 16,
    "start_time": "2023-07-14T12:24:17.446Z"
   },
   {
    "duration": 7,
    "start_time": "2023-07-14T12:24:17.463Z"
   },
   {
    "duration": 8,
    "start_time": "2023-07-14T12:24:17.472Z"
   },
   {
    "duration": 7,
    "start_time": "2023-07-14T12:24:17.482Z"
   },
   {
    "duration": 3,
    "start_time": "2023-07-14T12:24:17.490Z"
   },
   {
    "duration": 26,
    "start_time": "2023-07-14T12:24:17.495Z"
   },
   {
    "duration": 11,
    "start_time": "2023-07-14T12:24:17.523Z"
   },
   {
    "duration": 9,
    "start_time": "2023-07-14T12:24:17.536Z"
   },
   {
    "duration": 10,
    "start_time": "2023-07-14T12:24:17.546Z"
   },
   {
    "duration": 213,
    "start_time": "2023-07-14T12:24:17.558Z"
   },
   {
    "duration": 4,
    "start_time": "2023-07-14T12:24:17.774Z"
   },
   {
    "duration": 6,
    "start_time": "2023-07-14T12:24:17.779Z"
   },
   {
    "duration": 104,
    "start_time": "2023-07-14T12:24:17.787Z"
   },
   {
    "duration": 5,
    "start_time": "2023-07-14T12:24:17.893Z"
   },
   {
    "duration": 213,
    "start_time": "2023-07-14T12:24:17.899Z"
   },
   {
    "duration": 19,
    "start_time": "2023-07-14T12:24:18.114Z"
   },
   {
    "duration": 9,
    "start_time": "2023-07-14T12:24:18.135Z"
   },
   {
    "duration": 235,
    "start_time": "2023-07-14T12:24:18.146Z"
   },
   {
    "duration": 7,
    "start_time": "2023-07-14T12:24:18.383Z"
   },
   {
    "duration": 218,
    "start_time": "2023-07-14T12:24:18.392Z"
   },
   {
    "duration": 48,
    "start_time": "2023-07-14T12:24:18.613Z"
   },
   {
    "duration": 4,
    "start_time": "2023-07-14T12:24:18.666Z"
   },
   {
    "duration": 55,
    "start_time": "2023-07-14T12:24:18.672Z"
   },
   {
    "duration": 22,
    "start_time": "2023-07-14T12:24:18.728Z"
   },
   {
    "duration": 404,
    "start_time": "2023-07-14T12:24:18.752Z"
   },
   {
    "duration": 406,
    "start_time": "2023-07-14T12:24:19.158Z"
   },
   {
    "duration": 248,
    "start_time": "2023-07-14T12:24:19.567Z"
   },
   {
    "duration": 229,
    "start_time": "2023-07-14T12:24:19.819Z"
   },
   {
    "duration": 4,
    "start_time": "2023-07-14T12:24:20.050Z"
   },
   {
    "duration": 1017,
    "start_time": "2023-07-14T12:24:20.056Z"
   },
   {
    "duration": 164,
    "start_time": "2023-07-14T12:24:21.075Z"
   },
   {
    "duration": 31,
    "start_time": "2023-07-14T12:24:21.241Z"
   },
   {
    "duration": 27,
    "start_time": "2023-07-14T12:24:21.274Z"
   },
   {
    "duration": 881,
    "start_time": "2023-07-14T12:24:21.303Z"
   },
   {
    "duration": 5,
    "start_time": "2023-07-14T12:24:22.185Z"
   },
   {
    "duration": 26,
    "start_time": "2023-07-14T12:24:22.192Z"
   },
   {
    "duration": 13,
    "start_time": "2023-07-14T12:24:22.219Z"
   }
  ],
  "kernelspec": {
   "display_name": "Python 3 (ipykernel)",
   "language": "python",
   "name": "python3"
  },
  "language_info": {
   "codemirror_mode": {
    "name": "ipython",
    "version": 3
   },
   "file_extension": ".py",
   "mimetype": "text/x-python",
   "name": "python",
   "nbconvert_exporter": "python",
   "pygments_lexer": "ipython3",
   "version": "3.11.4"
  },
  "toc": {
   "base_numbering": 1,
   "nav_menu": {},
   "number_sections": true,
   "sideBar": true,
   "skip_h1_title": true,
   "title_cell": "Table of Contents",
   "title_sidebar": "Contents",
   "toc_cell": false,
   "toc_position": {},
   "toc_section_display": true,
   "toc_window_display": false
  }
 },
 "nbformat": 4,
 "nbformat_minor": 5
}
